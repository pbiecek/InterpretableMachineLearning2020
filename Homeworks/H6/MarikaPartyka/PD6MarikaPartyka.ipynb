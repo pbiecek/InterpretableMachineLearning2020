{
 "cells": [
  {
   "cell_type": "markdown",
   "metadata": {},
   "source": [
    "# Praca domowa nr 6 Marika Partyka 14.05.2020"
   ]
  },
  {
   "cell_type": "markdown",
   "metadata": {},
   "source": [
    "## Wstęp - model i dane"
   ]
  },
  {
   "cell_type": "markdown",
   "metadata": {},
   "source": [
    "Do 6 pracy domowej użyłam zbioru danych z wcześniejszych prac domowych, czyli **mushrooms**. Jest to problem klasyfikacji binarnej, w której przewidujemy, czy dany grzyb będzie jadalny (1) czy nie (0). Pierwszy model to RandomForest. Wszystkie zmienne to zmienne kategoryczne, na których zastosowano transformacje *one hot encoding*."
   ]
  },
  {
   "cell_type": "markdown",
   "metadata": {
    "hide_input": true
   },
   "source": [
    "Po takich transformacjach kolumn okazuje się, że model przewiduje w zasadzie bezbłędnie do jakiej klasy należy dany grzyb. Przedstawia to poniższa krzywa ROC."
   ]
  },
  {
   "cell_type": "code",
   "execution_count": 32,
   "metadata": {
    "hide_input": true,
    "scrolled": false
   },
   "outputs": [
    {
     "data": {
      "image/png": "[encoded data removed]",
      "text/plain": [
       "<Figure size 432x288 with 1 Axes>"
      ]
     },
     "metadata": {
      "needs_background": "light"
     },
     "output_type": "display_data"
    }
   ],
   "source": [
    "skplt.metrics.plot_roc(y_true, y_probas)\n",
    "plt.show()"
   ]
  },
  {
   "cell_type": "markdown",
   "metadata": {},
   "source": [
    "W tej prac domowej należało przetestować dwie metody wyjaśniania - **Partial dependence** i **Accumulated local dependence**. Zmiennymi skorelowanymi w tym zbiorze są na przykład **stalk-color-above-ring** i **gill-attachment**. Zobaczmy na wyniki tych dwóch metod dla modelu RandomForest."
   ]
  },
  {
   "cell_type": "markdown",
   "metadata": {},
   "source": [
    "# Partial Dependence, Accumulated - RandomForest"
   ]
  },
  {
   "cell_type": "code",
   "execution_count": 52,
   "metadata": {
    "hide_input": true,
    "scrolled": false
   },
   "outputs": [
    {
     "name": "stderr",
     "output_type": "stream",
     "text": [
      "Calculating ceteris paribus!: 100%|██████████| 22/22 [00:01<00:00, 21.44it/s]\n",
      "Calculating accumulated dependency!: 100%|██████████| 6/6 [00:01<00:00,  5.00it/s]\n",
      "Calculating ceteris paribus!: 100%|██████████| 22/22 [00:01<00:00, 21.40it/s]\n"
     ]
    },
    {
     "data": {
      "application/vnd.plotly.v1+json": {
       "config": {
        "displaylogo": false,
        "modeBarButtonsToRemove": [
         "sendDataToCloud",
         "lasso2d",
         "autoScale2d",
         "select2d",
         "zoom2d",
         "pan2d",
         "zoomIn2d",
         "zoomOut2d",
         "resetScale2d",
         "toggleSpikelines",
         "hoverCompareCartesian",
         "hoverClosestCartesian"
        ],
        "plotlyServerURL": "https://plot.ly",
        "staticPlot": false
       },
       "data": [
        {
         "base": 0,
         "hoverinfo": "text",
         "hoverlabel": {
          "bgcolor": "rgba(0,0,0,0.8)"
         },
         "hovertext": [
          "bruises: f<br>average prediction: 0.4864399999999996<br>label: pdp<br><br>mean observation prediction: <br>0.5120999999999999",
          "bruises: t<br>average prediction: 0.5614199999999997<br>label: pdp<br><br>mean observation prediction: <br>0.5120999999999999"
         ],
         "legendgroup": "pdp",
         "marker": {
          "color": "#8bdcbe"
         },
         "name": "pdp",
         "orientation": "h",
         "showlegend": true,
         "type": "bar",
         "x": [
          0.4864399999999996,
          0.5614199999999997
         ],
         "xaxis": "x",
         "y": [
          "f",
          "t"
         ],
         "yaxis": "y"
        },
        {
         "base": 0,
         "hoverinfo": "text",
         "hoverlabel": {
          "bgcolor": "rgba(0,0,0,0.8)"
         },
         "hovertext": [
          "bruises: f<br>average prediction: 0.4948489473684199<br>label: ale<br><br>mean observation prediction: <br>0.5120999999999999",
          "bruises: t<br>average prediction: 0.5571305007664782<br>label: ale<br><br>mean observation prediction: <br>0.5120999999999999"
         ],
         "legendgroup": "ale",
         "marker": {
          "color": "#4378bf"
         },
         "name": "ale",
         "orientation": "h",
         "showlegend": true,
         "type": "bar",
         "x": [
          0.4948489473684199,
          0.5571305007664782
         ],
         "xaxis": "x",
         "y": [
          "f",
          "t"
         ],
         "yaxis": "y"
        },
        {
         "base": 0,
         "hoverinfo": "text",
         "hoverlabel": {
          "bgcolor": "rgba(0,0,0,0.8)"
         },
         "hovertext": [
          "gill-attachment: a<br>average prediction: 0.5190600000000012<br>label: pdp<br><br>mean observation prediction: <br>0.5120999999999999",
          "gill-attachment: f<br>average prediction: 0.51118<br>label: pdp<br><br>mean observation prediction: <br>0.5120999999999999"
         ],
         "legendgroup": "pdp",
         "marker": {
          "color": "#8bdcbe"
         },
         "name": "pdp",
         "orientation": "h",
         "showlegend": false,
         "type": "bar",
         "x": [
          0.5190600000000012,
          0.51118
         ],
         "xaxis": "x2",
         "y": [
          "a",
          "f"
         ],
         "yaxis": "y2"
        },
        {
         "base": 0,
         "hoverinfo": "text",
         "hoverlabel": {
          "bgcolor": "rgba(0,0,0,0.8)"
         },
         "hovertext": [
          "gill-attachment: a<br>average prediction: 0.4948489473684199<br>label: ale<br><br>mean observation prediction: <br>0.5120999999999999",
          "gill-attachment: f<br>average prediction: 0.4877031568140051<br>label: ale<br><br>mean observation prediction: <br>0.5120999999999999"
         ],
         "legendgroup": "ale",
         "marker": {
          "color": "#4378bf"
         },
         "name": "ale",
         "orientation": "h",
         "showlegend": false,
         "type": "bar",
         "x": [
          0.4948489473684199,
          0.4877031568140051
         ],
         "xaxis": "x2",
         "y": [
          "a",
          "f"
         ],
         "yaxis": "y2"
        },
        {
         "base": 0,
         "hoverinfo": "text",
         "hoverlabel": {
          "bgcolor": "rgba(0,0,0,0.8)"
         },
         "hovertext": [
          "habitat: d<br>average prediction: 0.5108999999999998<br>label: pdp<br><br>mean observation prediction: <br>0.5120999999999999",
          "habitat: g<br>average prediction: 0.48614000000000024<br>label: pdp<br><br>mean observation prediction: <br>0.5120999999999999",
          "habitat: l<br>average prediction: 0.47172000000000003<br>label: pdp<br><br>mean observation prediction: <br>0.5120999999999999",
          "habitat: m<br>average prediction: 0.4706999999999999<br>label: pdp<br><br>mean observation prediction: <br>0.5120999999999999",
          "habitat: p<br>average prediction: 0.4960999999999994<br>label: pdp<br><br>mean observation prediction: <br>0.5120999999999999",
          "habitat: u<br>average prediction: 0.44800000000000056<br>label: pdp<br><br>mean observation prediction: <br>0.5120999999999999",
          "habitat: w<br>average prediction: 0.4918200000000004<br>label: pdp<br><br>mean observation prediction: <br>0.5120999999999999"
         ],
         "legendgroup": "pdp",
         "marker": {
          "color": "#8bdcbe"
         },
         "name": "pdp",
         "orientation": "h",
         "showlegend": false,
         "type": "bar",
         "x": [
          0.5108999999999998,
          0.48614000000000024,
          0.47172000000000003,
          0.4706999999999999,
          0.4960999999999994,
          0.44800000000000056,
          0.4918200000000004
         ],
         "xaxis": "x3",
         "y": [
          "d",
          "g",
          "l",
          "m",
          "p",
          "u",
          "w"
         ],
         "yaxis": "y3"
        },
        {
         "base": 0,
         "hoverinfo": "text",
         "hoverlabel": {
          "bgcolor": "rgba(0,0,0,0.8)"
         },
         "hovertext": [
          "habitat: d<br>average prediction: 0.4948489473684199<br>label: ale<br><br>mean observation prediction: <br>0.5120999999999999",
          "habitat: g<br>average prediction: 0.49988831744716006<br>label: ale<br><br>mean observation prediction: <br>0.5120999999999999",
          "habitat: l<br>average prediction: 0.49028831744716006<br>label: ale<br><br>mean observation prediction: <br>0.5120999999999999",
          "habitat: m<br>average prediction: 0.5449941998001012<br>label: ale<br><br>mean observation prediction: <br>0.5120999999999999",
          "habitat: p<br>average prediction: 0.5470231853073476<br>label: ale<br><br>mean observation prediction: <br>0.5120999999999999",
          "habitat: u<br>average prediction: 0.5457188374812606<br>label: ale<br><br>mean observation prediction: <br>0.5120999999999999",
          "habitat: w<br>average prediction: 0.6669688374812606<br>label: ale<br><br>mean observation prediction: <br>0.5120999999999999"
         ],
         "legendgroup": "ale",
         "marker": {
          "color": "#4378bf"
         },
         "name": "ale",
         "orientation": "h",
         "showlegend": false,
         "type": "bar",
         "x": [
          0.4948489473684199,
          0.49988831744716006,
          0.49028831744716006,
          0.5449941998001012,
          0.5470231853073476,
          0.5457188374812606,
          0.6669688374812606
         ],
         "xaxis": "x3",
         "y": [
          "d",
          "g",
          "l",
          "m",
          "p",
          "u",
          "w"
         ],
         "yaxis": "y3"
        },
        {
         "base": 0,
         "hoverinfo": "text",
         "hoverlabel": {
          "bgcolor": "rgba(0,0,0,0.8)"
         },
         "hovertext": [
          "odor: a<br>average prediction: 0.4965799999999999<br>label: pdp<br><br>mean observation prediction: <br>0.5120999999999999",
          "odor: c<br>average prediction: 0.4137400000000003<br>label: pdp<br><br>mean observation prediction: <br>0.5120999999999999",
          "odor: f<br>average prediction: 0.3332400000000002<br>label: pdp<br><br>mean observation prediction: <br>0.5120999999999999",
          "odor: l<br>average prediction: 0.5080800000000005<br>label: pdp<br><br>mean observation prediction: <br>0.5120999999999999",
          "odor: m<br>average prediction: 0.4703400000000006<br>label: pdp<br><br>mean observation prediction: <br>0.5120999999999999",
          "odor: n<br>average prediction: 0.6291399999999997<br>label: pdp<br><br>mean observation prediction: <br>0.5120999999999999",
          "odor: p<br>average prediction: 0.40668000000000015<br>label: pdp<br><br>mean observation prediction: <br>0.5120999999999999",
          "odor: s<br>average prediction: 0.44588000000000055<br>label: pdp<br><br>mean observation prediction: <br>0.5120999999999999",
          "odor: y<br>average prediction: 0.44086000000000014<br>label: pdp<br><br>mean observation prediction: <br>0.5120999999999999"
         ],
         "legendgroup": "pdp",
         "marker": {
          "color": "#8bdcbe"
         },
         "name": "pdp",
         "orientation": "h",
         "showlegend": false,
         "type": "bar",
         "x": [
          0.4965799999999999,
          0.4137400000000003,
          0.3332400000000002,
          0.5080800000000005,
          0.4703400000000006,
          0.6291399999999997,
          0.40668000000000015,
          0.44588000000000055,
          0.44086000000000014
         ],
         "xaxis": "x4",
         "y": [
          "a",
          "c",
          "f",
          "l",
          "m",
          "n",
          "p",
          "s",
          "y"
         ],
         "yaxis": "y4"
        },
        {
         "base": 0,
         "hoverinfo": "text",
         "hoverlabel": {
          "bgcolor": "rgba(0,0,0,0.8)"
         },
         "hovertext": [
          "odor: a<br>average prediction: 0.4948489473684199<br>label: ale<br><br>mean observation prediction: <br>0.5120999999999999",
          "odor: c<br>average prediction: 0.21984894736841987<br>label: ale<br><br>mean observation prediction: <br>0.5120999999999999",
          "odor: f<br>average prediction: 0.14984894736841986<br>label: ale<br><br>mean observation prediction: <br>0.5120999999999999",
          "odor: l<br>average prediction: 0.47184894736841987<br>label: ale<br><br>mean observation prediction: <br>0.5120999999999999",
          "odor: m<br>average prediction: 0.39184894736841985<br>label: ale<br><br>mean observation prediction: <br>0.5120999999999999",
          "odor: n<br>average prediction: 0.5558579563774289<br>label: ale<br><br>mean observation prediction: <br>0.5120999999999999",
          "odor: p<br>average prediction: 0.1411520740244877<br>label: ale<br><br>mean observation prediction: <br>0.5120999999999999",
          "odor: s<br>average prediction: 0.1391520740244877<br>label: ale<br><br>mean observation prediction: <br>0.5120999999999999",
          "odor: y<br>average prediction: 0.1391520740244877<br>label: ale<br><br>mean observation prediction: <br>0.5120999999999999"
         ],
         "legendgroup": "ale",
         "marker": {
          "color": "#4378bf"
         },
         "name": "ale",
         "orientation": "h",
         "showlegend": false,
         "type": "bar",
         "x": [
          0.4948489473684199,
          0.21984894736841987,
          0.14984894736841986,
          0.47184894736841987,
          0.39184894736841985,
          0.5558579563774289,
          0.1411520740244877,
          0.1391520740244877,
          0.1391520740244877
         ],
         "xaxis": "x4",
         "y": [
          "a",
          "c",
          "f",
          "l",
          "m",
          "n",
          "p",
          "s",
          "y"
         ],
         "yaxis": "y4"
        },
        {
         "base": 0,
         "hoverinfo": "text",
         "hoverlabel": {
          "bgcolor": "rgba(0,0,0,0.8)"
         },
         "hovertext": [
          "stalk-color-above-ring: b<br>average prediction: 0.48806000000000155<br>label: pdp<br><br>mean observation prediction: <br>0.5120999999999999",
          "stalk-color-above-ring: c<br>average prediction: 0.5047400000000004<br>label: pdp<br><br>mean observation prediction: <br>0.5120999999999999",
          "stalk-color-above-ring: e<br>average prediction: 0.5101999999999997<br>label: pdp<br><br>mean observation prediction: <br>0.5120999999999999",
          "stalk-color-above-ring: g<br>average prediction: 0.5152399999999979<br>label: pdp<br><br>mean observation prediction: <br>0.5120999999999999",
          "stalk-color-above-ring: n<br>average prediction: 0.5056600000000009<br>label: pdp<br><br>mean observation prediction: <br>0.5120999999999999",
          "stalk-color-above-ring: o<br>average prediction: 0.5178200000000005<br>label: pdp<br><br>mean observation prediction: <br>0.5120999999999999",
          "stalk-color-above-ring: p<br>average prediction: 0.5059800000000001<br>label: pdp<br><br>mean observation prediction: <br>0.5120999999999999",
          "stalk-color-above-ring: w<br>average prediction: 0.5139399999999998<br>label: pdp<br><br>mean observation prediction: <br>0.5120999999999999",
          "stalk-color-above-ring: y<br>average prediction: 0.5067400000000005<br>label: pdp<br><br>mean observation prediction: <br>0.5120999999999999"
         ],
         "legendgroup": "pdp",
         "marker": {
          "color": "#8bdcbe"
         },
         "name": "pdp",
         "orientation": "h",
         "showlegend": false,
         "type": "bar",
         "x": [
          0.48806000000000155,
          0.5047400000000004,
          0.5101999999999997,
          0.5152399999999979,
          0.5056600000000009,
          0.5178200000000005,
          0.5059800000000001,
          0.5139399999999998,
          0.5067400000000005
         ],
         "xaxis": "x5",
         "y": [
          "b",
          "c",
          "e",
          "g",
          "n",
          "o",
          "p",
          "w",
          "y"
         ],
         "yaxis": "y5"
        },
        {
         "base": 0,
         "hoverinfo": "text",
         "hoverlabel": {
          "bgcolor": "rgba(0,0,0,0.8)"
         },
         "hovertext": [
          "stalk-color-above-ring: b<br>average prediction: 0.4948489473684199<br>label: ale<br><br>mean observation prediction: <br>0.5120999999999999",
          "stalk-color-above-ring: c<br>average prediction: 0.4481822807017532<br>label: ale<br><br>mean observation prediction: <br>0.5120999999999999",
          "stalk-color-above-ring: e<br>average prediction: 0.4561822807017532<br>label: ale<br><br>mean observation prediction: <br>0.5120999999999999",
          "stalk-color-above-ring: g<br>average prediction: 0.4561822807017532<br>label: ale<br><br>mean observation prediction: <br>0.5120999999999999",
          "stalk-color-above-ring: n<br>average prediction: 0.44618228070175325<br>label: ale<br><br>mean observation prediction: <br>0.5120999999999999",
          "stalk-color-above-ring: o<br>average prediction: 0.4811822807017533<br>label: ale<br><br>mean observation prediction: <br>0.5120999999999999",
          "stalk-color-above-ring: p<br>average prediction: 0.4717560511935565<br>label: ale<br><br>mean observation prediction: <br>0.5120999999999999",
          "stalk-color-above-ring: w<br>average prediction: 0.4807228408614532<br>label: ale<br><br>mean observation prediction: <br>0.5120999999999999",
          "stalk-color-above-ring: y<br>average prediction: 0.4007228408614532<br>label: ale<br><br>mean observation prediction: <br>0.5120999999999999"
         ],
         "legendgroup": "ale",
         "marker": {
          "color": "#4378bf"
         },
         "name": "ale",
         "orientation": "h",
         "showlegend": false,
         "type": "bar",
         "x": [
          0.4948489473684199,
          0.4481822807017532,
          0.4561822807017532,
          0.4561822807017532,
          0.44618228070175325,
          0.4811822807017533,
          0.4717560511935565,
          0.4807228408614532,
          0.4007228408614532
         ],
         "xaxis": "x5",
         "y": [
          "b",
          "c",
          "e",
          "g",
          "n",
          "o",
          "p",
          "w",
          "y"
         ],
         "yaxis": "y5"
        },
        {
         "base": 0,
         "hoverinfo": "text",
         "hoverlabel": {
          "bgcolor": "rgba(0,0,0,0.8)"
         },
         "hovertext": [
          "stalk-color-below-ring: b<br>average prediction: 0.5105200000000004<br>label: pdp<br><br>mean observation prediction: <br>0.5120999999999999",
          "stalk-color-below-ring: c<br>average prediction: 0.5036199999999994<br>label: pdp<br><br>mean observation prediction: <br>0.5120999999999999",
          "stalk-color-below-ring: e<br>average prediction: 0.519219999999999<br>label: pdp<br><br>mean observation prediction: <br>0.5120999999999999",
          "stalk-color-below-ring: g<br>average prediction: 0.5347000000000007<br>label: pdp<br><br>mean observation prediction: <br>0.5120999999999999",
          "stalk-color-below-ring: n<br>average prediction: 0.5115000000000002<br>label: pdp<br><br>mean observation prediction: <br>0.5120999999999999",
          "stalk-color-below-ring: o<br>average prediction: 0.5215599999999995<br>label: pdp<br><br>mean observation prediction: <br>0.5120999999999999",
          "stalk-color-below-ring: p<br>average prediction: 0.5145799999999997<br>label: pdp<br><br>mean observation prediction: <br>0.5120999999999999",
          "stalk-color-below-ring: w<br>average prediction: 0.5218599999999998<br>label: pdp<br><br>mean observation prediction: <br>0.5120999999999999",
          "stalk-color-below-ring: y<br>average prediction: 0.5002999999999989<br>label: pdp<br><br>mean observation prediction: <br>0.5120999999999999"
         ],
         "legendgroup": "pdp",
         "marker": {
          "color": "#8bdcbe"
         },
         "name": "pdp",
         "orientation": "h",
         "showlegend": false,
         "type": "bar",
         "x": [
          0.5105200000000004,
          0.5036199999999994,
          0.519219999999999,
          0.5347000000000007,
          0.5115000000000002,
          0.5215599999999995,
          0.5145799999999997,
          0.5218599999999998,
          0.5002999999999989
         ],
         "xaxis": "x6",
         "y": [
          "b",
          "c",
          "e",
          "g",
          "n",
          "o",
          "p",
          "w",
          "y"
         ],
         "yaxis": "y6"
        },
        {
         "base": 0,
         "hoverinfo": "text",
         "hoverlabel": {
          "bgcolor": "rgba(0,0,0,0.8)"
         },
         "hovertext": [
          "stalk-color-below-ring: b<br>average prediction: 0.4948489473684199<br>label: ale<br><br>mean observation prediction: <br>0.5120999999999999",
          "stalk-color-below-ring: c<br>average prediction: 0.46151561403508656<br>label: ale<br><br>mean observation prediction: <br>0.5120999999999999",
          "stalk-color-below-ring: e<br>average prediction: 0.48818228070175324<br>label: ale<br><br>mean observation prediction: <br>0.5120999999999999",
          "stalk-color-below-ring: g<br>average prediction: 0.48818228070175324<br>label: ale<br><br>mean observation prediction: <br>0.5120999999999999",
          "stalk-color-below-ring: n<br>average prediction: 0.45818228070175326<br>label: ale<br><br>mean observation prediction: <br>0.5120999999999999",
          "stalk-color-below-ring: o<br>average prediction: 0.5031822807017533<br>label: ale<br><br>mean observation prediction: <br>0.5120999999999999",
          "stalk-color-below-ring: p<br>average prediction: 0.495122579209216<br>label: ale<br><br>mean observation prediction: <br>0.5120999999999999",
          "stalk-color-below-ring: w<br>average prediction: 0.49004739123929114<br>label: ale<br><br>mean observation prediction: <br>0.5120999999999999",
          "stalk-color-below-ring: y<br>average prediction: 0.38504739123929116<br>label: ale<br><br>mean observation prediction: <br>0.5120999999999999"
         ],
         "legendgroup": "ale",
         "marker": {
          "color": "#4378bf"
         },
         "name": "ale",
         "orientation": "h",
         "showlegend": false,
         "type": "bar",
         "x": [
          0.4948489473684199,
          0.46151561403508656,
          0.48818228070175324,
          0.48818228070175324,
          0.45818228070175326,
          0.5031822807017533,
          0.495122579209216,
          0.49004739123929114,
          0.38504739123929116
         ],
         "xaxis": "x6",
         "y": [
          "b",
          "c",
          "e",
          "g",
          "n",
          "o",
          "p",
          "w",
          "y"
         ],
         "yaxis": "y6"
        }
       ],
       "layout": {
        "annotations": [
         {
          "font": {
           "size": 16
          },
          "showarrow": false,
          "text": "bruises",
          "x": 0.225,
          "xanchor": "center",
          "xref": "paper",
          "y": 1,
          "yanchor": "bottom",
          "yref": "paper"
         },
         {
          "font": {
           "size": 16
          },
          "showarrow": false,
          "text": "gill-attachment",
          "x": 0.775,
          "xanchor": "center",
          "xref": "paper",
          "y": 1,
          "yanchor": "bottom",
          "yref": "paper"
         },
         {
          "font": {
           "size": 16
          },
          "showarrow": false,
          "text": "habitat",
          "x": 0.225,
          "xanchor": "center",
          "xref": "paper",
          "y": 0.6499999999999999,
          "yanchor": "bottom",
          "yref": "paper"
         },
         {
          "font": {
           "size": 16
          },
          "showarrow": false,
          "text": "odor",
          "x": 0.775,
          "xanchor": "center",
          "xref": "paper",
          "y": 0.6499999999999999,
          "yanchor": "bottom",
          "yref": "paper"
         },
         {
          "font": {
           "size": 16
          },
          "showarrow": false,
          "text": "stalk-color-above-ring",
          "x": 0.225,
          "xanchor": "center",
          "xref": "paper",
          "y": 0.3,
          "yanchor": "bottom",
          "yref": "paper"
         },
         {
          "font": {
           "size": 16
          },
          "showarrow": false,
          "text": "stalk-color-below-ring",
          "x": 0.775,
          "xanchor": "center",
          "xref": "paper",
          "y": 0.3,
          "yanchor": "bottom",
          "yref": "paper"
         },
         {
          "font": {
           "size": 16
          },
          "showarrow": false,
          "text": "prediction",
          "x": 0.5,
          "xanchor": "center",
          "xref": "paper",
          "y": 0,
          "yanchor": "top",
          "yref": "paper",
          "yshift": -30
         }
        ],
        "font": {
         "color": "#371ea3"
        },
        "height": 1169,
        "hovermode": "closest",
        "margin": {
         "b": 71,
         "r": 30,
         "t": 78
        },
        "shapes": [
         {
          "line": {
           "color": "#371ea3",
           "dash": "dot",
           "width": 1.5
          },
          "type": "line",
          "x0": 0,
          "x1": 0,
          "xref": "x",
          "y0": 0,
          "y1": 1,
          "yref": "y"
         },
         {
          "line": {
           "color": "#371ea3",
           "dash": "dot",
           "width": 1.5
          },
          "type": "line",
          "x0": 0,
          "x1": 0,
          "xref": "x",
          "y0": 0,
          "y1": 1,
          "yref": "y"
         },
         {
          "line": {
           "color": "#371ea3",
           "dash": "dot",
           "width": 1.5
          },
          "type": "line",
          "x0": 0,
          "x1": 0,
          "xref": "x2",
          "y0": 0,
          "y1": 1,
          "yref": "y2"
         },
         {
          "line": {
           "color": "#371ea3",
           "dash": "dot",
           "width": 1.5
          },
          "type": "line",
          "x0": 0,
          "x1": 0,
          "xref": "x2",
          "y0": 0,
          "y1": 1,
          "yref": "y2"
         },
         {
          "line": {
           "color": "#371ea3",
           "dash": "dot",
           "width": 1.5
          },
          "type": "line",
          "x0": 0,
          "x1": 0,
          "xref": "x3",
          "y0": 0,
          "y1": 6,
          "yref": "y3"
         },
         {
          "line": {
           "color": "#371ea3",
           "dash": "dot",
           "width": 1.5
          },
          "type": "line",
          "x0": 0,
          "x1": 0,
          "xref": "x3",
          "y0": 0,
          "y1": 6,
          "yref": "y3"
         },
         {
          "line": {
           "color": "#371ea3",
           "dash": "dot",
           "width": 1.5
          },
          "type": "line",
          "x0": 0,
          "x1": 0,
          "xref": "x4",
          "y0": 0,
          "y1": 8,
          "yref": "y4"
         },
         {
          "line": {
           "color": "#371ea3",
           "dash": "dot",
           "width": 1.5
          },
          "type": "line",
          "x0": 0,
          "x1": 0,
          "xref": "x4",
          "y0": 0,
          "y1": 8,
          "yref": "y4"
         },
         {
          "line": {
           "color": "#371ea3",
           "dash": "dot",
           "width": 1.5
          },
          "type": "line",
          "x0": 0,
          "x1": 0,
          "xref": "x5",
          "y0": 0,
          "y1": 8,
          "yref": "y5"
         },
         {
          "line": {
           "color": "#371ea3",
           "dash": "dot",
           "width": 1.5
          },
          "type": "line",
          "x0": 0,
          "x1": 0,
          "xref": "x5",
          "y0": 0,
          "y1": 8,
          "yref": "y5"
         },
         {
          "line": {
           "color": "#371ea3",
           "dash": "dot",
           "width": 1.5
          },
          "type": "line",
          "x0": 0,
          "x1": 0,
          "xref": "x6",
          "y0": 0,
          "y1": 8,
          "yref": "y6"
         },
         {
          "line": {
           "color": "#371ea3",
           "dash": "dot",
           "width": 1.5
          },
          "type": "line",
          "x0": 0,
          "x1": 0,
          "xref": "x6",
          "y0": 0,
          "y1": 8,
          "yref": "y6"
         }
        ],
        "template": {
         "data": {
          "scatter": [
           {
            "type": "scatter"
           }
          ]
         }
        },
        "title": {
         "text": "Aggregated Profiles",
         "x": 0.15
        },
        "xaxis": {
         "anchor": "y",
         "automargin": true,
         "domain": [
          0,
          0.45
         ],
         "fixedrange": true,
         "gridwidth": 2,
         "range": [
          0.05997955950597178,
          0.7461413519997765
         ],
         "tickcolor": "white",
         "ticklen": 3,
         "ticks": "outside",
         "type": "linear",
         "zeroline": false
        },
        "xaxis2": {
         "anchor": "y2",
         "automargin": true,
         "domain": [
          0.55,
          1
         ],
         "fixedrange": true,
         "gridwidth": 2,
         "range": [
          0.05997955950597178,
          0.7461413519997765
         ],
         "tickcolor": "white",
         "ticklen": 3,
         "ticks": "outside",
         "type": "linear",
         "zeroline": false
        },
        "xaxis3": {
         "anchor": "y3",
         "automargin": true,
         "domain": [
          0,
          0.45
         ],
         "fixedrange": true,
         "gridwidth": 2,
         "range": [
          0.05997955950597178,
          0.7461413519997765
         ],
         "tickcolor": "white",
         "ticklen": 3,
         "ticks": "outside",
         "type": "linear",
         "zeroline": false
        },
        "xaxis4": {
         "anchor": "y4",
         "automargin": true,
         "domain": [
          0.55,
          1
         ],
         "fixedrange": true,
         "gridwidth": 2,
         "range": [
          0.05997955950597178,
          0.7461413519997765
         ],
         "tickcolor": "white",
         "ticklen": 3,
         "ticks": "outside",
         "type": "linear",
         "zeroline": false
        },
        "xaxis5": {
         "anchor": "y5",
         "automargin": true,
         "domain": [
          0,
          0.45
         ],
         "fixedrange": true,
         "gridwidth": 2,
         "range": [
          0.05997955950597178,
          0.7461413519997765
         ],
         "tickcolor": "white",
         "ticklen": 3,
         "ticks": "outside",
         "type": "linear",
         "zeroline": false
        },
        "xaxis6": {
         "anchor": "y6",
         "automargin": true,
         "domain": [
          0.55,
          1
         ],
         "fixedrange": true,
         "gridwidth": 2,
         "range": [
          0.05997955950597178,
          0.7461413519997765
         ],
         "tickcolor": "white",
         "ticklen": 3,
         "ticks": "outside",
         "type": "linear",
         "zeroline": false
        },
        "yaxis": {
         "anchor": "x",
         "automargin": true,
         "autorange": "reversed",
         "domain": [
          0.7,
          1
         ],
         "fixedrange": true,
         "gridwidth": 2,
         "tickcolor": "white",
         "ticklen": 10,
         "ticks": "outside",
         "type": "category"
        },
        "yaxis2": {
         "anchor": "x2",
         "automargin": true,
         "autorange": "reversed",
         "domain": [
          0.7,
          1
         ],
         "fixedrange": true,
         "gridwidth": 2,
         "tickcolor": "white",
         "ticklen": 10,
         "ticks": "outside",
         "type": "category"
        },
        "yaxis3": {
         "anchor": "x3",
         "automargin": true,
         "autorange": "reversed",
         "domain": [
          0.35,
          0.6499999999999999
         ],
         "fixedrange": true,
         "gridwidth": 2,
         "tickcolor": "white",
         "ticklen": 10,
         "ticks": "outside",
         "type": "category"
        },
        "yaxis4": {
         "anchor": "x4",
         "automargin": true,
         "autorange": "reversed",
         "domain": [
          0.35,
          0.6499999999999999
         ],
         "fixedrange": true,
         "gridwidth": 2,
         "tickcolor": "white",
         "ticklen": 10,
         "ticks": "outside",
         "type": "category"
        },
        "yaxis5": {
         "anchor": "x5",
         "automargin": true,
         "autorange": "reversed",
         "domain": [
          0,
          0.3
         ],
         "fixedrange": true,
         "gridwidth": 2,
         "tickcolor": "white",
         "ticklen": 10,
         "ticks": "outside",
         "type": "category"
        },
        "yaxis6": {
         "anchor": "x6",
         "automargin": true,
         "autorange": "reversed",
         "domain": [
          0,
          0.3
         ],
         "fixedrange": true,
         "gridwidth": 2,
         "tickcolor": "white",
         "ticklen": 10,
         "ticks": "outside",
         "type": "category"
        }
       }
      },
      "text/html": [
       "<div>\n",
       "        \n",
       "        \n",
       "            <div id=\"3d14b504-e174-4c21-aac7-1b4515a08f39\" class=\"plotly-graph-div\" style=\"height:1169px; width:100%;\"></div>\n",
       "            <script type=\"text/javascript\">\n",
       "                require([\"plotly\"], function(Plotly) {\n",
       "                    window.PLOTLYENV=window.PLOTLYENV || {};\n",
       "                    \n",
       "                if (document.getElementById(\"3d14b504-e174-4c21-aac7-1b4515a08f39\")) {\n",
       "                    Plotly.newPlot(\n",
       "                        '3d14b504-e174-4c21-aac7-1b4515a08f39',\n",
       "                        [{\"base\": 0, \"hoverinfo\": \"text\", \"hoverlabel\": {\"bgcolor\": \"rgba(0,0,0,0.8)\"}, \"hovertext\": [\"bruises: f<br>average prediction: 0.4864399999999996<br>label: pdp<br><br>mean observation prediction: <br>0.5120999999999999\", \"bruises: t<br>average prediction: 0.5614199999999997<br>label: pdp<br><br>mean observation prediction: <br>0.5120999999999999\"], \"legendgroup\": \"pdp\", \"marker\": {\"color\": \"#8bdcbe\"}, \"name\": \"pdp\", \"orientation\": \"h\", \"showlegend\": true, \"type\": \"bar\", \"x\": [0.4864399999999996, 0.5614199999999997], \"xaxis\": \"x\", \"y\": [\"f\", \"t\"], \"yaxis\": \"y\"}, {\"base\": 0, \"hoverinfo\": \"text\", \"hoverlabel\": {\"bgcolor\": \"rgba(0,0,0,0.8)\"}, \"hovertext\": [\"bruises: f<br>average prediction: 0.4948489473684199<br>label: ale<br><br>mean observation prediction: <br>0.5120999999999999\", \"bruises: t<br>average prediction: 0.5571305007664782<br>label: ale<br><br>mean observation prediction: <br>0.5120999999999999\"], \"legendgroup\": \"ale\", \"marker\": {\"color\": \"#4378bf\"}, \"name\": \"ale\", \"orientation\": \"h\", \"showlegend\": true, \"type\": \"bar\", \"x\": [0.4948489473684199, 0.5571305007664782], \"xaxis\": \"x\", \"y\": [\"f\", \"t\"], \"yaxis\": \"y\"}, {\"base\": 0, \"hoverinfo\": \"text\", \"hoverlabel\": {\"bgcolor\": \"rgba(0,0,0,0.8)\"}, \"hovertext\": [\"gill-attachment: a<br>average prediction: 0.5190600000000012<br>label: pdp<br><br>mean observation prediction: <br>0.5120999999999999\", \"gill-attachment: f<br>average prediction: 0.51118<br>label: pdp<br><br>mean observation prediction: <br>0.5120999999999999\"], \"legendgroup\": \"pdp\", \"marker\": {\"color\": \"#8bdcbe\"}, \"name\": \"pdp\", \"orientation\": \"h\", \"showlegend\": false, \"type\": \"bar\", \"x\": [0.5190600000000012, 0.51118], \"xaxis\": \"x2\", \"y\": [\"a\", \"f\"], \"yaxis\": \"y2\"}, {\"base\": 0, \"hoverinfo\": \"text\", \"hoverlabel\": {\"bgcolor\": \"rgba(0,0,0,0.8)\"}, \"hovertext\": [\"gill-attachment: a<br>average prediction: 0.4948489473684199<br>label: ale<br><br>mean observation prediction: <br>0.5120999999999999\", \"gill-attachment: f<br>average prediction: 0.4877031568140051<br>label: ale<br><br>mean observation prediction: <br>0.5120999999999999\"], \"legendgroup\": \"ale\", \"marker\": {\"color\": \"#4378bf\"}, \"name\": \"ale\", \"orientation\": \"h\", \"showlegend\": false, \"type\": \"bar\", \"x\": [0.4948489473684199, 0.4877031568140051], \"xaxis\": \"x2\", \"y\": [\"a\", \"f\"], \"yaxis\": \"y2\"}, {\"base\": 0, \"hoverinfo\": \"text\", \"hoverlabel\": {\"bgcolor\": \"rgba(0,0,0,0.8)\"}, \"hovertext\": [\"habitat: d<br>average prediction: 0.5108999999999998<br>label: pdp<br><br>mean observation prediction: <br>0.5120999999999999\", \"habitat: g<br>average prediction: 0.48614000000000024<br>label: pdp<br><br>mean observation prediction: <br>0.5120999999999999\", \"habitat: l<br>average prediction: 0.47172000000000003<br>label: pdp<br><br>mean observation prediction: <br>0.5120999999999999\", \"habitat: m<br>average prediction: 0.4706999999999999<br>label: pdp<br><br>mean observation prediction: <br>0.5120999999999999\", \"habitat: p<br>average prediction: 0.4960999999999994<br>label: pdp<br><br>mean observation prediction: <br>0.5120999999999999\", \"habitat: u<br>average prediction: 0.44800000000000056<br>label: pdp<br><br>mean observation prediction: <br>0.5120999999999999\", \"habitat: w<br>average prediction: 0.4918200000000004<br>label: pdp<br><br>mean observation prediction: <br>0.5120999999999999\"], \"legendgroup\": \"pdp\", \"marker\": {\"color\": \"#8bdcbe\"}, \"name\": \"pdp\", \"orientation\": \"h\", \"showlegend\": false, \"type\": \"bar\", \"x\": [0.5108999999999998, 0.48614000000000024, 0.47172000000000003, 0.4706999999999999, 0.4960999999999994, 0.44800000000000056, 0.4918200000000004], \"xaxis\": \"x3\", \"y\": [\"d\", \"g\", \"l\", \"m\", \"p\", \"u\", \"w\"], \"yaxis\": \"y3\"}, {\"base\": 0, \"hoverinfo\": \"text\", \"hoverlabel\": {\"bgcolor\": \"rgba(0,0,0,0.8)\"}, \"hovertext\": [\"habitat: d<br>average prediction: 0.4948489473684199<br>label: ale<br><br>mean observation prediction: <br>0.5120999999999999\", \"habitat: g<br>average prediction: 0.49988831744716006<br>label: ale<br><br>mean observation prediction: <br>0.5120999999999999\", \"habitat: l<br>average prediction: 0.49028831744716006<br>label: ale<br><br>mean observation prediction: <br>0.5120999999999999\", \"habitat: m<br>average prediction: 0.5449941998001012<br>label: ale<br><br>mean observation prediction: <br>0.5120999999999999\", \"habitat: p<br>average prediction: 0.5470231853073476<br>label: ale<br><br>mean observation prediction: <br>0.5120999999999999\", \"habitat: u<br>average prediction: 0.5457188374812606<br>label: ale<br><br>mean observation prediction: <br>0.5120999999999999\", \"habitat: w<br>average prediction: 0.6669688374812606<br>label: ale<br><br>mean observation prediction: <br>0.5120999999999999\"], \"legendgroup\": \"ale\", \"marker\": {\"color\": \"#4378bf\"}, \"name\": \"ale\", \"orientation\": \"h\", \"showlegend\": false, \"type\": \"bar\", \"x\": [0.4948489473684199, 0.49988831744716006, 0.49028831744716006, 0.5449941998001012, 0.5470231853073476, 0.5457188374812606, 0.6669688374812606], \"xaxis\": \"x3\", \"y\": [\"d\", \"g\", \"l\", \"m\", \"p\", \"u\", \"w\"], \"yaxis\": \"y3\"}, {\"base\": 0, \"hoverinfo\": \"text\", \"hoverlabel\": {\"bgcolor\": \"rgba(0,0,0,0.8)\"}, \"hovertext\": [\"odor: a<br>average prediction: 0.4965799999999999<br>label: pdp<br><br>mean observation prediction: <br>0.5120999999999999\", \"odor: c<br>average prediction: 0.4137400000000003<br>label: pdp<br><br>mean observation prediction: <br>0.5120999999999999\", \"odor: f<br>average prediction: 0.3332400000000002<br>label: pdp<br><br>mean observation prediction: <br>0.5120999999999999\", \"odor: l<br>average prediction: 0.5080800000000005<br>label: pdp<br><br>mean observation prediction: <br>0.5120999999999999\", \"odor: m<br>average prediction: 0.4703400000000006<br>label: pdp<br><br>mean observation prediction: <br>0.5120999999999999\", \"odor: n<br>average prediction: 0.6291399999999997<br>label: pdp<br><br>mean observation prediction: <br>0.5120999999999999\", \"odor: p<br>average prediction: 0.40668000000000015<br>label: pdp<br><br>mean observation prediction: <br>0.5120999999999999\", \"odor: s<br>average prediction: 0.44588000000000055<br>label: pdp<br><br>mean observation prediction: <br>0.5120999999999999\", \"odor: y<br>average prediction: 0.44086000000000014<br>label: pdp<br><br>mean observation prediction: <br>0.5120999999999999\"], \"legendgroup\": \"pdp\", \"marker\": {\"color\": \"#8bdcbe\"}, \"name\": \"pdp\", \"orientation\": \"h\", \"showlegend\": false, \"type\": \"bar\", \"x\": [0.4965799999999999, 0.4137400000000003, 0.3332400000000002, 0.5080800000000005, 0.4703400000000006, 0.6291399999999997, 0.40668000000000015, 0.44588000000000055, 0.44086000000000014], \"xaxis\": \"x4\", \"y\": [\"a\", \"c\", \"f\", \"l\", \"m\", \"n\", \"p\", \"s\", \"y\"], \"yaxis\": \"y4\"}, {\"base\": 0, \"hoverinfo\": \"text\", \"hoverlabel\": {\"bgcolor\": \"rgba(0,0,0,0.8)\"}, \"hovertext\": [\"odor: a<br>average prediction: 0.4948489473684199<br>label: ale<br><br>mean observation prediction: <br>0.5120999999999999\", \"odor: c<br>average prediction: 0.21984894736841987<br>label: ale<br><br>mean observation prediction: <br>0.5120999999999999\", \"odor: f<br>average prediction: 0.14984894736841986<br>label: ale<br><br>mean observation prediction: <br>0.5120999999999999\", \"odor: l<br>average prediction: 0.47184894736841987<br>label: ale<br><br>mean observation prediction: <br>0.5120999999999999\", \"odor: m<br>average prediction: 0.39184894736841985<br>label: ale<br><br>mean observation prediction: <br>0.5120999999999999\", \"odor: n<br>average prediction: 0.5558579563774289<br>label: ale<br><br>mean observation prediction: <br>0.5120999999999999\", \"odor: p<br>average prediction: 0.1411520740244877<br>label: ale<br><br>mean observation prediction: <br>0.5120999999999999\", \"odor: s<br>average prediction: 0.1391520740244877<br>label: ale<br><br>mean observation prediction: <br>0.5120999999999999\", \"odor: y<br>average prediction: 0.1391520740244877<br>label: ale<br><br>mean observation prediction: <br>0.5120999999999999\"], \"legendgroup\": \"ale\", \"marker\": {\"color\": \"#4378bf\"}, \"name\": \"ale\", \"orientation\": \"h\", \"showlegend\": false, \"type\": \"bar\", \"x\": [0.4948489473684199, 0.21984894736841987, 0.14984894736841986, 0.47184894736841987, 0.39184894736841985, 0.5558579563774289, 0.1411520740244877, 0.1391520740244877, 0.1391520740244877], \"xaxis\": \"x4\", \"y\": [\"a\", \"c\", \"f\", \"l\", \"m\", \"n\", \"p\", \"s\", \"y\"], \"yaxis\": \"y4\"}, {\"base\": 0, \"hoverinfo\": \"text\", \"hoverlabel\": {\"bgcolor\": \"rgba(0,0,0,0.8)\"}, \"hovertext\": [\"stalk-color-above-ring: b<br>average prediction: 0.48806000000000155<br>label: pdp<br><br>mean observation prediction: <br>0.5120999999999999\", \"stalk-color-above-ring: c<br>average prediction: 0.5047400000000004<br>label: pdp<br><br>mean observation prediction: <br>0.5120999999999999\", \"stalk-color-above-ring: e<br>average prediction: 0.5101999999999997<br>label: pdp<br><br>mean observation prediction: <br>0.5120999999999999\", \"stalk-color-above-ring: g<br>average prediction: 0.5152399999999979<br>label: pdp<br><br>mean observation prediction: <br>0.5120999999999999\", \"stalk-color-above-ring: n<br>average prediction: 0.5056600000000009<br>label: pdp<br><br>mean observation prediction: <br>0.5120999999999999\", \"stalk-color-above-ring: o<br>average prediction: 0.5178200000000005<br>label: pdp<br><br>mean observation prediction: <br>0.5120999999999999\", \"stalk-color-above-ring: p<br>average prediction: 0.5059800000000001<br>label: pdp<br><br>mean observation prediction: <br>0.5120999999999999\", \"stalk-color-above-ring: w<br>average prediction: 0.5139399999999998<br>label: pdp<br><br>mean observation prediction: <br>0.5120999999999999\", \"stalk-color-above-ring: y<br>average prediction: 0.5067400000000005<br>label: pdp<br><br>mean observation prediction: <br>0.5120999999999999\"], \"legendgroup\": \"pdp\", \"marker\": {\"color\": \"#8bdcbe\"}, \"name\": \"pdp\", \"orientation\": \"h\", \"showlegend\": false, \"type\": \"bar\", \"x\": [0.48806000000000155, 0.5047400000000004, 0.5101999999999997, 0.5152399999999979, 0.5056600000000009, 0.5178200000000005, 0.5059800000000001, 0.5139399999999998, 0.5067400000000005], \"xaxis\": \"x5\", \"y\": [\"b\", \"c\", \"e\", \"g\", \"n\", \"o\", \"p\", \"w\", \"y\"], \"yaxis\": \"y5\"}, {\"base\": 0, \"hoverinfo\": \"text\", \"hoverlabel\": {\"bgcolor\": \"rgba(0,0,0,0.8)\"}, \"hovertext\": [\"stalk-color-above-ring: b<br>average prediction: 0.4948489473684199<br>label: ale<br><br>mean observation prediction: <br>0.5120999999999999\", \"stalk-color-above-ring: c<br>average prediction: 0.4481822807017532<br>label: ale<br><br>mean observation prediction: <br>0.5120999999999999\", \"stalk-color-above-ring: e<br>average prediction: 0.4561822807017532<br>label: ale<br><br>mean observation prediction: <br>0.5120999999999999\", \"stalk-color-above-ring: g<br>average prediction: 0.4561822807017532<br>label: ale<br><br>mean observation prediction: <br>0.5120999999999999\", \"stalk-color-above-ring: n<br>average prediction: 0.44618228070175325<br>label: ale<br><br>mean observation prediction: <br>0.5120999999999999\", \"stalk-color-above-ring: o<br>average prediction: 0.4811822807017533<br>label: ale<br><br>mean observation prediction: <br>0.5120999999999999\", \"stalk-color-above-ring: p<br>average prediction: 0.4717560511935565<br>label: ale<br><br>mean observation prediction: <br>0.5120999999999999\", \"stalk-color-above-ring: w<br>average prediction: 0.4807228408614532<br>label: ale<br><br>mean observation prediction: <br>0.5120999999999999\", \"stalk-color-above-ring: y<br>average prediction: 0.4007228408614532<br>label: ale<br><br>mean observation prediction: <br>0.5120999999999999\"], \"legendgroup\": \"ale\", \"marker\": {\"color\": \"#4378bf\"}, \"name\": \"ale\", \"orientation\": \"h\", \"showlegend\": false, \"type\": \"bar\", \"x\": [0.4948489473684199, 0.4481822807017532, 0.4561822807017532, 0.4561822807017532, 0.44618228070175325, 0.4811822807017533, 0.4717560511935565, 0.4807228408614532, 0.4007228408614532], \"xaxis\": \"x5\", \"y\": [\"b\", \"c\", \"e\", \"g\", \"n\", \"o\", \"p\", \"w\", \"y\"], \"yaxis\": \"y5\"}, {\"base\": 0, \"hoverinfo\": \"text\", \"hoverlabel\": {\"bgcolor\": \"rgba(0,0,0,0.8)\"}, \"hovertext\": [\"stalk-color-below-ring: b<br>average prediction: 0.5105200000000004<br>label: pdp<br><br>mean observation prediction: <br>0.5120999999999999\", \"stalk-color-below-ring: c<br>average prediction: 0.5036199999999994<br>label: pdp<br><br>mean observation prediction: <br>0.5120999999999999\", \"stalk-color-below-ring: e<br>average prediction: 0.519219999999999<br>label: pdp<br><br>mean observation prediction: <br>0.5120999999999999\", \"stalk-color-below-ring: g<br>average prediction: 0.5347000000000007<br>label: pdp<br><br>mean observation prediction: <br>0.5120999999999999\", \"stalk-color-below-ring: n<br>average prediction: 0.5115000000000002<br>label: pdp<br><br>mean observation prediction: <br>0.5120999999999999\", \"stalk-color-below-ring: o<br>average prediction: 0.5215599999999995<br>label: pdp<br><br>mean observation prediction: <br>0.5120999999999999\", \"stalk-color-below-ring: p<br>average prediction: 0.5145799999999997<br>label: pdp<br><br>mean observation prediction: <br>0.5120999999999999\", \"stalk-color-below-ring: w<br>average prediction: 0.5218599999999998<br>label: pdp<br><br>mean observation prediction: <br>0.5120999999999999\", \"stalk-color-below-ring: y<br>average prediction: 0.5002999999999989<br>label: pdp<br><br>mean observation prediction: <br>0.5120999999999999\"], \"legendgroup\": \"pdp\", \"marker\": {\"color\": \"#8bdcbe\"}, \"name\": \"pdp\", \"orientation\": \"h\", \"showlegend\": false, \"type\": \"bar\", \"x\": [0.5105200000000004, 0.5036199999999994, 0.519219999999999, 0.5347000000000007, 0.5115000000000002, 0.5215599999999995, 0.5145799999999997, 0.5218599999999998, 0.5002999999999989], \"xaxis\": \"x6\", \"y\": [\"b\", \"c\", \"e\", \"g\", \"n\", \"o\", \"p\", \"w\", \"y\"], \"yaxis\": \"y6\"}, {\"base\": 0, \"hoverinfo\": \"text\", \"hoverlabel\": {\"bgcolor\": \"rgba(0,0,0,0.8)\"}, \"hovertext\": [\"stalk-color-below-ring: b<br>average prediction: 0.4948489473684199<br>label: ale<br><br>mean observation prediction: <br>0.5120999999999999\", \"stalk-color-below-ring: c<br>average prediction: 0.46151561403508656<br>label: ale<br><br>mean observation prediction: <br>0.5120999999999999\", \"stalk-color-below-ring: e<br>average prediction: 0.48818228070175324<br>label: ale<br><br>mean observation prediction: <br>0.5120999999999999\", \"stalk-color-below-ring: g<br>average prediction: 0.48818228070175324<br>label: ale<br><br>mean observation prediction: <br>0.5120999999999999\", \"stalk-color-below-ring: n<br>average prediction: 0.45818228070175326<br>label: ale<br><br>mean observation prediction: <br>0.5120999999999999\", \"stalk-color-below-ring: o<br>average prediction: 0.5031822807017533<br>label: ale<br><br>mean observation prediction: <br>0.5120999999999999\", \"stalk-color-below-ring: p<br>average prediction: 0.495122579209216<br>label: ale<br><br>mean observation prediction: <br>0.5120999999999999\", \"stalk-color-below-ring: w<br>average prediction: 0.49004739123929114<br>label: ale<br><br>mean observation prediction: <br>0.5120999999999999\", \"stalk-color-below-ring: y<br>average prediction: 0.38504739123929116<br>label: ale<br><br>mean observation prediction: <br>0.5120999999999999\"], \"legendgroup\": \"ale\", \"marker\": {\"color\": \"#4378bf\"}, \"name\": \"ale\", \"orientation\": \"h\", \"showlegend\": false, \"type\": \"bar\", \"x\": [0.4948489473684199, 0.46151561403508656, 0.48818228070175324, 0.48818228070175324, 0.45818228070175326, 0.5031822807017533, 0.495122579209216, 0.49004739123929114, 0.38504739123929116], \"xaxis\": \"x6\", \"y\": [\"b\", \"c\", \"e\", \"g\", \"n\", \"o\", \"p\", \"w\", \"y\"], \"yaxis\": \"y6\"}],\n",
       "                        {\"annotations\": [{\"font\": {\"size\": 16}, \"showarrow\": false, \"text\": \"bruises\", \"x\": 0.225, \"xanchor\": \"center\", \"xref\": \"paper\", \"y\": 1.0, \"yanchor\": \"bottom\", \"yref\": \"paper\"}, {\"font\": {\"size\": 16}, \"showarrow\": false, \"text\": \"gill-attachment\", \"x\": 0.775, \"xanchor\": \"center\", \"xref\": \"paper\", \"y\": 1.0, \"yanchor\": \"bottom\", \"yref\": \"paper\"}, {\"font\": {\"size\": 16}, \"showarrow\": false, \"text\": \"habitat\", \"x\": 0.225, \"xanchor\": \"center\", \"xref\": \"paper\", \"y\": 0.6499999999999999, \"yanchor\": \"bottom\", \"yref\": \"paper\"}, {\"font\": {\"size\": 16}, \"showarrow\": false, \"text\": \"odor\", \"x\": 0.775, \"xanchor\": \"center\", \"xref\": \"paper\", \"y\": 0.6499999999999999, \"yanchor\": \"bottom\", \"yref\": \"paper\"}, {\"font\": {\"size\": 16}, \"showarrow\": false, \"text\": \"stalk-color-above-ring\", \"x\": 0.225, \"xanchor\": \"center\", \"xref\": \"paper\", \"y\": 0.3, \"yanchor\": \"bottom\", \"yref\": \"paper\"}, {\"font\": {\"size\": 16}, \"showarrow\": false, \"text\": \"stalk-color-below-ring\", \"x\": 0.775, \"xanchor\": \"center\", \"xref\": \"paper\", \"y\": 0.3, \"yanchor\": \"bottom\", \"yref\": \"paper\"}, {\"font\": {\"size\": 16}, \"showarrow\": false, \"text\": \"prediction\", \"x\": 0.5, \"xanchor\": \"center\", \"xref\": \"paper\", \"y\": 0, \"yanchor\": \"top\", \"yref\": \"paper\", \"yshift\": -30}], \"font\": {\"color\": \"#371ea3\"}, \"height\": 1169, \"hovermode\": \"closest\", \"margin\": {\"b\": 71, \"r\": 30, \"t\": 78}, \"shapes\": [{\"line\": {\"color\": \"#371ea3\", \"dash\": \"dot\", \"width\": 1.5}, \"type\": \"line\", \"x0\": 0, \"x1\": 0, \"xref\": \"x\", \"y0\": 0, \"y1\": 1, \"yref\": \"y\"}, {\"line\": {\"color\": \"#371ea3\", \"dash\": \"dot\", \"width\": 1.5}, \"type\": \"line\", \"x0\": 0, \"x1\": 0, \"xref\": \"x\", \"y0\": 0, \"y1\": 1, \"yref\": \"y\"}, {\"line\": {\"color\": \"#371ea3\", \"dash\": \"dot\", \"width\": 1.5}, \"type\": \"line\", \"x0\": 0, \"x1\": 0, \"xref\": \"x2\", \"y0\": 0, \"y1\": 1, \"yref\": \"y2\"}, {\"line\": {\"color\": \"#371ea3\", \"dash\": \"dot\", \"width\": 1.5}, \"type\": \"line\", \"x0\": 0, \"x1\": 0, \"xref\": \"x2\", \"y0\": 0, \"y1\": 1, \"yref\": \"y2\"}, {\"line\": {\"color\": \"#371ea3\", \"dash\": \"dot\", \"width\": 1.5}, \"type\": \"line\", \"x0\": 0, \"x1\": 0, \"xref\": \"x3\", \"y0\": 0, \"y1\": 6, \"yref\": \"y3\"}, {\"line\": {\"color\": \"#371ea3\", \"dash\": \"dot\", \"width\": 1.5}, \"type\": \"line\", \"x0\": 0, \"x1\": 0, \"xref\": \"x3\", \"y0\": 0, \"y1\": 6, \"yref\": \"y3\"}, {\"line\": {\"color\": \"#371ea3\", \"dash\": \"dot\", \"width\": 1.5}, \"type\": \"line\", \"x0\": 0, \"x1\": 0, \"xref\": \"x4\", \"y0\": 0, \"y1\": 8, \"yref\": \"y4\"}, {\"line\": {\"color\": \"#371ea3\", \"dash\": \"dot\", \"width\": 1.5}, \"type\": \"line\", \"x0\": 0, \"x1\": 0, \"xref\": \"x4\", \"y0\": 0, \"y1\": 8, \"yref\": \"y4\"}, {\"line\": {\"color\": \"#371ea3\", \"dash\": \"dot\", \"width\": 1.5}, \"type\": \"line\", \"x0\": 0, \"x1\": 0, \"xref\": \"x5\", \"y0\": 0, \"y1\": 8, \"yref\": \"y5\"}, {\"line\": {\"color\": \"#371ea3\", \"dash\": \"dot\", \"width\": 1.5}, \"type\": \"line\", \"x0\": 0, \"x1\": 0, \"xref\": \"x5\", \"y0\": 0, \"y1\": 8, \"yref\": \"y5\"}, {\"line\": {\"color\": \"#371ea3\", \"dash\": \"dot\", \"width\": 1.5}, \"type\": \"line\", \"x0\": 0, \"x1\": 0, \"xref\": \"x6\", \"y0\": 0, \"y1\": 8, \"yref\": \"y6\"}, {\"line\": {\"color\": \"#371ea3\", \"dash\": \"dot\", \"width\": 1.5}, \"type\": \"line\", \"x0\": 0, \"x1\": 0, \"xref\": \"x6\", \"y0\": 0, \"y1\": 8, \"yref\": \"y6\"}], \"template\": {\"data\": {\"scatter\": [{\"type\": \"scatter\"}]}}, \"title\": {\"text\": \"Aggregated Profiles\", \"x\": 0.15}, \"xaxis\": {\"anchor\": \"y\", \"automargin\": true, \"domain\": [0.0, 0.45], \"fixedrange\": true, \"gridwidth\": 2, \"range\": [0.05997955950597178, 0.7461413519997765], \"tickcolor\": \"white\", \"ticklen\": 3, \"ticks\": \"outside\", \"type\": \"linear\", \"zeroline\": false}, \"xaxis2\": {\"anchor\": \"y2\", \"automargin\": true, \"domain\": [0.55, 1.0], \"fixedrange\": true, \"gridwidth\": 2, \"range\": [0.05997955950597178, 0.7461413519997765], \"tickcolor\": \"white\", \"ticklen\": 3, \"ticks\": \"outside\", \"type\": \"linear\", \"zeroline\": false}, \"xaxis3\": {\"anchor\": \"y3\", \"automargin\": true, \"domain\": [0.0, 0.45], \"fixedrange\": true, \"gridwidth\": 2, \"range\": [0.05997955950597178, 0.7461413519997765], \"tickcolor\": \"white\", \"ticklen\": 3, \"ticks\": \"outside\", \"type\": \"linear\", \"zeroline\": false}, \"xaxis4\": {\"anchor\": \"y4\", \"automargin\": true, \"domain\": [0.55, 1.0], \"fixedrange\": true, \"gridwidth\": 2, \"range\": [0.05997955950597178, 0.7461413519997765], \"tickcolor\": \"white\", \"ticklen\": 3, \"ticks\": \"outside\", \"type\": \"linear\", \"zeroline\": false}, \"xaxis5\": {\"anchor\": \"y5\", \"automargin\": true, \"domain\": [0.0, 0.45], \"fixedrange\": true, \"gridwidth\": 2, \"range\": [0.05997955950597178, 0.7461413519997765], \"tickcolor\": \"white\", \"ticklen\": 3, \"ticks\": \"outside\", \"type\": \"linear\", \"zeroline\": false}, \"xaxis6\": {\"anchor\": \"y6\", \"automargin\": true, \"domain\": [0.55, 1.0], \"fixedrange\": true, \"gridwidth\": 2, \"range\": [0.05997955950597178, 0.7461413519997765], \"tickcolor\": \"white\", \"ticklen\": 3, \"ticks\": \"outside\", \"type\": \"linear\", \"zeroline\": false}, \"yaxis\": {\"anchor\": \"x\", \"automargin\": true, \"autorange\": \"reversed\", \"domain\": [0.7, 1.0], \"fixedrange\": true, \"gridwidth\": 2, \"tickcolor\": \"white\", \"ticklen\": 10, \"ticks\": \"outside\", \"type\": \"category\"}, \"yaxis2\": {\"anchor\": \"x2\", \"automargin\": true, \"autorange\": \"reversed\", \"domain\": [0.7, 1.0], \"fixedrange\": true, \"gridwidth\": 2, \"tickcolor\": \"white\", \"ticklen\": 10, \"ticks\": \"outside\", \"type\": \"category\"}, \"yaxis3\": {\"anchor\": \"x3\", \"automargin\": true, \"autorange\": \"reversed\", \"domain\": [0.35, 0.6499999999999999], \"fixedrange\": true, \"gridwidth\": 2, \"tickcolor\": \"white\", \"ticklen\": 10, \"ticks\": \"outside\", \"type\": \"category\"}, \"yaxis4\": {\"anchor\": \"x4\", \"automargin\": true, \"autorange\": \"reversed\", \"domain\": [0.35, 0.6499999999999999], \"fixedrange\": true, \"gridwidth\": 2, \"tickcolor\": \"white\", \"ticklen\": 10, \"ticks\": \"outside\", \"type\": \"category\"}, \"yaxis5\": {\"anchor\": \"x5\", \"automargin\": true, \"autorange\": \"reversed\", \"domain\": [0.0, 0.3], \"fixedrange\": true, \"gridwidth\": 2, \"tickcolor\": \"white\", \"ticklen\": 10, \"ticks\": \"outside\", \"type\": \"category\"}, \"yaxis6\": {\"anchor\": \"x6\", \"automargin\": true, \"autorange\": \"reversed\", \"domain\": [0.0, 0.3], \"fixedrange\": true, \"gridwidth\": 2, \"tickcolor\": \"white\", \"ticklen\": 10, \"ticks\": \"outside\", \"type\": \"category\"}},\n",
       "                        {\"displaylogo\": false, \"staticPlot\": false, \"modeBarButtonsToRemove\": [\"sendDataToCloud\", \"lasso2d\", \"autoScale2d\", \"select2d\", \"zoom2d\", \"pan2d\", \"zoomIn2d\", \"zoomOut2d\", \"resetScale2d\", \"toggleSpikelines\", \"hoverCompareCartesian\", \"hoverClosestCartesian\"], \"responsive\": true}\n",
       "                    ).then(function(){\n",
       "                            \n",
       "var gd = document.getElementById('3d14b504-e174-4c21-aac7-1b4515a08f39');\n",
       "var x = new MutationObserver(function (mutations, observer) {{\n",
       "        var display = window.getComputedStyle(gd).display;\n",
       "        if (!display || display === 'none') {{\n",
       "            console.log([gd, 'removed!']);\n",
       "            Plotly.purge(gd);\n",
       "            observer.disconnect();\n",
       "        }}\n",
       "}});\n",
       "\n",
       "// Listen for the removal of the full notebook cells\n",
       "var notebookContainer = gd.closest('#notebook-container');\n",
       "if (notebookContainer) {{\n",
       "    x.observe(notebookContainer, {childList: true});\n",
       "}}\n",
       "\n",
       "// Listen for the clearing of the current output cell\n",
       "var outputEl = gd.closest('.output');\n",
       "if (outputEl) {{\n",
       "    x.observe(outputEl, {childList: true});\n",
       "}}\n",
       "\n",
       "                        })\n",
       "                };\n",
       "                });\n",
       "            </script>\n",
       "        </div>"
      ]
     },
     "metadata": {},
     "output_type": "display_data"
    }
   ],
   "source": [
    "# df = pd.read_csv(\"/home/user/Pobrane/mushroom-classification/mushrooms.csv\")\n",
    "# y = df['class']\n",
    "# y = np.where(y=='e', 1, 0)\n",
    "# X = df.drop([\"class\"], inplace = False, axis = 1)\n",
    "# X_new = pd.get_dummies(X)\n",
    "# X_train, X_test, y_train, y_test = train_test_split(X, y,\n",
    "#     test_size=0.2)\n",
    "# rfc = Pipeline(steps=[(\"preprocessor\", OneHotEncoder()),(\"classifier\", RandomForestClassifier())]) \n",
    "# rfc.fit(X_train, y_train)\n",
    "# # rf = RandomForestClassifier()\n",
    "# # rf.fit(X_train, y_train)\n",
    "\n",
    "# exprf = dx.Explainer(rfc, X_train, y_train, label = \"Mushrooms Random Forest\")\n",
    "\n",
    "ale_num = exprf.model_profile(type = 'accumulated', variables=[\"bruises\",\"gill-attachment\",\"stalk-color-above-ring\",\"habitat\", \"odor\", \"stalk-color-below-ring\"],variable_type='categorical')\n",
    "ale_num.result[\"_label_\"] = 'ale'\n",
    "pdp_num = exprf.model_profile(type = 'partial', variables=[\"bruises\",\"gill-attachment\",\"stalk-color-above-ring\",\"habitat\", \"odor\", \"stalk-color-below-ring\"],variable_type='categorical')\n",
    "pdp_num.result[\"_label_\"] = 'pdp'\n",
    "pdp_num.plot(ale_num)\n",
    "# cp_mary.plot()"
   ]
  },
  {
   "cell_type": "markdown",
   "metadata": {},
   "source": [
    "Można zauważyć, że wykresy zmiennych, które wcześniej oznaczyliśmy jako skorelowane, są w miarę równoległe. To oznacza, że model dla tych zmiennych jest addytywny. Przy zmiennej np. **odor** nie widać takiej zależności.\n"
   ]
  },
  {
   "cell_type": "markdown",
   "metadata": {},
   "source": [
    "# Partial Dependence, Accumulated - Logistic Regression"
   ]
  },
  {
   "cell_type": "markdown",
   "metadata": {},
   "source": [
    "Teraz zmienimy model, ale kodowanie zmiennych i ilość predyktorów pozostaje taka sama."
   ]
  },
  {
   "cell_type": "code",
   "execution_count": 53,
   "metadata": {
    "hide_input": true,
    "scrolled": false
   },
   "outputs": [
    {
     "name": "stderr",
     "output_type": "stream",
     "text": [
      "Calculating ceteris paribus!: 100%|██████████| 22/22 [00:00<00:00, 53.43it/s]\n",
      "Calculating accumulated dependency!: 100%|██████████| 6/6 [00:01<00:00,  4.40it/s]\n",
      "Calculating ceteris paribus!: 100%|██████████| 22/22 [00:00<00:00, 54.69it/s]\n"
     ]
    },
    {
     "data": {
      "application/vnd.plotly.v1+json": {
       "config": {
        "displaylogo": false,
        "modeBarButtonsToRemove": [
         "sendDataToCloud",
         "lasso2d",
         "autoScale2d",
         "select2d",
         "zoom2d",
         "pan2d",
         "zoomIn2d",
         "zoomOut2d",
         "resetScale2d",
         "toggleSpikelines",
         "hoverCompareCartesian",
         "hoverClosestCartesian"
        ],
        "plotlyServerURL": "https://plot.ly",
        "staticPlot": false
       },
       "data": [
        {
         "base": 0,
         "hoverinfo": "text",
         "hoverlabel": {
          "bgcolor": "rgba(0,0,0,0.8)"
         },
         "hovertext": [
          "bruises: f<br>average prediction: 0.5187748743555772<br>label: pdp<br><br>mean observation prediction: <br>0.5182842530289958",
          "bruises: t<br>average prediction: 0.5178000822892246<br>label: pdp<br><br>mean observation prediction: <br>0.5182842530289958"
         ],
         "legendgroup": "pdp",
         "marker": {
          "color": "#8bdcbe"
         },
         "name": "pdp",
         "orientation": "h",
         "showlegend": true,
         "type": "bar",
         "x": [
          0.5187748743555772,
          0.5178000822892246
         ],
         "xaxis": "x",
         "y": [
          "f",
          "t"
         ],
         "yaxis": "y"
        },
        {
         "base": 0,
         "hoverinfo": "text",
         "hoverlabel": {
          "bgcolor": "rgba(0,0,0,0.8)"
         },
         "hovertext": [
          "bruises: f<br>average prediction: 0.5053034216105935<br>label: ale<br><br>mean observation prediction: <br>0.5182842530289962",
          "bruises: t<br>average prediction: 0.5040123128564319<br>label: ale<br><br>mean observation prediction: <br>0.5182842530289962"
         ],
         "legendgroup": "ale",
         "marker": {
          "color": "#4378bf"
         },
         "name": "ale",
         "orientation": "h",
         "showlegend": true,
         "type": "bar",
         "x": [
          0.5053034216105935,
          0.5040123128564319
         ],
         "xaxis": "x",
         "y": [
          "f",
          "t"
         ],
         "yaxis": "y"
        },
        {
         "base": 0,
         "hoverinfo": "text",
         "hoverlabel": {
          "bgcolor": "rgba(0,0,0,0.8)"
         },
         "hovertext": [
          "gill-attachment: a<br>average prediction: 0.5195746071778616<br>label: pdp<br><br>mean observation prediction: <br>0.5182842530289958",
          "gill-attachment: f<br>average prediction: 0.5182471830824701<br>label: pdp<br><br>mean observation prediction: <br>0.5182842530289958"
         ],
         "legendgroup": "pdp",
         "marker": {
          "color": "#8bdcbe"
         },
         "name": "pdp",
         "orientation": "h",
         "showlegend": false,
         "type": "bar",
         "x": [
          0.5195746071778616,
          0.5182471830824701
         ],
         "xaxis": "x2",
         "y": [
          "a",
          "f"
         ],
         "yaxis": "y2"
        },
        {
         "base": 0,
         "hoverinfo": "text",
         "hoverlabel": {
          "bgcolor": "rgba(0,0,0,0.8)"
         },
         "hovertext": [
          "gill-attachment: a<br>average prediction: 0.5053034216105935<br>label: ale<br><br>mean observation prediction: <br>0.5182842530289962",
          "gill-attachment: f<br>average prediction: 0.5039422885421692<br>label: ale<br><br>mean observation prediction: <br>0.5182842530289962"
         ],
         "legendgroup": "ale",
         "marker": {
          "color": "#4378bf"
         },
         "name": "ale",
         "orientation": "h",
         "showlegend": false,
         "type": "bar",
         "x": [
          0.5053034216105935,
          0.5039422885421692
         ],
         "xaxis": "x2",
         "y": [
          "a",
          "f"
         ],
         "yaxis": "y2"
        },
        {
         "base": 0,
         "hoverinfo": "text",
         "hoverlabel": {
          "bgcolor": "rgba(0,0,0,0.8)"
         },
         "hovertext": [
          "habitat: d<br>average prediction: 0.5202493597908117<br>label: pdp<br><br>mean observation prediction: <br>0.5182842530289958",
          "habitat: g<br>average prediction: 0.5138902956179184<br>label: pdp<br><br>mean observation prediction: <br>0.5182842530289958",
          "habitat: l<br>average prediction: 0.518087975402913<br>label: pdp<br><br>mean observation prediction: <br>0.5182842530289958",
          "habitat: m<br>average prediction: 0.5132855033551605<br>label: pdp<br><br>mean observation prediction: <br>0.5182842530289958",
          "habitat: p<br>average prediction: 0.5206136282309581<br>label: pdp<br><br>mean observation prediction: <br>0.5182842530289958",
          "habitat: u<br>average prediction: 0.516073886654555<br>label: pdp<br><br>mean observation prediction: <br>0.5182842530289958",
          "habitat: w<br>average prediction: 0.5265831396444415<br>label: pdp<br><br>mean observation prediction: <br>0.5182842530289958"
         ],
         "legendgroup": "pdp",
         "marker": {
          "color": "#8bdcbe"
         },
         "name": "pdp",
         "orientation": "h",
         "showlegend": false,
         "type": "bar",
         "x": [
          0.5202493597908117,
          0.5138902956179184,
          0.518087975402913,
          0.5132855033551605,
          0.5206136282309581,
          0.516073886654555,
          0.5265831396444415
         ],
         "xaxis": "x3",
         "y": [
          "d",
          "g",
          "l",
          "m",
          "p",
          "u",
          "w"
         ],
         "yaxis": "y3"
        },
        {
         "base": 0,
         "hoverinfo": "text",
         "hoverlabel": {
          "bgcolor": "rgba(0,0,0,0.8)"
         },
         "hovertext": [
          "habitat: d<br>average prediction: 0.5053034216105935<br>label: ale<br><br>mean observation prediction: <br>0.5182842530289962",
          "habitat: g<br>average prediction: 0.5021086295126372<br>label: ale<br><br>mean observation prediction: <br>0.5182842530289962",
          "habitat: l<br>average prediction: 0.5079204981141263<br>label: ale<br><br>mean observation prediction: <br>0.5182842530289962",
          "habitat: m<br>average prediction: 0.49970622935305475<br>label: ale<br><br>mean observation prediction: <br>0.5182842530289962",
          "habitat: p<br>average prediction: 0.5022786447897516<br>label: ale<br><br>mean observation prediction: <br>0.5182842530289962",
          "habitat: u<br>average prediction: 0.4936609345288151<br>label: ale<br><br>mean observation prediction: <br>0.5182842530289962",
          "habitat: w<br>average prediction: 0.5231950158216264<br>label: ale<br><br>mean observation prediction: <br>0.5182842530289962"
         ],
         "legendgroup": "ale",
         "marker": {
          "color": "#4378bf"
         },
         "name": "ale",
         "orientation": "h",
         "showlegend": false,
         "type": "bar",
         "x": [
          0.5053034216105935,
          0.5021086295126372,
          0.5079204981141263,
          0.49970622935305475,
          0.5022786447897516,
          0.4936609345288151,
          0.5231950158216264
         ],
         "xaxis": "x3",
         "y": [
          "d",
          "g",
          "l",
          "m",
          "p",
          "u",
          "w"
         ],
         "yaxis": "y3"
        },
        {
         "base": 0,
         "hoverinfo": "text",
         "hoverlabel": {
          "bgcolor": "rgba(0,0,0,0.8)"
         },
         "hovertext": [
          "odor: a<br>average prediction: 0.6129339057648037<br>label: pdp<br><br>mean observation prediction: <br>0.5182842530289958",
          "odor: c<br>average prediction: 0.2969058350221105<br>label: pdp<br><br>mean observation prediction: <br>0.5182842530289958",
          "odor: f<br>average prediction: 0.29872295378379604<br>label: pdp<br><br>mean observation prediction: <br>0.5182842530289958",
          "odor: l<br>average prediction: 0.6091247461834642<br>label: pdp<br><br>mean observation prediction: <br>0.5182842530289958",
          "odor: m<br>average prediction: 0.4603450563543726<br>label: pdp<br><br>mean observation prediction: <br>0.5182842530289958",
          "odor: n<br>average prediction: 0.685876785486939<br>label: pdp<br><br>mean observation prediction: <br>0.5182842530289958",
          "odor: p<br>average prediction: 0.34053166572344995<br>label: pdp<br><br>mean observation prediction: <br>0.5182842530289958",
          "odor: s<br>average prediction: 0.43067531572945883<br>label: pdp<br><br>mean observation prediction: <br>0.5182842530289958",
          "odor: y<br>average prediction: 0.4309692285902266<br>label: pdp<br><br>mean observation prediction: <br>0.5182842530289958"
         ],
         "legendgroup": "pdp",
         "marker": {
          "color": "#8bdcbe"
         },
         "name": "pdp",
         "orientation": "h",
         "showlegend": false,
         "type": "bar",
         "x": [
          0.6129339057648037,
          0.2969058350221105,
          0.29872295378379604,
          0.6091247461834642,
          0.4603450563543726,
          0.685876785486939,
          0.34053166572344995,
          0.43067531572945883,
          0.4309692285902266
         ],
         "xaxis": "x4",
         "y": [
          "a",
          "c",
          "f",
          "l",
          "m",
          "n",
          "p",
          "s",
          "y"
         ],
         "yaxis": "y4"
        },
        {
         "base": 0,
         "hoverinfo": "text",
         "hoverlabel": {
          "bgcolor": "rgba(0,0,0,0.8)"
         },
         "hovertext": [
          "odor: a<br>average prediction: 0.5053034216105935<br>label: ale<br><br>mean observation prediction: <br>0.5182842530289962",
          "odor: c<br>average prediction: -0.0742707865936284<br>label: ale<br><br>mean observation prediction: <br>0.5182842530289962",
          "odor: f<br>average prediction: -0.07423038097373158<br>label: ale<br><br>mean observation prediction: <br>0.5182842530289962",
          "odor: l<br>average prediction: 0.4560799677170838<br>label: ale<br><br>mean observation prediction: <br>0.5182842530289962",
          "odor: m<br>average prediction: 0.22546411657192644<br>label: ale<br><br>mean observation prediction: <br>0.5182842530289962",
          "odor: n<br>average prediction: 0.3457272259498315<br>label: ale<br><br>mean observation prediction: <br>0.5182842530289962",
          "odor: p<br>average prediction: -0.470211965936689<br>label: ale<br><br>mean observation prediction: <br>0.5182842530289962",
          "odor: s<br>average prediction: -0.4688931085928276<br>label: ale<br><br>mean observation prediction: <br>0.5182842530289962",
          "odor: y<br>average prediction: -0.4688871449930415<br>label: ale<br><br>mean observation prediction: <br>0.5182842530289962"
         ],
         "legendgroup": "ale",
         "marker": {
          "color": "#4378bf"
         },
         "name": "ale",
         "orientation": "h",
         "showlegend": false,
         "type": "bar",
         "x": [
          0.5053034216105935,
          -0.0742707865936284,
          -0.07423038097373158,
          0.4560799677170838,
          0.22546411657192644,
          0.3457272259498315,
          -0.470211965936689,
          -0.4688931085928276,
          -0.4688871449930415
         ],
         "xaxis": "x4",
         "y": [
          "a",
          "c",
          "f",
          "l",
          "m",
          "n",
          "p",
          "s",
          "y"
         ],
         "yaxis": "y4"
        },
        {
         "base": 0,
         "hoverinfo": "text",
         "hoverlabel": {
          "bgcolor": "rgba(0,0,0,0.8)"
         },
         "hovertext": [
          "stalk-color-above-ring: b<br>average prediction: 0.517206089071268<br>label: pdp<br><br>mean observation prediction: <br>0.5182842530289958",
          "stalk-color-above-ring: c<br>average prediction: 0.5163410402932983<br>label: pdp<br><br>mean observation prediction: <br>0.5182842530289958",
          "stalk-color-above-ring: e<br>average prediction: 0.5209242142638096<br>label: pdp<br><br>mean observation prediction: <br>0.5182842530289958",
          "stalk-color-above-ring: g<br>average prediction: 0.5205284444663746<br>label: pdp<br><br>mean observation prediction: <br>0.5182842530289958",
          "stalk-color-above-ring: n<br>average prediction: 0.5196425442692513<br>label: pdp<br><br>mean observation prediction: <br>0.5182842530289958",
          "stalk-color-above-ring: o<br>average prediction: 0.5200198201152316<br>label: pdp<br><br>mean observation prediction: <br>0.5182842530289958",
          "stalk-color-above-ring: p<br>average prediction: 0.516730760215826<br>label: pdp<br><br>mean observation prediction: <br>0.5182842530289958",
          "stalk-color-above-ring: w<br>average prediction: 0.5183009543220526<br>label: pdp<br><br>mean observation prediction: <br>0.5182842530289958",
          "stalk-color-above-ring: y<br>average prediction: 0.514572320820113<br>label: pdp<br><br>mean observation prediction: <br>0.5182842530289958"
         ],
         "legendgroup": "pdp",
         "marker": {
          "color": "#8bdcbe"
         },
         "name": "pdp",
         "orientation": "h",
         "showlegend": false,
         "type": "bar",
         "x": [
          0.517206089071268,
          0.5163410402932983,
          0.5209242142638096,
          0.5205284444663746,
          0.5196425442692513,
          0.5200198201152316,
          0.516730760215826,
          0.5183009543220526,
          0.514572320820113
         ],
         "xaxis": "x5",
         "y": [
          "b",
          "c",
          "e",
          "g",
          "n",
          "o",
          "p",
          "w",
          "y"
         ],
         "yaxis": "y5"
        },
        {
         "base": 0,
         "hoverinfo": "text",
         "hoverlabel": {
          "bgcolor": "rgba(0,0,0,0.8)"
         },
         "hovertext": [
          "stalk-color-above-ring: b<br>average prediction: 0.5053034216105935<br>label: ale<br><br>mean observation prediction: <br>0.5182842530289962",
          "stalk-color-above-ring: c<br>average prediction: 0.5031032307232599<br>label: ale<br><br>mean observation prediction: <br>0.5182842530289962",
          "stalk-color-above-ring: e<br>average prediction: 0.5031032307232599<br>label: ale<br><br>mean observation prediction: <br>0.5182842530289962",
          "stalk-color-above-ring: g<br>average prediction: 0.5030535708267992<br>label: ale<br><br>mean observation prediction: <br>0.5182842530289962",
          "stalk-color-above-ring: n<br>average prediction: 0.5027148646775602<br>label: ale<br><br>mean observation prediction: <br>0.5182842530289962",
          "stalk-color-above-ring: o<br>average prediction: 0.5028547479600589<br>label: ale<br><br>mean observation prediction: <br>0.5182842530289962",
          "stalk-color-above-ring: p<br>average prediction: 0.5022049314755299<br>label: ale<br><br>mean observation prediction: <br>0.5182842530289962",
          "stalk-color-above-ring: w<br>average prediction: 0.5045978576908356<br>label: ale<br><br>mean observation prediction: <br>0.5182842530289962",
          "stalk-color-above-ring: y<br>average prediction: 0.5045978576908356<br>label: ale<br><br>mean observation prediction: <br>0.5182842530289962"
         ],
         "legendgroup": "ale",
         "marker": {
          "color": "#4378bf"
         },
         "name": "ale",
         "orientation": "h",
         "showlegend": false,
         "type": "bar",
         "x": [
          0.5053034216105935,
          0.5031032307232599,
          0.5031032307232599,
          0.5030535708267992,
          0.5027148646775602,
          0.5028547479600589,
          0.5022049314755299,
          0.5045978576908356,
          0.5045978576908356
         ],
         "xaxis": "x5",
         "y": [
          "b",
          "c",
          "e",
          "g",
          "n",
          "o",
          "p",
          "w",
          "y"
         ],
         "yaxis": "y5"
        },
        {
         "base": 0,
         "hoverinfo": "text",
         "hoverlabel": {
          "bgcolor": "rgba(0,0,0,0.8)"
         },
         "hovertext": [
          "stalk-color-below-ring: b<br>average prediction: 0.517714619731788<br>label: pdp<br><br>mean observation prediction: <br>0.5182842530289958",
          "stalk-color-below-ring: c<br>average prediction: 0.5165427906323768<br>label: pdp<br><br>mean observation prediction: <br>0.5182842530289958",
          "stalk-color-below-ring: e<br>average prediction: 0.5213439566714637<br>label: pdp<br><br>mean observation prediction: <br>0.5182842530289958",
          "stalk-color-below-ring: g<br>average prediction: 0.5208249674899564<br>label: pdp<br><br>mean observation prediction: <br>0.5182842530289958",
          "stalk-color-below-ring: n<br>average prediction: 0.5250367336584403<br>label: pdp<br><br>mean observation prediction: <br>0.5182842530289958",
          "stalk-color-below-ring: o<br>average prediction: 0.5205632469175697<br>label: pdp<br><br>mean observation prediction: <br>0.5182842530289958",
          "stalk-color-below-ring: p<br>average prediction: 0.516321373414254<br>label: pdp<br><br>mean observation prediction: <br>0.5182842530289958",
          "stalk-color-below-ring: w<br>average prediction: 0.5167657880226749<br>label: pdp<br><br>mean observation prediction: <br>0.5182842530289958",
          "stalk-color-below-ring: y<br>average prediction: 0.5128843285862967<br>label: pdp<br><br>mean observation prediction: <br>0.5182842530289958"
         ],
         "legendgroup": "pdp",
         "marker": {
          "color": "#8bdcbe"
         },
         "name": "pdp",
         "orientation": "h",
         "showlegend": false,
         "type": "bar",
         "x": [
          0.517714619731788,
          0.5165427906323768,
          0.5213439566714637,
          0.5208249674899564,
          0.5250367336584403,
          0.5205632469175697,
          0.516321373414254,
          0.5167657880226749,
          0.5128843285862967
         ],
         "xaxis": "x6",
         "y": [
          "b",
          "c",
          "e",
          "g",
          "n",
          "o",
          "p",
          "w",
          "y"
         ],
         "yaxis": "y6"
        },
        {
         "base": 0,
         "hoverinfo": "text",
         "hoverlabel": {
          "bgcolor": "rgba(0,0,0,0.8)"
         },
         "hovertext": [
          "stalk-color-below-ring: b<br>average prediction: 0.5053034216105935<br>label: ale<br><br>mean observation prediction: <br>0.5182842530289962",
          "stalk-color-below-ring: c<br>average prediction: 0.5024555734749636<br>label: ale<br><br>mean observation prediction: <br>0.5182842530289962",
          "stalk-color-below-ring: e<br>average prediction: 0.5132830917768688<br>label: ale<br><br>mean observation prediction: <br>0.5182842530289962",
          "stalk-color-below-ring: g<br>average prediction: 0.513236837276331<br>label: ale<br><br>mean observation prediction: <br>0.5182842530289962",
          "stalk-color-below-ring: n<br>average prediction: 0.5229156661941641<br>label: ale<br><br>mean observation prediction: <br>0.5182842530289962",
          "stalk-color-below-ring: o<br>average prediction: 0.5219413257452642<br>label: ale<br><br>mean observation prediction: <br>0.5182842530289962",
          "stalk-color-below-ring: p<br>average prediction: 0.5210797743493082<br>label: ale<br><br>mean observation prediction: <br>0.5182842530289962",
          "stalk-color-below-ring: w<br>average prediction: 0.5215874049617051<br>label: ale<br><br>mean observation prediction: <br>0.5182842530289962",
          "stalk-color-below-ring: y<br>average prediction: 0.49852583211231705<br>label: ale<br><br>mean observation prediction: <br>0.5182842530289962"
         ],
         "legendgroup": "ale",
         "marker": {
          "color": "#4378bf"
         },
         "name": "ale",
         "orientation": "h",
         "showlegend": false,
         "type": "bar",
         "x": [
          0.5053034216105935,
          0.5024555734749636,
          0.5132830917768688,
          0.513236837276331,
          0.5229156661941641,
          0.5219413257452642,
          0.5210797743493082,
          0.5215874049617051,
          0.49852583211231705
         ],
         "xaxis": "x6",
         "y": [
          "b",
          "c",
          "e",
          "g",
          "n",
          "o",
          "p",
          "w",
          "y"
         ],
         "yaxis": "y6"
        }
       ],
       "layout": {
        "annotations": [
         {
          "font": {
           "size": 16
          },
          "showarrow": false,
          "text": "bruises",
          "x": 0.225,
          "xanchor": "center",
          "xref": "paper",
          "y": 1,
          "yanchor": "bottom",
          "yref": "paper"
         },
         {
          "font": {
           "size": 16
          },
          "showarrow": false,
          "text": "gill-attachment",
          "x": 0.775,
          "xanchor": "center",
          "xref": "paper",
          "y": 1,
          "yanchor": "bottom",
          "yref": "paper"
         },
         {
          "font": {
           "size": 16
          },
          "showarrow": false,
          "text": "habitat",
          "x": 0.225,
          "xanchor": "center",
          "xref": "paper",
          "y": 0.6499999999999999,
          "yanchor": "bottom",
          "yref": "paper"
         },
         {
          "font": {
           "size": 16
          },
          "showarrow": false,
          "text": "odor",
          "x": 0.775,
          "xanchor": "center",
          "xref": "paper",
          "y": 0.6499999999999999,
          "yanchor": "bottom",
          "yref": "paper"
         },
         {
          "font": {
           "size": 16
          },
          "showarrow": false,
          "text": "stalk-color-above-ring",
          "x": 0.225,
          "xanchor": "center",
          "xref": "paper",
          "y": 0.3,
          "yanchor": "bottom",
          "yref": "paper"
         },
         {
          "font": {
           "size": 16
          },
          "showarrow": false,
          "text": "stalk-color-below-ring",
          "x": 0.775,
          "xanchor": "center",
          "xref": "paper",
          "y": 0.3,
          "yanchor": "bottom",
          "yref": "paper"
         },
         {
          "font": {
           "size": 16
          },
          "showarrow": false,
          "text": "prediction",
          "x": 0.5,
          "xanchor": "center",
          "xref": "paper",
          "y": 0,
          "yanchor": "top",
          "yref": "paper",
          "yshift": -30
         }
        ],
        "font": {
         "color": "#371ea3"
        },
        "height": 1169,
        "hovermode": "closest",
        "margin": {
         "b": 71,
         "r": 30,
         "t": 78
        },
        "shapes": [
         {
          "line": {
           "color": "#371ea3",
           "dash": "dot",
           "width": 1.5
          },
          "type": "line",
          "x0": 0,
          "x1": 0,
          "xref": "x",
          "y0": 0,
          "y1": 1,
          "yref": "y"
         },
         {
          "line": {
           "color": "#371ea3",
           "dash": "dot",
           "width": 1.5
          },
          "type": "line",
          "x0": 0,
          "x1": 0,
          "xref": "x",
          "y0": 0,
          "y1": 1,
          "yref": "y"
         },
         {
          "line": {
           "color": "#371ea3",
           "dash": "dot",
           "width": 1.5
          },
          "type": "line",
          "x0": 0,
          "x1": 0,
          "xref": "x2",
          "y0": 0,
          "y1": 1,
          "yref": "y2"
         },
         {
          "line": {
           "color": "#371ea3",
           "dash": "dot",
           "width": 1.5
          },
          "type": "line",
          "x0": 0,
          "x1": 0,
          "xref": "x2",
          "y0": 0,
          "y1": 1,
          "yref": "y2"
         },
         {
          "line": {
           "color": "#371ea3",
           "dash": "dot",
           "width": 1.5
          },
          "type": "line",
          "x0": 0,
          "x1": 0,
          "xref": "x3",
          "y0": 0,
          "y1": 6,
          "yref": "y3"
         },
         {
          "line": {
           "color": "#371ea3",
           "dash": "dot",
           "width": 1.5
          },
          "type": "line",
          "x0": 0,
          "x1": 0,
          "xref": "x3",
          "y0": 0,
          "y1": 6,
          "yref": "y3"
         },
         {
          "line": {
           "color": "#371ea3",
           "dash": "dot",
           "width": 1.5
          },
          "type": "line",
          "x0": 0,
          "x1": 0,
          "xref": "x4",
          "y0": 0,
          "y1": 8,
          "yref": "y4"
         },
         {
          "line": {
           "color": "#371ea3",
           "dash": "dot",
           "width": 1.5
          },
          "type": "line",
          "x0": 0,
          "x1": 0,
          "xref": "x4",
          "y0": 0,
          "y1": 8,
          "yref": "y4"
         },
         {
          "line": {
           "color": "#371ea3",
           "dash": "dot",
           "width": 1.5
          },
          "type": "line",
          "x0": 0,
          "x1": 0,
          "xref": "x5",
          "y0": 0,
          "y1": 8,
          "yref": "y5"
         },
         {
          "line": {
           "color": "#371ea3",
           "dash": "dot",
           "width": 1.5
          },
          "type": "line",
          "x0": 0,
          "x1": 0,
          "xref": "x5",
          "y0": 0,
          "y1": 8,
          "yref": "y5"
         },
         {
          "line": {
           "color": "#371ea3",
           "dash": "dot",
           "width": 1.5
          },
          "type": "line",
          "x0": 0,
          "x1": 0,
          "xref": "x6",
          "y0": 0,
          "y1": 8,
          "yref": "y6"
         },
         {
          "line": {
           "color": "#371ea3",
           "dash": "dot",
           "width": 1.5
          },
          "type": "line",
          "x0": 0,
          "x1": 0,
          "xref": "x6",
          "y0": 0,
          "y1": 8,
          "yref": "y6"
         }
        ],
        "template": {
         "data": {
          "scatter": [
           {
            "type": "scatter"
           }
          ]
         }
        },
        "title": {
         "text": "Aggregated Profiles",
         "x": 0.15
        },
        "xaxis": {
         "anchor": "y",
         "automargin": true,
         "domain": [
          0,
          0.45
         ],
         "fixedrange": true,
         "gridwidth": 2,
         "range": [
          -0.6436252786502332,
          0.8592900982004832
         ],
         "tickcolor": "white",
         "ticklen": 3,
         "ticks": "outside",
         "type": "linear",
         "zeroline": false
        },
        "xaxis2": {
         "anchor": "y2",
         "automargin": true,
         "domain": [
          0.55,
          1
         ],
         "fixedrange": true,
         "gridwidth": 2,
         "range": [
          -0.6436252786502332,
          0.8592900982004832
         ],
         "tickcolor": "white",
         "ticklen": 3,
         "ticks": "outside",
         "type": "linear",
         "zeroline": false
        },
        "xaxis3": {
         "anchor": "y3",
         "automargin": true,
         "domain": [
          0,
          0.45
         ],
         "fixedrange": true,
         "gridwidth": 2,
         "range": [
          -0.6436252786502332,
          0.8592900982004832
         ],
         "tickcolor": "white",
         "ticklen": 3,
         "ticks": "outside",
         "type": "linear",
         "zeroline": false
        },
        "xaxis4": {
         "anchor": "y4",
         "automargin": true,
         "domain": [
          0.55,
          1
         ],
         "fixedrange": true,
         "gridwidth": 2,
         "range": [
          -0.6436252786502332,
          0.8592900982004832
         ],
         "tickcolor": "white",
         "ticklen": 3,
         "ticks": "outside",
         "type": "linear",
         "zeroline": false
        },
        "xaxis5": {
         "anchor": "y5",
         "automargin": true,
         "domain": [
          0,
          0.45
         ],
         "fixedrange": true,
         "gridwidth": 2,
         "range": [
          -0.6436252786502332,
          0.8592900982004832
         ],
         "tickcolor": "white",
         "ticklen": 3,
         "ticks": "outside",
         "type": "linear",
         "zeroline": false
        },
        "xaxis6": {
         "anchor": "y6",
         "automargin": true,
         "domain": [
          0.55,
          1
         ],
         "fixedrange": true,
         "gridwidth": 2,
         "range": [
          -0.6436252786502332,
          0.8592900982004832
         ],
         "tickcolor": "white",
         "ticklen": 3,
         "ticks": "outside",
         "type": "linear",
         "zeroline": false
        },
        "yaxis": {
         "anchor": "x",
         "automargin": true,
         "autorange": "reversed",
         "domain": [
          0.7,
          1
         ],
         "fixedrange": true,
         "gridwidth": 2,
         "tickcolor": "white",
         "ticklen": 10,
         "ticks": "outside",
         "type": "category"
        },
        "yaxis2": {
         "anchor": "x2",
         "automargin": true,
         "autorange": "reversed",
         "domain": [
          0.7,
          1
         ],
         "fixedrange": true,
         "gridwidth": 2,
         "tickcolor": "white",
         "ticklen": 10,
         "ticks": "outside",
         "type": "category"
        },
        "yaxis3": {
         "anchor": "x3",
         "automargin": true,
         "autorange": "reversed",
         "domain": [
          0.35,
          0.6499999999999999
         ],
         "fixedrange": true,
         "gridwidth": 2,
         "tickcolor": "white",
         "ticklen": 10,
         "ticks": "outside",
         "type": "category"
        },
        "yaxis4": {
         "anchor": "x4",
         "automargin": true,
         "autorange": "reversed",
         "domain": [
          0.35,
          0.6499999999999999
         ],
         "fixedrange": true,
         "gridwidth": 2,
         "tickcolor": "white",
         "ticklen": 10,
         "ticks": "outside",
         "type": "category"
        },
        "yaxis5": {
         "anchor": "x5",
         "automargin": true,
         "autorange": "reversed",
         "domain": [
          0,
          0.3
         ],
         "fixedrange": true,
         "gridwidth": 2,
         "tickcolor": "white",
         "ticklen": 10,
         "ticks": "outside",
         "type": "category"
        },
        "yaxis6": {
         "anchor": "x6",
         "automargin": true,
         "autorange": "reversed",
         "domain": [
          0,
          0.3
         ],
         "fixedrange": true,
         "gridwidth": 2,
         "tickcolor": "white",
         "ticklen": 10,
         "ticks": "outside",
         "type": "category"
        }
       }
      },
      "text/html": [
       "<div>\n",
       "        \n",
       "        \n",
       "            <div id=\"25843ea1-68ea-4984-b448-850d38d10e7b\" class=\"plotly-graph-div\" style=\"height:1169px; width:100%;\"></div>\n",
       "            <script type=\"text/javascript\">\n",
       "                require([\"plotly\"], function(Plotly) {\n",
       "                    window.PLOTLYENV=window.PLOTLYENV || {};\n",
       "                    \n",
       "                if (document.getElementById(\"25843ea1-68ea-4984-b448-850d38d10e7b\")) {\n",
       "                    Plotly.newPlot(\n",
       "                        '25843ea1-68ea-4984-b448-850d38d10e7b',\n",
       "                        [{\"base\": 0, \"hoverinfo\": \"text\", \"hoverlabel\": {\"bgcolor\": \"rgba(0,0,0,0.8)\"}, \"hovertext\": [\"bruises: f<br>average prediction: 0.5187748743555772<br>label: pdp<br><br>mean observation prediction: <br>0.5182842530289958\", \"bruises: t<br>average prediction: 0.5178000822892246<br>label: pdp<br><br>mean observation prediction: <br>0.5182842530289958\"], \"legendgroup\": \"pdp\", \"marker\": {\"color\": \"#8bdcbe\"}, \"name\": \"pdp\", \"orientation\": \"h\", \"showlegend\": true, \"type\": \"bar\", \"x\": [0.5187748743555772, 0.5178000822892246], \"xaxis\": \"x\", \"y\": [\"f\", \"t\"], \"yaxis\": \"y\"}, {\"base\": 0, \"hoverinfo\": \"text\", \"hoverlabel\": {\"bgcolor\": \"rgba(0,0,0,0.8)\"}, \"hovertext\": [\"bruises: f<br>average prediction: 0.5053034216105935<br>label: ale<br><br>mean observation prediction: <br>0.5182842530289962\", \"bruises: t<br>average prediction: 0.5040123128564319<br>label: ale<br><br>mean observation prediction: <br>0.5182842530289962\"], \"legendgroup\": \"ale\", \"marker\": {\"color\": \"#4378bf\"}, \"name\": \"ale\", \"orientation\": \"h\", \"showlegend\": true, \"type\": \"bar\", \"x\": [0.5053034216105935, 0.5040123128564319], \"xaxis\": \"x\", \"y\": [\"f\", \"t\"], \"yaxis\": \"y\"}, {\"base\": 0, \"hoverinfo\": \"text\", \"hoverlabel\": {\"bgcolor\": \"rgba(0,0,0,0.8)\"}, \"hovertext\": [\"gill-attachment: a<br>average prediction: 0.5195746071778616<br>label: pdp<br><br>mean observation prediction: <br>0.5182842530289958\", \"gill-attachment: f<br>average prediction: 0.5182471830824701<br>label: pdp<br><br>mean observation prediction: <br>0.5182842530289958\"], \"legendgroup\": \"pdp\", \"marker\": {\"color\": \"#8bdcbe\"}, \"name\": \"pdp\", \"orientation\": \"h\", \"showlegend\": false, \"type\": \"bar\", \"x\": [0.5195746071778616, 0.5182471830824701], \"xaxis\": \"x2\", \"y\": [\"a\", \"f\"], \"yaxis\": \"y2\"}, {\"base\": 0, \"hoverinfo\": \"text\", \"hoverlabel\": {\"bgcolor\": \"rgba(0,0,0,0.8)\"}, \"hovertext\": [\"gill-attachment: a<br>average prediction: 0.5053034216105935<br>label: ale<br><br>mean observation prediction: <br>0.5182842530289962\", \"gill-attachment: f<br>average prediction: 0.5039422885421692<br>label: ale<br><br>mean observation prediction: <br>0.5182842530289962\"], \"legendgroup\": \"ale\", \"marker\": {\"color\": \"#4378bf\"}, \"name\": \"ale\", \"orientation\": \"h\", \"showlegend\": false, \"type\": \"bar\", \"x\": [0.5053034216105935, 0.5039422885421692], \"xaxis\": \"x2\", \"y\": [\"a\", \"f\"], \"yaxis\": \"y2\"}, {\"base\": 0, \"hoverinfo\": \"text\", \"hoverlabel\": {\"bgcolor\": \"rgba(0,0,0,0.8)\"}, \"hovertext\": [\"habitat: d<br>average prediction: 0.5202493597908117<br>label: pdp<br><br>mean observation prediction: <br>0.5182842530289958\", \"habitat: g<br>average prediction: 0.5138902956179184<br>label: pdp<br><br>mean observation prediction: <br>0.5182842530289958\", \"habitat: l<br>average prediction: 0.518087975402913<br>label: pdp<br><br>mean observation prediction: <br>0.5182842530289958\", \"habitat: m<br>average prediction: 0.5132855033551605<br>label: pdp<br><br>mean observation prediction: <br>0.5182842530289958\", \"habitat: p<br>average prediction: 0.5206136282309581<br>label: pdp<br><br>mean observation prediction: <br>0.5182842530289958\", \"habitat: u<br>average prediction: 0.516073886654555<br>label: pdp<br><br>mean observation prediction: <br>0.5182842530289958\", \"habitat: w<br>average prediction: 0.5265831396444415<br>label: pdp<br><br>mean observation prediction: <br>0.5182842530289958\"], \"legendgroup\": \"pdp\", \"marker\": {\"color\": \"#8bdcbe\"}, \"name\": \"pdp\", \"orientation\": \"h\", \"showlegend\": false, \"type\": \"bar\", \"x\": [0.5202493597908117, 0.5138902956179184, 0.518087975402913, 0.5132855033551605, 0.5206136282309581, 0.516073886654555, 0.5265831396444415], \"xaxis\": \"x3\", \"y\": [\"d\", \"g\", \"l\", \"m\", \"p\", \"u\", \"w\"], \"yaxis\": \"y3\"}, {\"base\": 0, \"hoverinfo\": \"text\", \"hoverlabel\": {\"bgcolor\": \"rgba(0,0,0,0.8)\"}, \"hovertext\": [\"habitat: d<br>average prediction: 0.5053034216105935<br>label: ale<br><br>mean observation prediction: <br>0.5182842530289962\", \"habitat: g<br>average prediction: 0.5021086295126372<br>label: ale<br><br>mean observation prediction: <br>0.5182842530289962\", \"habitat: l<br>average prediction: 0.5079204981141263<br>label: ale<br><br>mean observation prediction: <br>0.5182842530289962\", \"habitat: m<br>average prediction: 0.49970622935305475<br>label: ale<br><br>mean observation prediction: <br>0.5182842530289962\", \"habitat: p<br>average prediction: 0.5022786447897516<br>label: ale<br><br>mean observation prediction: <br>0.5182842530289962\", \"habitat: u<br>average prediction: 0.4936609345288151<br>label: ale<br><br>mean observation prediction: <br>0.5182842530289962\", \"habitat: w<br>average prediction: 0.5231950158216264<br>label: ale<br><br>mean observation prediction: <br>0.5182842530289962\"], \"legendgroup\": \"ale\", \"marker\": {\"color\": \"#4378bf\"}, \"name\": \"ale\", \"orientation\": \"h\", \"showlegend\": false, \"type\": \"bar\", \"x\": [0.5053034216105935, 0.5021086295126372, 0.5079204981141263, 0.49970622935305475, 0.5022786447897516, 0.4936609345288151, 0.5231950158216264], \"xaxis\": \"x3\", \"y\": [\"d\", \"g\", \"l\", \"m\", \"p\", \"u\", \"w\"], \"yaxis\": \"y3\"}, {\"base\": 0, \"hoverinfo\": \"text\", \"hoverlabel\": {\"bgcolor\": \"rgba(0,0,0,0.8)\"}, \"hovertext\": [\"odor: a<br>average prediction: 0.6129339057648037<br>label: pdp<br><br>mean observation prediction: <br>0.5182842530289958\", \"odor: c<br>average prediction: 0.2969058350221105<br>label: pdp<br><br>mean observation prediction: <br>0.5182842530289958\", \"odor: f<br>average prediction: 0.29872295378379604<br>label: pdp<br><br>mean observation prediction: <br>0.5182842530289958\", \"odor: l<br>average prediction: 0.6091247461834642<br>label: pdp<br><br>mean observation prediction: <br>0.5182842530289958\", \"odor: m<br>average prediction: 0.4603450563543726<br>label: pdp<br><br>mean observation prediction: <br>0.5182842530289958\", \"odor: n<br>average prediction: 0.685876785486939<br>label: pdp<br><br>mean observation prediction: <br>0.5182842530289958\", \"odor: p<br>average prediction: 0.34053166572344995<br>label: pdp<br><br>mean observation prediction: <br>0.5182842530289958\", \"odor: s<br>average prediction: 0.43067531572945883<br>label: pdp<br><br>mean observation prediction: <br>0.5182842530289958\", \"odor: y<br>average prediction: 0.4309692285902266<br>label: pdp<br><br>mean observation prediction: <br>0.5182842530289958\"], \"legendgroup\": \"pdp\", \"marker\": {\"color\": \"#8bdcbe\"}, \"name\": \"pdp\", \"orientation\": \"h\", \"showlegend\": false, \"type\": \"bar\", \"x\": [0.6129339057648037, 0.2969058350221105, 0.29872295378379604, 0.6091247461834642, 0.4603450563543726, 0.685876785486939, 0.34053166572344995, 0.43067531572945883, 0.4309692285902266], \"xaxis\": \"x4\", \"y\": [\"a\", \"c\", \"f\", \"l\", \"m\", \"n\", \"p\", \"s\", \"y\"], \"yaxis\": \"y4\"}, {\"base\": 0, \"hoverinfo\": \"text\", \"hoverlabel\": {\"bgcolor\": \"rgba(0,0,0,0.8)\"}, \"hovertext\": [\"odor: a<br>average prediction: 0.5053034216105935<br>label: ale<br><br>mean observation prediction: <br>0.5182842530289962\", \"odor: c<br>average prediction: -0.0742707865936284<br>label: ale<br><br>mean observation prediction: <br>0.5182842530289962\", \"odor: f<br>average prediction: -0.07423038097373158<br>label: ale<br><br>mean observation prediction: <br>0.5182842530289962\", \"odor: l<br>average prediction: 0.4560799677170838<br>label: ale<br><br>mean observation prediction: <br>0.5182842530289962\", \"odor: m<br>average prediction: 0.22546411657192644<br>label: ale<br><br>mean observation prediction: <br>0.5182842530289962\", \"odor: n<br>average prediction: 0.3457272259498315<br>label: ale<br><br>mean observation prediction: <br>0.5182842530289962\", \"odor: p<br>average prediction: -0.470211965936689<br>label: ale<br><br>mean observation prediction: <br>0.5182842530289962\", \"odor: s<br>average prediction: -0.4688931085928276<br>label: ale<br><br>mean observation prediction: <br>0.5182842530289962\", \"odor: y<br>average prediction: -0.4688871449930415<br>label: ale<br><br>mean observation prediction: <br>0.5182842530289962\"], \"legendgroup\": \"ale\", \"marker\": {\"color\": \"#4378bf\"}, \"name\": \"ale\", \"orientation\": \"h\", \"showlegend\": false, \"type\": \"bar\", \"x\": [0.5053034216105935, -0.0742707865936284, -0.07423038097373158, 0.4560799677170838, 0.22546411657192644, 0.3457272259498315, -0.470211965936689, -0.4688931085928276, -0.4688871449930415], \"xaxis\": \"x4\", \"y\": [\"a\", \"c\", \"f\", \"l\", \"m\", \"n\", \"p\", \"s\", \"y\"], \"yaxis\": \"y4\"}, {\"base\": 0, \"hoverinfo\": \"text\", \"hoverlabel\": {\"bgcolor\": \"rgba(0,0,0,0.8)\"}, \"hovertext\": [\"stalk-color-above-ring: b<br>average prediction: 0.517206089071268<br>label: pdp<br><br>mean observation prediction: <br>0.5182842530289958\", \"stalk-color-above-ring: c<br>average prediction: 0.5163410402932983<br>label: pdp<br><br>mean observation prediction: <br>0.5182842530289958\", \"stalk-color-above-ring: e<br>average prediction: 0.5209242142638096<br>label: pdp<br><br>mean observation prediction: <br>0.5182842530289958\", \"stalk-color-above-ring: g<br>average prediction: 0.5205284444663746<br>label: pdp<br><br>mean observation prediction: <br>0.5182842530289958\", \"stalk-color-above-ring: n<br>average prediction: 0.5196425442692513<br>label: pdp<br><br>mean observation prediction: <br>0.5182842530289958\", \"stalk-color-above-ring: o<br>average prediction: 0.5200198201152316<br>label: pdp<br><br>mean observation prediction: <br>0.5182842530289958\", \"stalk-color-above-ring: p<br>average prediction: 0.516730760215826<br>label: pdp<br><br>mean observation prediction: <br>0.5182842530289958\", \"stalk-color-above-ring: w<br>average prediction: 0.5183009543220526<br>label: pdp<br><br>mean observation prediction: <br>0.5182842530289958\", \"stalk-color-above-ring: y<br>average prediction: 0.514572320820113<br>label: pdp<br><br>mean observation prediction: <br>0.5182842530289958\"], \"legendgroup\": \"pdp\", \"marker\": {\"color\": \"#8bdcbe\"}, \"name\": \"pdp\", \"orientation\": \"h\", \"showlegend\": false, \"type\": \"bar\", \"x\": [0.517206089071268, 0.5163410402932983, 0.5209242142638096, 0.5205284444663746, 0.5196425442692513, 0.5200198201152316, 0.516730760215826, 0.5183009543220526, 0.514572320820113], \"xaxis\": \"x5\", \"y\": [\"b\", \"c\", \"e\", \"g\", \"n\", \"o\", \"p\", \"w\", \"y\"], \"yaxis\": \"y5\"}, {\"base\": 0, \"hoverinfo\": \"text\", \"hoverlabel\": {\"bgcolor\": \"rgba(0,0,0,0.8)\"}, \"hovertext\": [\"stalk-color-above-ring: b<br>average prediction: 0.5053034216105935<br>label: ale<br><br>mean observation prediction: <br>0.5182842530289962\", \"stalk-color-above-ring: c<br>average prediction: 0.5031032307232599<br>label: ale<br><br>mean observation prediction: <br>0.5182842530289962\", \"stalk-color-above-ring: e<br>average prediction: 0.5031032307232599<br>label: ale<br><br>mean observation prediction: <br>0.5182842530289962\", \"stalk-color-above-ring: g<br>average prediction: 0.5030535708267992<br>label: ale<br><br>mean observation prediction: <br>0.5182842530289962\", \"stalk-color-above-ring: n<br>average prediction: 0.5027148646775602<br>label: ale<br><br>mean observation prediction: <br>0.5182842530289962\", \"stalk-color-above-ring: o<br>average prediction: 0.5028547479600589<br>label: ale<br><br>mean observation prediction: <br>0.5182842530289962\", \"stalk-color-above-ring: p<br>average prediction: 0.5022049314755299<br>label: ale<br><br>mean observation prediction: <br>0.5182842530289962\", \"stalk-color-above-ring: w<br>average prediction: 0.5045978576908356<br>label: ale<br><br>mean observation prediction: <br>0.5182842530289962\", \"stalk-color-above-ring: y<br>average prediction: 0.5045978576908356<br>label: ale<br><br>mean observation prediction: <br>0.5182842530289962\"], \"legendgroup\": \"ale\", \"marker\": {\"color\": \"#4378bf\"}, \"name\": \"ale\", \"orientation\": \"h\", \"showlegend\": false, \"type\": \"bar\", \"x\": [0.5053034216105935, 0.5031032307232599, 0.5031032307232599, 0.5030535708267992, 0.5027148646775602, 0.5028547479600589, 0.5022049314755299, 0.5045978576908356, 0.5045978576908356], \"xaxis\": \"x5\", \"y\": [\"b\", \"c\", \"e\", \"g\", \"n\", \"o\", \"p\", \"w\", \"y\"], \"yaxis\": \"y5\"}, {\"base\": 0, \"hoverinfo\": \"text\", \"hoverlabel\": {\"bgcolor\": \"rgba(0,0,0,0.8)\"}, \"hovertext\": [\"stalk-color-below-ring: b<br>average prediction: 0.517714619731788<br>label: pdp<br><br>mean observation prediction: <br>0.5182842530289958\", \"stalk-color-below-ring: c<br>average prediction: 0.5165427906323768<br>label: pdp<br><br>mean observation prediction: <br>0.5182842530289958\", \"stalk-color-below-ring: e<br>average prediction: 0.5213439566714637<br>label: pdp<br><br>mean observation prediction: <br>0.5182842530289958\", \"stalk-color-below-ring: g<br>average prediction: 0.5208249674899564<br>label: pdp<br><br>mean observation prediction: <br>0.5182842530289958\", \"stalk-color-below-ring: n<br>average prediction: 0.5250367336584403<br>label: pdp<br><br>mean observation prediction: <br>0.5182842530289958\", \"stalk-color-below-ring: o<br>average prediction: 0.5205632469175697<br>label: pdp<br><br>mean observation prediction: <br>0.5182842530289958\", \"stalk-color-below-ring: p<br>average prediction: 0.516321373414254<br>label: pdp<br><br>mean observation prediction: <br>0.5182842530289958\", \"stalk-color-below-ring: w<br>average prediction: 0.5167657880226749<br>label: pdp<br><br>mean observation prediction: <br>0.5182842530289958\", \"stalk-color-below-ring: y<br>average prediction: 0.5128843285862967<br>label: pdp<br><br>mean observation prediction: <br>0.5182842530289958\"], \"legendgroup\": \"pdp\", \"marker\": {\"color\": \"#8bdcbe\"}, \"name\": \"pdp\", \"orientation\": \"h\", \"showlegend\": false, \"type\": \"bar\", \"x\": [0.517714619731788, 0.5165427906323768, 0.5213439566714637, 0.5208249674899564, 0.5250367336584403, 0.5205632469175697, 0.516321373414254, 0.5167657880226749, 0.5128843285862967], \"xaxis\": \"x6\", \"y\": [\"b\", \"c\", \"e\", \"g\", \"n\", \"o\", \"p\", \"w\", \"y\"], \"yaxis\": \"y6\"}, {\"base\": 0, \"hoverinfo\": \"text\", \"hoverlabel\": {\"bgcolor\": \"rgba(0,0,0,0.8)\"}, \"hovertext\": [\"stalk-color-below-ring: b<br>average prediction: 0.5053034216105935<br>label: ale<br><br>mean observation prediction: <br>0.5182842530289962\", \"stalk-color-below-ring: c<br>average prediction: 0.5024555734749636<br>label: ale<br><br>mean observation prediction: <br>0.5182842530289962\", \"stalk-color-below-ring: e<br>average prediction: 0.5132830917768688<br>label: ale<br><br>mean observation prediction: <br>0.5182842530289962\", \"stalk-color-below-ring: g<br>average prediction: 0.513236837276331<br>label: ale<br><br>mean observation prediction: <br>0.5182842530289962\", \"stalk-color-below-ring: n<br>average prediction: 0.5229156661941641<br>label: ale<br><br>mean observation prediction: <br>0.5182842530289962\", \"stalk-color-below-ring: o<br>average prediction: 0.5219413257452642<br>label: ale<br><br>mean observation prediction: <br>0.5182842530289962\", \"stalk-color-below-ring: p<br>average prediction: 0.5210797743493082<br>label: ale<br><br>mean observation prediction: <br>0.5182842530289962\", \"stalk-color-below-ring: w<br>average prediction: 0.5215874049617051<br>label: ale<br><br>mean observation prediction: <br>0.5182842530289962\", \"stalk-color-below-ring: y<br>average prediction: 0.49852583211231705<br>label: ale<br><br>mean observation prediction: <br>0.5182842530289962\"], \"legendgroup\": \"ale\", \"marker\": {\"color\": \"#4378bf\"}, \"name\": \"ale\", \"orientation\": \"h\", \"showlegend\": false, \"type\": \"bar\", \"x\": [0.5053034216105935, 0.5024555734749636, 0.5132830917768688, 0.513236837276331, 0.5229156661941641, 0.5219413257452642, 0.5210797743493082, 0.5215874049617051, 0.49852583211231705], \"xaxis\": \"x6\", \"y\": [\"b\", \"c\", \"e\", \"g\", \"n\", \"o\", \"p\", \"w\", \"y\"], \"yaxis\": \"y6\"}],\n",
       "                        {\"annotations\": [{\"font\": {\"size\": 16}, \"showarrow\": false, \"text\": \"bruises\", \"x\": 0.225, \"xanchor\": \"center\", \"xref\": \"paper\", \"y\": 1.0, \"yanchor\": \"bottom\", \"yref\": \"paper\"}, {\"font\": {\"size\": 16}, \"showarrow\": false, \"text\": \"gill-attachment\", \"x\": 0.775, \"xanchor\": \"center\", \"xref\": \"paper\", \"y\": 1.0, \"yanchor\": \"bottom\", \"yref\": \"paper\"}, {\"font\": {\"size\": 16}, \"showarrow\": false, \"text\": \"habitat\", \"x\": 0.225, \"xanchor\": \"center\", \"xref\": \"paper\", \"y\": 0.6499999999999999, \"yanchor\": \"bottom\", \"yref\": \"paper\"}, {\"font\": {\"size\": 16}, \"showarrow\": false, \"text\": \"odor\", \"x\": 0.775, \"xanchor\": \"center\", \"xref\": \"paper\", \"y\": 0.6499999999999999, \"yanchor\": \"bottom\", \"yref\": \"paper\"}, {\"font\": {\"size\": 16}, \"showarrow\": false, \"text\": \"stalk-color-above-ring\", \"x\": 0.225, \"xanchor\": \"center\", \"xref\": \"paper\", \"y\": 0.3, \"yanchor\": \"bottom\", \"yref\": \"paper\"}, {\"font\": {\"size\": 16}, \"showarrow\": false, \"text\": \"stalk-color-below-ring\", \"x\": 0.775, \"xanchor\": \"center\", \"xref\": \"paper\", \"y\": 0.3, \"yanchor\": \"bottom\", \"yref\": \"paper\"}, {\"font\": {\"size\": 16}, \"showarrow\": false, \"text\": \"prediction\", \"x\": 0.5, \"xanchor\": \"center\", \"xref\": \"paper\", \"y\": 0, \"yanchor\": \"top\", \"yref\": \"paper\", \"yshift\": -30}], \"font\": {\"color\": \"#371ea3\"}, \"height\": 1169, \"hovermode\": \"closest\", \"margin\": {\"b\": 71, \"r\": 30, \"t\": 78}, \"shapes\": [{\"line\": {\"color\": \"#371ea3\", \"dash\": \"dot\", \"width\": 1.5}, \"type\": \"line\", \"x0\": 0, \"x1\": 0, \"xref\": \"x\", \"y0\": 0, \"y1\": 1, \"yref\": \"y\"}, {\"line\": {\"color\": \"#371ea3\", \"dash\": \"dot\", \"width\": 1.5}, \"type\": \"line\", \"x0\": 0, \"x1\": 0, \"xref\": \"x\", \"y0\": 0, \"y1\": 1, \"yref\": \"y\"}, {\"line\": {\"color\": \"#371ea3\", \"dash\": \"dot\", \"width\": 1.5}, \"type\": \"line\", \"x0\": 0, \"x1\": 0, \"xref\": \"x2\", \"y0\": 0, \"y1\": 1, \"yref\": \"y2\"}, {\"line\": {\"color\": \"#371ea3\", \"dash\": \"dot\", \"width\": 1.5}, \"type\": \"line\", \"x0\": 0, \"x1\": 0, \"xref\": \"x2\", \"y0\": 0, \"y1\": 1, \"yref\": \"y2\"}, {\"line\": {\"color\": \"#371ea3\", \"dash\": \"dot\", \"width\": 1.5}, \"type\": \"line\", \"x0\": 0, \"x1\": 0, \"xref\": \"x3\", \"y0\": 0, \"y1\": 6, \"yref\": \"y3\"}, {\"line\": {\"color\": \"#371ea3\", \"dash\": \"dot\", \"width\": 1.5}, \"type\": \"line\", \"x0\": 0, \"x1\": 0, \"xref\": \"x3\", \"y0\": 0, \"y1\": 6, \"yref\": \"y3\"}, {\"line\": {\"color\": \"#371ea3\", \"dash\": \"dot\", \"width\": 1.5}, \"type\": \"line\", \"x0\": 0, \"x1\": 0, \"xref\": \"x4\", \"y0\": 0, \"y1\": 8, \"yref\": \"y4\"}, {\"line\": {\"color\": \"#371ea3\", \"dash\": \"dot\", \"width\": 1.5}, \"type\": \"line\", \"x0\": 0, \"x1\": 0, \"xref\": \"x4\", \"y0\": 0, \"y1\": 8, \"yref\": \"y4\"}, {\"line\": {\"color\": \"#371ea3\", \"dash\": \"dot\", \"width\": 1.5}, \"type\": \"line\", \"x0\": 0, \"x1\": 0, \"xref\": \"x5\", \"y0\": 0, \"y1\": 8, \"yref\": \"y5\"}, {\"line\": {\"color\": \"#371ea3\", \"dash\": \"dot\", \"width\": 1.5}, \"type\": \"line\", \"x0\": 0, \"x1\": 0, \"xref\": \"x5\", \"y0\": 0, \"y1\": 8, \"yref\": \"y5\"}, {\"line\": {\"color\": \"#371ea3\", \"dash\": \"dot\", \"width\": 1.5}, \"type\": \"line\", \"x0\": 0, \"x1\": 0, \"xref\": \"x6\", \"y0\": 0, \"y1\": 8, \"yref\": \"y6\"}, {\"line\": {\"color\": \"#371ea3\", \"dash\": \"dot\", \"width\": 1.5}, \"type\": \"line\", \"x0\": 0, \"x1\": 0, \"xref\": \"x6\", \"y0\": 0, \"y1\": 8, \"yref\": \"y6\"}], \"template\": {\"data\": {\"scatter\": [{\"type\": \"scatter\"}]}}, \"title\": {\"text\": \"Aggregated Profiles\", \"x\": 0.15}, \"xaxis\": {\"anchor\": \"y\", \"automargin\": true, \"domain\": [0.0, 0.45], \"fixedrange\": true, \"gridwidth\": 2, \"range\": [-0.6436252786502332, 0.8592900982004832], \"tickcolor\": \"white\", \"ticklen\": 3, \"ticks\": \"outside\", \"type\": \"linear\", \"zeroline\": false}, \"xaxis2\": {\"anchor\": \"y2\", \"automargin\": true, \"domain\": [0.55, 1.0], \"fixedrange\": true, \"gridwidth\": 2, \"range\": [-0.6436252786502332, 0.8592900982004832], \"tickcolor\": \"white\", \"ticklen\": 3, \"ticks\": \"outside\", \"type\": \"linear\", \"zeroline\": false}, \"xaxis3\": {\"anchor\": \"y3\", \"automargin\": true, \"domain\": [0.0, 0.45], \"fixedrange\": true, \"gridwidth\": 2, \"range\": [-0.6436252786502332, 0.8592900982004832], \"tickcolor\": \"white\", \"ticklen\": 3, \"ticks\": \"outside\", \"type\": \"linear\", \"zeroline\": false}, \"xaxis4\": {\"anchor\": \"y4\", \"automargin\": true, \"domain\": [0.55, 1.0], \"fixedrange\": true, \"gridwidth\": 2, \"range\": [-0.6436252786502332, 0.8592900982004832], \"tickcolor\": \"white\", \"ticklen\": 3, \"ticks\": \"outside\", \"type\": \"linear\", \"zeroline\": false}, \"xaxis5\": {\"anchor\": \"y5\", \"automargin\": true, \"domain\": [0.0, 0.45], \"fixedrange\": true, \"gridwidth\": 2, \"range\": [-0.6436252786502332, 0.8592900982004832], \"tickcolor\": \"white\", \"ticklen\": 3, \"ticks\": \"outside\", \"type\": \"linear\", \"zeroline\": false}, \"xaxis6\": {\"anchor\": \"y6\", \"automargin\": true, \"domain\": [0.55, 1.0], \"fixedrange\": true, \"gridwidth\": 2, \"range\": [-0.6436252786502332, 0.8592900982004832], \"tickcolor\": \"white\", \"ticklen\": 3, \"ticks\": \"outside\", \"type\": \"linear\", \"zeroline\": false}, \"yaxis\": {\"anchor\": \"x\", \"automargin\": true, \"autorange\": \"reversed\", \"domain\": [0.7, 1.0], \"fixedrange\": true, \"gridwidth\": 2, \"tickcolor\": \"white\", \"ticklen\": 10, \"ticks\": \"outside\", \"type\": \"category\"}, \"yaxis2\": {\"anchor\": \"x2\", \"automargin\": true, \"autorange\": \"reversed\", \"domain\": [0.7, 1.0], \"fixedrange\": true, \"gridwidth\": 2, \"tickcolor\": \"white\", \"ticklen\": 10, \"ticks\": \"outside\", \"type\": \"category\"}, \"yaxis3\": {\"anchor\": \"x3\", \"automargin\": true, \"autorange\": \"reversed\", \"domain\": [0.35, 0.6499999999999999], \"fixedrange\": true, \"gridwidth\": 2, \"tickcolor\": \"white\", \"ticklen\": 10, \"ticks\": \"outside\", \"type\": \"category\"}, \"yaxis4\": {\"anchor\": \"x4\", \"automargin\": true, \"autorange\": \"reversed\", \"domain\": [0.35, 0.6499999999999999], \"fixedrange\": true, \"gridwidth\": 2, \"tickcolor\": \"white\", \"ticklen\": 10, \"ticks\": \"outside\", \"type\": \"category\"}, \"yaxis5\": {\"anchor\": \"x5\", \"automargin\": true, \"autorange\": \"reversed\", \"domain\": [0.0, 0.3], \"fixedrange\": true, \"gridwidth\": 2, \"tickcolor\": \"white\", \"ticklen\": 10, \"ticks\": \"outside\", \"type\": \"category\"}, \"yaxis6\": {\"anchor\": \"x6\", \"automargin\": true, \"autorange\": \"reversed\", \"domain\": [0.0, 0.3], \"fixedrange\": true, \"gridwidth\": 2, \"tickcolor\": \"white\", \"ticklen\": 10, \"ticks\": \"outside\", \"type\": \"category\"}},\n",
       "                        {\"displaylogo\": false, \"staticPlot\": false, \"modeBarButtonsToRemove\": [\"sendDataToCloud\", \"lasso2d\", \"autoScale2d\", \"select2d\", \"zoom2d\", \"pan2d\", \"zoomIn2d\", \"zoomOut2d\", \"resetScale2d\", \"toggleSpikelines\", \"hoverCompareCartesian\", \"hoverClosestCartesian\"], \"responsive\": true}\n",
       "                    ).then(function(){\n",
       "                            \n",
       "var gd = document.getElementById('25843ea1-68ea-4984-b448-850d38d10e7b');\n",
       "var x = new MutationObserver(function (mutations, observer) {{\n",
       "        var display = window.getComputedStyle(gd).display;\n",
       "        if (!display || display === 'none') {{\n",
       "            console.log([gd, 'removed!']);\n",
       "            Plotly.purge(gd);\n",
       "            observer.disconnect();\n",
       "        }}\n",
       "}});\n",
       "\n",
       "// Listen for the removal of the full notebook cells\n",
       "var notebookContainer = gd.closest('#notebook-container');\n",
       "if (notebookContainer) {{\n",
       "    x.observe(notebookContainer, {childList: true});\n",
       "}}\n",
       "\n",
       "// Listen for the clearing of the current output cell\n",
       "var outputEl = gd.closest('.output');\n",
       "if (outputEl) {{\n",
       "    x.observe(outputEl, {childList: true});\n",
       "}}\n",
       "\n",
       "                        })\n",
       "                };\n",
       "                });\n",
       "            </script>\n",
       "        </div>"
      ]
     },
     "metadata": {},
     "output_type": "display_data"
    }
   ],
   "source": [
    "ale_num = explr.model_profile(type = 'accumulated', variables=[\"bruises\",\"gill-attachment\",\"stalk-color-above-ring\",\"habitat\", \"odor\", \"stalk-color-below-ring\"],variable_type='categorical')\n",
    "ale_num.result[\"_label_\"] = 'ale'\n",
    "pdp_num = explr.model_profile(type = 'partial', variables=[\"bruises\",\"gill-attachment\",\"stalk-color-above-ring\",\"habitat\", \"odor\", \"stalk-color-below-ring\"],variable_type='categorical')\n",
    "pdp_num.result[\"_label_\"] = 'pdp'\n",
    "pdp_num.plot(ale_num)"
   ]
  },
  {
   "cell_type": "markdown",
   "metadata": {},
   "source": [
    "Uzywając regresji logistycznej największą różnicę widać na zmiennej **odor**. Tutaj metoda accumulated location dependence wskazuje, że zmiana na wartości tej zmiennej na paramtery: *p*, *s*, *y* obniża prawdopodobieństwo tego, że grzyb jest jadalny w przeciwieństwie do modelu Random Forest."
   ]
  },
  {
   "cell_type": "markdown",
   "metadata": {},
   "source": [
    "# Variable Importance - DecisionTree"
   ]
  },
  {
   "cell_type": "code",
   "execution_count": 58,
   "metadata": {
    "hide_input": true,
    "scrolled": false
   },
   "outputs": [
    {
     "name": "stderr",
     "output_type": "stream",
     "text": [
      "Calculating ceteris paribus!: 100%|██████████| 22/22 [00:00<00:00, 53.06it/s]\n",
      "Calculating accumulated dependency!: 100%|██████████| 6/6 [00:01<00:00,  4.81it/s]\n",
      "Calculating ceteris paribus!: 100%|██████████| 22/22 [00:00<00:00, 53.27it/s]\n"
     ]
    },
    {
     "data": {
      "application/vnd.plotly.v1+json": {
       "config": {
        "displaylogo": false,
        "modeBarButtonsToRemove": [
         "sendDataToCloud",
         "lasso2d",
         "autoScale2d",
         "select2d",
         "zoom2d",
         "pan2d",
         "zoomIn2d",
         "zoomOut2d",
         "resetScale2d",
         "toggleSpikelines",
         "hoverCompareCartesian",
         "hoverClosestCartesian"
        ],
        "plotlyServerURL": "https://plot.ly",
        "staticPlot": false
       },
       "data": [
        {
         "base": 0,
         "hoverinfo": "text",
         "hoverlabel": {
          "bgcolor": "rgba(0,0,0,0.8)"
         },
         "hovertext": [
          "bruises: f<br>average prediction: 0.53<br>label: pdp<br><br>mean observation prediction: <br>0.53",
          "bruises: t<br>average prediction: 0.506<br>label: pdp<br><br>mean observation prediction: <br>0.53"
         ],
         "legendgroup": "pdp",
         "marker": {
          "color": "#8bdcbe"
         },
         "name": "pdp",
         "orientation": "h",
         "showlegend": true,
         "type": "bar",
         "x": [
          0.53,
          0.506
         ],
         "xaxis": "x",
         "y": [
          "f",
          "t"
         ],
         "yaxis": "y"
        },
        {
         "base": 0,
         "hoverinfo": "text",
         "hoverlabel": {
          "bgcolor": "rgba(0,0,0,0.8)"
         },
         "hovertext": [
          "bruises: f<br>average prediction: 0.4936315789473684<br>label: ale<br><br>mean observation prediction: <br>0.53",
          "bruises: t<br>average prediction: 0.4936315789473684<br>label: ale<br><br>mean observation prediction: <br>0.53"
         ],
         "legendgroup": "ale",
         "marker": {
          "color": "#4378bf"
         },
         "name": "ale",
         "orientation": "h",
         "showlegend": true,
         "type": "bar",
         "x": [
          0.4936315789473684,
          0.4936315789473684
         ],
         "xaxis": "x",
         "y": [
          "f",
          "t"
         ],
         "yaxis": "y"
        },
        {
         "base": 0,
         "hoverinfo": "text",
         "hoverlabel": {
          "bgcolor": "rgba(0,0,0,0.8)"
         },
         "hovertext": [
          "gill-attachment: a<br>average prediction: 0.53<br>label: pdp<br><br>mean observation prediction: <br>0.53",
          "gill-attachment: f<br>average prediction: 0.53<br>label: pdp<br><br>mean observation prediction: <br>0.53"
         ],
         "legendgroup": "pdp",
         "marker": {
          "color": "#8bdcbe"
         },
         "name": "pdp",
         "orientation": "h",
         "showlegend": false,
         "type": "bar",
         "x": [
          0.53,
          0.53
         ],
         "xaxis": "x2",
         "y": [
          "a",
          "f"
         ],
         "yaxis": "y2"
        },
        {
         "base": 0,
         "hoverinfo": "text",
         "hoverlabel": {
          "bgcolor": "rgba(0,0,0,0.8)"
         },
         "hovertext": [
          "gill-attachment: a<br>average prediction: 0.4936315789473684<br>label: ale<br><br>mean observation prediction: <br>0.53",
          "gill-attachment: f<br>average prediction: 0.4936315789473684<br>label: ale<br><br>mean observation prediction: <br>0.53"
         ],
         "legendgroup": "ale",
         "marker": {
          "color": "#4378bf"
         },
         "name": "ale",
         "orientation": "h",
         "showlegend": false,
         "type": "bar",
         "x": [
          0.4936315789473684,
          0.4936315789473684
         ],
         "xaxis": "x2",
         "y": [
          "a",
          "f"
         ],
         "yaxis": "y2"
        },
        {
         "base": 0,
         "hoverinfo": "text",
         "hoverlabel": {
          "bgcolor": "rgba(0,0,0,0.8)"
         },
         "hovertext": [
          "habitat: d<br>average prediction: 0.53<br>label: pdp<br><br>mean observation prediction: <br>0.53",
          "habitat: g<br>average prediction: 0.53<br>label: pdp<br><br>mean observation prediction: <br>0.53",
          "habitat: l<br>average prediction: 0.53<br>label: pdp<br><br>mean observation prediction: <br>0.53",
          "habitat: m<br>average prediction: 0.53<br>label: pdp<br><br>mean observation prediction: <br>0.53",
          "habitat: p<br>average prediction: 0.53<br>label: pdp<br><br>mean observation prediction: <br>0.53",
          "habitat: u<br>average prediction: 0.53<br>label: pdp<br><br>mean observation prediction: <br>0.53",
          "habitat: w<br>average prediction: 0.53<br>label: pdp<br><br>mean observation prediction: <br>0.53"
         ],
         "legendgroup": "pdp",
         "marker": {
          "color": "#8bdcbe"
         },
         "name": "pdp",
         "orientation": "h",
         "showlegend": false,
         "type": "bar",
         "x": [
          0.53,
          0.53,
          0.53,
          0.53,
          0.53,
          0.53,
          0.53
         ],
         "xaxis": "x3",
         "y": [
          "d",
          "g",
          "l",
          "m",
          "p",
          "u",
          "w"
         ],
         "yaxis": "y3"
        },
        {
         "base": 0,
         "hoverinfo": "text",
         "hoverlabel": {
          "bgcolor": "rgba(0,0,0,0.8)"
         },
         "hovertext": [
          "habitat: d<br>average prediction: 0.4936315789473684<br>label: ale<br><br>mean observation prediction: <br>0.53",
          "habitat: g<br>average prediction: 0.4936315789473684<br>label: ale<br><br>mean observation prediction: <br>0.53",
          "habitat: l<br>average prediction: 0.4936315789473684<br>label: ale<br><br>mean observation prediction: <br>0.53",
          "habitat: m<br>average prediction: 0.4936315789473684<br>label: ale<br><br>mean observation prediction: <br>0.53",
          "habitat: p<br>average prediction: 0.4936315789473684<br>label: ale<br><br>mean observation prediction: <br>0.53",
          "habitat: u<br>average prediction: 0.4936315789473684<br>label: ale<br><br>mean observation prediction: <br>0.53",
          "habitat: w<br>average prediction: 0.4936315789473684<br>label: ale<br><br>mean observation prediction: <br>0.53"
         ],
         "legendgroup": "ale",
         "marker": {
          "color": "#4378bf"
         },
         "name": "ale",
         "orientation": "h",
         "showlegend": false,
         "type": "bar",
         "x": [
          0.4936315789473684,
          0.4936315789473684,
          0.4936315789473684,
          0.4936315789473684,
          0.4936315789473684,
          0.4936315789473684,
          0.4936315789473684
         ],
         "xaxis": "x3",
         "y": [
          "d",
          "g",
          "l",
          "m",
          "p",
          "u",
          "w"
         ],
         "yaxis": "y3"
        },
        {
         "base": 0,
         "hoverinfo": "text",
         "hoverlabel": {
          "bgcolor": "rgba(0,0,0,0.8)"
         },
         "hovertext": [
          "odor: a<br>average prediction: 0.996<br>label: pdp<br><br>mean observation prediction: <br>0.53",
          "odor: c<br>average prediction: 0.084<br>label: pdp<br><br>mean observation prediction: <br>0.53",
          "odor: f<br>average prediction: 0.084<br>label: pdp<br><br>mean observation prediction: <br>0.53",
          "odor: l<br>average prediction: 0.996<br>label: pdp<br><br>mean observation prediction: <br>0.53",
          "odor: m<br>average prediction: 0.084<br>label: pdp<br><br>mean observation prediction: <br>0.53",
          "odor: n<br>average prediction: 0.916<br>label: pdp<br><br>mean observation prediction: <br>0.53",
          "odor: p<br>average prediction: 0.084<br>label: pdp<br><br>mean observation prediction: <br>0.53",
          "odor: s<br>average prediction: 0.084<br>label: pdp<br><br>mean observation prediction: <br>0.53",
          "odor: y<br>average prediction: 0.084<br>label: pdp<br><br>mean observation prediction: <br>0.53"
         ],
         "legendgroup": "pdp",
         "marker": {
          "color": "#8bdcbe"
         },
         "name": "pdp",
         "orientation": "h",
         "showlegend": false,
         "type": "bar",
         "x": [
          0.996,
          0.084,
          0.084,
          0.996,
          0.084,
          0.916,
          0.084,
          0.084,
          0.084
         ],
         "xaxis": "x4",
         "y": [
          "a",
          "c",
          "f",
          "l",
          "m",
          "n",
          "p",
          "s",
          "y"
         ],
         "yaxis": "y4"
        },
        {
         "base": 0,
         "hoverinfo": "text",
         "hoverlabel": {
          "bgcolor": "rgba(0,0,0,0.8)"
         },
         "hovertext": [
          "odor: a<br>average prediction: 0.4936315789473684<br>label: ale<br><br>mean observation prediction: <br>0.53",
          "odor: c<br>average prediction: -0.5063684210526316<br>label: ale<br><br>mean observation prediction: <br>0.53",
          "odor: f<br>average prediction: -0.5063684210526316<br>label: ale<br><br>mean observation prediction: <br>0.53",
          "odor: l<br>average prediction: -0.5063684210526316<br>label: ale<br><br>mean observation prediction: <br>0.53",
          "odor: m<br>average prediction: -0.5063684210526316<br>label: ale<br><br>mean observation prediction: <br>0.53",
          "odor: n<br>average prediction: 0.4670829063809967<br>label: ale<br><br>mean observation prediction: <br>0.53",
          "odor: p<br>average prediction: 0.4670829063809967<br>label: ale<br><br>mean observation prediction: <br>0.53",
          "odor: s<br>average prediction: 0.4670829063809967<br>label: ale<br><br>mean observation prediction: <br>0.53",
          "odor: y<br>average prediction: 0.4670829063809967<br>label: ale<br><br>mean observation prediction: <br>0.53"
         ],
         "legendgroup": "ale",
         "marker": {
          "color": "#4378bf"
         },
         "name": "ale",
         "orientation": "h",
         "showlegend": false,
         "type": "bar",
         "x": [
          0.4936315789473684,
          -0.5063684210526316,
          -0.5063684210526316,
          -0.5063684210526316,
          -0.5063684210526316,
          0.4670829063809967,
          0.4670829063809967,
          0.4670829063809967,
          0.4670829063809967
         ],
         "xaxis": "x4",
         "y": [
          "a",
          "c",
          "f",
          "l",
          "m",
          "n",
          "p",
          "s",
          "y"
         ],
         "yaxis": "y4"
        },
        {
         "base": 0,
         "hoverinfo": "text",
         "hoverlabel": {
          "bgcolor": "rgba(0,0,0,0.8)"
         },
         "hovertext": [
          "stalk-color-above-ring: b<br>average prediction: 0.53<br>label: pdp<br><br>mean observation prediction: <br>0.53",
          "stalk-color-above-ring: c<br>average prediction: 0.53<br>label: pdp<br><br>mean observation prediction: <br>0.53",
          "stalk-color-above-ring: e<br>average prediction: 0.53<br>label: pdp<br><br>mean observation prediction: <br>0.53",
          "stalk-color-above-ring: g<br>average prediction: 0.53<br>label: pdp<br><br>mean observation prediction: <br>0.53",
          "stalk-color-above-ring: n<br>average prediction: 0.53<br>label: pdp<br><br>mean observation prediction: <br>0.53",
          "stalk-color-above-ring: o<br>average prediction: 0.53<br>label: pdp<br><br>mean observation prediction: <br>0.53",
          "stalk-color-above-ring: p<br>average prediction: 0.53<br>label: pdp<br><br>mean observation prediction: <br>0.53",
          "stalk-color-above-ring: w<br>average prediction: 0.53<br>label: pdp<br><br>mean observation prediction: <br>0.53",
          "stalk-color-above-ring: y<br>average prediction: 0.53<br>label: pdp<br><br>mean observation prediction: <br>0.53"
         ],
         "legendgroup": "pdp",
         "marker": {
          "color": "#8bdcbe"
         },
         "name": "pdp",
         "orientation": "h",
         "showlegend": false,
         "type": "bar",
         "x": [
          0.53,
          0.53,
          0.53,
          0.53,
          0.53,
          0.53,
          0.53,
          0.53,
          0.53
         ],
         "xaxis": "x5",
         "y": [
          "b",
          "c",
          "e",
          "g",
          "n",
          "o",
          "p",
          "w",
          "y"
         ],
         "yaxis": "y5"
        },
        {
         "base": 0,
         "hoverinfo": "text",
         "hoverlabel": {
          "bgcolor": "rgba(0,0,0,0.8)"
         },
         "hovertext": [
          "stalk-color-above-ring: b<br>average prediction: 0.4936315789473684<br>label: ale<br><br>mean observation prediction: <br>0.53",
          "stalk-color-above-ring: c<br>average prediction: 0.4936315789473684<br>label: ale<br><br>mean observation prediction: <br>0.53",
          "stalk-color-above-ring: e<br>average prediction: 0.4936315789473684<br>label: ale<br><br>mean observation prediction: <br>0.53",
          "stalk-color-above-ring: g<br>average prediction: 0.4936315789473684<br>label: ale<br><br>mean observation prediction: <br>0.53",
          "stalk-color-above-ring: n<br>average prediction: 0.4936315789473684<br>label: ale<br><br>mean observation prediction: <br>0.53",
          "stalk-color-above-ring: o<br>average prediction: 0.4936315789473684<br>label: ale<br><br>mean observation prediction: <br>0.53",
          "stalk-color-above-ring: p<br>average prediction: 0.4936315789473684<br>label: ale<br><br>mean observation prediction: <br>0.53",
          "stalk-color-above-ring: w<br>average prediction: 0.4936315789473684<br>label: ale<br><br>mean observation prediction: <br>0.53",
          "stalk-color-above-ring: y<br>average prediction: 0.4936315789473684<br>label: ale<br><br>mean observation prediction: <br>0.53"
         ],
         "legendgroup": "ale",
         "marker": {
          "color": "#4378bf"
         },
         "name": "ale",
         "orientation": "h",
         "showlegend": false,
         "type": "bar",
         "x": [
          0.4936315789473684,
          0.4936315789473684,
          0.4936315789473684,
          0.4936315789473684,
          0.4936315789473684,
          0.4936315789473684,
          0.4936315789473684,
          0.4936315789473684,
          0.4936315789473684
         ],
         "xaxis": "x5",
         "y": [
          "b",
          "c",
          "e",
          "g",
          "n",
          "o",
          "p",
          "w",
          "y"
         ],
         "yaxis": "y5"
        },
        {
         "base": 0,
         "hoverinfo": "text",
         "hoverlabel": {
          "bgcolor": "rgba(0,0,0,0.8)"
         },
         "hovertext": [
          "stalk-color-below-ring: b<br>average prediction: 0.53<br>label: pdp<br><br>mean observation prediction: <br>0.53",
          "stalk-color-below-ring: c<br>average prediction: 0.53<br>label: pdp<br><br>mean observation prediction: <br>0.53",
          "stalk-color-below-ring: e<br>average prediction: 0.53<br>label: pdp<br><br>mean observation prediction: <br>0.53",
          "stalk-color-below-ring: g<br>average prediction: 0.53<br>label: pdp<br><br>mean observation prediction: <br>0.53",
          "stalk-color-below-ring: n<br>average prediction: 0.53<br>label: pdp<br><br>mean observation prediction: <br>0.53",
          "stalk-color-below-ring: o<br>average prediction: 0.53<br>label: pdp<br><br>mean observation prediction: <br>0.53",
          "stalk-color-below-ring: p<br>average prediction: 0.53<br>label: pdp<br><br>mean observation prediction: <br>0.53",
          "stalk-color-below-ring: w<br>average prediction: 0.53<br>label: pdp<br><br>mean observation prediction: <br>0.53",
          "stalk-color-below-ring: y<br>average prediction: 0.53<br>label: pdp<br><br>mean observation prediction: <br>0.53"
         ],
         "legendgroup": "pdp",
         "marker": {
          "color": "#8bdcbe"
         },
         "name": "pdp",
         "orientation": "h",
         "showlegend": false,
         "type": "bar",
         "x": [
          0.53,
          0.53,
          0.53,
          0.53,
          0.53,
          0.53,
          0.53,
          0.53,
          0.53
         ],
         "xaxis": "x6",
         "y": [
          "b",
          "c",
          "e",
          "g",
          "n",
          "o",
          "p",
          "w",
          "y"
         ],
         "yaxis": "y6"
        },
        {
         "base": 0,
         "hoverinfo": "text",
         "hoverlabel": {
          "bgcolor": "rgba(0,0,0,0.8)"
         },
         "hovertext": [
          "stalk-color-below-ring: b<br>average prediction: 0.4936315789473684<br>label: ale<br><br>mean observation prediction: <br>0.53",
          "stalk-color-below-ring: c<br>average prediction: 0.4936315789473684<br>label: ale<br><br>mean observation prediction: <br>0.53",
          "stalk-color-below-ring: e<br>average prediction: 0.4936315789473684<br>label: ale<br><br>mean observation prediction: <br>0.53",
          "stalk-color-below-ring: g<br>average prediction: 0.4936315789473684<br>label: ale<br><br>mean observation prediction: <br>0.53",
          "stalk-color-below-ring: n<br>average prediction: 0.4936315789473684<br>label: ale<br><br>mean observation prediction: <br>0.53",
          "stalk-color-below-ring: o<br>average prediction: 0.4936315789473684<br>label: ale<br><br>mean observation prediction: <br>0.53",
          "stalk-color-below-ring: p<br>average prediction: 0.4936315789473684<br>label: ale<br><br>mean observation prediction: <br>0.53",
          "stalk-color-below-ring: w<br>average prediction: 0.4936315789473684<br>label: ale<br><br>mean observation prediction: <br>0.53",
          "stalk-color-below-ring: y<br>average prediction: 0.4936315789473684<br>label: ale<br><br>mean observation prediction: <br>0.53"
         ],
         "legendgroup": "ale",
         "marker": {
          "color": "#4378bf"
         },
         "name": "ale",
         "orientation": "h",
         "showlegend": false,
         "type": "bar",
         "x": [
          0.4936315789473684,
          0.4936315789473684,
          0.4936315789473684,
          0.4936315789473684,
          0.4936315789473684,
          0.4936315789473684,
          0.4936315789473684,
          0.4936315789473684,
          0.4936315789473684
         ],
         "xaxis": "x6",
         "y": [
          "b",
          "c",
          "e",
          "g",
          "n",
          "o",
          "p",
          "w",
          "y"
         ],
         "yaxis": "y6"
        }
       ],
       "layout": {
        "annotations": [
         {
          "font": {
           "size": 16
          },
          "showarrow": false,
          "text": "bruises",
          "x": 0.225,
          "xanchor": "center",
          "xref": "paper",
          "y": 1,
          "yanchor": "bottom",
          "yref": "paper"
         },
         {
          "font": {
           "size": 16
          },
          "showarrow": false,
          "text": "gill-attachment",
          "x": 0.775,
          "xanchor": "center",
          "xref": "paper",
          "y": 1,
          "yanchor": "bottom",
          "yref": "paper"
         },
         {
          "font": {
           "size": 16
          },
          "showarrow": false,
          "text": "habitat",
          "x": 0.225,
          "xanchor": "center",
          "xref": "paper",
          "y": 0.6499999999999999,
          "yanchor": "bottom",
          "yref": "paper"
         },
         {
          "font": {
           "size": 16
          },
          "showarrow": false,
          "text": "odor",
          "x": 0.775,
          "xanchor": "center",
          "xref": "paper",
          "y": 0.6499999999999999,
          "yanchor": "bottom",
          "yref": "paper"
         },
         {
          "font": {
           "size": 16
          },
          "showarrow": false,
          "text": "stalk-color-above-ring",
          "x": 0.225,
          "xanchor": "center",
          "xref": "paper",
          "y": 0.3,
          "yanchor": "bottom",
          "yref": "paper"
         },
         {
          "font": {
           "size": 16
          },
          "showarrow": false,
          "text": "stalk-color-below-ring",
          "x": 0.775,
          "xanchor": "center",
          "xref": "paper",
          "y": 0.3,
          "yanchor": "bottom",
          "yref": "paper"
         },
         {
          "font": {
           "size": 16
          },
          "showarrow": false,
          "text": "prediction",
          "x": 0.5,
          "xanchor": "center",
          "xref": "paper",
          "y": 0,
          "yanchor": "top",
          "yref": "paper",
          "yshift": -30
         }
        ],
        "font": {
         "color": "#371ea3"
        },
        "height": 1169,
        "hovermode": "closest",
        "margin": {
         "b": 71,
         "r": 30,
         "t": 78
        },
        "shapes": [
         {
          "line": {
           "color": "#371ea3",
           "dash": "dot",
           "width": 1.5
          },
          "type": "line",
          "x0": 0,
          "x1": 0,
          "xref": "x",
          "y0": 0,
          "y1": 1,
          "yref": "y"
         },
         {
          "line": {
           "color": "#371ea3",
           "dash": "dot",
           "width": 1.5
          },
          "type": "line",
          "x0": 0,
          "x1": 0,
          "xref": "x",
          "y0": 0,
          "y1": 1,
          "yref": "y"
         },
         {
          "line": {
           "color": "#371ea3",
           "dash": "dot",
           "width": 1.5
          },
          "type": "line",
          "x0": 0,
          "x1": 0,
          "xref": "x2",
          "y0": 0,
          "y1": 1,
          "yref": "y2"
         },
         {
          "line": {
           "color": "#371ea3",
           "dash": "dot",
           "width": 1.5
          },
          "type": "line",
          "x0": 0,
          "x1": 0,
          "xref": "x2",
          "y0": 0,
          "y1": 1,
          "yref": "y2"
         },
         {
          "line": {
           "color": "#371ea3",
           "dash": "dot",
           "width": 1.5
          },
          "type": "line",
          "x0": 0,
          "x1": 0,
          "xref": "x3",
          "y0": 0,
          "y1": 6,
          "yref": "y3"
         },
         {
          "line": {
           "color": "#371ea3",
           "dash": "dot",
           "width": 1.5
          },
          "type": "line",
          "x0": 0,
          "x1": 0,
          "xref": "x3",
          "y0": 0,
          "y1": 6,
          "yref": "y3"
         },
         {
          "line": {
           "color": "#371ea3",
           "dash": "dot",
           "width": 1.5
          },
          "type": "line",
          "x0": 0,
          "x1": 0,
          "xref": "x4",
          "y0": 0,
          "y1": 8,
          "yref": "y4"
         },
         {
          "line": {
           "color": "#371ea3",
           "dash": "dot",
           "width": 1.5
          },
          "type": "line",
          "x0": 0,
          "x1": 0,
          "xref": "x4",
          "y0": 0,
          "y1": 8,
          "yref": "y4"
         },
         {
          "line": {
           "color": "#371ea3",
           "dash": "dot",
           "width": 1.5
          },
          "type": "line",
          "x0": 0,
          "x1": 0,
          "xref": "x5",
          "y0": 0,
          "y1": 8,
          "yref": "y5"
         },
         {
          "line": {
           "color": "#371ea3",
           "dash": "dot",
           "width": 1.5
          },
          "type": "line",
          "x0": 0,
          "x1": 0,
          "xref": "x5",
          "y0": 0,
          "y1": 8,
          "yref": "y5"
         },
         {
          "line": {
           "color": "#371ea3",
           "dash": "dot",
           "width": 1.5
          },
          "type": "line",
          "x0": 0,
          "x1": 0,
          "xref": "x6",
          "y0": 0,
          "y1": 8,
          "yref": "y6"
         },
         {
          "line": {
           "color": "#371ea3",
           "dash": "dot",
           "width": 1.5
          },
          "type": "line",
          "x0": 0,
          "x1": 0,
          "xref": "x6",
          "y0": 0,
          "y1": 8,
          "yref": "y6"
         }
        ],
        "template": {
         "data": {
          "scatter": [
           {
            "type": "scatter"
           }
          ]
         }
        },
        "title": {
         "text": "Aggregated Profiles",
         "x": 0.15
        },
        "xaxis": {
         "anchor": "y",
         "automargin": true,
         "domain": [
          0,
          0.45
         ],
         "fixedrange": true,
         "gridwidth": 2,
         "range": [
          -0.7317236842105264,
          1.2213552631578948
         ],
         "tickcolor": "white",
         "ticklen": 3,
         "ticks": "outside",
         "type": "linear",
         "zeroline": false
        },
        "xaxis2": {
         "anchor": "y2",
         "automargin": true,
         "domain": [
          0.55,
          1
         ],
         "fixedrange": true,
         "gridwidth": 2,
         "range": [
          -0.7317236842105264,
          1.2213552631578948
         ],
         "tickcolor": "white",
         "ticklen": 3,
         "ticks": "outside",
         "type": "linear",
         "zeroline": false
        },
        "xaxis3": {
         "anchor": "y3",
         "automargin": true,
         "domain": [
          0,
          0.45
         ],
         "fixedrange": true,
         "gridwidth": 2,
         "range": [
          -0.7317236842105264,
          1.2213552631578948
         ],
         "tickcolor": "white",
         "ticklen": 3,
         "ticks": "outside",
         "type": "linear",
         "zeroline": false
        },
        "xaxis4": {
         "anchor": "y4",
         "automargin": true,
         "domain": [
          0.55,
          1
         ],
         "fixedrange": true,
         "gridwidth": 2,
         "range": [
          -0.7317236842105264,
          1.2213552631578948
         ],
         "tickcolor": "white",
         "ticklen": 3,
         "ticks": "outside",
         "type": "linear",
         "zeroline": false
        },
        "xaxis5": {
         "anchor": "y5",
         "automargin": true,
         "domain": [
          0,
          0.45
         ],
         "fixedrange": true,
         "gridwidth": 2,
         "range": [
          -0.7317236842105264,
          1.2213552631578948
         ],
         "tickcolor": "white",
         "ticklen": 3,
         "ticks": "outside",
         "type": "linear",
         "zeroline": false
        },
        "xaxis6": {
         "anchor": "y6",
         "automargin": true,
         "domain": [
          0.55,
          1
         ],
         "fixedrange": true,
         "gridwidth": 2,
         "range": [
          -0.7317236842105264,
          1.2213552631578948
         ],
         "tickcolor": "white",
         "ticklen": 3,
         "ticks": "outside",
         "type": "linear",
         "zeroline": false
        },
        "yaxis": {
         "anchor": "x",
         "automargin": true,
         "autorange": "reversed",
         "domain": [
          0.7,
          1
         ],
         "fixedrange": true,
         "gridwidth": 2,
         "tickcolor": "white",
         "ticklen": 10,
         "ticks": "outside",
         "type": "category"
        },
        "yaxis2": {
         "anchor": "x2",
         "automargin": true,
         "autorange": "reversed",
         "domain": [
          0.7,
          1
         ],
         "fixedrange": true,
         "gridwidth": 2,
         "tickcolor": "white",
         "ticklen": 10,
         "ticks": "outside",
         "type": "category"
        },
        "yaxis3": {
         "anchor": "x3",
         "automargin": true,
         "autorange": "reversed",
         "domain": [
          0.35,
          0.6499999999999999
         ],
         "fixedrange": true,
         "gridwidth": 2,
         "tickcolor": "white",
         "ticklen": 10,
         "ticks": "outside",
         "type": "category"
        },
        "yaxis4": {
         "anchor": "x4",
         "automargin": true,
         "autorange": "reversed",
         "domain": [
          0.35,
          0.6499999999999999
         ],
         "fixedrange": true,
         "gridwidth": 2,
         "tickcolor": "white",
         "ticklen": 10,
         "ticks": "outside",
         "type": "category"
        },
        "yaxis5": {
         "anchor": "x5",
         "automargin": true,
         "autorange": "reversed",
         "domain": [
          0,
          0.3
         ],
         "fixedrange": true,
         "gridwidth": 2,
         "tickcolor": "white",
         "ticklen": 10,
         "ticks": "outside",
         "type": "category"
        },
        "yaxis6": {
         "anchor": "x6",
         "automargin": true,
         "autorange": "reversed",
         "domain": [
          0,
          0.3
         ],
         "fixedrange": true,
         "gridwidth": 2,
         "tickcolor": "white",
         "ticklen": 10,
         "ticks": "outside",
         "type": "category"
        }
       }
      },
      "text/html": [
       "<div>\n",
       "        \n",
       "        \n",
       "            <div id=\"8701e0eb-5299-4cc5-8a27-3ace5c91b9cf\" class=\"plotly-graph-div\" style=\"height:1169px; width:100%;\"></div>\n",
       "            <script type=\"text/javascript\">\n",
       "                require([\"plotly\"], function(Plotly) {\n",
       "                    window.PLOTLYENV=window.PLOTLYENV || {};\n",
       "                    \n",
       "                if (document.getElementById(\"8701e0eb-5299-4cc5-8a27-3ace5c91b9cf\")) {\n",
       "                    Plotly.newPlot(\n",
       "                        '8701e0eb-5299-4cc5-8a27-3ace5c91b9cf',\n",
       "                        [{\"base\": 0, \"hoverinfo\": \"text\", \"hoverlabel\": {\"bgcolor\": \"rgba(0,0,0,0.8)\"}, \"hovertext\": [\"bruises: f<br>average prediction: 0.53<br>label: pdp<br><br>mean observation prediction: <br>0.53\", \"bruises: t<br>average prediction: 0.506<br>label: pdp<br><br>mean observation prediction: <br>0.53\"], \"legendgroup\": \"pdp\", \"marker\": {\"color\": \"#8bdcbe\"}, \"name\": \"pdp\", \"orientation\": \"h\", \"showlegend\": true, \"type\": \"bar\", \"x\": [0.53, 0.506], \"xaxis\": \"x\", \"y\": [\"f\", \"t\"], \"yaxis\": \"y\"}, {\"base\": 0, \"hoverinfo\": \"text\", \"hoverlabel\": {\"bgcolor\": \"rgba(0,0,0,0.8)\"}, \"hovertext\": [\"bruises: f<br>average prediction: 0.4936315789473684<br>label: ale<br><br>mean observation prediction: <br>0.53\", \"bruises: t<br>average prediction: 0.4936315789473684<br>label: ale<br><br>mean observation prediction: <br>0.53\"], \"legendgroup\": \"ale\", \"marker\": {\"color\": \"#4378bf\"}, \"name\": \"ale\", \"orientation\": \"h\", \"showlegend\": true, \"type\": \"bar\", \"x\": [0.4936315789473684, 0.4936315789473684], \"xaxis\": \"x\", \"y\": [\"f\", \"t\"], \"yaxis\": \"y\"}, {\"base\": 0, \"hoverinfo\": \"text\", \"hoverlabel\": {\"bgcolor\": \"rgba(0,0,0,0.8)\"}, \"hovertext\": [\"gill-attachment: a<br>average prediction: 0.53<br>label: pdp<br><br>mean observation prediction: <br>0.53\", \"gill-attachment: f<br>average prediction: 0.53<br>label: pdp<br><br>mean observation prediction: <br>0.53\"], \"legendgroup\": \"pdp\", \"marker\": {\"color\": \"#8bdcbe\"}, \"name\": \"pdp\", \"orientation\": \"h\", \"showlegend\": false, \"type\": \"bar\", \"x\": [0.53, 0.53], \"xaxis\": \"x2\", \"y\": [\"a\", \"f\"], \"yaxis\": \"y2\"}, {\"base\": 0, \"hoverinfo\": \"text\", \"hoverlabel\": {\"bgcolor\": \"rgba(0,0,0,0.8)\"}, \"hovertext\": [\"gill-attachment: a<br>average prediction: 0.4936315789473684<br>label: ale<br><br>mean observation prediction: <br>0.53\", \"gill-attachment: f<br>average prediction: 0.4936315789473684<br>label: ale<br><br>mean observation prediction: <br>0.53\"], \"legendgroup\": \"ale\", \"marker\": {\"color\": \"#4378bf\"}, \"name\": \"ale\", \"orientation\": \"h\", \"showlegend\": false, \"type\": \"bar\", \"x\": [0.4936315789473684, 0.4936315789473684], \"xaxis\": \"x2\", \"y\": [\"a\", \"f\"], \"yaxis\": \"y2\"}, {\"base\": 0, \"hoverinfo\": \"text\", \"hoverlabel\": {\"bgcolor\": \"rgba(0,0,0,0.8)\"}, \"hovertext\": [\"habitat: d<br>average prediction: 0.53<br>label: pdp<br><br>mean observation prediction: <br>0.53\", \"habitat: g<br>average prediction: 0.53<br>label: pdp<br><br>mean observation prediction: <br>0.53\", \"habitat: l<br>average prediction: 0.53<br>label: pdp<br><br>mean observation prediction: <br>0.53\", \"habitat: m<br>average prediction: 0.53<br>label: pdp<br><br>mean observation prediction: <br>0.53\", \"habitat: p<br>average prediction: 0.53<br>label: pdp<br><br>mean observation prediction: <br>0.53\", \"habitat: u<br>average prediction: 0.53<br>label: pdp<br><br>mean observation prediction: <br>0.53\", \"habitat: w<br>average prediction: 0.53<br>label: pdp<br><br>mean observation prediction: <br>0.53\"], \"legendgroup\": \"pdp\", \"marker\": {\"color\": \"#8bdcbe\"}, \"name\": \"pdp\", \"orientation\": \"h\", \"showlegend\": false, \"type\": \"bar\", \"x\": [0.53, 0.53, 0.53, 0.53, 0.53, 0.53, 0.53], \"xaxis\": \"x3\", \"y\": [\"d\", \"g\", \"l\", \"m\", \"p\", \"u\", \"w\"], \"yaxis\": \"y3\"}, {\"base\": 0, \"hoverinfo\": \"text\", \"hoverlabel\": {\"bgcolor\": \"rgba(0,0,0,0.8)\"}, \"hovertext\": [\"habitat: d<br>average prediction: 0.4936315789473684<br>label: ale<br><br>mean observation prediction: <br>0.53\", \"habitat: g<br>average prediction: 0.4936315789473684<br>label: ale<br><br>mean observation prediction: <br>0.53\", \"habitat: l<br>average prediction: 0.4936315789473684<br>label: ale<br><br>mean observation prediction: <br>0.53\", \"habitat: m<br>average prediction: 0.4936315789473684<br>label: ale<br><br>mean observation prediction: <br>0.53\", \"habitat: p<br>average prediction: 0.4936315789473684<br>label: ale<br><br>mean observation prediction: <br>0.53\", \"habitat: u<br>average prediction: 0.4936315789473684<br>label: ale<br><br>mean observation prediction: <br>0.53\", \"habitat: w<br>average prediction: 0.4936315789473684<br>label: ale<br><br>mean observation prediction: <br>0.53\"], \"legendgroup\": \"ale\", \"marker\": {\"color\": \"#4378bf\"}, \"name\": \"ale\", \"orientation\": \"h\", \"showlegend\": false, \"type\": \"bar\", \"x\": [0.4936315789473684, 0.4936315789473684, 0.4936315789473684, 0.4936315789473684, 0.4936315789473684, 0.4936315789473684, 0.4936315789473684], \"xaxis\": \"x3\", \"y\": [\"d\", \"g\", \"l\", \"m\", \"p\", \"u\", \"w\"], \"yaxis\": \"y3\"}, {\"base\": 0, \"hoverinfo\": \"text\", \"hoverlabel\": {\"bgcolor\": \"rgba(0,0,0,0.8)\"}, \"hovertext\": [\"odor: a<br>average prediction: 0.996<br>label: pdp<br><br>mean observation prediction: <br>0.53\", \"odor: c<br>average prediction: 0.084<br>label: pdp<br><br>mean observation prediction: <br>0.53\", \"odor: f<br>average prediction: 0.084<br>label: pdp<br><br>mean observation prediction: <br>0.53\", \"odor: l<br>average prediction: 0.996<br>label: pdp<br><br>mean observation prediction: <br>0.53\", \"odor: m<br>average prediction: 0.084<br>label: pdp<br><br>mean observation prediction: <br>0.53\", \"odor: n<br>average prediction: 0.916<br>label: pdp<br><br>mean observation prediction: <br>0.53\", \"odor: p<br>average prediction: 0.084<br>label: pdp<br><br>mean observation prediction: <br>0.53\", \"odor: s<br>average prediction: 0.084<br>label: pdp<br><br>mean observation prediction: <br>0.53\", \"odor: y<br>average prediction: 0.084<br>label: pdp<br><br>mean observation prediction: <br>0.53\"], \"legendgroup\": \"pdp\", \"marker\": {\"color\": \"#8bdcbe\"}, \"name\": \"pdp\", \"orientation\": \"h\", \"showlegend\": false, \"type\": \"bar\", \"x\": [0.996, 0.084, 0.084, 0.996, 0.084, 0.916, 0.084, 0.084, 0.084], \"xaxis\": \"x4\", \"y\": [\"a\", \"c\", \"f\", \"l\", \"m\", \"n\", \"p\", \"s\", \"y\"], \"yaxis\": \"y4\"}, {\"base\": 0, \"hoverinfo\": \"text\", \"hoverlabel\": {\"bgcolor\": \"rgba(0,0,0,0.8)\"}, \"hovertext\": [\"odor: a<br>average prediction: 0.4936315789473684<br>label: ale<br><br>mean observation prediction: <br>0.53\", \"odor: c<br>average prediction: -0.5063684210526316<br>label: ale<br><br>mean observation prediction: <br>0.53\", \"odor: f<br>average prediction: -0.5063684210526316<br>label: ale<br><br>mean observation prediction: <br>0.53\", \"odor: l<br>average prediction: -0.5063684210526316<br>label: ale<br><br>mean observation prediction: <br>0.53\", \"odor: m<br>average prediction: -0.5063684210526316<br>label: ale<br><br>mean observation prediction: <br>0.53\", \"odor: n<br>average prediction: 0.4670829063809967<br>label: ale<br><br>mean observation prediction: <br>0.53\", \"odor: p<br>average prediction: 0.4670829063809967<br>label: ale<br><br>mean observation prediction: <br>0.53\", \"odor: s<br>average prediction: 0.4670829063809967<br>label: ale<br><br>mean observation prediction: <br>0.53\", \"odor: y<br>average prediction: 0.4670829063809967<br>label: ale<br><br>mean observation prediction: <br>0.53\"], \"legendgroup\": \"ale\", \"marker\": {\"color\": \"#4378bf\"}, \"name\": \"ale\", \"orientation\": \"h\", \"showlegend\": false, \"type\": \"bar\", \"x\": [0.4936315789473684, -0.5063684210526316, -0.5063684210526316, -0.5063684210526316, -0.5063684210526316, 0.4670829063809967, 0.4670829063809967, 0.4670829063809967, 0.4670829063809967], \"xaxis\": \"x4\", \"y\": [\"a\", \"c\", \"f\", \"l\", \"m\", \"n\", \"p\", \"s\", \"y\"], \"yaxis\": \"y4\"}, {\"base\": 0, \"hoverinfo\": \"text\", \"hoverlabel\": {\"bgcolor\": \"rgba(0,0,0,0.8)\"}, \"hovertext\": [\"stalk-color-above-ring: b<br>average prediction: 0.53<br>label: pdp<br><br>mean observation prediction: <br>0.53\", \"stalk-color-above-ring: c<br>average prediction: 0.53<br>label: pdp<br><br>mean observation prediction: <br>0.53\", \"stalk-color-above-ring: e<br>average prediction: 0.53<br>label: pdp<br><br>mean observation prediction: <br>0.53\", \"stalk-color-above-ring: g<br>average prediction: 0.53<br>label: pdp<br><br>mean observation prediction: <br>0.53\", \"stalk-color-above-ring: n<br>average prediction: 0.53<br>label: pdp<br><br>mean observation prediction: <br>0.53\", \"stalk-color-above-ring: o<br>average prediction: 0.53<br>label: pdp<br><br>mean observation prediction: <br>0.53\", \"stalk-color-above-ring: p<br>average prediction: 0.53<br>label: pdp<br><br>mean observation prediction: <br>0.53\", \"stalk-color-above-ring: w<br>average prediction: 0.53<br>label: pdp<br><br>mean observation prediction: <br>0.53\", \"stalk-color-above-ring: y<br>average prediction: 0.53<br>label: pdp<br><br>mean observation prediction: <br>0.53\"], \"legendgroup\": \"pdp\", \"marker\": {\"color\": \"#8bdcbe\"}, \"name\": \"pdp\", \"orientation\": \"h\", \"showlegend\": false, \"type\": \"bar\", \"x\": [0.53, 0.53, 0.53, 0.53, 0.53, 0.53, 0.53, 0.53, 0.53], \"xaxis\": \"x5\", \"y\": [\"b\", \"c\", \"e\", \"g\", \"n\", \"o\", \"p\", \"w\", \"y\"], \"yaxis\": \"y5\"}, {\"base\": 0, \"hoverinfo\": \"text\", \"hoverlabel\": {\"bgcolor\": \"rgba(0,0,0,0.8)\"}, \"hovertext\": [\"stalk-color-above-ring: b<br>average prediction: 0.4936315789473684<br>label: ale<br><br>mean observation prediction: <br>0.53\", \"stalk-color-above-ring: c<br>average prediction: 0.4936315789473684<br>label: ale<br><br>mean observation prediction: <br>0.53\", \"stalk-color-above-ring: e<br>average prediction: 0.4936315789473684<br>label: ale<br><br>mean observation prediction: <br>0.53\", \"stalk-color-above-ring: g<br>average prediction: 0.4936315789473684<br>label: ale<br><br>mean observation prediction: <br>0.53\", \"stalk-color-above-ring: n<br>average prediction: 0.4936315789473684<br>label: ale<br><br>mean observation prediction: <br>0.53\", \"stalk-color-above-ring: o<br>average prediction: 0.4936315789473684<br>label: ale<br><br>mean observation prediction: <br>0.53\", \"stalk-color-above-ring: p<br>average prediction: 0.4936315789473684<br>label: ale<br><br>mean observation prediction: <br>0.53\", \"stalk-color-above-ring: w<br>average prediction: 0.4936315789473684<br>label: ale<br><br>mean observation prediction: <br>0.53\", \"stalk-color-above-ring: y<br>average prediction: 0.4936315789473684<br>label: ale<br><br>mean observation prediction: <br>0.53\"], \"legendgroup\": \"ale\", \"marker\": {\"color\": \"#4378bf\"}, \"name\": \"ale\", \"orientation\": \"h\", \"showlegend\": false, \"type\": \"bar\", \"x\": [0.4936315789473684, 0.4936315789473684, 0.4936315789473684, 0.4936315789473684, 0.4936315789473684, 0.4936315789473684, 0.4936315789473684, 0.4936315789473684, 0.4936315789473684], \"xaxis\": \"x5\", \"y\": [\"b\", \"c\", \"e\", \"g\", \"n\", \"o\", \"p\", \"w\", \"y\"], \"yaxis\": \"y5\"}, {\"base\": 0, \"hoverinfo\": \"text\", \"hoverlabel\": {\"bgcolor\": \"rgba(0,0,0,0.8)\"}, \"hovertext\": [\"stalk-color-below-ring: b<br>average prediction: 0.53<br>label: pdp<br><br>mean observation prediction: <br>0.53\", \"stalk-color-below-ring: c<br>average prediction: 0.53<br>label: pdp<br><br>mean observation prediction: <br>0.53\", \"stalk-color-below-ring: e<br>average prediction: 0.53<br>label: pdp<br><br>mean observation prediction: <br>0.53\", \"stalk-color-below-ring: g<br>average prediction: 0.53<br>label: pdp<br><br>mean observation prediction: <br>0.53\", \"stalk-color-below-ring: n<br>average prediction: 0.53<br>label: pdp<br><br>mean observation prediction: <br>0.53\", \"stalk-color-below-ring: o<br>average prediction: 0.53<br>label: pdp<br><br>mean observation prediction: <br>0.53\", \"stalk-color-below-ring: p<br>average prediction: 0.53<br>label: pdp<br><br>mean observation prediction: <br>0.53\", \"stalk-color-below-ring: w<br>average prediction: 0.53<br>label: pdp<br><br>mean observation prediction: <br>0.53\", \"stalk-color-below-ring: y<br>average prediction: 0.53<br>label: pdp<br><br>mean observation prediction: <br>0.53\"], \"legendgroup\": \"pdp\", \"marker\": {\"color\": \"#8bdcbe\"}, \"name\": \"pdp\", \"orientation\": \"h\", \"showlegend\": false, \"type\": \"bar\", \"x\": [0.53, 0.53, 0.53, 0.53, 0.53, 0.53, 0.53, 0.53, 0.53], \"xaxis\": \"x6\", \"y\": [\"b\", \"c\", \"e\", \"g\", \"n\", \"o\", \"p\", \"w\", \"y\"], \"yaxis\": \"y6\"}, {\"base\": 0, \"hoverinfo\": \"text\", \"hoverlabel\": {\"bgcolor\": \"rgba(0,0,0,0.8)\"}, \"hovertext\": [\"stalk-color-below-ring: b<br>average prediction: 0.4936315789473684<br>label: ale<br><br>mean observation prediction: <br>0.53\", \"stalk-color-below-ring: c<br>average prediction: 0.4936315789473684<br>label: ale<br><br>mean observation prediction: <br>0.53\", \"stalk-color-below-ring: e<br>average prediction: 0.4936315789473684<br>label: ale<br><br>mean observation prediction: <br>0.53\", \"stalk-color-below-ring: g<br>average prediction: 0.4936315789473684<br>label: ale<br><br>mean observation prediction: <br>0.53\", \"stalk-color-below-ring: n<br>average prediction: 0.4936315789473684<br>label: ale<br><br>mean observation prediction: <br>0.53\", \"stalk-color-below-ring: o<br>average prediction: 0.4936315789473684<br>label: ale<br><br>mean observation prediction: <br>0.53\", \"stalk-color-below-ring: p<br>average prediction: 0.4936315789473684<br>label: ale<br><br>mean observation prediction: <br>0.53\", \"stalk-color-below-ring: w<br>average prediction: 0.4936315789473684<br>label: ale<br><br>mean observation prediction: <br>0.53\", \"stalk-color-below-ring: y<br>average prediction: 0.4936315789473684<br>label: ale<br><br>mean observation prediction: <br>0.53\"], \"legendgroup\": \"ale\", \"marker\": {\"color\": \"#4378bf\"}, \"name\": \"ale\", \"orientation\": \"h\", \"showlegend\": false, \"type\": \"bar\", \"x\": [0.4936315789473684, 0.4936315789473684, 0.4936315789473684, 0.4936315789473684, 0.4936315789473684, 0.4936315789473684, 0.4936315789473684, 0.4936315789473684, 0.4936315789473684], \"xaxis\": \"x6\", \"y\": [\"b\", \"c\", \"e\", \"g\", \"n\", \"o\", \"p\", \"w\", \"y\"], \"yaxis\": \"y6\"}],\n",
       "                        {\"annotations\": [{\"font\": {\"size\": 16}, \"showarrow\": false, \"text\": \"bruises\", \"x\": 0.225, \"xanchor\": \"center\", \"xref\": \"paper\", \"y\": 1.0, \"yanchor\": \"bottom\", \"yref\": \"paper\"}, {\"font\": {\"size\": 16}, \"showarrow\": false, \"text\": \"gill-attachment\", \"x\": 0.775, \"xanchor\": \"center\", \"xref\": \"paper\", \"y\": 1.0, \"yanchor\": \"bottom\", \"yref\": \"paper\"}, {\"font\": {\"size\": 16}, \"showarrow\": false, \"text\": \"habitat\", \"x\": 0.225, \"xanchor\": \"center\", \"xref\": \"paper\", \"y\": 0.6499999999999999, \"yanchor\": \"bottom\", \"yref\": \"paper\"}, {\"font\": {\"size\": 16}, \"showarrow\": false, \"text\": \"odor\", \"x\": 0.775, \"xanchor\": \"center\", \"xref\": \"paper\", \"y\": 0.6499999999999999, \"yanchor\": \"bottom\", \"yref\": \"paper\"}, {\"font\": {\"size\": 16}, \"showarrow\": false, \"text\": \"stalk-color-above-ring\", \"x\": 0.225, \"xanchor\": \"center\", \"xref\": \"paper\", \"y\": 0.3, \"yanchor\": \"bottom\", \"yref\": \"paper\"}, {\"font\": {\"size\": 16}, \"showarrow\": false, \"text\": \"stalk-color-below-ring\", \"x\": 0.775, \"xanchor\": \"center\", \"xref\": \"paper\", \"y\": 0.3, \"yanchor\": \"bottom\", \"yref\": \"paper\"}, {\"font\": {\"size\": 16}, \"showarrow\": false, \"text\": \"prediction\", \"x\": 0.5, \"xanchor\": \"center\", \"xref\": \"paper\", \"y\": 0, \"yanchor\": \"top\", \"yref\": \"paper\", \"yshift\": -30}], \"font\": {\"color\": \"#371ea3\"}, \"height\": 1169, \"hovermode\": \"closest\", \"margin\": {\"b\": 71, \"r\": 30, \"t\": 78}, \"shapes\": [{\"line\": {\"color\": \"#371ea3\", \"dash\": \"dot\", \"width\": 1.5}, \"type\": \"line\", \"x0\": 0, \"x1\": 0, \"xref\": \"x\", \"y0\": 0, \"y1\": 1, \"yref\": \"y\"}, {\"line\": {\"color\": \"#371ea3\", \"dash\": \"dot\", \"width\": 1.5}, \"type\": \"line\", \"x0\": 0, \"x1\": 0, \"xref\": \"x\", \"y0\": 0, \"y1\": 1, \"yref\": \"y\"}, {\"line\": {\"color\": \"#371ea3\", \"dash\": \"dot\", \"width\": 1.5}, \"type\": \"line\", \"x0\": 0, \"x1\": 0, \"xref\": \"x2\", \"y0\": 0, \"y1\": 1, \"yref\": \"y2\"}, {\"line\": {\"color\": \"#371ea3\", \"dash\": \"dot\", \"width\": 1.5}, \"type\": \"line\", \"x0\": 0, \"x1\": 0, \"xref\": \"x2\", \"y0\": 0, \"y1\": 1, \"yref\": \"y2\"}, {\"line\": {\"color\": \"#371ea3\", \"dash\": \"dot\", \"width\": 1.5}, \"type\": \"line\", \"x0\": 0, \"x1\": 0, \"xref\": \"x3\", \"y0\": 0, \"y1\": 6, \"yref\": \"y3\"}, {\"line\": {\"color\": \"#371ea3\", \"dash\": \"dot\", \"width\": 1.5}, \"type\": \"line\", \"x0\": 0, \"x1\": 0, \"xref\": \"x3\", \"y0\": 0, \"y1\": 6, \"yref\": \"y3\"}, {\"line\": {\"color\": \"#371ea3\", \"dash\": \"dot\", \"width\": 1.5}, \"type\": \"line\", \"x0\": 0, \"x1\": 0, \"xref\": \"x4\", \"y0\": 0, \"y1\": 8, \"yref\": \"y4\"}, {\"line\": {\"color\": \"#371ea3\", \"dash\": \"dot\", \"width\": 1.5}, \"type\": \"line\", \"x0\": 0, \"x1\": 0, \"xref\": \"x4\", \"y0\": 0, \"y1\": 8, \"yref\": \"y4\"}, {\"line\": {\"color\": \"#371ea3\", \"dash\": \"dot\", \"width\": 1.5}, \"type\": \"line\", \"x0\": 0, \"x1\": 0, \"xref\": \"x5\", \"y0\": 0, \"y1\": 8, \"yref\": \"y5\"}, {\"line\": {\"color\": \"#371ea3\", \"dash\": \"dot\", \"width\": 1.5}, \"type\": \"line\", \"x0\": 0, \"x1\": 0, \"xref\": \"x5\", \"y0\": 0, \"y1\": 8, \"yref\": \"y5\"}, {\"line\": {\"color\": \"#371ea3\", \"dash\": \"dot\", \"width\": 1.5}, \"type\": \"line\", \"x0\": 0, \"x1\": 0, \"xref\": \"x6\", \"y0\": 0, \"y1\": 8, \"yref\": \"y6\"}, {\"line\": {\"color\": \"#371ea3\", \"dash\": \"dot\", \"width\": 1.5}, \"type\": \"line\", \"x0\": 0, \"x1\": 0, \"xref\": \"x6\", \"y0\": 0, \"y1\": 8, \"yref\": \"y6\"}], \"template\": {\"data\": {\"scatter\": [{\"type\": \"scatter\"}]}}, \"title\": {\"text\": \"Aggregated Profiles\", \"x\": 0.15}, \"xaxis\": {\"anchor\": \"y\", \"automargin\": true, \"domain\": [0.0, 0.45], \"fixedrange\": true, \"gridwidth\": 2, \"range\": [-0.7317236842105264, 1.2213552631578948], \"tickcolor\": \"white\", \"ticklen\": 3, \"ticks\": \"outside\", \"type\": \"linear\", \"zeroline\": false}, \"xaxis2\": {\"anchor\": \"y2\", \"automargin\": true, \"domain\": [0.55, 1.0], \"fixedrange\": true, \"gridwidth\": 2, \"range\": [-0.7317236842105264, 1.2213552631578948], \"tickcolor\": \"white\", \"ticklen\": 3, \"ticks\": \"outside\", \"type\": \"linear\", \"zeroline\": false}, \"xaxis3\": {\"anchor\": \"y3\", \"automargin\": true, \"domain\": [0.0, 0.45], \"fixedrange\": true, \"gridwidth\": 2, \"range\": [-0.7317236842105264, 1.2213552631578948], \"tickcolor\": \"white\", \"ticklen\": 3, \"ticks\": \"outside\", \"type\": \"linear\", \"zeroline\": false}, \"xaxis4\": {\"anchor\": \"y4\", \"automargin\": true, \"domain\": [0.55, 1.0], \"fixedrange\": true, \"gridwidth\": 2, \"range\": [-0.7317236842105264, 1.2213552631578948], \"tickcolor\": \"white\", \"ticklen\": 3, \"ticks\": \"outside\", \"type\": \"linear\", \"zeroline\": false}, \"xaxis5\": {\"anchor\": \"y5\", \"automargin\": true, \"domain\": [0.0, 0.45], \"fixedrange\": true, \"gridwidth\": 2, \"range\": [-0.7317236842105264, 1.2213552631578948], \"tickcolor\": \"white\", \"ticklen\": 3, \"ticks\": \"outside\", \"type\": \"linear\", \"zeroline\": false}, \"xaxis6\": {\"anchor\": \"y6\", \"automargin\": true, \"domain\": [0.55, 1.0], \"fixedrange\": true, \"gridwidth\": 2, \"range\": [-0.7317236842105264, 1.2213552631578948], \"tickcolor\": \"white\", \"ticklen\": 3, \"ticks\": \"outside\", \"type\": \"linear\", \"zeroline\": false}, \"yaxis\": {\"anchor\": \"x\", \"automargin\": true, \"autorange\": \"reversed\", \"domain\": [0.7, 1.0], \"fixedrange\": true, \"gridwidth\": 2, \"tickcolor\": \"white\", \"ticklen\": 10, \"ticks\": \"outside\", \"type\": \"category\"}, \"yaxis2\": {\"anchor\": \"x2\", \"automargin\": true, \"autorange\": \"reversed\", \"domain\": [0.7, 1.0], \"fixedrange\": true, \"gridwidth\": 2, \"tickcolor\": \"white\", \"ticklen\": 10, \"ticks\": \"outside\", \"type\": \"category\"}, \"yaxis3\": {\"anchor\": \"x3\", \"automargin\": true, \"autorange\": \"reversed\", \"domain\": [0.35, 0.6499999999999999], \"fixedrange\": true, \"gridwidth\": 2, \"tickcolor\": \"white\", \"ticklen\": 10, \"ticks\": \"outside\", \"type\": \"category\"}, \"yaxis4\": {\"anchor\": \"x4\", \"automargin\": true, \"autorange\": \"reversed\", \"domain\": [0.35, 0.6499999999999999], \"fixedrange\": true, \"gridwidth\": 2, \"tickcolor\": \"white\", \"ticklen\": 10, \"ticks\": \"outside\", \"type\": \"category\"}, \"yaxis5\": {\"anchor\": \"x5\", \"automargin\": true, \"autorange\": \"reversed\", \"domain\": [0.0, 0.3], \"fixedrange\": true, \"gridwidth\": 2, \"tickcolor\": \"white\", \"ticklen\": 10, \"ticks\": \"outside\", \"type\": \"category\"}, \"yaxis6\": {\"anchor\": \"x6\", \"automargin\": true, \"autorange\": \"reversed\", \"domain\": [0.0, 0.3], \"fixedrange\": true, \"gridwidth\": 2, \"tickcolor\": \"white\", \"ticklen\": 10, \"ticks\": \"outside\", \"type\": \"category\"}},\n",
       "                        {\"displaylogo\": false, \"staticPlot\": false, \"modeBarButtonsToRemove\": [\"sendDataToCloud\", \"lasso2d\", \"autoScale2d\", \"select2d\", \"zoom2d\", \"pan2d\", \"zoomIn2d\", \"zoomOut2d\", \"resetScale2d\", \"toggleSpikelines\", \"hoverCompareCartesian\", \"hoverClosestCartesian\"], \"responsive\": true}\n",
       "                    ).then(function(){\n",
       "                            \n",
       "var gd = document.getElementById('8701e0eb-5299-4cc5-8a27-3ace5c91b9cf');\n",
       "var x = new MutationObserver(function (mutations, observer) {{\n",
       "        var display = window.getComputedStyle(gd).display;\n",
       "        if (!display || display === 'none') {{\n",
       "            console.log([gd, 'removed!']);\n",
       "            Plotly.purge(gd);\n",
       "            observer.disconnect();\n",
       "        }}\n",
       "}});\n",
       "\n",
       "// Listen for the removal of the full notebook cells\n",
       "var notebookContainer = gd.closest('#notebook-container');\n",
       "if (notebookContainer) {{\n",
       "    x.observe(notebookContainer, {childList: true});\n",
       "}}\n",
       "\n",
       "// Listen for the clearing of the current output cell\n",
       "var outputEl = gd.closest('.output');\n",
       "if (outputEl) {{\n",
       "    x.observe(outputEl, {childList: true});\n",
       "}}\n",
       "\n",
       "                        })\n",
       "                };\n",
       "                });\n",
       "            </script>\n",
       "        </div>"
      ]
     },
     "metadata": {},
     "output_type": "display_data"
    }
   ],
   "source": [
    "ale_num = expdt.model_profile(type = 'accumulated', variables=[\"bruises\",\"gill-attachment\",\"stalk-color-above-ring\",\"habitat\", \"odor\", \"stalk-color-below-ring\"],variable_type='categorical')\n",
    "ale_num.result[\"_label_\"] = 'ale'\n",
    "pdp_num = expdt.model_profile(type = 'partial', variables=[\"bruises\",\"gill-attachment\",\"stalk-color-above-ring\",\"habitat\", \"odor\", \"stalk-color-below-ring\"],variable_type='categorical')\n",
    "pdp_num.result[\"_label_\"] = 'pdp'\n",
    "pdp_num.plot(ale_num)"
   ]
  },
  {
   "cell_type": "markdown",
   "metadata": {},
   "source": [
    "Dla Decision Tree zmienna **odor** także zachowuje się inaczej niż przy innych modelach. Teraz jednak inne wartości tego parametru obniżają prawdopodobieństwo niż w modelu z Regresją Logistyczną."
   ]
  },
  {
   "cell_type": "markdown",
   "metadata": {},
   "source": [
    "## Załącznik"
   ]
  },
  {
   "cell_type": "code",
   "execution_count": 60,
   "metadata": {
    "hide_input": false,
    "scrolled": false
   },
   "outputs": [
    {
     "data": {
      "image/png": "[encoded data removed]",
      "text/plain": [
       "<Figure size 432x288 with 1 Axes>"
      ]
     },
     "metadata": {
      "needs_background": "light"
     },
     "output_type": "display_data"
    },
    {
     "name": "stdout",
     "output_type": "stream",
     "text": [
      "Preparation of a new explainer is initiated\n",
      "\n",
      "  -> target variable   :  Mushrooms Random Forest\n",
      "  -> data              : 6499 rows 22 cols\n",
      "  -> target variable   : 6499 values\n",
      "  -> predict function  : <function yhat.<locals>.<lambda> at 0x7f4d5fcc2200> will be used\n",
      "  -> predicted values  : min = 0.0, mean = 0.5189859978458224, max = 1.0\n",
      "  -> residual function : difference between y and yhat\n",
      "  -> residuals         : min = -0.02, mean = 1.6925680873980658e-05, max = 0.040000000000000036\n",
      "  -> model_info        : package sklearn\n",
      "\n",
      "A new explainer has been created!\n",
      "Preparation of a new explainer is initiated\n",
      "\n",
      "  -> target variable   :  Mushrooms Logistic Regression\n",
      "  -> data              : 6499 rows 22 cols\n",
      "  -> target variable   : 6499 values\n",
      "  -> predict function  : <function yhat.<locals>.<lambda> at 0x7f4d5fcc2950> will be used\n"
     ]
    },
    {
     "name": "stderr",
     "output_type": "stream",
     "text": [
      "Calculating ceteris paribus!:   0%|          | 0/22 [00:00<?, ?it/s]"
     ]
    },
    {
     "name": "stdout",
     "output_type": "stream",
     "text": [
      "  -> predicted values  : min = 7.089504558496599e-06, mean = 0.5190029774307335, max = 0.9999945841395034\n",
      "  -> residual function : difference between y and yhat\n",
      "  -> residuals         : min = -0.35738202665753765, mean = -5.390403705485932e-08, max = 0.16405901249829247\n",
      "  -> model_info        : package sklearn\n",
      "\n",
      "A new explainer has been created!\n",
      "Preparation of a new explainer is initiated\n",
      "\n",
      "  -> target variable   :  Mushrooms Decision Tree\n",
      "  -> data              : 6499 rows 22 cols\n",
      "  -> target variable   : 6499 values\n",
      "  -> predict function  : <function yhat.<locals>.<lambda> at 0x7f4d5c924e60> will be used\n",
      "  -> predicted values  : min = 0.0, mean = 0.5190029235266964, max = 1.0\n",
      "  -> residual function : difference between y and yhat\n",
      "  -> residuals         : min = 0.0, mean = 0.0, max = 0.0\n",
      "  -> model_info        : package sklearn\n",
      "\n",
      "A new explainer has been created!\n"
     ]
    },
    {
     "name": "stderr",
     "output_type": "stream",
     "text": [
      "Calculating ceteris paribus!: 100%|██████████| 22/22 [00:00<00:00, 37.14it/s]\n",
      "Calculating accumulated dependency!: 100%|██████████| 6/6 [00:01<00:00,  4.90it/s]\n",
      "Calculating ceteris paribus!: 100%|██████████| 22/22 [00:00<00:00, 43.18it/s]\n"
     ]
    },
    {
     "data": {
      "application/vnd.plotly.v1+json": {
       "config": {
        "displaylogo": false,
        "modeBarButtonsToRemove": [
         "sendDataToCloud",
         "lasso2d",
         "autoScale2d",
         "select2d",
         "zoom2d",
         "pan2d",
         "zoomIn2d",
         "zoomOut2d",
         "resetScale2d",
         "toggleSpikelines",
         "hoverCompareCartesian",
         "hoverClosestCartesian"
        ],
        "plotlyServerURL": "https://plot.ly",
        "staticPlot": false
       },
       "data": [
        {
         "base": 0,
         "hoverinfo": "text",
         "hoverlabel": {
          "bgcolor": "rgba(0,0,0,0.8)"
         },
         "hovertext": [
          "bruises: f<br>average prediction: 0.522<br>label: pdp<br><br>mean observation prediction: <br>0.522",
          "bruises: t<br>average prediction: 0.522<br>label: pdp<br><br>mean observation prediction: <br>0.522"
         ],
         "legendgroup": "pdp",
         "marker": {
          "color": "#8bdcbe"
         },
         "name": "pdp",
         "orientation": "h",
         "showlegend": true,
         "type": "bar",
         "x": [
          0.522,
          0.522
         ],
         "xaxis": "x",
         "y": [
          "f",
          "t"
         ],
         "yaxis": "y"
        },
        {
         "base": 0,
         "hoverinfo": "text",
         "hoverlabel": {
          "bgcolor": "rgba(0,0,0,0.8)"
         },
         "hovertext": [
          "bruises: f<br>average prediction: 0.48978947368421055<br>label: ale<br><br>mean observation prediction: <br>0.522",
          "bruises: t<br>average prediction: 0.48978947368421055<br>label: ale<br><br>mean observation prediction: <br>0.522"
         ],
         "legendgroup": "ale",
         "marker": {
          "color": "#4378bf"
         },
         "name": "ale",
         "orientation": "h",
         "showlegend": true,
         "type": "bar",
         "x": [
          0.48978947368421055,
          0.48978947368421055
         ],
         "xaxis": "x",
         "y": [
          "f",
          "t"
         ],
         "yaxis": "y"
        },
        {
         "base": 0,
         "hoverinfo": "text",
         "hoverlabel": {
          "bgcolor": "rgba(0,0,0,0.8)"
         },
         "hovertext": [
          "gill-attachment: a<br>average prediction: 0.522<br>label: pdp<br><br>mean observation prediction: <br>0.522",
          "gill-attachment: f<br>average prediction: 0.522<br>label: pdp<br><br>mean observation prediction: <br>0.522"
         ],
         "legendgroup": "pdp",
         "marker": {
          "color": "#8bdcbe"
         },
         "name": "pdp",
         "orientation": "h",
         "showlegend": false,
         "type": "bar",
         "x": [
          0.522,
          0.522
         ],
         "xaxis": "x2",
         "y": [
          "a",
          "f"
         ],
         "yaxis": "y2"
        },
        {
         "base": 0,
         "hoverinfo": "text",
         "hoverlabel": {
          "bgcolor": "rgba(0,0,0,0.8)"
         },
         "hovertext": [
          "gill-attachment: a<br>average prediction: 0.48978947368421055<br>label: ale<br><br>mean observation prediction: <br>0.522",
          "gill-attachment: f<br>average prediction: 0.48978947368421055<br>label: ale<br><br>mean observation prediction: <br>0.522"
         ],
         "legendgroup": "ale",
         "marker": {
          "color": "#4378bf"
         },
         "name": "ale",
         "orientation": "h",
         "showlegend": false,
         "type": "bar",
         "x": [
          0.48978947368421055,
          0.48978947368421055
         ],
         "xaxis": "x2",
         "y": [
          "a",
          "f"
         ],
         "yaxis": "y2"
        },
        {
         "base": 0,
         "hoverinfo": "text",
         "hoverlabel": {
          "bgcolor": "rgba(0,0,0,0.8)"
         },
         "hovertext": [
          "habitat: d<br>average prediction: 0.522<br>label: pdp<br><br>mean observation prediction: <br>0.522",
          "habitat: g<br>average prediction: 0.522<br>label: pdp<br><br>mean observation prediction: <br>0.522",
          "habitat: l<br>average prediction: 0.522<br>label: pdp<br><br>mean observation prediction: <br>0.522",
          "habitat: m<br>average prediction: 0.522<br>label: pdp<br><br>mean observation prediction: <br>0.522",
          "habitat: p<br>average prediction: 0.522<br>label: pdp<br><br>mean observation prediction: <br>0.522",
          "habitat: u<br>average prediction: 0.522<br>label: pdp<br><br>mean observation prediction: <br>0.522",
          "habitat: w<br>average prediction: 0.522<br>label: pdp<br><br>mean observation prediction: <br>0.522"
         ],
         "legendgroup": "pdp",
         "marker": {
          "color": "#8bdcbe"
         },
         "name": "pdp",
         "orientation": "h",
         "showlegend": false,
         "type": "bar",
         "x": [
          0.522,
          0.522,
          0.522,
          0.522,
          0.522,
          0.522,
          0.522
         ],
         "xaxis": "x3",
         "y": [
          "d",
          "g",
          "l",
          "m",
          "p",
          "u",
          "w"
         ],
         "yaxis": "y3"
        },
        {
         "base": 0,
         "hoverinfo": "text",
         "hoverlabel": {
          "bgcolor": "rgba(0,0,0,0.8)"
         },
         "hovertext": [
          "habitat: d<br>average prediction: 0.48978947368421055<br>label: ale<br><br>mean observation prediction: <br>0.522",
          "habitat: g<br>average prediction: 0.48978947368421055<br>label: ale<br><br>mean observation prediction: <br>0.522",
          "habitat: l<br>average prediction: 0.48978947368421055<br>label: ale<br><br>mean observation prediction: <br>0.522",
          "habitat: m<br>average prediction: 0.48978947368421055<br>label: ale<br><br>mean observation prediction: <br>0.522",
          "habitat: p<br>average prediction: 0.48978947368421055<br>label: ale<br><br>mean observation prediction: <br>0.522",
          "habitat: u<br>average prediction: 0.48978947368421055<br>label: ale<br><br>mean observation prediction: <br>0.522",
          "habitat: w<br>average prediction: 0.48978947368421055<br>label: ale<br><br>mean observation prediction: <br>0.522"
         ],
         "legendgroup": "ale",
         "marker": {
          "color": "#4378bf"
         },
         "name": "ale",
         "orientation": "h",
         "showlegend": false,
         "type": "bar",
         "x": [
          0.48978947368421055,
          0.48978947368421055,
          0.48978947368421055,
          0.48978947368421055,
          0.48978947368421055,
          0.48978947368421055,
          0.48978947368421055
         ],
         "xaxis": "x3",
         "y": [
          "d",
          "g",
          "l",
          "m",
          "p",
          "u",
          "w"
         ],
         "yaxis": "y3"
        },
        {
         "base": 0,
         "hoverinfo": "text",
         "hoverlabel": {
          "bgcolor": "rgba(0,0,0,0.8)"
         },
         "hovertext": [
          "odor: a<br>average prediction: 1.0<br>label: pdp<br><br>mean observation prediction: <br>0.522",
          "odor: c<br>average prediction: 0.084<br>label: pdp<br><br>mean observation prediction: <br>0.522",
          "odor: f<br>average prediction: 0.084<br>label: pdp<br><br>mean observation prediction: <br>0.522",
          "odor: l<br>average prediction: 1.0<br>label: pdp<br><br>mean observation prediction: <br>0.522",
          "odor: m<br>average prediction: 0.084<br>label: pdp<br><br>mean observation prediction: <br>0.522",
          "odor: n<br>average prediction: 0.97<br>label: pdp<br><br>mean observation prediction: <br>0.522",
          "odor: p<br>average prediction: 0.084<br>label: pdp<br><br>mean observation prediction: <br>0.522",
          "odor: s<br>average prediction: 0.084<br>label: pdp<br><br>mean observation prediction: <br>0.522",
          "odor: y<br>average prediction: 0.084<br>label: pdp<br><br>mean observation prediction: <br>0.522"
         ],
         "legendgroup": "pdp",
         "marker": {
          "color": "#8bdcbe"
         },
         "name": "pdp",
         "orientation": "h",
         "showlegend": false,
         "type": "bar",
         "x": [
          1,
          0.084,
          0.084,
          1,
          0.084,
          0.97,
          0.084,
          0.084,
          0.084
         ],
         "xaxis": "x4",
         "y": [
          "a",
          "c",
          "f",
          "l",
          "m",
          "n",
          "p",
          "s",
          "y"
         ],
         "yaxis": "y4"
        },
        {
         "base": 0,
         "hoverinfo": "text",
         "hoverlabel": {
          "bgcolor": "rgba(0,0,0,0.8)"
         },
         "hovertext": [
          "odor: a<br>average prediction: 0.48978947368421055<br>label: ale<br><br>mean observation prediction: <br>0.522",
          "odor: c<br>average prediction: -0.5102105263157894<br>label: ale<br><br>mean observation prediction: <br>0.522",
          "odor: f<br>average prediction: -0.5102105263157894<br>label: ale<br><br>mean observation prediction: <br>0.522",
          "odor: l<br>average prediction: -0.5102105263157894<br>label: ale<br><br>mean observation prediction: <br>0.522",
          "odor: m<br>average prediction: -0.5102105263157894<br>label: ale<br><br>mean observation prediction: <br>0.522",
          "odor: n<br>average prediction: 0.4588160223567769<br>label: ale<br><br>mean observation prediction: <br>0.522",
          "odor: p<br>average prediction: -0.541183977643223<br>label: ale<br><br>mean observation prediction: <br>0.522",
          "odor: s<br>average prediction: -0.541183977643223<br>label: ale<br><br>mean observation prediction: <br>0.522",
          "odor: y<br>average prediction: -0.541183977643223<br>label: ale<br><br>mean observation prediction: <br>0.522"
         ],
         "legendgroup": "ale",
         "marker": {
          "color": "#4378bf"
         },
         "name": "ale",
         "orientation": "h",
         "showlegend": false,
         "type": "bar",
         "x": [
          0.48978947368421055,
          -0.5102105263157894,
          -0.5102105263157894,
          -0.5102105263157894,
          -0.5102105263157894,
          0.4588160223567769,
          -0.541183977643223,
          -0.541183977643223,
          -0.541183977643223
         ],
         "xaxis": "x4",
         "y": [
          "a",
          "c",
          "f",
          "l",
          "m",
          "n",
          "p",
          "s",
          "y"
         ],
         "yaxis": "y4"
        },
        {
         "base": 0,
         "hoverinfo": "text",
         "hoverlabel": {
          "bgcolor": "rgba(0,0,0,0.8)"
         },
         "hovertext": [
          "stalk-color-above-ring: b<br>average prediction: 0.522<br>label: pdp<br><br>mean observation prediction: <br>0.522",
          "stalk-color-above-ring: c<br>average prediction: 0.522<br>label: pdp<br><br>mean observation prediction: <br>0.522",
          "stalk-color-above-ring: e<br>average prediction: 0.522<br>label: pdp<br><br>mean observation prediction: <br>0.522",
          "stalk-color-above-ring: g<br>average prediction: 0.522<br>label: pdp<br><br>mean observation prediction: <br>0.522",
          "stalk-color-above-ring: n<br>average prediction: 0.522<br>label: pdp<br><br>mean observation prediction: <br>0.522",
          "stalk-color-above-ring: o<br>average prediction: 0.522<br>label: pdp<br><br>mean observation prediction: <br>0.522",
          "stalk-color-above-ring: p<br>average prediction: 0.522<br>label: pdp<br><br>mean observation prediction: <br>0.522",
          "stalk-color-above-ring: w<br>average prediction: 0.522<br>label: pdp<br><br>mean observation prediction: <br>0.522",
          "stalk-color-above-ring: y<br>average prediction: 0.522<br>label: pdp<br><br>mean observation prediction: <br>0.522"
         ],
         "legendgroup": "pdp",
         "marker": {
          "color": "#8bdcbe"
         },
         "name": "pdp",
         "orientation": "h",
         "showlegend": false,
         "type": "bar",
         "x": [
          0.522,
          0.522,
          0.522,
          0.522,
          0.522,
          0.522,
          0.522,
          0.522,
          0.522
         ],
         "xaxis": "x5",
         "y": [
          "b",
          "c",
          "e",
          "g",
          "n",
          "o",
          "p",
          "w",
          "y"
         ],
         "yaxis": "y5"
        },
        {
         "base": 0,
         "hoverinfo": "text",
         "hoverlabel": {
          "bgcolor": "rgba(0,0,0,0.8)"
         },
         "hovertext": [
          "stalk-color-above-ring: b<br>average prediction: 0.48978947368421055<br>label: ale<br><br>mean observation prediction: <br>0.522",
          "stalk-color-above-ring: c<br>average prediction: 0.48978947368421055<br>label: ale<br><br>mean observation prediction: <br>0.522",
          "stalk-color-above-ring: e<br>average prediction: 0.48978947368421055<br>label: ale<br><br>mean observation prediction: <br>0.522",
          "stalk-color-above-ring: g<br>average prediction: 0.48978947368421055<br>label: ale<br><br>mean observation prediction: <br>0.522",
          "stalk-color-above-ring: n<br>average prediction: 0.48978947368421055<br>label: ale<br><br>mean observation prediction: <br>0.522",
          "stalk-color-above-ring: o<br>average prediction: 0.48978947368421055<br>label: ale<br><br>mean observation prediction: <br>0.522",
          "stalk-color-above-ring: p<br>average prediction: 0.48978947368421055<br>label: ale<br><br>mean observation prediction: <br>0.522",
          "stalk-color-above-ring: w<br>average prediction: 0.48978947368421055<br>label: ale<br><br>mean observation prediction: <br>0.522",
          "stalk-color-above-ring: y<br>average prediction: 0.48978947368421055<br>label: ale<br><br>mean observation prediction: <br>0.522"
         ],
         "legendgroup": "ale",
         "marker": {
          "color": "#4378bf"
         },
         "name": "ale",
         "orientation": "h",
         "showlegend": false,
         "type": "bar",
         "x": [
          0.48978947368421055,
          0.48978947368421055,
          0.48978947368421055,
          0.48978947368421055,
          0.48978947368421055,
          0.48978947368421055,
          0.48978947368421055,
          0.48978947368421055,
          0.48978947368421055
         ],
         "xaxis": "x5",
         "y": [
          "b",
          "c",
          "e",
          "g",
          "n",
          "o",
          "p",
          "w",
          "y"
         ],
         "yaxis": "y5"
        },
        {
         "base": 0,
         "hoverinfo": "text",
         "hoverlabel": {
          "bgcolor": "rgba(0,0,0,0.8)"
         },
         "hovertext": [
          "stalk-color-below-ring: b<br>average prediction: 0.522<br>label: pdp<br><br>mean observation prediction: <br>0.522",
          "stalk-color-below-ring: c<br>average prediction: 0.522<br>label: pdp<br><br>mean observation prediction: <br>0.522",
          "stalk-color-below-ring: e<br>average prediction: 0.522<br>label: pdp<br><br>mean observation prediction: <br>0.522",
          "stalk-color-below-ring: g<br>average prediction: 0.522<br>label: pdp<br><br>mean observation prediction: <br>0.522",
          "stalk-color-below-ring: n<br>average prediction: 0.522<br>label: pdp<br><br>mean observation prediction: <br>0.522",
          "stalk-color-below-ring: o<br>average prediction: 0.522<br>label: pdp<br><br>mean observation prediction: <br>0.522",
          "stalk-color-below-ring: p<br>average prediction: 0.522<br>label: pdp<br><br>mean observation prediction: <br>0.522",
          "stalk-color-below-ring: w<br>average prediction: 0.522<br>label: pdp<br><br>mean observation prediction: <br>0.522",
          "stalk-color-below-ring: y<br>average prediction: 0.522<br>label: pdp<br><br>mean observation prediction: <br>0.522"
         ],
         "legendgroup": "pdp",
         "marker": {
          "color": "#8bdcbe"
         },
         "name": "pdp",
         "orientation": "h",
         "showlegend": false,
         "type": "bar",
         "x": [
          0.522,
          0.522,
          0.522,
          0.522,
          0.522,
          0.522,
          0.522,
          0.522,
          0.522
         ],
         "xaxis": "x6",
         "y": [
          "b",
          "c",
          "e",
          "g",
          "n",
          "o",
          "p",
          "w",
          "y"
         ],
         "yaxis": "y6"
        },
        {
         "base": 0,
         "hoverinfo": "text",
         "hoverlabel": {
          "bgcolor": "rgba(0,0,0,0.8)"
         },
         "hovertext": [
          "stalk-color-below-ring: b<br>average prediction: 0.48978947368421055<br>label: ale<br><br>mean observation prediction: <br>0.522",
          "stalk-color-below-ring: c<br>average prediction: 0.48978947368421055<br>label: ale<br><br>mean observation prediction: <br>0.522",
          "stalk-color-below-ring: e<br>average prediction: 0.48978947368421055<br>label: ale<br><br>mean observation prediction: <br>0.522",
          "stalk-color-below-ring: g<br>average prediction: 0.48978947368421055<br>label: ale<br><br>mean observation prediction: <br>0.522",
          "stalk-color-below-ring: n<br>average prediction: 0.48978947368421055<br>label: ale<br><br>mean observation prediction: <br>0.522",
          "stalk-color-below-ring: o<br>average prediction: 0.48978947368421055<br>label: ale<br><br>mean observation prediction: <br>0.522",
          "stalk-color-below-ring: p<br>average prediction: 0.48978947368421055<br>label: ale<br><br>mean observation prediction: <br>0.522",
          "stalk-color-below-ring: w<br>average prediction: 0.48978947368421055<br>label: ale<br><br>mean observation prediction: <br>0.522",
          "stalk-color-below-ring: y<br>average prediction: 0.48978947368421055<br>label: ale<br><br>mean observation prediction: <br>0.522"
         ],
         "legendgroup": "ale",
         "marker": {
          "color": "#4378bf"
         },
         "name": "ale",
         "orientation": "h",
         "showlegend": false,
         "type": "bar",
         "x": [
          0.48978947368421055,
          0.48978947368421055,
          0.48978947368421055,
          0.48978947368421055,
          0.48978947368421055,
          0.48978947368421055,
          0.48978947368421055,
          0.48978947368421055,
          0.48978947368421055
         ],
         "xaxis": "x6",
         "y": [
          "b",
          "c",
          "e",
          "g",
          "n",
          "o",
          "p",
          "w",
          "y"
         ],
         "yaxis": "y6"
        }
       ],
       "layout": {
        "annotations": [
         {
          "font": {
           "size": 16
          },
          "showarrow": false,
          "text": "bruises",
          "x": 0.225,
          "xanchor": "center",
          "xref": "paper",
          "y": 1,
          "yanchor": "bottom",
          "yref": "paper"
         },
         {
          "font": {
           "size": 16
          },
          "showarrow": false,
          "text": "gill-attachment",
          "x": 0.775,
          "xanchor": "center",
          "xref": "paper",
          "y": 1,
          "yanchor": "bottom",
          "yref": "paper"
         },
         {
          "font": {
           "size": 16
          },
          "showarrow": false,
          "text": "habitat",
          "x": 0.225,
          "xanchor": "center",
          "xref": "paper",
          "y": 0.6499999999999999,
          "yanchor": "bottom",
          "yref": "paper"
         },
         {
          "font": {
           "size": 16
          },
          "showarrow": false,
          "text": "odor",
          "x": 0.775,
          "xanchor": "center",
          "xref": "paper",
          "y": 0.6499999999999999,
          "yanchor": "bottom",
          "yref": "paper"
         },
         {
          "font": {
           "size": 16
          },
          "showarrow": false,
          "text": "stalk-color-above-ring",
          "x": 0.225,
          "xanchor": "center",
          "xref": "paper",
          "y": 0.3,
          "yanchor": "bottom",
          "yref": "paper"
         },
         {
          "font": {
           "size": 16
          },
          "showarrow": false,
          "text": "stalk-color-below-ring",
          "x": 0.775,
          "xanchor": "center",
          "xref": "paper",
          "y": 0.3,
          "yanchor": "bottom",
          "yref": "paper"
         },
         {
          "font": {
           "size": 16
          },
          "showarrow": false,
          "text": "prediction",
          "x": 0.5,
          "xanchor": "center",
          "xref": "paper",
          "y": 0,
          "yanchor": "top",
          "yref": "paper",
          "yshift": -30
         }
        ],
        "font": {
         "color": "#371ea3"
        },
        "height": 1169,
        "hovermode": "closest",
        "margin": {
         "b": 71,
         "r": 30,
         "t": 78
        },
        "shapes": [
         {
          "line": {
           "color": "#371ea3",
           "dash": "dot",
           "width": 1.5
          },
          "type": "line",
          "x0": 0,
          "x1": 0,
          "xref": "x",
          "y0": 0,
          "y1": 1,
          "yref": "y"
         },
         {
          "line": {
           "color": "#371ea3",
           "dash": "dot",
           "width": 1.5
          },
          "type": "line",
          "x0": 0,
          "x1": 0,
          "xref": "x",
          "y0": 0,
          "y1": 1,
          "yref": "y"
         },
         {
          "line": {
           "color": "#371ea3",
           "dash": "dot",
           "width": 1.5
          },
          "type": "line",
          "x0": 0,
          "x1": 0,
          "xref": "x2",
          "y0": 0,
          "y1": 1,
          "yref": "y2"
         },
         {
          "line": {
           "color": "#371ea3",
           "dash": "dot",
           "width": 1.5
          },
          "type": "line",
          "x0": 0,
          "x1": 0,
          "xref": "x2",
          "y0": 0,
          "y1": 1,
          "yref": "y2"
         },
         {
          "line": {
           "color": "#371ea3",
           "dash": "dot",
           "width": 1.5
          },
          "type": "line",
          "x0": 0,
          "x1": 0,
          "xref": "x3",
          "y0": 0,
          "y1": 6,
          "yref": "y3"
         },
         {
          "line": {
           "color": "#371ea3",
           "dash": "dot",
           "width": 1.5
          },
          "type": "line",
          "x0": 0,
          "x1": 0,
          "xref": "x3",
          "y0": 0,
          "y1": 6,
          "yref": "y3"
         },
         {
          "line": {
           "color": "#371ea3",
           "dash": "dot",
           "width": 1.5
          },
          "type": "line",
          "x0": 0,
          "x1": 0,
          "xref": "x4",
          "y0": 0,
          "y1": 8,
          "yref": "y4"
         },
         {
          "line": {
           "color": "#371ea3",
           "dash": "dot",
           "width": 1.5
          },
          "type": "line",
          "x0": 0,
          "x1": 0,
          "xref": "x4",
          "y0": 0,
          "y1": 8,
          "yref": "y4"
         },
         {
          "line": {
           "color": "#371ea3",
           "dash": "dot",
           "width": 1.5
          },
          "type": "line",
          "x0": 0,
          "x1": 0,
          "xref": "x5",
          "y0": 0,
          "y1": 8,
          "yref": "y5"
         },
         {
          "line": {
           "color": "#371ea3",
           "dash": "dot",
           "width": 1.5
          },
          "type": "line",
          "x0": 0,
          "x1": 0,
          "xref": "x5",
          "y0": 0,
          "y1": 8,
          "yref": "y5"
         },
         {
          "line": {
           "color": "#371ea3",
           "dash": "dot",
           "width": 1.5
          },
          "type": "line",
          "x0": 0,
          "x1": 0,
          "xref": "x6",
          "y0": 0,
          "y1": 8,
          "yref": "y6"
         },
         {
          "line": {
           "color": "#371ea3",
           "dash": "dot",
           "width": 1.5
          },
          "type": "line",
          "x0": 0,
          "x1": 0,
          "xref": "x6",
          "y0": 0,
          "y1": 8,
          "yref": "y6"
         }
        ],
        "template": {
         "data": {
          "scatter": [
           {
            "type": "scatter"
           }
          ]
         }
        },
        "title": {
         "text": "Aggregated Profiles",
         "x": 0.15
        },
        "xaxis": {
         "anchor": "y",
         "automargin": true,
         "domain": [
          0,
          0.45
         ],
         "fixedrange": true,
         "gridwidth": 2,
         "range": [
          -0.7723615742897064,
          1.2311775966464835
         ],
         "tickcolor": "white",
         "ticklen": 3,
         "ticks": "outside",
         "type": "linear",
         "zeroline": false
        },
        "xaxis2": {
         "anchor": "y2",
         "automargin": true,
         "domain": [
          0.55,
          1
         ],
         "fixedrange": true,
         "gridwidth": 2,
         "range": [
          -0.7723615742897064,
          1.2311775966464835
         ],
         "tickcolor": "white",
         "ticklen": 3,
         "ticks": "outside",
         "type": "linear",
         "zeroline": false
        },
        "xaxis3": {
         "anchor": "y3",
         "automargin": true,
         "domain": [
          0,
          0.45
         ],
         "fixedrange": true,
         "gridwidth": 2,
         "range": [
          -0.7723615742897064,
          1.2311775966464835
         ],
         "tickcolor": "white",
         "ticklen": 3,
         "ticks": "outside",
         "type": "linear",
         "zeroline": false
        },
        "xaxis4": {
         "anchor": "y4",
         "automargin": true,
         "domain": [
          0.55,
          1
         ],
         "fixedrange": true,
         "gridwidth": 2,
         "range": [
          -0.7723615742897064,
          1.2311775966464835
         ],
         "tickcolor": "white",
         "ticklen": 3,
         "ticks": "outside",
         "type": "linear",
         "zeroline": false
        },
        "xaxis5": {
         "anchor": "y5",
         "automargin": true,
         "domain": [
          0,
          0.45
         ],
         "fixedrange": true,
         "gridwidth": 2,
         "range": [
          -0.7723615742897064,
          1.2311775966464835
         ],
         "tickcolor": "white",
         "ticklen": 3,
         "ticks": "outside",
         "type": "linear",
         "zeroline": false
        },
        "xaxis6": {
         "anchor": "y6",
         "automargin": true,
         "domain": [
          0.55,
          1
         ],
         "fixedrange": true,
         "gridwidth": 2,
         "range": [
          -0.7723615742897064,
          1.2311775966464835
         ],
         "tickcolor": "white",
         "ticklen": 3,
         "ticks": "outside",
         "type": "linear",
         "zeroline": false
        },
        "yaxis": {
         "anchor": "x",
         "automargin": true,
         "autorange": "reversed",
         "domain": [
          0.7,
          1
         ],
         "fixedrange": true,
         "gridwidth": 2,
         "tickcolor": "white",
         "ticklen": 10,
         "ticks": "outside",
         "type": "category"
        },
        "yaxis2": {
         "anchor": "x2",
         "automargin": true,
         "autorange": "reversed",
         "domain": [
          0.7,
          1
         ],
         "fixedrange": true,
         "gridwidth": 2,
         "tickcolor": "white",
         "ticklen": 10,
         "ticks": "outside",
         "type": "category"
        },
        "yaxis3": {
         "anchor": "x3",
         "automargin": true,
         "autorange": "reversed",
         "domain": [
          0.35,
          0.6499999999999999
         ],
         "fixedrange": true,
         "gridwidth": 2,
         "tickcolor": "white",
         "ticklen": 10,
         "ticks": "outside",
         "type": "category"
        },
        "yaxis4": {
         "anchor": "x4",
         "automargin": true,
         "autorange": "reversed",
         "domain": [
          0.35,
          0.6499999999999999
         ],
         "fixedrange": true,
         "gridwidth": 2,
         "tickcolor": "white",
         "ticklen": 10,
         "ticks": "outside",
         "type": "category"
        },
        "yaxis5": {
         "anchor": "x5",
         "automargin": true,
         "autorange": "reversed",
         "domain": [
          0,
          0.3
         ],
         "fixedrange": true,
         "gridwidth": 2,
         "tickcolor": "white",
         "ticklen": 10,
         "ticks": "outside",
         "type": "category"
        },
        "yaxis6": {
         "anchor": "x6",
         "automargin": true,
         "autorange": "reversed",
         "domain": [
          0,
          0.3
         ],
         "fixedrange": true,
         "gridwidth": 2,
         "tickcolor": "white",
         "ticklen": 10,
         "ticks": "outside",
         "type": "category"
        }
       }
      },
      "text/html": [
       "<div>\n",
       "        \n",
       "        \n",
       "            <div id=\"801c50bd-c3eb-42d6-8e20-ae9418b614fb\" class=\"plotly-graph-div\" style=\"height:1169px; width:100%;\"></div>\n",
       "            <script type=\"text/javascript\">\n",
       "                require([\"plotly\"], function(Plotly) {\n",
       "                    window.PLOTLYENV=window.PLOTLYENV || {};\n",
       "                    \n",
       "                if (document.getElementById(\"801c50bd-c3eb-42d6-8e20-ae9418b614fb\")) {\n",
       "                    Plotly.newPlot(\n",
       "                        '801c50bd-c3eb-42d6-8e20-ae9418b614fb',\n",
       "                        [{\"base\": 0, \"hoverinfo\": \"text\", \"hoverlabel\": {\"bgcolor\": \"rgba(0,0,0,0.8)\"}, \"hovertext\": [\"bruises: f<br>average prediction: 0.522<br>label: pdp<br><br>mean observation prediction: <br>0.522\", \"bruises: t<br>average prediction: 0.522<br>label: pdp<br><br>mean observation prediction: <br>0.522\"], \"legendgroup\": \"pdp\", \"marker\": {\"color\": \"#8bdcbe\"}, \"name\": \"pdp\", \"orientation\": \"h\", \"showlegend\": true, \"type\": \"bar\", \"x\": [0.522, 0.522], \"xaxis\": \"x\", \"y\": [\"f\", \"t\"], \"yaxis\": \"y\"}, {\"base\": 0, \"hoverinfo\": \"text\", \"hoverlabel\": {\"bgcolor\": \"rgba(0,0,0,0.8)\"}, \"hovertext\": [\"bruises: f<br>average prediction: 0.48978947368421055<br>label: ale<br><br>mean observation prediction: <br>0.522\", \"bruises: t<br>average prediction: 0.48978947368421055<br>label: ale<br><br>mean observation prediction: <br>0.522\"], \"legendgroup\": \"ale\", \"marker\": {\"color\": \"#4378bf\"}, \"name\": \"ale\", \"orientation\": \"h\", \"showlegend\": true, \"type\": \"bar\", \"x\": [0.48978947368421055, 0.48978947368421055], \"xaxis\": \"x\", \"y\": [\"f\", \"t\"], \"yaxis\": \"y\"}, {\"base\": 0, \"hoverinfo\": \"text\", \"hoverlabel\": {\"bgcolor\": \"rgba(0,0,0,0.8)\"}, \"hovertext\": [\"gill-attachment: a<br>average prediction: 0.522<br>label: pdp<br><br>mean observation prediction: <br>0.522\", \"gill-attachment: f<br>average prediction: 0.522<br>label: pdp<br><br>mean observation prediction: <br>0.522\"], \"legendgroup\": \"pdp\", \"marker\": {\"color\": \"#8bdcbe\"}, \"name\": \"pdp\", \"orientation\": \"h\", \"showlegend\": false, \"type\": \"bar\", \"x\": [0.522, 0.522], \"xaxis\": \"x2\", \"y\": [\"a\", \"f\"], \"yaxis\": \"y2\"}, {\"base\": 0, \"hoverinfo\": \"text\", \"hoverlabel\": {\"bgcolor\": \"rgba(0,0,0,0.8)\"}, \"hovertext\": [\"gill-attachment: a<br>average prediction: 0.48978947368421055<br>label: ale<br><br>mean observation prediction: <br>0.522\", \"gill-attachment: f<br>average prediction: 0.48978947368421055<br>label: ale<br><br>mean observation prediction: <br>0.522\"], \"legendgroup\": \"ale\", \"marker\": {\"color\": \"#4378bf\"}, \"name\": \"ale\", \"orientation\": \"h\", \"showlegend\": false, \"type\": \"bar\", \"x\": [0.48978947368421055, 0.48978947368421055], \"xaxis\": \"x2\", \"y\": [\"a\", \"f\"], \"yaxis\": \"y2\"}, {\"base\": 0, \"hoverinfo\": \"text\", \"hoverlabel\": {\"bgcolor\": \"rgba(0,0,0,0.8)\"}, \"hovertext\": [\"habitat: d<br>average prediction: 0.522<br>label: pdp<br><br>mean observation prediction: <br>0.522\", \"habitat: g<br>average prediction: 0.522<br>label: pdp<br><br>mean observation prediction: <br>0.522\", \"habitat: l<br>average prediction: 0.522<br>label: pdp<br><br>mean observation prediction: <br>0.522\", \"habitat: m<br>average prediction: 0.522<br>label: pdp<br><br>mean observation prediction: <br>0.522\", \"habitat: p<br>average prediction: 0.522<br>label: pdp<br><br>mean observation prediction: <br>0.522\", \"habitat: u<br>average prediction: 0.522<br>label: pdp<br><br>mean observation prediction: <br>0.522\", \"habitat: w<br>average prediction: 0.522<br>label: pdp<br><br>mean observation prediction: <br>0.522\"], \"legendgroup\": \"pdp\", \"marker\": {\"color\": \"#8bdcbe\"}, \"name\": \"pdp\", \"orientation\": \"h\", \"showlegend\": false, \"type\": \"bar\", \"x\": [0.522, 0.522, 0.522, 0.522, 0.522, 0.522, 0.522], \"xaxis\": \"x3\", \"y\": [\"d\", \"g\", \"l\", \"m\", \"p\", \"u\", \"w\"], \"yaxis\": \"y3\"}, {\"base\": 0, \"hoverinfo\": \"text\", \"hoverlabel\": {\"bgcolor\": \"rgba(0,0,0,0.8)\"}, \"hovertext\": [\"habitat: d<br>average prediction: 0.48978947368421055<br>label: ale<br><br>mean observation prediction: <br>0.522\", \"habitat: g<br>average prediction: 0.48978947368421055<br>label: ale<br><br>mean observation prediction: <br>0.522\", \"habitat: l<br>average prediction: 0.48978947368421055<br>label: ale<br><br>mean observation prediction: <br>0.522\", \"habitat: m<br>average prediction: 0.48978947368421055<br>label: ale<br><br>mean observation prediction: <br>0.522\", \"habitat: p<br>average prediction: 0.48978947368421055<br>label: ale<br><br>mean observation prediction: <br>0.522\", \"habitat: u<br>average prediction: 0.48978947368421055<br>label: ale<br><br>mean observation prediction: <br>0.522\", \"habitat: w<br>average prediction: 0.48978947368421055<br>label: ale<br><br>mean observation prediction: <br>0.522\"], \"legendgroup\": \"ale\", \"marker\": {\"color\": \"#4378bf\"}, \"name\": \"ale\", \"orientation\": \"h\", \"showlegend\": false, \"type\": \"bar\", \"x\": [0.48978947368421055, 0.48978947368421055, 0.48978947368421055, 0.48978947368421055, 0.48978947368421055, 0.48978947368421055, 0.48978947368421055], \"xaxis\": \"x3\", \"y\": [\"d\", \"g\", \"l\", \"m\", \"p\", \"u\", \"w\"], \"yaxis\": \"y3\"}, {\"base\": 0, \"hoverinfo\": \"text\", \"hoverlabel\": {\"bgcolor\": \"rgba(0,0,0,0.8)\"}, \"hovertext\": [\"odor: a<br>average prediction: 1.0<br>label: pdp<br><br>mean observation prediction: <br>0.522\", \"odor: c<br>average prediction: 0.084<br>label: pdp<br><br>mean observation prediction: <br>0.522\", \"odor: f<br>average prediction: 0.084<br>label: pdp<br><br>mean observation prediction: <br>0.522\", \"odor: l<br>average prediction: 1.0<br>label: pdp<br><br>mean observation prediction: <br>0.522\", \"odor: m<br>average prediction: 0.084<br>label: pdp<br><br>mean observation prediction: <br>0.522\", \"odor: n<br>average prediction: 0.97<br>label: pdp<br><br>mean observation prediction: <br>0.522\", \"odor: p<br>average prediction: 0.084<br>label: pdp<br><br>mean observation prediction: <br>0.522\", \"odor: s<br>average prediction: 0.084<br>label: pdp<br><br>mean observation prediction: <br>0.522\", \"odor: y<br>average prediction: 0.084<br>label: pdp<br><br>mean observation prediction: <br>0.522\"], \"legendgroup\": \"pdp\", \"marker\": {\"color\": \"#8bdcbe\"}, \"name\": \"pdp\", \"orientation\": \"h\", \"showlegend\": false, \"type\": \"bar\", \"x\": [1.0, 0.084, 0.084, 1.0, 0.084, 0.97, 0.084, 0.084, 0.084], \"xaxis\": \"x4\", \"y\": [\"a\", \"c\", \"f\", \"l\", \"m\", \"n\", \"p\", \"s\", \"y\"], \"yaxis\": \"y4\"}, {\"base\": 0, \"hoverinfo\": \"text\", \"hoverlabel\": {\"bgcolor\": \"rgba(0,0,0,0.8)\"}, \"hovertext\": [\"odor: a<br>average prediction: 0.48978947368421055<br>label: ale<br><br>mean observation prediction: <br>0.522\", \"odor: c<br>average prediction: -0.5102105263157894<br>label: ale<br><br>mean observation prediction: <br>0.522\", \"odor: f<br>average prediction: -0.5102105263157894<br>label: ale<br><br>mean observation prediction: <br>0.522\", \"odor: l<br>average prediction: -0.5102105263157894<br>label: ale<br><br>mean observation prediction: <br>0.522\", \"odor: m<br>average prediction: -0.5102105263157894<br>label: ale<br><br>mean observation prediction: <br>0.522\", \"odor: n<br>average prediction: 0.4588160223567769<br>label: ale<br><br>mean observation prediction: <br>0.522\", \"odor: p<br>average prediction: -0.541183977643223<br>label: ale<br><br>mean observation prediction: <br>0.522\", \"odor: s<br>average prediction: -0.541183977643223<br>label: ale<br><br>mean observation prediction: <br>0.522\", \"odor: y<br>average prediction: -0.541183977643223<br>label: ale<br><br>mean observation prediction: <br>0.522\"], \"legendgroup\": \"ale\", \"marker\": {\"color\": \"#4378bf\"}, \"name\": \"ale\", \"orientation\": \"h\", \"showlegend\": false, \"type\": \"bar\", \"x\": [0.48978947368421055, -0.5102105263157894, -0.5102105263157894, -0.5102105263157894, -0.5102105263157894, 0.4588160223567769, -0.541183977643223, -0.541183977643223, -0.541183977643223], \"xaxis\": \"x4\", \"y\": [\"a\", \"c\", \"f\", \"l\", \"m\", \"n\", \"p\", \"s\", \"y\"], \"yaxis\": \"y4\"}, {\"base\": 0, \"hoverinfo\": \"text\", \"hoverlabel\": {\"bgcolor\": \"rgba(0,0,0,0.8)\"}, \"hovertext\": [\"stalk-color-above-ring: b<br>average prediction: 0.522<br>label: pdp<br><br>mean observation prediction: <br>0.522\", \"stalk-color-above-ring: c<br>average prediction: 0.522<br>label: pdp<br><br>mean observation prediction: <br>0.522\", \"stalk-color-above-ring: e<br>average prediction: 0.522<br>label: pdp<br><br>mean observation prediction: <br>0.522\", \"stalk-color-above-ring: g<br>average prediction: 0.522<br>label: pdp<br><br>mean observation prediction: <br>0.522\", \"stalk-color-above-ring: n<br>average prediction: 0.522<br>label: pdp<br><br>mean observation prediction: <br>0.522\", \"stalk-color-above-ring: o<br>average prediction: 0.522<br>label: pdp<br><br>mean observation prediction: <br>0.522\", \"stalk-color-above-ring: p<br>average prediction: 0.522<br>label: pdp<br><br>mean observation prediction: <br>0.522\", \"stalk-color-above-ring: w<br>average prediction: 0.522<br>label: pdp<br><br>mean observation prediction: <br>0.522\", \"stalk-color-above-ring: y<br>average prediction: 0.522<br>label: pdp<br><br>mean observation prediction: <br>0.522\"], \"legendgroup\": \"pdp\", \"marker\": {\"color\": \"#8bdcbe\"}, \"name\": \"pdp\", \"orientation\": \"h\", \"showlegend\": false, \"type\": \"bar\", \"x\": [0.522, 0.522, 0.522, 0.522, 0.522, 0.522, 0.522, 0.522, 0.522], \"xaxis\": \"x5\", \"y\": [\"b\", \"c\", \"e\", \"g\", \"n\", \"o\", \"p\", \"w\", \"y\"], \"yaxis\": \"y5\"}, {\"base\": 0, \"hoverinfo\": \"text\", \"hoverlabel\": {\"bgcolor\": \"rgba(0,0,0,0.8)\"}, \"hovertext\": [\"stalk-color-above-ring: b<br>average prediction: 0.48978947368421055<br>label: ale<br><br>mean observation prediction: <br>0.522\", \"stalk-color-above-ring: c<br>average prediction: 0.48978947368421055<br>label: ale<br><br>mean observation prediction: <br>0.522\", \"stalk-color-above-ring: e<br>average prediction: 0.48978947368421055<br>label: ale<br><br>mean observation prediction: <br>0.522\", \"stalk-color-above-ring: g<br>average prediction: 0.48978947368421055<br>label: ale<br><br>mean observation prediction: <br>0.522\", \"stalk-color-above-ring: n<br>average prediction: 0.48978947368421055<br>label: ale<br><br>mean observation prediction: <br>0.522\", \"stalk-color-above-ring: o<br>average prediction: 0.48978947368421055<br>label: ale<br><br>mean observation prediction: <br>0.522\", \"stalk-color-above-ring: p<br>average prediction: 0.48978947368421055<br>label: ale<br><br>mean observation prediction: <br>0.522\", \"stalk-color-above-ring: w<br>average prediction: 0.48978947368421055<br>label: ale<br><br>mean observation prediction: <br>0.522\", \"stalk-color-above-ring: y<br>average prediction: 0.48978947368421055<br>label: ale<br><br>mean observation prediction: <br>0.522\"], \"legendgroup\": \"ale\", \"marker\": {\"color\": \"#4378bf\"}, \"name\": \"ale\", \"orientation\": \"h\", \"showlegend\": false, \"type\": \"bar\", \"x\": [0.48978947368421055, 0.48978947368421055, 0.48978947368421055, 0.48978947368421055, 0.48978947368421055, 0.48978947368421055, 0.48978947368421055, 0.48978947368421055, 0.48978947368421055], \"xaxis\": \"x5\", \"y\": [\"b\", \"c\", \"e\", \"g\", \"n\", \"o\", \"p\", \"w\", \"y\"], \"yaxis\": \"y5\"}, {\"base\": 0, \"hoverinfo\": \"text\", \"hoverlabel\": {\"bgcolor\": \"rgba(0,0,0,0.8)\"}, \"hovertext\": [\"stalk-color-below-ring: b<br>average prediction: 0.522<br>label: pdp<br><br>mean observation prediction: <br>0.522\", \"stalk-color-below-ring: c<br>average prediction: 0.522<br>label: pdp<br><br>mean observation prediction: <br>0.522\", \"stalk-color-below-ring: e<br>average prediction: 0.522<br>label: pdp<br><br>mean observation prediction: <br>0.522\", \"stalk-color-below-ring: g<br>average prediction: 0.522<br>label: pdp<br><br>mean observation prediction: <br>0.522\", \"stalk-color-below-ring: n<br>average prediction: 0.522<br>label: pdp<br><br>mean observation prediction: <br>0.522\", \"stalk-color-below-ring: o<br>average prediction: 0.522<br>label: pdp<br><br>mean observation prediction: <br>0.522\", \"stalk-color-below-ring: p<br>average prediction: 0.522<br>label: pdp<br><br>mean observation prediction: <br>0.522\", \"stalk-color-below-ring: w<br>average prediction: 0.522<br>label: pdp<br><br>mean observation prediction: <br>0.522\", \"stalk-color-below-ring: y<br>average prediction: 0.522<br>label: pdp<br><br>mean observation prediction: <br>0.522\"], \"legendgroup\": \"pdp\", \"marker\": {\"color\": \"#8bdcbe\"}, \"name\": \"pdp\", \"orientation\": \"h\", \"showlegend\": false, \"type\": \"bar\", \"x\": [0.522, 0.522, 0.522, 0.522, 0.522, 0.522, 0.522, 0.522, 0.522], \"xaxis\": \"x6\", \"y\": [\"b\", \"c\", \"e\", \"g\", \"n\", \"o\", \"p\", \"w\", \"y\"], \"yaxis\": \"y6\"}, {\"base\": 0, \"hoverinfo\": \"text\", \"hoverlabel\": {\"bgcolor\": \"rgba(0,0,0,0.8)\"}, \"hovertext\": [\"stalk-color-below-ring: b<br>average prediction: 0.48978947368421055<br>label: ale<br><br>mean observation prediction: <br>0.522\", \"stalk-color-below-ring: c<br>average prediction: 0.48978947368421055<br>label: ale<br><br>mean observation prediction: <br>0.522\", \"stalk-color-below-ring: e<br>average prediction: 0.48978947368421055<br>label: ale<br><br>mean observation prediction: <br>0.522\", \"stalk-color-below-ring: g<br>average prediction: 0.48978947368421055<br>label: ale<br><br>mean observation prediction: <br>0.522\", \"stalk-color-below-ring: n<br>average prediction: 0.48978947368421055<br>label: ale<br><br>mean observation prediction: <br>0.522\", \"stalk-color-below-ring: o<br>average prediction: 0.48978947368421055<br>label: ale<br><br>mean observation prediction: <br>0.522\", \"stalk-color-below-ring: p<br>average prediction: 0.48978947368421055<br>label: ale<br><br>mean observation prediction: <br>0.522\", \"stalk-color-below-ring: w<br>average prediction: 0.48978947368421055<br>label: ale<br><br>mean observation prediction: <br>0.522\", \"stalk-color-below-ring: y<br>average prediction: 0.48978947368421055<br>label: ale<br><br>mean observation prediction: <br>0.522\"], \"legendgroup\": \"ale\", \"marker\": {\"color\": \"#4378bf\"}, \"name\": \"ale\", \"orientation\": \"h\", \"showlegend\": false, \"type\": \"bar\", \"x\": [0.48978947368421055, 0.48978947368421055, 0.48978947368421055, 0.48978947368421055, 0.48978947368421055, 0.48978947368421055, 0.48978947368421055, 0.48978947368421055, 0.48978947368421055], \"xaxis\": \"x6\", \"y\": [\"b\", \"c\", \"e\", \"g\", \"n\", \"o\", \"p\", \"w\", \"y\"], \"yaxis\": \"y6\"}],\n",
       "                        {\"annotations\": [{\"font\": {\"size\": 16}, \"showarrow\": false, \"text\": \"bruises\", \"x\": 0.225, \"xanchor\": \"center\", \"xref\": \"paper\", \"y\": 1.0, \"yanchor\": \"bottom\", \"yref\": \"paper\"}, {\"font\": {\"size\": 16}, \"showarrow\": false, \"text\": \"gill-attachment\", \"x\": 0.775, \"xanchor\": \"center\", \"xref\": \"paper\", \"y\": 1.0, \"yanchor\": \"bottom\", \"yref\": \"paper\"}, {\"font\": {\"size\": 16}, \"showarrow\": false, \"text\": \"habitat\", \"x\": 0.225, \"xanchor\": \"center\", \"xref\": \"paper\", \"y\": 0.6499999999999999, \"yanchor\": \"bottom\", \"yref\": \"paper\"}, {\"font\": {\"size\": 16}, \"showarrow\": false, \"text\": \"odor\", \"x\": 0.775, \"xanchor\": \"center\", \"xref\": \"paper\", \"y\": 0.6499999999999999, \"yanchor\": \"bottom\", \"yref\": \"paper\"}, {\"font\": {\"size\": 16}, \"showarrow\": false, \"text\": \"stalk-color-above-ring\", \"x\": 0.225, \"xanchor\": \"center\", \"xref\": \"paper\", \"y\": 0.3, \"yanchor\": \"bottom\", \"yref\": \"paper\"}, {\"font\": {\"size\": 16}, \"showarrow\": false, \"text\": \"stalk-color-below-ring\", \"x\": 0.775, \"xanchor\": \"center\", \"xref\": \"paper\", \"y\": 0.3, \"yanchor\": \"bottom\", \"yref\": \"paper\"}, {\"font\": {\"size\": 16}, \"showarrow\": false, \"text\": \"prediction\", \"x\": 0.5, \"xanchor\": \"center\", \"xref\": \"paper\", \"y\": 0, \"yanchor\": \"top\", \"yref\": \"paper\", \"yshift\": -30}], \"font\": {\"color\": \"#371ea3\"}, \"height\": 1169, \"hovermode\": \"closest\", \"margin\": {\"b\": 71, \"r\": 30, \"t\": 78}, \"shapes\": [{\"line\": {\"color\": \"#371ea3\", \"dash\": \"dot\", \"width\": 1.5}, \"type\": \"line\", \"x0\": 0, \"x1\": 0, \"xref\": \"x\", \"y0\": 0, \"y1\": 1, \"yref\": \"y\"}, {\"line\": {\"color\": \"#371ea3\", \"dash\": \"dot\", \"width\": 1.5}, \"type\": \"line\", \"x0\": 0, \"x1\": 0, \"xref\": \"x\", \"y0\": 0, \"y1\": 1, \"yref\": \"y\"}, {\"line\": {\"color\": \"#371ea3\", \"dash\": \"dot\", \"width\": 1.5}, \"type\": \"line\", \"x0\": 0, \"x1\": 0, \"xref\": \"x2\", \"y0\": 0, \"y1\": 1, \"yref\": \"y2\"}, {\"line\": {\"color\": \"#371ea3\", \"dash\": \"dot\", \"width\": 1.5}, \"type\": \"line\", \"x0\": 0, \"x1\": 0, \"xref\": \"x2\", \"y0\": 0, \"y1\": 1, \"yref\": \"y2\"}, {\"line\": {\"color\": \"#371ea3\", \"dash\": \"dot\", \"width\": 1.5}, \"type\": \"line\", \"x0\": 0, \"x1\": 0, \"xref\": \"x3\", \"y0\": 0, \"y1\": 6, \"yref\": \"y3\"}, {\"line\": {\"color\": \"#371ea3\", \"dash\": \"dot\", \"width\": 1.5}, \"type\": \"line\", \"x0\": 0, \"x1\": 0, \"xref\": \"x3\", \"y0\": 0, \"y1\": 6, \"yref\": \"y3\"}, {\"line\": {\"color\": \"#371ea3\", \"dash\": \"dot\", \"width\": 1.5}, \"type\": \"line\", \"x0\": 0, \"x1\": 0, \"xref\": \"x4\", \"y0\": 0, \"y1\": 8, \"yref\": \"y4\"}, {\"line\": {\"color\": \"#371ea3\", \"dash\": \"dot\", \"width\": 1.5}, \"type\": \"line\", \"x0\": 0, \"x1\": 0, \"xref\": \"x4\", \"y0\": 0, \"y1\": 8, \"yref\": \"y4\"}, {\"line\": {\"color\": \"#371ea3\", \"dash\": \"dot\", \"width\": 1.5}, \"type\": \"line\", \"x0\": 0, \"x1\": 0, \"xref\": \"x5\", \"y0\": 0, \"y1\": 8, \"yref\": \"y5\"}, {\"line\": {\"color\": \"#371ea3\", \"dash\": \"dot\", \"width\": 1.5}, \"type\": \"line\", \"x0\": 0, \"x1\": 0, \"xref\": \"x5\", \"y0\": 0, \"y1\": 8, \"yref\": \"y5\"}, {\"line\": {\"color\": \"#371ea3\", \"dash\": \"dot\", \"width\": 1.5}, \"type\": \"line\", \"x0\": 0, \"x1\": 0, \"xref\": \"x6\", \"y0\": 0, \"y1\": 8, \"yref\": \"y6\"}, {\"line\": {\"color\": \"#371ea3\", \"dash\": \"dot\", \"width\": 1.5}, \"type\": \"line\", \"x0\": 0, \"x1\": 0, \"xref\": \"x6\", \"y0\": 0, \"y1\": 8, \"yref\": \"y6\"}], \"template\": {\"data\": {\"scatter\": [{\"type\": \"scatter\"}]}}, \"title\": {\"text\": \"Aggregated Profiles\", \"x\": 0.15}, \"xaxis\": {\"anchor\": \"y\", \"automargin\": true, \"domain\": [0.0, 0.45], \"fixedrange\": true, \"gridwidth\": 2, \"range\": [-0.7723615742897064, 1.2311775966464835], \"tickcolor\": \"white\", \"ticklen\": 3, \"ticks\": \"outside\", \"type\": \"linear\", \"zeroline\": false}, \"xaxis2\": {\"anchor\": \"y2\", \"automargin\": true, \"domain\": [0.55, 1.0], \"fixedrange\": true, \"gridwidth\": 2, \"range\": [-0.7723615742897064, 1.2311775966464835], \"tickcolor\": \"white\", \"ticklen\": 3, \"ticks\": \"outside\", \"type\": \"linear\", \"zeroline\": false}, \"xaxis3\": {\"anchor\": \"y3\", \"automargin\": true, \"domain\": [0.0, 0.45], \"fixedrange\": true, \"gridwidth\": 2, \"range\": [-0.7723615742897064, 1.2311775966464835], \"tickcolor\": \"white\", \"ticklen\": 3, \"ticks\": \"outside\", \"type\": \"linear\", \"zeroline\": false}, \"xaxis4\": {\"anchor\": \"y4\", \"automargin\": true, \"domain\": [0.55, 1.0], \"fixedrange\": true, \"gridwidth\": 2, \"range\": [-0.7723615742897064, 1.2311775966464835], \"tickcolor\": \"white\", \"ticklen\": 3, \"ticks\": \"outside\", \"type\": \"linear\", \"zeroline\": false}, \"xaxis5\": {\"anchor\": \"y5\", \"automargin\": true, \"domain\": [0.0, 0.45], \"fixedrange\": true, \"gridwidth\": 2, \"range\": [-0.7723615742897064, 1.2311775966464835], \"tickcolor\": \"white\", \"ticklen\": 3, \"ticks\": \"outside\", \"type\": \"linear\", \"zeroline\": false}, \"xaxis6\": {\"anchor\": \"y6\", \"automargin\": true, \"domain\": [0.55, 1.0], \"fixedrange\": true, \"gridwidth\": 2, \"range\": [-0.7723615742897064, 1.2311775966464835], \"tickcolor\": \"white\", \"ticklen\": 3, \"ticks\": \"outside\", \"type\": \"linear\", \"zeroline\": false}, \"yaxis\": {\"anchor\": \"x\", \"automargin\": true, \"autorange\": \"reversed\", \"domain\": [0.7, 1.0], \"fixedrange\": true, \"gridwidth\": 2, \"tickcolor\": \"white\", \"ticklen\": 10, \"ticks\": \"outside\", \"type\": \"category\"}, \"yaxis2\": {\"anchor\": \"x2\", \"automargin\": true, \"autorange\": \"reversed\", \"domain\": [0.7, 1.0], \"fixedrange\": true, \"gridwidth\": 2, \"tickcolor\": \"white\", \"ticklen\": 10, \"ticks\": \"outside\", \"type\": \"category\"}, \"yaxis3\": {\"anchor\": \"x3\", \"automargin\": true, \"autorange\": \"reversed\", \"domain\": [0.35, 0.6499999999999999], \"fixedrange\": true, \"gridwidth\": 2, \"tickcolor\": \"white\", \"ticklen\": 10, \"ticks\": \"outside\", \"type\": \"category\"}, \"yaxis4\": {\"anchor\": \"x4\", \"automargin\": true, \"autorange\": \"reversed\", \"domain\": [0.35, 0.6499999999999999], \"fixedrange\": true, \"gridwidth\": 2, \"tickcolor\": \"white\", \"ticklen\": 10, \"ticks\": \"outside\", \"type\": \"category\"}, \"yaxis5\": {\"anchor\": \"x5\", \"automargin\": true, \"autorange\": \"reversed\", \"domain\": [0.0, 0.3], \"fixedrange\": true, \"gridwidth\": 2, \"tickcolor\": \"white\", \"ticklen\": 10, \"ticks\": \"outside\", \"type\": \"category\"}, \"yaxis6\": {\"anchor\": \"x6\", \"automargin\": true, \"autorange\": \"reversed\", \"domain\": [0.0, 0.3], \"fixedrange\": true, \"gridwidth\": 2, \"tickcolor\": \"white\", \"ticklen\": 10, \"ticks\": \"outside\", \"type\": \"category\"}},\n",
       "                        {\"displaylogo\": false, \"staticPlot\": false, \"modeBarButtonsToRemove\": [\"sendDataToCloud\", \"lasso2d\", \"autoScale2d\", \"select2d\", \"zoom2d\", \"pan2d\", \"zoomIn2d\", \"zoomOut2d\", \"resetScale2d\", \"toggleSpikelines\", \"hoverCompareCartesian\", \"hoverClosestCartesian\"], \"responsive\": true}\n",
       "                    ).then(function(){\n",
       "                            \n",
       "var gd = document.getElementById('801c50bd-c3eb-42d6-8e20-ae9418b614fb');\n",
       "var x = new MutationObserver(function (mutations, observer) {{\n",
       "        var display = window.getComputedStyle(gd).display;\n",
       "        if (!display || display === 'none') {{\n",
       "            console.log([gd, 'removed!']);\n",
       "            Plotly.purge(gd);\n",
       "            observer.disconnect();\n",
       "        }}\n",
       "}});\n",
       "\n",
       "// Listen for the removal of the full notebook cells\n",
       "var notebookContainer = gd.closest('#notebook-container');\n",
       "if (notebookContainer) {{\n",
       "    x.observe(notebookContainer, {childList: true});\n",
       "}}\n",
       "\n",
       "// Listen for the clearing of the current output cell\n",
       "var outputEl = gd.closest('.output');\n",
       "if (outputEl) {{\n",
       "    x.observe(outputEl, {childList: true});\n",
       "}}\n",
       "\n",
       "                        })\n",
       "                };\n",
       "                });\n",
       "            </script>\n",
       "        </div>"
      ]
     },
     "metadata": {},
     "output_type": "display_data"
    }
   ],
   "source": [
    "# import pandas as pd\n",
    "import numpy as np\n",
    "from sklearn.model_selection import train_test_split\n",
    "import random\n",
    "from sklearn.pipeline import Pipeline\n",
    "from sklearn.preprocessing import OneHotEncoder\n",
    "from sklearn.ensemble import RandomForestClassifier\n",
    "from sklearn.ensemble import GradientBoostingClassifier\n",
    "from sklearn.linear_model import LogisticRegression\n",
    "import dalex as dx\n",
    "import pandas as pd\n",
    "%matplotlib inline\n",
    "\n",
    "random.seed(123)\n",
    "\n",
    "df = pd.read_csv(\"/home/user/Pobrane/mushroom-classification/mushrooms.csv\")\n",
    "y = df['class']\n",
    "y = np.where(y=='e', 1, 0)\n",
    "X = df.drop([\"class\"], inplace = False, axis = 1)\n",
    "X_train, X_test, y_train, y_test = train_test_split(X, y,\n",
    "    test_size=0.2)\n",
    "rfc = Pipeline(steps=[(\"preprocessor\", OneHotEncoder()),(\"classifier\", RandomForestClassifier())]) \n",
    "rfc.fit(X_train, y_train)\n",
    "\n",
    "\n",
    "\n",
    "lrc = Pipeline(steps=[(\"preprocessor\", OneHotEncoder()),(\"classifier\", LogisticRegression())]) \n",
    "lrc.fit(X_train, y_train)\n",
    "import scikitplot as skplt\n",
    "import matplotlib.pyplot as plt\n",
    "\n",
    "y_true = y_test\n",
    "y_probas_rfc = rfc.predict_proba(X_test)\n",
    "# y_probas_rgb = rgb.predict_proba(X_test)\n",
    "\n",
    "skplt.metrics.plot_roc_curve(y_true, y_probas_rfc)\n",
    "plt.show()\n",
    "exprf = dx.Explainer(rfc, X_train, y_train, label = \"Mushrooms Random Forest\")\n",
    "\n",
    "explr = dx.Explainer(lrc, X_train, y_train, label = \"Mushrooms Logistic Regression\")\n",
    "\n",
    "from sklearn.tree import DecisionTreeClassifier\n",
    "dtc =  Pipeline(steps=[(\"preprocessor\", OneHotEncoder()),(\"classifier\", DecisionTreeClassifier())]) \n",
    "dtc.fit(X_train, y_train)\n",
    "\n",
    "expdt = dx.Explainer(dtc, X_train, y_train, label = \"Mushrooms Decision Tree\")\n",
    "ale_num = expdt.model_profile(type = 'accumulated', variables=[\"bruises\",\"gill-attachment\",\"stalk-color-above-ring\",\"habitat\", \"odor\", \"stalk-color-below-ring\"],variable_type='categorical')\n",
    "ale_num.result[\"_label_\"] = 'ale'\n",
    "pdp_num = expdt.model_profile(type = 'partial', variables=[\"bruises\",\"gill-attachment\",\"stalk-color-above-ring\",\"habitat\", \"odor\", \"stalk-color-below-ring\"],variable_type='categorical')\n",
    "pdp_num.result[\"_label_\"] = 'pdp'\n",
    "pdp_num.plot(ale_num)\n",
    "\n"
   ]
  }
 ],
 "metadata": {
  "kernelspec": {
   "display_name": "Python 3",
   "language": "python",
   "name": "python3"
  },
  "language_info": {
   "codemirror_mode": {
    "name": "ipython",
    "version": 3
   },
   "file_extension": ".py",
   "mimetype": "text/x-python",
   "name": "python",
   "nbconvert_exporter": "python",
   "pygments_lexer": "ipython3",
   "version": "3.7.6"
  }
 },
 "nbformat": 4,
 "nbformat_minor": 4
}
