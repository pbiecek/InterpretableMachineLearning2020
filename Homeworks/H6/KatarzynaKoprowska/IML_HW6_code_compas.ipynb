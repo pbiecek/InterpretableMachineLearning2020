{
 "cells": [
  {
   "cell_type": "markdown",
   "metadata": {},
   "source": [
    "# Wyjaśnialne uczenie maszynowe – praca domowa 6"
   ]
  },
  {
   "cell_type": "markdown",
   "metadata": {},
   "source": [
    "### Katarzyna Koprowska"
   ]
  },
  {
   "cell_type": "code",
   "execution_count": null,
   "metadata": {
    "hide_input": false
   },
   "outputs": [],
   "source": [
    "import pandas as pd\n",
    "import numpy as np\n",
    "import pickle"
   ]
  },
  {
   "cell_type": "code",
   "execution_count": null,
   "metadata": {
    "hide_input": true
   },
   "outputs": [],
   "source": [
    "import warnings\n",
    "warnings.filterwarnings(\"ignore\")"
   ]
  },
  {
   "cell_type": "code",
   "execution_count": null,
   "metadata": {
    "hide_input": false
   },
   "outputs": [],
   "source": [
    "import matplotlib.pyplot as plt"
   ]
  },
  {
   "cell_type": "code",
   "execution_count": null,
   "metadata": {},
   "outputs": [],
   "source": [
    "from sklearn.model_selection import train_test_split"
   ]
  },
  {
   "cell_type": "code",
   "execution_count": null,
   "metadata": {},
   "outputs": [],
   "source": [
    "compas_data = pd.read_csv(\"../iml2020-team1/compas/data/data.csv\")"
   ]
  },
  {
   "cell_type": "code",
   "execution_count": null,
   "metadata": {},
   "outputs": [],
   "source": [
    "columns_to_select = ['person_id','p_current_age', 'p_age_first_offense', \n",
    "             'p_charge', 'p_jail30', 'p_prison', 'p_probation', \n",
    "             'race', 'sex', 'offenses_within_30', 'p_felony_count_person',\n",
    "                               'p_misdem_count_person', 'p_charge_violent', 'p_juv_fel_count',\n",
    "                               'p_felprop_violarrest', 'p_murder_arrest', 'p_felassault_arrest',\n",
    "                               'p_misdemassault_arrest', 'p_famviol_arrest', 'p_sex_arrest',\n",
    "                               'p_weapons_arrest', 'p_n_on_probation', 'p_current_on_probation',\n",
    "                               'p_prob_revoke', 'p_arrest', 'p_prison30', 'scale_set',\n",
    "                               'marital_status', 'custody_status']"
   ]
  },
  {
   "cell_type": "code",
   "execution_count": null,
   "metadata": {},
   "outputs": [],
   "source": [
    "new_names = pd.read_csv(\"../iml2020-team1/compas/data/new_variable_names.csv\")"
   ]
  },
  {
   "cell_type": "code",
   "execution_count": null,
   "metadata": {},
   "outputs": [],
   "source": [
    "new_names = {i[1][\"current_name\"] : i[1][\"name\"] for i in new_names.iterrows()}\n",
    "new_names[\"person_id\"] = \"person_id\""
   ]
  },
  {
   "cell_type": "code",
   "execution_count": null,
   "metadata": {},
   "outputs": [],
   "source": [
    "compas_data.drop(\"Unnamed: 0\", axis=1, inplace=True)"
   ]
  },
  {
   "cell_type": "code",
   "execution_count": null,
   "metadata": {},
   "outputs": [],
   "source": [
    "compas_data = compas_data.loc[:, columns_to_select]"
   ]
  },
  {
   "cell_type": "code",
   "execution_count": null,
   "metadata": {},
   "outputs": [],
   "source": [
    "compas_data.columns = [new_names[i] for i in compas_data.columns]"
   ]
  },
  {
   "cell_type": "code",
   "execution_count": null,
   "metadata": {},
   "outputs": [],
   "source": [
    "X = compas_data.sort_values(\"person_id\")"
   ]
  },
  {
   "cell_type": "code",
   "execution_count": null,
   "metadata": {},
   "outputs": [],
   "source": [
    "recid = pd.read_csv(\"../iml2020-team1/compas/data/recidivism.csv\")"
   ]
  },
  {
   "cell_type": "code",
   "execution_count": null,
   "metadata": {},
   "outputs": [],
   "source": [
    "y_rec = recid.loc[:, [\"person_id\", \"recid\"]].sort_values(\"person_id\")\n",
    "y_rec_viol = recid.loc[:, [\"person_id\", \"recid_violent\"]].sort_values(\"person_id\")"
   ]
  },
  {
   "cell_type": "code",
   "execution_count": null,
   "metadata": {},
   "outputs": [],
   "source": [
    "all(X[\"person_id\"]==y_rec[\"person_id\"]), all(X[\"person_id\"]==y_rec_viol[\"person_id\"])"
   ]
  },
  {
   "cell_type": "code",
   "execution_count": null,
   "metadata": {},
   "outputs": [],
   "source": [
    "for d in X, y_rec, y_rec_viol:\n",
    "    d.drop(\"person_id\", axis=1, inplace=True)"
   ]
  },
  {
   "cell_type": "code",
   "execution_count": null,
   "metadata": {},
   "outputs": [],
   "source": [
    "non_numeric_cols = [\"race\", \"sex\", \"scale_set\", \"marital_status\", \"custody_status\"]"
   ]
  },
  {
   "cell_type": "code",
   "execution_count": null,
   "metadata": {},
   "outputs": [],
   "source": [
    "for column in non_numeric_cols:\n",
    "    X = pd.concat([X, pd.get_dummies(X[column], prefix=column, dummy_na=True)],axis=1)\n",
    "X.drop(non_numeric_cols, axis = 1, inplace = True)"
   ]
  },
  {
   "cell_type": "code",
   "execution_count": null,
   "metadata": {},
   "outputs": [],
   "source": [
    "X_train, X_test, y_train, y_test = train_test_split(X, y_rec, test_size=0.2, random_state=10)\n",
    "#X_train, X_test, y_rec_viol_train, y_rec_viol_test = train_test_split(X, y_rec_viol, test_size=0.2, random_state=10)"
   ]
  },
  {
   "cell_type": "code",
   "execution_count": null,
   "metadata": {},
   "outputs": [],
   "source": [
    "X_train = X_train.reset_index(drop=True)\n",
    "X_test = X_test.reset_index(drop=True)"
   ]
  },
  {
   "cell_type": "code",
   "execution_count": null,
   "metadata": {},
   "outputs": [],
   "source": [
    "from xgboost import XGBClassifier"
   ]
  },
  {
   "cell_type": "code",
   "execution_count": null,
   "metadata": {},
   "outputs": [],
   "source": [
    "xgb = XGBClassifier(scale_pos_weight=1, n_estimators=12,max_depth = 3, learning_rate = 0.3, colsample_bytree=1,\n",
    "                    subsample = 0.8, min_child_weight = 3, reg_alpha = 1, reg_lambda=1)\n",
    "#xgb_viol = XGBClassifier(scale_pos_weight=1, n_estimators=19,max_depth = 3, learning_rate = 0.3, colsample_bytree=0.8,\n",
    "#                    subsample = 0.8, min_child_weight = 10, reg_alpha = 1, reg_lambda=0)"
   ]
  },
  {
   "cell_type": "code",
   "execution_count": null,
   "metadata": {},
   "outputs": [],
   "source": [
    "from sklearn.ensemble import RandomForestClassifier"
   ]
  },
  {
   "cell_type": "code",
   "execution_count": null,
   "metadata": {},
   "outputs": [],
   "source": [
    "from sklearn.model_selection import cross_val_score"
   ]
  },
  {
   "cell_type": "code",
   "execution_count": null,
   "metadata": {},
   "outputs": [],
   "source": [
    "rf = RandomForestClassifier(max_depth = 3)\n",
    "cross_val_score(rf, X, y_rec, scoring=\"roc_auc\", cv=5)"
   ]
  },
  {
   "cell_type": "code",
   "execution_count": null,
   "metadata": {},
   "outputs": [],
   "source": [
    "rf.fit(X_train, y_train)"
   ]
  },
  {
   "cell_type": "code",
   "execution_count": null,
   "metadata": {},
   "outputs": [],
   "source": [
    "y_train = y_train.reset_index(drop=True).values[:, 0]\n",
    "y_test = y_test.reset_index(drop=True).values[:, 0]"
   ]
  },
  {
   "cell_type": "code",
   "execution_count": null,
   "metadata": {},
   "outputs": [],
   "source": [
    "from sklearn.model_selection import cross_val_score"
   ]
  },
  {
   "cell_type": "code",
   "execution_count": null,
   "metadata": {},
   "outputs": [],
   "source": [
    "scores = cross_val_score(xgb, X, y_rec, scoring=\"roc_auc\", cv=5)\n",
    "#scores_viol = cross_val_score(xgb_viol, X, y_rec_viol, scoring=\"roc_auc\", cv=5)"
   ]
  },
  {
   "cell_type": "code",
   "execution_count": null,
   "metadata": {},
   "outputs": [],
   "source": [
    "scores, np.mean(scores)"
   ]
  },
  {
   "cell_type": "code",
   "execution_count": null,
   "metadata": {},
   "outputs": [],
   "source": [
    "#scores_viol, np.mean(scores_viol)"
   ]
  },
  {
   "cell_type": "code",
   "execution_count": null,
   "metadata": {},
   "outputs": [],
   "source": [
    "xgb.fit(X_train, y_train)\n",
    "#xgb_viol.fit(X_train, y_rec_viol_train)"
   ]
  },
  {
   "cell_type": "markdown",
   "metadata": {},
   "source": [
    "### TODO:\n",
    "\n",
    "1. For the selected data set, train at least one tree-based ensemble model (random forest, gbm, catboost or any other boosting)\n",
    "\n",
    "2. For selected variables from the model (1) calculate Partial Dependence Profiles and Accumulated Local Dependence\n",
    "\n",
    "3. Train a second model with a different structure (neural nets, linear, other boosting) and find a variable that has different behaviour between models\n",
    "\n",
    "4. Comment on the results for points (2) and (3)"
   ]
  },
  {
   "cell_type": "code",
   "execution_count": null,
   "metadata": {},
   "outputs": [],
   "source": [
    "from sklearn.inspection import *"
   ]
  },
  {
   "cell_type": "code",
   "execution_count": null,
   "metadata": {},
   "outputs": [],
   "source": [
    "result_xgb = permutation_importance(xgb, X_train, y_train, n_repeats=15,\n",
    "                                random_state=42)\n",
    "perm_sorted_idx = result_xgb.importances_mean.argsort()\n",
    "\n",
    "tree_importance_sorted_idx = np.argsort(xgb.feature_importances_)\n",
    "tree_indices = np.arange(0, len(xgb.feature_importances_)) + 0.5\n",
    "\n",
    "fig, (ax1, ax2) = plt.subplots(1, 2, figsize=(12, 8))\n",
    "ax1.barh(tree_indices,\n",
    "         xgb.feature_importances_[tree_importance_sorted_idx], height=0.7)\n",
    "ax1.set_yticklabels(X_train.columns[tree_importance_sorted_idx])\n",
    "ax1.set_yticks(tree_indices)\n",
    "ax1.set_ylim((0, len(xgb.feature_importances_)))\n",
    "ax2.boxplot(result_xgb.importances[perm_sorted_idx].T, vert=False,\n",
    "            labels=X_train.columns[perm_sorted_idx])\n",
    "fig.tight_layout()\n",
    "fig.savefig(\"xgb_compas_perm.png\")\n",
    "plt.show()"
   ]
  },
  {
   "cell_type": "code",
   "execution_count": null,
   "metadata": {},
   "outputs": [],
   "source": [
    "result_rf = permutation_importance(rf, X_train, y_train, n_repeats=15,\n",
    "                                random_state=42)\n",
    "perm_sorted_idx = result_rf.importances_mean.argsort()\n",
    "\n",
    "tree_importance_sorted_idx = np.argsort(rf.feature_importances_)\n",
    "tree_indices = np.arange(0, len(rf.feature_importances_)) + 0.5\n",
    "\n",
    "fig, (ax1, ax2) = plt.subplots(1, 2, figsize=(12, 8))\n",
    "ax1.barh(tree_indices,\n",
    "         rf.feature_importances_[tree_importance_sorted_idx], height=0.7)\n",
    "ax1.set_yticklabels(X_train.columns[tree_importance_sorted_idx])\n",
    "ax1.set_yticks(tree_indices)\n",
    "ax1.set_ylim((0, len(rf.feature_importances_)))\n",
    "ax2.boxplot(result_rf.importances[perm_sorted_idx].T, vert=False,\n",
    "            labels=X_train.columns[perm_sorted_idx])\n",
    "fig.tight_layout()\n",
    "fig.savefig(\"rf_compas_perm.png\")\n",
    "plt.show()"
   ]
  },
  {
   "cell_type": "code",
   "execution_count": null,
   "metadata": {},
   "outputs": [],
   "source": [
    "import seaborn as sns\n",
    "\n",
    "sns.set(style=\"white\")\n",
    "corr = X.corr()\n",
    "mask = np.triu(np.ones_like(corr, dtype=np.bool))\n",
    "f, ax = plt.subplots(figsize=(11, 9))\n",
    "#cmap = sns.diverging_palette(220, 10, as_cmap=True)\n",
    "#sns.heatmap(corr, mask = mask, cmap=cmap, vmax=.6, center=0,\n",
    "#            square=True, linewidths=.5, cbar_kws={\"shrink\": .5})\n",
    "\n",
    "#f.savefig(\"corr_compas_heatmap.png\")\n",
    "corr"
   ]
  },
  {
   "cell_type": "code",
   "execution_count": null,
   "metadata": {},
   "outputs": [],
   "source": [
    "{k: v for k, v in sorted(xgb.get_booster().get_score(importance_type=\"gain\").items(), \n",
    "                         key=lambda item: item[1])}"
   ]
  },
  {
   "cell_type": "code",
   "execution_count": null,
   "metadata": {},
   "outputs": [],
   "source": [
    "import dalex"
   ]
  },
  {
   "cell_type": "code",
   "execution_count": null,
   "metadata": {},
   "outputs": [],
   "source": [
    "exp = dalex.Explainer(xgb, X_train, y_train, predict_function= (lambda model, x: model.predict(pd.DataFrame(x)).T))\n",
    "exp2 = dalex.Explainer(rf, X_train, y_train, predict_function= (lambda model, x: model.predict(pd.DataFrame(x)).T))"
   ]
  },
  {
   "cell_type": "code",
   "execution_count": null,
   "metadata": {
    "scrolled": true
   },
   "outputs": [],
   "source": [
    "pdp1 = exp.model_profile(\n",
    "        N=300,\n",
    "        variables= ['current_age', 'age_at_first_offence'],\n",
    "        type='partial')\n",
    "pdp1.result[\"_label_\"] = 'XGBoost'\n",
    "pdp2 = exp2.model_profile(\n",
    "        N=300,\n",
    "        variables= ['current_age', 'age_at_first_offence'],\n",
    "        type='partial')\n",
    "pdp2.result[\"_label_\"] = 'RandomForest'\n",
    "pdp1.plot(pdp2)\n"
   ]
  },
  {
   "cell_type": "code",
   "execution_count": null,
   "metadata": {},
   "outputs": [],
   "source": [
    "pdp1 = exp.model_profile(\n",
    "        N=300,\n",
    "        variables= ['current_age', 'age_at_first_offence'],\n",
    "        type='accumulated')\n",
    "pdp1.result[\"_label_\"] = 'XGBoost'\n",
    "pdp2 = exp2.model_profile(\n",
    "        N=300,\n",
    "        variables= ['current_age', 'age_at_first_offence'],\n",
    "        type='accumulated')\n",
    "pdp2.result[\"_label_\"] = 'RandomForest'\n",
    "pdp1.plot(pdp2)"
   ]
  },
  {
   "cell_type": "code",
   "execution_count": null,
   "metadata": {},
   "outputs": [],
   "source": [
    "pdp1 = exp.model_profile(\n",
    "        N=300,\n",
    "        variables= ['number_of_misdemeanours', 'charges_count'],\n",
    "        type='partial')\n",
    "pdp1.result[\"_label_\"] = 'XGBoost'\n",
    "pdp2 = exp2.model_profile(\n",
    "        N=300,\n",
    "        variables= ['number_of_misdemeanours', 'charges_count'],\n",
    "        type='partial')\n",
    "pdp2.result[\"_label_\"] = 'RandomForest'\n",
    "pdp1.plot(pdp2)"
   ]
  },
  {
   "cell_type": "code",
   "execution_count": null,
   "metadata": {},
   "outputs": [],
   "source": [
    "pdp1 = exp.model_profile(\n",
    "        N=300,\n",
    "        variables= ['number_of_misdemeanours', 'charges_count'],\n",
    "        type='accumulated')\n",
    "pdp1.result[\"_label_\"] = 'XGBoost'\n",
    "pdp2 = exp2.model_profile(\n",
    "        N=300,\n",
    "        variables= ['number_of_misdemeanours', 'charges_count'],\n",
    "        type='accumulated')\n",
    "pdp2.result[\"_label_\"] = 'RandomForest'\n",
    "pdp1.plot(pdp2)"
   ]
  },
  {
   "cell_type": "code",
   "execution_count": null,
   "metadata": {},
   "outputs": [],
   "source": [
    "race = ['race_African-American',\n",
    "                    'race_Asian',\n",
    "                    'race_Caucasian',\n",
    "                    'race_Hispanic',\n",
    "                    'race_Native American',\n",
    "                    'race_Other']\n",
    "pdp1 = exp.model_profile(\n",
    "        N=300,\n",
    "        variables= race,\n",
    "        type='partial')\n",
    "pdp1.result[\"_label_\"] = 'XGBoost'\n",
    "pdp2 = exp2.model_profile(\n",
    "        N=300,\n",
    "        variables= race,\n",
    "        type='partial')\n",
    "pdp2.result[\"_label_\"] = 'RandomForest'\n",
    "pdp1.plot(pdp2)"
   ]
  },
  {
   "cell_type": "code",
   "execution_count": null,
   "metadata": {},
   "outputs": [],
   "source": [
    "races = ['race_African-American',\n",
    "                    'race_Caucasian',\n",
    "                    'race_Hispanic']\n",
    "for race in races:\n",
    "    pdp1 = exp.model_profile(\n",
    "            N=300,\n",
    "            variables= race,\n",
    "            type='accumulated')\n",
    "    pdp1.result[\"_label_\"] = 'XGBoost'\n",
    "    pdp2 = exp2.model_profile(\n",
    "            N=300,\n",
    "            variables= race,\n",
    "            type='accumulated')\n",
    "    pdp2.result[\"_label_\"] = 'RandomForest'\n",
    "    pdp1.plot(pdp2)"
   ]
  },
  {
   "cell_type": "code",
   "execution_count": null,
   "metadata": {},
   "outputs": [],
   "source": [
    "sex = ['sex_Male', 'sex_Female']\n",
    "pdp1 = exp.model_profile(\n",
    "        N=300,\n",
    "        variables= sex,\n",
    "        type='partial')\n",
    "pdp1.result[\"_label_\"] = 'XGBoost'\n",
    "pdp2 = exp2.model_profile(\n",
    "        N=300,\n",
    "        variables= sex,\n",
    "        type='partial')\n",
    "pdp2.result[\"_label_\"] = 'RandomForest'\n",
    "pdp1.plot(pdp2)"
   ]
  },
  {
   "cell_type": "code",
   "execution_count": null,
   "metadata": {},
   "outputs": [],
   "source": [
    "sex = ['sex_Male']\n",
    "pdp1 = exp.model_profile(\n",
    "        N=300,\n",
    "        variables= sex,\n",
    "        type='accumulated')\n",
    "pdp1.result[\"_label_\"] = 'XGBoost'\n",
    "pdp2 = exp2.model_profile(\n",
    "        N=300,\n",
    "        variables= sex,\n",
    "        type='accumulated')\n",
    "pdp2.result[\"_label_\"] = 'RandomForest'\n",
    "pdp1.plot(pdp2)"
   ]
  },
  {
   "cell_type": "code",
   "execution_count": null,
   "metadata": {},
   "outputs": [],
   "source": [
    "sex = ['sex_Female']\n",
    "pdp1 = exp.model_profile(\n",
    "        N=300,\n",
    "        variables= sex,\n",
    "        type='accumulated')\n",
    "pdp1.result[\"_label_\"] = 'XGBoost'\n",
    "pdp2 = exp2.model_profile(\n",
    "        N=300,\n",
    "        variables= sex,\n",
    "        type='accumulated')\n",
    "pdp2.result[\"_label_\"] = 'RandomForest'\n",
    "pdp1.plot(pdp2)"
   ]
  }
 ],
 "metadata": {
  "kernelspec": {
   "display_name": "Python 3",
   "language": "python",
   "name": "python3"
  },
  "language_info": {
   "codemirror_mode": {
    "name": "ipython",
    "version": 3
   },
   "file_extension": ".py",
   "mimetype": "text/x-python",
   "name": "python",
   "nbconvert_exporter": "python",
   "pygments_lexer": "ipython3",
   "version": "3.6.8"
  }
 },
 "nbformat": 4,
 "nbformat_minor": 4
}
