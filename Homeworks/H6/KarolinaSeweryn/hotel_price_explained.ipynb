{
 "cells": [
  {
   "cell_type": "markdown",
   "metadata": {},
   "source": [
    "# Praca domowa 6\n",
    "## Hotel booking \n",
    "\n",
    "Karolina Seweryn\n",
    "\n",
    "\n",
    "Zbudowano trzy typy modeli opartych o drzewa decyzyjne przewidujace ceny doby hotelowej w hotelach w Portugali. Modele:\n",
    "\n",
    "* Random Forest,\n",
    "* XGBoost,\n",
    "* LightGBM.\n",
    "\n",
    "Poniższe wykresy prezentują wykresy `Partial Dependence Profiles` i `Accumulated Local Dependence` obliczone z użyciem pakietu `DALEX`."
   ]
  },
  {
   "cell_type": "markdown",
   "metadata": {},
   "source": [
    "1. RandomForest\n",
    "\n",
    "![](plots/plot1.png)"
   ]
  },
  {
   "cell_type": "markdown",
   "metadata": {},
   "source": [
    "2. XGBoost\n",
    "![](plots/plot2.png)"
   ]
  },
  {
   "cell_type": "markdown",
   "metadata": {},
   "source": [
    "3. LightGBM \n",
    "![](plots/plot3.png)"
   ]
  },
  {
   "cell_type": "markdown",
   "metadata": {},
   "source": [
    "### Analiza wyników\n",
    "\n",
    "W przypadku tych modeli wykresy dla zmiennej `arrival_date_month` oznaczającej miesiąc przyjazdu są bardzo intuicyjne i podobne do siebie. Ceny nocy hotelowej są większe w sezonie turystycznym (miesiące letnie). Natomiast w miesiącach zimowych cena spada. Warto zauważyć, że według tych trzech modeli średnio największa cena będzie w sierpniu. Różnice w zachowaniach modeli możemy dostrzec w miesiącach odpowiadającym przełomowi jesieni i zimy. Wtedy model `Random Forest` średnio przewiduje ceny podobne do tych w styczniu czy lutym, zaś modele `XGBoost` i `LightGBM` wyższe. \n",
    "\n",
    "Drugą analizowaną zmienną jest `lead_time`, czyli liczba dni pomiędzy datą rezerwacji i przyjazdu. Według pierwszego modelu im większe wartości tej zmiennej tym mniejsza średnia cena za noc w hotelu. Można z tego wywnioskować, że warto wcześnie rezerwować hotele. Podobnie zachowuje się model `LightGBM`. Różnice można dostrzec na początku wykresu, ponieważ w modelu `LightGBM` wychodzi, że średnio reserwacja na ostatnią chwilę może dać nam korzystniejszą cenę niż zakup miesiąc wcześniej. Trochę inny trend można zaobserwować w modelu `XGBoost`. Cena wraz ze wzrostem zmiennej `lead_time` maleje aż do pewnego momentu. W punkcie około 350 dni (około rok przed przyjazdem) średnia cena rośnie. Możliwe, że hotele chcą wykorzystać okazję, wiedząc, że klienci wrócą do hotelu na kolejne wakacje podnoszą cenę za noc w celu zwiększenia zysków."
   ]
  },
  {
   "cell_type": "markdown",
   "metadata": {},
   "source": [
    "### Załącznik\n",
    "\n",
    "Poniżej znajdują się kody z rozwiązaniem pracy domowej."
   ]
  },
  {
   "cell_type": "code",
   "execution_count": 1,
   "metadata": {},
   "outputs": [],
   "source": [
    "import pandas as pd\n",
    "import numpy as np\n",
    "import seaborn as sns\n",
    "import matplotlib.pyplot as plt\n",
    "import calendar\n",
    "\n",
    "from sklearn.preprocessing import LabelEncoder\n",
    "from sklearn.model_selection import train_test_split\n",
    "from sklearn.metrics import r2_score, mean_squared_error, mean_absolute_error\n",
    "from sklearn.ensemble import RandomForestRegressor\n",
    "from sklearn.inspection import permutation_importance\n",
    "from sklearn.feature_selection import RFE\n",
    "from lime.lime_tabular import LimeTabularExplainer\n",
    "\n",
    "from xgboost import XGBRegressor\n",
    "from lightgbm import LGBMRegressor\n",
    "from ceteris_paribus.explainer import explain\n",
    "from ceteris_paribus.plots.plots import plot_notebook, plot\n",
    "from ceteris_paribus.profiles import individual_variable_profile\n",
    "from dalex.explainer import Explainer\n",
    "\n",
    "def get_integer_mapping(le):\n",
    "    '''\n",
    "    Return a dict mapping labels to their integer values.\n",
    "    \n",
    "    le: a fitted sklearn LabelEncoder\n",
    "    '''\n",
    "    res = {}\n",
    "    for cl in le.classes_:\n",
    "        res.update({cl:le.transform([cl])[0]})\n",
    "\n",
    "    return res\n",
    "\n",
    "\n",
    "def explain_model(model, X_train, X_test, y_train, y_test, obs, selected_variables, columns):\n",
    "    explainer = explain(model, columns, X_train, y_train)\n",
    "    cp = individual_variable_profile(explainer, X_train.loc[obs], y_train.loc[obs])\n",
    "    plot_notebook(cp, selected_variables=selected_variables, print_observations=False)\n",
    "    \n",
    "def plot_feature_importance(model, X, y, n_repeats=10, n_jobs=1, title=\"Permutation Importances\"):\n",
    "    result = permutation_importance(model, X, y, n_repeats=n_repeats,\n",
    "                                random_state=42, n_jobs=n_jobs)\n",
    "    sorted_idx = result.importances_mean.argsort()\n",
    "\n",
    "    fig, ax = plt.subplots(figsize=(10, 8))\n",
    "    ax.boxplot(result.importances[sorted_idx].T,\n",
    "               vert=False, labels=X.columns[sorted_idx])\n",
    "    ax.set_title(title)\n",
    "    fig.tight_layout()\n",
    "    plt.show()\n",
    "\n",
    "def plot_ald_pdp(model, X_train, X_test, y_train, y_test, selected_variables, title):\n",
    "    explainer = Explainer(model=model, data=X_train, y=y_train, model_type='regression')\n",
    "    pdp = explainer.model_profile(type = 'partial', variables=selected_variables)\n",
    "    pdp.plot(title=str(\"PDP\"+title))\n",
    "    plt.show()\n",
    "    ale = explainer.model_profile(type = 'accumulated', variables=selected_variables)\n",
    "    ale.plot(title=str(\"ALE\"+title))\n",
    "    "
   ]
  },
  {
   "cell_type": "code",
   "execution_count": 2,
   "metadata": {},
   "outputs": [
    {
     "name": "stdout",
     "output_type": "stream",
     "text": [
      "hotel\n",
      "{'City Hotel': 0, 'Resort Hotel': 1}\n",
      "meal\n",
      "{'BB': 0, 'FB': 1, 'HB': 2, 'SC': 3, 'Undefined': 4}\n",
      "market_segment\n",
      "{'Aviation': 0, 'Complementary': 1, 'Corporate': 2, 'Direct': 3, 'Groups': 4, 'Offline TA/TO': 5, 'Online TA': 6, 'Undefined': 7}\n",
      "distribution_channel\n",
      "{'Corporate': 0, 'Direct': 1, 'GDS': 2, 'TA/TO': 3, 'Undefined': 4}\n",
      "reserved_room_type\n",
      "{'A': 0, 'B': 1, 'C': 2, 'D': 3, 'E': 4, 'F': 5, 'G': 6, 'H': 7, 'L': 8, 'P': 9}\n",
      "assigned_room_type\n",
      "{'A': 0, 'B': 1, 'C': 2, 'D': 3, 'E': 4, 'F': 5, 'G': 6, 'H': 7, 'I': 8, 'K': 9, 'L': 10, 'P': 11}\n",
      "deposit_type\n",
      "{'No Deposit': 0, 'Non Refund': 1, 'Refundable': 2}\n",
      "customer_type\n",
      "{'Contract': 0, 'Group': 1, 'Transient': 2, 'Transient-Party': 3}\n"
     ]
    }
   ],
   "source": [
    "df = pd.read_csv(\"./data/hotel_bookings.csv\")\n",
    "\n",
    "month_name_to_num = {name: num for num, name in enumerate(calendar.month_name) if num}\n",
    "df['arrival_date_month'] = [month_name_to_num[x] for x in df['arrival_date_month']]\n",
    "df[\"arrival_weekday\"] = [calendar.weekday(df.loc[i, 'arrival_date_year'], df.loc[i, 'arrival_date_month'], df.loc[i, 'arrival_date_day_of_month']) for i in df.index]\n",
    "\n",
    "df = df.drop([\"arrival_date_year\", \"country\", \"agent\", \"company\", \"reservation_status_date\", \"reservation_status\", \"is_canceled\"], axis=1)\n",
    "feature_type = df.dtypes\n",
    "object_features = [i for i in feature_type.index if feature_type[i] == 'object']\n",
    "\n",
    "for feat in object_features:\n",
    "    le = LabelEncoder()\n",
    "    df[feat] = le.fit_transform(df[feat]) \n",
    "    integerMapping = get_integer_mapping(le)\n",
    "    print(feat)\n",
    "    print(integerMapping)\n",
    "    \n",
    "X = df.drop('adr', axis=1)\n",
    "X = X.fillna(value=0)\n",
    "y = df['adr']\n",
    "\n",
    "X_train, X_test, y_train, y_test = train_test_split(X, y, random_state=123)\n"
   ]
  },
  {
   "cell_type": "code",
   "execution_count": 3,
   "metadata": {},
   "outputs": [],
   "source": [
    "# Model 1\n",
    "rf_sel = RandomForestRegressor(max_depth=5, n_estimators=100)\n",
    "selector = RFE(rf_sel, 15, step=2)\n",
    "selector.fit(X_train, y_train)\n",
    "cols = selector.get_support(indices=True)\n",
    "\n",
    "X_train, X_test = X_train.iloc[:,cols], X_test.iloc[:,cols]\n",
    "\n",
    "rf = RandomForestRegressor(max_depth=8, n_estimators=500)\n",
    "rf.fit(X_train, y_train)\n",
    "\n",
    "y_pred_train_rf = rf.predict(X_train)\n",
    "y_pred_test_rf = rf.predict(X_test)\n",
    "\n",
    "# Model 2\n",
    "xgb = XGBRegressor()\n",
    "xgb.fit(X_train, y_train)\n",
    "\n",
    "y_pred_train_xgb = xgb.predict(X_train)\n",
    "y_pred_test_xgb = xgb.predict(X_test)\n"
   ]
  },
  {
   "cell_type": "code",
   "execution_count": 4,
   "metadata": {},
   "outputs": [],
   "source": [
    "# Model 3\n",
    "lgbm = LGBMRegressor()\n",
    "lgbm.fit(X_train, y_train)\n",
    "\n",
    "y_pred_train_xgb = lgbm.predict(X_train)\n",
    "y_pred_test_xgb = lgbm.predict(X_test)\n",
    "\n",
    "# Model 4\n",
    "lgbm2 = LGBMRegressor(boosting_type='goss')\n",
    "lgbm2.fit(X_train, y_train)\n",
    "\n",
    "y_pred_train_xgb = lgbm2.predict(X_train)\n",
    "y_pred_test_xgb = lgbm2.predict(X_test)"
   ]
  },
  {
   "cell_type": "code",
   "execution_count": 5,
   "metadata": {},
   "outputs": [
    {
     "data": {
      "text/plain": [
       "Index(['hotel', 'lead_time', 'arrival_date_month', 'arrival_date_week_number',\n",
       "       'stays_in_week_nights', 'adults', 'children', 'meal', 'market_segment',\n",
       "       'distribution_channel', 'previous_cancellations', 'reserved_room_type',\n",
       "       'assigned_room_type', 'customer_type', 'total_of_special_requests'],\n",
       "      dtype='object')"
      ]
     },
     "execution_count": 5,
     "metadata": {},
     "output_type": "execute_result"
    }
   ],
   "source": [
    "X_train.columns"
   ]
  },
  {
   "cell_type": "code",
   "execution_count": null,
   "metadata": {},
   "outputs": [],
   "source": []
  }
 ],
 "metadata": {
  "hide_input": false,
  "kernelspec": {
   "display_name": "venv_xai",
   "language": "python",
   "name": "venv_xai"
  },
  "language_info": {
   "codemirror_mode": {
    "name": "ipython",
    "version": 3
   },
   "file_extension": ".py",
   "mimetype": "text/x-python",
   "name": "python",
   "nbconvert_exporter": "python",
   "pygments_lexer": "ipython3",
   "version": "3.6.8"
  }
 },
 "nbformat": 4,
 "nbformat_minor": 4
}
