{
 "cells": [
  {
   "cell_type": "code",
   "execution_count": null,
   "metadata": {},
   "outputs": [],
   "source": [
    "from typing import Union, List\n",
    "\n",
    "import numpy as np\n",
    "import pandas as pd\n",
    "import matplotlib.pyplot as plt\n",
    "import seaborn as sns\n",
    "import dalex as dx\n",
    "\n",
    "from tqdm import tqdm\n",
    "from xai.data.reader import read_data\n",
    "from xai.models import RandomForestModel, LogisticRegressionModel\n",
    "from xai.validation import HoldOutValidation\n",
    "\n",
    "import warnings\n",
    "warnings.simplefilter(\"ignore\")\n",
    "pd.set_option('display.max_columns', 500)"
   ]
  },
  {
   "cell_type": "code",
   "execution_count": null,
   "metadata": {},
   "outputs": [],
   "source": [
    "features, target = read_data('data/hotel_bookings.csv')"
   ]
  },
  {
   "cell_type": "code",
   "execution_count": null,
   "metadata": {},
   "outputs": [],
   "source": [
    "features.head()"
   ]
  },
  {
   "cell_type": "code",
   "execution_count": null,
   "metadata": {},
   "outputs": [],
   "source": [
    "model_classes = [RandomForestModel, LogisticRegressionModel]\n",
    "model_params = [dict(n_jobs=6), dict(C=1, max_iter=2000, n_jobs=6)]"
   ]
  },
  {
   "cell_type": "code",
   "execution_count": null,
   "metadata": {},
   "outputs": [],
   "source": [
    "models = [_class(**_params).fit(features, target) for _class, _params in zip(model_classes, model_params)]"
   ]
  },
  {
   "cell_type": "code",
   "execution_count": null,
   "metadata": {},
   "outputs": [],
   "source": [
    "transformed_features = models[0]._feature_engineering(features, train=False)"
   ]
  },
  {
   "cell_type": "code",
   "execution_count": null,
   "metadata": {
    "scrolled": false
   },
   "outputs": [],
   "source": [
    "plt.style.use('seaborn-whitegrid')\n",
    "\n",
    "\n",
    "IMPORTANT_FEATUES = [\n",
    "    'lead_time',\n",
    "    'arrival_date_month',\n",
    "    'arrival_date_week_number',\n",
    "    'is_repeated_guest',\n",
    "    'booking_changes',\n",
    "    'adr',\n",
    "    'days_in_waiting_list'\n",
    "]\n",
    "\n",
    "for feature_id, feature_name in enumerate(IMPORTANT_FEATUES):\n",
    "    plt.subplots(1, 2, figsize=(24, 8), facecolor='w')\n",
    "    for model in models:\n",
    "        exp = dx.Explainer(model.model, data=transformed_features, y=target, verbose=False)\n",
    "        plt.subplot(1, 2, 1)\n",
    "        pdp_num = exp.model_profile(type = 'partial', variables=[feature_name])\n",
    "        plt.plot(pdp_num.result._x_, pdp_num.result._yhat_, label=model.__class__.__name__, lw=4)\n",
    "\n",
    "    plt.title('Partial dependance profile', fontsize=24)\n",
    "    plt.ylabel('Model predictions', fontsize=32)\n",
    "    plt.xlabel('Feature values', fontsize=32)\n",
    "    plt.yticks(fontsize=24)\n",
    "    plt.xticks(fontsize=24)\n",
    "    plt.legend(fontsize=24)\n",
    "\n",
    "\n",
    "    for model in models:\n",
    "        exp = dx.Explainer(model.model, data=transformed_features, y=target, verbose=False)\n",
    "        plt.subplot(1, 2, 2)\n",
    "        ale_num = exp.model_profile(type = 'accumulated', variables=[feature_name])\n",
    "        plt.plot(ale_num.result._x_, ale_num.result._yhat_, label=model.__class__.__name__, lw=4)\n",
    "\n",
    "    plt.title('Accumulated dependance profile', fontsize=24)\n",
    "    plt.xlabel('Feature values', fontsize=32)\n",
    "    plt.yticks(fontsize=24)\n",
    "    plt.xticks(fontsize=24)\n",
    "    plt.legend(fontsize=24)\n",
    "    plt.suptitle(feature_name, fontsize=32)\n",
    "    plt.tight_layout()\n",
    "    plt.savefig(str(feature_id) + '.png')\n",
    "    plt.show()"
   ]
  }
 ],
 "metadata": {
  "kernelspec": {
   "display_name": "Python 3.6.7 64-bit ('python3': virtualenv)",
   "language": "python",
   "name": "python36764bitpython3virtualenvc9d905fd94094d15940c8faa8c7a5165"
  },
  "language_info": {
   "codemirror_mode": {
    "name": "ipython",
    "version": 3
   },
   "file_extension": ".py",
   "mimetype": "text/x-python",
   "name": "python",
   "nbconvert_exporter": "python",
   "pygments_lexer": "ipython3",
   "version": "3.6.7"
  }
 },
 "nbformat": 4,
 "nbformat_minor": 2
}
