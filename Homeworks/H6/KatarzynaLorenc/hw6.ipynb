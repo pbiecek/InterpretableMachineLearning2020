{
 "cells": [
  {
   "cell_type": "markdown",
   "metadata": {
    "colab": {},
    "colab_type": "code",
    "id": "EDRgpiaerRT8"
   },
   "source": [
    "\n",
    "### Analiza danych: Medical Expenditure Panel Survey\n",
    "\n",
    "Cel: predykcja wydatków związanych z leczeniem<br>\n",
    "Katarzyna Lorenc\n"
   ]
  },
  {
   "cell_type": "markdown",
   "metadata": {},
   "source": [
    "Analiza danych na podstawie Paneli 20 i 21. <br>\n",
    "Do poniższej analizy wybrano ręcznie 387 zmiennych, które nie były bezpośrednio związane z wydatkami na leczenie (jak np. wydatki na leczenie stomatologiczne). <br>\n",
    "Na tak przygotowanych danych wytrenowany został model **GradientBoostingRegressor**, a następnie ułożyłam zmienne według ich istotności w tym modelu. "
   ]
  },
  {
   "cell_type": "markdown",
   "metadata": {},
   "source": [
    "Wybrałam 18 najważniejszych zmiennych i to na ich podstawie prowadzona będzie dalsza analiza:<br>\n",
    "-**IPNGTDY1** - liczba nocy spędzonych w szpitalu <br>\n",
    "-**OBDRVY1** -liczba wizyt u lekarzy<br>\n",
    "-**PSTATS2** - stan pacjenta (np. czy zmarły)<br>\n",
    "-**HIDEG**  - stopień wykształcenia przy pierwszym wywiadzie <br>\n",
    "-**HHAGDY1** - liczba dni, w które otrzymano opiekę zdrowotną od agencji, szpitali lub domów opieki<br>\n",
    "-**DDNWRKY1** -liczba opuszczonych dni w pracy<br>\n",
    "-**OPDRVY1** - liczba wizyt w przychodniach lekarskich<br>\n",
    "-**TRBLE2** - skala problemu<br>\n",
    "-**DSFTY3R5** - czy stopy pacjenta zostały sprawdzone pod kątem owrzodzeń/zadrapań w 2015 roku<br>\n",
    "-**CHILWW2** - jak często dana osoba otrzymała opiekę gdy jej potrzebowała<br>\n",
    "-**DSFTNV5** - czy stopy pacjenta nigdy nie były oglądane pod względem owrzodzeń/zadrapań<br>\n",
    "-**PMEDPY1** - strona opłacająca usługi medyczne (np. rząd/prywatnie)<br>\n",
    "-**TYPEPE2** - typ wizyty (np.operacja) <br>\n",
    "-**ADESSP2** - czy pacjent ma dostęp do specjalistów<br>\n",
    "-**OBOTHVY1** - liczba wizyt niefizycznych<br>\n",
    "-**DSFTY1R5** - czy stopy pacjenta zostały sprawdzone pod kątem owrzodzeń/zadrapań w 2013 roku <br>\n",
    "\n"
   ]
  },
  {
   "cell_type": "markdown",
   "metadata": {},
   "source": [
    "Rozważane będą dwa modele:<br>\n",
    "1) **GradientBoostingRegressor**.  <br>\n",
    "2) **RandomForestRegressor**<br>\n",
    "Współczynniki determinacji obu modeli to odpowiednio 0.46 i 0.45 na tym samym zbiorze testowym. <br>\n",
    "Modele zbudowane zostały na nieprzekształconych danych. Usunięto jedynie obserwacje, których wydatki miały wartość *INAPPLICABLE*. "
   ]
  },
  {
   "cell_type": "markdown",
   "metadata": {},
   "source": [
    "W przypadku zmiennych świadczących o: dostępie do specjalistów (**ADESSP2**), częstości otrzymania opieki w razie potrzeby (**CHILWW2**), kontroli stóp pod kątem owrzodzeń(**DSFTNV5**, **DSFTY3R5**, **DSFTY1R5**), wykształceniu (**HIDEG**), stanie pacjenta (**PSTATS2**), stronie opłacającej usługi medyczne (**PMEDPY1**), skali problemu (**TRBLE2**), liczba wizyt w przychodniach (**OPDRVY1**) i typu wizyty (**TYPEPE2**) wykresy Partial Dependence Plot i Accumulated Local Dependence są stałe dla obu modeli modeli lub mają niewielkie odchylenia na osi y. Zatem dla wszystkich tych zmiennych, zmiana ich wartości średnio nie wpływa bądź wpływa w bardzo niewielkim stopniu na wartość wydatków na leczenie.   <br><br>\n",
    "Poniżej przedstawiono wykresy Partial Dependence Plot dla pozostałych zmiennych dla modeli **GradientBoosting** i **RandomForest**."
   ]
  },
  {
   "cell_type": "markdown",
   "metadata": {},
   "source": [
    "![alt text](pdp1.png \"Title\")"
   ]
  },
  {
   "cell_type": "markdown",
   "metadata": {},
   "source": [
    "![alt text](pdp2.png \"Title\")"
   ]
  },
  {
   "cell_type": "markdown",
   "metadata": {},
   "source": [
    " W przypadku profilu PDP zmiennej, której wartości świadczyły o liczbie dni, w które otrzymano opiekę zdrowotną od agencji, szpitali lub domów opieki (**DDNWRKY1**) wykres wygląda całkiem intuicyjnie. W przybliżeniu, im więcej było wcześniej wspomnianych dni tym średnia kwota powinna być wyższa. <br> <br>\n",
    "W przypadku wykresu zmiennej - liczba nocy spędzonych w szpitalu (**IPNGTDY1**)- można zauważyć ciekawe zachowanie modelu **GradientBoosting**. Po przekroczeniu 36 nocy model średnio zwróci dwukrotnie mniejszą wartość przy zachowaniu wartości pozostałych zmiennych niż w przypadku mniejszej ilości spędzonych nocy w szpitalu. Według modelu pacjentom może nie opłacać się zostanie w szpitalu więcej niż 68 nocy, ponieważ wtedy następuje nagły wzrost wydatków. Model **RandomForest** natomiast zwróci wyższą predykcję dla osób, które spędzą w szpitalu między 70 a 77 dni.. Oba modele wskazują, że po ok. 100 dniu długość pobytu w szpitalu nie wpływa na wartość predykcji. Średnia predykcja wydatków dla pacjentów o długim pobycie dla modelu GB wynosi ok. 57 tysięcy dolarów, a dla modelu RF 68 tysiące dolarów. . <br><br>\n",
    "Wykresy PDP zmiennej *liczba_wizyt_niefizycznych* (**OBOTHVY1**) dla obu modelu są podobne. Między 110 a 140 wizytą w obu modelach występuje bardziej intensywny wzrost predykcji wydatków.<br><br>\n",
    "Profile zmiennej *liczba_wizyt_u_lekarzy* (**OBDRVY1**) wykazują już mniejsze podobieństwo, szczególnie dla liczby wizyt większej niż 80. Wysokość wydatków na leczenie według **GradientBoosting**  nie zmieni się jeżeli pacjent był u lekarza 83 nocy lub więcej. Natomiast **RandomForest** wskazuje prawie 4.5 wzrost predykcji przy przekroczeniu 100 wizyt, a co ciekawe po 120 wizycie predykcja wydatków maleje o nawet 20 tysięcy dolarów.\n",
    "<br><br>\n",
    "Ostatnie profile zmiennej *liczba_wizyt_w_przychodniach* (**OPDRVY1**) dla większości wartości zmiennej sa takie same. Jedynie **GradientBoosting** wskaże większą wartośc wydatków, jeżeli pacjent odwiedził przychodnie między 18 a 24 razy."
   ]
  },
  {
   "cell_type": "markdown",
   "metadata": {},
   "source": [
    "Poniżej zaprezentowane są wykresy Accumulated Local Dependence także dla modeli **GradientBoosting** i **RandomForest**. Jedyną różnicą między profilami jest przesunięcie wykresów na osi y."
   ]
  },
  {
   "cell_type": "markdown",
   "metadata": {},
   "source": [
    "![alt text](al1.png \"Title\")"
   ]
  },
  {
   "cell_type": "markdown",
   "metadata": {},
   "source": [
    "![alt text](al2.png \"Title\")"
   ]
  },
  {
   "cell_type": "markdown",
   "metadata": {},
   "source": [
    "### Appendix"
   ]
  },
  {
   "cell_type": "code",
   "execution_count": 1,
   "metadata": {
    "colab": {
     "base_uri": "https://localhost:8080/",
     "height": 88
    },
    "colab_type": "code",
    "id": "qMevVEBPI0me",
    "outputId": "ba0742b4-c63b-4a4e-adc7-4c1eac670732",
    "scrolled": true
   },
   "outputs": [
    {
     "name": "stdout",
     "output_type": "stream",
     "text": [
      "Gradient Boosting R2 score:  0.467993719441819\n",
      "Random Forest R2 score:  0.453087528927951\n"
     ]
    }
   ],
   "source": [
    "import pandas as pd\n",
    "import numpy as np\n",
    "from sklearn.metrics import r2_score\n",
    "from sklearn.ensemble import GradientBoostingRegressor\n",
    "from sklearn.model_selection import train_test_split\n",
    "from sklearn.ensemble import RandomForestRegressor\n",
    "import dalex\n",
    "\n",
    "data = pd.read_csv(\"ready_data.csv\").drop(\"Unnamed: 0\",1)\n",
    "var = ['l_nocy_w_szpitalu','l_wizyt_u_lekarzy','l_dni_otrzymanej_opieki','DDNWRKY1','l_wizyt_w_przychodniach','TRBLE2','PSTATS2','DSFTY3R5','CHILWW2',\n",
    "       'DSFTNV5','PMEDPY1','TYPEPE2','ADESSP2','l_wizyt_niefizycznych','DSFTY1R5','HIDEG']\n",
    "data = data.rename(columns={\"IPNGTDY1\":\"l_nocy_w_szpitalu\",\"HHAGDY1\":\"l_dni_otrzymanej_opieki\",\"OBDRVY1\":\"l_wizyt_u_lekarzy\",\n",
    "                            \"OBOTHVY1\":\"l_wizyt_niefizycznych\",\"OPDRVY1\":\"l_wizyt_w_przychodniach\"})\n",
    "X_train, X_test, y_train, y_test = train_test_split(data[var], data['TOTEXPY1'], test_size=0.1, random_state=22)\n",
    "model1 = GradientBoostingRegressor(max_depth=5, n_estimators=434, learning_rate = 0.05, min_samples_leaf=9, max_features=1.0,random_state=0)\n",
    "model1.fit(X_train, y_train)\n",
    "print(\"Gradient Boosting R2 score: \",r2_score(y_test, model1.predict(X_test)))\n",
    "\n",
    "rf = RandomForestRegressor()\n",
    "rf.fit(X_train, y_train)\n",
    "print(\"Random Forest R2 score: \",r2_score(y_test, rf.predict(X_test)))\n",
    "\n",
    "def plot_profiles(model1, model2, X_train, y_train, var, type_):\n",
    "    exp = dalex.Explainer(model1, X_train, y_train, predict_function= (lambda model, x: model.predict(pd.DataFrame(x)).T))\n",
    "    exp2 = dalex.Explainer(model2, X_train, y_train, predict_function= (lambda model, x: model.predict(pd.DataFrame(x)).T))\n",
    "\n",
    "    pdp_num1 = exp.model_profile(type = type_, variables = var)\n",
    "    pdp_num1.result[\"_label_\"] = 'GradientBoosting'\n",
    "    pdp_num2 = exp2.model_profile(type = type_, variables = var)\n",
    "    pdp_num2.result[\"_label_\"] = 'RandomForest'\n",
    "    pdp_num1.plot(pdp_num2)"
   ]
  }
 ],
 "metadata": {
  "accelerator": "GPU",
  "colab": {
   "collapsed_sections": [],
   "name": "xai5.ipynb",
   "provenance": []
  },
  "hide_input": false,
  "kernelspec": {
   "display_name": "Python 3",
   "language": "python",
   "name": "python3"
  },
  "language_info": {
   "codemirror_mode": {
    "name": "ipython",
    "version": 3
   },
   "file_extension": ".py",
   "mimetype": "text/x-python",
   "name": "python",
   "nbconvert_exporter": "python",
   "pygments_lexer": "ipython3",
   "version": "3.6.9"
  }
 },
 "nbformat": 4,
 "nbformat_minor": 1
}
