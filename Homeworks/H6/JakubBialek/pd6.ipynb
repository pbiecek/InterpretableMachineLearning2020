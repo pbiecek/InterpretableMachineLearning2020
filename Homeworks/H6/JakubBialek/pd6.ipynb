{
 "cells": [
  {
   "cell_type": "markdown",
   "metadata": {},
   "source": [
    "Autor: Jakub Białek\n",
    "\n",
    "Data: 2020-14-05"
   ]
  },
  {
   "cell_type": "markdown",
   "metadata": {},
   "source": [
    "Uwagi"
   ]
  },
  {
   "cell_type": "markdown",
   "metadata": {},
   "source": [
    "Zmienna objaśniana (wydatki na opiekę zdrowotną) została przekształcona z wykorzystaniem logarytmu o podstawie 3 (blisko logarytmu naturalnego, ale łatwiejsze w interpretacji). W związku z tym interpretacja jest następująca - jeśli zmiana jakiegoś wejścia spowodowała wzrost predykcji o $n$ tzn. że wydatki na OZ wzrosły o $3^n$."
   ]
  },
  {
   "cell_type": "markdown",
   "metadata": {},
   "source": [
    "#### Model Gradient Boosting Regressor"
   ]
  },
  {
   "cell_type": "markdown",
   "metadata": {},
   "source": [
    "Zmienne:\n",
    "* INCOME_M - dochód pacjenta\n",
    "* K6SUM42 - ogólna ocena stanu zdrowia psychicznego z ostatnich 30 dni\n",
    "* MCS42 - ocena stanu zdrowia psychicznego (na podstawie wyników z ankiety)\n",
    "* PCS42 - ocena stanu zdrowia fizycznego (na podstawie wyników z ankiety)\n",
    "* AGE31 - wiek"
   ]
  },
  {
   "cell_type": "markdown",
   "metadata": {},
   "source": [
    "![Model 1](1.png)"
   ]
  },
  {
   "cell_type": "markdown",
   "metadata": {},
   "source": [
    "Dochody pacjenta wydają się mieć niewielki wpływ na wydatki na opiekę zdrowotną, choć widać niewielką tendencję wzrostową. W przypadku wskaźników oceniających stan zdrowia, najbardziej istotny wydaje się PCS42 (ocena stanu zdrowia fizycznego). Wskaźnik ten obliczany jest na podstawie ankiety z konkretnymi pytaniami, następnie na podstawie odpowiedzi obliczany jest wynik. Im większa wartość, tym lepszy stan zdrowia (i jak widać - mniejsze koszty). W podobny sposób opracowywany jest MCS42, z tym że dotyczy zdrowia psychicznego. Okazuje się, jednak, że ma on mniejszy wpływ na koszty. Jeśli zaś chodzi o K6SUM42 (ogólne samopoczucie psychiczne z ostatnich 30 dni), to wskaźnik wydaje mi się mało wiarygodny. Po pierwsze jego sposób obliczania jest dość subiektywny (6 pytań w stylue - \"Jak często przez ostatnie dni byłeś nerwowy? Odpowiedzi 0 - wcale, 1 - chwilami, 2 - w miarę często, 3- większość czasu, 4 - cały czas, suma odpowiedzi daje wynik). Widać, że sam model też miał problemy z określeniem wpływu na wydatki (spodziewalibyśmy się monotonicznego wzrostu, a tymczasem mamy dość wyraźny \"dołek\" w okolicach 11). Być może warto rozważyć binaryzację - widać spory skok na początku, który różnicuje tych, którzy po prostu czują się dobrze, od tych, którzy mają problemy ze stresem, motywacją itd. \n",
    "\n",
    "Ogólna uwaga jest taka, że interpretację wpływu zmiennych utrudnia fakt, iż niektóre zmienne wraz ze wzrostem wartości wskazują na pogorszenie stanu zdrowia (K6SUM42) a inne na jego poprawę (PCS42). "
   ]
  },
  {
   "cell_type": "markdown",
   "metadata": {},
   "source": [
    "![Model 1](12.png)"
   ]
  },
  {
   "cell_type": "markdown",
   "metadata": {},
   "source": [
    "#### Model liniowy"
   ]
  },
  {
   "cell_type": "markdown",
   "metadata": {},
   "source": [
    "![Model 2](2.png)"
   ]
  },
  {
   "cell_type": "markdown",
   "metadata": {},
   "source": [
    "Po raz kolejny z premedytacją wybieram model liniowy, chcąc zweryfikować czy na pewno w wyjaśnieniu będzie linia prosta. Tak jest i tym razem. Co ciekawe, w modelu GBR widzimy duży spadek dla noworodków (tzn. wartość przy '0' jest wysoka, ale później nagle maleje), a następnie, wraz ze wzrostem wieku powoli rośnie (z kilkoma zaburzeniami i schodkami). Innymi słowy - w pierwszej części krzywa wskazuje na mocny spadek, w drugiej na powolny wzrost, który ostatecznie nie odbudowuje tego początkowego spadku (a więc spadek jest większy niż wzrost). Można by więc przypuszczać, że model liniowy odwzoruje właśnie ten spadek. Jest jednak inaczej - model liniowy wskazuje na wzrost kosztów z wiekiem. Dzieje się tak zapewne dlatego, że ten spadek obserwowalny jest jedynie dla części obserwacji, w bardzo wąskim zakresie wartości wieku (0-3, mniej niż 4 % wszystkich obserwacji), podczas gdy wzrost występuje w całym pozostałym okresie."
   ]
  }
 ],
 "metadata": {
  "hide_input": false,
  "kernelspec": {
   "display_name": "Python 3",
   "language": "python",
   "name": "python3"
  },
  "language_info": {
   "codemirror_mode": {
    "name": "ipython",
    "version": 3
   },
   "file_extension": ".py",
   "mimetype": "text/x-python",
   "name": "python",
   "nbconvert_exporter": "python",
   "pygments_lexer": "ipython3",
   "version": "3.6.5rc1"
  },
  "toc": {
   "base_numbering": 1,
   "nav_menu": {},
   "number_sections": true,
   "sideBar": true,
   "skip_h1_title": false,
   "title_cell": "Table of Contents",
   "title_sidebar": "Contents",
   "toc_cell": false,
   "toc_position": {},
   "toc_section_display": true,
   "toc_window_display": false
  }
 },
 "nbformat": 4,
 "nbformat_minor": 4
}
