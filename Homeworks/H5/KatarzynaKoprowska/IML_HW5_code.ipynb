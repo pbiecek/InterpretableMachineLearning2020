{
 "cells": [
  {
   "cell_type": "markdown",
   "metadata": {},
   "source": [
    "# Wyjaśnialne uczenie maszynowe – praca domowa 5"
   ]
  },
  {
   "cell_type": "markdown",
   "metadata": {},
   "source": [
    "### Katarzyna Koprowska"
   ]
  },
  {
   "cell_type": "code",
   "execution_count": null,
   "metadata": {
    "hide_input": false
   },
   "outputs": [],
   "source": [
    "import pandas as pd\n",
    "import numpy as np\n",
    "import pickle"
   ]
  },
  {
   "cell_type": "code",
   "execution_count": null,
   "metadata": {
    "hide_input": true
   },
   "outputs": [],
   "source": [
    "import warnings\n",
    "warnings.filterwarnings(\"ignore\")"
   ]
  },
  {
   "cell_type": "code",
   "execution_count": null,
   "metadata": {
    "hide_input": false
   },
   "outputs": [],
   "source": [
    "import matplotlib.pyplot as plt"
   ]
  },
  {
   "cell_type": "markdown",
   "metadata": {},
   "source": [
    "## Wczytanie danych"
   ]
  },
  {
   "cell_type": "code",
   "execution_count": null,
   "metadata": {
    "hide_input": false
   },
   "outputs": [],
   "source": [
    "hmeq = pd.read_csv(\"hmeq.csv\", error_bad_lines=False)"
   ]
  },
  {
   "cell_type": "code",
   "execution_count": null,
   "metadata": {
    "hide_input": true
   },
   "outputs": [],
   "source": [
    "hmeq_info = {'BAD' : 'client defaulted on loan 0 = loan repaid',\n",
    "\"LOAN\" : \"Amount of the loan request\",\n",
    "\"MORTDUE\" : \"Amount due on existing mortgage\",\n",
    "\"VALUE\": \"Value of current property\",\n",
    "\"REASON\": \"DebtCon debt consolidation HomeImp = home improvement\",\n",
    "\"JOBS\" : \"occupational categories\",\n",
    "\"YOJ\": \"Years at present job\",\n",
    "\"DEROG\" : \"Number of major derogatory reports\",\n",
    "\"DELINQ\": \"Number of delinquent credit lines\",\n",
    "\"CLAGE\": \"Age of oldest trade line in months\",\n",
    "\"NINQ\": \"Number of recent credit lines\",\n",
    "\"CLNO\": \"Number of credit lines\",\n",
    "\"DEBTINC\" : \"Debt-to-income ratio\"}"
   ]
  },
  {
   "cell_type": "markdown",
   "metadata": {},
   "source": [
    "## Przekształcenie danych nienumerycznych na *dummy variables*"
   ]
  },
  {
   "cell_type": "code",
   "execution_count": null,
   "metadata": {
    "hide_input": false,
    "scrolled": false
   },
   "outputs": [],
   "source": [
    "from pandas.api.types import is_numeric_dtype\n",
    "{column : is_numeric_dtype(hmeq[column]) for column in hmeq.columns}"
   ]
  },
  {
   "cell_type": "code",
   "execution_count": null,
   "metadata": {
    "hide_input": false,
    "scrolled": true
   },
   "outputs": [],
   "source": [
    "set(hmeq['REASON'])"
   ]
  },
  {
   "cell_type": "code",
   "execution_count": null,
   "metadata": {
    "hide_input": false,
    "scrolled": true
   },
   "outputs": [],
   "source": [
    "set(hmeq['JOB'])"
   ]
  },
  {
   "cell_type": "code",
   "execution_count": null,
   "metadata": {
    "hide_input": false
   },
   "outputs": [],
   "source": [
    "hmeq = pd.concat([hmeq, pd.get_dummies(hmeq['REASON'], prefix='REASON', dummy_na=True)],axis=1)\n",
    "hmeq = pd.concat([hmeq, pd.get_dummies(hmeq['JOB'], prefix='JOB', dummy_na=True)],axis=1)\n",
    "hmeq.drop(['REASON', 'JOB'],axis=1, inplace=True)"
   ]
  },
  {
   "cell_type": "markdown",
   "metadata": {
    "hide_input": true
   },
   "source": [
    "## Braki danych"
   ]
  },
  {
   "cell_type": "code",
   "execution_count": null,
   "metadata": {
    "hide_input": false,
    "scrolled": false
   },
   "outputs": [],
   "source": [
    "hmeq.isna().sum()"
   ]
  },
  {
   "cell_type": "code",
   "execution_count": null,
   "metadata": {
    "hide_input": false
   },
   "outputs": [],
   "source": [
    "hmeq_nonan = hmeq.dropna()"
   ]
  },
  {
   "cell_type": "code",
   "execution_count": null,
   "metadata": {
    "hide_input": true
   },
   "outputs": [],
   "source": [
    "X = hmeq_nonan.iloc[:, 1:]\n",
    "y = hmeq_nonan.loc[:, \"BAD\"]"
   ]
  },
  {
   "cell_type": "code",
   "execution_count": null,
   "metadata": {
    "hide_input": false
   },
   "outputs": [],
   "source": [
    "from sklearn.model_selection import train_test_split\n",
    "X_train, X_test, y_train, y_test = train_test_split(X, y, test_size=0.35, random_state=42)\n",
    "X_val, X_test, y_val, y_test = train_test_split(X_test, y_test, test_size=0.6, random_state=42)"
   ]
  },
  {
   "cell_type": "code",
   "execution_count": null,
   "metadata": {
    "hide_input": true
   },
   "outputs": [],
   "source": [
    "for data in [X_train, X_test, X_val, y_train,  y_val, y_test]:\n",
    "    data.reset_index(drop=True, inplace = True)"
   ]
  },
  {
   "cell_type": "code",
   "execution_count": null,
   "metadata": {
    "hide_input": false
   },
   "outputs": [],
   "source": [
    "X_train.shape"
   ]
  },
  {
   "cell_type": "code",
   "execution_count": null,
   "metadata": {
    "hide_input": true
   },
   "outputs": [],
   "source": [
    "metrics = [\"accuracy_train\", \"accuracy_test\", \"roc_auc_train\", \"roc_auc_test\"]"
   ]
  },
  {
   "cell_type": "markdown",
   "metadata": {},
   "source": [
    "### [2. For the selected data set, train at least one tree-based ensemble model (random forest, gbm, catboost or any other boosting)]"
   ]
  },
  {
   "cell_type": "markdown",
   "metadata": {},
   "source": [
    "## Model – las losowy"
   ]
  },
  {
   "cell_type": "code",
   "execution_count": null,
   "metadata": {
    "hide_input": true
   },
   "outputs": [],
   "source": [
    "from sklearn.ensemble import RandomForestClassifier"
   ]
  },
  {
   "cell_type": "code",
   "execution_count": null,
   "metadata": {
    "hide_input": false
   },
   "outputs": [],
   "source": [
    "rf_final1 = pickle.load(open(\"final_nonan_rf.p\", \"rb\"))"
   ]
  },
  {
   "cell_type": "markdown",
   "metadata": {},
   "source": [
    "## Sprawdzenie na zbiorze testowym"
   ]
  },
  {
   "cell_type": "code",
   "execution_count": null,
   "metadata": {
    "hide_input": false
   },
   "outputs": [],
   "source": [
    "from sklearn.metrics import accuracy_score, roc_auc_score"
   ]
  },
  {
   "cell_type": "code",
   "execution_count": null,
   "metadata": {
    "hide_input": true
   },
   "outputs": [],
   "source": [
    "results = {metric : {} for metric in [\"accuracy_test\", \"roc_auc_test\"]}\n",
    "results[\"accuracy_test\"][\"RandomForest\"] = (accuracy_score(y_test, rf_final1.predict(X_test)))\n",
    "results[\"roc_auc_test\"][\"RandomForest\"] = (roc_auc_score(y_test, rf_final1.predict_proba(X_test)[:,1]))"
   ]
  },
  {
   "cell_type": "code",
   "execution_count": null,
   "metadata": {
    "hide_input": false
   },
   "outputs": [],
   "source": [
    "results = pd.DataFrame(results)"
   ]
  },
  {
   "cell_type": "code",
   "execution_count": null,
   "metadata": {
    "hide_input": true,
    "scrolled": true
   },
   "outputs": [],
   "source": [
    "results"
   ]
  },
  {
   "cell_type": "markdown",
   "metadata": {},
   "source": [
    "## Wyjaśnianie"
   ]
  },
  {
   "cell_type": "markdown",
   "metadata": {},
   "source": [
    "### [3. Calculate permutational variable importance for the selected model]"
   ]
  },
  {
   "cell_type": "code",
   "execution_count": null,
   "metadata": {
    "hide_input": false
   },
   "outputs": [],
   "source": [
    "from sklearn.inspection import *"
   ]
  },
  {
   "cell_type": "markdown",
   "metadata": {},
   "source": [
    "### Las losowy"
   ]
  },
  {
   "cell_type": "code",
   "execution_count": null,
   "metadata": {},
   "outputs": [],
   "source": [
    "result_rf1 = permutation_importance(rf_final1, X_train, y_train, n_repeats=15,\n",
    "                                random_state=42)\n",
    "perm_sorted_idx = result_rf1.importances_mean.argsort()\n",
    "\n",
    "tree_importance_sorted_idx = np.argsort(rf_final1.feature_importances_)\n",
    "tree_indices = np.arange(0, len(rf_final1.feature_importances_)) + 0.5\n",
    "\n",
    "fig, (ax1, ax2) = plt.subplots(1, 2, figsize=(12, 8))\n",
    "ax1.barh(tree_indices,\n",
    "         rf_final1.feature_importances_[tree_importance_sorted_idx], height=0.7)\n",
    "ax1.set_yticklabels(X_train.columns[tree_importance_sorted_idx])\n",
    "ax1.set_yticks(tree_indices)\n",
    "ax1.set_ylim((0, len(rf_final1.feature_importances_)))\n",
    "ax2.boxplot(result_rf1.importances[perm_sorted_idx].T, vert=False,\n",
    "            labels=X_train.columns[perm_sorted_idx])\n",
    "fig.tight_layout()\n",
    "fig.savefig(\"rf1_perm.png\")\n",
    "plt.show()"
   ]
  },
  {
   "cell_type": "code",
   "execution_count": null,
   "metadata": {},
   "outputs": [],
   "source": [
    "new_columns_rf = X_train.columns[perm_sorted_idx][-8:]\n",
    "new_columns_rf"
   ]
  },
  {
   "cell_type": "markdown",
   "metadata": {},
   "source": [
    "### [4. Train three or more candidate models (different variables, different transformations, different model structures) and compare ranking of important features between these models. Are they similar or different?]"
   ]
  },
  {
   "cell_type": "code",
   "execution_count": null,
   "metadata": {},
   "outputs": [],
   "source": [
    "from sklearn.ensemble import AdaBoostClassifier\n",
    "from sklearn.tree import DecisionTreeClassifier"
   ]
  },
  {
   "cell_type": "markdown",
   "metadata": {},
   "source": [
    "### AdaBoost"
   ]
  },
  {
   "cell_type": "code",
   "execution_count": null,
   "metadata": {},
   "outputs": [],
   "source": [
    "adaboost = AdaBoostClassifier(base_estimator = DecisionTreeClassifier(max_depth=7),n_estimators=150, random_state=42)"
   ]
  },
  {
   "cell_type": "code",
   "execution_count": null,
   "metadata": {},
   "outputs": [],
   "source": [
    "adaboost.fit(X_train, y_train)"
   ]
  },
  {
   "cell_type": "code",
   "execution_count": null,
   "metadata": {},
   "outputs": [],
   "source": [
    "results = {metric : {} for metric in [\"accuracy_test\", \"roc_auc_test\"]}\n",
    "results[\"accuracy_test\"][\"RandomForest\"] = (accuracy_score(y_test, rf_final1.predict(X_test)))\n",
    "results[\"roc_auc_test\"][\"RandomForest\"] = (roc_auc_score(y_test, rf_final1.predict_proba(X_test)[:,1]))\n",
    "results[\"accuracy_test\"][\"AdaBoost\"] = (accuracy_score(y_test, adaboost.predict(X_test)))\n",
    "results[\"roc_auc_test\"][\"AdaBoost\"] = (roc_auc_score(y_test, adaboost.predict_proba(X_test)[:,1]))\n",
    "pd.DataFrame(results)"
   ]
  },
  {
   "cell_type": "code",
   "execution_count": null,
   "metadata": {},
   "outputs": [],
   "source": [
    "result_ab1 = permutation_importance(adaboost, X_train, y_train, n_repeats=15,\n",
    "                                random_state=42)\n",
    "perm_sorted_idx = result_ab1.importances_mean.argsort()\n",
    "\n",
    "tree_importance_sorted_idx = np.argsort(adaboost.feature_importances_)\n",
    "tree_indices = np.arange(0, len(adaboost.feature_importances_)) + 0.5\n",
    "\n",
    "fig, (ax1, ax2) = plt.subplots(1, 2, figsize=(12, 8))\n",
    "ax1.barh(tree_indices,\n",
    "         adaboost.feature_importances_[tree_importance_sorted_idx], height=0.7)\n",
    "ax1.set_yticklabels(X_train.columns[tree_importance_sorted_idx])\n",
    "ax1.set_yticks(tree_indices)\n",
    "ax1.set_ylim((0, len(adaboost.feature_importances_)))\n",
    "ax2.boxplot(result_ab1.importances[perm_sorted_idx].T, vert=False,\n",
    "            labels=X_train.columns[perm_sorted_idx])\n",
    "fig.tight_layout()\n",
    "fig.savefig(\"ab1_perm.png\")\n",
    "plt.show()"
   ]
  },
  {
   "cell_type": "code",
   "execution_count": null,
   "metadata": {},
   "outputs": [],
   "source": [
    "new_columns_ab = X_train.columns[perm_sorted_idx][-8:]\n",
    "new_columns_ab"
   ]
  },
  {
   "cell_type": "code",
   "execution_count": null,
   "metadata": {},
   "outputs": [],
   "source": [
    "rf_final2 = RandomForestClassifier(max_depth=11, random_state=42).fit(X_train.loc[:, new_columns_rf], y_train)"
   ]
  },
  {
   "cell_type": "code",
   "execution_count": null,
   "metadata": {},
   "outputs": [],
   "source": [
    "adaboost2 = AdaBoostClassifier(base_estimator = DecisionTreeClassifier(max_depth=7), \n",
    "                   n_estimators=150, random_state=42).fit(X_train.loc[:, new_columns_ab], y_train)"
   ]
  },
  {
   "cell_type": "code",
   "execution_count": null,
   "metadata": {
    "scrolled": true
   },
   "outputs": [],
   "source": [
    "results = {metric : {} for metric in [\"accuracy_test\", \"roc_auc_test\"]}\n",
    "results[\"accuracy_test\"][\"RandomForest\"] = (accuracy_score(y_test, \n",
    "                                                           rf_final2.predict(X_test.loc[:, new_columns_rf])))\n",
    "results[\"roc_auc_test\"][\"RandomForest\"] = (roc_auc_score(y_test, \n",
    "                                                         rf_final2.predict_proba(X_test.loc[:, new_columns_rf])[:,1]))\n",
    "results[\"accuracy_test\"][\"AdaBoost\"] = (accuracy_score(y_test, adaboost2.predict(X_test.loc[:, new_columns_ab])))\n",
    "results[\"roc_auc_test\"][\"AdaBoost\"] = (roc_auc_score(y_test, adaboost2.predict_proba(X_test.loc[:, new_columns_ab])[:,1]))\n",
    "pd.DataFrame(results)"
   ]
  },
  {
   "cell_type": "markdown",
   "metadata": {},
   "source": [
    "### Las losowy z ograniczoną liczbą zmiennych"
   ]
  },
  {
   "cell_type": "code",
   "execution_count": null,
   "metadata": {
    "scrolled": true
   },
   "outputs": [],
   "source": [
    "result_rf2 = permutation_importance(rf_final2, X_train.loc[:, new_columns_rf], y_train, n_repeats=15,\n",
    "                                random_state=42)\n",
    "perm_sorted_idx = result_rf2.importances_mean.argsort()\n",
    "\n",
    "tree_importance_sorted_idx = np.argsort(rf_final2.feature_importances_)\n",
    "tree_indices = np.arange(0, len(rf_final2.feature_importances_)) + 0.5\n",
    "\n",
    "fig, (ax1, ax2) = plt.subplots(1, 2, figsize=(12, 8))\n",
    "ax1.barh(tree_indices,\n",
    "         rf_final2.feature_importances_[tree_importance_sorted_idx], height=0.7)\n",
    "ax1.set_yticklabels(new_columns_rf[tree_importance_sorted_idx])\n",
    "ax1.set_yticks(tree_indices)\n",
    "ax1.set_ylim((0, len(rf_final2.feature_importances_)))\n",
    "ax2.boxplot(result_rf2.importances[perm_sorted_idx].T, vert=False,\n",
    "            labels=new_columns_rf[perm_sorted_idx])\n",
    "fig.tight_layout()\n",
    "fig.savefig(\"rf2_perm.png\")\n",
    "plt.show()"
   ]
  },
  {
   "cell_type": "markdown",
   "metadata": {},
   "source": [
    "### AdaBoost z ograniczoną liczbą zmiennych"
   ]
  },
  {
   "cell_type": "code",
   "execution_count": null,
   "metadata": {},
   "outputs": [],
   "source": [
    "result_ab2 = permutation_importance(adaboost2, X_train.loc[:, new_columns_ab], y_train, n_repeats=15,\n",
    "                                random_state=42)\n",
    "perm_sorted_idx = result_ab2.importances_mean.argsort()\n",
    "\n",
    "tree_importance_sorted_idx = np.argsort(adaboost2.feature_importances_)\n",
    "tree_indices = np.arange(0, len(adaboost2.feature_importances_)) + 0.5\n",
    "\n",
    "fig, (ax1, ax2) = plt.subplots(1, 2, figsize=(12, 8))\n",
    "ax1.barh(tree_indices,\n",
    "         adaboost2.feature_importances_[tree_importance_sorted_idx], height=0.7)\n",
    "ax1.set_yticklabels(new_columns_ab[tree_importance_sorted_idx])\n",
    "ax1.set_yticks(tree_indices)\n",
    "ax1.set_ylim((0, len(adaboost2.feature_importances_)))\n",
    "ax2.boxplot(result_ab2.importances[perm_sorted_idx].T, vert=False,\n",
    "            labels=new_columns_ab[perm_sorted_idx])\n",
    "fig.tight_layout()\n",
    "fig.savefig(\"ab2_perm.png\")\n",
    "plt.show()"
   ]
  },
  {
   "cell_type": "code",
   "execution_count": null,
   "metadata": {},
   "outputs": [],
   "source": [
    "import seaborn as sns\n",
    "\n",
    "sns.set(style=\"white\")\n",
    "corr = X_train.corr()\n",
    "mask = np.triu(np.ones_like(corr, dtype=np.bool))\n",
    "f, ax = plt.subplots(figsize=(11, 9))\n",
    "cmap = sns.diverging_palette(220, 10, as_cmap=True)\n",
    "sns.heatmap(corr, mask = mask, cmap=cmap, vmax=.6, center=0,\n",
    "            square=True, linewidths=.5, cbar_kws={\"shrink\": .5})\n",
    "\n",
    "f.savefig(\"corr_heatmap.png\")"
   ]
  }
 ],
 "metadata": {
  "kernelspec": {
   "display_name": "Python 3",
   "language": "python",
   "name": "python3"
  },
  "language_info": {
   "codemirror_mode": {
    "name": "ipython",
    "version": 3
   },
   "file_extension": ".py",
   "mimetype": "text/x-python",
   "name": "python",
   "nbconvert_exporter": "python",
   "pygments_lexer": "ipython3",
   "version": "3.6.8"
  }
 },
 "nbformat": 4,
 "nbformat_minor": 4
}
