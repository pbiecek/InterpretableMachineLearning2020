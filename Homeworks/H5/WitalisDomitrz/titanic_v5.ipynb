{
 "cells": [
  {
   "cell_type": "markdown",
   "metadata": {
    "colab_type": "text",
    "id": "QMSYI5kn9V69"
   },
   "source": [
    "# Permutational variable importance for explaining models on the Titanic dataset\n",
    "\n",
    "author: Witalis Domitrz <witekdomitrz@gmail.com>"
   ]
  },
  {
   "cell_type": "markdown",
   "metadata": {},
   "source": [
    "# Appendix"
   ]
  },
  {
   "cell_type": "markdown",
   "metadata": {
    "colab_type": "text",
    "id": "1k5yb_LDQ0UO"
   },
   "source": [
    "## Preparation"
   ]
  },
  {
   "cell_type": "markdown",
   "metadata": {
    "colab_type": "text",
    "id": "c4_HSH1NZs4s"
   },
   "source": [
    "### Install modules"
   ]
  },
  {
   "cell_type": "markdown",
   "metadata": {
    "colab_type": "text",
    "id": "NLkKLWma9wWn"
   },
   "source": [
    "### Download the data"
   ]
  },
  {
   "cell_type": "code",
   "execution_count": 1,
   "metadata": {
    "colab": {},
    "colab_type": "code",
    "id": "VzlvCzL3jIGM"
   },
   "outputs": [
    {
     "name": "stdout",
     "output_type": "stream",
     "text": [
      "--2020-05-04 11:21:18--  http://students.mimuw.edu.pl/~wd393711/iml/titanic.zip\n",
      "Resolving students.mimuw.edu.pl (students.mimuw.edu.pl)... 193.0.96.129, 2001:6a0:5001:1::3\n",
      "Connecting to students.mimuw.edu.pl (students.mimuw.edu.pl)|193.0.96.129|:80... connected.\n",
      "HTTP request sent, awaiting response... 200 OK\n",
      "Length: 34877 (34K) [application/zip]\n",
      "Saving to: ‘titanic.zip’\n",
      "\n",
      "titanic.zip         100%[===================>]  34,06K  --.-KB/s    in 0,01s   \n",
      "\n",
      "2020-05-04 11:21:18 (3,41 MB/s) - ‘titanic.zip’ saved [34877/34877]\n",
      "\n",
      "Archive:  titanic.zip\n",
      "  inflating: gender_submission.csv   \n",
      "  inflating: test.csv                \n",
      "  inflating: train.csv               \n"
     ]
    }
   ],
   "source": [
    "!wget http://students.mimuw.edu.pl/~wd393711/iml/titanic.zip\n",
    "!unzip -o titanic.zip\n",
    "!rm titanic.zip"
   ]
  },
  {
   "cell_type": "markdown",
   "metadata": {
    "colab_type": "text",
    "id": "izJSfphJ94V-"
   },
   "source": [
    "### Prepare the data"
   ]
  },
  {
   "cell_type": "code",
   "execution_count": 4,
   "metadata": {
    "colab": {},
    "colab_type": "code",
    "id": "qFNYvmgVdqxu"
   },
   "outputs": [],
   "source": [
    "import numpy as np\n",
    "import pandas as pd\n",
    "\n",
    "used_columns = ['Pclass', 'Sex', 'Age', 'SibSp', 'Parch', 'Fare', 'Embarked', 'Survived']\n",
    "X_columns = ['Pclass', 'Age', 'SibSp', 'Parch', 'Fare', 'Sex_male', 'Embarked_C', 'Embarked_Q', 'Embarked_S']\n",
    "Y_columns = ['Survived']\n",
    "\n",
    "def load_data(fn):\n",
    "    return pd.read_csv(fn).set_index('PassengerId')\n",
    "\n",
    "def to_array(data):\n",
    "    return pd.get_dummies(data).astype(dtype='float32')\n",
    "\n",
    "def data_preprocessing():\n",
    "    global train, test\n",
    "    train = load_data('./train.csv')\n",
    "    test = load_data('./gender_submission.csv').join(load_data('./test.csv'))  \n",
    "\n",
    "    train['is_train'] = True\n",
    "    test['is_train'] = False\n",
    "    data = pd.concat([train, test])\n",
    "\n",
    "    # Replace missing values with mean\n",
    "    data.fillna(data.mean(), inplace=True)\n",
    "\n",
    "    # Split test and train\n",
    "    train, test = data[data['is_train']], data[data['is_train'] == False]\n",
    "\n",
    "    # No unused columns\n",
    "    train, test = train[used_columns], test[used_columns]\n",
    "\n",
    "    train, test = to_array(train), to_array(test)\n",
    "data_preprocessing()\n",
    "\n",
    "\n",
    "def split_to_x_y(data):\n",
    "    return to_array(data[X_columns]), to_array(data[Y_columns])\n",
    "\n",
    "def get_data():\n",
    "    return split_to_x_y(train), split_to_x_y(test)\n",
    "\n",
    "def unlabel_data(*sets):\n",
    "    return ((part.values for part in subset) for subset in sets)"
   ]
  },
  {
   "cell_type": "code",
   "execution_count": 5,
   "metadata": {
    "colab": {},
    "colab_type": "code",
    "id": "4GokLUvsTxS5"
   },
   "outputs": [],
   "source": [
    "(train_x, train_y), (test_x, test_y) = get_data()"
   ]
  },
  {
   "cell_type": "markdown",
   "metadata": {
    "colab_type": "text",
    "id": "aCQ1vW8cP_3R"
   },
   "source": [
    "## 1.\n",
    "For the selected data set, train at least one tree-based ensemble model (random forest, gbm, catboost or any other boosting)"
   ]
  },
  {
   "cell_type": "code",
   "execution_count": 25,
   "metadata": {
    "colab": {},
    "colab_type": "code",
    "id": "EPyw7BqeQ5C9"
   },
   "outputs": [],
   "source": [
    "from xgboost import XGBClassifier"
   ]
  },
  {
   "cell_type": "markdown",
   "metadata": {
    "colab_type": "text",
    "id": "HuVgwX6GR6Fh"
   },
   "source": [
    "### Create a model"
   ]
  },
  {
   "cell_type": "code",
   "execution_count": 30,
   "metadata": {
    "colab": {},
    "colab_type": "code",
    "id": "KPTe8gNdRZME"
   },
   "outputs": [],
   "source": [
    "model1 = XGBClassifier(base_score=0.5, booster='gbtree', colsample_bylevel=1,\n",
    "                       colsample_bynode=1, colsample_bytree=1, gamma=0,\n",
    "                       learning_rate=0.1, max_delta_step=0, max_depth=4,\n",
    "                       min_child_weight=1, missing=None, n_estimators=100, n_jobs=1,\n",
    "                       nthread=None, objective='binary:logistic', random_state=0,\n",
    "                       reg_alpha=0, reg_lambda=1, scale_pos_weight=1, seed=None,\n",
    "                       silent=None, subsample=1, verbosity=1)\n",
    "model1_name = \"XGBClassifier\""
   ]
  },
  {
   "cell_type": "markdown",
   "metadata": {
    "colab_type": "text",
    "id": "8m1RThxnR8eQ"
   },
   "source": [
    "### Train a model"
   ]
  },
  {
   "cell_type": "code",
   "execution_count": 31,
   "metadata": {
    "colab": {},
    "colab_type": "code",
    "id": "Ln7FE5tgRaZ3"
   },
   "outputs": [
    {
     "data": {
      "text/plain": [
       "XGBClassifier(base_score=0.5, booster='gbtree', colsample_bylevel=1,\n",
       "              colsample_bynode=1, colsample_bytree=1, gamma=0, gpu_id=-1,\n",
       "              importance_type='gain', interaction_constraints=None,\n",
       "              learning_rate=0.1, max_delta_step=0, max_depth=4,\n",
       "              min_child_weight=1, missing=nan, monotone_constraints=None,\n",
       "              n_estimators=100, n_jobs=1, nthread=1, num_parallel_tree=1,\n",
       "              objective='binary:logistic', random_state=0, reg_alpha=0,\n",
       "              reg_lambda=1, scale_pos_weight=1, seed=0, silent=None,\n",
       "              subsample=1, tree_method=None, validate_parameters=False,\n",
       "              verbosity=1)"
      ]
     },
     "execution_count": 31,
     "metadata": {},
     "output_type": "execute_result"
    }
   ],
   "source": [
    "model1.fit(train_x, train_y.values[::,0])"
   ]
  },
  {
   "cell_type": "markdown",
   "metadata": {
    "colab_type": "text",
    "id": "aT8Ht9m2R-sL"
   },
   "source": [
    "### Check the first model accuracy"
   ]
  },
  {
   "cell_type": "code",
   "execution_count": 41,
   "metadata": {
    "colab": {
     "base_uri": "https://localhost:8080/",
     "height": 34
    },
    "colab_type": "code",
    "id": "2A6B7XAWR-Es",
    "outputId": "01f2631f-cc7c-4d9b-8dcc-9cd34df9b78e"
   },
   "outputs": [],
   "source": [
    "from sklearn.metrics import accuracy_score\n",
    "def check_accuracy(model, xy=(test_x, test_y)):\n",
    "    x, y = xy\n",
    "    pred = model.predict(x)\n",
    "    accuracy = accuracy_score(y, [round(value) for value in pred])\n",
    "    return accuracy"
   ]
  },
  {
   "cell_type": "code",
   "execution_count": 42,
   "metadata": {},
   "outputs": [
    {
     "name": "stdout",
     "output_type": "stream",
     "text": [
      "model: XGBClassifier \taccuracy: 0.8827751196172249\n"
     ]
    }
   ],
   "source": [
    "print(\"model:\", model1_name, \"\\taccuracy:\", check_accuracy(model1))"
   ]
  },
  {
   "cell_type": "markdown",
   "metadata": {
    "colab_type": "text",
    "id": "YqXfjXroQIVZ"
   },
   "source": [
    "## 2.\n",
    "calculate permutational variable importance for the selected model,"
   ]
  },
  {
   "cell_type": "markdown",
   "metadata": {},
   "source": [
    "### Use permutation_importance from scikit-learn"
   ]
  },
  {
   "cell_type": "code",
   "execution_count": 49,
   "metadata": {},
   "outputs": [],
   "source": [
    "from sklearn.inspection import permutation_importance"
   ]
  },
  {
   "cell_type": "markdown",
   "metadata": {},
   "source": [
    "### Plot as here: https://scikit-learn.org/stable/auto_examples/inspection/plot_permutation_importance.html"
   ]
  },
  {
   "cell_type": "code",
   "execution_count": 101,
   "metadata": {},
   "outputs": [],
   "source": [
    "import matplotlib.pyplot as plt\n",
    "def plot_permutation_importance(model_name, model, xy=(test_x, test_y), **kwargs):\n",
    "    x, y = xy\n",
    "\n",
    "    result = permutation_importance(model, x, y, **kwargs)\n",
    "    sorted_idx = result.importances_mean.argsort()\n",
    "\n",
    "    fig, ax = plt.subplots(figsize=(12,6))\n",
    "    ax.boxplot(result.importances[sorted_idx].T,\n",
    "               vert=False, labels=x.columns[sorted_idx])\n",
    "    ax.set_title(\"Permutation Variable Importances for \" + model_name)\n",
    "    fig.tight_layout()\n",
    "    plt.show()"
   ]
  },
  {
   "cell_type": "code",
   "execution_count": 102,
   "metadata": {},
   "outputs": [
    {
     "data": {
      "image/png": "[encoded data removed]",
      "text/plain": [
       "<Figure size 864x432 with 1 Axes>"
      ]
     },
     "metadata": {
      "needs_background": "light"
     },
     "output_type": "display_data"
    }
   ],
   "source": [
    "plot_permutation_importance(model1_name, model1, n_repeats=100)"
   ]
  },
  {
   "cell_type": "markdown",
   "metadata": {
    "colab_type": "text",
    "id": "0_lbDj9X9-kH"
   },
   "source": [
    "## 3.\n",
    "train three or more candidate models (different variables, different transformations, different model structures) and compare ranking of important features between these models. Are they similar or different?"
   ]
  },
  {
   "cell_type": "markdown",
   "metadata": {
    "colab_type": "text",
    "id": "rQPeuc1h60IQ"
   },
   "source": [
    "### Use scikit-learn random forest classifier, decision tree classifier, linear classifier and k-nearest neighbours classifier"
   ]
  },
  {
   "cell_type": "code",
   "execution_count": 85,
   "metadata": {
    "colab": {},
    "colab_type": "code",
    "id": "rtT3G16yxY-l"
   },
   "outputs": [],
   "source": [
    "from sklearn.ensemble import RandomForestClassifier\n",
    "from sklearn.tree import DecisionTreeClassifier\n",
    "from sklearn.linear_model import SGDClassifier\n",
    "from sklearn.neighbors import KNeighborsClassifier"
   ]
  },
  {
   "cell_type": "markdown",
   "metadata": {
    "colab_type": "text",
    "id": "cI9H-te5SQXa"
   },
   "source": [
    "### Create the models"
   ]
  },
  {
   "cell_type": "code",
   "execution_count": 86,
   "metadata": {
    "colab": {},
    "colab_type": "code",
    "id": "UQN0E3tLxcl5"
   },
   "outputs": [],
   "source": [
    "models = {\n",
    "    \"RandomForestClassifier\": RandomForestClassifier(),\n",
    "    \"DecisionTreeClassifier\": DecisionTreeClassifier(), \n",
    "    \"SGDClassifier\": SGDClassifier(),\n",
    "    \"KNeighborsClassifier\": KNeighborsClassifier()}"
   ]
  },
  {
   "cell_type": "markdown",
   "metadata": {
    "colab_type": "text",
    "id": "iCwmc7ESx31u"
   },
   "source": [
    "### Fit the models"
   ]
  },
  {
   "cell_type": "code",
   "execution_count": 87,
   "metadata": {
    "colab": {},
    "colab_type": "code",
    "id": "INtCCwWRx58t"
   },
   "outputs": [
    {
     "name": "stdout",
     "output_type": "stream",
     "text": [
      "Training RandomForestClassifier\n",
      "Training DecisionTreeClassifier\n",
      "Training SGDClassifier\n",
      "Training KNeighborsClassifier\n"
     ]
    }
   ],
   "source": [
    "for model_name, model in models.items():\n",
    "    print(\"Training\", model_name)\n",
    "    model.fit(train_x, train_y.values[::,0])"
   ]
  },
  {
   "cell_type": "markdown",
   "metadata": {
    "colab_type": "text",
    "id": "EzRgvlQ7yKcw"
   },
   "source": [
    "### Check the models accuracy"
   ]
  },
  {
   "cell_type": "code",
   "execution_count": 88,
   "metadata": {
    "colab": {
     "base_uri": "https://localhost:8080/",
     "height": 34
    },
    "colab_type": "code",
    "id": "eGH-3eUIyMLz",
    "outputId": "4df7959b-8a17-4c45-a824-d83408c0a03a"
   },
   "outputs": [
    {
     "name": "stdout",
     "output_type": "stream",
     "text": [
      "model: RandomForestClassifier \taccuracy: 0.8229665071770335\n",
      "model: DecisionTreeClassifier \taccuracy: 0.8038277511961722\n",
      "model: SGDClassifier \taccuracy: 0.8253588516746412\n",
      "model: KNeighborsClassifier \taccuracy: 0.6722488038277512\n"
     ]
    }
   ],
   "source": [
    "from sklearn.metrics import accuracy_score\n",
    "for model_name, model in models.items():\n",
    "    test_pred = model.predict(test_x)\n",
    "    test_accuracy1 = accuracy_score(test_y, [round(value) for value in test_pred])\n",
    "    print(\"model:\", model_name, \"\\taccuracy:\", test_accuracy1)"
   ]
  },
  {
   "cell_type": "markdown",
   "metadata": {},
   "source": [
    "### Plot permutational variable importance for those models"
   ]
  },
  {
   "cell_type": "code",
   "execution_count": 103,
   "metadata": {},
   "outputs": [
    {
     "data": {
      "image/png": "[encoded data removed]",
      "text/plain": [
       "<Figure size 864x432 with 1 Axes>"
      ]
     },
     "metadata": {
      "needs_background": "light"
     },
     "output_type": "display_data"
    },
    {
     "data": {
      "image/png": "[encoded data removed]",
      "text/plain": [
       "<Figure size 864x432 with 1 Axes>"
      ]
     },
     "metadata": {
      "needs_background": "light"
     },
     "output_type": "display_data"
    },
    {
     "data": {
      "image/png": "[encoded data removed]",
      "text/plain": [
       "<Figure size 864x432 with 1 Axes>"
      ]
     },
     "metadata": {
      "needs_background": "light"
     },
     "output_type": "display_data"
    },
    {
     "data": {
      "image/png": "[encoded data removed]",
      "text/plain": [
       "<Figure size 864x432 with 1 Axes>"
      ]
     },
     "metadata": {
      "needs_background": "light"
     },
     "output_type": "display_data"
    }
   ],
   "source": [
    "for model_name, model in models.items():\n",
    "    plot_permutation_importance(model_name, model, n_repeats=100)"
   ]
  },
  {
   "cell_type": "markdown",
   "metadata": {
    "colab_type": "text",
    "id": "xYmnCd-OwpW1"
   },
   "source": [
    "## 4.\n",
    "Comment on the results for points (2) and (3)"
   ]
  },
  {
   "cell_type": "markdown",
   "metadata": {
    "colab_type": "text",
    "id": "npbIRR4-y638"
   },
   "source": [
    "2. permutational variable importance for the first model\n",
    "\n",
    "    \n",
    "\n",
    "3. permutational variable importance of other models\n",
    "\n",
    "    "
   ]
  }
 ],
 "metadata": {
  "colab": {
   "collapsed_sections": [
    "1k5yb_LDQ0UO",
    "c4_HSH1NZs4s",
    "NLkKLWma9wWn",
    "izJSfphJ94V-",
    "HuVgwX6GR6Fh",
    "8m1RThxnR8eQ",
    "aT8Ht9m2R-sL",
    "t38TV1R4U_9N",
    "qdOzt1DKVCzP"
   ],
   "name": "titanic_v4.ipynb",
   "provenance": []
  },
  "kernelspec": {
   "display_name": "Python 3",
   "language": "python",
   "name": "python3"
  },
  "language_info": {
   "codemirror_mode": {
    "name": "ipython",
    "version": 3
   },
   "file_extension": ".py",
   "mimetype": "text/x-python",
   "name": "python",
   "nbconvert_exporter": "python",
   "pygments_lexer": "ipython3",
   "version": "3.8.2"
  }
 },
 "nbformat": 4,
 "nbformat_minor": 1
}
