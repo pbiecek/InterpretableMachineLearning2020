{
 "cells": [
  {
   "cell_type": "markdown",
   "metadata": {},
   "source": [
    "# Medical Expenditure Panel Survey"
   ]
  },
  {
   "cell_type": "code",
   "execution_count": 3,
   "metadata": {},
   "outputs": [],
   "source": [
    "%matplotlib inline\n",
    "\n",
    "import numpy as np\n",
    "import matplotlib.pyplot as plt\n",
    "import pandas as pd\n",
    "\n",
    "from sklearn.model_selection import train_test_split\n",
    "from sklearn.metrics import r2_score\n",
    "from sklearn.linear_model import LinearRegression\n",
    "from sklearn.ensemble import GradientBoostingRegressor\n",
    "from sklearn.model_selection import train_test_split\n",
    "\n",
    "from aix360.datasets import MEPSDataset\n",
    "\n",
    "from dalex import explainer"
   ]
  },
  {
   "cell_type": "code",
   "execution_count": 4,
   "metadata": {},
   "outputs": [],
   "source": [
    "data = MEPSDataset().data()"
   ]
  },
  {
   "cell_type": "code",
   "execution_count": 5,
   "metadata": {},
   "outputs": [],
   "source": [
    "data.reset_index(drop=True, inplace=True)"
   ]
  },
  {
   "cell_type": "code",
   "execution_count": 6,
   "metadata": {},
   "outputs": [],
   "source": [
    "data.drop(columns= ['PANEL', 'PERSONWT'], inplace=True)"
   ]
  },
  {
   "cell_type": "code",
   "execution_count": 7,
   "metadata": {},
   "outputs": [
    {
     "data": {
      "text/html": [
       "<div>\n",
       "<style scoped>\n",
       "    .dataframe tbody tr th:only-of-type {\n",
       "        vertical-align: middle;\n",
       "    }\n",
       "\n",
       "    .dataframe tbody tr th {\n",
       "        vertical-align: top;\n",
       "    }\n",
       "\n",
       "    .dataframe thead th {\n",
       "        text-align: right;\n",
       "    }\n",
       "</style>\n",
       "<table border=\"1\" class=\"dataframe\">\n",
       "  <thead>\n",
       "    <tr style=\"text-align: right;\">\n",
       "      <th></th>\n",
       "      <th>REGION</th>\n",
       "      <th>AGE31X</th>\n",
       "      <th>GENDER</th>\n",
       "      <th>RACE3</th>\n",
       "      <th>MARRY31X</th>\n",
       "      <th>EDRECODE</th>\n",
       "      <th>FTSTU31X</th>\n",
       "      <th>ACTDTY31</th>\n",
       "      <th>HONRDC31</th>\n",
       "      <th>RTHLTH31</th>\n",
       "      <th>...</th>\n",
       "      <th>ADSMOK42</th>\n",
       "      <th>PCS42</th>\n",
       "      <th>MCS42</th>\n",
       "      <th>K6SUM42</th>\n",
       "      <th>PHQ242</th>\n",
       "      <th>EMPST31</th>\n",
       "      <th>POVCAT15</th>\n",
       "      <th>INSCOV15</th>\n",
       "      <th>INCOME_M</th>\n",
       "      <th>HEALTHEXP</th>\n",
       "    </tr>\n",
       "  </thead>\n",
       "  <tbody>\n",
       "    <tr>\n",
       "      <th>count</th>\n",
       "      <td>18350.000000</td>\n",
       "      <td>18350.000000</td>\n",
       "      <td>18350.000000</td>\n",
       "      <td>18350.000000</td>\n",
       "      <td>18350.000000</td>\n",
       "      <td>18350.000000</td>\n",
       "      <td>18350.000000</td>\n",
       "      <td>18350.000000</td>\n",
       "      <td>18350.000000</td>\n",
       "      <td>18350.000000</td>\n",
       "      <td>...</td>\n",
       "      <td>18350.000000</td>\n",
       "      <td>18350.000000</td>\n",
       "      <td>18350.000000</td>\n",
       "      <td>18350.000000</td>\n",
       "      <td>18350.000000</td>\n",
       "      <td>18350.000000</td>\n",
       "      <td>18350.000000</td>\n",
       "      <td>18350.000000</td>\n",
       "      <td>18350.000000</td>\n",
       "      <td>18350.000000</td>\n",
       "    </tr>\n",
       "    <tr>\n",
       "      <th>mean</th>\n",
       "      <td>2.607466</td>\n",
       "      <td>38.746649</td>\n",
       "      <td>0.521526</td>\n",
       "      <td>0.338147</td>\n",
       "      <td>3.590954</td>\n",
       "      <td>9.842943</td>\n",
       "      <td>-0.759619</td>\n",
       "      <td>2.638692</td>\n",
       "      <td>2.156948</td>\n",
       "      <td>2.177929</td>\n",
       "      <td>...</td>\n",
       "      <td>0.900926</td>\n",
       "      <td>32.348196</td>\n",
       "      <td>34.368819</td>\n",
       "      <td>1.664687</td>\n",
       "      <td>0.136948</td>\n",
       "      <td>1.526376</td>\n",
       "      <td>3.510627</td>\n",
       "      <td>1.446921</td>\n",
       "      <td>27853.695313</td>\n",
       "      <td>5184.511608</td>\n",
       "    </tr>\n",
       "    <tr>\n",
       "      <th>std</th>\n",
       "      <td>0.942848</td>\n",
       "      <td>23.020492</td>\n",
       "      <td>0.499550</td>\n",
       "      <td>0.473092</td>\n",
       "      <td>2.262703</td>\n",
       "      <td>6.226279</td>\n",
       "      <td>0.855099</td>\n",
       "      <td>0.813550</td>\n",
       "      <td>0.523573</td>\n",
       "      <td>1.095924</td>\n",
       "      <td>...</td>\n",
       "      <td>1.355978</td>\n",
       "      <td>25.021569</td>\n",
       "      <td>25.934907</td>\n",
       "      <td>4.106635</td>\n",
       "      <td>1.329289</td>\n",
       "      <td>1.842521</td>\n",
       "      <td>1.461804</td>\n",
       "      <td>0.624748</td>\n",
       "      <td>36225.013969</td>\n",
       "      <td>15126.748532</td>\n",
       "    </tr>\n",
       "    <tr>\n",
       "      <th>min</th>\n",
       "      <td>1.000000</td>\n",
       "      <td>0.000000</td>\n",
       "      <td>0.000000</td>\n",
       "      <td>0.000000</td>\n",
       "      <td>1.000000</td>\n",
       "      <td>-1.000000</td>\n",
       "      <td>-1.000000</td>\n",
       "      <td>1.000000</td>\n",
       "      <td>1.000000</td>\n",
       "      <td>-1.000000</td>\n",
       "      <td>...</td>\n",
       "      <td>-1.000000</td>\n",
       "      <td>-9.000000</td>\n",
       "      <td>-9.000000</td>\n",
       "      <td>-9.000000</td>\n",
       "      <td>-1.000000</td>\n",
       "      <td>-1.000000</td>\n",
       "      <td>1.000000</td>\n",
       "      <td>1.000000</td>\n",
       "      <td>0.000000</td>\n",
       "      <td>0.000000</td>\n",
       "    </tr>\n",
       "    <tr>\n",
       "      <th>25%</th>\n",
       "      <td>2.000000</td>\n",
       "      <td>19.000000</td>\n",
       "      <td>0.000000</td>\n",
       "      <td>0.000000</td>\n",
       "      <td>1.000000</td>\n",
       "      <td>2.000000</td>\n",
       "      <td>-1.000000</td>\n",
       "      <td>2.000000</td>\n",
       "      <td>2.000000</td>\n",
       "      <td>1.000000</td>\n",
       "      <td>...</td>\n",
       "      <td>-1.000000</td>\n",
       "      <td>-1.000000</td>\n",
       "      <td>-1.000000</td>\n",
       "      <td>-1.000000</td>\n",
       "      <td>-1.000000</td>\n",
       "      <td>1.000000</td>\n",
       "      <td>3.000000</td>\n",
       "      <td>1.000000</td>\n",
       "      <td>0.000000</td>\n",
       "      <td>198.000000</td>\n",
       "    </tr>\n",
       "    <tr>\n",
       "      <th>50%</th>\n",
       "      <td>3.000000</td>\n",
       "      <td>38.500000</td>\n",
       "      <td>1.000000</td>\n",
       "      <td>0.000000</td>\n",
       "      <td>5.000000</td>\n",
       "      <td>13.000000</td>\n",
       "      <td>-1.000000</td>\n",
       "      <td>2.000000</td>\n",
       "      <td>2.000000</td>\n",
       "      <td>2.000000</td>\n",
       "      <td>...</td>\n",
       "      <td>2.000000</td>\n",
       "      <td>43.310000</td>\n",
       "      <td>46.735000</td>\n",
       "      <td>0.000000</td>\n",
       "      <td>0.000000</td>\n",
       "      <td>1.000000</td>\n",
       "      <td>4.000000</td>\n",
       "      <td>1.000000</td>\n",
       "      <td>16200.000000</td>\n",
       "      <td>1034.000000</td>\n",
       "    </tr>\n",
       "    <tr>\n",
       "      <th>75%</th>\n",
       "      <td>3.000000</td>\n",
       "      <td>57.000000</td>\n",
       "      <td>1.000000</td>\n",
       "      <td>1.000000</td>\n",
       "      <td>5.000000</td>\n",
       "      <td>14.000000</td>\n",
       "      <td>-1.000000</td>\n",
       "      <td>3.000000</td>\n",
       "      <td>2.000000</td>\n",
       "      <td>3.000000</td>\n",
       "      <td>...</td>\n",
       "      <td>2.000000</td>\n",
       "      <td>55.090000</td>\n",
       "      <td>57.060000</td>\n",
       "      <td>3.000000</td>\n",
       "      <td>0.000000</td>\n",
       "      <td>4.000000</td>\n",
       "      <td>5.000000</td>\n",
       "      <td>2.000000</td>\n",
       "      <td>40000.000000</td>\n",
       "      <td>4219.500000</td>\n",
       "    </tr>\n",
       "    <tr>\n",
       "      <th>max</th>\n",
       "      <td>4.000000</td>\n",
       "      <td>85.000000</td>\n",
       "      <td>1.000000</td>\n",
       "      <td>1.000000</td>\n",
       "      <td>10.000000</td>\n",
       "      <td>16.000000</td>\n",
       "      <td>3.000000</td>\n",
       "      <td>4.000000</td>\n",
       "      <td>4.000000</td>\n",
       "      <td>5.000000</td>\n",
       "      <td>...</td>\n",
       "      <td>2.000000</td>\n",
       "      <td>71.060000</td>\n",
       "      <td>74.980000</td>\n",
       "      <td>24.000000</td>\n",
       "      <td>6.000000</td>\n",
       "      <td>4.000000</td>\n",
       "      <td>5.000000</td>\n",
       "      <td>3.000000</td>\n",
       "      <td>320299.000000</td>\n",
       "      <td>659952.000000</td>\n",
       "    </tr>\n",
       "  </tbody>\n",
       "</table>\n",
       "<p>8 rows × 44 columns</p>\n",
       "</div>"
      ],
      "text/plain": [
       "             REGION        AGE31X        GENDER         RACE3      MARRY31X  \\\n",
       "count  18350.000000  18350.000000  18350.000000  18350.000000  18350.000000   \n",
       "mean       2.607466     38.746649      0.521526      0.338147      3.590954   \n",
       "std        0.942848     23.020492      0.499550      0.473092      2.262703   \n",
       "min        1.000000      0.000000      0.000000      0.000000      1.000000   \n",
       "25%        2.000000     19.000000      0.000000      0.000000      1.000000   \n",
       "50%        3.000000     38.500000      1.000000      0.000000      5.000000   \n",
       "75%        3.000000     57.000000      1.000000      1.000000      5.000000   \n",
       "max        4.000000     85.000000      1.000000      1.000000     10.000000   \n",
       "\n",
       "           EDRECODE      FTSTU31X      ACTDTY31      HONRDC31      RTHLTH31  \\\n",
       "count  18350.000000  18350.000000  18350.000000  18350.000000  18350.000000   \n",
       "mean       9.842943     -0.759619      2.638692      2.156948      2.177929   \n",
       "std        6.226279      0.855099      0.813550      0.523573      1.095924   \n",
       "min       -1.000000     -1.000000      1.000000      1.000000     -1.000000   \n",
       "25%        2.000000     -1.000000      2.000000      2.000000      1.000000   \n",
       "50%       13.000000     -1.000000      2.000000      2.000000      2.000000   \n",
       "75%       14.000000     -1.000000      3.000000      2.000000      3.000000   \n",
       "max       16.000000      3.000000      4.000000      4.000000      5.000000   \n",
       "\n",
       "       ...      ADSMOK42         PCS42         MCS42       K6SUM42  \\\n",
       "count  ...  18350.000000  18350.000000  18350.000000  18350.000000   \n",
       "mean   ...      0.900926     32.348196     34.368819      1.664687   \n",
       "std    ...      1.355978     25.021569     25.934907      4.106635   \n",
       "min    ...     -1.000000     -9.000000     -9.000000     -9.000000   \n",
       "25%    ...     -1.000000     -1.000000     -1.000000     -1.000000   \n",
       "50%    ...      2.000000     43.310000     46.735000      0.000000   \n",
       "75%    ...      2.000000     55.090000     57.060000      3.000000   \n",
       "max    ...      2.000000     71.060000     74.980000     24.000000   \n",
       "\n",
       "             PHQ242       EMPST31      POVCAT15      INSCOV15       INCOME_M  \\\n",
       "count  18350.000000  18350.000000  18350.000000  18350.000000   18350.000000   \n",
       "mean       0.136948      1.526376      3.510627      1.446921   27853.695313   \n",
       "std        1.329289      1.842521      1.461804      0.624748   36225.013969   \n",
       "min       -1.000000     -1.000000      1.000000      1.000000       0.000000   \n",
       "25%       -1.000000      1.000000      3.000000      1.000000       0.000000   \n",
       "50%        0.000000      1.000000      4.000000      1.000000   16200.000000   \n",
       "75%        0.000000      4.000000      5.000000      2.000000   40000.000000   \n",
       "max        6.000000      4.000000      5.000000      3.000000  320299.000000   \n",
       "\n",
       "           HEALTHEXP  \n",
       "count   18350.000000  \n",
       "mean     5184.511608  \n",
       "std     15126.748532  \n",
       "min         0.000000  \n",
       "25%       198.000000  \n",
       "50%      1034.000000  \n",
       "75%      4219.500000  \n",
       "max    659952.000000  \n",
       "\n",
       "[8 rows x 44 columns]"
      ]
     },
     "execution_count": 7,
     "metadata": {},
     "output_type": "execute_result"
    }
   ],
   "source": [
    "data.describe(include='all')"
   ]
  },
  {
   "cell_type": "code",
   "execution_count": 8,
   "metadata": {},
   "outputs": [
    {
     "data": {
      "text/plain": [
       "[<matplotlib.lines.Line2D at 0x1511d6450>]"
      ]
     },
     "execution_count": 8,
     "metadata": {},
     "output_type": "execute_result"
    },
    {
     "data": {
      "image/png": "[encoded data removed]",
      "text/plain": [
       "<Figure size 432x288 with 1 Axes>"
      ]
     },
     "metadata": {
      "needs_background": "light"
     },
     "output_type": "display_data"
    }
   ],
   "source": [
    "plt.plot(data.HEALTHEXP)"
   ]
  },
  {
   "cell_type": "code",
   "execution_count": 9,
   "metadata": {},
   "outputs": [],
   "source": [
    "X, y = data.drop({'HEALTHEXP'}, 1), data['HEALTHEXP']"
   ]
  },
  {
   "cell_type": "code",
   "execution_count": 10,
   "metadata": {},
   "outputs": [],
   "source": [
    "X_train_raw, X_test_raw, y_train, y_test = train_test_split(X, y, test_size=0.3, random_state=37)"
   ]
  },
  {
   "cell_type": "code",
   "execution_count": 11,
   "metadata": {},
   "outputs": [
    {
     "data": {
      "text/plain": [
       "count     18350.000000\n",
       "mean       5184.511608\n",
       "std       15126.748532\n",
       "min           0.000000\n",
       "10%           0.000000\n",
       "20%         114.000000\n",
       "30%         302.000000\n",
       "40%         585.000000\n",
       "50%        1034.000000\n",
       "60%        1784.800000\n",
       "70%        3099.000000\n",
       "80%        5619.800000\n",
       "90%       12591.100000\n",
       "max      659952.000000\n",
       "Name: HEALTHEXP, dtype: float64"
      ]
     },
     "execution_count": 11,
     "metadata": {},
     "output_type": "execute_result"
    }
   ],
   "source": [
    "y.describe(percentiles=np.linspace(0.1, 0.9, 9))"
   ]
  },
  {
   "cell_type": "code",
   "execution_count": 12,
   "metadata": {},
   "outputs": [],
   "source": [
    "def score_r2_print(clf, X_train, X_test, y_train, y_test):\n",
    "    print('Training R^2:', r2_score(y_train, clf.predict(X_train)))\n",
    "    print('Test R^2:', r2_score(y_test, clf.predict(X_test)))"
   ]
  },
  {
   "cell_type": "markdown",
   "metadata": {},
   "source": [
    "## Train GradientBoostingRegressor"
   ]
  },
  {
   "cell_type": "code",
   "execution_count": 13,
   "metadata": {},
   "outputs": [
    {
     "name": "stdout",
     "output_type": "stream",
     "text": [
      "Training R^2: 0.6731005507461095\n",
      "Test R^2: 0.13637817020720355\n"
     ]
    }
   ],
   "source": [
    "# Train and evaluate GBRT\n",
    "gbr = GradientBoostingRegressor(n_estimators=500, random_state=0)\n",
    "gbr.fit(X_train_raw, y_train)\n",
    "\n",
    "score_r2_print(gbr, X_train_raw, X_test_raw, y_train, y_test)"
   ]
  },
  {
   "cell_type": "markdown",
   "metadata": {},
   "source": [
    "This model overfits on training data."
   ]
  },
  {
   "cell_type": "markdown",
   "metadata": {},
   "source": [
    "## Train Linear Rule Regressor"
   ]
  },
  {
   "cell_type": "code",
   "execution_count": 14,
   "metadata": {},
   "outputs": [
    {
     "name": "stdout",
     "output_type": "stream",
     "text": [
      "Training R^2: 0.1385134639453851\n",
      "Test R^2: 0.15861900854440303\n"
     ]
    }
   ],
   "source": [
    "regressor = LinearRegression()\n",
    "regressor.fit(X_train_raw, y_train)\n",
    "\n",
    "score_r2_print(regressor, X_train_raw, X_test_raw, y_train, y_test)"
   ]
  },
  {
   "cell_type": "markdown",
   "metadata": {},
   "source": [
    "## 3. EXPLAINING"
   ]
  },
  {
   "cell_type": "markdown",
   "metadata": {},
   "source": [
    "## GradientBoostingRegressor"
   ]
  },
  {
   "cell_type": "markdown",
   "metadata": {},
   "source": [
    "### 3.GBM.1 Shapley"
   ]
  },
  {
   "cell_type": "code",
   "execution_count": 19,
   "metadata": {},
   "outputs": [
    {
     "name": "stdout",
     "output_type": "stream",
     "text": [
      "Preparation of a new explainer is initiated\n",
      "\n",
      "  -> label             : not specified, model's class taken instead!\n",
      "  -> data              : 12845 rows 43 cols\n",
      "  -> target variable   :  Argument 'y' was a pandas.Series. Converted to a numpy.ndarray.\n",
      "  -> target variable   : 12845 values\n",
      "  -> predict function  : <function yhat.<locals>.<lambda> at 0x150006b00> will be used\n",
      "  -> predicted values  : min = -5490.438225765241, mean = 5212.38349552355, max = 597900.6633324702\n",
      "  -> residual function : difference between y and yhat\n",
      "  -> residuals         : min = -47259.18472204638, mean = 2.7415830947954676e-13, max = 179795.95387093432\n",
      "  -> model_info        : package sklearn\n",
      "\n",
      "A new explainer has been created!\n"
     ]
    },
    {
     "data": {
      "application/vnd.plotly.v1+json": {
       "config": {
        "displaylogo": false,
        "modeBarButtonsToRemove": [
         "sendDataToCloud",
         "lasso2d",
         "autoScale2d",
         "select2d",
         "zoom2d",
         "pan2d",
         "zoomIn2d",
         "zoomOut2d",
         "resetScale2d",
         "toggleSpikelines",
         "hoverCompareCartesian",
         "hoverClosestCartesian"
        ],
        "plotlyServerURL": "https://plot.ly",
        "staticPlot": false
       },
       "data": [
        {
         "base": 5212.38349552355,
         "hoverinfo": "text",
         "hoverlabel": {
          "bgcolor": "rgba(0,0,0,0.8)"
         },
         "hovertext": [
          "Average response: 5212.383<br>Prediction: 11270.117<br>CANCERDX = 2.0<br>increases average response <br>by 297.416",
          "Average response: 5212.383<br>Prediction: 11270.117<br>WLKLIM31 = 1.0<br>increases average response <br>by 1530.551",
          "Average response: 5212.383<br>Prediction: 11270.117<br>MNHLTH31 = 2.0<br>increases average response <br>by 32.363",
          "Average response: 5212.383<br>Prediction: 11270.117<br>ADSMOK42 = 2.0<br>increases average response <br>by 1769.58",
          "Average response: 5212.383<br>Prediction: 11270.117<br>CHOLDX = 2.0<br>increases average response <br>by 76.91",
          "Average response: 5212.383<br>Prediction: 11270.117<br>RTHLTH31 = 2.0<br>decreases average response <br>by 518.875",
          "Average response: 5212.383<br>Prediction: 11270.117<br>AGE31X = 4.1e+01<br>decreases average response <br>by 103.0",
          "Average response: 5212.383<br>Prediction: 11270.117<br>ARTHTYPE = -1.0<br>decreases average response <br>by 169.918",
          "Average response: 5212.383<br>Prediction: 11270.117<br>EDRECODE = 1.5e+01<br>increases average response <br>by 1502.824",
          "Average response: 5212.383<br>Prediction: 11270.117<br>INSCOV15 = 2.0<br>decreases average response <br>by 13.362",
          "Average response: 5212.383<br>Prediction: 11270.117<br>SOCLIM31 = 2.0<br>decreases average response <br>by 375.022",
          "Average response: 5212.383<br>Prediction: 11270.117<br>REGION = 2.0<br>increases average response <br>by 77.643",
          "Average response: 5212.383<br>Prediction: 11270.117<br>DFHEAR42 = 2.0<br>decreases average response <br>by 28.999",
          "Average response: 5212.383<br>Prediction: 11270.117<br>OHRTDX = 1.0<br>increases average response <br>by 1509.353",
          "Average response: 5212.383<br>Prediction: 11270.117<br>MCS42 = 4.3e+01<br>increases average response <br>by 8270.429",
          "Average response: 5212.383<br>Prediction: 11270.117<br>FTSTU31X = -1.0<br>decreases average response <br>by 118.792",
          "Average response: 5212.383<br>Prediction: 11270.117<br>JTPAIN31 = 1.0<br>increases average response <br>by 122.309",
          "Average response: 5212.383<br>Prediction: 11270.117<br>POVCAT15 = 4.0<br>increases average response <br>by 56.532",
          "Average response: 5212.383<br>Prediction: 11270.117<br>GENDER = 1.0<br>increases average response <br>by 8.673",
          "Average response: 5212.383<br>Prediction: 11270.117<br>CHDDX = 2.0<br>decreases average response <br>by 717.658",
          "Average response: 5212.383<br>Prediction: 11270.117<br>INCOME_M = 9e+03<br>increases average response <br>by 33.389",
          "Average response: 5212.383<br>Prediction: 11270.117<br>EMPST31 = 1.0<br>decreases average response <br>by 125.488",
          "Average response: 5212.383<br>Prediction: 11270.117<br>MIDX = 2.0<br>increases average response <br>by 6.844",
          "Average response: 5212.383<br>Prediction: 11270.117<br>RACE3 = 0.0<br>increases average response <br>by 191.663",
          "Average response: 5212.383<br>Prediction: 11270.117<br>DIABDX = 2.0<br>decreases average response <br>by 310.121",
          "Average response: 5212.383<br>Prediction: 11270.117<br>PHQ242 = 2.0<br>decreases average response <br>by 747.983",
          "Average response: 5212.383<br>Prediction: 11270.117<br>ARTHDX = 2.0<br>increases average response <br>by 15.487",
          "Average response: 5212.383<br>Prediction: 11270.117<br>ASTHDX = 2.0<br>decreases average response <br>by 40.535",
          "Average response: 5212.383<br>Prediction: 11270.117<br>ACTLIM31 = 2.0<br>decreases average response <br>by 198.795",
          "Average response: 5212.383<br>Prediction: 11270.117<br>ADHDADDX = -1.0<br>decreases average response <br>by 222.828",
          "Average response: 5212.383<br>Prediction: 11270.117<br>HONRDC31 = 2.0<br>increases average response <br>by 36.161",
          "Average response: 5212.383<br>Prediction: 11270.117<br>ANGIDX = 2.0<br>decreases average response <br>by 204.318",
          "Average response: 5212.383<br>Prediction: 11270.117<br>CHBRON31 = 2.0<br>decreases average response <br>by 416.884",
          "Average response: 5212.383<br>Prediction: 11270.117<br>PREGNT31 = 2.0<br>decreases average response <br>by 188.806",
          "Average response: 5212.383<br>Prediction: 11270.117<br>DFSEE42 = 2.0<br>increases average response <br>by 31.825",
          "Average response: 5212.383<br>Prediction: 11270.117<br>STRKDX = 2.0<br>decreases average response <br>by 274.294",
          "Average response: 5212.383<br>Prediction: 11270.117<br>MARRY31X = 1.0<br>decreases average response <br>by 437.91",
          "Average response: 5212.383<br>Prediction: 11270.117<br>HIBPDX = 2.0<br>decreases average response <br>by 308.836",
          "Average response: 5212.383<br>Prediction: 11270.117<br>COGLIM31 = 2.0<br>decreases average response <br>by 996.142",
          "Average response: 5212.383<br>Prediction: 11270.117<br>K6SUM42 = 7.0<br>increases average response <br>by 610.803",
          "Average response: 5212.383<br>Prediction: 11270.117<br>PCS42 = 4.5e+01<br>decreases average response <br>by 3391.599",
          "Average response: 5212.383<br>Prediction: 11270.117<br>+ all other factors<br>decreases average response <br>by 0.0"
         ],
         "marker": {
          "color": [
           "#8bdcbe",
           "#8bdcbe",
           "#8bdcbe",
           "#8bdcbe",
           "#8bdcbe",
           "#f05a71",
           "#f05a71",
           "#f05a71",
           "#8bdcbe",
           "#f05a71",
           "#f05a71",
           "#8bdcbe",
           "#f05a71",
           "#8bdcbe",
           "#8bdcbe",
           "#f05a71",
           "#8bdcbe",
           "#8bdcbe",
           "#8bdcbe",
           "#f05a71",
           "#8bdcbe",
           "#f05a71",
           "#8bdcbe",
           "#8bdcbe",
           "#f05a71",
           "#f05a71",
           "#8bdcbe",
           "#f05a71",
           "#f05a71",
           "#f05a71",
           "#8bdcbe",
           "#f05a71",
           "#f05a71",
           "#f05a71",
           "#8bdcbe",
           "#f05a71",
           "#f05a71",
           "#f05a71",
           "#f05a71",
           "#8bdcbe",
           "#f05a71",
           "#371ea3"
          ]
         },
         "orientation": "h",
         "showlegend": false,
         "text": [
          "+297.416",
          "+1530.551",
          "+32.363",
          "+1769.58",
          "+76.91",
          "-518.875",
          "-103.0",
          "-169.918",
          "+1502.824",
          "-13.362",
          "-375.022",
          "+77.643",
          "-28.999",
          "+1509.353",
          "+8270.429",
          "-118.792",
          "+122.309",
          "+56.532",
          "+8.673",
          "-717.658",
          "+33.389",
          "-125.488",
          "+6.844",
          "+191.663",
          "-310.121",
          "-747.983",
          "+15.487",
          "-40.535",
          "-198.795",
          "-222.828",
          "+36.161",
          "-204.318",
          "-416.884",
          "-188.806",
          "+31.825",
          "-274.294",
          "-437.91",
          "-308.836",
          "-996.142",
          "+610.803",
          "-3391.599",
          "0.0"
         ],
         "textposition": "outside",
         "type": "bar",
         "x": [
          297.416,
          1530.551,
          32.363,
          1769.58,
          76.91,
          -518.875,
          -103,
          -169.918,
          1502.824,
          -13.362,
          -375.022,
          77.643,
          -28.999,
          1509.353,
          8270.429,
          -118.792,
          122.309,
          56.532,
          8.673,
          -717.658,
          33.389,
          -125.488,
          6.844,
          191.663,
          -310.121,
          -747.983,
          15.487,
          -40.535,
          -198.795,
          -222.828,
          36.161,
          -204.318,
          -416.884,
          -188.806,
          31.825,
          -274.294,
          -437.91,
          -308.836,
          -996.142,
          610.803,
          -3391.599,
          0
         ],
         "xaxis": "x",
         "y": [
          "CANCERDX = 2.0",
          "WLKLIM31 = 1.0",
          "MNHLTH31 = 2.0",
          "ADSMOK42 = 2.0",
          "CHOLDX = 2.0",
          "RTHLTH31 = 2.0",
          "AGE31X = 4.1e+01",
          "ARTHTYPE = -1.0",
          "EDRECODE = 1.5e+01",
          "INSCOV15 = 2.0",
          "SOCLIM31 = 2.0",
          "REGION = 2.0",
          "DFHEAR42 = 2.0",
          "OHRTDX = 1.0",
          "MCS42 = 4.3e+01",
          "FTSTU31X = -1.0",
          "JTPAIN31 = 1.0",
          "POVCAT15 = 4.0",
          "GENDER = 1.0",
          "CHDDX = 2.0",
          "INCOME_M = 9e+03",
          "EMPST31 = 1.0",
          "MIDX = 2.0",
          "RACE3 = 0.0",
          "DIABDX = 2.0",
          "PHQ242 = 2.0",
          "ARTHDX = 2.0",
          "ASTHDX = 2.0",
          "ACTLIM31 = 2.0",
          "ADHDADDX = -1.0",
          "HONRDC31 = 2.0",
          "ANGIDX = 2.0",
          "CHBRON31 = 2.0",
          "PREGNT31 = 2.0",
          "DFSEE42 = 2.0",
          "STRKDX = 2.0",
          "MARRY31X = 1.0",
          "HIBPDX = 2.0",
          "COGLIM31 = 2.0",
          "K6SUM42 = 7.0",
          "PCS42 = 4.5e+01",
          "+ all other factors"
         ],
         "yaxis": "y"
        }
       ],
       "layout": {
        "annotations": [
         {
          "font": {
           "size": 16
          },
          "showarrow": false,
          "text": "GradientBoostingRegressor",
          "x": 0.5,
          "xanchor": "center",
          "xref": "paper",
          "y": 1,
          "yanchor": "bottom",
          "yref": "paper"
         },
         {
          "font": {
           "size": 16
          },
          "showarrow": false,
          "text": "contribution",
          "x": 0.5,
          "xanchor": "center",
          "xref": "paper",
          "y": 0,
          "yanchor": "top",
          "yref": "paper",
          "yshift": -30
         }
        ],
        "font": {
         "color": "#371ea3"
        },
        "height": 1013,
        "margin": {
         "b": 71,
         "r": 30,
         "t": 78
        },
        "shapes": [
         {
          "line": {
           "color": "#371ea3",
           "dash": "dot",
           "width": 1.5
          },
          "type": "line",
          "x0": 5212.38349552355,
          "x1": 5212.38349552355,
          "xref": "x",
          "y0": 0,
          "y1": 42,
          "yref": "y"
         }
        ],
        "template": {
         "data": {
          "scatter": [
           {
            "type": "scatter"
           }
          ]
         }
        },
        "title": {
         "text": "Shapley Values",
         "x": 0.15
        },
        "xaxis": {
         "anchor": "y",
         "automargin": true,
         "domain": [
          0,
          1
         ],
         "fixedrange": true,
         "gridwidth": 2,
         "range": [
          71.48029552354933,
          15232.116695523551
         ],
         "tickcolor": "white",
         "ticklen": 3,
         "ticks": "outside",
         "type": "linear",
         "zeroline": false
        },
        "yaxis": {
         "anchor": "x",
         "automargin": true,
         "autorange": "reversed",
         "domain": [
          0,
          1
         ],
         "fixedrange": true,
         "gridwidth": 2,
         "tickcolor": "white",
         "ticklen": 10,
         "ticks": "outside",
         "type": "category"
        }
       }
      },
      "text/html": [
       "<div>\n",
       "        \n",
       "        \n",
       "            <div id=\"b4a1f7ee-a021-4f54-9697-ff2446ff3608\" class=\"plotly-graph-div\" style=\"height:1013.0px; width:100%;\"></div>\n",
       "            <script type=\"text/javascript\">\n",
       "                require([\"plotly\"], function(Plotly) {\n",
       "                    window.PLOTLYENV=window.PLOTLYENV || {};\n",
       "                    \n",
       "                if (document.getElementById(\"b4a1f7ee-a021-4f54-9697-ff2446ff3608\")) {\n",
       "                    Plotly.newPlot(\n",
       "                        'b4a1f7ee-a021-4f54-9697-ff2446ff3608',\n",
       "                        [{\"base\": 5212.38349552355, \"hoverinfo\": \"text\", \"hoverlabel\": {\"bgcolor\": \"rgba(0,0,0,0.8)\"}, \"hovertext\": [\"Average response: 5212.383<br>Prediction: 11270.117<br>CANCERDX = 2.0<br>increases average response <br>by 297.416\", \"Average response: 5212.383<br>Prediction: 11270.117<br>WLKLIM31 = 1.0<br>increases average response <br>by 1530.551\", \"Average response: 5212.383<br>Prediction: 11270.117<br>MNHLTH31 = 2.0<br>increases average response <br>by 32.363\", \"Average response: 5212.383<br>Prediction: 11270.117<br>ADSMOK42 = 2.0<br>increases average response <br>by 1769.58\", \"Average response: 5212.383<br>Prediction: 11270.117<br>CHOLDX = 2.0<br>increases average response <br>by 76.91\", \"Average response: 5212.383<br>Prediction: 11270.117<br>RTHLTH31 = 2.0<br>decreases average response <br>by 518.875\", \"Average response: 5212.383<br>Prediction: 11270.117<br>AGE31X = 4.1e+01<br>decreases average response <br>by 103.0\", \"Average response: 5212.383<br>Prediction: 11270.117<br>ARTHTYPE = -1.0<br>decreases average response <br>by 169.918\", \"Average response: 5212.383<br>Prediction: 11270.117<br>EDRECODE = 1.5e+01<br>increases average response <br>by 1502.824\", \"Average response: 5212.383<br>Prediction: 11270.117<br>INSCOV15 = 2.0<br>decreases average response <br>by 13.362\", \"Average response: 5212.383<br>Prediction: 11270.117<br>SOCLIM31 = 2.0<br>decreases average response <br>by 375.022\", \"Average response: 5212.383<br>Prediction: 11270.117<br>REGION = 2.0<br>increases average response <br>by 77.643\", \"Average response: 5212.383<br>Prediction: 11270.117<br>DFHEAR42 = 2.0<br>decreases average response <br>by 28.999\", \"Average response: 5212.383<br>Prediction: 11270.117<br>OHRTDX = 1.0<br>increases average response <br>by 1509.353\", \"Average response: 5212.383<br>Prediction: 11270.117<br>MCS42 = 4.3e+01<br>increases average response <br>by 8270.429\", \"Average response: 5212.383<br>Prediction: 11270.117<br>FTSTU31X = -1.0<br>decreases average response <br>by 118.792\", \"Average response: 5212.383<br>Prediction: 11270.117<br>JTPAIN31 = 1.0<br>increases average response <br>by 122.309\", \"Average response: 5212.383<br>Prediction: 11270.117<br>POVCAT15 = 4.0<br>increases average response <br>by 56.532\", \"Average response: 5212.383<br>Prediction: 11270.117<br>GENDER = 1.0<br>increases average response <br>by 8.673\", \"Average response: 5212.383<br>Prediction: 11270.117<br>CHDDX = 2.0<br>decreases average response <br>by 717.658\", \"Average response: 5212.383<br>Prediction: 11270.117<br>INCOME_M = 9e+03<br>increases average response <br>by 33.389\", \"Average response: 5212.383<br>Prediction: 11270.117<br>EMPST31 = 1.0<br>decreases average response <br>by 125.488\", \"Average response: 5212.383<br>Prediction: 11270.117<br>MIDX = 2.0<br>increases average response <br>by 6.844\", \"Average response: 5212.383<br>Prediction: 11270.117<br>RACE3 = 0.0<br>increases average response <br>by 191.663\", \"Average response: 5212.383<br>Prediction: 11270.117<br>DIABDX = 2.0<br>decreases average response <br>by 310.121\", \"Average response: 5212.383<br>Prediction: 11270.117<br>PHQ242 = 2.0<br>decreases average response <br>by 747.983\", \"Average response: 5212.383<br>Prediction: 11270.117<br>ARTHDX = 2.0<br>increases average response <br>by 15.487\", \"Average response: 5212.383<br>Prediction: 11270.117<br>ASTHDX = 2.0<br>decreases average response <br>by 40.535\", \"Average response: 5212.383<br>Prediction: 11270.117<br>ACTLIM31 = 2.0<br>decreases average response <br>by 198.795\", \"Average response: 5212.383<br>Prediction: 11270.117<br>ADHDADDX = -1.0<br>decreases average response <br>by 222.828\", \"Average response: 5212.383<br>Prediction: 11270.117<br>HONRDC31 = 2.0<br>increases average response <br>by 36.161\", \"Average response: 5212.383<br>Prediction: 11270.117<br>ANGIDX = 2.0<br>decreases average response <br>by 204.318\", \"Average response: 5212.383<br>Prediction: 11270.117<br>CHBRON31 = 2.0<br>decreases average response <br>by 416.884\", \"Average response: 5212.383<br>Prediction: 11270.117<br>PREGNT31 = 2.0<br>decreases average response <br>by 188.806\", \"Average response: 5212.383<br>Prediction: 11270.117<br>DFSEE42 = 2.0<br>increases average response <br>by 31.825\", \"Average response: 5212.383<br>Prediction: 11270.117<br>STRKDX = 2.0<br>decreases average response <br>by 274.294\", \"Average response: 5212.383<br>Prediction: 11270.117<br>MARRY31X = 1.0<br>decreases average response <br>by 437.91\", \"Average response: 5212.383<br>Prediction: 11270.117<br>HIBPDX = 2.0<br>decreases average response <br>by 308.836\", \"Average response: 5212.383<br>Prediction: 11270.117<br>COGLIM31 = 2.0<br>decreases average response <br>by 996.142\", \"Average response: 5212.383<br>Prediction: 11270.117<br>K6SUM42 = 7.0<br>increases average response <br>by 610.803\", \"Average response: 5212.383<br>Prediction: 11270.117<br>PCS42 = 4.5e+01<br>decreases average response <br>by 3391.599\", \"Average response: 5212.383<br>Prediction: 11270.117<br>+ all other factors<br>decreases average response <br>by 0.0\"], \"marker\": {\"color\": [\"#8bdcbe\", \"#8bdcbe\", \"#8bdcbe\", \"#8bdcbe\", \"#8bdcbe\", \"#f05a71\", \"#f05a71\", \"#f05a71\", \"#8bdcbe\", \"#f05a71\", \"#f05a71\", \"#8bdcbe\", \"#f05a71\", \"#8bdcbe\", \"#8bdcbe\", \"#f05a71\", \"#8bdcbe\", \"#8bdcbe\", \"#8bdcbe\", \"#f05a71\", \"#8bdcbe\", \"#f05a71\", \"#8bdcbe\", \"#8bdcbe\", \"#f05a71\", \"#f05a71\", \"#8bdcbe\", \"#f05a71\", \"#f05a71\", \"#f05a71\", \"#8bdcbe\", \"#f05a71\", \"#f05a71\", \"#f05a71\", \"#8bdcbe\", \"#f05a71\", \"#f05a71\", \"#f05a71\", \"#f05a71\", \"#8bdcbe\", \"#f05a71\", \"#371ea3\"]}, \"orientation\": \"h\", \"showlegend\": false, \"text\": [\"+297.416\", \"+1530.551\", \"+32.363\", \"+1769.58\", \"+76.91\", \"-518.875\", \"-103.0\", \"-169.918\", \"+1502.824\", \"-13.362\", \"-375.022\", \"+77.643\", \"-28.999\", \"+1509.353\", \"+8270.429\", \"-118.792\", \"+122.309\", \"+56.532\", \"+8.673\", \"-717.658\", \"+33.389\", \"-125.488\", \"+6.844\", \"+191.663\", \"-310.121\", \"-747.983\", \"+15.487\", \"-40.535\", \"-198.795\", \"-222.828\", \"+36.161\", \"-204.318\", \"-416.884\", \"-188.806\", \"+31.825\", \"-274.294\", \"-437.91\", \"-308.836\", \"-996.142\", \"+610.803\", \"-3391.599\", \"0.0\"], \"textposition\": \"outside\", \"type\": \"bar\", \"x\": [297.416, 1530.551, 32.363, 1769.58, 76.91, -518.875, -103.0, -169.918, 1502.824, -13.362, -375.022, 77.643, -28.999, 1509.353, 8270.429, -118.792, 122.309, 56.532, 8.673, -717.658, 33.389, -125.488, 6.844, 191.663, -310.121, -747.983, 15.487, -40.535, -198.795, -222.828, 36.161, -204.318, -416.884, -188.806, 31.825, -274.294, -437.91, -308.836, -996.142, 610.803, -3391.599, 0.0], \"xaxis\": \"x\", \"y\": [\"CANCERDX = 2.0\", \"WLKLIM31 = 1.0\", \"MNHLTH31 = 2.0\", \"ADSMOK42 = 2.0\", \"CHOLDX = 2.0\", \"RTHLTH31 = 2.0\", \"AGE31X = 4.1e+01\", \"ARTHTYPE = -1.0\", \"EDRECODE = 1.5e+01\", \"INSCOV15 = 2.0\", \"SOCLIM31 = 2.0\", \"REGION = 2.0\", \"DFHEAR42 = 2.0\", \"OHRTDX = 1.0\", \"MCS42 = 4.3e+01\", \"FTSTU31X = -1.0\", \"JTPAIN31 = 1.0\", \"POVCAT15 = 4.0\", \"GENDER = 1.0\", \"CHDDX = 2.0\", \"INCOME_M = 9e+03\", \"EMPST31 = 1.0\", \"MIDX = 2.0\", \"RACE3 = 0.0\", \"DIABDX = 2.0\", \"PHQ242 = 2.0\", \"ARTHDX = 2.0\", \"ASTHDX = 2.0\", \"ACTLIM31 = 2.0\", \"ADHDADDX = -1.0\", \"HONRDC31 = 2.0\", \"ANGIDX = 2.0\", \"CHBRON31 = 2.0\", \"PREGNT31 = 2.0\", \"DFSEE42 = 2.0\", \"STRKDX = 2.0\", \"MARRY31X = 1.0\", \"HIBPDX = 2.0\", \"COGLIM31 = 2.0\", \"K6SUM42 = 7.0\", \"PCS42 = 4.5e+01\", \"+ all other factors\"], \"yaxis\": \"y\"}],\n",
       "                        {\"annotations\": [{\"font\": {\"size\": 16}, \"showarrow\": false, \"text\": \"GradientBoostingRegressor\", \"x\": 0.5, \"xanchor\": \"center\", \"xref\": \"paper\", \"y\": 1.0, \"yanchor\": \"bottom\", \"yref\": \"paper\"}, {\"font\": {\"size\": 16}, \"showarrow\": false, \"text\": \"contribution\", \"x\": 0.5, \"xanchor\": \"center\", \"xref\": \"paper\", \"y\": 0, \"yanchor\": \"top\", \"yref\": \"paper\", \"yshift\": -30}], \"font\": {\"color\": \"#371ea3\"}, \"height\": 1013.0, \"margin\": {\"b\": 71, \"r\": 30, \"t\": 78}, \"shapes\": [{\"line\": {\"color\": \"#371ea3\", \"dash\": \"dot\", \"width\": 1.5}, \"type\": \"line\", \"x0\": 5212.38349552355, \"x1\": 5212.38349552355, \"xref\": \"x\", \"y0\": 0, \"y1\": 42, \"yref\": \"y\"}], \"template\": {\"data\": {\"scatter\": [{\"type\": \"scatter\"}]}}, \"title\": {\"text\": \"Shapley Values\", \"x\": 0.15}, \"xaxis\": {\"anchor\": \"y\", \"automargin\": true, \"domain\": [0.0, 1.0], \"fixedrange\": true, \"gridwidth\": 2, \"range\": [71.48029552354933, 15232.116695523551], \"tickcolor\": \"white\", \"ticklen\": 3, \"ticks\": \"outside\", \"type\": \"linear\", \"zeroline\": false}, \"yaxis\": {\"anchor\": \"x\", \"automargin\": true, \"autorange\": \"reversed\", \"domain\": [0.0, 1.0], \"fixedrange\": true, \"gridwidth\": 2, \"tickcolor\": \"white\", \"ticklen\": 10, \"ticks\": \"outside\", \"type\": \"category\"}},\n",
       "                        {\"displaylogo\": false, \"staticPlot\": false, \"modeBarButtonsToRemove\": [\"sendDataToCloud\", \"lasso2d\", \"autoScale2d\", \"select2d\", \"zoom2d\", \"pan2d\", \"zoomIn2d\", \"zoomOut2d\", \"resetScale2d\", \"toggleSpikelines\", \"hoverCompareCartesian\", \"hoverClosestCartesian\"], \"responsive\": true}\n",
       "                    ).then(function(){\n",
       "                            \n",
       "var gd = document.getElementById('b4a1f7ee-a021-4f54-9697-ff2446ff3608');\n",
       "var x = new MutationObserver(function (mutations, observer) {{\n",
       "        var display = window.getComputedStyle(gd).display;\n",
       "        if (!display || display === 'none') {{\n",
       "            console.log([gd, 'removed!']);\n",
       "            Plotly.purge(gd);\n",
       "            observer.disconnect();\n",
       "        }}\n",
       "}});\n",
       "\n",
       "// Listen for the removal of the full notebook cells\n",
       "var notebookContainer = gd.closest('#notebook-container');\n",
       "if (notebookContainer) {{\n",
       "    x.observe(notebookContainer, {childList: true});\n",
       "}}\n",
       "\n",
       "// Listen for the clearing of the current output cell\n",
       "var outputEl = gd.closest('.output');\n",
       "if (outputEl) {{\n",
       "    x.observe(outputEl, {childList: true});\n",
       "}}\n",
       "\n",
       "                        })\n",
       "                };\n",
       "                });\n",
       "            </script>\n",
       "        </div>"
      ]
     },
     "metadata": {},
     "output_type": "display_data"
    }
   ],
   "source": [
    "exp = explainer.Explainer(model=gbr, data=X_train_raw, y=y_train, model_type='regression')\n",
    "exp_shap_gbr = exp.predict_parts(X_train_raw.iloc[0], type='shap')\n",
    "exp_shap_gbr.plot(max_vars=42)"
   ]
  },
  {
   "cell_type": "markdown",
   "metadata": {},
   "source": [
    "<img src=\"img/exp_shap_gbr.png\">"
   ]
  },
  {
   "cell_type": "markdown",
   "metadata": {},
   "source": [
    "### 3.GBM.2  BreakDown"
   ]
  },
  {
   "cell_type": "code",
   "execution_count": 20,
   "metadata": {},
   "outputs": [
    {
     "name": "stdout",
     "output_type": "stream",
     "text": [
      "Preparation of a new explainer is initiated\n",
      "\n",
      "  -> label             : not specified, model's class taken instead!\n",
      "  -> data              : 12845 rows 43 cols\n",
      "  -> target variable   :  Argument 'y' was a pandas.Series. Converted to a numpy.ndarray.\n",
      "  -> target variable   : 12845 values\n",
      "  -> predict function  : <function yhat.<locals>.<lambda> at 0x1511c49e0> will be used\n",
      "  -> predicted values  : min = -5490.438225765241, mean = 5212.38349552355, max = 597900.6633324702\n",
      "  -> residual function : difference between y and yhat\n",
      "  -> residuals         : min = -47259.18472204638, mean = 2.7415830947954676e-13, max = 179795.95387093432\n",
      "  -> model_info        : package sklearn\n",
      "\n",
      "A new explainer has been created!\n"
     ]
    },
    {
     "data": {
      "application/vnd.plotly.v1+json": {
       "config": {
        "displaylogo": false,
        "modeBarButtonsToRemove": [
         "sendDataToCloud",
         "lasso2d",
         "autoScale2d",
         "select2d",
         "zoom2d",
         "pan2d",
         "zoomIn2d",
         "zoomOut2d",
         "resetScale2d",
         "toggleSpikelines",
         "hoverCompareCartesian",
         "hoverClosestCartesian"
        ],
        "plotlyServerURL": "https://plot.ly",
        "staticPlot": false
       },
       "data": [
        {
         "base": 5212.38349552355,
         "connector": {
          "line": {
           "color": "#371ea3",
           "dash": "solid",
           "width": 1
          },
          "mode": "spanning"
         },
         "decreasing": {
          "marker": {
           "color": "#f05a71"
          }
         },
         "hoverinfo": "text+delta",
         "hoverlabel": {
          "bgcolor": "rgba(0,0,0,0.8)"
         },
         "hovertext": [
          "Average response: 5212.383<br>Prediction: 11270.117",
          "MCS42 = 4.3e+01<br>increases average response <br>by",
          "K6SUM42 = 7.0<br>increases average response <br>by",
          "PHQ242 = 2.0<br>decreases average response <br>by",
          "WLKLIM31 = 1.0<br>increases average response <br>by",
          "ADSMOK42 = 2.0<br>increases average response <br>by",
          "EDRECODE = 1.5e+01<br>increases average response <br>by",
          "MARRY31X = 1.0<br>increases average response <br>by",
          "PREGNT31 = 2.0<br>increases average response <br>by",
          "OHRTDX = 1.0<br>increases average response <br>by",
          "HIBPDX = 2.0<br>decreases average response <br>by",
          "CANCERDX = 2.0<br>decreases average response <br>by",
          "REGION = 2.0<br>increases average response <br>by",
          "EMPHDX = 2.0<br>decreases average response <br>by",
          "RACE3 = 0.0<br>increases average response <br>by",
          "ACTDTY31 = 2.0<br>decreases average response <br>by",
          "JTPAIN31 = 1.0<br>increases average response <br>by",
          "AGE31X = 4.1e+01<br>decreases average response <br>by",
          "ARTHDX = 2.0<br>increases average response <br>by",
          "INCOME_M = 9e+03<br>decreases average response <br>by",
          "MNHLTH31 = 2.0<br>decreases average response <br>by",
          "CHOLDX = 2.0<br>increases average response <br>by",
          "HONRDC31 = 2.0<br>increases average response <br>by",
          "ADHDADDX = -1.0<br>decreases average response <br>by",
          "FTSTU31X = -1.0<br>decreases average response <br>by",
          "POVCAT15 = 4.0<br>increases average response <br>by",
          "MIDX = 2.0<br>decreases average response <br>by",
          "DFSEE42 = 2.0<br>increases average response <br>by",
          "CHBRON31 = 2.0<br>decreases average response <br>by",
          "GENDER = 1.0<br>decreases average response <br>by",
          "ANGIDX = 2.0<br>decreases average response <br>by",
          "DFHEAR42 = 2.0<br>increases average response <br>by",
          "SOCLIM31 = 2.0<br>decreases average response <br>by",
          "COGLIM31 = 2.0<br>decreases average response <br>by",
          "ASTHDX = 2.0<br>decreases average response <br>by",
          "STRKDX = 2.0<br>decreases average response <br>by",
          "CHDDX = 2.0<br>decreases average response <br>by",
          "INSCOV15 = 2.0<br>increases average response <br>by",
          "DIABDX = 2.0<br>decreases average response <br>by",
          "EMPST31 = 1.0<br>decreases average response <br>by",
          "ARTHTYPE = -1.0<br>decreases average response <br>by",
          "ACTLIM31 = 2.0<br>decreases average response <br>by",
          "RTHLTH31 = 2.0<br>decreases average response <br>by",
          "+ all other factors<br>decreases average response <br>by",
          "Average response: 5212.383<br>Prediction: 11270.117"
         ],
         "increasing": {
          "marker": {
           "color": "#8bdcbe"
          }
         },
         "measure": [
          "relative",
          "relative",
          "relative",
          "relative",
          "relative",
          "relative",
          "relative",
          "relative",
          "relative",
          "relative",
          "relative",
          "relative",
          "relative",
          "relative",
          "relative",
          "relative",
          "relative",
          "relative",
          "relative",
          "relative",
          "relative",
          "relative",
          "relative",
          "relative",
          "relative",
          "relative",
          "relative",
          "relative",
          "relative",
          "relative",
          "relative",
          "relative",
          "relative",
          "relative",
          "relative",
          "relative",
          "relative",
          "relative",
          "relative",
          "relative",
          "relative",
          "relative",
          "relative",
          "relative",
          "total"
         ],
         "orientation": "h",
         "showlegend": false,
         "text": [
          "5212.383",
          "+3950.231",
          "+3669.153",
          "-1921.639",
          "+622.144",
          "+1795.119",
          "+1413.84",
          "+480.761",
          "+458.945",
          "+6484.926",
          "-168.88",
          "-275.325",
          "+1159.638",
          "-271.709",
          "+231.036",
          "-0.694",
          "+177.681",
          "-1680.405",
          "+2.477",
          "-26.103",
          "-153.31",
          "+482.913",
          "+124.87",
          "-219.444",
          "-153.554",
          "+191.742",
          "-51.417",
          "+79.259",
          "-359.519",
          "-155.604",
          "-12.876",
          "+3.223",
          "-125.481",
          "-955.434",
          "-110.916",
          "-1352.331",
          "-1648.412",
          "+9.492",
          "-825.788",
          "-130.496",
          "-380.908",
          "-266.65",
          "-508.013",
          "0.0",
          "11270.117"
         ],
         "textposition": "outside",
         "totals": {
          "marker": {
           "color": "#371ea3"
          }
         },
         "type": "waterfall",
         "x": [
          0,
          3950.231,
          3669.153,
          -1921.639,
          622.144,
          1795.119,
          1413.84,
          480.761,
          458.945,
          6484.926,
          -168.88,
          -275.325,
          1159.638,
          -271.709,
          231.036,
          -0.694,
          177.681,
          -1680.405,
          2.477,
          -26.103,
          -153.31,
          482.913,
          124.87,
          -219.444,
          -153.554,
          191.742,
          -51.417,
          79.259,
          -359.519,
          -155.604,
          -12.876,
          3.223,
          -125.481,
          -955.434,
          -110.916,
          -1352.331,
          -1648.412,
          9.492,
          -825.788,
          -130.496,
          -380.908,
          -266.65,
          -508.013,
          0,
          6057.734
         ],
         "xaxis": "x",
         "y": [
          "intercept",
          "MCS42 = 4.3e+01",
          "K6SUM42 = 7.0",
          "PHQ242 = 2.0",
          "WLKLIM31 = 1.0",
          "ADSMOK42 = 2.0",
          "EDRECODE = 1.5e+01",
          "MARRY31X = 1.0",
          "PREGNT31 = 2.0",
          "OHRTDX = 1.0",
          "HIBPDX = 2.0",
          "CANCERDX = 2.0",
          "REGION = 2.0",
          "EMPHDX = 2.0",
          "RACE3 = 0.0",
          "ACTDTY31 = 2.0",
          "JTPAIN31 = 1.0",
          "AGE31X = 4.1e+01",
          "ARTHDX = 2.0",
          "INCOME_M = 9e+03",
          "MNHLTH31 = 2.0",
          "CHOLDX = 2.0",
          "HONRDC31 = 2.0",
          "ADHDADDX = -1.0",
          "FTSTU31X = -1.0",
          "POVCAT15 = 4.0",
          "MIDX = 2.0",
          "DFSEE42 = 2.0",
          "CHBRON31 = 2.0",
          "GENDER = 1.0",
          "ANGIDX = 2.0",
          "DFHEAR42 = 2.0",
          "SOCLIM31 = 2.0",
          "COGLIM31 = 2.0",
          "ASTHDX = 2.0",
          "STRKDX = 2.0",
          "CHDDX = 2.0",
          "INSCOV15 = 2.0",
          "DIABDX = 2.0",
          "EMPST31 = 1.0",
          "ARTHTYPE = -1.0",
          "ACTLIM31 = 2.0",
          "RTHLTH31 = 2.0",
          "+ all other factors",
          "prediction"
         ],
         "yaxis": "y"
        }
       ],
       "layout": {
        "annotations": [
         {
          "font": {
           "size": 16
          },
          "showarrow": false,
          "text": "GradientBoostingRegressor",
          "x": 0.5,
          "xanchor": "center",
          "xref": "paper",
          "y": 1,
          "yanchor": "bottom",
          "yref": "paper"
         },
         {
          "font": {
           "size": 16
          },
          "showarrow": false,
          "text": "contribution",
          "x": 0.5,
          "xanchor": "center",
          "xref": "paper",
          "y": 0,
          "yanchor": "top",
          "yref": "paper",
          "yshift": -30
         }
        ],
        "font": {
         "color": "#371ea3"
        },
        "height": 1053,
        "margin": {
         "b": 71,
         "r": 30,
         "t": 78
        },
        "shapes": [
         {
          "line": {
           "color": "#371ea3",
           "dash": "dot",
           "width": 1.5
          },
          "type": "line",
          "x0": 5212.38349552355,
          "x1": 5212.38349552355,
          "xref": "x",
          "y0": 0,
          "y1": 44,
          "yref": "y"
         }
        ],
        "template": {
         "data": {
          "scatter": [
           {
            "type": "scatter"
           }
          ]
         }
        },
        "title": {
         "text": "Break Down",
         "x": 0.15
        },
        "xaxis": {
         "anchor": "y",
         "automargin": true,
         "domain": [
          0,
          1
         ],
         "fixedrange": true,
         "gridwidth": 2,
         "range": [
          2541.59865,
          25688.396350000003
         ],
         "tickcolor": "white",
         "ticklen": 3,
         "ticks": "outside",
         "type": "linear",
         "zeroline": false
        },
        "yaxis": {
         "anchor": "x",
         "automargin": true,
         "autorange": "reversed",
         "domain": [
          0,
          1
         ],
         "fixedrange": true,
         "gridwidth": 2,
         "tickcolor": "white",
         "ticklen": 10,
         "ticks": "outside",
         "type": "category"
        }
       }
      },
      "text/html": [
       "<div>\n",
       "        \n",
       "        \n",
       "            <div id=\"4d2ea4bb-9fef-4dfd-b0d7-7703d0770ce3\" class=\"plotly-graph-div\" style=\"height:1053.0px; width:100%;\"></div>\n",
       "            <script type=\"text/javascript\">\n",
       "                require([\"plotly\"], function(Plotly) {\n",
       "                    window.PLOTLYENV=window.PLOTLYENV || {};\n",
       "                    \n",
       "                if (document.getElementById(\"4d2ea4bb-9fef-4dfd-b0d7-7703d0770ce3\")) {\n",
       "                    Plotly.newPlot(\n",
       "                        '4d2ea4bb-9fef-4dfd-b0d7-7703d0770ce3',\n",
       "                        [{\"base\": 5212.38349552355, \"connector\": {\"line\": {\"color\": \"#371ea3\", \"dash\": \"solid\", \"width\": 1}, \"mode\": \"spanning\"}, \"decreasing\": {\"marker\": {\"color\": \"#f05a71\"}}, \"hoverinfo\": \"text+delta\", \"hoverlabel\": {\"bgcolor\": \"rgba(0,0,0,0.8)\"}, \"hovertext\": [\"Average response: 5212.383<br>Prediction: 11270.117\", \"MCS42 = 4.3e+01<br>increases average response <br>by\", \"K6SUM42 = 7.0<br>increases average response <br>by\", \"PHQ242 = 2.0<br>decreases average response <br>by\", \"WLKLIM31 = 1.0<br>increases average response <br>by\", \"ADSMOK42 = 2.0<br>increases average response <br>by\", \"EDRECODE = 1.5e+01<br>increases average response <br>by\", \"MARRY31X = 1.0<br>increases average response <br>by\", \"PREGNT31 = 2.0<br>increases average response <br>by\", \"OHRTDX = 1.0<br>increases average response <br>by\", \"HIBPDX = 2.0<br>decreases average response <br>by\", \"CANCERDX = 2.0<br>decreases average response <br>by\", \"REGION = 2.0<br>increases average response <br>by\", \"EMPHDX = 2.0<br>decreases average response <br>by\", \"RACE3 = 0.0<br>increases average response <br>by\", \"ACTDTY31 = 2.0<br>decreases average response <br>by\", \"JTPAIN31 = 1.0<br>increases average response <br>by\", \"AGE31X = 4.1e+01<br>decreases average response <br>by\", \"ARTHDX = 2.0<br>increases average response <br>by\", \"INCOME_M = 9e+03<br>decreases average response <br>by\", \"MNHLTH31 = 2.0<br>decreases average response <br>by\", \"CHOLDX = 2.0<br>increases average response <br>by\", \"HONRDC31 = 2.0<br>increases average response <br>by\", \"ADHDADDX = -1.0<br>decreases average response <br>by\", \"FTSTU31X = -1.0<br>decreases average response <br>by\", \"POVCAT15 = 4.0<br>increases average response <br>by\", \"MIDX = 2.0<br>decreases average response <br>by\", \"DFSEE42 = 2.0<br>increases average response <br>by\", \"CHBRON31 = 2.0<br>decreases average response <br>by\", \"GENDER = 1.0<br>decreases average response <br>by\", \"ANGIDX = 2.0<br>decreases average response <br>by\", \"DFHEAR42 = 2.0<br>increases average response <br>by\", \"SOCLIM31 = 2.0<br>decreases average response <br>by\", \"COGLIM31 = 2.0<br>decreases average response <br>by\", \"ASTHDX = 2.0<br>decreases average response <br>by\", \"STRKDX = 2.0<br>decreases average response <br>by\", \"CHDDX = 2.0<br>decreases average response <br>by\", \"INSCOV15 = 2.0<br>increases average response <br>by\", \"DIABDX = 2.0<br>decreases average response <br>by\", \"EMPST31 = 1.0<br>decreases average response <br>by\", \"ARTHTYPE = -1.0<br>decreases average response <br>by\", \"ACTLIM31 = 2.0<br>decreases average response <br>by\", \"RTHLTH31 = 2.0<br>decreases average response <br>by\", \"+ all other factors<br>decreases average response <br>by\", \"Average response: 5212.383<br>Prediction: 11270.117\"], \"increasing\": {\"marker\": {\"color\": \"#8bdcbe\"}}, \"measure\": [\"relative\", \"relative\", \"relative\", \"relative\", \"relative\", \"relative\", \"relative\", \"relative\", \"relative\", \"relative\", \"relative\", \"relative\", \"relative\", \"relative\", \"relative\", \"relative\", \"relative\", \"relative\", \"relative\", \"relative\", \"relative\", \"relative\", \"relative\", \"relative\", \"relative\", \"relative\", \"relative\", \"relative\", \"relative\", \"relative\", \"relative\", \"relative\", \"relative\", \"relative\", \"relative\", \"relative\", \"relative\", \"relative\", \"relative\", \"relative\", \"relative\", \"relative\", \"relative\", \"relative\", \"total\"], \"orientation\": \"h\", \"showlegend\": false, \"text\": [\"5212.383\", \"+3950.231\", \"+3669.153\", \"-1921.639\", \"+622.144\", \"+1795.119\", \"+1413.84\", \"+480.761\", \"+458.945\", \"+6484.926\", \"-168.88\", \"-275.325\", \"+1159.638\", \"-271.709\", \"+231.036\", \"-0.694\", \"+177.681\", \"-1680.405\", \"+2.477\", \"-26.103\", \"-153.31\", \"+482.913\", \"+124.87\", \"-219.444\", \"-153.554\", \"+191.742\", \"-51.417\", \"+79.259\", \"-359.519\", \"-155.604\", \"-12.876\", \"+3.223\", \"-125.481\", \"-955.434\", \"-110.916\", \"-1352.331\", \"-1648.412\", \"+9.492\", \"-825.788\", \"-130.496\", \"-380.908\", \"-266.65\", \"-508.013\", \"0.0\", \"11270.117\"], \"textposition\": \"outside\", \"totals\": {\"marker\": {\"color\": \"#371ea3\"}}, \"type\": \"waterfall\", \"x\": [0.0, 3950.231, 3669.153, -1921.639, 622.144, 1795.119, 1413.84, 480.761, 458.945, 6484.926, -168.88, -275.325, 1159.638, -271.709, 231.036, -0.694, 177.681, -1680.405, 2.477, -26.103, -153.31, 482.913, 124.87, -219.444, -153.554, 191.742, -51.417, 79.259, -359.519, -155.604, -12.876, 3.223, -125.481, -955.434, -110.916, -1352.331, -1648.412, 9.492, -825.788, -130.496, -380.908, -266.65, -508.013, 0.0, 6057.734], \"xaxis\": \"x\", \"y\": [\"intercept\", \"MCS42 = 4.3e+01\", \"K6SUM42 = 7.0\", \"PHQ242 = 2.0\", \"WLKLIM31 = 1.0\", \"ADSMOK42 = 2.0\", \"EDRECODE = 1.5e+01\", \"MARRY31X = 1.0\", \"PREGNT31 = 2.0\", \"OHRTDX = 1.0\", \"HIBPDX = 2.0\", \"CANCERDX = 2.0\", \"REGION = 2.0\", \"EMPHDX = 2.0\", \"RACE3 = 0.0\", \"ACTDTY31 = 2.0\", \"JTPAIN31 = 1.0\", \"AGE31X = 4.1e+01\", \"ARTHDX = 2.0\", \"INCOME_M = 9e+03\", \"MNHLTH31 = 2.0\", \"CHOLDX = 2.0\", \"HONRDC31 = 2.0\", \"ADHDADDX = -1.0\", \"FTSTU31X = -1.0\", \"POVCAT15 = 4.0\", \"MIDX = 2.0\", \"DFSEE42 = 2.0\", \"CHBRON31 = 2.0\", \"GENDER = 1.0\", \"ANGIDX = 2.0\", \"DFHEAR42 = 2.0\", \"SOCLIM31 = 2.0\", \"COGLIM31 = 2.0\", \"ASTHDX = 2.0\", \"STRKDX = 2.0\", \"CHDDX = 2.0\", \"INSCOV15 = 2.0\", \"DIABDX = 2.0\", \"EMPST31 = 1.0\", \"ARTHTYPE = -1.0\", \"ACTLIM31 = 2.0\", \"RTHLTH31 = 2.0\", \"+ all other factors\", \"prediction\"], \"yaxis\": \"y\"}],\n",
       "                        {\"annotations\": [{\"font\": {\"size\": 16}, \"showarrow\": false, \"text\": \"GradientBoostingRegressor\", \"x\": 0.5, \"xanchor\": \"center\", \"xref\": \"paper\", \"y\": 1.0, \"yanchor\": \"bottom\", \"yref\": \"paper\"}, {\"font\": {\"size\": 16}, \"showarrow\": false, \"text\": \"contribution\", \"x\": 0.5, \"xanchor\": \"center\", \"xref\": \"paper\", \"y\": 0, \"yanchor\": \"top\", \"yref\": \"paper\", \"yshift\": -30}], \"font\": {\"color\": \"#371ea3\"}, \"height\": 1053.0, \"margin\": {\"b\": 71, \"r\": 30, \"t\": 78}, \"shapes\": [{\"line\": {\"color\": \"#371ea3\", \"dash\": \"dot\", \"width\": 1.5}, \"type\": \"line\", \"x0\": 5212.38349552355, \"x1\": 5212.38349552355, \"xref\": \"x\", \"y0\": 0, \"y1\": 44, \"yref\": \"y\"}], \"template\": {\"data\": {\"scatter\": [{\"type\": \"scatter\"}]}}, \"title\": {\"text\": \"Break Down\", \"x\": 0.15}, \"xaxis\": {\"anchor\": \"y\", \"automargin\": true, \"domain\": [0.0, 1.0], \"fixedrange\": true, \"gridwidth\": 2, \"range\": [2541.59865, 25688.396350000003], \"tickcolor\": \"white\", \"ticklen\": 3, \"ticks\": \"outside\", \"type\": \"linear\", \"zeroline\": false}, \"yaxis\": {\"anchor\": \"x\", \"automargin\": true, \"autorange\": \"reversed\", \"domain\": [0.0, 1.0], \"fixedrange\": true, \"gridwidth\": 2, \"tickcolor\": \"white\", \"ticklen\": 10, \"ticks\": \"outside\", \"type\": \"category\"}},\n",
       "                        {\"displaylogo\": false, \"staticPlot\": false, \"modeBarButtonsToRemove\": [\"sendDataToCloud\", \"lasso2d\", \"autoScale2d\", \"select2d\", \"zoom2d\", \"pan2d\", \"zoomIn2d\", \"zoomOut2d\", \"resetScale2d\", \"toggleSpikelines\", \"hoverCompareCartesian\", \"hoverClosestCartesian\"], \"responsive\": true}\n",
       "                    ).then(function(){\n",
       "                            \n",
       "var gd = document.getElementById('4d2ea4bb-9fef-4dfd-b0d7-7703d0770ce3');\n",
       "var x = new MutationObserver(function (mutations, observer) {{\n",
       "        var display = window.getComputedStyle(gd).display;\n",
       "        if (!display || display === 'none') {{\n",
       "            console.log([gd, 'removed!']);\n",
       "            Plotly.purge(gd);\n",
       "            observer.disconnect();\n",
       "        }}\n",
       "}});\n",
       "\n",
       "// Listen for the removal of the full notebook cells\n",
       "var notebookContainer = gd.closest('#notebook-container');\n",
       "if (notebookContainer) {{\n",
       "    x.observe(notebookContainer, {childList: true});\n",
       "}}\n",
       "\n",
       "// Listen for the clearing of the current output cell\n",
       "var outputEl = gd.closest('.output');\n",
       "if (outputEl) {{\n",
       "    x.observe(outputEl, {childList: true});\n",
       "}}\n",
       "\n",
       "                        })\n",
       "                };\n",
       "                });\n",
       "            </script>\n",
       "        </div>"
      ]
     },
     "metadata": {},
     "output_type": "display_data"
    }
   ],
   "source": [
    "exp = explainer.Explainer(model=gbr, data=X_train_raw, y=y_train, model_type='regression')\n",
    "exp_bd_gbr = exp.predict_parts(X_train_raw.iloc[0], type='break_down')\n",
    "exp_bd_gbr.plot(max_vars=42)"
   ]
  },
  {
   "cell_type": "markdown",
   "metadata": {},
   "source": [
    "<img src=\"img/exp_bd_gbr.png\">"
   ]
  },
  {
   "cell_type": "markdown",
   "metadata": {},
   "source": [
    "## LinarRegression"
   ]
  },
  {
   "cell_type": "markdown",
   "metadata": {},
   "source": [
    "### 3.LR.1 Shapley"
   ]
  },
  {
   "cell_type": "code",
   "execution_count": 21,
   "metadata": {
    "scrolled": false
   },
   "outputs": [
    {
     "name": "stdout",
     "output_type": "stream",
     "text": [
      "Preparation of a new explainer is initiated\n",
      "\n",
      "  -> label             : not specified, model's class taken instead!\n",
      "  -> data              : 12845 rows 43 cols\n",
      "  -> target variable   :  Argument 'y' was a pandas.Series. Converted to a numpy.ndarray.\n",
      "  -> target variable   : 12845 values\n",
      "  -> predict function  : <function yhat.<locals>.<lambda> at 0x150889e60> will be used\n",
      "  -> predicted values  : min = -6368.615923671579, mean = 5212.383495523545, max = 33625.964913592914\n",
      "  -> residual function : difference between y and yhat\n",
      "  -> residuals         : min = -30202.729492857383, mean = 4.01494648262609e-12, max = 648175.1990382974\n",
      "  -> model_info        : package sklearn\n",
      "\n",
      "A new explainer has been created!\n"
     ]
    },
    {
     "name": "stderr",
     "output_type": "stream",
     "text": [
      "/Users/piotrpodolski/Desktop/projects/IML/lib/python3.7/site-packages/pandas/core/indexing.py:966: SettingWithCopyWarning:\n",
      "\n",
      "\n",
      "A value is trying to be set on a copy of a slice from a DataFrame.\n",
      "Try using .loc[row_indexer,col_indexer] = value instead\n",
      "\n",
      "See the caveats in the documentation: https://pandas.pydata.org/pandas-docs/stable/user_guide/indexing.html#returning-a-view-versus-a-copy\n",
      "\n"
     ]
    },
    {
     "data": {
      "application/vnd.plotly.v1+json": {
       "config": {
        "displaylogo": false,
        "modeBarButtonsToRemove": [
         "sendDataToCloud",
         "lasso2d",
         "autoScale2d",
         "select2d",
         "zoom2d",
         "pan2d",
         "zoomIn2d",
         "zoomOut2d",
         "resetScale2d",
         "toggleSpikelines",
         "hoverCompareCartesian",
         "hoverClosestCartesian"
        ],
        "plotlyServerURL": "https://plot.ly",
        "staticPlot": false
       },
       "data": [
        {
         "base": 5212.383495523545,
         "hoverinfo": "text",
         "hoverlabel": {
          "bgcolor": "rgba(0,0,0,0.8)"
         },
         "hovertext": [
          "Average response: 5212.383<br>Prediction: 9509.68<br>DFHEAR42 = 2.0<br>decreases average response <br>by 16.785",
          "Average response: 5212.383<br>Prediction: 9509.68<br>EDRECODE = 1.5e+01<br>increases average response <br>by 714.825",
          "Average response: 5212.383<br>Prediction: 9509.68<br>COGLIM31 = 2.0<br>decreases average response <br>by 1250.961",
          "Average response: 5212.383<br>Prediction: 9509.68<br>REGION = 2.0<br>increases average response <br>by 420.839",
          "Average response: 5212.383<br>Prediction: 9509.68<br>HIBPDX = 2.0<br>decreases average response <br>by 244.238",
          "Average response: 5212.383<br>Prediction: 9509.68<br>RACE3 = 0.0<br>increases average response <br>by 293.386",
          "Average response: 5212.383<br>Prediction: 9509.68<br>OHRTDX = 1.0<br>increases average response <br>by 198.157",
          "Average response: 5212.383<br>Prediction: 9509.68<br>STRKDX = 2.0<br>decreases average response <br>by 2542.771",
          "Average response: 5212.383<br>Prediction: 9509.68<br>ARTHDX = 2.0<br>increases average response <br>by 5375.89",
          "Average response: 5212.383<br>Prediction: 9509.68<br>ACTLIM31 = 2.0<br>decreases average response <br>by 195.502",
          "Average response: 5212.383<br>Prediction: 9509.68<br>ARTHTYPE = -1.0<br>decreases average response <br>by 1441.44",
          "Average response: 5212.383<br>Prediction: 9509.68<br>PREGNT31 = 2.0<br>increases average response <br>by 795.05",
          "Average response: 5212.383<br>Prediction: 9509.68<br>SOCLIM31 = 2.0<br>decreases average response <br>by 96.77",
          "Average response: 5212.383<br>Prediction: 9509.68<br>K6SUM42 = 7.0<br>decreases average response <br>by 268.054",
          "Average response: 5212.383<br>Prediction: 9509.68<br>AGE31X = 4.1e+01<br>increases average response <br>by 86.548",
          "Average response: 5212.383<br>Prediction: 9509.68<br>POVCAT15 = 4.0<br>increases average response <br>by 121.097",
          "Average response: 5212.383<br>Prediction: 9509.68<br>JTPAIN31 = 1.0<br>decreases average response <br>by 3.735",
          "Average response: 5212.383<br>Prediction: 9509.68<br>CHOLDX = 2.0<br>increases average response <br>by 525.582",
          "Average response: 5212.383<br>Prediction: 9509.68<br>RTHLTH31 = 2.0<br>decreases average response <br>by 253.916",
          "Average response: 5212.383<br>Prediction: 9509.68<br>HONRDC31 = 2.0<br>decreases average response <br>by 77.294",
          "Average response: 5212.383<br>Prediction: 9509.68<br>CHBRON31 = 2.0<br>increases average response <br>by 1117.709",
          "Average response: 5212.383<br>Prediction: 9509.68<br>MARRY31X = 1.0<br>decreases average response <br>by 47.904",
          "Average response: 5212.383<br>Prediction: 9509.68<br>CHDDX = 2.0<br>decreases average response <br>by 2166.329",
          "Average response: 5212.383<br>Prediction: 9509.68<br>PCS42 = 4.5e+01<br>decreases average response <br>by 2318.764",
          "Average response: 5212.383<br>Prediction: 9509.68<br>ANGIDX = 2.0<br>increases average response <br>by 754.08",
          "Average response: 5212.383<br>Prediction: 9509.68<br>ADHDADDX = -1.0<br>decreases average response <br>by 110.715",
          "Average response: 5212.383<br>Prediction: 9509.68<br>INCOME_M = 9e+03<br>decreases average response <br>by 226.426",
          "Average response: 5212.383<br>Prediction: 9509.68<br>EMPST31 = 1.0<br>decreases average response <br>by 235.789",
          "Average response: 5212.383<br>Prediction: 9509.68<br>FTSTU31X = -1.0<br>decreases average response <br>by 17.134",
          "Average response: 5212.383<br>Prediction: 9509.68<br>PHQ242 = 2.0<br>increases average response <br>by 2274.291",
          "Average response: 5212.383<br>Prediction: 9509.68<br>MCS42 = 4.3e+01<br>increases average response <br>by 284.629",
          "Average response: 5212.383<br>Prediction: 9509.68<br>MNHLTH31 = 2.0<br>decreases average response <br>by 11.898",
          "Average response: 5212.383<br>Prediction: 9509.68<br>MIDX = 2.0<br>increases average response <br>by 1042.457",
          "Average response: 5212.383<br>Prediction: 9509.68<br>ACTDTY31 = 2.0<br>decreases average response <br>by 197.609",
          "Average response: 5212.383<br>Prediction: 9509.68<br>EMPHDX = 2.0<br>increases average response <br>by 2220.725",
          "Average response: 5212.383<br>Prediction: 9509.68<br>INSCOV15 = 2.0<br>decreases average response <br>by 489.546",
          "Average response: 5212.383<br>Prediction: 9509.68<br>ASTHDX = 2.0<br>decreases average response <br>by 169.573",
          "Average response: 5212.383<br>Prediction: 9509.68<br>DIABDX = 2.0<br>decreases average response <br>by 1897.939",
          "Average response: 5212.383<br>Prediction: 9509.68<br>WLKLIM31 = 1.0<br>increases average response <br>by 1842.665",
          "Average response: 5212.383<br>Prediction: 9509.68<br>CANCERDX = 2.0<br>decreases average response <br>by 1979.154",
          "Average response: 5212.383<br>Prediction: 9509.68<br>DFSEE42 = 2.0<br>decreases average response <br>by 36.669",
          "Average response: 5212.383<br>Prediction: 9509.68<br>GENDER = 1.0<br>decreases average response <br>by 22.445",
          "Average response: 5212.383<br>Prediction: 9509.68<br>ADSMOK42 = 2.0<br>increases average response <br>by 2548.726"
         ],
         "marker": {
          "color": [
           "#f05a71",
           "#8bdcbe",
           "#f05a71",
           "#8bdcbe",
           "#f05a71",
           "#8bdcbe",
           "#8bdcbe",
           "#f05a71",
           "#8bdcbe",
           "#f05a71",
           "#f05a71",
           "#8bdcbe",
           "#f05a71",
           "#f05a71",
           "#8bdcbe",
           "#8bdcbe",
           "#f05a71",
           "#8bdcbe",
           "#f05a71",
           "#f05a71",
           "#8bdcbe",
           "#f05a71",
           "#f05a71",
           "#f05a71",
           "#8bdcbe",
           "#f05a71",
           "#f05a71",
           "#f05a71",
           "#f05a71",
           "#8bdcbe",
           "#8bdcbe",
           "#f05a71",
           "#8bdcbe",
           "#f05a71",
           "#8bdcbe",
           "#f05a71",
           "#f05a71",
           "#f05a71",
           "#8bdcbe",
           "#f05a71",
           "#f05a71",
           "#f05a71",
           "#8bdcbe"
          ]
         },
         "orientation": "h",
         "showlegend": false,
         "text": [
          "-16.785",
          "+714.825",
          "-1250.961",
          "+420.839",
          "-244.238",
          "+293.386",
          "+198.157",
          "-2542.771",
          "+5375.89",
          "-195.502",
          "-1441.44",
          "+795.05",
          "-96.77",
          "-268.054",
          "+86.548",
          "+121.097",
          "-3.735",
          "+525.582",
          "-253.916",
          "-77.294",
          "+1117.709",
          "-47.904",
          "-2166.329",
          "-2318.764",
          "+754.08",
          "-110.715",
          "-226.426",
          "-235.789",
          "-17.134",
          "+2274.291",
          "+284.629",
          "-11.898",
          "+1042.457",
          "-197.609",
          "+2220.725",
          "-489.546",
          "-169.573",
          "-1897.939",
          "+1842.665",
          "-1979.154",
          "-36.669",
          "-22.445",
          "+2548.726"
         ],
         "textposition": "outside",
         "type": "bar",
         "x": [
          -16.785,
          714.825,
          -1250.961,
          420.839,
          -244.238,
          293.386,
          198.157,
          -2542.771,
          5375.89,
          -195.502,
          -1441.44,
          795.05,
          -96.77,
          -268.054,
          86.548,
          121.097,
          -3.735,
          525.582,
          -253.916,
          -77.294,
          1117.709,
          -47.904,
          -2166.329,
          -2318.764,
          754.08,
          -110.715,
          -226.426,
          -235.789,
          -17.134,
          2274.291,
          284.629,
          -11.898,
          1042.457,
          -197.609,
          2220.725,
          -489.546,
          -169.573,
          -1897.939,
          1842.665,
          -1979.154,
          -36.669,
          -22.445,
          2548.726
         ],
         "xaxis": "x",
         "y": [
          "DFHEAR42 = 2.0",
          "EDRECODE = 1.5e+01",
          "COGLIM31 = 2.0",
          "REGION = 2.0",
          "HIBPDX = 2.0",
          "RACE3 = 0.0",
          "OHRTDX = 1.0",
          "STRKDX = 2.0",
          "ARTHDX = 2.0",
          "ACTLIM31 = 2.0",
          "ARTHTYPE = -1.0",
          "PREGNT31 = 2.0",
          "SOCLIM31 = 2.0",
          "K6SUM42 = 7.0",
          "AGE31X = 4.1e+01",
          "POVCAT15 = 4.0",
          "JTPAIN31 = 1.0",
          "CHOLDX = 2.0",
          "RTHLTH31 = 2.0",
          "HONRDC31 = 2.0",
          "CHBRON31 = 2.0",
          "MARRY31X = 1.0",
          "CHDDX = 2.0",
          "PCS42 = 4.5e+01",
          "ANGIDX = 2.0",
          "ADHDADDX = -1.0",
          "INCOME_M = 9e+03",
          "EMPST31 = 1.0",
          "FTSTU31X = -1.0",
          "PHQ242 = 2.0",
          "MCS42 = 4.3e+01",
          "MNHLTH31 = 2.0",
          "MIDX = 2.0",
          "ACTDTY31 = 2.0",
          "EMPHDX = 2.0",
          "INSCOV15 = 2.0",
          "ASTHDX = 2.0",
          "DIABDX = 2.0",
          "WLKLIM31 = 1.0",
          "CANCERDX = 2.0",
          "DFSEE42 = 2.0",
          "GENDER = 1.0",
          "ADSMOK42 = 2.0"
         ],
         "yaxis": "y"
        }
       ],
       "layout": {
        "annotations": [
         {
          "font": {
           "size": 16
          },
          "showarrow": false,
          "text": "LinearRegression",
          "x": 0.5,
          "xanchor": "center",
          "xref": "paper",
          "y": 1,
          "yanchor": "bottom",
          "yref": "paper"
         },
         {
          "font": {
           "size": 16
          },
          "showarrow": false,
          "text": "contribution",
          "x": 0.5,
          "xanchor": "center",
          "xref": "paper",
          "y": 0,
          "yanchor": "top",
          "yref": "paper",
          "yshift": -30
         }
        ],
        "font": {
         "color": "#371ea3"
        },
        "height": 1013,
        "margin": {
         "b": 71,
         "r": 30,
         "t": 78
        },
        "shapes": [
         {
          "line": {
           "color": "#371ea3",
           "dash": "dot",
           "width": 1.5
          },
          "type": "line",
          "x0": 5212.383495523545,
          "x1": 5212.383495523545,
          "xref": "x",
          "y0": 0,
          "y1": 42,
          "yref": "y"
         }
        ],
        "template": {
         "data": {
          "scatter": [
           {
            "type": "scatter"
           }
          ]
         }
        },
        "title": {
         "text": "Shapley Values",
         "x": 0.15
        },
        "xaxis": {
         "anchor": "y",
         "automargin": true,
         "domain": [
          0,
          1
         ],
         "fixedrange": true,
         "gridwidth": 2,
         "range": [
          1481.8133455235447,
          11776.072645523547
         ],
         "tickcolor": "white",
         "ticklen": 3,
         "ticks": "outside",
         "type": "linear",
         "zeroline": false
        },
        "yaxis": {
         "anchor": "x",
         "automargin": true,
         "autorange": "reversed",
         "domain": [
          0,
          1
         ],
         "fixedrange": true,
         "gridwidth": 2,
         "tickcolor": "white",
         "ticklen": 10,
         "ticks": "outside",
         "type": "category"
        }
       }
      },
      "text/html": [
       "<div>\n",
       "        \n",
       "        \n",
       "            <div id=\"9e8ba9e0-c3e5-40e0-b3fe-edaf27f2be4e\" class=\"plotly-graph-div\" style=\"height:1013.0px; width:100%;\"></div>\n",
       "            <script type=\"text/javascript\">\n",
       "                require([\"plotly\"], function(Plotly) {\n",
       "                    window.PLOTLYENV=window.PLOTLYENV || {};\n",
       "                    \n",
       "                if (document.getElementById(\"9e8ba9e0-c3e5-40e0-b3fe-edaf27f2be4e\")) {\n",
       "                    Plotly.newPlot(\n",
       "                        '9e8ba9e0-c3e5-40e0-b3fe-edaf27f2be4e',\n",
       "                        [{\"base\": 5212.383495523545, \"hoverinfo\": \"text\", \"hoverlabel\": {\"bgcolor\": \"rgba(0,0,0,0.8)\"}, \"hovertext\": [\"Average response: 5212.383<br>Prediction: 9509.68<br>DFHEAR42 = 2.0<br>decreases average response <br>by 16.785\", \"Average response: 5212.383<br>Prediction: 9509.68<br>EDRECODE = 1.5e+01<br>increases average response <br>by 714.825\", \"Average response: 5212.383<br>Prediction: 9509.68<br>COGLIM31 = 2.0<br>decreases average response <br>by 1250.961\", \"Average response: 5212.383<br>Prediction: 9509.68<br>REGION = 2.0<br>increases average response <br>by 420.839\", \"Average response: 5212.383<br>Prediction: 9509.68<br>HIBPDX = 2.0<br>decreases average response <br>by 244.238\", \"Average response: 5212.383<br>Prediction: 9509.68<br>RACE3 = 0.0<br>increases average response <br>by 293.386\", \"Average response: 5212.383<br>Prediction: 9509.68<br>OHRTDX = 1.0<br>increases average response <br>by 198.157\", \"Average response: 5212.383<br>Prediction: 9509.68<br>STRKDX = 2.0<br>decreases average response <br>by 2542.771\", \"Average response: 5212.383<br>Prediction: 9509.68<br>ARTHDX = 2.0<br>increases average response <br>by 5375.89\", \"Average response: 5212.383<br>Prediction: 9509.68<br>ACTLIM31 = 2.0<br>decreases average response <br>by 195.502\", \"Average response: 5212.383<br>Prediction: 9509.68<br>ARTHTYPE = -1.0<br>decreases average response <br>by 1441.44\", \"Average response: 5212.383<br>Prediction: 9509.68<br>PREGNT31 = 2.0<br>increases average response <br>by 795.05\", \"Average response: 5212.383<br>Prediction: 9509.68<br>SOCLIM31 = 2.0<br>decreases average response <br>by 96.77\", \"Average response: 5212.383<br>Prediction: 9509.68<br>K6SUM42 = 7.0<br>decreases average response <br>by 268.054\", \"Average response: 5212.383<br>Prediction: 9509.68<br>AGE31X = 4.1e+01<br>increases average response <br>by 86.548\", \"Average response: 5212.383<br>Prediction: 9509.68<br>POVCAT15 = 4.0<br>increases average response <br>by 121.097\", \"Average response: 5212.383<br>Prediction: 9509.68<br>JTPAIN31 = 1.0<br>decreases average response <br>by 3.735\", \"Average response: 5212.383<br>Prediction: 9509.68<br>CHOLDX = 2.0<br>increases average response <br>by 525.582\", \"Average response: 5212.383<br>Prediction: 9509.68<br>RTHLTH31 = 2.0<br>decreases average response <br>by 253.916\", \"Average response: 5212.383<br>Prediction: 9509.68<br>HONRDC31 = 2.0<br>decreases average response <br>by 77.294\", \"Average response: 5212.383<br>Prediction: 9509.68<br>CHBRON31 = 2.0<br>increases average response <br>by 1117.709\", \"Average response: 5212.383<br>Prediction: 9509.68<br>MARRY31X = 1.0<br>decreases average response <br>by 47.904\", \"Average response: 5212.383<br>Prediction: 9509.68<br>CHDDX = 2.0<br>decreases average response <br>by 2166.329\", \"Average response: 5212.383<br>Prediction: 9509.68<br>PCS42 = 4.5e+01<br>decreases average response <br>by 2318.764\", \"Average response: 5212.383<br>Prediction: 9509.68<br>ANGIDX = 2.0<br>increases average response <br>by 754.08\", \"Average response: 5212.383<br>Prediction: 9509.68<br>ADHDADDX = -1.0<br>decreases average response <br>by 110.715\", \"Average response: 5212.383<br>Prediction: 9509.68<br>INCOME_M = 9e+03<br>decreases average response <br>by 226.426\", \"Average response: 5212.383<br>Prediction: 9509.68<br>EMPST31 = 1.0<br>decreases average response <br>by 235.789\", \"Average response: 5212.383<br>Prediction: 9509.68<br>FTSTU31X = -1.0<br>decreases average response <br>by 17.134\", \"Average response: 5212.383<br>Prediction: 9509.68<br>PHQ242 = 2.0<br>increases average response <br>by 2274.291\", \"Average response: 5212.383<br>Prediction: 9509.68<br>MCS42 = 4.3e+01<br>increases average response <br>by 284.629\", \"Average response: 5212.383<br>Prediction: 9509.68<br>MNHLTH31 = 2.0<br>decreases average response <br>by 11.898\", \"Average response: 5212.383<br>Prediction: 9509.68<br>MIDX = 2.0<br>increases average response <br>by 1042.457\", \"Average response: 5212.383<br>Prediction: 9509.68<br>ACTDTY31 = 2.0<br>decreases average response <br>by 197.609\", \"Average response: 5212.383<br>Prediction: 9509.68<br>EMPHDX = 2.0<br>increases average response <br>by 2220.725\", \"Average response: 5212.383<br>Prediction: 9509.68<br>INSCOV15 = 2.0<br>decreases average response <br>by 489.546\", \"Average response: 5212.383<br>Prediction: 9509.68<br>ASTHDX = 2.0<br>decreases average response <br>by 169.573\", \"Average response: 5212.383<br>Prediction: 9509.68<br>DIABDX = 2.0<br>decreases average response <br>by 1897.939\", \"Average response: 5212.383<br>Prediction: 9509.68<br>WLKLIM31 = 1.0<br>increases average response <br>by 1842.665\", \"Average response: 5212.383<br>Prediction: 9509.68<br>CANCERDX = 2.0<br>decreases average response <br>by 1979.154\", \"Average response: 5212.383<br>Prediction: 9509.68<br>DFSEE42 = 2.0<br>decreases average response <br>by 36.669\", \"Average response: 5212.383<br>Prediction: 9509.68<br>GENDER = 1.0<br>decreases average response <br>by 22.445\", \"Average response: 5212.383<br>Prediction: 9509.68<br>ADSMOK42 = 2.0<br>increases average response <br>by 2548.726\"], \"marker\": {\"color\": [\"#f05a71\", \"#8bdcbe\", \"#f05a71\", \"#8bdcbe\", \"#f05a71\", \"#8bdcbe\", \"#8bdcbe\", \"#f05a71\", \"#8bdcbe\", \"#f05a71\", \"#f05a71\", \"#8bdcbe\", \"#f05a71\", \"#f05a71\", \"#8bdcbe\", \"#8bdcbe\", \"#f05a71\", \"#8bdcbe\", \"#f05a71\", \"#f05a71\", \"#8bdcbe\", \"#f05a71\", \"#f05a71\", \"#f05a71\", \"#8bdcbe\", \"#f05a71\", \"#f05a71\", \"#f05a71\", \"#f05a71\", \"#8bdcbe\", \"#8bdcbe\", \"#f05a71\", \"#8bdcbe\", \"#f05a71\", \"#8bdcbe\", \"#f05a71\", \"#f05a71\", \"#f05a71\", \"#8bdcbe\", \"#f05a71\", \"#f05a71\", \"#f05a71\", \"#8bdcbe\"]}, \"orientation\": \"h\", \"showlegend\": false, \"text\": [\"-16.785\", \"+714.825\", \"-1250.961\", \"+420.839\", \"-244.238\", \"+293.386\", \"+198.157\", \"-2542.771\", \"+5375.89\", \"-195.502\", \"-1441.44\", \"+795.05\", \"-96.77\", \"-268.054\", \"+86.548\", \"+121.097\", \"-3.735\", \"+525.582\", \"-253.916\", \"-77.294\", \"+1117.709\", \"-47.904\", \"-2166.329\", \"-2318.764\", \"+754.08\", \"-110.715\", \"-226.426\", \"-235.789\", \"-17.134\", \"+2274.291\", \"+284.629\", \"-11.898\", \"+1042.457\", \"-197.609\", \"+2220.725\", \"-489.546\", \"-169.573\", \"-1897.939\", \"+1842.665\", \"-1979.154\", \"-36.669\", \"-22.445\", \"+2548.726\"], \"textposition\": \"outside\", \"type\": \"bar\", \"x\": [-16.785, 714.825, -1250.961, 420.839, -244.238, 293.386, 198.157, -2542.771, 5375.89, -195.502, -1441.44, 795.05, -96.77, -268.054, 86.548, 121.097, -3.735, 525.582, -253.916, -77.294, 1117.709, -47.904, -2166.329, -2318.764, 754.08, -110.715, -226.426, -235.789, -17.134, 2274.291, 284.629, -11.898, 1042.457, -197.609, 2220.725, -489.546, -169.573, -1897.939, 1842.665, -1979.154, -36.669, -22.445, 2548.726], \"xaxis\": \"x\", \"y\": [\"DFHEAR42 = 2.0\", \"EDRECODE = 1.5e+01\", \"COGLIM31 = 2.0\", \"REGION = 2.0\", \"HIBPDX = 2.0\", \"RACE3 = 0.0\", \"OHRTDX = 1.0\", \"STRKDX = 2.0\", \"ARTHDX = 2.0\", \"ACTLIM31 = 2.0\", \"ARTHTYPE = -1.0\", \"PREGNT31 = 2.0\", \"SOCLIM31 = 2.0\", \"K6SUM42 = 7.0\", \"AGE31X = 4.1e+01\", \"POVCAT15 = 4.0\", \"JTPAIN31 = 1.0\", \"CHOLDX = 2.0\", \"RTHLTH31 = 2.0\", \"HONRDC31 = 2.0\", \"CHBRON31 = 2.0\", \"MARRY31X = 1.0\", \"CHDDX = 2.0\", \"PCS42 = 4.5e+01\", \"ANGIDX = 2.0\", \"ADHDADDX = -1.0\", \"INCOME_M = 9e+03\", \"EMPST31 = 1.0\", \"FTSTU31X = -1.0\", \"PHQ242 = 2.0\", \"MCS42 = 4.3e+01\", \"MNHLTH31 = 2.0\", \"MIDX = 2.0\", \"ACTDTY31 = 2.0\", \"EMPHDX = 2.0\", \"INSCOV15 = 2.0\", \"ASTHDX = 2.0\", \"DIABDX = 2.0\", \"WLKLIM31 = 1.0\", \"CANCERDX = 2.0\", \"DFSEE42 = 2.0\", \"GENDER = 1.0\", \"ADSMOK42 = 2.0\"], \"yaxis\": \"y\"}],\n",
       "                        {\"annotations\": [{\"font\": {\"size\": 16}, \"showarrow\": false, \"text\": \"LinearRegression\", \"x\": 0.5, \"xanchor\": \"center\", \"xref\": \"paper\", \"y\": 1.0, \"yanchor\": \"bottom\", \"yref\": \"paper\"}, {\"font\": {\"size\": 16}, \"showarrow\": false, \"text\": \"contribution\", \"x\": 0.5, \"xanchor\": \"center\", \"xref\": \"paper\", \"y\": 0, \"yanchor\": \"top\", \"yref\": \"paper\", \"yshift\": -30}], \"font\": {\"color\": \"#371ea3\"}, \"height\": 1013.0, \"margin\": {\"b\": 71, \"r\": 30, \"t\": 78}, \"shapes\": [{\"line\": {\"color\": \"#371ea3\", \"dash\": \"dot\", \"width\": 1.5}, \"type\": \"line\", \"x0\": 5212.383495523545, \"x1\": 5212.383495523545, \"xref\": \"x\", \"y0\": 0, \"y1\": 42, \"yref\": \"y\"}], \"template\": {\"data\": {\"scatter\": [{\"type\": \"scatter\"}]}}, \"title\": {\"text\": \"Shapley Values\", \"x\": 0.15}, \"xaxis\": {\"anchor\": \"y\", \"automargin\": true, \"domain\": [0.0, 1.0], \"fixedrange\": true, \"gridwidth\": 2, \"range\": [1481.8133455235447, 11776.072645523547], \"tickcolor\": \"white\", \"ticklen\": 3, \"ticks\": \"outside\", \"type\": \"linear\", \"zeroline\": false}, \"yaxis\": {\"anchor\": \"x\", \"automargin\": true, \"autorange\": \"reversed\", \"domain\": [0.0, 1.0], \"fixedrange\": true, \"gridwidth\": 2, \"tickcolor\": \"white\", \"ticklen\": 10, \"ticks\": \"outside\", \"type\": \"category\"}},\n",
       "                        {\"displaylogo\": false, \"staticPlot\": false, \"modeBarButtonsToRemove\": [\"sendDataToCloud\", \"lasso2d\", \"autoScale2d\", \"select2d\", \"zoom2d\", \"pan2d\", \"zoomIn2d\", \"zoomOut2d\", \"resetScale2d\", \"toggleSpikelines\", \"hoverCompareCartesian\", \"hoverClosestCartesian\"], \"responsive\": true}\n",
       "                    ).then(function(){\n",
       "                            \n",
       "var gd = document.getElementById('9e8ba9e0-c3e5-40e0-b3fe-edaf27f2be4e');\n",
       "var x = new MutationObserver(function (mutations, observer) {{\n",
       "        var display = window.getComputedStyle(gd).display;\n",
       "        if (!display || display === 'none') {{\n",
       "            console.log([gd, 'removed!']);\n",
       "            Plotly.purge(gd);\n",
       "            observer.disconnect();\n",
       "        }}\n",
       "}});\n",
       "\n",
       "// Listen for the removal of the full notebook cells\n",
       "var notebookContainer = gd.closest('#notebook-container');\n",
       "if (notebookContainer) {{\n",
       "    x.observe(notebookContainer, {childList: true});\n",
       "}}\n",
       "\n",
       "// Listen for the clearing of the current output cell\n",
       "var outputEl = gd.closest('.output');\n",
       "if (outputEl) {{\n",
       "    x.observe(outputEl, {childList: true});\n",
       "}}\n",
       "\n",
       "                        })\n",
       "                };\n",
       "                });\n",
       "            </script>\n",
       "        </div>"
      ]
     },
     "metadata": {},
     "output_type": "display_data"
    }
   ],
   "source": [
    "exp = explainer.Explainer(model=regressor, data=X_train_raw, y=y_train, model_type='regression')\n",
    "exp_shap_lr = exp.predict_parts(X_train_raw.iloc[0], type='shap')\n",
    "exp_shap_lr.plot(max_vars=44)"
   ]
  },
  {
   "cell_type": "markdown",
   "metadata": {},
   "source": [
    "<img src=\"img/exp_shap_lr.png\">"
   ]
  },
  {
   "cell_type": "markdown",
   "metadata": {},
   "source": [
    "### 3.LR.2 BreakDown"
   ]
  },
  {
   "cell_type": "code",
   "execution_count": 22,
   "metadata": {},
   "outputs": [
    {
     "name": "stdout",
     "output_type": "stream",
     "text": [
      "Preparation of a new explainer is initiated\n",
      "\n",
      "  -> label             : not specified, model's class taken instead!\n",
      "  -> data              : 12845 rows 43 cols\n",
      "  -> target variable   :  Argument 'y' was a pandas.Series. Converted to a numpy.ndarray.\n",
      "  -> target variable   : 12845 values\n",
      "  -> predict function  : <function yhat.<locals>.<lambda> at 0x151117dd0> will be used\n",
      "  -> predicted values  : min = -6368.615923671579, mean = 5212.383495523545, max = 33625.964913592914\n",
      "  -> residual function : difference between y and yhat\n",
      "  -> residuals         : min = -30202.729492857383, mean = 4.01494648262609e-12, max = 648175.1990382974\n",
      "  -> model_info        : package sklearn\n",
      "\n",
      "A new explainer has been created!\n"
     ]
    },
    {
     "data": {
      "application/vnd.plotly.v1+json": {
       "config": {
        "displaylogo": false,
        "modeBarButtonsToRemove": [
         "sendDataToCloud",
         "lasso2d",
         "autoScale2d",
         "select2d",
         "zoom2d",
         "pan2d",
         "zoomIn2d",
         "zoomOut2d",
         "resetScale2d",
         "toggleSpikelines",
         "hoverCompareCartesian",
         "hoverClosestCartesian"
        ],
        "plotlyServerURL": "https://plot.ly",
        "staticPlot": false
       },
       "data": [
        {
         "base": 5212.383495523545,
         "connector": {
          "line": {
           "color": "#371ea3",
           "dash": "solid",
           "width": 1
          },
          "mode": "spanning"
         },
         "decreasing": {
          "marker": {
           "color": "#f05a71"
          }
         },
         "hoverinfo": "text+delta",
         "hoverlabel": {
          "bgcolor": "rgba(0,0,0,0.8)"
         },
         "hovertext": [
          "Average response: 5212.383<br>Prediction: 9509.68",
          "ARTHDX = 2.0<br>increases average response <br>by",
          "ADSMOK42 = 2.0<br>increases average response <br>by",
          "PHQ242 = 2.0<br>increases average response <br>by",
          "EMPHDX = 2.0<br>increases average response <br>by",
          "WLKLIM31 = 1.0<br>increases average response <br>by",
          "CHBRON31 = 2.0<br>increases average response <br>by",
          "MIDX = 2.0<br>increases average response <br>by",
          "PREGNT31 = 2.0<br>increases average response <br>by",
          "ANGIDX = 2.0<br>increases average response <br>by",
          "EDRECODE = 1.5e+01<br>increases average response <br>by",
          "CHOLDX = 2.0<br>increases average response <br>by",
          "REGION = 2.0<br>increases average response <br>by",
          "RACE3 = 0.0<br>increases average response <br>by",
          "MCS42 = 4.3e+01<br>increases average response <br>by",
          "OHRTDX = 1.0<br>increases average response <br>by",
          "POVCAT15 = 4.0<br>increases average response <br>by",
          "AGE31X = 4.1e+01<br>increases average response <br>by",
          "JTPAIN31 = 1.0<br>decreases average response <br>by",
          "MNHLTH31 = 2.0<br>decreases average response <br>by",
          "DFHEAR42 = 2.0<br>decreases average response <br>by",
          "FTSTU31X = -1.0<br>decreases average response <br>by",
          "GENDER = 1.0<br>decreases average response <br>by",
          "DFSEE42 = 2.0<br>decreases average response <br>by",
          "MARRY31X = 1.0<br>decreases average response <br>by",
          "HONRDC31 = 2.0<br>decreases average response <br>by",
          "SOCLIM31 = 2.0<br>decreases average response <br>by",
          "ADHDADDX = -1.0<br>decreases average response <br>by",
          "ASTHDX = 2.0<br>decreases average response <br>by",
          "ACTLIM31 = 2.0<br>decreases average response <br>by",
          "ACTDTY31 = 2.0<br>decreases average response <br>by",
          "INCOME_M = 9e+03<br>decreases average response <br>by",
          "EMPST31 = 1.0<br>decreases average response <br>by",
          "HIBPDX = 2.0<br>decreases average response <br>by",
          "RTHLTH31 = 2.0<br>decreases average response <br>by",
          "K6SUM42 = 7.0<br>decreases average response <br>by",
          "INSCOV15 = 2.0<br>decreases average response <br>by",
          "COGLIM31 = 2.0<br>decreases average response <br>by",
          "ARTHTYPE = -1.0<br>decreases average response <br>by",
          "DIABDX = 2.0<br>decreases average response <br>by",
          "CANCERDX = 2.0<br>decreases average response <br>by",
          "CHDDX = 2.0<br>decreases average response <br>by",
          "PCS42 = 4.5e+01<br>decreases average response <br>by",
          "+ all other factors<br>decreases average response <br>by",
          "Average response: 5212.383<br>Prediction: 9509.68"
         ],
         "increasing": {
          "marker": {
           "color": "#8bdcbe"
          }
         },
         "measure": [
          "relative",
          "relative",
          "relative",
          "relative",
          "relative",
          "relative",
          "relative",
          "relative",
          "relative",
          "relative",
          "relative",
          "relative",
          "relative",
          "relative",
          "relative",
          "relative",
          "relative",
          "relative",
          "relative",
          "relative",
          "relative",
          "relative",
          "relative",
          "relative",
          "relative",
          "relative",
          "relative",
          "relative",
          "relative",
          "relative",
          "relative",
          "relative",
          "relative",
          "relative",
          "relative",
          "relative",
          "relative",
          "relative",
          "relative",
          "relative",
          "relative",
          "relative",
          "relative",
          "relative",
          "total"
         ],
         "orientation": "h",
         "showlegend": false,
         "text": [
          "5212.383",
          "+5375.89",
          "+2548.726",
          "+2274.291",
          "+2220.725",
          "+1842.665",
          "+1117.709",
          "+1042.457",
          "+795.05",
          "+754.08",
          "+714.825",
          "+525.582",
          "+420.839",
          "+293.386",
          "+284.629",
          "+198.157",
          "+121.097",
          "+86.548",
          "-3.735",
          "-11.898",
          "-16.785",
          "-17.134",
          "-22.445",
          "-36.669",
          "-47.904",
          "-77.294",
          "-96.77",
          "-110.715",
          "-169.573",
          "-195.502",
          "-197.609",
          "-226.426",
          "-235.789",
          "-244.238",
          "-253.916",
          "-268.054",
          "-489.546",
          "-1250.961",
          "-1441.44",
          "-1897.939",
          "-1979.154",
          "-2166.329",
          "-2318.764",
          "0.0",
          "9509.68"
         ],
         "textposition": "outside",
         "totals": {
          "marker": {
           "color": "#371ea3"
          }
         },
         "type": "waterfall",
         "x": [
          0,
          5375.89,
          2548.726,
          2274.291,
          2220.725,
          1842.665,
          1117.709,
          1042.457,
          795.05,
          754.08,
          714.825,
          525.582,
          420.839,
          293.386,
          284.629,
          198.157,
          121.097,
          86.548,
          -3.735,
          -11.898,
          -16.785,
          -17.134,
          -22.445,
          -36.669,
          -47.904,
          -77.294,
          -96.77,
          -110.715,
          -169.573,
          -195.502,
          -197.609,
          -226.426,
          -235.789,
          -244.238,
          -253.916,
          -268.054,
          -489.546,
          -1250.961,
          -1441.44,
          -1897.939,
          -1979.154,
          -2166.329,
          -2318.764,
          0,
          4297.296
         ],
         "xaxis": "x",
         "y": [
          "intercept",
          "ARTHDX = 2.0",
          "ADSMOK42 = 2.0",
          "PHQ242 = 2.0",
          "EMPHDX = 2.0",
          "WLKLIM31 = 1.0",
          "CHBRON31 = 2.0",
          "MIDX = 2.0",
          "PREGNT31 = 2.0",
          "ANGIDX = 2.0",
          "EDRECODE = 1.5e+01",
          "CHOLDX = 2.0",
          "REGION = 2.0",
          "RACE3 = 0.0",
          "MCS42 = 4.3e+01",
          "OHRTDX = 1.0",
          "POVCAT15 = 4.0",
          "AGE31X = 4.1e+01",
          "JTPAIN31 = 1.0",
          "MNHLTH31 = 2.0",
          "DFHEAR42 = 2.0",
          "FTSTU31X = -1.0",
          "GENDER = 1.0",
          "DFSEE42 = 2.0",
          "MARRY31X = 1.0",
          "HONRDC31 = 2.0",
          "SOCLIM31 = 2.0",
          "ADHDADDX = -1.0",
          "ASTHDX = 2.0",
          "ACTLIM31 = 2.0",
          "ACTDTY31 = 2.0",
          "INCOME_M = 9e+03",
          "EMPST31 = 1.0",
          "HIBPDX = 2.0",
          "RTHLTH31 = 2.0",
          "K6SUM42 = 7.0",
          "INSCOV15 = 2.0",
          "COGLIM31 = 2.0",
          "ARTHTYPE = -1.0",
          "DIABDX = 2.0",
          "CANCERDX = 2.0",
          "CHDDX = 2.0",
          "PCS42 = 4.5e+01",
          "+ all other factors",
          "prediction"
         ],
         "yaxis": "y"
        }
       ],
       "layout": {
        "annotations": [
         {
          "font": {
           "size": 16
          },
          "showarrow": false,
          "text": "LinearRegression",
          "x": 0.5,
          "xanchor": "center",
          "xref": "paper",
          "y": 1,
          "yanchor": "bottom",
          "yref": "paper"
         },
         {
          "font": {
           "size": 16
          },
          "showarrow": false,
          "text": "contribution",
          "x": 0.5,
          "xanchor": "center",
          "xref": "paper",
          "y": 0,
          "yanchor": "top",
          "yref": "paper",
          "yshift": -30
         }
        ],
        "font": {
         "color": "#371ea3"
        },
        "height": 1053,
        "margin": {
         "b": 71,
         "r": 30,
         "t": 78
        },
        "shapes": [
         {
          "line": {
           "color": "#371ea3",
           "dash": "dot",
           "width": 1.5
          },
          "type": "line",
          "x0": 5212.383495523545,
          "x1": 5212.383495523545,
          "xref": "x",
          "y0": 0,
          "y1": 44,
          "yref": "y"
         }
        ],
        "template": {
         "data": {
          "scatter": [
           {
            "type": "scatter"
           }
          ]
         }
        },
        "title": {
         "text": "Break Down",
         "x": 0.15
        },
        "xaxis": {
         "anchor": "y",
         "automargin": true,
         "domain": [
          0,
          1
         ],
         "fixedrange": true,
         "gridwidth": 2,
         "range": [
          2119.8845999999994,
          28921.5374
         ],
         "tickcolor": "white",
         "ticklen": 3,
         "ticks": "outside",
         "type": "linear",
         "zeroline": false
        },
        "yaxis": {
         "anchor": "x",
         "automargin": true,
         "autorange": "reversed",
         "domain": [
          0,
          1
         ],
         "fixedrange": true,
         "gridwidth": 2,
         "tickcolor": "white",
         "ticklen": 10,
         "ticks": "outside",
         "type": "category"
        }
       }
      },
      "text/html": [
       "<div>\n",
       "        \n",
       "        \n",
       "            <div id=\"c4f98810-5d3e-4835-845c-e3c58d3e1a03\" class=\"plotly-graph-div\" style=\"height:1053.0px; width:100%;\"></div>\n",
       "            <script type=\"text/javascript\">\n",
       "                require([\"plotly\"], function(Plotly) {\n",
       "                    window.PLOTLYENV=window.PLOTLYENV || {};\n",
       "                    \n",
       "                if (document.getElementById(\"c4f98810-5d3e-4835-845c-e3c58d3e1a03\")) {\n",
       "                    Plotly.newPlot(\n",
       "                        'c4f98810-5d3e-4835-845c-e3c58d3e1a03',\n",
       "                        [{\"base\": 5212.383495523545, \"connector\": {\"line\": {\"color\": \"#371ea3\", \"dash\": \"solid\", \"width\": 1}, \"mode\": \"spanning\"}, \"decreasing\": {\"marker\": {\"color\": \"#f05a71\"}}, \"hoverinfo\": \"text+delta\", \"hoverlabel\": {\"bgcolor\": \"rgba(0,0,0,0.8)\"}, \"hovertext\": [\"Average response: 5212.383<br>Prediction: 9509.68\", \"ARTHDX = 2.0<br>increases average response <br>by\", \"ADSMOK42 = 2.0<br>increases average response <br>by\", \"PHQ242 = 2.0<br>increases average response <br>by\", \"EMPHDX = 2.0<br>increases average response <br>by\", \"WLKLIM31 = 1.0<br>increases average response <br>by\", \"CHBRON31 = 2.0<br>increases average response <br>by\", \"MIDX = 2.0<br>increases average response <br>by\", \"PREGNT31 = 2.0<br>increases average response <br>by\", \"ANGIDX = 2.0<br>increases average response <br>by\", \"EDRECODE = 1.5e+01<br>increases average response <br>by\", \"CHOLDX = 2.0<br>increases average response <br>by\", \"REGION = 2.0<br>increases average response <br>by\", \"RACE3 = 0.0<br>increases average response <br>by\", \"MCS42 = 4.3e+01<br>increases average response <br>by\", \"OHRTDX = 1.0<br>increases average response <br>by\", \"POVCAT15 = 4.0<br>increases average response <br>by\", \"AGE31X = 4.1e+01<br>increases average response <br>by\", \"JTPAIN31 = 1.0<br>decreases average response <br>by\", \"MNHLTH31 = 2.0<br>decreases average response <br>by\", \"DFHEAR42 = 2.0<br>decreases average response <br>by\", \"FTSTU31X = -1.0<br>decreases average response <br>by\", \"GENDER = 1.0<br>decreases average response <br>by\", \"DFSEE42 = 2.0<br>decreases average response <br>by\", \"MARRY31X = 1.0<br>decreases average response <br>by\", \"HONRDC31 = 2.0<br>decreases average response <br>by\", \"SOCLIM31 = 2.0<br>decreases average response <br>by\", \"ADHDADDX = -1.0<br>decreases average response <br>by\", \"ASTHDX = 2.0<br>decreases average response <br>by\", \"ACTLIM31 = 2.0<br>decreases average response <br>by\", \"ACTDTY31 = 2.0<br>decreases average response <br>by\", \"INCOME_M = 9e+03<br>decreases average response <br>by\", \"EMPST31 = 1.0<br>decreases average response <br>by\", \"HIBPDX = 2.0<br>decreases average response <br>by\", \"RTHLTH31 = 2.0<br>decreases average response <br>by\", \"K6SUM42 = 7.0<br>decreases average response <br>by\", \"INSCOV15 = 2.0<br>decreases average response <br>by\", \"COGLIM31 = 2.0<br>decreases average response <br>by\", \"ARTHTYPE = -1.0<br>decreases average response <br>by\", \"DIABDX = 2.0<br>decreases average response <br>by\", \"CANCERDX = 2.0<br>decreases average response <br>by\", \"CHDDX = 2.0<br>decreases average response <br>by\", \"PCS42 = 4.5e+01<br>decreases average response <br>by\", \"+ all other factors<br>decreases average response <br>by\", \"Average response: 5212.383<br>Prediction: 9509.68\"], \"increasing\": {\"marker\": {\"color\": \"#8bdcbe\"}}, \"measure\": [\"relative\", \"relative\", \"relative\", \"relative\", \"relative\", \"relative\", \"relative\", \"relative\", \"relative\", \"relative\", \"relative\", \"relative\", \"relative\", \"relative\", \"relative\", \"relative\", \"relative\", \"relative\", \"relative\", \"relative\", \"relative\", \"relative\", \"relative\", \"relative\", \"relative\", \"relative\", \"relative\", \"relative\", \"relative\", \"relative\", \"relative\", \"relative\", \"relative\", \"relative\", \"relative\", \"relative\", \"relative\", \"relative\", \"relative\", \"relative\", \"relative\", \"relative\", \"relative\", \"relative\", \"total\"], \"orientation\": \"h\", \"showlegend\": false, \"text\": [\"5212.383\", \"+5375.89\", \"+2548.726\", \"+2274.291\", \"+2220.725\", \"+1842.665\", \"+1117.709\", \"+1042.457\", \"+795.05\", \"+754.08\", \"+714.825\", \"+525.582\", \"+420.839\", \"+293.386\", \"+284.629\", \"+198.157\", \"+121.097\", \"+86.548\", \"-3.735\", \"-11.898\", \"-16.785\", \"-17.134\", \"-22.445\", \"-36.669\", \"-47.904\", \"-77.294\", \"-96.77\", \"-110.715\", \"-169.573\", \"-195.502\", \"-197.609\", \"-226.426\", \"-235.789\", \"-244.238\", \"-253.916\", \"-268.054\", \"-489.546\", \"-1250.961\", \"-1441.44\", \"-1897.939\", \"-1979.154\", \"-2166.329\", \"-2318.764\", \"0.0\", \"9509.68\"], \"textposition\": \"outside\", \"totals\": {\"marker\": {\"color\": \"#371ea3\"}}, \"type\": \"waterfall\", \"x\": [0.0, 5375.89, 2548.726, 2274.291, 2220.725, 1842.665, 1117.709, 1042.457, 795.05, 754.08, 714.825, 525.582, 420.839, 293.386, 284.629, 198.157, 121.097, 86.548, -3.735, -11.898, -16.785, -17.134, -22.445, -36.669, -47.904, -77.294, -96.77, -110.715, -169.573, -195.502, -197.609, -226.426, -235.789, -244.238, -253.916, -268.054, -489.546, -1250.961, -1441.44, -1897.939, -1979.154, -2166.329, -2318.764, 0.0, 4297.296], \"xaxis\": \"x\", \"y\": [\"intercept\", \"ARTHDX = 2.0\", \"ADSMOK42 = 2.0\", \"PHQ242 = 2.0\", \"EMPHDX = 2.0\", \"WLKLIM31 = 1.0\", \"CHBRON31 = 2.0\", \"MIDX = 2.0\", \"PREGNT31 = 2.0\", \"ANGIDX = 2.0\", \"EDRECODE = 1.5e+01\", \"CHOLDX = 2.0\", \"REGION = 2.0\", \"RACE3 = 0.0\", \"MCS42 = 4.3e+01\", \"OHRTDX = 1.0\", \"POVCAT15 = 4.0\", \"AGE31X = 4.1e+01\", \"JTPAIN31 = 1.0\", \"MNHLTH31 = 2.0\", \"DFHEAR42 = 2.0\", \"FTSTU31X = -1.0\", \"GENDER = 1.0\", \"DFSEE42 = 2.0\", \"MARRY31X = 1.0\", \"HONRDC31 = 2.0\", \"SOCLIM31 = 2.0\", \"ADHDADDX = -1.0\", \"ASTHDX = 2.0\", \"ACTLIM31 = 2.0\", \"ACTDTY31 = 2.0\", \"INCOME_M = 9e+03\", \"EMPST31 = 1.0\", \"HIBPDX = 2.0\", \"RTHLTH31 = 2.0\", \"K6SUM42 = 7.0\", \"INSCOV15 = 2.0\", \"COGLIM31 = 2.0\", \"ARTHTYPE = -1.0\", \"DIABDX = 2.0\", \"CANCERDX = 2.0\", \"CHDDX = 2.0\", \"PCS42 = 4.5e+01\", \"+ all other factors\", \"prediction\"], \"yaxis\": \"y\"}],\n",
       "                        {\"annotations\": [{\"font\": {\"size\": 16}, \"showarrow\": false, \"text\": \"LinearRegression\", \"x\": 0.5, \"xanchor\": \"center\", \"xref\": \"paper\", \"y\": 1.0, \"yanchor\": \"bottom\", \"yref\": \"paper\"}, {\"font\": {\"size\": 16}, \"showarrow\": false, \"text\": \"contribution\", \"x\": 0.5, \"xanchor\": \"center\", \"xref\": \"paper\", \"y\": 0, \"yanchor\": \"top\", \"yref\": \"paper\", \"yshift\": -30}], \"font\": {\"color\": \"#371ea3\"}, \"height\": 1053.0, \"margin\": {\"b\": 71, \"r\": 30, \"t\": 78}, \"shapes\": [{\"line\": {\"color\": \"#371ea3\", \"dash\": \"dot\", \"width\": 1.5}, \"type\": \"line\", \"x0\": 5212.383495523545, \"x1\": 5212.383495523545, \"xref\": \"x\", \"y0\": 0, \"y1\": 44, \"yref\": \"y\"}], \"template\": {\"data\": {\"scatter\": [{\"type\": \"scatter\"}]}}, \"title\": {\"text\": \"Break Down\", \"x\": 0.15}, \"xaxis\": {\"anchor\": \"y\", \"automargin\": true, \"domain\": [0.0, 1.0], \"fixedrange\": true, \"gridwidth\": 2, \"range\": [2119.8845999999994, 28921.5374], \"tickcolor\": \"white\", \"ticklen\": 3, \"ticks\": \"outside\", \"type\": \"linear\", \"zeroline\": false}, \"yaxis\": {\"anchor\": \"x\", \"automargin\": true, \"autorange\": \"reversed\", \"domain\": [0.0, 1.0], \"fixedrange\": true, \"gridwidth\": 2, \"tickcolor\": \"white\", \"ticklen\": 10, \"ticks\": \"outside\", \"type\": \"category\"}},\n",
       "                        {\"displaylogo\": false, \"staticPlot\": false, \"modeBarButtonsToRemove\": [\"sendDataToCloud\", \"lasso2d\", \"autoScale2d\", \"select2d\", \"zoom2d\", \"pan2d\", \"zoomIn2d\", \"zoomOut2d\", \"resetScale2d\", \"toggleSpikelines\", \"hoverCompareCartesian\", \"hoverClosestCartesian\"], \"responsive\": true}\n",
       "                    ).then(function(){\n",
       "                            \n",
       "var gd = document.getElementById('c4f98810-5d3e-4835-845c-e3c58d3e1a03');\n",
       "var x = new MutationObserver(function (mutations, observer) {{\n",
       "        var display = window.getComputedStyle(gd).display;\n",
       "        if (!display || display === 'none') {{\n",
       "            console.log([gd, 'removed!']);\n",
       "            Plotly.purge(gd);\n",
       "            observer.disconnect();\n",
       "        }}\n",
       "}});\n",
       "\n",
       "// Listen for the removal of the full notebook cells\n",
       "var notebookContainer = gd.closest('#notebook-container');\n",
       "if (notebookContainer) {{\n",
       "    x.observe(notebookContainer, {childList: true});\n",
       "}}\n",
       "\n",
       "// Listen for the clearing of the current output cell\n",
       "var outputEl = gd.closest('.output');\n",
       "if (outputEl) {{\n",
       "    x.observe(outputEl, {childList: true});\n",
       "}}\n",
       "\n",
       "                        })\n",
       "                };\n",
       "                });\n",
       "            </script>\n",
       "        </div>"
      ]
     },
     "metadata": {},
     "output_type": "display_data"
    }
   ],
   "source": [
    "exp = explainer.Explainer(model=regressor, data=X_train_raw, y=y_train, model_type='regression')\n",
    "exp_bd_lr = exp.predict_parts(X_train_raw.iloc[0], type='break_down')\n",
    "exp_bd_lr.plot(max_vars=42)"
   ]
  },
  {
   "cell_type": "markdown",
   "metadata": {},
   "source": [
    "<img src=\"img/exp_bd_lr.png\">"
   ]
  },
  {
   "cell_type": "code",
   "execution_count": null,
   "metadata": {},
   "outputs": [],
   "source": []
  }
 ],
 "metadata": {
  "kernelspec": {
   "display_name": "IML",
   "language": "python",
   "name": "iml"
  },
  "language_info": {
   "codemirror_mode": {
    "name": "ipython",
    "version": 3
   },
   "file_extension": ".py",
   "mimetype": "text/x-python",
   "name": "python",
   "nbconvert_exporter": "python",
   "pygments_lexer": "ipython3",
   "version": "3.7.4"
  }
 },
 "nbformat": 4,
 "nbformat_minor": 2
}
