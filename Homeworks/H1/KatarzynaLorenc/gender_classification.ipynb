{
 "cells": [
  {
   "cell_type": "markdown",
   "metadata": {
    "colab_type": "text",
    "id": "0TYRumHVAW2n"
   },
   "source": [
    "**<h3>Predykcja płci użytkownika na podstawie danych z twittera <br> </h3>**\n",
    " <h5> Celem poniższej pracy domowej jest predykcja płci użytkownika twittera na podstawie danych pobranych z https://www.kaggle.com/crowdflower/twitter-user-gender-classification i porównanie modeli zbudowanych na różnych podzbiorach danych. <br> <br>\n",
    " Udostępniony zbiór można podzielić na:\n",
    "*  informacje o profilu użytkownika, takie jak kolorystyka paska bocznego, opis profilu, czas założenia konta, płeć itp.\n",
    "*  informacje o losowym wpisie na twitterze np. tresć tweeta, lokalizacja użytkownika w chwili umieścienia wpisu itp. \n",
    "\n",
    "<br>\n",
    "Aby nie skupiać się na technikach przetwarzania tekstu przekształcę jedynie kolumny zawierające opis profilu i tekst tweetów na wektory o długości 512 za pomocą Universal Sentence Encodera: https://arxiv.org/pdf/1803.11175.pdf \n",
    "\n",
    "\n",
    "Porównam klasyfikatory płci (male/female/ brand for non-human profiles) wytrenowane na:\n",
    "\n",
    "\n",
    "1. Informacjach na profilu użytkownika takich jak kolorystyka paska bocznego, liczba ulubionych tweetów, stanu obserwacji (bez opisu profilu i cech takich jak daty i lokalizacje)\n",
    "2.  Wyłącznie na podstawie embeddingów tekstu powstałych na podstawie losowego tweeta.\n",
    "3.   Wyłącznie na podstawie embeddingów tekstu powstałych na podstawie opisu o użytkowniku w profilu.\n",
    "\n",
    "\n",
    "\n",
    "\n",
    "\n",
    "\n",
    " \n",
    "\n",
    "\n",
    "\n"
   ]
  },
  {
   "cell_type": "code",
   "execution_count": 2,
   "metadata": {
    "colab": {},
    "colab_type": "code",
    "id": "PKJV6gvVyO0n"
   },
   "outputs": [],
   "source": [
    "import tensorflow_hub as hub\n",
    "import tensorflow as tf\n",
    "from sklearn.preprocessing import LabelEncoder\n",
    "import pandas as pd\n",
    "import numpy as np\n",
    "from collections import Counter\n",
    "from sklearn.preprocessing import OneHotEncoder\n",
    "from sklearn.ensemble import RandomForestClassifier\n",
    "from sklearn.svm import SVC\n",
    "from sklearn.linear_model import LogisticRegression\n",
    "from sklearn.model_selection import cross_val_score\n",
    "from tensorflow.keras.models import Sequential\n",
    "from tensorflow.keras.layers import Dense, Flatten, Dropout\n",
    "from tensorflow.keras.callbacks import EarlyStopping\n",
    "from sklearn.metrics import accuracy_score\n",
    "import matplotlib.pyplot as plt\n",
    "from sklearn.metrics import classification_report\n",
    "import seaborn as sns\n"
   ]
  },
  {
   "cell_type": "code",
   "execution_count": 17,
   "metadata": {
    "colab": {},
    "colab_type": "code",
    "id": "gOjPg87MSyw0"
   },
   "outputs": [],
   "source": [
    "data = pd.read_csv(\"gender-classifier-DFE-791531.csv\",encoding='latin1')\n",
    "df = data.drop({\"name\",\"created\",\"_last_judgment_at\",\"tweet_created\",\"tweet_id\",\"user_timezone\",\"tweet_location\",\"profileimage\",\"gender_gold\",\"profile_yn_gold\",\"tweet_coord\",\"_unit_id\"},1)\n",
    "df = df.dropna(subset=['gender', 'gender:confidence','description','sidebar_color'])\n",
    "df = df[df['gender']!=\"unknown\"].reset_index(drop=True)\n",
    "description = df.description\n",
    "text = df.text"
   ]
  },
  {
   "cell_type": "markdown",
   "metadata": {},
   "source": [
    "Postać danych:"
   ]
  },
  {
   "cell_type": "code",
   "execution_count": 19,
   "metadata": {},
   "outputs": [
    {
     "data": {
      "text/html": [
       "<div>\n",
       "<style scoped>\n",
       "    .dataframe tbody tr th:only-of-type {\n",
       "        vertical-align: middle;\n",
       "    }\n",
       "\n",
       "    .dataframe tbody tr th {\n",
       "        vertical-align: top;\n",
       "    }\n",
       "\n",
       "    .dataframe thead th {\n",
       "        text-align: right;\n",
       "    }\n",
       "</style>\n",
       "<table border=\"1\" class=\"dataframe\">\n",
       "  <thead>\n",
       "    <tr style=\"text-align: right;\">\n",
       "      <th></th>\n",
       "      <th>_golden</th>\n",
       "      <th>_unit_state</th>\n",
       "      <th>_trusted_judgments</th>\n",
       "      <th>gender</th>\n",
       "      <th>gender:confidence</th>\n",
       "      <th>profile_yn</th>\n",
       "      <th>profile_yn:confidence</th>\n",
       "      <th>description</th>\n",
       "      <th>fav_number</th>\n",
       "      <th>link_color</th>\n",
       "      <th>retweet_count</th>\n",
       "      <th>sidebar_color</th>\n",
       "      <th>text</th>\n",
       "      <th>tweet_count</th>\n",
       "    </tr>\n",
       "  </thead>\n",
       "  <tbody>\n",
       "    <tr>\n",
       "      <th>0</th>\n",
       "      <td>False</td>\n",
       "      <td>finalized</td>\n",
       "      <td>3</td>\n",
       "      <td>male</td>\n",
       "      <td>1.0000</td>\n",
       "      <td>yes</td>\n",
       "      <td>1.0</td>\n",
       "      <td>i sing my own rhythm.</td>\n",
       "      <td>0</td>\n",
       "      <td>08C2C2</td>\n",
       "      <td>0</td>\n",
       "      <td>FFFFFF</td>\n",
       "      <td>Robbie E Responds To Critics After Win Against...</td>\n",
       "      <td>110964</td>\n",
       "    </tr>\n",
       "    <tr>\n",
       "      <th>1</th>\n",
       "      <td>False</td>\n",
       "      <td>finalized</td>\n",
       "      <td>3</td>\n",
       "      <td>male</td>\n",
       "      <td>1.0000</td>\n",
       "      <td>yes</td>\n",
       "      <td>1.0</td>\n",
       "      <td>I'm the author of novels filled with family dr...</td>\n",
       "      <td>68</td>\n",
       "      <td>0084B4</td>\n",
       "      <td>0</td>\n",
       "      <td>C0DEED</td>\n",
       "      <td>ÛÏIt felt like they were my friends and I was...</td>\n",
       "      <td>7471</td>\n",
       "    </tr>\n",
       "    <tr>\n",
       "      <th>2</th>\n",
       "      <td>False</td>\n",
       "      <td>finalized</td>\n",
       "      <td>3</td>\n",
       "      <td>male</td>\n",
       "      <td>0.6625</td>\n",
       "      <td>yes</td>\n",
       "      <td>1.0</td>\n",
       "      <td>louis whining and squealing and all</td>\n",
       "      <td>7696</td>\n",
       "      <td>ABB8C2</td>\n",
       "      <td>1</td>\n",
       "      <td>C0DEED</td>\n",
       "      <td>i absolutely adore when louis starts the songs...</td>\n",
       "      <td>5617</td>\n",
       "    </tr>\n",
       "    <tr>\n",
       "      <th>3</th>\n",
       "      <td>False</td>\n",
       "      <td>finalized</td>\n",
       "      <td>3</td>\n",
       "      <td>male</td>\n",
       "      <td>1.0000</td>\n",
       "      <td>yes</td>\n",
       "      <td>1.0</td>\n",
       "      <td>Mobile guy.  49ers, Shazam, Google, Kleiner Pe...</td>\n",
       "      <td>202</td>\n",
       "      <td>0084B4</td>\n",
       "      <td>0</td>\n",
       "      <td>C0DEED</td>\n",
       "      <td>Hi @JordanSpieth - Looking at the url - do you...</td>\n",
       "      <td>1693</td>\n",
       "    </tr>\n",
       "    <tr>\n",
       "      <th>4</th>\n",
       "      <td>False</td>\n",
       "      <td>finalized</td>\n",
       "      <td>3</td>\n",
       "      <td>female</td>\n",
       "      <td>1.0000</td>\n",
       "      <td>yes</td>\n",
       "      <td>1.0</td>\n",
       "      <td>Ricky Wilson The Best FRONTMAN/Kaiser Chiefs T...</td>\n",
       "      <td>37318</td>\n",
       "      <td>3B94D9</td>\n",
       "      <td>0</td>\n",
       "      <td>0</td>\n",
       "      <td>Watching Neighbours on Sky+ catching up with t...</td>\n",
       "      <td>31462</td>\n",
       "    </tr>\n",
       "  </tbody>\n",
       "</table>\n",
       "</div>"
      ],
      "text/plain": [
       "   _golden _unit_state  _trusted_judgments  gender  gender:confidence  \\\n",
       "0    False   finalized                   3    male             1.0000   \n",
       "1    False   finalized                   3    male             1.0000   \n",
       "2    False   finalized                   3    male             0.6625   \n",
       "3    False   finalized                   3    male             1.0000   \n",
       "4    False   finalized                   3  female             1.0000   \n",
       "\n",
       "  profile_yn  profile_yn:confidence  \\\n",
       "0        yes                    1.0   \n",
       "1        yes                    1.0   \n",
       "2        yes                    1.0   \n",
       "3        yes                    1.0   \n",
       "4        yes                    1.0   \n",
       "\n",
       "                                         description  fav_number link_color  \\\n",
       "0                              i sing my own rhythm.           0     08C2C2   \n",
       "1  I'm the author of novels filled with family dr...          68     0084B4   \n",
       "2                louis whining and squealing and all        7696     ABB8C2   \n",
       "3  Mobile guy.  49ers, Shazam, Google, Kleiner Pe...         202     0084B4   \n",
       "4  Ricky Wilson The Best FRONTMAN/Kaiser Chiefs T...       37318     3B94D9   \n",
       "\n",
       "   retweet_count sidebar_color  \\\n",
       "0              0        FFFFFF   \n",
       "1              0        C0DEED   \n",
       "2              1        C0DEED   \n",
       "3              0        C0DEED   \n",
       "4              0             0   \n",
       "\n",
       "                                                text  tweet_count  \n",
       "0  Robbie E Responds To Critics After Win Against...       110964  \n",
       "1  ÛÏIt felt like they were my friends and I was...         7471  \n",
       "2  i absolutely adore when louis starts the songs...         5617  \n",
       "3  Hi @JordanSpieth - Looking at the url - do you...         1693  \n",
       "4  Watching Neighbours on Sky+ catching up with t...        31462  "
      ]
     },
     "execution_count": 19,
     "metadata": {},
     "output_type": "execute_result"
    }
   ],
   "source": [
    "df.head()"
   ]
  },
  {
   "cell_type": "markdown",
   "metadata": {
    "colab_type": "text",
    "id": "_s1gr7pRnhE_"
   },
   "source": [
    "W licznościach kategorii zmiennej objaśnianej nie ma wielkich różnic:\n",
    "\n"
   ]
  },
  {
   "cell_type": "code",
   "execution_count": 4,
   "metadata": {
    "colab": {
     "base_uri": "https://localhost:8080/",
     "height": 286
    },
    "colab_type": "code",
    "id": "_yAy5fGanfGJ",
    "outputId": "72899d7e-09c8-4a0c-c95d-69d789208750",
    "scrolled": true
   },
   "outputs": [
    {
     "data": {
      "text/plain": [
       "<BarContainer object of 3 artists>"
      ]
     },
     "execution_count": 4,
     "metadata": {},
     "output_type": "execute_result"
    },
    {
     "data": {
      "image/png": "[encoded data removed]",
      "text/plain": [
       "<Figure size 432x288 with 1 Axes>"
      ]
     },
     "metadata": {},
     "output_type": "display_data"
    }
   ],
   "source": [
    "plt.bar(Counter(df.gender).keys(), Counter(df.gender).values())"
   ]
  },
  {
   "cell_type": "code",
   "execution_count": 5,
   "metadata": {
    "colab": {},
    "colab_type": "code",
    "id": "Y2TJDz4gTpC_"
   },
   "outputs": [],
   "source": [
    "def split_train_test_validate(df: pd.DataFrame,\n",
    "                              X_columns: list,\n",
    "                              no_model: int):\n",
    "\n",
    "    if no_model!=1:\n",
    "      df = df.sample(frac=1).reset_index(drop=True)\n",
    "      gender = df.gender\n",
    "      embed = hub.Module(\"https://tfhub.dev/google/universal-sentence-encoder/1\")\n",
    "      if no_model==2:\n",
    "        embedding = embed(df.text)\n",
    "      else:\n",
    "        embedding = embed(df.description)\n",
    "\n",
    "      with tf.Session() as session:\n",
    "        session.run([tf.global_variables_initializer(), tf.tables_initializer()])\n",
    "        embedding = session.run(embedding)\n",
    "\n",
    "      df = pd.DataFrame(embedding)\n",
    "      onehot_enc = OneHotEncoder(handle_unknown='ignore')\n",
    "      onehot_enc.fit(pd.DataFrame(pd.DataFrame(gender)))\n",
    "      gender = onehot_enc.transform(pd.DataFrame(gender))\n",
    "\n",
    "    elif no_model==1:\n",
    "      df = df.sample(frac=1).reset_index(drop=True).drop([\"text\", \"description\"], 1)\n",
    "      label_encoder = LabelEncoder()\n",
    "      for col in ['_unit_state','_golden','gender','profile_yn','link_color','sidebar_color']:\n",
    "          df[col] = label_encoder.fit_transform(df[col])\n",
    "      gender = df.gender\n",
    "      df = df.drop(\"gender\",1)\n",
    "      onehot_enc = 0\n",
    "          \n",
    "\n",
    "\n",
    "    test = df[:2000]\n",
    "    validate = df[2000:5522].reset_index(drop=True)\n",
    "    train = df[5522:].reset_index(drop=True)\n",
    "\n",
    "    return train, gender[5522:], test, gender[:2000], validate, gender[2000:5522], onehot_enc"
   ]
  },
  {
   "cell_type": "code",
   "execution_count": 6,
   "metadata": {
    "colab": {},
    "colab_type": "code",
    "id": "Al10xDj3wQLq"
   },
   "outputs": [],
   "source": [
    "def find_best_nn(X_train, y_train, X_test, y_test, onehot_enc):\n",
    "  epochs =30\n",
    "  best_acc = 0\n",
    "  y_test = [onehot_enc.categories_[0].tolist().index(value) for value in list(onehot_enc.inverse_transform(y_test))]\n",
    "  for batch_size in [16,64]:\n",
    "      for activation in ['relu', 'sigmoid']:\n",
    "          for layer_size in [32,64]:\n",
    "              for hidden_layer in [\"no_hidden\",\"one\",\"two\"]:\n",
    "                  classifier = Sequential()\n",
    "                  classifier.add(Dense(layer_size, activation=activation, input_dim=X_train.shape[1]))\n",
    "                  if hidden_layer!=\"no_hidden\":\n",
    "                      classifier.add(Dense(int(layer_size/2), activation=activation))\n",
    "                  if hidden_layer==\"two\":\n",
    "                      classifier.add(Dense(int(layer_size/4), activation=activation))\n",
    "\n",
    "                  classifier.add(Dense(3))\n",
    "                  classifier.compile(optimizer ='adam',loss='binary_crossentropy', metrics =['accuracy'])\n",
    "                  es = EarlyStopping(monitor='val_loss', mode='min', verbose=1, patience=2)\n",
    "                  training_history = classifier.fit(X_train, y_train, batch_size=batch_size, epochs=epochs, \n",
    "                                                    validation_split=0.2, verbose=0, callbacks=[es])\n",
    "\n",
    "                  test_acc = accuracy_score(np.argmax(classifier.predict(X_test), axis=1), y_test)\n",
    "                  if best_acc < test_acc:\n",
    "                      best_acc = test_acc\n",
    "                      best_model={\"test_accuracy\":test_acc,\n",
    "                                    \"batch_size\":batch_size,\n",
    "                                    \"activation\":activation,\n",
    "                                    \"layer_size\":layer_size,\n",
    "                                    \"hidden_layer\":hidden_layer,\n",
    "                                    \"history\":training_history,\n",
    "                                    \"model\":classifier}\n",
    "                  \n",
    "  return best_model\n",
    "                    \n",
    "                "
   ]
  },
  {
   "cell_type": "code",
   "execution_count": 7,
   "metadata": {
    "colab": {},
    "colab_type": "code",
    "id": "0F_zp_CtwTsq"
   },
   "outputs": [],
   "source": [
    "def run_model(model, X_train, y_train, X_test, y_test):\n",
    "  model.fit(X_train, y_train)\n",
    "  pred = model.predict(X_test)\n",
    "  print(sns.heatmap(pd.DataFrame(classification_report(pred, y_test,output_dict=True)).iloc[:-1, :4].T,annot=True))"
   ]
  },
  {
   "cell_type": "markdown",
   "metadata": {
    "colab_type": "text",
    "id": "cyGFHAB3TSaZ"
   },
   "source": [
    "*Poniższe wykresy maja różne skale, zatem kolory są wskazówką do porównania równowagi między precyzją, a recallem w obrębie jednego modelu.*\n",
    "\n",
    "\n",
    "**Model I** <br>\n",
    "Porównanie wyników: SVM, Regresji Logistycznej i Lasów losowych. <br> <br>\n"
   ]
  },
  {
   "cell_type": "code",
   "execution_count": 11,
   "metadata": {
    "colab": {},
    "colab_type": "code",
    "id": "vqMmIsAHq9TE"
   },
   "outputs": [],
   "source": [
    "X_train, y_train, X_test, y_test, X_validate, y_validate, onehot_enc=split_train_test_validate(df, ['_golden','_unit_state','_trusted_judgments','gender:confidence','profile_yn','profile_yn:confidence','fav_number','link_color','retweet_count','sidebar_color','tweet_count'], 1)"
   ]
  },
  {
   "cell_type": "markdown",
   "metadata": {
    "colab_type": "text",
    "id": "k4stXP_X0-G2"
   },
   "source": [
    "Prezycja, recall, f1-score i accuracy dla Regresji Logistycznej\n",
    "\n"
   ]
  },
  {
   "cell_type": "code",
   "execution_count": 33,
   "metadata": {
    "colab": {
     "base_uri": "https://localhost:8080/",
     "height": 282
    },
    "colab_type": "code",
    "id": "P5w80nqVzrmB",
    "outputId": "151ad491-e305-43dd-eb41-0695ff42b0bd"
   },
   "outputs": [
    {
     "name": "stdout",
     "output_type": "stream",
     "text": [
      "AxesSubplot(0.125,0.125;0.62x0.755)\n"
     ]
    },
    {
     "data": {
      "image/png": "[encoded data removed]",
      "text/plain": [
       "<Figure size 432x288 with 2 Axes>"
      ]
     },
     "metadata": {
      "tags": []
     },
     "output_type": "display_data"
    }
   ],
   "source": [
    "run_model(LogisticRegression(), X_train, y_train, X_test, y_test)"
   ]
  },
  {
   "cell_type": "markdown",
   "metadata": {
    "colab_type": "text",
    "id": "MQ3lCYcr1KR1"
   },
   "source": [
    "Prezycja, recall, f1-score i accuracy dla SVM"
   ]
  },
  {
   "cell_type": "code",
   "execution_count": 34,
   "metadata": {
    "colab": {
     "base_uri": "https://localhost:8080/",
     "height": 282
    },
    "colab_type": "code",
    "id": "stFi6X1J1SbF",
    "outputId": "a310478f-bfff-4f9f-9500-8803b542037c"
   },
   "outputs": [
    {
     "name": "stdout",
     "output_type": "stream",
     "text": [
      "AxesSubplot(0.125,0.125;0.62x0.755)\n"
     ]
    },
    {
     "data": {
      "image/png": "[encoded data removed]",
      "text/plain": [
       "<Figure size 432x288 with 2 Axes>"
      ]
     },
     "metadata": {
      "tags": []
     },
     "output_type": "display_data"
    }
   ],
   "source": [
    "run_model(SVC(gamma='auto'), X_train, y_train, X_test, y_test)"
   ]
  },
  {
   "cell_type": "markdown",
   "metadata": {
    "colab_type": "text",
    "id": "HCXWDfrp1ekV"
   },
   "source": [
    "Prezycja, recall, f1-score i accuracy dla Lasu losowego\n"
   ]
  },
  {
   "cell_type": "code",
   "execution_count": 39,
   "metadata": {
    "colab": {
     "base_uri": "https://localhost:8080/",
     "height": 282
    },
    "colab_type": "code",
    "id": "VWG0rL341Wwf",
    "outputId": "885b0ec8-f3af-4c6a-9183-3ee01263bd78"
   },
   "outputs": [
    {
     "name": "stdout",
     "output_type": "stream",
     "text": [
      "AxesSubplot(0.125,0.125;0.62x0.755)\n"
     ]
    },
    {
     "data": {
      "image/png": "[encoded data removed]",
      "text/plain": [
       "<Figure size 432x288 with 2 Axes>"
      ]
     },
     "metadata": {
      "tags": []
     },
     "output_type": "display_data"
    }
   ],
   "source": [
    "run_model(RandomForestClassifier(n_estimators=100,max_depth=7), X_train, y_train, X_test, y_test)"
   ]
  },
  {
   "cell_type": "markdown",
   "metadata": {
    "colab_type": "text",
    "id": "grboANyaTigJ"
   },
   "source": [
    "**Model II** - sieć neuronowa na podstawie tekstu z losowego tweeta<br> \n",
    "Przekształciłam każdy teskt za pomocą USE na embedding. Następnie przepuściłam przez prostą sieć neuronową (z jedną, dwoma lub bez warstwy ukrytej). Sprawdzona została funkcja relu i funkcja sigmoidalna jako funkcje aktywacji, 32 i 64 jako wielkości warstw ukrytych, a także dodałam wcześniejsze zatrzymanie treningu z opóźnieniem o 2 epoki w przypadku gdy sieć przestaje się uczyć. \n"
   ]
  },
  {
   "cell_type": "code",
   "execution_count": 15,
   "metadata": {
    "colab": {
     "base_uri": "https://localhost:8080/",
     "height": 51
    },
    "colab_type": "code",
    "id": "E7S-J2sATh61",
    "outputId": "4db87b47-160b-4c7e-9758-5ab07099c0fd"
   },
   "outputs": [],
   "source": [
    "X_train, y_train, X_test, y_test, X_validate, y_validate, onehot_enc=split_train_test_validate(df,[], 2)"
   ]
  },
  {
   "cell_type": "code",
   "execution_count": 16,
   "metadata": {
    "colab": {
     "base_uri": "https://localhost:8080/",
     "height": 649
    },
    "colab_type": "code",
    "id": "l9Ml4BBbTh5I",
    "outputId": "78fabdc6-1ccd-44e5-ad5a-80cca5b41609",
    "scrolled": true
   },
   "outputs": [],
   "source": [
    "model = find_best_nn(X_train, y_train, X_test, y_test, onehot_enc)"
   ]
  },
  {
   "cell_type": "code",
   "execution_count": 56,
   "metadata": {
    "colab": {
     "base_uri": "https://localhost:8080/",
     "height": 364
    },
    "colab_type": "code",
    "id": "QjwXNe6vmJ6i",
    "outputId": "7b5d7254-63c8-4b29-e993-f69dc9a138dd"
   },
   "outputs": [
    {
     "data": {
      "text/plain": [
       "<matplotlib.axes._subplots.AxesSubplot at 0x7fab48e86358>"
      ]
     },
     "execution_count": 56,
     "metadata": {
      "tags": []
     },
     "output_type": "execute_result"
    },
    {
     "data": {
      "image/png": "[encoded data removed]",
      "text/plain": [
       "<Figure size 576x396 with 2 Axes>"
      ]
     },
     "metadata": {
      "tags": []
     },
     "output_type": "display_data"
    }
   ],
   "source": [
    "sns.heatmap(pd.DataFrame(classification_report(np.argmax(model['model'].predict(X_validate),axis=1), [onehot_enc.categories_[0].tolist().index(value) for value in list(onehot_enc.inverse_transform(y_validate))],target_names=onehot_enc.categories_[0].tolist(),output_dict=True)).iloc[:-1, :4].T,annot=True)"
   ]
  },
  {
   "cell_type": "markdown",
   "metadata": {
    "colab_type": "text",
    "id": "xL5M53Zpny3e"
   },
   "source": [
    "**Model III** <br>\n",
    "Analogiczna sieć do tej z modelu drugiego. Różnicę stanowią dane wejściowe do sieci - tutaj celem modelu jest klasyfikacja płci użytkownika na podstawie opisu na profilu."
   ]
  },
  {
   "cell_type": "code",
   "execution_count": 57,
   "metadata": {
    "colab": {
     "base_uri": "https://localhost:8080/",
     "height": 51
    },
    "colab_type": "code",
    "id": "sZqVmkSOThun",
    "outputId": "a39ba3bc-6b10-47e1-e12e-8dcebf9248e2"
   },
   "outputs": [
    {
     "name": "stdout",
     "output_type": "stream",
     "text": [
      "INFO:tensorflow:Saver not created because there are no variables in the graph to restore\n"
     ]
    },
    {
     "name": "stderr",
     "output_type": "stream",
     "text": [
      "INFO:tensorflow:Saver not created because there are no variables in the graph to restore\n"
     ]
    }
   ],
   "source": [
    "X_train, y_train, X_test, y_test, X_validate, y_validate, onehot_enc=split_train_test_validate(df,[], 3)"
   ]
  },
  {
   "cell_type": "code",
   "execution_count": 58,
   "metadata": {
    "colab": {
     "base_uri": "https://localhost:8080/",
     "height": 425
    },
    "colab_type": "code",
    "id": "Tr2ryNYdwK2j",
    "outputId": "b16b456a-b56e-4839-ca7c-0675d11a608e",
    "scrolled": true
   },
   "outputs": [
    {
     "name": "stdout",
     "output_type": "stream",
     "text": [
      "Epoch 00005: early stopping\n",
      "Epoch 00004: early stopping\n",
      "Epoch 00004: early stopping\n",
      "Epoch 00003: early stopping\n",
      "Epoch 00003: early stopping\n",
      "Epoch 00003: early stopping\n",
      "Epoch 00003: early stopping\n",
      "Epoch 00005: early stopping\n",
      "Epoch 00007: early stopping\n",
      "Epoch 00005: early stopping\n",
      "Epoch 00003: early stopping\n",
      "Epoch 00007: early stopping\n",
      "Epoch 00008: early stopping\n",
      "Epoch 00006: early stopping\n",
      "Epoch 00010: early stopping\n",
      "Epoch 00008: early stopping\n",
      "Epoch 00004: early stopping\n",
      "Epoch 00005: early stopping\n",
      "Epoch 00005: early stopping\n",
      "Epoch 00007: early stopping\n",
      "Epoch 00013: early stopping\n",
      "Epoch 00003: early stopping\n",
      "Epoch 00006: early stopping\n",
      "Epoch 00006: early stopping\n"
     ]
    }
   ],
   "source": [
    "model3 = find_best_nn(X_train, y_train, X_test, y_test, onehot_enc)"
   ]
  },
  {
   "cell_type": "code",
   "execution_count": 59,
   "metadata": {
    "colab": {
     "base_uri": "https://localhost:8080/",
     "height": 364
    },
    "colab_type": "code",
    "id": "HfQNFpyxn2Vd",
    "outputId": "907c3e35-131d-4db6-87a0-b176c623fb8f"
   },
   "outputs": [
    {
     "data": {
      "text/plain": [
       "<matplotlib.axes._subplots.AxesSubplot at 0x7fab442ff278>"
      ]
     },
     "execution_count": 59,
     "metadata": {
      "tags": []
     },
     "output_type": "execute_result"
    },
    {
     "data": {
      "image/png": "[encoded data removed]",
      "text/plain": [
       "<Figure size 576x396 with 2 Axes>"
      ]
     },
     "metadata": {
      "tags": []
     },
     "output_type": "display_data"
    }
   ],
   "source": [
    "sns.heatmap(pd.DataFrame(classification_report(np.argmax(model['model'].predict(X_validate),axis=1), [onehot_enc.categories_[0].tolist().index(value) for value in list(onehot_enc.inverse_transform(y_validate))],target_names=onehot_enc.categories_[0].tolist(),output_dict=True)).iloc[:-1, :4].T,annot=True)"
   ]
  },
  {
   "cell_type": "markdown",
   "metadata": {
    "colab_type": "text",
    "id": "vljBOzJnn3DY"
   },
   "source": [
    "**Podsumowanie** <br>\n",
    "Porównując modele: SVM, Regresję Logistyczną i Lasy losowe, najwyższy wynik (accuracy) osiągnęły lasy losowe. Miały one także najbardziej \"stabilne\" wyniki pod względem częstotliwości przewidywania danych klas (SVM'y dosyć często na pytanie: Jaką płeć ma użytkownik X_i? błędnie odpowiadały, że był to \"brand for non-human profiles\" (0)). <br>\n",
    "<br>\n",
    "Spośród wszystkich modeli najlepsze wyniki osiągnął Model II.  Być może lepsze wyniki można by uzyskać za pomocą innym metod przetwarzania języka naturalnego. Jednak na podstawie powyższych metod, można postawić tezę, iż najprościej przewidzieć płeć użytkownika twittera na podstawie jego tweetów.\n"
   ]
  }
 ],
 "metadata": {
  "colab": {
   "collapsed_sections": [],
   "name": "raport.ipynb",
   "provenance": []
  },
  "kernelspec": {
   "display_name": "Python 3",
   "language": "python",
   "name": "python3"
  },
  "language_info": {
   "codemirror_mode": {
    "name": "ipython",
    "version": 3
   },
   "file_extension": ".py",
   "mimetype": "text/x-python",
   "name": "python",
   "nbconvert_exporter": "python",
   "pygments_lexer": "ipython3",
   "version": "3.6.8"
  }
 },
 "nbformat": 4,
 "nbformat_minor": 1
}
