{
 "cells": [
  {
   "cell_type": "code",
   "execution_count": 11,
   "metadata": {},
   "outputs": [],
   "source": [
    "%%capture\n",
    "import sys\n",
    "import os\n",
    "os.environ['TF_CPP_MIN_LOG_LEVEL'] = '3' #usunięcie warningów tensorflow\n",
    "!{sys.executable} -m pip install numpy\n",
    "!{sys.executable} -m pip install keras\n",
    "!{sys.executable} -m pip install intel-tensorflow\n",
    "!{sys.executable} -m pip install pandas\n",
    "!{sys.executable} -m pip install sklearn"
   ]
  },
  {
   "cell_type": "code",
   "execution_count": 12,
   "metadata": {},
   "outputs": [],
   "source": [
    "import pandas as pd\n",
    "from keras import optimizers\n",
    "from keras.layers import Dense\n",
    "from keras.models import Sequential\n",
    "from sklearn.model_selection import ShuffleSplit\n",
    "import sklearn as skl\n",
    "import keras.initializers"
   ]
  },
  {
   "cell_type": "markdown",
   "metadata": {},
   "source": [
    "Odczytujemy dane cen domów. Usuwamy kolumnę z id, i oddzielamy cenę od pozostałych kolumn"
   ]
  },
  {
   "cell_type": "code",
   "execution_count": 13,
   "metadata": {},
   "outputs": [],
   "source": [
    "def get_data():\n",
    "    read = pd.read_csv('kc_house_data.csv')\n",
    "    prices, other_data = read[\"price\"], read[[*read.columns[3:], 'date']]\n",
    "    return prices, other_data"
   ]
  },
  {
   "cell_type": "markdown",
   "metadata": {},
   "source": [
    "Przygotowanie danych. Z daty wyciągamy rok i miesiąc, i przygotowujemy kolumny z wartościami binarnymi\n",
    "mówiące w którym okresie dom został sprzedany.\n",
    "Dodajemy też kolumny określające binarnie lokalizację budynku na podstawie kodu pocztowego.\n",
    "Następnie skalujemy dane."
   ]
  },
  {
   "cell_type": "code",
   "execution_count": 14,
   "metadata": {},
   "outputs": [],
   "source": [
    "def prepare_data(d):\n",
    "    d['floors'] = d['floors'].astype('double')\n",
    "    for s in ['2014', '2015']:\n",
    "        d['y_' + s] = [1 if y[0:4] == s else 0 for y in d['date']]\n",
    "    for i in range(1, 13):\n",
    "        s = str(i) if len(str(i)) == 2 else '0' + str(i)\n",
    "        d['m_' + s] = [1 if y[4:6] == s else 0 for y in d['date']]\n",
    "    d = d[[c for c in d.columns if c != 'date']]\n",
    "    zipcodes = set(d['zipcode'])\n",
    "    for z in zipcodes:\n",
    "        d['z_' + str(z)] = [1 if e == z else 0 for e in d['zipcode']]\n",
    "    d = d[[c for c in d.columns if c != 'zipcode']]\n",
    "    return skl.preprocessing.minmax_scale(d)"
   ]
  },
  {
   "cell_type": "markdown",
   "metadata": {},
   "source": [
    "Przygotowujemy sieć neuronową składającą się z 5 warstw."
   ]
  },
  {
   "cell_type": "code",
   "execution_count": 15,
   "metadata": {},
   "outputs": [],
   "source": [
    "def get_model():\n",
    "    model = Sequential()\n",
    "    length = 101\n",
    "    activ = keras.activations.relu\n",
    "    model.add(Dense(35, activation=activ, input_shape=(length,)))\n",
    "    model.add(Dense(35, activation=activ))\n",
    "    model.add(Dense(35, activation=activ))\n",
    "    model.add(Dense(35, activation=activ))\n",
    "    model.add(Dense(1, activation=activ))\n",
    "    model.compile(loss='mae', optimizer=optimizers.adam(0.002), metrics=[keras.metrics.mae, keras.metrics.mse])\n",
    "    return model"
   ]
  },
  {
   "cell_type": "markdown",
   "metadata": {},
   "source": [
    "Ceny dla celów predykcji będą transformowane, więc przygotowujemy funkcję obliczająca błąd która\n",
    "odwraca transformację cen. Jako funkcję błędu wykorzystujemy średni błąd bezwzględny i średni błąd procentowy."
   ]
  },
  {
   "cell_type": "code",
   "execution_count": 26,
   "metadata": {},
   "outputs": [],
   "source": [
    "def error_func(sc, y, pred):\n",
    "    exp_res = sc.inverse_transform(y)\n",
    "    res = sc.inverse_transform(pred)\n",
    "    mae = skl.metrics.mean_absolute_error(exp_res, res)\n",
    "    perc = abs(exp_res - res)/exp_res\n",
    "    avg_perc = sum(perc)/len(perc)\n",
    "    return mae, avg_perc[0]\n"
   ]
  },
  {
   "cell_type": "markdown",
   "metadata": {},
   "source": [
    "Skalujemy ceny, tak by były one nie większe niż 1.\n",
    "Następnie trenujemy sieci neuronowe, i za pomocą walidacji krzyżowej sprawdzamy błąd klasyfikatora."
   ]
  },
  {
   "cell_type": "code",
   "execution_count": 27,
   "metadata": {},
   "outputs": [],
   "source": [
    "def main_nn():\n",
    "    epochs = 1000\n",
    "    (prices, data) = get_data()\n",
    "    prepared = prepare_data(data)\n",
    "    prices = prices.values.reshape(-1, 1)\n",
    "    sc = skl.preprocessing.MinMaxScaler()\n",
    "    sc.fit(prices)\n",
    "    ss = ShuffleSplit(n_splits=5, test_size=0.2, random_state=24)\n",
    "    splitted = ss.split(prepared, prices)\n",
    "    transformed_prices = sc.transform(prices)\n",
    "    maes = []\n",
    "    perc = []\n",
    "    for i, (train_index, val_index) in enumerate(splitted):\n",
    "        model = get_model()\n",
    "        X_train, X_val = prepared[train_index, :], prepared[val_index, :]\n",
    "        y_train, y_val = transformed_prices[train_index], transformed_prices[val_index]\n",
    "        model.fit(X_train, y_train, epochs=epochs, batch_size=len(X_train), verbose=0)\n",
    "        mae, avg_perc = error_func(sc, y_val, model.predict(X_val))\n",
    "        maes.append(mae)\n",
    "        perc.append(avg_perc)\n",
    "        print(\"MAE \" + str(i+1) + \" : \" + str(mae) + \"Avg perc error: \" + str(avg_perc))\n",
    "    print(\"Avg MAE: \" + str(sum(maes)/len(maes)) + \" avg percentage erro: \" + str(sum(perc)/len(perc)))"
   ]
  },
  {
   "cell_type": "code",
   "execution_count": 28,
   "metadata": {},
   "outputs": [
    {
     "name": "stdout",
     "output_type": "stream",
     "text": [
      "MAE 1 : 78424.6945805864Avg perc error: 0.14322472144463058\n",
      "MAE 2 : 77447.83255262549Avg perc error: 0.14408411764006937\n",
      "MAE 3 : 80003.89282796958Avg perc error: 0.14868674225637693\n",
      "MAE 4 : 80541.28988838769Avg perc error: 0.1466532575016918\n",
      "MAE 5 : 71942.10447027527Avg perc error: 0.14101258219152243\n",
      "Avg MAE: 77671.96286396889 avg percentage erro: 0.1447322842068582\n"
     ]
    }
   ],
   "source": [
    "main_nn()"
   ]
  },
  {
   "cell_type": "markdown",
   "metadata": {},
   "source": [
    "Średni błąd bezwzględny we wszystkich moich próbach wynosił od 75000 do 80000, a średni błąd precentowy od 12% do 15%"
   ]
  }
 ],
 "metadata": {
  "kernelspec": {
   "display_name": "Python 3",
   "language": "python",
   "name": "python3"
  },
  "language_info": {
   "codemirror_mode": {
    "name": "ipython",
    "version": 3
   },
   "file_extension": ".py",
   "mimetype": "text/x-python",
   "name": "python",
   "nbconvert_exporter": "python",
   "pygments_lexer": "ipython3",
   "version": "3.7.4"
  }
 },
 "nbformat": 4,
 "nbformat_minor": 4
}
