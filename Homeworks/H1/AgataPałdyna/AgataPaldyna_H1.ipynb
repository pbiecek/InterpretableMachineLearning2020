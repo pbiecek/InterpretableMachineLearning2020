{
 "cells": [
  {
   "cell_type": "markdown",
   "metadata": {},
   "source": [
    "---"
   ]
  },
  {
   "cell_type": "markdown",
   "metadata": {},
   "source": [
    "# IML - Homework 1"
   ]
  },
  {
   "cell_type": "markdown",
   "metadata": {},
   "source": [
    "### *Agata Pałdyna*"
   ]
  },
  {
   "cell_type": "markdown",
   "metadata": {},
   "source": [
    "---"
   ]
  },
  {
   "cell_type": "markdown",
   "metadata": {},
   "source": [
    "## Mushroom Classification"
   ]
  },
  {
   "cell_type": "markdown",
   "metadata": {},
   "source": [
    "---"
   ]
  },
  {
   "cell_type": "markdown",
   "metadata": {},
   "source": [
    "### Import packages"
   ]
  },
  {
   "cell_type": "code",
   "execution_count": 1,
   "metadata": {},
   "outputs": [],
   "source": [
    "import pandas as pd\n",
    "import numpy as np\n",
    "import matplotlib.pyplot as plt\n",
    "import pickle\n",
    "\n",
    "from sklearn.model_selection import train_test_split\n",
    "from sklearn.linear_model import LogisticRegression\n",
    "from sklearn import tree, svm\n",
    "from sklearn.ensemble import RandomForestClassifier, AdaBoostClassifier\n",
    "from sklearn.metrics import accuracy_score, precision_score, recall_score, f1_score, roc_auc_score"
   ]
  },
  {
   "cell_type": "markdown",
   "metadata": {},
   "source": [
    "---"
   ]
  },
  {
   "cell_type": "markdown",
   "metadata": {},
   "source": [
    "### Read data"
   ]
  },
  {
   "cell_type": "code",
   "execution_count": 2,
   "metadata": {},
   "outputs": [],
   "source": [
    "data = pd.read_csv(\".\\mushrooms.csv\")"
   ]
  },
  {
   "cell_type": "markdown",
   "metadata": {},
   "source": [
    "---"
   ]
  },
  {
   "cell_type": "markdown",
   "metadata": {},
   "source": [
    "### Explore data"
   ]
  },
  {
   "cell_type": "code",
   "execution_count": 3,
   "metadata": {},
   "outputs": [
    {
     "data": {
      "text/html": [
       "<div>\n",
       "<style scoped>\n",
       "    .dataframe tbody tr th:only-of-type {\n",
       "        vertical-align: middle;\n",
       "    }\n",
       "\n",
       "    .dataframe tbody tr th {\n",
       "        vertical-align: top;\n",
       "    }\n",
       "\n",
       "    .dataframe thead th {\n",
       "        text-align: right;\n",
       "    }\n",
       "</style>\n",
       "<table border=\"1\" class=\"dataframe\">\n",
       "  <thead>\n",
       "    <tr style=\"text-align: right;\">\n",
       "      <th></th>\n",
       "      <th>class</th>\n",
       "      <th>cap-shape</th>\n",
       "      <th>cap-surface</th>\n",
       "      <th>cap-color</th>\n",
       "      <th>bruises</th>\n",
       "      <th>odor</th>\n",
       "      <th>gill-attachment</th>\n",
       "      <th>gill-spacing</th>\n",
       "      <th>gill-size</th>\n",
       "      <th>gill-color</th>\n",
       "      <th>...</th>\n",
       "      <th>stalk-surface-below-ring</th>\n",
       "      <th>stalk-color-above-ring</th>\n",
       "      <th>stalk-color-below-ring</th>\n",
       "      <th>veil-type</th>\n",
       "      <th>veil-color</th>\n",
       "      <th>ring-number</th>\n",
       "      <th>ring-type</th>\n",
       "      <th>spore-print-color</th>\n",
       "      <th>population</th>\n",
       "      <th>habitat</th>\n",
       "    </tr>\n",
       "  </thead>\n",
       "  <tbody>\n",
       "    <tr>\n",
       "      <td>0</td>\n",
       "      <td>p</td>\n",
       "      <td>x</td>\n",
       "      <td>s</td>\n",
       "      <td>n</td>\n",
       "      <td>t</td>\n",
       "      <td>p</td>\n",
       "      <td>f</td>\n",
       "      <td>c</td>\n",
       "      <td>n</td>\n",
       "      <td>k</td>\n",
       "      <td>...</td>\n",
       "      <td>s</td>\n",
       "      <td>w</td>\n",
       "      <td>w</td>\n",
       "      <td>p</td>\n",
       "      <td>w</td>\n",
       "      <td>o</td>\n",
       "      <td>p</td>\n",
       "      <td>k</td>\n",
       "      <td>s</td>\n",
       "      <td>u</td>\n",
       "    </tr>\n",
       "    <tr>\n",
       "      <td>1</td>\n",
       "      <td>e</td>\n",
       "      <td>x</td>\n",
       "      <td>s</td>\n",
       "      <td>y</td>\n",
       "      <td>t</td>\n",
       "      <td>a</td>\n",
       "      <td>f</td>\n",
       "      <td>c</td>\n",
       "      <td>b</td>\n",
       "      <td>k</td>\n",
       "      <td>...</td>\n",
       "      <td>s</td>\n",
       "      <td>w</td>\n",
       "      <td>w</td>\n",
       "      <td>p</td>\n",
       "      <td>w</td>\n",
       "      <td>o</td>\n",
       "      <td>p</td>\n",
       "      <td>n</td>\n",
       "      <td>n</td>\n",
       "      <td>g</td>\n",
       "    </tr>\n",
       "    <tr>\n",
       "      <td>2</td>\n",
       "      <td>e</td>\n",
       "      <td>b</td>\n",
       "      <td>s</td>\n",
       "      <td>w</td>\n",
       "      <td>t</td>\n",
       "      <td>l</td>\n",
       "      <td>f</td>\n",
       "      <td>c</td>\n",
       "      <td>b</td>\n",
       "      <td>n</td>\n",
       "      <td>...</td>\n",
       "      <td>s</td>\n",
       "      <td>w</td>\n",
       "      <td>w</td>\n",
       "      <td>p</td>\n",
       "      <td>w</td>\n",
       "      <td>o</td>\n",
       "      <td>p</td>\n",
       "      <td>n</td>\n",
       "      <td>n</td>\n",
       "      <td>m</td>\n",
       "    </tr>\n",
       "    <tr>\n",
       "      <td>3</td>\n",
       "      <td>p</td>\n",
       "      <td>x</td>\n",
       "      <td>y</td>\n",
       "      <td>w</td>\n",
       "      <td>t</td>\n",
       "      <td>p</td>\n",
       "      <td>f</td>\n",
       "      <td>c</td>\n",
       "      <td>n</td>\n",
       "      <td>n</td>\n",
       "      <td>...</td>\n",
       "      <td>s</td>\n",
       "      <td>w</td>\n",
       "      <td>w</td>\n",
       "      <td>p</td>\n",
       "      <td>w</td>\n",
       "      <td>o</td>\n",
       "      <td>p</td>\n",
       "      <td>k</td>\n",
       "      <td>s</td>\n",
       "      <td>u</td>\n",
       "    </tr>\n",
       "    <tr>\n",
       "      <td>4</td>\n",
       "      <td>e</td>\n",
       "      <td>x</td>\n",
       "      <td>s</td>\n",
       "      <td>g</td>\n",
       "      <td>f</td>\n",
       "      <td>n</td>\n",
       "      <td>f</td>\n",
       "      <td>w</td>\n",
       "      <td>b</td>\n",
       "      <td>k</td>\n",
       "      <td>...</td>\n",
       "      <td>s</td>\n",
       "      <td>w</td>\n",
       "      <td>w</td>\n",
       "      <td>p</td>\n",
       "      <td>w</td>\n",
       "      <td>o</td>\n",
       "      <td>e</td>\n",
       "      <td>n</td>\n",
       "      <td>a</td>\n",
       "      <td>g</td>\n",
       "    </tr>\n",
       "  </tbody>\n",
       "</table>\n",
       "<p>5 rows × 23 columns</p>\n",
       "</div>"
      ],
      "text/plain": [
       "  class cap-shape cap-surface cap-color bruises odor gill-attachment  \\\n",
       "0     p         x           s         n       t    p               f   \n",
       "1     e         x           s         y       t    a               f   \n",
       "2     e         b           s         w       t    l               f   \n",
       "3     p         x           y         w       t    p               f   \n",
       "4     e         x           s         g       f    n               f   \n",
       "\n",
       "  gill-spacing gill-size gill-color  ... stalk-surface-below-ring  \\\n",
       "0            c         n          k  ...                        s   \n",
       "1            c         b          k  ...                        s   \n",
       "2            c         b          n  ...                        s   \n",
       "3            c         n          n  ...                        s   \n",
       "4            w         b          k  ...                        s   \n",
       "\n",
       "  stalk-color-above-ring stalk-color-below-ring veil-type veil-color  \\\n",
       "0                      w                      w         p          w   \n",
       "1                      w                      w         p          w   \n",
       "2                      w                      w         p          w   \n",
       "3                      w                      w         p          w   \n",
       "4                      w                      w         p          w   \n",
       "\n",
       "  ring-number ring-type spore-print-color population habitat  \n",
       "0           o         p                 k          s       u  \n",
       "1           o         p                 n          n       g  \n",
       "2           o         p                 n          n       m  \n",
       "3           o         p                 k          s       u  \n",
       "4           o         e                 n          a       g  \n",
       "\n",
       "[5 rows x 23 columns]"
      ]
     },
     "execution_count": 3,
     "metadata": {},
     "output_type": "execute_result"
    }
   ],
   "source": [
    "# First few rows of data\n",
    "data.head()"
   ]
  },
  {
   "cell_type": "code",
   "execution_count": 11,
   "metadata": {},
   "outputs": [
    {
     "data": {
      "text/plain": [
       "(8124, 22)"
      ]
     },
     "execution_count": 11,
     "metadata": {},
     "output_type": "execute_result"
    }
   ],
   "source": [
    "# Data dimensions\n",
    "data_shape = data.shape\n",
    "data_shape"
   ]
  },
  {
   "cell_type": "code",
   "execution_count": 4,
   "metadata": {},
   "outputs": [
    {
     "name": "stdout",
     "output_type": "stream",
     "text": [
      "<class 'pandas.core.frame.DataFrame'>\n",
      "RangeIndex: 8124 entries, 0 to 8123\n",
      "Data columns (total 23 columns):\n",
      "class                       8124 non-null object\n",
      "cap-shape                   8124 non-null object\n",
      "cap-surface                 8124 non-null object\n",
      "cap-color                   8124 non-null object\n",
      "bruises                     8124 non-null object\n",
      "odor                        8124 non-null object\n",
      "gill-attachment             8124 non-null object\n",
      "gill-spacing                8124 non-null object\n",
      "gill-size                   8124 non-null object\n",
      "gill-color                  8124 non-null object\n",
      "stalk-shape                 8124 non-null object\n",
      "stalk-root                  8124 non-null object\n",
      "stalk-surface-above-ring    8124 non-null object\n",
      "stalk-surface-below-ring    8124 non-null object\n",
      "stalk-color-above-ring      8124 non-null object\n",
      "stalk-color-below-ring      8124 non-null object\n",
      "veil-type                   8124 non-null object\n",
      "veil-color                  8124 non-null object\n",
      "ring-number                 8124 non-null object\n",
      "ring-type                   8124 non-null object\n",
      "spore-print-color           8124 non-null object\n",
      "population                  8124 non-null object\n",
      "habitat                     8124 non-null object\n",
      "dtypes: object(23)\n",
      "memory usage: 1.4+ MB\n"
     ]
    }
   ],
   "source": [
    "# Check variables' types and if there are any missing values\n",
    "data.info()"
   ]
  },
  {
   "cell_type": "code",
   "execution_count": null,
   "metadata": {},
   "outputs": [],
   "source": [
    "# There are no missing values :)"
   ]
  },
  {
   "cell_type": "code",
   "execution_count": null,
   "metadata": {},
   "outputs": [],
   "source": [
    "# All variables are character"
   ]
  },
  {
   "cell_type": "code",
   "execution_count": 5,
   "metadata": {},
   "outputs": [
    {
     "data": {
      "text/plain": [
       "gill-color                  12\n",
       "cap-color                   10\n",
       "spore-print-color            9\n",
       "odor                         9\n",
       "stalk-color-below-ring       9\n",
       "stalk-color-above-ring       9\n",
       "habitat                      7\n",
       "population                   6\n",
       "cap-shape                    6\n",
       "stalk-root                   5\n",
       "ring-type                    5\n",
       "stalk-surface-above-ring     4\n",
       "stalk-surface-below-ring     4\n",
       "veil-color                   4\n",
       "cap-surface                  4\n",
       "ring-number                  3\n",
       "stalk-shape                  2\n",
       "gill-size                    2\n",
       "gill-spacing                 2\n",
       "gill-attachment              2\n",
       "bruises                      2\n",
       "class                        2\n",
       "veil-type                    1\n",
       "dtype: int64"
      ]
     },
     "execution_count": 5,
     "metadata": {},
     "output_type": "execute_result"
    }
   ],
   "source": [
    "# Number of unique values in each variable\n",
    "data.nunique().sort_values(ascending = False)"
   ]
  },
  {
   "cell_type": "code",
   "execution_count": null,
   "metadata": {},
   "outputs": [],
   "source": [
    "# All variables are categorical"
   ]
  },
  {
   "cell_type": "code",
   "execution_count": 6,
   "metadata": {},
   "outputs": [],
   "source": [
    "# Variable 'veil-type' has only one value, so I won't use it \n",
    "data.drop([\"veil-type\"], axis = 1, inplace = True)"
   ]
  },
  {
   "cell_type": "code",
   "execution_count": 7,
   "metadata": {},
   "outputs": [
    {
     "data": {
      "text/html": [
       "<div>\n",
       "<style scoped>\n",
       "    .dataframe tbody tr th:only-of-type {\n",
       "        vertical-align: middle;\n",
       "    }\n",
       "\n",
       "    .dataframe tbody tr th {\n",
       "        vertical-align: top;\n",
       "    }\n",
       "\n",
       "    .dataframe thead th {\n",
       "        text-align: right;\n",
       "    }\n",
       "</style>\n",
       "<table border=\"1\" class=\"dataframe\">\n",
       "  <thead>\n",
       "    <tr style=\"text-align: right;\">\n",
       "      <th></th>\n",
       "      <th>class</th>\n",
       "      <th>cap-shape</th>\n",
       "      <th>cap-surface</th>\n",
       "      <th>cap-color</th>\n",
       "      <th>bruises</th>\n",
       "      <th>odor</th>\n",
       "      <th>gill-attachment</th>\n",
       "      <th>gill-spacing</th>\n",
       "      <th>gill-size</th>\n",
       "      <th>gill-color</th>\n",
       "      <th>...</th>\n",
       "      <th>stalk-surface-above-ring</th>\n",
       "      <th>stalk-surface-below-ring</th>\n",
       "      <th>stalk-color-above-ring</th>\n",
       "      <th>stalk-color-below-ring</th>\n",
       "      <th>veil-color</th>\n",
       "      <th>ring-number</th>\n",
       "      <th>ring-type</th>\n",
       "      <th>spore-print-color</th>\n",
       "      <th>population</th>\n",
       "      <th>habitat</th>\n",
       "    </tr>\n",
       "  </thead>\n",
       "  <tbody>\n",
       "    <tr>\n",
       "      <td>count</td>\n",
       "      <td>8124</td>\n",
       "      <td>8124</td>\n",
       "      <td>8124</td>\n",
       "      <td>8124</td>\n",
       "      <td>8124</td>\n",
       "      <td>8124</td>\n",
       "      <td>8124</td>\n",
       "      <td>8124</td>\n",
       "      <td>8124</td>\n",
       "      <td>8124</td>\n",
       "      <td>...</td>\n",
       "      <td>8124</td>\n",
       "      <td>8124</td>\n",
       "      <td>8124</td>\n",
       "      <td>8124</td>\n",
       "      <td>8124</td>\n",
       "      <td>8124</td>\n",
       "      <td>8124</td>\n",
       "      <td>8124</td>\n",
       "      <td>8124</td>\n",
       "      <td>8124</td>\n",
       "    </tr>\n",
       "    <tr>\n",
       "      <td>unique</td>\n",
       "      <td>2</td>\n",
       "      <td>6</td>\n",
       "      <td>4</td>\n",
       "      <td>10</td>\n",
       "      <td>2</td>\n",
       "      <td>9</td>\n",
       "      <td>2</td>\n",
       "      <td>2</td>\n",
       "      <td>2</td>\n",
       "      <td>12</td>\n",
       "      <td>...</td>\n",
       "      <td>4</td>\n",
       "      <td>4</td>\n",
       "      <td>9</td>\n",
       "      <td>9</td>\n",
       "      <td>4</td>\n",
       "      <td>3</td>\n",
       "      <td>5</td>\n",
       "      <td>9</td>\n",
       "      <td>6</td>\n",
       "      <td>7</td>\n",
       "    </tr>\n",
       "    <tr>\n",
       "      <td>top</td>\n",
       "      <td>e</td>\n",
       "      <td>x</td>\n",
       "      <td>y</td>\n",
       "      <td>n</td>\n",
       "      <td>f</td>\n",
       "      <td>n</td>\n",
       "      <td>f</td>\n",
       "      <td>c</td>\n",
       "      <td>b</td>\n",
       "      <td>b</td>\n",
       "      <td>...</td>\n",
       "      <td>s</td>\n",
       "      <td>s</td>\n",
       "      <td>w</td>\n",
       "      <td>w</td>\n",
       "      <td>w</td>\n",
       "      <td>o</td>\n",
       "      <td>p</td>\n",
       "      <td>w</td>\n",
       "      <td>v</td>\n",
       "      <td>d</td>\n",
       "    </tr>\n",
       "    <tr>\n",
       "      <td>freq</td>\n",
       "      <td>4208</td>\n",
       "      <td>3656</td>\n",
       "      <td>3244</td>\n",
       "      <td>2284</td>\n",
       "      <td>4748</td>\n",
       "      <td>3528</td>\n",
       "      <td>7914</td>\n",
       "      <td>6812</td>\n",
       "      <td>5612</td>\n",
       "      <td>1728</td>\n",
       "      <td>...</td>\n",
       "      <td>5176</td>\n",
       "      <td>4936</td>\n",
       "      <td>4464</td>\n",
       "      <td>4384</td>\n",
       "      <td>7924</td>\n",
       "      <td>7488</td>\n",
       "      <td>3968</td>\n",
       "      <td>2388</td>\n",
       "      <td>4040</td>\n",
       "      <td>3148</td>\n",
       "    </tr>\n",
       "  </tbody>\n",
       "</table>\n",
       "<p>4 rows × 22 columns</p>\n",
       "</div>"
      ],
      "text/plain": [
       "       class cap-shape cap-surface cap-color bruises  odor gill-attachment  \\\n",
       "count   8124      8124        8124      8124    8124  8124            8124   \n",
       "unique     2         6           4        10       2     9               2   \n",
       "top        e         x           y         n       f     n               f   \n",
       "freq    4208      3656        3244      2284    4748  3528            7914   \n",
       "\n",
       "       gill-spacing gill-size gill-color  ... stalk-surface-above-ring  \\\n",
       "count          8124      8124       8124  ...                     8124   \n",
       "unique            2         2         12  ...                        4   \n",
       "top               c         b          b  ...                        s   \n",
       "freq           6812      5612       1728  ...                     5176   \n",
       "\n",
       "       stalk-surface-below-ring stalk-color-above-ring stalk-color-below-ring  \\\n",
       "count                      8124                   8124                   8124   \n",
       "unique                        4                      9                      9   \n",
       "top                           s                      w                      w   \n",
       "freq                       4936                   4464                   4384   \n",
       "\n",
       "       veil-color ring-number ring-type spore-print-color population habitat  \n",
       "count        8124        8124      8124              8124       8124    8124  \n",
       "unique          4           3         5                 9          6       7  \n",
       "top             w           o         p                 w          v       d  \n",
       "freq         7924        7488      3968              2388       4040    3148  \n",
       "\n",
       "[4 rows x 22 columns]"
      ]
     },
     "execution_count": 7,
     "metadata": {},
     "output_type": "execute_result"
    }
   ],
   "source": [
    "# Check top value for each variable and its frequency\n",
    "data.describe()"
   ]
  },
  {
   "cell_type": "code",
   "execution_count": 8,
   "metadata": {},
   "outputs": [
    {
     "data": {
      "image/png": "[encoded data removed]",
      "text/plain": [
       "<Figure size 432x288 with 1 Axes>"
      ]
     },
     "metadata": {
      "needs_background": "light"
     },
     "output_type": "display_data"
    }
   ],
   "source": [
    "# Check histogram of 'class' variable values\n",
    "plt.hist(data[\"class\"])\n",
    "plt.show()"
   ]
  },
  {
   "cell_type": "code",
   "execution_count": 9,
   "metadata": {},
   "outputs": [
    {
     "data": {
      "text/plain": [
       "e    4208\n",
       "p    3916\n",
       "Name: class, dtype: int64"
      ]
     },
     "execution_count": 9,
     "metadata": {},
     "output_type": "execute_result"
    }
   ],
   "source": [
    "# Check class sizes\n",
    "class_counts = data[\"class\"].value_counts()\n",
    "class_counts"
   ]
  },
  {
   "cell_type": "code",
   "execution_count": 12,
   "metadata": {},
   "outputs": [
    {
     "name": "stdout",
     "output_type": "stream",
     "text": [
      "class = edible :  51.7971442639094 %\n",
      "class = poisonous :  48.2028557360906 %\n"
     ]
    }
   ],
   "source": [
    "# Check percentage of each class\n",
    "\n",
    "d = {\"e\": \"edible\", \"p\": \"poisonous\"}\n",
    "\n",
    "for item in d.items():\n",
    "    print(\"class =\", item[1], \": \", 100 * class_counts[item[0]] / data_shape[0], \"%\")"
   ]
  },
  {
   "cell_type": "code",
   "execution_count": null,
   "metadata": {},
   "outputs": [],
   "source": [
    "# Conclusion: classes are not unbalanced"
   ]
  },
  {
   "cell_type": "markdown",
   "metadata": {},
   "source": [
    "---"
   ]
  },
  {
   "cell_type": "markdown",
   "metadata": {},
   "source": [
    "### Divide data into features X and target y"
   ]
  },
  {
   "cell_type": "code",
   "execution_count": 13,
   "metadata": {},
   "outputs": [],
   "source": [
    "# Divide data into X and y\n",
    "X = data.drop([\"class\"], axis = 1)\n",
    "y = data[\"class\"]"
   ]
  },
  {
   "cell_type": "code",
   "execution_count": 14,
   "metadata": {},
   "outputs": [],
   "source": [
    "# Convert target to binary target: 1 - edible, 0 - poisonous\n",
    "y = pd.Series(np.where(y == \"e\", 1, 0))"
   ]
  },
  {
   "cell_type": "markdown",
   "metadata": {},
   "source": [
    "---"
   ]
  },
  {
   "cell_type": "markdown",
   "metadata": {},
   "source": [
    "### One - hot encoding"
   ]
  },
  {
   "cell_type": "code",
   "execution_count": null,
   "metadata": {},
   "outputs": [],
   "source": [
    "# Because all features are character, categorical and they are not ordered, I'm going to use one-hot encoding"
   ]
  },
  {
   "cell_type": "code",
   "execution_count": 15,
   "metadata": {},
   "outputs": [],
   "source": [
    "X = pd.get_dummies(X)"
   ]
  },
  {
   "cell_type": "code",
   "execution_count": 16,
   "metadata": {},
   "outputs": [
    {
     "data": {
      "text/html": [
       "<div>\n",
       "<style scoped>\n",
       "    .dataframe tbody tr th:only-of-type {\n",
       "        vertical-align: middle;\n",
       "    }\n",
       "\n",
       "    .dataframe tbody tr th {\n",
       "        vertical-align: top;\n",
       "    }\n",
       "\n",
       "    .dataframe thead th {\n",
       "        text-align: right;\n",
       "    }\n",
       "</style>\n",
       "<table border=\"1\" class=\"dataframe\">\n",
       "  <thead>\n",
       "    <tr style=\"text-align: right;\">\n",
       "      <th></th>\n",
       "      <th>cap-shape_b</th>\n",
       "      <th>cap-shape_c</th>\n",
       "      <th>cap-shape_f</th>\n",
       "      <th>cap-shape_k</th>\n",
       "      <th>cap-shape_s</th>\n",
       "      <th>cap-shape_x</th>\n",
       "      <th>cap-surface_f</th>\n",
       "      <th>cap-surface_g</th>\n",
       "      <th>cap-surface_s</th>\n",
       "      <th>cap-surface_y</th>\n",
       "      <th>...</th>\n",
       "      <th>population_s</th>\n",
       "      <th>population_v</th>\n",
       "      <th>population_y</th>\n",
       "      <th>habitat_d</th>\n",
       "      <th>habitat_g</th>\n",
       "      <th>habitat_l</th>\n",
       "      <th>habitat_m</th>\n",
       "      <th>habitat_p</th>\n",
       "      <th>habitat_u</th>\n",
       "      <th>habitat_w</th>\n",
       "    </tr>\n",
       "  </thead>\n",
       "  <tbody>\n",
       "    <tr>\n",
       "      <td>0</td>\n",
       "      <td>0</td>\n",
       "      <td>0</td>\n",
       "      <td>0</td>\n",
       "      <td>0</td>\n",
       "      <td>0</td>\n",
       "      <td>1</td>\n",
       "      <td>0</td>\n",
       "      <td>0</td>\n",
       "      <td>1</td>\n",
       "      <td>0</td>\n",
       "      <td>...</td>\n",
       "      <td>1</td>\n",
       "      <td>0</td>\n",
       "      <td>0</td>\n",
       "      <td>0</td>\n",
       "      <td>0</td>\n",
       "      <td>0</td>\n",
       "      <td>0</td>\n",
       "      <td>0</td>\n",
       "      <td>1</td>\n",
       "      <td>0</td>\n",
       "    </tr>\n",
       "    <tr>\n",
       "      <td>1</td>\n",
       "      <td>0</td>\n",
       "      <td>0</td>\n",
       "      <td>0</td>\n",
       "      <td>0</td>\n",
       "      <td>0</td>\n",
       "      <td>1</td>\n",
       "      <td>0</td>\n",
       "      <td>0</td>\n",
       "      <td>1</td>\n",
       "      <td>0</td>\n",
       "      <td>...</td>\n",
       "      <td>0</td>\n",
       "      <td>0</td>\n",
       "      <td>0</td>\n",
       "      <td>0</td>\n",
       "      <td>1</td>\n",
       "      <td>0</td>\n",
       "      <td>0</td>\n",
       "      <td>0</td>\n",
       "      <td>0</td>\n",
       "      <td>0</td>\n",
       "    </tr>\n",
       "    <tr>\n",
       "      <td>2</td>\n",
       "      <td>1</td>\n",
       "      <td>0</td>\n",
       "      <td>0</td>\n",
       "      <td>0</td>\n",
       "      <td>0</td>\n",
       "      <td>0</td>\n",
       "      <td>0</td>\n",
       "      <td>0</td>\n",
       "      <td>1</td>\n",
       "      <td>0</td>\n",
       "      <td>...</td>\n",
       "      <td>0</td>\n",
       "      <td>0</td>\n",
       "      <td>0</td>\n",
       "      <td>0</td>\n",
       "      <td>0</td>\n",
       "      <td>0</td>\n",
       "      <td>1</td>\n",
       "      <td>0</td>\n",
       "      <td>0</td>\n",
       "      <td>0</td>\n",
       "    </tr>\n",
       "    <tr>\n",
       "      <td>3</td>\n",
       "      <td>0</td>\n",
       "      <td>0</td>\n",
       "      <td>0</td>\n",
       "      <td>0</td>\n",
       "      <td>0</td>\n",
       "      <td>1</td>\n",
       "      <td>0</td>\n",
       "      <td>0</td>\n",
       "      <td>0</td>\n",
       "      <td>1</td>\n",
       "      <td>...</td>\n",
       "      <td>1</td>\n",
       "      <td>0</td>\n",
       "      <td>0</td>\n",
       "      <td>0</td>\n",
       "      <td>0</td>\n",
       "      <td>0</td>\n",
       "      <td>0</td>\n",
       "      <td>0</td>\n",
       "      <td>1</td>\n",
       "      <td>0</td>\n",
       "    </tr>\n",
       "    <tr>\n",
       "      <td>4</td>\n",
       "      <td>0</td>\n",
       "      <td>0</td>\n",
       "      <td>0</td>\n",
       "      <td>0</td>\n",
       "      <td>0</td>\n",
       "      <td>1</td>\n",
       "      <td>0</td>\n",
       "      <td>0</td>\n",
       "      <td>1</td>\n",
       "      <td>0</td>\n",
       "      <td>...</td>\n",
       "      <td>0</td>\n",
       "      <td>0</td>\n",
       "      <td>0</td>\n",
       "      <td>0</td>\n",
       "      <td>1</td>\n",
       "      <td>0</td>\n",
       "      <td>0</td>\n",
       "      <td>0</td>\n",
       "      <td>0</td>\n",
       "      <td>0</td>\n",
       "    </tr>\n",
       "  </tbody>\n",
       "</table>\n",
       "<p>5 rows × 116 columns</p>\n",
       "</div>"
      ],
      "text/plain": [
       "   cap-shape_b  cap-shape_c  cap-shape_f  cap-shape_k  cap-shape_s  \\\n",
       "0            0            0            0            0            0   \n",
       "1            0            0            0            0            0   \n",
       "2            1            0            0            0            0   \n",
       "3            0            0            0            0            0   \n",
       "4            0            0            0            0            0   \n",
       "\n",
       "   cap-shape_x  cap-surface_f  cap-surface_g  cap-surface_s  cap-surface_y  \\\n",
       "0            1              0              0              1              0   \n",
       "1            1              0              0              1              0   \n",
       "2            0              0              0              1              0   \n",
       "3            1              0              0              0              1   \n",
       "4            1              0              0              1              0   \n",
       "\n",
       "   ...  population_s  population_v  population_y  habitat_d  habitat_g  \\\n",
       "0  ...             1             0             0          0          0   \n",
       "1  ...             0             0             0          0          1   \n",
       "2  ...             0             0             0          0          0   \n",
       "3  ...             1             0             0          0          0   \n",
       "4  ...             0             0             0          0          1   \n",
       "\n",
       "   habitat_l  habitat_m  habitat_p  habitat_u  habitat_w  \n",
       "0          0          0          0          1          0  \n",
       "1          0          0          0          0          0  \n",
       "2          0          1          0          0          0  \n",
       "3          0          0          0          1          0  \n",
       "4          0          0          0          0          0  \n",
       "\n",
       "[5 rows x 116 columns]"
      ]
     },
     "execution_count": 16,
     "metadata": {},
     "output_type": "execute_result"
    }
   ],
   "source": [
    "X.head()"
   ]
  },
  {
   "cell_type": "code",
   "execution_count": 17,
   "metadata": {},
   "outputs": [
    {
     "data": {
      "text/plain": [
       "(8124, 116)"
      ]
     },
     "execution_count": 17,
     "metadata": {},
     "output_type": "execute_result"
    }
   ],
   "source": [
    "X.shape"
   ]
  },
  {
   "cell_type": "markdown",
   "metadata": {},
   "source": [
    "---"
   ]
  },
  {
   "cell_type": "markdown",
   "metadata": {},
   "source": [
    "### Check correlations"
   ]
  },
  {
   "cell_type": "code",
   "execution_count": 18,
   "metadata": {},
   "outputs": [],
   "source": [
    "pd.set_option(\"display.max_rows\", 116)"
   ]
  },
  {
   "cell_type": "code",
   "execution_count": 19,
   "metadata": {},
   "outputs": [
    {
     "data": {
      "text/html": [
       "<div>\n",
       "<style scoped>\n",
       "    .dataframe tbody tr th:only-of-type {\n",
       "        vertical-align: middle;\n",
       "    }\n",
       "\n",
       "    .dataframe tbody tr th {\n",
       "        vertical-align: top;\n",
       "    }\n",
       "\n",
       "    .dataframe thead th {\n",
       "        text-align: right;\n",
       "    }\n",
       "</style>\n",
       "<table border=\"1\" class=\"dataframe\">\n",
       "  <thead>\n",
       "    <tr style=\"text-align: right;\">\n",
       "      <th></th>\n",
       "      <th>corr</th>\n",
       "    </tr>\n",
       "  </thead>\n",
       "  <tbody>\n",
       "    <tr>\n",
       "      <td>odor_f</td>\n",
       "      <td>-0.623842</td>\n",
       "    </tr>\n",
       "    <tr>\n",
       "      <td>stalk-surface-above-ring_k</td>\n",
       "      <td>-0.587658</td>\n",
       "    </tr>\n",
       "    <tr>\n",
       "      <td>stalk-surface-below-ring_k</td>\n",
       "      <td>-0.573524</td>\n",
       "    </tr>\n",
       "    <tr>\n",
       "      <td>gill-size_n</td>\n",
       "      <td>-0.540024</td>\n",
       "    </tr>\n",
       "    <tr>\n",
       "      <td>gill-color_b</td>\n",
       "      <td>-0.538808</td>\n",
       "    </tr>\n",
       "    <tr>\n",
       "      <td>bruises_f</td>\n",
       "      <td>-0.501530</td>\n",
       "    </tr>\n",
       "    <tr>\n",
       "      <td>spore-print-color_h</td>\n",
       "      <td>-0.490229</td>\n",
       "    </tr>\n",
       "    <tr>\n",
       "      <td>ring-type_l</td>\n",
       "      <td>-0.451619</td>\n",
       "    </tr>\n",
       "    <tr>\n",
       "      <td>population_v</td>\n",
       "      <td>-0.443722</td>\n",
       "    </tr>\n",
       "    <tr>\n",
       "      <td>spore-print-color_w</td>\n",
       "      <td>-0.357384</td>\n",
       "    </tr>\n",
       "    <tr>\n",
       "      <td>gill-spacing_c</td>\n",
       "      <td>-0.348387</td>\n",
       "    </tr>\n",
       "    <tr>\n",
       "      <td>habitat_p</td>\n",
       "      <td>-0.323346</td>\n",
       "    </tr>\n",
       "    <tr>\n",
       "      <td>stalk-root_?</td>\n",
       "      <td>-0.302001</td>\n",
       "    </tr>\n",
       "    <tr>\n",
       "      <td>odor_y</td>\n",
       "      <td>-0.286360</td>\n",
       "    </tr>\n",
       "    <tr>\n",
       "      <td>odor_s</td>\n",
       "      <td>-0.286360</td>\n",
       "    </tr>\n",
       "    <tr>\n",
       "      <td>stalk-color-below-ring_b</td>\n",
       "      <td>-0.245662</td>\n",
       "    </tr>\n",
       "    <tr>\n",
       "      <td>stalk-color-above-ring_b</td>\n",
       "      <td>-0.245662</td>\n",
       "    </tr>\n",
       "    <tr>\n",
       "      <td>stalk-color-above-ring_n</td>\n",
       "      <td>-0.233164</td>\n",
       "    </tr>\n",
       "    <tr>\n",
       "      <td>stalk-color-above-ring_p</td>\n",
       "      <td>-0.230277</td>\n",
       "    </tr>\n",
       "    <tr>\n",
       "      <td>stalk-color-below-ring_p</td>\n",
       "      <td>-0.230277</td>\n",
       "    </tr>\n",
       "    <tr>\n",
       "      <td>ring-type_e</td>\n",
       "      <td>-0.223286</td>\n",
       "    </tr>\n",
       "    <tr>\n",
       "      <td>stalk-color-below-ring_n</td>\n",
       "      <td>-0.203966</td>\n",
       "    </tr>\n",
       "    <tr>\n",
       "      <td>odor_p</td>\n",
       "      <td>-0.186984</td>\n",
       "    </tr>\n",
       "    <tr>\n",
       "      <td>ring-number_o</td>\n",
       "      <td>-0.182101</td>\n",
       "    </tr>\n",
       "    <tr>\n",
       "      <td>cap-shape_k</td>\n",
       "      <td>-0.163565</td>\n",
       "    </tr>\n",
       "    <tr>\n",
       "      <td>odor_c</td>\n",
       "      <td>-0.161278</td>\n",
       "    </tr>\n",
       "    <tr>\n",
       "      <td>habitat_l</td>\n",
       "      <td>-0.155150</td>\n",
       "    </tr>\n",
       "    <tr>\n",
       "      <td>gill-color_h</td>\n",
       "      <td>-0.150694</td>\n",
       "    </tr>\n",
       "    <tr>\n",
       "      <td>veil-color_w</td>\n",
       "      <td>-0.140541</td>\n",
       "    </tr>\n",
       "    <tr>\n",
       "      <td>gill-attachment_f</td>\n",
       "      <td>-0.129200</td>\n",
       "    </tr>\n",
       "    <tr>\n",
       "      <td>gill-color_g</td>\n",
       "      <td>-0.120285</td>\n",
       "    </tr>\n",
       "    <tr>\n",
       "      <td>cap-color_y</td>\n",
       "      <td>-0.113014</td>\n",
       "    </tr>\n",
       "    <tr>\n",
       "      <td>habitat_u</td>\n",
       "      <td>-0.112078</td>\n",
       "    </tr>\n",
       "    <tr>\n",
       "      <td>stalk-shape_e</td>\n",
       "      <td>-0.102019</td>\n",
       "    </tr>\n",
       "    <tr>\n",
       "      <td>spore-print-color_r</td>\n",
       "      <td>-0.098024</td>\n",
       "    </tr>\n",
       "    <tr>\n",
       "      <td>cap-color_e</td>\n",
       "      <td>-0.097112</td>\n",
       "    </tr>\n",
       "    <tr>\n",
       "      <td>cap-surface_s</td>\n",
       "      <td>-0.095454</td>\n",
       "    </tr>\n",
       "    <tr>\n",
       "      <td>cap-surface_y</td>\n",
       "      <td>-0.088677</td>\n",
       "    </tr>\n",
       "    <tr>\n",
       "      <td>ring-number_n</td>\n",
       "      <td>-0.069159</td>\n",
       "    </tr>\n",
       "    <tr>\n",
       "      <td>stalk-color-below-ring_c</td>\n",
       "      <td>-0.069159</td>\n",
       "    </tr>\n",
       "    <tr>\n",
       "      <td>stalk-color-above-ring_c</td>\n",
       "      <td>-0.069159</td>\n",
       "    </tr>\n",
       "    <tr>\n",
       "      <td>ring-type_n</td>\n",
       "      <td>-0.069159</td>\n",
       "    </tr>\n",
       "    <tr>\n",
       "      <td>odor_m</td>\n",
       "      <td>-0.069159</td>\n",
       "    </tr>\n",
       "    <tr>\n",
       "      <td>cap-color_b</td>\n",
       "      <td>-0.067544</td>\n",
       "    </tr>\n",
       "    <tr>\n",
       "      <td>gill-color_r</td>\n",
       "      <td>-0.056426</td>\n",
       "    </tr>\n",
       "    <tr>\n",
       "      <td>stalk-color-below-ring_y</td>\n",
       "      <td>-0.056426</td>\n",
       "    </tr>\n",
       "    <tr>\n",
       "      <td>cap-color_p</td>\n",
       "      <td>-0.034702</td>\n",
       "    </tr>\n",
       "    <tr>\n",
       "      <td>stalk-color-above-ring_y</td>\n",
       "      <td>-0.032545</td>\n",
       "    </tr>\n",
       "    <tr>\n",
       "      <td>veil-color_y</td>\n",
       "      <td>-0.032545</td>\n",
       "    </tr>\n",
       "    <tr>\n",
       "      <td>cap-shape_c</td>\n",
       "      <td>-0.023007</td>\n",
       "    </tr>\n",
       "    <tr>\n",
       "      <td>cap-surface_g</td>\n",
       "      <td>-0.023007</td>\n",
       "    </tr>\n",
       "    <tr>\n",
       "      <td>cap-shape_f</td>\n",
       "      <td>-0.018526</td>\n",
       "    </tr>\n",
       "    <tr>\n",
       "      <td>stalk-root_b</td>\n",
       "      <td>-0.017712</td>\n",
       "    </tr>\n",
       "    <tr>\n",
       "      <td>stalk-surface-above-ring_y</td>\n",
       "      <td>0.016198</td>\n",
       "    </tr>\n",
       "    <tr>\n",
       "      <td>cap-shape_x</td>\n",
       "      <td>0.026886</td>\n",
       "    </tr>\n",
       "    <tr>\n",
       "      <td>cap-color_c</td>\n",
       "      <td>0.030910</td>\n",
       "    </tr>\n",
       "    <tr>\n",
       "      <td>cap-color_r</td>\n",
       "      <td>0.042854</td>\n",
       "    </tr>\n",
       "    <tr>\n",
       "      <td>cap-color_u</td>\n",
       "      <td>0.042854</td>\n",
       "    </tr>\n",
       "    <tr>\n",
       "      <td>cap-color_n</td>\n",
       "      <td>0.044360</td>\n",
       "    </tr>\n",
       "    <tr>\n",
       "      <td>cap-color_g</td>\n",
       "      <td>0.046456</td>\n",
       "    </tr>\n",
       "    <tr>\n",
       "      <td>gill-color_y</td>\n",
       "      <td>0.046828</td>\n",
       "    </tr>\n",
       "    <tr>\n",
       "      <td>gill-color_p</td>\n",
       "      <td>0.050380</td>\n",
       "    </tr>\n",
       "    <tr>\n",
       "      <td>cap-shape_s</td>\n",
       "      <td>0.060664</td>\n",
       "    </tr>\n",
       "    <tr>\n",
       "      <td>spore-print-color_u</td>\n",
       "      <td>0.074371</td>\n",
       "    </tr>\n",
       "    <tr>\n",
       "      <td>ring-type_f</td>\n",
       "      <td>0.074371</td>\n",
       "    </tr>\n",
       "    <tr>\n",
       "      <td>spore-print-color_y</td>\n",
       "      <td>0.074371</td>\n",
       "    </tr>\n",
       "    <tr>\n",
       "      <td>spore-print-color_b</td>\n",
       "      <td>0.074371</td>\n",
       "    </tr>\n",
       "    <tr>\n",
       "      <td>spore-print-color_o</td>\n",
       "      <td>0.074371</td>\n",
       "    </tr>\n",
       "    <tr>\n",
       "      <td>stalk-surface-below-ring_y</td>\n",
       "      <td>0.081674</td>\n",
       "    </tr>\n",
       "    <tr>\n",
       "      <td>gill-color_o</td>\n",
       "      <td>0.085962</td>\n",
       "    </tr>\n",
       "    <tr>\n",
       "      <td>stalk-shape_t</td>\n",
       "      <td>0.102019</td>\n",
       "    </tr>\n",
       "    <tr>\n",
       "      <td>gill-color_e</td>\n",
       "      <td>0.105491</td>\n",
       "    </tr>\n",
       "    <tr>\n",
       "      <td>stalk-color-above-ring_e</td>\n",
       "      <td>0.105491</td>\n",
       "    </tr>\n",
       "    <tr>\n",
       "      <td>veil-color_o</td>\n",
       "      <td>0.105491</td>\n",
       "    </tr>\n",
       "    <tr>\n",
       "      <td>stalk-color-below-ring_e</td>\n",
       "      <td>0.105491</td>\n",
       "    </tr>\n",
       "    <tr>\n",
       "      <td>veil-color_n</td>\n",
       "      <td>0.105491</td>\n",
       "    </tr>\n",
       "    <tr>\n",
       "      <td>population_y</td>\n",
       "      <td>0.107055</td>\n",
       "    </tr>\n",
       "    <tr>\n",
       "      <td>stalk-surface-above-ring_f</td>\n",
       "      <td>0.119503</td>\n",
       "    </tr>\n",
       "    <tr>\n",
       "      <td>habitat_d</td>\n",
       "      <td>0.126123</td>\n",
       "    </tr>\n",
       "    <tr>\n",
       "      <td>gill-attachment_a</td>\n",
       "      <td>0.129200</td>\n",
       "    </tr>\n",
       "    <tr>\n",
       "      <td>cap-color_w</td>\n",
       "      <td>0.133683</td>\n",
       "    </tr>\n",
       "    <tr>\n",
       "      <td>stalk-surface-below-ring_f</td>\n",
       "      <td>0.136782</td>\n",
       "    </tr>\n",
       "    <tr>\n",
       "      <td>population_c</td>\n",
       "      <td>0.137645</td>\n",
       "    </tr>\n",
       "    <tr>\n",
       "      <td>habitat_m</td>\n",
       "      <td>0.138627</td>\n",
       "    </tr>\n",
       "    <tr>\n",
       "      <td>gill-color_k</td>\n",
       "      <td>0.149641</td>\n",
       "    </tr>\n",
       "    <tr>\n",
       "      <td>stalk-root_r</td>\n",
       "      <td>0.150087</td>\n",
       "    </tr>\n",
       "    <tr>\n",
       "      <td>habitat_w</td>\n",
       "      <td>0.150087</td>\n",
       "    </tr>\n",
       "    <tr>\n",
       "      <td>stalk-color-below-ring_o</td>\n",
       "      <td>0.150087</td>\n",
       "    </tr>\n",
       "    <tr>\n",
       "      <td>stalk-color-above-ring_o</td>\n",
       "      <td>0.150087</td>\n",
       "    </tr>\n",
       "    <tr>\n",
       "      <td>population_s</td>\n",
       "      <td>0.159572</td>\n",
       "    </tr>\n",
       "    <tr>\n",
       "      <td>habitat_g</td>\n",
       "      <td>0.165004</td>\n",
       "    </tr>\n",
       "    <tr>\n",
       "      <td>cap-shape_b</td>\n",
       "      <td>0.182567</td>\n",
       "    </tr>\n",
       "    <tr>\n",
       "      <td>gill-color_u</td>\n",
       "      <td>0.195359</td>\n",
       "    </tr>\n",
       "    <tr>\n",
       "      <td>cap-surface_f</td>\n",
       "      <td>0.195415</td>\n",
       "    </tr>\n",
       "    <tr>\n",
       "      <td>stalk-root_e</td>\n",
       "      <td>0.202839</td>\n",
       "    </tr>\n",
       "    <tr>\n",
       "      <td>ring-number_t</td>\n",
       "      <td>0.204600</td>\n",
       "    </tr>\n",
       "    <tr>\n",
       "      <td>stalk-color-below-ring_w</td>\n",
       "      <td>0.214112</td>\n",
       "    </tr>\n",
       "    <tr>\n",
       "      <td>population_a</td>\n",
       "      <td>0.214871</td>\n",
       "    </tr>\n",
       "    <tr>\n",
       "      <td>stalk-color-above-ring_w</td>\n",
       "      <td>0.217740</td>\n",
       "    </tr>\n",
       "    <tr>\n",
       "      <td>stalk-root_c</td>\n",
       "      <td>0.218548</td>\n",
       "    </tr>\n",
       "    <tr>\n",
       "      <td>population_n</td>\n",
       "      <td>0.219529</td>\n",
       "    </tr>\n",
       "    <tr>\n",
       "      <td>odor_l</td>\n",
       "      <td>0.219529</td>\n",
       "    </tr>\n",
       "    <tr>\n",
       "      <td>odor_a</td>\n",
       "      <td>0.219529</td>\n",
       "    </tr>\n",
       "    <tr>\n",
       "      <td>gill-color_w</td>\n",
       "      <td>0.231316</td>\n",
       "    </tr>\n",
       "    <tr>\n",
       "      <td>stalk-color-above-ring_g</td>\n",
       "      <td>0.266489</td>\n",
       "    </tr>\n",
       "    <tr>\n",
       "      <td>stalk-color-below-ring_g</td>\n",
       "      <td>0.266489</td>\n",
       "    </tr>\n",
       "    <tr>\n",
       "      <td>gill-color_n</td>\n",
       "      <td>0.288943</td>\n",
       "    </tr>\n",
       "    <tr>\n",
       "      <td>gill-spacing_w</td>\n",
       "      <td>0.348387</td>\n",
       "    </tr>\n",
       "    <tr>\n",
       "      <td>spore-print-color_k</td>\n",
       "      <td>0.396832</td>\n",
       "    </tr>\n",
       "    <tr>\n",
       "      <td>spore-print-color_n</td>\n",
       "      <td>0.416645</td>\n",
       "    </tr>\n",
       "    <tr>\n",
       "      <td>stalk-surface-below-ring_s</td>\n",
       "      <td>0.425444</td>\n",
       "    </tr>\n",
       "    <tr>\n",
       "      <td>stalk-surface-above-ring_s</td>\n",
       "      <td>0.491314</td>\n",
       "    </tr>\n",
       "    <tr>\n",
       "      <td>bruises_t</td>\n",
       "      <td>0.501530</td>\n",
       "    </tr>\n",
       "    <tr>\n",
       "      <td>gill-size_b</td>\n",
       "      <td>0.540024</td>\n",
       "    </tr>\n",
       "    <tr>\n",
       "      <td>ring-type_p</td>\n",
       "      <td>0.540469</td>\n",
       "    </tr>\n",
       "    <tr>\n",
       "      <td>odor_n</td>\n",
       "      <td>0.785557</td>\n",
       "    </tr>\n",
       "  </tbody>\n",
       "</table>\n",
       "</div>"
      ],
      "text/plain": [
       "                                corr\n",
       "odor_f                     -0.623842\n",
       "stalk-surface-above-ring_k -0.587658\n",
       "stalk-surface-below-ring_k -0.573524\n",
       "gill-size_n                -0.540024\n",
       "gill-color_b               -0.538808\n",
       "bruises_f                  -0.501530\n",
       "spore-print-color_h        -0.490229\n",
       "ring-type_l                -0.451619\n",
       "population_v               -0.443722\n",
       "spore-print-color_w        -0.357384\n",
       "gill-spacing_c             -0.348387\n",
       "habitat_p                  -0.323346\n",
       "stalk-root_?               -0.302001\n",
       "odor_y                     -0.286360\n",
       "odor_s                     -0.286360\n",
       "stalk-color-below-ring_b   -0.245662\n",
       "stalk-color-above-ring_b   -0.245662\n",
       "stalk-color-above-ring_n   -0.233164\n",
       "stalk-color-above-ring_p   -0.230277\n",
       "stalk-color-below-ring_p   -0.230277\n",
       "ring-type_e                -0.223286\n",
       "stalk-color-below-ring_n   -0.203966\n",
       "odor_p                     -0.186984\n",
       "ring-number_o              -0.182101\n",
       "cap-shape_k                -0.163565\n",
       "odor_c                     -0.161278\n",
       "habitat_l                  -0.155150\n",
       "gill-color_h               -0.150694\n",
       "veil-color_w               -0.140541\n",
       "gill-attachment_f          -0.129200\n",
       "gill-color_g               -0.120285\n",
       "cap-color_y                -0.113014\n",
       "habitat_u                  -0.112078\n",
       "stalk-shape_e              -0.102019\n",
       "spore-print-color_r        -0.098024\n",
       "cap-color_e                -0.097112\n",
       "cap-surface_s              -0.095454\n",
       "cap-surface_y              -0.088677\n",
       "ring-number_n              -0.069159\n",
       "stalk-color-below-ring_c   -0.069159\n",
       "stalk-color-above-ring_c   -0.069159\n",
       "ring-type_n                -0.069159\n",
       "odor_m                     -0.069159\n",
       "cap-color_b                -0.067544\n",
       "gill-color_r               -0.056426\n",
       "stalk-color-below-ring_y   -0.056426\n",
       "cap-color_p                -0.034702\n",
       "stalk-color-above-ring_y   -0.032545\n",
       "veil-color_y               -0.032545\n",
       "cap-shape_c                -0.023007\n",
       "cap-surface_g              -0.023007\n",
       "cap-shape_f                -0.018526\n",
       "stalk-root_b               -0.017712\n",
       "stalk-surface-above-ring_y  0.016198\n",
       "cap-shape_x                 0.026886\n",
       "cap-color_c                 0.030910\n",
       "cap-color_r                 0.042854\n",
       "cap-color_u                 0.042854\n",
       "cap-color_n                 0.044360\n",
       "cap-color_g                 0.046456\n",
       "gill-color_y                0.046828\n",
       "gill-color_p                0.050380\n",
       "cap-shape_s                 0.060664\n",
       "spore-print-color_u         0.074371\n",
       "ring-type_f                 0.074371\n",
       "spore-print-color_y         0.074371\n",
       "spore-print-color_b         0.074371\n",
       "spore-print-color_o         0.074371\n",
       "stalk-surface-below-ring_y  0.081674\n",
       "gill-color_o                0.085962\n",
       "stalk-shape_t               0.102019\n",
       "gill-color_e                0.105491\n",
       "stalk-color-above-ring_e    0.105491\n",
       "veil-color_o                0.105491\n",
       "stalk-color-below-ring_e    0.105491\n",
       "veil-color_n                0.105491\n",
       "population_y                0.107055\n",
       "stalk-surface-above-ring_f  0.119503\n",
       "habitat_d                   0.126123\n",
       "gill-attachment_a           0.129200\n",
       "cap-color_w                 0.133683\n",
       "stalk-surface-below-ring_f  0.136782\n",
       "population_c                0.137645\n",
       "habitat_m                   0.138627\n",
       "gill-color_k                0.149641\n",
       "stalk-root_r                0.150087\n",
       "habitat_w                   0.150087\n",
       "stalk-color-below-ring_o    0.150087\n",
       "stalk-color-above-ring_o    0.150087\n",
       "population_s                0.159572\n",
       "habitat_g                   0.165004\n",
       "cap-shape_b                 0.182567\n",
       "gill-color_u                0.195359\n",
       "cap-surface_f               0.195415\n",
       "stalk-root_e                0.202839\n",
       "ring-number_t               0.204600\n",
       "stalk-color-below-ring_w    0.214112\n",
       "population_a                0.214871\n",
       "stalk-color-above-ring_w    0.217740\n",
       "stalk-root_c                0.218548\n",
       "population_n                0.219529\n",
       "odor_l                      0.219529\n",
       "odor_a                      0.219529\n",
       "gill-color_w                0.231316\n",
       "stalk-color-above-ring_g    0.266489\n",
       "stalk-color-below-ring_g    0.266489\n",
       "gill-color_n                0.288943\n",
       "gill-spacing_w              0.348387\n",
       "spore-print-color_k         0.396832\n",
       "spore-print-color_n         0.416645\n",
       "stalk-surface-below-ring_s  0.425444\n",
       "stalk-surface-above-ring_s  0.491314\n",
       "bruises_t                   0.501530\n",
       "gill-size_b                 0.540024\n",
       "ring-type_p                 0.540469\n",
       "odor_n                      0.785557"
      ]
     },
     "execution_count": 19,
     "metadata": {},
     "output_type": "execute_result"
    }
   ],
   "source": [
    "# Check correlation between features and target\n",
    "corr_X_y = pd.DataFrame(X.apply(lambda x: x.corr(y))).rename(columns = {0: \"corr\"})\n",
    "corr_X_y.sort_values(by = \"corr\")"
   ]
  },
  {
   "cell_type": "code",
   "execution_count": 20,
   "metadata": {},
   "outputs": [
    {
     "data": {
      "image/png": "[encoded data removed]",
      "text/plain": [
       "<Figure size 1440x576 with 1 Axes>"
      ]
     },
     "metadata": {
      "needs_background": "light"
     },
     "output_type": "display_data"
    }
   ],
   "source": [
    "# Plot of correlations\n",
    "x_vals = corr_X_y.index.values\n",
    "y_vals = corr_X_y[\"corr\"].values\n",
    "\n",
    "plt.figure(figsize = (20, 8))\n",
    "plt.bar(x_vals, y_vals)\n",
    "plt.xticks(rotation = \"vertical\")\n",
    "plt.title(\"Correlations between features and target\", size = 18)\n",
    "plt.xlabel(\"Features\", size = 16)\n",
    "plt.ylabel(\"Correlation\", size = 16)\n",
    "plt.show()"
   ]
  },
  {
   "cell_type": "code",
   "execution_count": 21,
   "metadata": {},
   "outputs": [
    {
     "data": {
      "text/html": [
       "<div>\n",
       "<style scoped>\n",
       "    .dataframe tbody tr th:only-of-type {\n",
       "        vertical-align: middle;\n",
       "    }\n",
       "\n",
       "    .dataframe tbody tr th {\n",
       "        vertical-align: top;\n",
       "    }\n",
       "\n",
       "    .dataframe thead th {\n",
       "        text-align: right;\n",
       "    }\n",
       "</style>\n",
       "<table border=\"1\" class=\"dataframe\">\n",
       "  <thead>\n",
       "    <tr style=\"text-align: right;\">\n",
       "      <th></th>\n",
       "      <th>corr</th>\n",
       "    </tr>\n",
       "  </thead>\n",
       "  <tbody>\n",
       "    <tr>\n",
       "      <td>count</td>\n",
       "      <td>116.000000</td>\n",
       "    </tr>\n",
       "    <tr>\n",
       "      <td>mean</td>\n",
       "      <td>0.005285</td>\n",
       "    </tr>\n",
       "    <tr>\n",
       "      <td>std</td>\n",
       "      <td>0.253692</td>\n",
       "    </tr>\n",
       "    <tr>\n",
       "      <td>min</td>\n",
       "      <td>-0.623842</td>\n",
       "    </tr>\n",
       "    <tr>\n",
       "      <td>25%</td>\n",
       "      <td>-0.132035</td>\n",
       "    </tr>\n",
       "    <tr>\n",
       "      <td>50%</td>\n",
       "      <td>0.043607</td>\n",
       "    </tr>\n",
       "    <tr>\n",
       "      <td>75%</td>\n",
       "      <td>0.150087</td>\n",
       "    </tr>\n",
       "    <tr>\n",
       "      <td>max</td>\n",
       "      <td>0.785557</td>\n",
       "    </tr>\n",
       "  </tbody>\n",
       "</table>\n",
       "</div>"
      ],
      "text/plain": [
       "             corr\n",
       "count  116.000000\n",
       "mean     0.005285\n",
       "std      0.253692\n",
       "min     -0.623842\n",
       "25%     -0.132035\n",
       "50%      0.043607\n",
       "75%      0.150087\n",
       "max      0.785557"
      ]
     },
     "execution_count": 21,
     "metadata": {},
     "output_type": "execute_result"
    }
   ],
   "source": [
    "# Check base statistics of correlations values\n",
    "corr_X_y.describe()"
   ]
  },
  {
   "cell_type": "code",
   "execution_count": 25,
   "metadata": {},
   "outputs": [
    {
     "data": {
      "text/plain": [
       "array(['odor_f', 'odor_n'], dtype=object)"
      ]
     },
     "execution_count": 25,
     "metadata": {},
     "output_type": "execute_result"
    }
   ],
   "source": [
    "# Most important features\n",
    "corr_X_y.query(\"corr >= 0.6 or corr <= -0.6\").index.values"
   ]
  },
  {
   "cell_type": "code",
   "execution_count": 26,
   "metadata": {},
   "outputs": [
    {
     "data": {
      "text/plain": [
       "array(['bruises_f', 'bruises_t', 'odor_f', 'odor_n', 'gill-size_b',\n",
       "       'gill-size_n', 'gill-color_b', 'stalk-surface-above-ring_k',\n",
       "       'stalk-surface-below-ring_k', 'ring-type_p'], dtype=object)"
      ]
     },
     "execution_count": 26,
     "metadata": {},
     "output_type": "execute_result"
    }
   ],
   "source": [
    "# Get names of variables with highest corr\n",
    "features_names_highest_corr = corr_X_y.query(\"corr >= 0.5 or corr <= -0.5\").index.values\n",
    "features_names_highest_corr"
   ]
  },
  {
   "cell_type": "markdown",
   "metadata": {},
   "source": [
    "---"
   ]
  },
  {
   "cell_type": "markdown",
   "metadata": {},
   "source": [
    "### Build some base models"
   ]
  },
  {
   "cell_type": "markdown",
   "metadata": {},
   "source": [
    "#### 1) on all variables"
   ]
  },
  {
   "cell_type": "code",
   "execution_count": 44,
   "metadata": {},
   "outputs": [
    {
     "name": "stdout",
     "output_type": "stream",
     "text": [
      "y_train\n",
      "0 : 2749 ,  48.346816742877245 %\n",
      "1 : 2937 ,  51.653183257122755 %\n",
      "\n",
      "\n",
      "y_test\n",
      "0 : 1167 ,  47.86710418375718 %\n",
      "1 : 1271 ,  52.13289581624282 %\n"
     ]
    }
   ],
   "source": [
    "# Split data into train and test\n",
    "X_train, X_test, y_train, y_test = train_test_split(X, y, test_size = 0.3, random_state = 123)\n",
    "\n",
    "\n",
    "# Check class sizes and percentage of each class\n",
    "\n",
    "print(\"y_train\")\n",
    "class_counts = y_train.value_counts()\n",
    "for i in range(0, 2):\n",
    "    print(i, \":\", class_counts[i], \", \", 100 * class_counts[i] / X_train.shape[0], \"%\")\n",
    "\n",
    "print(\"\\n\")\n",
    "\n",
    "print(\"y_test\")\n",
    "class_counts = y_test.value_counts()\n",
    "for i in range(0, 2):\n",
    "    print(i, \":\", class_counts[i], \", \", 100 * class_counts[i] / X_test.shape[0], \"%\")"
   ]
  },
  {
   "cell_type": "code",
   "execution_count": null,
   "metadata": {},
   "outputs": [],
   "source": [
    "# Classes still are not unbalanced"
   ]
  },
  {
   "cell_type": "code",
   "execution_count": null,
   "metadata": {},
   "outputs": [],
   "source": [
    "# Now I'm going to build some base models, i.e. models with default parameters values"
   ]
  },
  {
   "cell_type": "code",
   "execution_count": 39,
   "metadata": {},
   "outputs": [],
   "source": [
    "def model_prediction_accuracy(clf, X_train, X_test, y_train, y_test):\n",
    "    \"\"\"\n",
    "    Function trains given model with given train data, \n",
    "    makes prediction on given test data\n",
    "    and counts and prints measures Accuracy\n",
    "    \"\"\"\n",
    "    \n",
    "    clf = clf.fit(X_train, y_train)\n",
    "    y_pred = clf.predict(X_test)\n",
    "\n",
    "    print(\"Accuracy: \", accuracy_score(y_test, y_pred))\n",
    "    \n",
    "\n",
    "    \n",
    "def model_prediction_measures(clf, X_train, X_test, y_train, y_test):\n",
    "    \"\"\"\n",
    "    Function trains given model with given train data, \n",
    "    makes prediction on given test data\n",
    "    and counts and prints measures Acc, Prec, Recall, F1 and AUC\n",
    "    \"\"\"\n",
    "    \n",
    "    clf = clf.fit(X_train, y_train)\n",
    "    y_pred = clf.predict(X_test)\n",
    "\n",
    "    print(\"Accuracy: \", accuracy_score(y_test, y_pred))\n",
    "    print(\"Precision: \", precision_score(y_test, y_pred))\n",
    "    print(\"Recall: \", recall_score(y_test, y_pred))\n",
    "    print(\"F1: \", f1_score(y_test, y_pred))\n",
    "    print(\"AUC: \", roc_auc_score(y_test, y_pred))"
   ]
  },
  {
   "cell_type": "code",
   "execution_count": 56,
   "metadata": {},
   "outputs": [
    {
     "name": "stdout",
     "output_type": "stream",
     "text": [
      "Accuracy:  1.0\n",
      "Precision:  1.0\n",
      "Recall:  1.0\n",
      "F1:  1.0\n",
      "AUC:  1.0\n"
     ]
    },
    {
     "name": "stderr",
     "output_type": "stream",
     "text": [
      "C:\\Users\\aga71\\Anaconda3\\lib\\site-packages\\sklearn\\linear_model\\logistic.py:432: FutureWarning: Default solver will be changed to 'lbfgs' in 0.22. Specify a solver to silence this warning.\n",
      "  FutureWarning)\n"
     ]
    }
   ],
   "source": [
    "# Logistic regression\n",
    "clf_LR = LogisticRegression()\n",
    "model_prediction_measures(clf_LR, X_train, X_test, y_train, y_test)"
   ]
  },
  {
   "cell_type": "code",
   "execution_count": 47,
   "metadata": {},
   "outputs": [
    {
     "name": "stdout",
     "output_type": "stream",
     "text": [
      "Accuracy:  1.0\n",
      "Precision:  1.0\n",
      "Recall:  1.0\n",
      "F1:  1.0\n",
      "AUC:  1.0\n"
     ]
    }
   ],
   "source": [
    "# Decision Tree\n",
    "clf_DT = tree.DecisionTreeClassifier()\n",
    "model_prediction_measures(clf_DT, X_train, X_test, y_train, y_test)"
   ]
  },
  {
   "cell_type": "code",
   "execution_count": 48,
   "metadata": {},
   "outputs": [
    {
     "data": {
      "image/png": "[encoded data removed]",
      "text/plain": [
       "<Figure size 1440x864 with 1 Axes>"
      ]
     },
     "metadata": {
      "needs_background": "light"
     },
     "output_type": "display_data"
    }
   ],
   "source": [
    "# Plot tree\n",
    "plt.figure(figsize = (20, 12))\n",
    "tree.plot_tree(clf_DT) \n",
    "plt.show()"
   ]
  },
  {
   "cell_type": "code",
   "execution_count": 49,
   "metadata": {},
   "outputs": [
    {
     "name": "stdout",
     "output_type": "stream",
     "text": [
      "Accuracy:  1.0\n",
      "Precision:  1.0\n",
      "Recall:  1.0\n",
      "F1:  1.0\n",
      "AUC:  1.0\n"
     ]
    },
    {
     "name": "stderr",
     "output_type": "stream",
     "text": [
      "C:\\Users\\aga71\\Anaconda3\\lib\\site-packages\\sklearn\\ensemble\\forest.py:245: FutureWarning: The default value of n_estimators will change from 10 in version 0.20 to 100 in 0.22.\n",
      "  \"10 in version 0.20 to 100 in 0.22.\", FutureWarning)\n"
     ]
    }
   ],
   "source": [
    "# Random Forest\n",
    "clf_RF = RandomForestClassifier()\n",
    "model_prediction_measures(clf_RF, X_train, X_test, y_train, y_test)"
   ]
  },
  {
   "cell_type": "code",
   "execution_count": 50,
   "metadata": {},
   "outputs": [
    {
     "name": "stdout",
     "output_type": "stream",
     "text": [
      "Accuracy:  1.0\n",
      "Precision:  1.0\n",
      "Recall:  1.0\n",
      "F1:  1.0\n",
      "AUC:  1.0\n"
     ]
    }
   ],
   "source": [
    "# AdaBoost\n",
    "clf_AB = AdaBoostClassifier()\n",
    "model_prediction_measures(clf_AB, X_train, X_test, y_train, y_test)"
   ]
  },
  {
   "cell_type": "code",
   "execution_count": 51,
   "metadata": {},
   "outputs": [
    {
     "name": "stderr",
     "output_type": "stream",
     "text": [
      "C:\\Users\\aga71\\Anaconda3\\lib\\site-packages\\sklearn\\svm\\base.py:193: FutureWarning: The default value of gamma will change from 'auto' to 'scale' in version 0.22 to account better for unscaled features. Set gamma explicitly to 'auto' or 'scale' to avoid this warning.\n",
      "  \"avoid this warning.\", FutureWarning)\n"
     ]
    },
    {
     "name": "stdout",
     "output_type": "stream",
     "text": [
      "Accuracy:  0.9975389663658737\n",
      "Precision:  0.995301487862177\n",
      "Recall:  1.0\n",
      "F1:  0.9976452119309263\n",
      "AUC:  0.9974293059125964\n"
     ]
    }
   ],
   "source": [
    "# SVM\n",
    "clf_SVM = svm.SVC()\n",
    "model_prediction_measures(clf_SVM, X_train, X_test, y_train, y_test)"
   ]
  },
  {
   "cell_type": "code",
   "execution_count": null,
   "metadata": {},
   "outputs": [],
   "source": [
    "# Looking at measures values, all models seems to be good (the worst of them, but still good, is SVM)"
   ]
  },
  {
   "cell_type": "markdown",
   "metadata": {},
   "source": [
    "#### 2) on variables selected based on correlations"
   ]
  },
  {
   "cell_type": "code",
   "execution_count": 27,
   "metadata": {},
   "outputs": [
    {
     "name": "stdout",
     "output_type": "stream",
     "text": [
      "y_train\n",
      "0 : 2749 ,  48.346816742877245 %\n",
      "1 : 2937 ,  51.653183257122755 %\n",
      "\n",
      "\n",
      "y_test\n",
      "0 : 1167 ,  47.86710418375718 %\n",
      "1 : 1271 ,  52.13289581624282 %\n"
     ]
    }
   ],
   "source": [
    "# Split data into train and test\n",
    "X_train2, X_test2, y_train2, y_test2 = train_test_split(X[features_names_highest_corr], y, test_size = 0.3, random_state = 123)\n",
    "\n",
    "\n",
    "# Check class sizes and percentage of each class\n",
    "\n",
    "print(\"y_train\")\n",
    "class_counts = y_train2.value_counts()\n",
    "for i in range(0, 2):\n",
    "    print(i, \":\", class_counts[i], \", \", 100 * class_counts[i] / X_train2.shape[0], \"%\")\n",
    "\n",
    "print(\"\\n\")\n",
    "\n",
    "print(\"y_test\")\n",
    "class_counts = y_test2.value_counts()\n",
    "for i in range(0, 2):\n",
    "    print(i, \":\", class_counts[i], \", \", 100 * class_counts[i] / X_test2.shape[0], \"%\")"
   ]
  },
  {
   "cell_type": "code",
   "execution_count": 30,
   "metadata": {},
   "outputs": [
    {
     "name": "stdout",
     "output_type": "stream",
     "text": [
      "Accuracy:  0.9790812141099262\n",
      "Precision:  0.9773082942097027\n",
      "Recall:  0.982690794649882\n",
      "F1:  0.9799921537857983\n",
      "AUC:  0.9789203759024903\n"
     ]
    },
    {
     "name": "stderr",
     "output_type": "stream",
     "text": [
      "C:\\Users\\aga71\\Anaconda3\\lib\\site-packages\\sklearn\\linear_model\\logistic.py:432: FutureWarning: Default solver will be changed to 'lbfgs' in 0.22. Specify a solver to silence this warning.\n",
      "  FutureWarning)\n"
     ]
    }
   ],
   "source": [
    "# Logistic regression\n",
    "clf_LR2 = LogisticRegression()\n",
    "model_prediction_measures(clf_LR2, X_train2, X_test2, y_train2, y_test2)"
   ]
  },
  {
   "cell_type": "code",
   "execution_count": 31,
   "metadata": {},
   "outputs": [
    {
     "name": "stdout",
     "output_type": "stream",
     "text": [
      "Accuracy:  0.9807219031993437\n",
      "Precision:  0.9803767660910518\n",
      "Recall:  0.982690794649882\n",
      "F1:  0.9815324165029469\n",
      "AUC:  0.9806341719607593\n"
     ]
    }
   ],
   "source": [
    "# Decision Tree\n",
    "clf_DT2 = tree.DecisionTreeClassifier()\n",
    "model_prediction_measures(clf_DT2, X_train2, X_test2, y_train2, y_test2)"
   ]
  },
  {
   "cell_type": "code",
   "execution_count": 32,
   "metadata": {},
   "outputs": [
    {
     "data": {
      "image/png": "[encoded data removed]",
      "text/plain": [
       "<Figure size 1440x864 with 1 Axes>"
      ]
     },
     "metadata": {
      "needs_background": "light"
     },
     "output_type": "display_data"
    }
   ],
   "source": [
    "# Plot tree\n",
    "plt.figure(figsize = (20, 12))\n",
    "tree.plot_tree(clf_DT2) \n",
    "plt.show()"
   ]
  },
  {
   "cell_type": "code",
   "execution_count": 33,
   "metadata": {},
   "outputs": [
    {
     "name": "stdout",
     "output_type": "stream",
     "text": [
      "Accuracy:  0.9807219031993437\n",
      "Precision:  0.9803767660910518\n",
      "Recall:  0.982690794649882\n",
      "F1:  0.9815324165029469\n",
      "AUC:  0.9806341719607593\n"
     ]
    },
    {
     "name": "stderr",
     "output_type": "stream",
     "text": [
      "C:\\Users\\aga71\\Anaconda3\\lib\\site-packages\\sklearn\\ensemble\\forest.py:245: FutureWarning: The default value of n_estimators will change from 10 in version 0.20 to 100 in 0.22.\n",
      "  \"10 in version 0.20 to 100 in 0.22.\", FutureWarning)\n"
     ]
    }
   ],
   "source": [
    "# Random Forest\n",
    "clf_RF2 = RandomForestClassifier()\n",
    "model_prediction_measures(clf_RF2, X_train2, X_test2, y_train2, y_test2)"
   ]
  },
  {
   "cell_type": "code",
   "execution_count": 34,
   "metadata": {},
   "outputs": [
    {
     "name": "stdout",
     "output_type": "stream",
     "text": [
      "Accuracy:  0.9737489745693191\n",
      "Precision:  0.9674670797831139\n",
      "Recall:  0.982690794649882\n",
      "F1:  0.9750195160031225\n",
      "AUC:  0.9733505387131157\n"
     ]
    }
   ],
   "source": [
    "# AdaBoost\n",
    "clf_AB2 = AdaBoostClassifier()\n",
    "model_prediction_measures(clf_AB2, X_train2, X_test2, y_train2, y_test2)"
   ]
  },
  {
   "cell_type": "code",
   "execution_count": 35,
   "metadata": {},
   "outputs": [
    {
     "name": "stdout",
     "output_type": "stream",
     "text": [
      "Accuracy:  0.9745693191140279\n",
      "Precision:  0.9689681923972071\n",
      "Recall:  0.982690794649882\n",
      "F1:  0.97578125\n",
      "AUC:  0.9742074367422503\n",
      "Accuracy:  0.8785890073831009\n",
      "Precision:  0.9620853080568721\n",
      "Recall:  0.7985837922895358\n",
      "F1:  0.8727429062768701\n",
      "AUC:  0.8821539355620772\n"
     ]
    }
   ],
   "source": [
    "# AdaBoost\n",
    "# for x in [0.001, 0.01, 0.05, 0.074, 0.075, 0.08, 0.085, 0.09, 0.1]:   # tests of 'n_estimators' parameter => 14\n",
    "# for x in [0.001, 0.01, 0.05, 0.07, 0.074, 0.075, 0.08, 0.085, 0.09, 0.1]:   # tests of 'learing_rate' parameter => 0.074\n",
    "for x in ['SAMME.R', 'SAMME']:  # tests of 'algorithm' parameter => SAMME.R (default)\n",
    "    clf_AB2 = AdaBoostClassifier(n_estimators = 14, learning_rate = 0.074, algorithm = x)\n",
    "    model_prediction_measures(clf_AB2, X_train2, X_test2, y_train2, y_test2)"
   ]
  },
  {
   "cell_type": "code",
   "execution_count": 36,
   "metadata": {},
   "outputs": [
    {
     "name": "stdout",
     "output_type": "stream",
     "text": [
      "Accuracy:  0.9745693191140279\n",
      "Precision:  0.9689681923972071\n",
      "Recall:  0.982690794649882\n",
      "F1:  0.97578125\n",
      "AUC:  0.9742074367422503\n"
     ]
    }
   ],
   "source": [
    "# AdaBoost\n",
    "clf_AB2 = AdaBoostClassifier(n_estimators = 14, learning_rate = 0.074)\n",
    "model_prediction_measures(clf_AB2, X_train2, X_test2, y_train2, y_test2)"
   ]
  },
  {
   "cell_type": "code",
   "execution_count": 37,
   "metadata": {},
   "outputs": [
    {
     "name": "stderr",
     "output_type": "stream",
     "text": [
      "C:\\Users\\aga71\\Anaconda3\\lib\\site-packages\\sklearn\\svm\\base.py:193: FutureWarning: The default value of gamma will change from 'auto' to 'scale' in version 0.22 to account better for unscaled features. Set gamma explicitly to 'auto' or 'scale' to avoid this warning.\n",
      "  \"avoid this warning.\", FutureWarning)\n"
     ]
    },
    {
     "name": "stdout",
     "output_type": "stream",
     "text": [
      "Accuracy:  0.9807219031993437\n",
      "Precision:  0.9803767660910518\n",
      "Recall:  0.982690794649882\n",
      "F1:  0.9815324165029469\n",
      "AUC:  0.9806341719607593\n"
     ]
    }
   ],
   "source": [
    "# SVM\n",
    "clf_SVM2 = svm.SVC()\n",
    "model_prediction_measures(clf_SVM2, X_train2, X_test2, y_train2, y_test2)"
   ]
  },
  {
   "cell_type": "code",
   "execution_count": 38,
   "metadata": {},
   "outputs": [],
   "source": [
    "# Looking at measures values, all models are quite worse than these built on all variables,\n",
    "# but they still seems to be good (all measures are about 0.98)\n",
    "#\n",
    "# As we can see, models Decission Tree, Random Forest and SVM has the same values of measures"
   ]
  },
  {
   "cell_type": "markdown",
   "metadata": {},
   "source": [
    "---"
   ]
  },
  {
   "cell_type": "markdown",
   "metadata": {},
   "source": [
    "### Build a model"
   ]
  },
  {
   "cell_type": "code",
   "execution_count": null,
   "metadata": {},
   "outputs": [],
   "source": [
    "# It is quite strange that models built in previous section in point 1) has Accuracy, \n",
    "# Precision, Recall, etc., equal to 1. In my opinion it comes out suspicious \n",
    "# but I'm not sure where this result came from.\n",
    "# \n",
    "# Therefore, I will build model on variables selected based on correlations,\n",
    "# let it be Random Forest."
   ]
  },
  {
   "cell_type": "code",
   "execution_count": 52,
   "metadata": {},
   "outputs": [
    {
     "name": "stderr",
     "output_type": "stream",
     "text": [
      "C:\\Users\\aga71\\Anaconda3\\lib\\site-packages\\sklearn\\ensemble\\forest.py:245: FutureWarning: The default value of n_estimators will change from 10 in version 0.20 to 100 in 0.22.\n",
      "  \"10 in version 0.20 to 100 in 0.22.\", FutureWarning)\n",
      "C:\\Users\\aga71\\Anaconda3\\lib\\site-packages\\sklearn\\ensemble\\forest.py:245: FutureWarning: The default value of n_estimators will change from 10 in version 0.20 to 100 in 0.22.\n",
      "  \"10 in version 0.20 to 100 in 0.22.\", FutureWarning)\n",
      "C:\\Users\\aga71\\Anaconda3\\lib\\site-packages\\sklearn\\ensemble\\forest.py:245: FutureWarning: The default value of n_estimators will change from 10 in version 0.20 to 100 in 0.22.\n",
      "  \"10 in version 0.20 to 100 in 0.22.\", FutureWarning)\n",
      "C:\\Users\\aga71\\Anaconda3\\lib\\site-packages\\sklearn\\ensemble\\forest.py:245: FutureWarning: The default value of n_estimators will change from 10 in version 0.20 to 100 in 0.22.\n",
      "  \"10 in version 0.20 to 100 in 0.22.\", FutureWarning)\n",
      "C:\\Users\\aga71\\Anaconda3\\lib\\site-packages\\sklearn\\ensemble\\forest.py:245: FutureWarning: The default value of n_estimators will change from 10 in version 0.20 to 100 in 0.22.\n",
      "  \"10 in version 0.20 to 100 in 0.22.\", FutureWarning)\n",
      "C:\\Users\\aga71\\Anaconda3\\lib\\site-packages\\sklearn\\ensemble\\forest.py:245: FutureWarning: The default value of n_estimators will change from 10 in version 0.20 to 100 in 0.22.\n",
      "  \"10 in version 0.20 to 100 in 0.22.\", FutureWarning)\n"
     ]
    },
    {
     "name": "stdout",
     "output_type": "stream",
     "text": [
      "Accuracy:  0.9807219031993437\n",
      "Accuracy:  0.9762100082034455\n",
      "Accuracy:  0.9762100082034455\n",
      "Accuracy:  0.9745693191140279\n",
      "Accuracy:  0.9790812141099262\n",
      "Accuracy:  0.9790812141099262\n",
      "Accuracy:  0.9790812141099262\n",
      "Accuracy:  0.9745693191140279\n"
     ]
    },
    {
     "name": "stderr",
     "output_type": "stream",
     "text": [
      "C:\\Users\\aga71\\Anaconda3\\lib\\site-packages\\sklearn\\ensemble\\forest.py:245: FutureWarning: The default value of n_estimators will change from 10 in version 0.20 to 100 in 0.22.\n",
      "  \"10 in version 0.20 to 100 in 0.22.\", FutureWarning)\n",
      "C:\\Users\\aga71\\Anaconda3\\lib\\site-packages\\sklearn\\ensemble\\forest.py:245: FutureWarning: The default value of n_estimators will change from 10 in version 0.20 to 100 in 0.22.\n",
      "  \"10 in version 0.20 to 100 in 0.22.\", FutureWarning)\n"
     ]
    }
   ],
   "source": [
    "# Test parameters\n",
    "\n",
    "# for x in [1, 2, 3, 5, 8, 10, 15, 20, 30]:  # tests of 'n_estimators' parameter => Acc didn't change - let it be default\n",
    "# for x in [1, 2, 3, 4, 5, 8, 10, 15, 20, 30]:  # tests of 'max_depth' parameter => 4\n",
    "for x in [1, 2, 3, 4, 5, 8, 10, 15]:  # tests of 'min_samples_leaf' parameter => 1 (default)\n",
    "    clf = RandomForestClassifier(#n_estimators = x,  \n",
    "                                 max_depth = 4, \n",
    "                                 #min_samples_leaf = x, \n",
    "                                 random_state = 123)\n",
    "    model_prediction_accuracy(clf, X_train2, X_test2, y_train2, y_test2)"
   ]
  },
  {
   "cell_type": "code",
   "execution_count": 53,
   "metadata": {},
   "outputs": [
    {
     "name": "stderr",
     "output_type": "stream",
     "text": [
      "C:\\Users\\aga71\\Anaconda3\\lib\\site-packages\\sklearn\\ensemble\\forest.py:245: FutureWarning: The default value of n_estimators will change from 10 in version 0.20 to 100 in 0.22.\n",
      "  \"10 in version 0.20 to 100 in 0.22.\", FutureWarning)\n"
     ]
    }
   ],
   "source": [
    "# Train model\n",
    "clf = RandomForestClassifier(max_depth = 4, random_state = 123)\n",
    "clf = clf.fit(X, y)"
   ]
  },
  {
   "cell_type": "code",
   "execution_count": 54,
   "metadata": {},
   "outputs": [],
   "source": [
    "# Save traind model in file\n",
    "pickle.dump(clf, open(\".\\MushroomClassifier.pickle\", \"wb\"))"
   ]
  },
  {
   "cell_type": "markdown",
   "metadata": {},
   "source": [
    "---"
   ]
  }
 ],
 "metadata": {
  "kernelspec": {
   "display_name": "Python 3",
   "language": "python",
   "name": "python3"
  },
  "language_info": {
   "codemirror_mode": {
    "name": "ipython",
    "version": 3
   },
   "file_extension": ".py",
   "mimetype": "text/x-python",
   "name": "python",
   "nbconvert_exporter": "python",
   "pygments_lexer": "ipython3",
   "version": "3.7.4"
  }
 },
 "nbformat": 4,
 "nbformat_minor": 2
}
