{
 "cells": [
  {
   "cell_type": "code",
   "execution_count": 2,
   "metadata": {},
   "outputs": [],
   "source": [
    "import pandas as pd\n",
    "import numpy as np"
   ]
  },
  {
   "cell_type": "code",
   "execution_count": 3,
   "metadata": {},
   "outputs": [],
   "source": [
    "data = pd.read_csv('heloc_dataset_v1.csv')"
   ]
  },
  {
   "cell_type": "markdown",
   "metadata": {},
   "source": [
    "# Zakodowanie zmiennej celu jako 1/0"
   ]
  },
  {
   "cell_type": "code",
   "execution_count": 4,
   "metadata": {},
   "outputs": [],
   "source": [
    "data['RiskPerformance'] = np.where(data.RiskPerformance=='Bad',1,0)"
   ]
  },
  {
   "cell_type": "code",
   "execution_count": 5,
   "metadata": {},
   "outputs": [
    {
     "data": {
      "text/html": [
       "<div>\n",
       "<style scoped>\n",
       "    .dataframe tbody tr th:only-of-type {\n",
       "        vertical-align: middle;\n",
       "    }\n",
       "\n",
       "    .dataframe tbody tr th {\n",
       "        vertical-align: top;\n",
       "    }\n",
       "\n",
       "    .dataframe thead th {\n",
       "        text-align: right;\n",
       "    }\n",
       "</style>\n",
       "<table border=\"1\" class=\"dataframe\">\n",
       "  <thead>\n",
       "    <tr style=\"text-align: right;\">\n",
       "      <th></th>\n",
       "      <th>RiskPerformance</th>\n",
       "      <th>ExternalRiskEstimate</th>\n",
       "      <th>MSinceOldestTradeOpen</th>\n",
       "      <th>MSinceMostRecentTradeOpen</th>\n",
       "      <th>AverageMInFile</th>\n",
       "      <th>NumSatisfactoryTrades</th>\n",
       "      <th>NumTrades60Ever2DerogPubRec</th>\n",
       "      <th>NumTrades90Ever2DerogPubRec</th>\n",
       "      <th>PercentTradesNeverDelq</th>\n",
       "      <th>MSinceMostRecentDelq</th>\n",
       "      <th>...</th>\n",
       "      <th>PercentInstallTrades</th>\n",
       "      <th>MSinceMostRecentInqexcl7days</th>\n",
       "      <th>NumInqLast6M</th>\n",
       "      <th>NumInqLast6Mexcl7days</th>\n",
       "      <th>NetFractionRevolvingBurden</th>\n",
       "      <th>NetFractionInstallBurden</th>\n",
       "      <th>NumRevolvingTradesWBalance</th>\n",
       "      <th>NumInstallTradesWBalance</th>\n",
       "      <th>NumBank2NatlTradesWHighUtilization</th>\n",
       "      <th>PercentTradesWBalance</th>\n",
       "    </tr>\n",
       "  </thead>\n",
       "  <tbody>\n",
       "    <tr>\n",
       "      <td>0</td>\n",
       "      <td>1</td>\n",
       "      <td>55</td>\n",
       "      <td>144</td>\n",
       "      <td>4</td>\n",
       "      <td>84</td>\n",
       "      <td>20</td>\n",
       "      <td>3</td>\n",
       "      <td>0</td>\n",
       "      <td>83</td>\n",
       "      <td>2</td>\n",
       "      <td>...</td>\n",
       "      <td>43</td>\n",
       "      <td>0</td>\n",
       "      <td>0</td>\n",
       "      <td>0</td>\n",
       "      <td>33</td>\n",
       "      <td>-8</td>\n",
       "      <td>8</td>\n",
       "      <td>1</td>\n",
       "      <td>1</td>\n",
       "      <td>69</td>\n",
       "    </tr>\n",
       "    <tr>\n",
       "      <td>1</td>\n",
       "      <td>1</td>\n",
       "      <td>61</td>\n",
       "      <td>58</td>\n",
       "      <td>15</td>\n",
       "      <td>41</td>\n",
       "      <td>2</td>\n",
       "      <td>4</td>\n",
       "      <td>4</td>\n",
       "      <td>100</td>\n",
       "      <td>-7</td>\n",
       "      <td>...</td>\n",
       "      <td>67</td>\n",
       "      <td>0</td>\n",
       "      <td>0</td>\n",
       "      <td>0</td>\n",
       "      <td>0</td>\n",
       "      <td>-8</td>\n",
       "      <td>0</td>\n",
       "      <td>-8</td>\n",
       "      <td>-8</td>\n",
       "      <td>0</td>\n",
       "    </tr>\n",
       "  </tbody>\n",
       "</table>\n",
       "<p>2 rows × 24 columns</p>\n",
       "</div>"
      ],
      "text/plain": [
       "   RiskPerformance  ExternalRiskEstimate  MSinceOldestTradeOpen  \\\n",
       "0                1                    55                    144   \n",
       "1                1                    61                     58   \n",
       "\n",
       "   MSinceMostRecentTradeOpen  AverageMInFile  NumSatisfactoryTrades  \\\n",
       "0                          4              84                     20   \n",
       "1                         15              41                      2   \n",
       "\n",
       "   NumTrades60Ever2DerogPubRec  NumTrades90Ever2DerogPubRec  \\\n",
       "0                            3                            0   \n",
       "1                            4                            4   \n",
       "\n",
       "   PercentTradesNeverDelq  MSinceMostRecentDelq  ...  PercentInstallTrades  \\\n",
       "0                      83                     2  ...                    43   \n",
       "1                     100                    -7  ...                    67   \n",
       "\n",
       "   MSinceMostRecentInqexcl7days  NumInqLast6M  NumInqLast6Mexcl7days  \\\n",
       "0                             0             0                      0   \n",
       "1                             0             0                      0   \n",
       "\n",
       "   NetFractionRevolvingBurden  NetFractionInstallBurden  \\\n",
       "0                          33                        -8   \n",
       "1                           0                        -8   \n",
       "\n",
       "   NumRevolvingTradesWBalance  NumInstallTradesWBalance  \\\n",
       "0                           8                         1   \n",
       "1                           0                        -8   \n",
       "\n",
       "   NumBank2NatlTradesWHighUtilization  PercentTradesWBalance  \n",
       "0                                   1                     69  \n",
       "1                                  -8                      0  \n",
       "\n",
       "[2 rows x 24 columns]"
      ]
     },
     "execution_count": 5,
     "metadata": {},
     "output_type": "execute_result"
    }
   ],
   "source": [
    "data.head(2)"
   ]
  },
  {
   "cell_type": "code",
   "execution_count": 6,
   "metadata": {},
   "outputs": [
    {
     "data": {
      "text/plain": [
       "(10459, 24)"
      ]
     },
     "execution_count": 6,
     "metadata": {},
     "output_type": "execute_result"
    }
   ],
   "source": [
    "data.shape"
   ]
  },
  {
   "cell_type": "code",
   "execution_count": 7,
   "metadata": {},
   "outputs": [],
   "source": [
    "from sklearn.model_selection import train_test_split\n",
    "from sklearn.neighbors import KNeighborsClassifier\n",
    "from sklearn.svm import SVC\n",
    "from sklearn.gaussian_process import GaussianProcessClassifier\n",
    "from sklearn.gaussian_process.kernels import RBF\n",
    "from sklearn.tree import DecisionTreeClassifier\n",
    "from sklearn.ensemble import RandomForestClassifier, AdaBoostClassifier\n",
    "from sklearn.naive_bayes import GaussianNB\n",
    "from sklearn.discriminant_analysis import QuadraticDiscriminantAnalysis\n",
    "from sklearn.metrics import roc_auc_score, accuracy_score, f1_score, precision_score, recall_score"
   ]
  },
  {
   "cell_type": "code",
   "execution_count": 8,
   "metadata": {},
   "outputs": [],
   "source": [
    "from sklearn.feature_selection import SelectKBest"
   ]
  },
  {
   "cell_type": "markdown",
   "metadata": {},
   "source": [
    "# Podział na train/test"
   ]
  },
  {
   "cell_type": "code",
   "execution_count": 9,
   "metadata": {},
   "outputs": [],
   "source": [
    "X_train, X_test, y_train, y_test = \\\n",
    "train_test_split(data.drop('RiskPerformance', axis =1), data.RiskPerformance, test_size=.33, random_state=42)"
   ]
  },
  {
   "cell_type": "markdown",
   "metadata": {},
   "source": [
    "# Feature selection na podstawie ANOVA"
   ]
  },
  {
   "cell_type": "code",
   "execution_count": 10,
   "metadata": {},
   "outputs": [
    {
     "data": {
      "text/plain": [
       "array([[ 70, 153,   7, ...,   1,   1,  89],\n",
       "       [ 64, 103,   1, ...,   3,   2,  58],\n",
       "       [ 83, 210,   3, ...,   2,   0,  40],\n",
       "       ...,\n",
       "       [ 87, 230,   1, ...,   2,   0,  42],\n",
       "       [ 68, 132,   4, ...,   2,   0,  88],\n",
       "       [ 70, 130,   5, ...,   1,   0,  75]], dtype=int64)"
      ]
     },
     "execution_count": 10,
     "metadata": {},
     "output_type": "execute_result"
    }
   ],
   "source": [
    "seletor_f_classif = SelectKBest(k='all')\n",
    "seletor_f_classif.fit_transform(X_train, y_train)"
   ]
  },
  {
   "cell_type": "code",
   "execution_count": 11,
   "metadata": {},
   "outputs": [],
   "source": [
    "cols_f_classif = pd.DataFrame({\n",
    "    'column':X_train.columns, \n",
    "    'score': seletor_f_classif.scores_, \n",
    "    'p_value':seletor_f_classif.pvalues_\n",
    "}).sort_values('score', ascending = False)"
   ]
  },
  {
   "cell_type": "code",
   "execution_count": 12,
   "metadata": {},
   "outputs": [],
   "source": [
    "column_list = cols_f_classif.query(\"score>10\").column.values"
   ]
  },
  {
   "cell_type": "markdown",
   "metadata": {},
   "source": [
    "# Podział na train/test wybranych kolumn"
   ]
  },
  {
   "cell_type": "code",
   "execution_count": 14,
   "metadata": {},
   "outputs": [],
   "source": [
    "X_train, X_test, y_train, y_test = \\\n",
    "train_test_split(data[column_list], data.RiskPerformance, test_size=.33, random_state=42)"
   ]
  },
  {
   "cell_type": "markdown",
   "metadata": {},
   "source": [
    "## Analiza różnych algorytmów"
   ]
  },
  {
   "cell_type": "code",
   "execution_count": null,
   "metadata": {},
   "outputs": [],
   "source": [
    "names = [\"Nearest Neighbors\", \"Gaussian Process\",\n",
    "         \"Decision Tree\", \"Random Forest\",\"AdaBoost\",\n",
    "         \"Naive Bayes\", \"QDA\"]\n",
    "\n",
    "classifiers = [\n",
    "    KNeighborsClassifier(3),\n",
    "    GaussianProcessClassifier(1.0 * RBF(1.0)),\n",
    "    DecisionTreeClassifier(max_depth=4),\n",
    "    RandomForestClassifier(max_depth=4, n_estimators=10, max_features=1),\n",
    "    AdaBoostClassifier(),\n",
    "    GaussianNB(),\n",
    "    QuadraticDiscriminantAnalysis()]"
   ]
  },
  {
   "cell_type": "code",
   "execution_count": 30,
   "metadata": {},
   "outputs": [
    {
     "name": "stdout",
     "output_type": "stream",
     "text": [
      "Nearest Neighbors\n",
      " AUC =  66.87  ACC =  63.27  F1 =  65.34  Precision =  64.98  Recall =  65.7\n",
      "Gaussian Process\n",
      " AUC =  49.53  ACC =  58.49  F1 =  57.67  Precision =  62.32  Recall =  53.66\n",
      "Decision Tree\n",
      " AUC =  76.14  ACC =  70.16  F1 =  72.25  Precision =  70.84  Recall =  73.72\n",
      "Random Forest\n",
      " AUC =  75.66  ACC =  69.7  F1 =  72.73  Precision =  69.16  Recall =  76.69\n",
      "AdaBoost\n",
      " AUC =  78.48  ACC =  70.89  F1 =  73.14  Precision =  71.18  Recall =  75.21\n",
      "Naive Bayes\n",
      " AUC =  73.22  ACC =  65.99  F1 =  62.61  Precision =  74.41  Recall =  54.04\n",
      "QDA\n",
      " AUC =  73.75  ACC =  66.66  F1 =  65.9  Precision =  71.47  Recall =  61.13\n"
     ]
    }
   ],
   "source": [
    "for name, clf in zip(names, classifiers):\n",
    "    clf.fit(X_train, y_train)\n",
    "    y_pred = clf.predict_proba(X_test)[:,1]\n",
    "    y_pred2 = clf.predict(X_test)\n",
    "    print(name)\n",
    "    print(\" AUC = \",round(roc_auc_score( y_test, y_pred)*100,2),\n",
    "          \" ACC = \", round(accuracy_score( y_test, y_pred2)*100,2), \n",
    "          \" F1 = \", round(f1_score( y_test, y_pred2)*100,2), \n",
    "          \" Precision = \", round(precision_score( y_test, y_pred2)*100,2), \n",
    "          \" Recall = \", round(recall_score( y_test, y_pred2)*100,2))"
   ]
  },
  {
   "cell_type": "code",
   "execution_count": 15,
   "metadata": {},
   "outputs": [],
   "source": [
    "from xgboost import XGBClassifier"
   ]
  },
  {
   "cell_type": "code",
   "execution_count": 17,
   "metadata": {},
   "outputs": [
    {
     "name": "stdout",
     "output_type": "stream",
     "text": [
      "XGB\n",
      " AUC =  76.82  ACC =  70.22  F1 =  72.5  Precision =  70.61  Recall =  74.49\n"
     ]
    }
   ],
   "source": [
    "clf  = XGBClassifier()\n",
    "clf.fit(X_train, y_train)\n",
    "y_pred = clf.predict_proba(X_test)[:,1]\n",
    "y_pred2 = clf.predict(X_test)\n",
    "print('XGB')\n",
    "print(\" AUC = \",round(roc_auc_score( y_test, y_pred)*100,2),\n",
    "      \" ACC = \", round(accuracy_score( y_test, y_pred2)*100,2), \n",
    "      \" F1 = \", round(f1_score( y_test, y_pred2)*100,2), \n",
    "      \" Precision = \", round(precision_score( y_test, y_pred2)*100,2), \n",
    "      \" Recall = \", round(recall_score( y_test, y_pred2)*100,2))"
   ]
  },
  {
   "cell_type": "markdown",
   "metadata": {},
   "source": [
    "## Tuningowanie parametrów"
   ]
  },
  {
   "cell_type": "code",
   "execution_count": 23,
   "metadata": {},
   "outputs": [
    {
     "name": "stdout",
     "output_type": "stream",
     "text": [
      "n_estimators =  100  AUC =  78.49  ACC =  70.63  F1 =  72.82  Precision =  71.06  Recall =  74.66\n",
      "n_estimators =  150  AUC =  78.56  ACC =  70.68  F1 =  73.06  Precision =  70.83  Recall =  75.43\n",
      "n_estimators =  175  AUC =  78.54  ACC =  70.63  F1 =  72.96  Precision =  70.84  Recall =  75.21\n",
      "n_estimators =  200  AUC =  78.53  ACC =  70.63  F1 =  72.9  Precision =  70.93  Recall =  74.99\n",
      "n_estimators =  225  AUC =  78.37  ACC =  70.48  F1 =  72.78  Precision =  70.79  Recall =  74.88\n",
      "n_estimators =  250  AUC =  78.28  ACC =  70.54  F1 =  72.83  Precision =  70.84  Recall =  74.93\n"
     ]
    }
   ],
   "source": [
    "for x in [100,150,175,200,225,250]:\n",
    "    clf_win = AdaBoostClassifier(\n",
    "        n_estimators=x,\n",
    "        random_state=123\n",
    "    )\n",
    "    clf_win.fit(X_train, y_train)\n",
    "    y_pred = clf_win.predict_proba(X_test)[:,1]\n",
    "    y_pred2 = clf_win.predict(X_test)\n",
    "    print(\"n_estimators = \",x,\n",
    "          \" AUC = \",round(roc_auc_score( y_test, y_pred)*100,2),\n",
    "          \" ACC = \", round(accuracy_score( y_test, y_pred2)*100,2), \n",
    "          \" F1 = \", round(f1_score( y_test, y_pred2)*100,2), \n",
    "          \" Precision = \", round(precision_score( y_test, y_pred2)*100,2), \n",
    "          \" Recall = \", round(recall_score( y_test, y_pred2)*100,2))"
   ]
  },
  {
   "cell_type": "code",
   "execution_count": 26,
   "metadata": {},
   "outputs": [
    {
     "name": "stdout",
     "output_type": "stream",
     "text": [
      "learning_rate =  0.23  AUC =  78.82  ACC =  71.32  F1 =  73.7  Precision =  71.31  Recall =  76.25\n",
      "learning_rate =  0.24  AUC =  78.94  ACC =  71.49  F1 =  73.84  Precision =  71.49  Recall =  76.36\n",
      "learning_rate =  0.25  AUC =  78.94  ACC =  71.55  F1 =  73.87  Precision =  71.58  Recall =  76.31\n",
      "learning_rate =  0.26  AUC =  78.98  ACC =  71.55  F1 =  73.87  Precision =  71.58  Recall =  76.31\n",
      "learning_rate =  0.27  AUC =  78.97  ACC =  71.61  F1 =  73.91  Precision =  71.66  Recall =  76.31\n",
      "learning_rate =  0.28  AUC =  78.98  ACC =  71.38  F1 =  73.68  Precision =  71.47  Recall =  76.03\n",
      "learning_rate =  0.29  AUC =  78.86  ACC =  71.38  F1 =  73.72  Precision =  71.41  Recall =  76.2\n"
     ]
    }
   ],
   "source": [
    "for x in [0.23,0.24,0.25,0.26,.27,0.28,.29]:\n",
    "    clf_win = AdaBoostClassifier(\n",
    "        n_estimators=150,\n",
    "        learning_rate=x,\n",
    "        random_state=123\n",
    "    )\n",
    "    clf_win.fit(X_train, y_train)\n",
    "    y_pred = clf_win.predict_proba(X_test)[:,1]\n",
    "    y_pred2 = clf_win.predict(X_test)\n",
    "    print(\"learning_rate = \",x,\n",
    "          \" AUC = \",round(roc_auc_score( y_test, y_pred)*100,2),\n",
    "          \" ACC = \", round(accuracy_score( y_test, y_pred2)*100,2), \n",
    "          \" F1 = \", round(f1_score( y_test, y_pred2)*100,2), \n",
    "          \" Precision = \", round(precision_score( y_test, y_pred2)*100,2), \n",
    "          \" Recall = \", round(recall_score( y_test, y_pred2)*100,2))"
   ]
  },
  {
   "cell_type": "code",
   "execution_count": 27,
   "metadata": {},
   "outputs": [
    {
     "name": "stdout",
     "output_type": "stream",
     "text": [
      "algorithm =  SAMME  AUC =  77.86  ACC =  70.74  F1 =  73.29  Precision =  70.61  Recall =  76.2\n",
      "algorithm =  SAMME.R  AUC =  78.97  ACC =  71.61  F1 =  73.91  Precision =  71.66  Recall =  76.31\n"
     ]
    }
   ],
   "source": [
    "for x in ['SAMME', 'SAMME.R']:\n",
    "    clf_win = AdaBoostClassifier(\n",
    "        n_estimators=150,\n",
    "        learning_rate=0.27,\n",
    "        algorithm=x,\n",
    "        random_state=123\n",
    "    )\n",
    "    clf_win.fit(X_train, y_train)\n",
    "    y_pred = clf_win.predict_proba(X_test)[:,1]\n",
    "    y_pred2 = clf_win.predict(X_test)\n",
    "    print(\"algorithm = \",x,\n",
    "          \" AUC = \",round(roc_auc_score( y_test, y_pred)*100,2),\n",
    "          \" ACC = \", round(accuracy_score( y_test, y_pred2)*100,2), \n",
    "          \" F1 = \", round(f1_score( y_test, y_pred2)*100,2), \n",
    "          \" Precision = \", round(precision_score( y_test, y_pred2)*100,2), \n",
    "          \" Recall = \", round(recall_score( y_test, y_pred2)*100,2))"
   ]
  },
  {
   "cell_type": "code",
   "execution_count": 30,
   "metadata": {},
   "outputs": [
    {
     "name": "stdout",
     "output_type": "stream",
     "text": [
      "max_depth =  1  AUC =  78.97  ACC =  71.61  F1 =  73.91  Precision =  71.66  Recall =  76.31\n",
      "max_depth =  2  AUC =  77.9  ACC =  71.44  F1 =  73.75  Precision =  71.5  Recall =  76.14\n",
      "max_depth =  8  AUC =  75.34  ACC =  68.57  F1 =  71.35  Precision =  68.65  Recall =  74.27\n",
      "max_depth =  9  AUC =  75.47  ACC =  69.64  F1 =  72.46  Precision =  69.4  Recall =  75.81\n",
      "max_depth =  10  AUC =  76.55  ACC =  69.81  F1 =  72.62  Precision =  69.55  Recall =  75.98\n"
     ]
    }
   ],
   "source": [
    "for x in [1,2,8,9,10]:\n",
    "    clf_win = AdaBoostClassifier(\n",
    "        base_estimator = DecisionTreeClassifier(\n",
    "            max_depth=x,\n",
    "            random_state=123\n",
    "        ),\n",
    "        n_estimators=150,\n",
    "        learning_rate=0.27,\n",
    "        algorithm='SAMME.R',\n",
    "        random_state=123\n",
    "    )\n",
    "    clf_win.fit(X_train, y_train)\n",
    "    y_pred = clf_win.predict_proba(X_test)[:,1]\n",
    "    y_pred2 = clf_win.predict(X_test)\n",
    "    print(\"max_depth = \",x,\n",
    "          \" AUC = \",round(roc_auc_score( y_test, y_pred)*100,2),\n",
    "          \" ACC = \", round(accuracy_score( y_test, y_pred2)*100,2), \n",
    "          \" F1 = \", round(f1_score( y_test, y_pred2)*100,2), \n",
    "          \" Precision = \", round(precision_score( y_test, y_pred2)*100,2), \n",
    "          \" Recall = \", round(recall_score( y_test, y_pred2)*100,2))"
   ]
  },
  {
   "cell_type": "markdown",
   "metadata": {},
   "source": [
    "# Ostateczny model"
   ]
  },
  {
   "cell_type": "code",
   "execution_count": 14,
   "metadata": {},
   "outputs": [
    {
     "name": "stdout",
     "output_type": "stream",
     "text": [
      " AUC =  79.01  ACC =  71.32  F1 =  73.56  Precision =  71.53  Recall =  75.7\n"
     ]
    }
   ],
   "source": [
    "clf_win = AdaBoostClassifier(\n",
    "    base_estimator = DecisionTreeClassifier(\n",
    "        max_depth=1,\n",
    "        random_state=123\n",
    "    ),\n",
    "    n_estimators=150,\n",
    "    learning_rate=0.27,\n",
    "    algorithm='SAMME.R',\n",
    "    random_state=123\n",
    ")\n",
    "clf_win.fit(X_train, y_train)\n",
    "y_pred = clf_win.predict_proba(X_test)[:,1]\n",
    "y_pred2 = clf_win.predict(X_test)\n",
    "print(\" AUC = \",round(roc_auc_score( y_test, y_pred)*100,2),\n",
    "      \" ACC = \", round(accuracy_score( y_test, y_pred2)*100,2), \n",
    "      \" F1 = \", round(f1_score( y_test, y_pred2)*100,2), \n",
    "      \" Precision = \", round(precision_score( y_test, y_pred2)*100,2), \n",
    "      \" Recall = \", round(recall_score( y_test, y_pred2)*100,2))"
   ]
  }
 ],
 "metadata": {
  "kernelspec": {
   "display_name": "Python 3",
   "language": "python",
   "name": "python3"
  },
  "language_info": {
   "codemirror_mode": {
    "name": "ipython",
    "version": 3
   },
   "file_extension": ".py",
   "mimetype": "text/x-python",
   "name": "python",
   "nbconvert_exporter": "python",
   "pygments_lexer": "ipython3",
   "version": "3.7.4"
  }
 },
 "nbformat": 4,
 "nbformat_minor": 2
}
