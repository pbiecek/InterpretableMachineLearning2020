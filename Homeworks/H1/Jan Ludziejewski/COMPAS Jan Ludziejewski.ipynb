{
 "cells": [
  {
   "cell_type": "code",
   "execution_count": 1,
   "metadata": {},
   "outputs": [],
   "source": [
    "import pandas as pd \n",
    "import numpy as np\n",
    "import seaborn as sns\n",
    "from xgboost import XGBRegressor\n",
    "from sklearn.model_selection import cross_val_score, train_test_split\n",
    "from tensorflow.keras.models import Sequential \n",
    "from tensorflow.keras.layers import Dense, Activation \n",
    "pd_data = pd.read_csv(\"compas-analysis/compas-scores-two-years.csv\") "
   ]
  },
  {
   "cell_type": "markdown",
   "metadata": {},
   "source": [
    "### Playground to visualise distribiutions of some features"
   ]
  },
  {
   "cell_type": "code",
   "execution_count": 2,
   "metadata": {},
   "outputs": [
    {
     "data": {
      "image/png": "[encoded data removed]",
      "text/plain": [
       "<Figure size 432x288 with 1 Axes>"
      ]
     },
     "metadata": {
      "needs_background": "light"
     },
     "output_type": "display_data"
    }
   ],
   "source": [
    "ax = sns.countplot(pd_data.race, orient='v')"
   ]
  },
  {
   "cell_type": "markdown",
   "metadata": {},
   "source": [
    "### Selection of some features based on the article and intuition"
   ]
  },
  {
   "cell_type": "code",
   "execution_count": 3,
   "metadata": {},
   "outputs": [],
   "source": [
    "to_categorise = ['sex', 'vr_charge_desc', 'race', 'c_charge_degree']\n",
    "to_use = ['age','juv_fel_count', 'juv_misd_count', 'juv_other_count', 'priors_count', 'days_b_screening_arrest', 'c_days_from_compas', 'is_recid']\n",
    "y_name = 'decile_score'"
   ]
  },
  {
   "cell_type": "markdown",
   "metadata": {},
   "source": [
    "### Vectrorise the data"
   ]
  },
  {
   "cell_type": "code",
   "execution_count": 4,
   "metadata": {},
   "outputs": [],
   "source": [
    "def just_use(column):\n",
    "    return np.array(pd_data[column]).reshape(-1, 1), [column]"
   ]
  },
  {
   "cell_type": "code",
   "execution_count": 5,
   "metadata": {},
   "outputs": [],
   "source": [
    "def one_hot(column):\n",
    "    w = pd_data[column].value_counts()\n",
    "    allowed = list(w[w > 2].index)\n",
    "    convert = {name:i+1 for i, name in enumerate(allowed)}\n",
    "    names = [\"unknown_\" + column] + [column + \"_\" + x for x in allowed]\n",
    "    values = np.array([convert.get(v, 0) for v in pd_data[column]])\n",
    "    one_hot = np.zeros((len(values), len(names) + 1))\n",
    "    one_hot[np.arange(len(values)), values] = 1\n",
    "    return one_hot, names"
   ]
  },
  {
   "cell_type": "code",
   "execution_count": 6,
   "metadata": {},
   "outputs": [
    {
     "data": {
      "text/plain": [
       "((7214, 61),\n",
       " array([0.1, 0.3, 0.4, ..., 0.1, 0.2, 0.4]),\n",
       " array(['unknown_sex', 'sex_Male', 'sex_Female', 'unknown_vr_charge_desc',\n",
       "        'vr_charge_desc_Battery',\n",
       "        'vr_charge_desc_Felony Battery (Dom Strang)',\n",
       "        'vr_charge_desc_Battery on Law Enforc Officer',\n",
       "        'vr_charge_desc_Aggravated Assault W/Dead Weap',\n",
       "        'vr_charge_desc_Aggrav Battery w/Deadly Weapon',\n",
       "        'vr_charge_desc_Aggravated Battery / Pregnant',\n",
       "        'vr_charge_desc_Felony Battery w/Prior Convict',\n",
       "        'vr_charge_desc_Robbery / No Weapon',\n",
       "        'vr_charge_desc_Agg Battery Grt/Bod/Harm',\n",
       "        'vr_charge_desc_Assault',\n",
       "        'vr_charge_desc_Agg Fleeing/Eluding High Speed',\n",
       "        'vr_charge_desc_Robbery Sudd Snatch No Weapon',\n",
       "        'vr_charge_desc_Aggravated Assault w/Firearm',\n",
       "        'vr_charge_desc_Robbery W/Firearm', 'vr_charge_desc_Child Abuse',\n",
       "        'vr_charge_desc_Stalking (Aggravated)',\n",
       "        'vr_charge_desc_Burglary Dwelling Assault/Batt',\n",
       "        'vr_charge_desc_Throw Deadly Missile Into Veh',\n",
       "        'vr_charge_desc_Battery on a Person Over 65',\n",
       "        'vr_charge_desc_Agg Assault Law Enforc Officer',\n",
       "        'vr_charge_desc_Aggravated Battery',\n",
       "        'vr_charge_desc_Agg Fleeing and Eluding',\n",
       "        'vr_charge_desc_Sexual Battery / Vict 12 Yrs +',\n",
       "        'vr_charge_desc_Aggravated Assault W/dead Weap',\n",
       "        'vr_charge_desc_Attempted Robbery  No Weapon',\n",
       "        'vr_charge_desc_Murder in the First Degree',\n",
       "        'vr_charge_desc_Agg Assault W/int Com Fel Dome',\n",
       "        'vr_charge_desc_Burglary Dwelling Armed',\n",
       "        'vr_charge_desc_Felony Battery',\n",
       "        'vr_charge_desc_Assault On Law Enforc Officer',\n",
       "        'vr_charge_desc_Burglary With Assault/battery',\n",
       "        'vr_charge_desc_Threat Public Servant',\n",
       "        'vr_charge_desc_Felony Batt(Great Bodily Harm)',\n",
       "        'vr_charge_desc_Battery Upon Detainee',\n",
       "        'vr_charge_desc_Attempt Murder in the First Degree',\n",
       "        'unknown_race', 'race_African-American', 'race_Caucasian',\n",
       "        'race_Hispanic', 'race_Other', 'race_Asian',\n",
       "        'race_Native American', 'unknown_c_charge_degree',\n",
       "        'c_charge_degree_F', 'c_charge_degree_M', 'age', 'juv_fel_count',\n",
       "        'juv_misd_count', 'juv_other_count', 'priors_count',\n",
       "        'days_b_screening_arrest', 'c_days_from_compas', 'is_recid'],\n",
       "       dtype='<U49'))"
      ]
     },
     "execution_count": 6,
     "metadata": {},
     "output_type": "execute_result"
    }
   ],
   "source": [
    "vectorised = [one_hot(col) for col in to_categorise] + [just_use(col) for col in to_use]\n",
    "X = np.nan_to_num(np.concatenate([x[0] for x in vectorised], axis=1))\n",
    "names = np.concatenate([x[1] for x in vectorised])\n",
    "Y = np.array(pd_data[y_name])/10\n",
    "X.shape, Y, names"
   ]
  },
  {
   "cell_type": "code",
   "execution_count": 7,
   "metadata": {},
   "outputs": [],
   "source": [
    "X_train, X_test, Y_train, Y_test = train_test_split(X, Y, test_size=0.33)"
   ]
  },
  {
   "cell_type": "markdown",
   "metadata": {},
   "source": [
    "### Train logistic regression with keras"
   ]
  },
  {
   "cell_type": "code",
   "execution_count": 8,
   "metadata": {},
   "outputs": [],
   "source": [
    "output_dim = 1\n",
    "input_dim = X.shape[1]\n",
    "model = Sequential() \n",
    "model.add(Dense(output_dim, input_dim=input_dim, activation='sigmoid')) \n",
    "batch_size, epochs = 128, 20\n",
    "model.compile(optimizer='adam', loss='mean_squared_error') "
   ]
  },
  {
   "cell_type": "code",
   "execution_count": 9,
   "metadata": {},
   "outputs": [
    {
     "name": "stdout",
     "output_type": "stream",
     "text": [
      "Train on 4833 samples, validate on 2381 samples\n",
      "Epoch 1/20\n",
      "4833/4833 [==============================] - 0s 67us/sample - loss: 0.1600 - val_loss: 0.1182\n",
      "Epoch 2/20\n",
      "4833/4833 [==============================] - 0s 13us/sample - loss: 0.1179 - val_loss: 0.1138\n",
      "Epoch 3/20\n",
      "4833/4833 [==============================] - 0s 14us/sample - loss: 0.1159 - val_loss: 0.1127\n",
      "Epoch 4/20\n",
      "4833/4833 [==============================] - 0s 13us/sample - loss: 0.1141 - val_loss: 0.1113\n",
      "Epoch 5/20\n",
      "4833/4833 [==============================] - 0s 14us/sample - loss: 0.1128 - val_loss: 0.1098\n",
      "Epoch 6/20\n",
      "4833/4833 [==============================] - 0s 14us/sample - loss: 0.1118 - val_loss: 0.1087\n",
      "Epoch 7/20\n",
      "4833/4833 [==============================] - 0s 13us/sample - loss: 0.1104 - val_loss: 0.1075\n",
      "Epoch 8/20\n",
      "4833/4833 [==============================] - 0s 13us/sample - loss: 0.1091 - val_loss: 0.1061\n",
      "Epoch 9/20\n",
      "4833/4833 [==============================] - 0s 14us/sample - loss: 0.1078 - val_loss: 0.1047\n",
      "Epoch 10/20\n",
      "4833/4833 [==============================] - 0s 14us/sample - loss: 0.1058 - val_loss: 0.1028\n",
      "Epoch 11/20\n",
      "4833/4833 [==============================] - 0s 14us/sample - loss: 0.1033 - val_loss: 0.1000\n",
      "Epoch 12/20\n",
      "4833/4833 [==============================] - 0s 13us/sample - loss: 0.0991 - val_loss: 0.0943\n",
      "Epoch 13/20\n",
      "4833/4833 [==============================] - 0s 13us/sample - loss: 0.0826 - val_loss: 0.0529\n",
      "Epoch 14/20\n",
      "4833/4833 [==============================] - 0s 14us/sample - loss: 0.0517 - val_loss: 0.0543\n",
      "Epoch 15/20\n",
      "4833/4833 [==============================] - 0s 14us/sample - loss: 0.0471 - val_loss: 0.0525\n",
      "Epoch 16/20\n",
      "4833/4833 [==============================] - 0s 14us/sample - loss: 0.0476 - val_loss: 0.0478\n",
      "Epoch 17/20\n",
      "4833/4833 [==============================] - 0s 14us/sample - loss: 0.0458 - val_loss: 0.0488\n",
      "Epoch 18/20\n",
      "4833/4833 [==============================] - 0s 13us/sample - loss: 0.0445 - val_loss: 0.0456\n",
      "Epoch 19/20\n",
      "4833/4833 [==============================] - 0s 14us/sample - loss: 0.0453 - val_loss: 0.0454\n",
      "Epoch 20/20\n",
      "4833/4833 [==============================] - 0s 14us/sample - loss: 0.0443 - val_loss: 0.0453\n"
     ]
    },
    {
     "data": {
      "text/plain": [
       "0.045304582406935294"
      ]
     },
     "execution_count": 9,
     "metadata": {},
     "output_type": "execute_result"
    }
   ],
   "source": [
    "history = model.fit(X_train, Y_train, batch_size=batch_size, epochs=20, verbose=1, validation_data=(X_test, Y_test)) \n",
    "score = model.evaluate(X_test, Y_test, verbose=0) \n",
    "score"
   ]
  },
  {
   "cell_type": "markdown",
   "metadata": {},
   "source": [
    "### Score looks good, no need to add more layers or to train a different model"
   ]
  },
  {
   "cell_type": "code",
   "execution_count": null,
   "metadata": {},
   "outputs": [],
   "source": []
  }
 ],
 "metadata": {
  "kernelspec": {
   "display_name": "Python 3",
   "language": "python",
   "name": "python3"
  },
  "language_info": {
   "codemirror_mode": {
    "name": "ipython",
    "version": 3
   },
   "file_extension": ".py",
   "mimetype": "text/x-python",
   "name": "python",
   "nbconvert_exporter": "python",
   "pygments_lexer": "ipython3",
   "version": "3.6.9"
  }
 },
 "nbformat": 4,
 "nbformat_minor": 2
}
