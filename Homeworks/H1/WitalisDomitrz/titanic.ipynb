{
  "nbformat": 4,
  "nbformat_minor": 0,
  "metadata": {
    "colab": {
      "name": "titanic.ipynb",
      "provenance": [],
      "collapsed_sections": []
    },
    "kernelspec": {
      "name": "python3",
      "display_name": "Python 3"
    }
  },
  "cells": [
    {
      "cell_type": "markdown",
      "metadata": {
        "id": "QMSYI5kn9V69",
        "colab_type": "text"
      },
      "source": [
        "# Simple NN for survival prediction on the Titanic\n",
        "\n",
        "author: Witalis Domitrz <witekdomitrz@gmail.com>"
      ]
    },
    {
      "cell_type": "markdown",
      "metadata": {
        "id": "NLkKLWma9wWn",
        "colab_type": "text"
      },
      "source": [
        "## Downloading the data"
      ]
    },
    {
      "cell_type": "code",
      "metadata": {
        "id": "VzlvCzL3jIGM",
        "colab_type": "code",
        "outputId": "964030dc-494c-4e39-f00c-07269db879bd",
        "colab": {
          "base_uri": "https://localhost:8080/",
          "height": 298
        }
      },
      "source": [
        "!wget http://students.mimuw.edu.pl/~wd393711/iml/titanic.zip\n",
        "!unzip -o titanic.zip\n",
        "!rm titanic.zip"
      ],
      "execution_count": 1,
      "outputs": [
        {
          "output_type": "stream",
          "text": [
            "--2020-03-09 07:40:42--  http://students.mimuw.edu.pl/~wd393711/iml/titanic.zip\n",
            "Resolving students.mimuw.edu.pl (students.mimuw.edu.pl)... 193.0.96.129, 2001:6a0:5001:1::3\n",
            "Connecting to students.mimuw.edu.pl (students.mimuw.edu.pl)|193.0.96.129|:80... connected.\n",
            "HTTP request sent, awaiting response... 200 OK\n",
            "Length: 34877 (34K) [application/zip]\n",
            "Saving to: ‘titanic.zip’\n",
            "\n",
            "\rtitanic.zip           0%[                    ]       0  --.-KB/s               \rtitanic.zip         100%[===================>]  34.06K  --.-KB/s    in 0.1s    \n",
            "\n",
            "2020-03-09 07:40:42 (304 KB/s) - ‘titanic.zip’ saved [34877/34877]\n",
            "\n",
            "Archive:  titanic.zip\n",
            "  inflating: gender_submission.csv   \n",
            "  inflating: test.csv                \n",
            "  inflating: train.csv               \n"
          ],
          "name": "stdout"
        }
      ]
    },
    {
      "cell_type": "markdown",
      "metadata": {
        "id": "WGUsxBhT9zSc",
        "colab_type": "text"
      },
      "source": [
        "## Imports"
      ]
    },
    {
      "cell_type": "code",
      "metadata": {
        "id": "j9_AmuWwgifh",
        "colab_type": "code",
        "outputId": "9d1543cb-41dd-4033-a8e8-09a3cc67bae0",
        "colab": {
          "base_uri": "https://localhost:8080/",
          "height": 34
        }
      },
      "source": [
        "%tensorflow_version 2.x\n",
        "import numpy as np \n",
        "import pandas as pd\n",
        "import tensorflow.keras.layers as layers\n",
        "from tensorflow.keras.models import Sequential\n",
        "from tensorflow.keras.optimizers import Adadelta\n",
        "from tensorflow.keras.callbacks import Callback"
      ],
      "execution_count": 2,
      "outputs": [
        {
          "output_type": "stream",
          "text": [
            "TensorFlow 2.x selected.\n"
          ],
          "name": "stdout"
        }
      ]
    },
    {
      "cell_type": "markdown",
      "metadata": {
        "id": "izJSfphJ94V-",
        "colab_type": "text"
      },
      "source": [
        "## Prepare the data"
      ]
    },
    {
      "cell_type": "code",
      "metadata": {
        "id": "XVms9hm0r92r",
        "colab_type": "code",
        "colab": {}
      },
      "source": [
        "X_columns = ['Pclass', 'Sex', 'Age', 'SibSp', 'Parch', 'Fare', 'Embarked']\n",
        "Y_columns = ['Survived']\n",
        "\n",
        "def load_data(fn):\n",
        "    return pd.read_csv(fn).set_index('PassengerId')\n",
        "\n",
        "def to_array(data):\n",
        "    return pd.get_dummies(data).astype(dtype='float32').values\n",
        "\n",
        "def split_to_x_y(data):\n",
        "    return to_array(data[X_columns]), to_array(data[Y_columns])\n",
        "\n",
        "def get_data():\n",
        "    train = load_data('./train.csv')\n",
        "    test = load_data('./gender_submission.csv').join(load_data('./test.csv'))    \n",
        "\n",
        "    train['is_train'] = True\n",
        "    test['is_train'] = False\n",
        "    data = pd.concat([train, test])\n",
        "\n",
        "    # Replace missing values with mean\n",
        "    data.fillna(data.mean(), inplace=True)\n",
        "\n",
        "    # Split test and train\n",
        "    train = data[data['is_train']]\n",
        "    test = data[data['is_train'] == False]\n",
        "\n",
        "    return split_to_x_y(train), split_to_x_y(test)"
      ],
      "execution_count": 0,
      "outputs": []
    },
    {
      "cell_type": "code",
      "metadata": {
        "id": "wJStOTfynTPW",
        "colab_type": "code",
        "colab": {}
      },
      "source": [
        "(train_x, train_y), (test_x, test_y) = get_data()"
      ],
      "execution_count": 0,
      "outputs": []
    },
    {
      "cell_type": "markdown",
      "metadata": {
        "id": "0_lbDj9X9-kH",
        "colab_type": "text"
      },
      "source": [
        "## Create and train a model"
      ]
    },
    {
      "cell_type": "code",
      "metadata": {
        "id": "mygb3eW5lDXq",
        "colab_type": "code",
        "colab": {}
      },
      "source": [
        "def create_net():\n",
        "    model = Sequential()\n",
        "    for i in range(4):\n",
        "        model.add(layers.Dense(32, activation='relu'))\n",
        "        model.add(layers.BatchNormalization())\n",
        "        model.add(layers.Dense(24, activation='relu'))\n",
        "        model.add(layers.Dropout(0.5))\n",
        "        model.add(layers.BatchNormalization())\n",
        "    model.add(layers.Dense(1, activation='sigmoid'))\n",
        "    model.compile(loss='binary_crossentropy', optimizer = Adadelta(lr=1.), metrics = ['accuracy'])\n",
        "    return model"
      ],
      "execution_count": 0,
      "outputs": []
    },
    {
      "cell_type": "code",
      "metadata": {
        "id": "FhetoyGAxlG-",
        "colab_type": "code",
        "colab": {}
      },
      "source": [
        "model = create_net()\n",
        "batch_size = 256\n",
        "training_history = model.fit(train_x, train_y, epochs=512, verbose=0, batch_size=batch_size, validation_split=0.2)"
      ],
      "execution_count": 0,
      "outputs": []
    },
    {
      "cell_type": "markdown",
      "metadata": {
        "id": "dCXmb-7H-Ldr",
        "colab_type": "text"
      },
      "source": [
        "## Plot training statistics"
      ]
    },
    {
      "cell_type": "code",
      "metadata": {
        "id": "z5OUeZcS-Oqa",
        "colab_type": "code",
        "colab": {}
      },
      "source": [
        "import matplotlib.pyplot as plt\n",
        "\n",
        "def plot_history_info(history):\n",
        "    # get from variable \"history\"\n",
        "    acc = history.history['accuracy']\n",
        "    val_acc = history.history['val_accuracy']\n",
        "    loss = history.history['loss']\n",
        "    val_loss = history.history['val_loss']\n",
        "\n",
        "    epochs = history.epoch\n",
        "\n",
        "    plt.plot(epochs, acc, 'bo', label='Training acc')\n",
        "    plt.plot(epochs, val_acc, 'b', label='Validation acc')\n",
        "    plt.title('Training and validation accuracy')\n",
        "    plt.legend()\n",
        "    plt.figure()\n",
        "\n",
        "    plt.plot(epochs, loss, 'bo', label='Training loss')\n",
        "    plt.plot(epochs, val_loss, 'b', label='Validation loss')\n",
        "    plt.title('Training and validation loss')\n",
        "    plt.legend()\n",
        "    plt.show()"
      ],
      "execution_count": 0,
      "outputs": []
    },
    {
      "cell_type": "code",
      "metadata": {
        "colab_type": "code",
        "outputId": "b834637e-961e-4c9c-eb55-0c961842c07b",
        "id": "qzkyyNBs_OAU",
        "colab": {
          "base_uri": "https://localhost:8080/",
          "height": 545
        }
      },
      "source": [
        "plot_history_info(training_history)"
      ],
      "execution_count": 8,
      "outputs": [
        {
          "output_type": "display_data",
          "data": {
            "image/png": "[encoded data removed]",
            "text/plain": [
              "<Figure size 432x288 with 1 Axes>"
            ]
          },
          "metadata": {
            "tags": []
          }
        },
        {
          "output_type": "display_data",
          "data": {
            "image/png": "[encoded data removed]",
            "text/plain": [
              "<Figure size 432x288 with 1 Axes>"
            ]
          },
          "metadata": {
            "tags": []
          }
        }
      ]
    },
    {
      "cell_type": "markdown",
      "metadata": {
        "id": "Rb7mHjsR-Evs",
        "colab_type": "text"
      },
      "source": [
        "## Check the final accuracy"
      ]
    },
    {
      "cell_type": "code",
      "metadata": {
        "id": "a_K8KrVE0L5-",
        "colab_type": "code",
        "outputId": "69f697f0-e08c-4362-c506-c21bc80098b7",
        "colab": {
          "base_uri": "https://localhost:8080/",
          "height": 72
        }
      },
      "source": [
        "(test_loss, test_accuracy) = model.evaluate(test_x, test_y, batch_size=1)\n",
        "print(\"Test accuracy: {}\".format(test_accuracy))"
      ],
      "execution_count": 9,
      "outputs": [
        {
          "output_type": "stream",
          "text": [
            "418/418 [==============================] - 1s 2ms/sample - loss: 0.3123 - accuracy: 0.9019\n",
            "Test accuracy: 0.9019138813018799\n"
          ],
          "name": "stdout"
        }
      ]
    }
  ]
}