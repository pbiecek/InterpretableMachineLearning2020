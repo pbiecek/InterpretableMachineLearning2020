{
 "cells": [
  {
   "cell_type": "markdown",
   "metadata": {},
   "source": [
    "# Wyjaśnialne uczenie maszynowe – praca domowa 1"
   ]
  },
  {
   "cell_type": "markdown",
   "metadata": {},
   "source": [
    "### Katarzyna Koprowska"
   ]
  },
  {
   "cell_type": "code",
   "execution_count": 1,
   "metadata": {},
   "outputs": [],
   "source": [
    "import pandas as pd\n",
    "import numpy as np"
   ]
  },
  {
   "cell_type": "code",
   "execution_count": 2,
   "metadata": {},
   "outputs": [],
   "source": [
    "import warnings\n",
    "warnings.filterwarnings(\"ignore\")"
   ]
  },
  {
   "cell_type": "code",
   "execution_count": 3,
   "metadata": {},
   "outputs": [],
   "source": [
    "import matplotlib.pyplot as plt"
   ]
  },
  {
   "cell_type": "markdown",
   "metadata": {},
   "source": [
    "## Wczytanie danych"
   ]
  },
  {
   "cell_type": "markdown",
   "metadata": {},
   "source": [
    "Wykorzystanym zbirem danych jest Home Equity (HMEQ), zawierający informacje o 5960 klientach banku, którzy otrzymali kredyty hipoteczne.\n",
    "\n",
    "Na podstawie zbioru próbowałam przewidzieć prawdopodobieństwo **defaultu**, czyli faktu, że klient będzie zalegał z płatnościami – określa to binarna zmienna **BAD** (1 oznacza default). Pozostałe 12 zmiennych opisuje m.in. historię kredytową aplikującego, historię zawodową oraz charakterystyki obecnej pożyczki. \n",
    "\n",
    "Więcej informacji na temat danych można znaleźć pod linkiem https://www.kaggle.com/ajay1735/hmeq-data "
   ]
  },
  {
   "cell_type": "code",
   "execution_count": 4,
   "metadata": {},
   "outputs": [],
   "source": [
    "hmeq = pd.read_csv(\"hmeq.csv\", error_bad_lines=False)"
   ]
  },
  {
   "cell_type": "code",
   "execution_count": 5,
   "metadata": {},
   "outputs": [],
   "source": [
    "hmeq_info = {'BAD' : 'client defaulted on loan 0 = loan repaid',\n",
    "\"LOAN\" : \"Amount of the loan request\",\n",
    "\"MORTDUE\" : \"Amount due on existing mortgage\",\n",
    "\"VALUE\": \"Value of current property\",\n",
    "\"REASON\": \"DebtCon debt consolidation HomeImp = home improvement\",\n",
    "\"JOBS\" : \"occupational categories\",\n",
    "\"YOJ\": \"Years at present job\",\n",
    "\"DEROG\" : \"Number of major derogatory reports\",\n",
    "\"DELINQ\": \"Number of delinquent credit lines\",\n",
    "\"CLAGE\": \"Age of oldest trade line in months\",\n",
    "\"NINQ\": \"Number of recent credit lines\",\n",
    "\"CLNO\": \"Number of credit lines\",\n",
    "\"DEBTINC\" : \"Debt-to-income ratio\"}"
   ]
  },
  {
   "cell_type": "markdown",
   "metadata": {},
   "source": [
    "## Wstępna analiza danych"
   ]
  },
  {
   "cell_type": "code",
   "execution_count": 6,
   "metadata": {},
   "outputs": [
    {
     "data": {
      "text/plain": [
       "(5960, 13)"
      ]
     },
     "execution_count": 6,
     "metadata": {},
     "output_type": "execute_result"
    }
   ],
   "source": [
    "hmeq.shape"
   ]
  },
  {
   "cell_type": "code",
   "execution_count": 7,
   "metadata": {
    "scrolled": true
   },
   "outputs": [
    {
     "data": {
      "text/plain": [
       "BAD        0.000000\n",
       "LOAN       0.000000\n",
       "MORTDUE    0.086913\n",
       "VALUE      0.018792\n",
       "REASON     0.042282\n",
       "JOB        0.046812\n",
       "YOJ        0.086409\n",
       "DEROG      0.118792\n",
       "DELINQ     0.097315\n",
       "CLAGE      0.051678\n",
       "NINQ       0.085570\n",
       "CLNO       0.037248\n",
       "DEBTINC    0.212584\n",
       "dtype: float64"
      ]
     },
     "execution_count": 7,
     "metadata": {},
     "output_type": "execute_result"
    }
   ],
   "source": [
    "hmeq.isna().sum()/hmeq.shape[0]"
   ]
  },
  {
   "cell_type": "code",
   "execution_count": 8,
   "metadata": {},
   "outputs": [
    {
     "data": {
      "text/html": [
       "<div>\n",
       "<style scoped>\n",
       "    .dataframe tbody tr th:only-of-type {\n",
       "        vertical-align: middle;\n",
       "    }\n",
       "\n",
       "    .dataframe tbody tr th {\n",
       "        vertical-align: top;\n",
       "    }\n",
       "\n",
       "    .dataframe thead th {\n",
       "        text-align: right;\n",
       "    }\n",
       "</style>\n",
       "<table border=\"1\" class=\"dataframe\">\n",
       "  <thead>\n",
       "    <tr style=\"text-align: right;\">\n",
       "      <th></th>\n",
       "      <th>count</th>\n",
       "      <th>mean</th>\n",
       "      <th>std</th>\n",
       "      <th>min</th>\n",
       "      <th>25%</th>\n",
       "      <th>50%</th>\n",
       "      <th>75%</th>\n",
       "      <th>max</th>\n",
       "    </tr>\n",
       "  </thead>\n",
       "  <tbody>\n",
       "    <tr>\n",
       "      <th>BAD</th>\n",
       "      <td>5960.0</td>\n",
       "      <td>0.199497</td>\n",
       "      <td>0.399656</td>\n",
       "      <td>0.000000</td>\n",
       "      <td>0.000000</td>\n",
       "      <td>0.000000</td>\n",
       "      <td>0.000000</td>\n",
       "      <td>1.000000</td>\n",
       "    </tr>\n",
       "    <tr>\n",
       "      <th>LOAN</th>\n",
       "      <td>5960.0</td>\n",
       "      <td>18607.969799</td>\n",
       "      <td>11207.480417</td>\n",
       "      <td>1100.000000</td>\n",
       "      <td>11100.000000</td>\n",
       "      <td>16300.000000</td>\n",
       "      <td>23300.000000</td>\n",
       "      <td>89900.000000</td>\n",
       "    </tr>\n",
       "    <tr>\n",
       "      <th>MORTDUE</th>\n",
       "      <td>5442.0</td>\n",
       "      <td>73760.817200</td>\n",
       "      <td>44457.609458</td>\n",
       "      <td>2063.000000</td>\n",
       "      <td>46276.000000</td>\n",
       "      <td>65019.000000</td>\n",
       "      <td>91488.000000</td>\n",
       "      <td>399550.000000</td>\n",
       "    </tr>\n",
       "    <tr>\n",
       "      <th>VALUE</th>\n",
       "      <td>5848.0</td>\n",
       "      <td>101776.048741</td>\n",
       "      <td>57385.775334</td>\n",
       "      <td>8000.000000</td>\n",
       "      <td>66075.500000</td>\n",
       "      <td>89235.500000</td>\n",
       "      <td>119824.250000</td>\n",
       "      <td>855909.000000</td>\n",
       "    </tr>\n",
       "    <tr>\n",
       "      <th>YOJ</th>\n",
       "      <td>5445.0</td>\n",
       "      <td>8.922268</td>\n",
       "      <td>7.573982</td>\n",
       "      <td>0.000000</td>\n",
       "      <td>3.000000</td>\n",
       "      <td>7.000000</td>\n",
       "      <td>13.000000</td>\n",
       "      <td>41.000000</td>\n",
       "    </tr>\n",
       "    <tr>\n",
       "      <th>DEROG</th>\n",
       "      <td>5252.0</td>\n",
       "      <td>0.254570</td>\n",
       "      <td>0.846047</td>\n",
       "      <td>0.000000</td>\n",
       "      <td>0.000000</td>\n",
       "      <td>0.000000</td>\n",
       "      <td>0.000000</td>\n",
       "      <td>10.000000</td>\n",
       "    </tr>\n",
       "    <tr>\n",
       "      <th>DELINQ</th>\n",
       "      <td>5380.0</td>\n",
       "      <td>0.449442</td>\n",
       "      <td>1.127266</td>\n",
       "      <td>0.000000</td>\n",
       "      <td>0.000000</td>\n",
       "      <td>0.000000</td>\n",
       "      <td>0.000000</td>\n",
       "      <td>15.000000</td>\n",
       "    </tr>\n",
       "    <tr>\n",
       "      <th>CLAGE</th>\n",
       "      <td>5652.0</td>\n",
       "      <td>179.766275</td>\n",
       "      <td>85.810092</td>\n",
       "      <td>0.000000</td>\n",
       "      <td>115.116702</td>\n",
       "      <td>173.466667</td>\n",
       "      <td>231.562278</td>\n",
       "      <td>1168.233561</td>\n",
       "    </tr>\n",
       "    <tr>\n",
       "      <th>NINQ</th>\n",
       "      <td>5450.0</td>\n",
       "      <td>1.186055</td>\n",
       "      <td>1.728675</td>\n",
       "      <td>0.000000</td>\n",
       "      <td>0.000000</td>\n",
       "      <td>1.000000</td>\n",
       "      <td>2.000000</td>\n",
       "      <td>17.000000</td>\n",
       "    </tr>\n",
       "    <tr>\n",
       "      <th>CLNO</th>\n",
       "      <td>5738.0</td>\n",
       "      <td>21.296096</td>\n",
       "      <td>10.138933</td>\n",
       "      <td>0.000000</td>\n",
       "      <td>15.000000</td>\n",
       "      <td>20.000000</td>\n",
       "      <td>26.000000</td>\n",
       "      <td>71.000000</td>\n",
       "    </tr>\n",
       "    <tr>\n",
       "      <th>DEBTINC</th>\n",
       "      <td>4693.0</td>\n",
       "      <td>33.779915</td>\n",
       "      <td>8.601746</td>\n",
       "      <td>0.524499</td>\n",
       "      <td>29.140031</td>\n",
       "      <td>34.818262</td>\n",
       "      <td>39.003141</td>\n",
       "      <td>203.312149</td>\n",
       "    </tr>\n",
       "  </tbody>\n",
       "</table>\n",
       "</div>"
      ],
      "text/plain": [
       "          count           mean           std          min           25%  \\\n",
       "BAD      5960.0       0.199497      0.399656     0.000000      0.000000   \n",
       "LOAN     5960.0   18607.969799  11207.480417  1100.000000  11100.000000   \n",
       "MORTDUE  5442.0   73760.817200  44457.609458  2063.000000  46276.000000   \n",
       "VALUE    5848.0  101776.048741  57385.775334  8000.000000  66075.500000   \n",
       "YOJ      5445.0       8.922268      7.573982     0.000000      3.000000   \n",
       "DEROG    5252.0       0.254570      0.846047     0.000000      0.000000   \n",
       "DELINQ   5380.0       0.449442      1.127266     0.000000      0.000000   \n",
       "CLAGE    5652.0     179.766275     85.810092     0.000000    115.116702   \n",
       "NINQ     5450.0       1.186055      1.728675     0.000000      0.000000   \n",
       "CLNO     5738.0      21.296096     10.138933     0.000000     15.000000   \n",
       "DEBTINC  4693.0      33.779915      8.601746     0.524499     29.140031   \n",
       "\n",
       "                  50%            75%            max  \n",
       "BAD          0.000000       0.000000       1.000000  \n",
       "LOAN     16300.000000   23300.000000   89900.000000  \n",
       "MORTDUE  65019.000000   91488.000000  399550.000000  \n",
       "VALUE    89235.500000  119824.250000  855909.000000  \n",
       "YOJ          7.000000      13.000000      41.000000  \n",
       "DEROG        0.000000       0.000000      10.000000  \n",
       "DELINQ       0.000000       0.000000      15.000000  \n",
       "CLAGE      173.466667     231.562278    1168.233561  \n",
       "NINQ         1.000000       2.000000      17.000000  \n",
       "CLNO        20.000000      26.000000      71.000000  \n",
       "DEBTINC     34.818262      39.003141     203.312149  "
      ]
     },
     "execution_count": 8,
     "metadata": {},
     "output_type": "execute_result"
    }
   ],
   "source": [
    "hmeq.describe().T"
   ]
  },
  {
   "cell_type": "markdown",
   "metadata": {},
   "source": [
    "## Przekształcenie danych nienumerycznych na *dummy variables*"
   ]
  },
  {
   "cell_type": "code",
   "execution_count": 9,
   "metadata": {},
   "outputs": [
    {
     "data": {
      "text/plain": [
       "{'BAD': True,\n",
       " 'LOAN': True,\n",
       " 'MORTDUE': True,\n",
       " 'VALUE': True,\n",
       " 'REASON': False,\n",
       " 'JOB': False,\n",
       " 'YOJ': True,\n",
       " 'DEROG': True,\n",
       " 'DELINQ': True,\n",
       " 'CLAGE': True,\n",
       " 'NINQ': True,\n",
       " 'CLNO': True,\n",
       " 'DEBTINC': True}"
      ]
     },
     "execution_count": 9,
     "metadata": {},
     "output_type": "execute_result"
    }
   ],
   "source": [
    "from pandas.api.types import is_numeric_dtype\n",
    "{column : is_numeric_dtype(hmeq[column]) for column in hmeq.columns}"
   ]
  },
  {
   "cell_type": "code",
   "execution_count": 10,
   "metadata": {},
   "outputs": [
    {
     "data": {
      "text/plain": [
       "{'DebtCon', 'HomeImp', nan}"
      ]
     },
     "execution_count": 10,
     "metadata": {},
     "output_type": "execute_result"
    }
   ],
   "source": [
    "set(hmeq['REASON'])"
   ]
  },
  {
   "cell_type": "code",
   "execution_count": 11,
   "metadata": {},
   "outputs": [
    {
     "data": {
      "text/plain": [
       "{'Mgr', 'Office', 'Other', 'ProfExe', 'Sales', 'Self', nan}"
      ]
     },
     "execution_count": 11,
     "metadata": {},
     "output_type": "execute_result"
    }
   ],
   "source": [
    "set(hmeq['JOB'])"
   ]
  },
  {
   "cell_type": "code",
   "execution_count": 12,
   "metadata": {},
   "outputs": [],
   "source": [
    "hmeq = pd.concat([hmeq, pd.get_dummies(hmeq['REASON'], prefix='REASON', dummy_na=True)],axis=1)\n",
    "hmeq = pd.concat([hmeq, pd.get_dummies(hmeq['JOB'], prefix='JOB', dummy_na=True)],axis=1)\n",
    "hmeq.drop(['REASON', 'JOB'],axis=1, inplace=True)"
   ]
  },
  {
   "cell_type": "markdown",
   "metadata": {},
   "source": [
    "## Braki danych"
   ]
  },
  {
   "cell_type": "code",
   "execution_count": 13,
   "metadata": {
    "scrolled": true
   },
   "outputs": [
    {
     "data": {
      "text/plain": [
       "BAD                  0\n",
       "LOAN                 0\n",
       "MORTDUE            518\n",
       "VALUE              112\n",
       "YOJ                515\n",
       "DEROG              708\n",
       "DELINQ             580\n",
       "CLAGE              308\n",
       "NINQ               510\n",
       "CLNO               222\n",
       "DEBTINC           1267\n",
       "REASON_DebtCon       0\n",
       "REASON_HomeImp       0\n",
       "REASON_nan           0\n",
       "JOB_Mgr              0\n",
       "JOB_Office           0\n",
       "JOB_Other            0\n",
       "JOB_ProfExe          0\n",
       "JOB_Sales            0\n",
       "JOB_Self             0\n",
       "JOB_nan              0\n",
       "dtype: int64"
      ]
     },
     "execution_count": 13,
     "metadata": {},
     "output_type": "execute_result"
    }
   ],
   "source": [
    "hmeq.isna().sum()"
   ]
  },
  {
   "cell_type": "markdown",
   "metadata": {},
   "source": [
    "### Strategia 1 – uzupełnianie braków danych średnią"
   ]
  },
  {
   "cell_type": "code",
   "execution_count": 14,
   "metadata": {},
   "outputs": [],
   "source": [
    "from sklearn.impute import SimpleImputer"
   ]
  },
  {
   "cell_type": "code",
   "execution_count": 15,
   "metadata": {},
   "outputs": [],
   "source": [
    "imp_mean = SimpleImputer(missing_values=np.nan, strategy='mean')"
   ]
  },
  {
   "cell_type": "code",
   "execution_count": 16,
   "metadata": {},
   "outputs": [],
   "source": [
    "X = hmeq.iloc[:, 1:]\n",
    "y = hmeq.loc[:, \"BAD\"]"
   ]
  },
  {
   "cell_type": "code",
   "execution_count": 17,
   "metadata": {},
   "outputs": [],
   "source": [
    "from sklearn.model_selection import train_test_split\n",
    "X_train0, X_test0, y_train0, y_test0 = train_test_split(X, y, test_size=0.35, random_state=42)\n",
    "X_val0, X_test0, y_val0, y_test0 = train_test_split(X_test0, y_test0, test_size=0.6, random_state=42)"
   ]
  },
  {
   "cell_type": "code",
   "execution_count": 18,
   "metadata": {},
   "outputs": [],
   "source": [
    "X_train, X_val = imp_mean.fit_transform(X_train0), imp_mean.fit_transform(X_val0)\n",
    "y_train, y_val = y_train0, y_val0\n",
    "X_test0 = imp_mean.fit_transform(X_test0)"
   ]
  },
  {
   "cell_type": "code",
   "execution_count": 19,
   "metadata": {},
   "outputs": [],
   "source": [
    "from sklearn.metrics import accuracy_score, roc_auc_score"
   ]
  },
  {
   "cell_type": "code",
   "execution_count": 20,
   "metadata": {},
   "outputs": [],
   "source": [
    "metrics = [\"accuracy_train\", \"accuracy_test\", \"roc_auc_train\", \"roc_auc_test\"]"
   ]
  },
  {
   "cell_type": "markdown",
   "metadata": {},
   "source": [
    "## Pierwszy model - regresja logistyczna"
   ]
  },
  {
   "cell_type": "code",
   "execution_count": 21,
   "metadata": {},
   "outputs": [],
   "source": [
    "from sklearn.linear_model import LogisticRegression"
   ]
  },
  {
   "cell_type": "code",
   "execution_count": 22,
   "metadata": {},
   "outputs": [],
   "source": [
    "results_logreg = {metric : [] for metric in metrics}\n",
    "ind = list(range(15))\n",
    "for i in ind:\n",
    "    logreg = LogisticRegression(solver=\"liblinear\", random_state=42, intercept_scaling= 1+0.1*i).fit(X_train, y_train)\n",
    "    results_logreg[\"accuracy_train\"].append(accuracy_score(y_train, logreg.predict(X_train)))\n",
    "    results_logreg[\"accuracy_test\"].append(accuracy_score(y_val, logreg.predict(X_val)))\n",
    "    results_logreg[\"roc_auc_train\"].append(roc_auc_score(y_train, logreg.predict_proba(X_train)[:,1]))\n",
    "    results_logreg[\"roc_auc_test\"].append(roc_auc_score(y_val, logreg.predict_proba(X_val)[:,1]))"
   ]
  },
  {
   "cell_type": "code",
   "execution_count": 23,
   "metadata": {},
   "outputs": [
    {
     "data": {
      "text/html": [
       "<div>\n",
       "<style scoped>\n",
       "    .dataframe tbody tr th:only-of-type {\n",
       "        vertical-align: middle;\n",
       "    }\n",
       "\n",
       "    .dataframe tbody tr th {\n",
       "        vertical-align: top;\n",
       "    }\n",
       "\n",
       "    .dataframe thead th {\n",
       "        text-align: right;\n",
       "    }\n",
       "</style>\n",
       "<table border=\"1\" class=\"dataframe\">\n",
       "  <thead>\n",
       "    <tr style=\"text-align: right;\">\n",
       "      <th></th>\n",
       "      <th>accuracy_train</th>\n",
       "      <th>accuracy_test</th>\n",
       "      <th>roc_auc_train</th>\n",
       "      <th>roc_auc_test</th>\n",
       "    </tr>\n",
       "  </thead>\n",
       "  <tbody>\n",
       "    <tr>\n",
       "      <th>0</th>\n",
       "      <td>0.809241</td>\n",
       "      <td>0.767386</td>\n",
       "      <td>0.667596</td>\n",
       "      <td>0.683054</td>\n",
       "    </tr>\n",
       "    <tr>\n",
       "      <th>1</th>\n",
       "      <td>0.808209</td>\n",
       "      <td>0.763789</td>\n",
       "      <td>0.644486</td>\n",
       "      <td>0.664232</td>\n",
       "    </tr>\n",
       "    <tr>\n",
       "      <th>2</th>\n",
       "      <td>0.808209</td>\n",
       "      <td>0.763789</td>\n",
       "      <td>0.644487</td>\n",
       "      <td>0.664232</td>\n",
       "    </tr>\n",
       "    <tr>\n",
       "      <th>3</th>\n",
       "      <td>0.808209</td>\n",
       "      <td>0.763789</td>\n",
       "      <td>0.644487</td>\n",
       "      <td>0.664232</td>\n",
       "    </tr>\n",
       "    <tr>\n",
       "      <th>4</th>\n",
       "      <td>0.808209</td>\n",
       "      <td>0.763789</td>\n",
       "      <td>0.644487</td>\n",
       "      <td>0.664240</td>\n",
       "    </tr>\n",
       "    <tr>\n",
       "      <th>5</th>\n",
       "      <td>0.808209</td>\n",
       "      <td>0.763789</td>\n",
       "      <td>0.644488</td>\n",
       "      <td>0.664240</td>\n",
       "    </tr>\n",
       "    <tr>\n",
       "      <th>6</th>\n",
       "      <td>0.808209</td>\n",
       "      <td>0.763789</td>\n",
       "      <td>0.644488</td>\n",
       "      <td>0.664240</td>\n",
       "    </tr>\n",
       "    <tr>\n",
       "      <th>7</th>\n",
       "      <td>0.808209</td>\n",
       "      <td>0.763789</td>\n",
       "      <td>0.644488</td>\n",
       "      <td>0.664232</td>\n",
       "    </tr>\n",
       "    <tr>\n",
       "      <th>8</th>\n",
       "      <td>0.808209</td>\n",
       "      <td>0.763789</td>\n",
       "      <td>0.644489</td>\n",
       "      <td>0.664232</td>\n",
       "    </tr>\n",
       "    <tr>\n",
       "      <th>9</th>\n",
       "      <td>0.808209</td>\n",
       "      <td>0.763789</td>\n",
       "      <td>0.644492</td>\n",
       "      <td>0.664232</td>\n",
       "    </tr>\n",
       "    <tr>\n",
       "      <th>10</th>\n",
       "      <td>0.808209</td>\n",
       "      <td>0.763789</td>\n",
       "      <td>0.644493</td>\n",
       "      <td>0.664232</td>\n",
       "    </tr>\n",
       "    <tr>\n",
       "      <th>11</th>\n",
       "      <td>0.808209</td>\n",
       "      <td>0.763789</td>\n",
       "      <td>0.644497</td>\n",
       "      <td>0.664232</td>\n",
       "    </tr>\n",
       "    <tr>\n",
       "      <th>12</th>\n",
       "      <td>0.809241</td>\n",
       "      <td>0.767386</td>\n",
       "      <td>0.667866</td>\n",
       "      <td>0.683441</td>\n",
       "    </tr>\n",
       "    <tr>\n",
       "      <th>13</th>\n",
       "      <td>0.808209</td>\n",
       "      <td>0.763789</td>\n",
       "      <td>0.644496</td>\n",
       "      <td>0.664248</td>\n",
       "    </tr>\n",
       "    <tr>\n",
       "      <th>14</th>\n",
       "      <td>0.808467</td>\n",
       "      <td>0.768585</td>\n",
       "      <td>0.657396</td>\n",
       "      <td>0.681089</td>\n",
       "    </tr>\n",
       "  </tbody>\n",
       "</table>\n",
       "</div>"
      ],
      "text/plain": [
       "    accuracy_train  accuracy_test  roc_auc_train  roc_auc_test\n",
       "0         0.809241       0.767386       0.667596      0.683054\n",
       "1         0.808209       0.763789       0.644486      0.664232\n",
       "2         0.808209       0.763789       0.644487      0.664232\n",
       "3         0.808209       0.763789       0.644487      0.664232\n",
       "4         0.808209       0.763789       0.644487      0.664240\n",
       "5         0.808209       0.763789       0.644488      0.664240\n",
       "6         0.808209       0.763789       0.644488      0.664240\n",
       "7         0.808209       0.763789       0.644488      0.664232\n",
       "8         0.808209       0.763789       0.644489      0.664232\n",
       "9         0.808209       0.763789       0.644492      0.664232\n",
       "10        0.808209       0.763789       0.644493      0.664232\n",
       "11        0.808209       0.763789       0.644497      0.664232\n",
       "12        0.809241       0.767386       0.667866      0.683441\n",
       "13        0.808209       0.763789       0.644496      0.664248\n",
       "14        0.808467       0.768585       0.657396      0.681089"
      ]
     },
     "execution_count": 23,
     "metadata": {},
     "output_type": "execute_result"
    }
   ],
   "source": [
    "results_logreg = pd.DataFrame(results_logreg, index = ind)\n",
    "results_logreg"
   ]
  },
  {
   "cell_type": "code",
   "execution_count": 24,
   "metadata": {},
   "outputs": [
    {
     "data": {
      "text/plain": [
       "<matplotlib.axes._subplots.AxesSubplot at 0x1a1d218550>"
      ]
     },
     "execution_count": 24,
     "metadata": {},
     "output_type": "execute_result"
    },
    {
     "data": {
      "image/png": "[encoded data removed]",
      "text/plain": [
       "<Figure size 432x288 with 1 Axes>"
      ]
     },
     "metadata": {
      "needs_background": "light"
     },
     "output_type": "display_data"
    }
   ],
   "source": [
    "results_logreg.plot()"
   ]
  },
  {
   "cell_type": "code",
   "execution_count": 25,
   "metadata": {},
   "outputs": [],
   "source": [
    "logreg_final0 = LogisticRegression(solver=\"liblinear\", random_state=42, intercept_scaling= 1.1).fit(X_train, y_train)"
   ]
  },
  {
   "cell_type": "markdown",
   "metadata": {},
   "source": [
    "## Drugi model – klasyfikator oparty na algorytmie najbliższych sąsiadów "
   ]
  },
  {
   "cell_type": "code",
   "execution_count": 26,
   "metadata": {},
   "outputs": [],
   "source": [
    "from sklearn.neighbors import KNeighborsClassifier"
   ]
  },
  {
   "cell_type": "code",
   "execution_count": 27,
   "metadata": {},
   "outputs": [],
   "source": [
    "results_knn = {metric : [] for metric in metrics}\n",
    "ind = list(range(2,20))\n",
    "for i in ind:\n",
    "    knn = KNeighborsClassifier(n_neighbors = i, weights = 'distance').fit(X_train, y_train)\n",
    "    results_knn[\"accuracy_train\"].append(accuracy_score(y_train, knn.predict(X_train)))\n",
    "    results_knn[\"accuracy_test\"].append(accuracy_score(y_val, knn.predict(X_val)))\n",
    "    results_knn[\"roc_auc_train\"].append(roc_auc_score(y_train, knn.predict_proba(X_train)[:,1]))\n",
    "    results_knn[\"roc_auc_test\"].append(roc_auc_score(y_val, knn.predict_proba(X_val)[:,1]))"
   ]
  },
  {
   "cell_type": "code",
   "execution_count": 28,
   "metadata": {},
   "outputs": [
    {
     "data": {
      "text/html": [
       "<div>\n",
       "<style scoped>\n",
       "    .dataframe tbody tr th:only-of-type {\n",
       "        vertical-align: middle;\n",
       "    }\n",
       "\n",
       "    .dataframe tbody tr th {\n",
       "        vertical-align: top;\n",
       "    }\n",
       "\n",
       "    .dataframe thead th {\n",
       "        text-align: right;\n",
       "    }\n",
       "</style>\n",
       "<table border=\"1\" class=\"dataframe\">\n",
       "  <thead>\n",
       "    <tr style=\"text-align: right;\">\n",
       "      <th></th>\n",
       "      <th>accuracy_train</th>\n",
       "      <th>accuracy_test</th>\n",
       "      <th>roc_auc_train</th>\n",
       "      <th>roc_auc_test</th>\n",
       "    </tr>\n",
       "  </thead>\n",
       "  <tbody>\n",
       "    <tr>\n",
       "      <th>2</th>\n",
       "      <td>1.0</td>\n",
       "      <td>0.756595</td>\n",
       "      <td>1.0</td>\n",
       "      <td>0.650878</td>\n",
       "    </tr>\n",
       "    <tr>\n",
       "      <th>3</th>\n",
       "      <td>1.0</td>\n",
       "      <td>0.775779</td>\n",
       "      <td>1.0</td>\n",
       "      <td>0.669745</td>\n",
       "    </tr>\n",
       "    <tr>\n",
       "      <th>4</th>\n",
       "      <td>1.0</td>\n",
       "      <td>0.775779</td>\n",
       "      <td>1.0</td>\n",
       "      <td>0.690150</td>\n",
       "    </tr>\n",
       "    <tr>\n",
       "      <th>5</th>\n",
       "      <td>1.0</td>\n",
       "      <td>0.790168</td>\n",
       "      <td>1.0</td>\n",
       "      <td>0.696899</td>\n",
       "    </tr>\n",
       "    <tr>\n",
       "      <th>6</th>\n",
       "      <td>1.0</td>\n",
       "      <td>0.791367</td>\n",
       "      <td>1.0</td>\n",
       "      <td>0.697125</td>\n",
       "    </tr>\n",
       "    <tr>\n",
       "      <th>7</th>\n",
       "      <td>1.0</td>\n",
       "      <td>0.797362</td>\n",
       "      <td>1.0</td>\n",
       "      <td>0.700846</td>\n",
       "    </tr>\n",
       "    <tr>\n",
       "      <th>8</th>\n",
       "      <td>1.0</td>\n",
       "      <td>0.792566</td>\n",
       "      <td>1.0</td>\n",
       "      <td>0.701965</td>\n",
       "    </tr>\n",
       "    <tr>\n",
       "      <th>9</th>\n",
       "      <td>1.0</td>\n",
       "      <td>0.802158</td>\n",
       "      <td>1.0</td>\n",
       "      <td>0.708594</td>\n",
       "    </tr>\n",
       "    <tr>\n",
       "      <th>10</th>\n",
       "      <td>1.0</td>\n",
       "      <td>0.799760</td>\n",
       "      <td>1.0</td>\n",
       "      <td>0.718533</td>\n",
       "    </tr>\n",
       "    <tr>\n",
       "      <th>11</th>\n",
       "      <td>1.0</td>\n",
       "      <td>0.797362</td>\n",
       "      <td>1.0</td>\n",
       "      <td>0.719922</td>\n",
       "    </tr>\n",
       "    <tr>\n",
       "      <th>12</th>\n",
       "      <td>1.0</td>\n",
       "      <td>0.798561</td>\n",
       "      <td>1.0</td>\n",
       "      <td>0.717896</td>\n",
       "    </tr>\n",
       "    <tr>\n",
       "      <th>13</th>\n",
       "      <td>1.0</td>\n",
       "      <td>0.794964</td>\n",
       "      <td>1.0</td>\n",
       "      <td>0.723091</td>\n",
       "    </tr>\n",
       "    <tr>\n",
       "      <th>14</th>\n",
       "      <td>1.0</td>\n",
       "      <td>0.796163</td>\n",
       "      <td>1.0</td>\n",
       "      <td>0.729414</td>\n",
       "    </tr>\n",
       "    <tr>\n",
       "      <th>15</th>\n",
       "      <td>1.0</td>\n",
       "      <td>0.796163</td>\n",
       "      <td>1.0</td>\n",
       "      <td>0.727606</td>\n",
       "    </tr>\n",
       "    <tr>\n",
       "      <th>16</th>\n",
       "      <td>1.0</td>\n",
       "      <td>0.788969</td>\n",
       "      <td>1.0</td>\n",
       "      <td>0.732229</td>\n",
       "    </tr>\n",
       "    <tr>\n",
       "      <th>17</th>\n",
       "      <td>1.0</td>\n",
       "      <td>0.788969</td>\n",
       "      <td>1.0</td>\n",
       "      <td>0.735942</td>\n",
       "    </tr>\n",
       "    <tr>\n",
       "      <th>18</th>\n",
       "      <td>1.0</td>\n",
       "      <td>0.791367</td>\n",
       "      <td>1.0</td>\n",
       "      <td>0.739824</td>\n",
       "    </tr>\n",
       "    <tr>\n",
       "      <th>19</th>\n",
       "      <td>1.0</td>\n",
       "      <td>0.790168</td>\n",
       "      <td>1.0</td>\n",
       "      <td>0.740234</td>\n",
       "    </tr>\n",
       "  </tbody>\n",
       "</table>\n",
       "</div>"
      ],
      "text/plain": [
       "    accuracy_train  accuracy_test  roc_auc_train  roc_auc_test\n",
       "2              1.0       0.756595            1.0      0.650878\n",
       "3              1.0       0.775779            1.0      0.669745\n",
       "4              1.0       0.775779            1.0      0.690150\n",
       "5              1.0       0.790168            1.0      0.696899\n",
       "6              1.0       0.791367            1.0      0.697125\n",
       "7              1.0       0.797362            1.0      0.700846\n",
       "8              1.0       0.792566            1.0      0.701965\n",
       "9              1.0       0.802158            1.0      0.708594\n",
       "10             1.0       0.799760            1.0      0.718533\n",
       "11             1.0       0.797362            1.0      0.719922\n",
       "12             1.0       0.798561            1.0      0.717896\n",
       "13             1.0       0.794964            1.0      0.723091\n",
       "14             1.0       0.796163            1.0      0.729414\n",
       "15             1.0       0.796163            1.0      0.727606\n",
       "16             1.0       0.788969            1.0      0.732229\n",
       "17             1.0       0.788969            1.0      0.735942\n",
       "18             1.0       0.791367            1.0      0.739824\n",
       "19             1.0       0.790168            1.0      0.740234"
      ]
     },
     "execution_count": 28,
     "metadata": {},
     "output_type": "execute_result"
    }
   ],
   "source": [
    "results_knn = pd.DataFrame(results_knn, index = ind)\n",
    "results_knn"
   ]
  },
  {
   "cell_type": "code",
   "execution_count": 29,
   "metadata": {},
   "outputs": [
    {
     "data": {
      "text/plain": [
       "<matplotlib.axes._subplots.AxesSubplot at 0x1a1d3048d0>"
      ]
     },
     "execution_count": 29,
     "metadata": {},
     "output_type": "execute_result"
    },
    {
     "data": {
      "image/png": "[encoded data removed]",
      "text/plain": [
       "<Figure size 432x288 with 1 Axes>"
      ]
     },
     "metadata": {
      "needs_background": "light"
     },
     "output_type": "display_data"
    }
   ],
   "source": [
    "results_knn.plot()"
   ]
  },
  {
   "cell_type": "code",
   "execution_count": 30,
   "metadata": {},
   "outputs": [],
   "source": [
    "knn_final0 = KNeighborsClassifier(n_neighbors = 8, weights = 'distance').fit(X_train, y_train)"
   ]
  },
  {
   "cell_type": "markdown",
   "metadata": {},
   "source": [
    "## Trzeci model – las losowy"
   ]
  },
  {
   "cell_type": "code",
   "execution_count": 31,
   "metadata": {},
   "outputs": [],
   "source": [
    "from sklearn.ensemble import RandomForestClassifier"
   ]
  },
  {
   "cell_type": "code",
   "execution_count": 32,
   "metadata": {},
   "outputs": [],
   "source": [
    "results_rf = {metric : [] for metric in metrics}\n",
    "ind = list(range(2,20))\n",
    "for i in ind:\n",
    "    rf = RandomForestClassifier(max_depth=i, random_state=42).fit(X_train, y_train)\n",
    "    results_rf[\"accuracy_train\"].append(accuracy_score(y_train, rf.predict(X_train)))\n",
    "    results_rf[\"accuracy_test\"].append(accuracy_score(y_val, rf.predict(X_val)))\n",
    "    results_rf[\"roc_auc_train\"].append(roc_auc_score(y_train, rf.predict_proba(X_train)[:,1]))\n",
    "    results_rf[\"roc_auc_test\"].append(roc_auc_score(y_val, rf.predict_proba(X_val)[:,1]))"
   ]
  },
  {
   "cell_type": "code",
   "execution_count": 33,
   "metadata": {},
   "outputs": [
    {
     "data": {
      "text/html": [
       "<div>\n",
       "<style scoped>\n",
       "    .dataframe tbody tr th:only-of-type {\n",
       "        vertical-align: middle;\n",
       "    }\n",
       "\n",
       "    .dataframe tbody tr th {\n",
       "        vertical-align: top;\n",
       "    }\n",
       "\n",
       "    .dataframe thead th {\n",
       "        text-align: right;\n",
       "    }\n",
       "</style>\n",
       "<table border=\"1\" class=\"dataframe\">\n",
       "  <thead>\n",
       "    <tr style=\"text-align: right;\">\n",
       "      <th></th>\n",
       "      <th>accuracy_train</th>\n",
       "      <th>accuracy_test</th>\n",
       "      <th>roc_auc_train</th>\n",
       "      <th>roc_auc_test</th>\n",
       "    </tr>\n",
       "  </thead>\n",
       "  <tbody>\n",
       "    <tr>\n",
       "      <th>2</th>\n",
       "      <td>0.809757</td>\n",
       "      <td>0.767386</td>\n",
       "      <td>0.833025</td>\n",
       "      <td>0.828065</td>\n",
       "    </tr>\n",
       "    <tr>\n",
       "      <th>3</th>\n",
       "      <td>0.823696</td>\n",
       "      <td>0.775779</td>\n",
       "      <td>0.887853</td>\n",
       "      <td>0.828552</td>\n",
       "    </tr>\n",
       "    <tr>\n",
       "      <th>4</th>\n",
       "      <td>0.847961</td>\n",
       "      <td>0.787770</td>\n",
       "      <td>0.894181</td>\n",
       "      <td>0.847676</td>\n",
       "    </tr>\n",
       "    <tr>\n",
       "      <th>5</th>\n",
       "      <td>0.862932</td>\n",
       "      <td>0.803357</td>\n",
       "      <td>0.908440</td>\n",
       "      <td>0.856012</td>\n",
       "    </tr>\n",
       "    <tr>\n",
       "      <th>6</th>\n",
       "      <td>0.886164</td>\n",
       "      <td>0.811751</td>\n",
       "      <td>0.943183</td>\n",
       "      <td>0.899670</td>\n",
       "    </tr>\n",
       "    <tr>\n",
       "      <th>7</th>\n",
       "      <td>0.895457</td>\n",
       "      <td>0.818945</td>\n",
       "      <td>0.946072</td>\n",
       "      <td>0.877928</td>\n",
       "    </tr>\n",
       "    <tr>\n",
       "      <th>8</th>\n",
       "      <td>0.911977</td>\n",
       "      <td>0.836930</td>\n",
       "      <td>0.960948</td>\n",
       "      <td>0.902734</td>\n",
       "    </tr>\n",
       "    <tr>\n",
       "      <th>9</th>\n",
       "      <td>0.925142</td>\n",
       "      <td>0.836930</td>\n",
       "      <td>0.970665</td>\n",
       "      <td>0.905880</td>\n",
       "    </tr>\n",
       "    <tr>\n",
       "      <th>10</th>\n",
       "      <td>0.931079</td>\n",
       "      <td>0.851319</td>\n",
       "      <td>0.979999</td>\n",
       "      <td>0.896066</td>\n",
       "    </tr>\n",
       "    <tr>\n",
       "      <th>11</th>\n",
       "      <td>0.942953</td>\n",
       "      <td>0.854916</td>\n",
       "      <td>0.986165</td>\n",
       "      <td>0.916531</td>\n",
       "    </tr>\n",
       "    <tr>\n",
       "      <th>12</th>\n",
       "      <td>0.952762</td>\n",
       "      <td>0.860911</td>\n",
       "      <td>0.989916</td>\n",
       "      <td>0.910245</td>\n",
       "    </tr>\n",
       "    <tr>\n",
       "      <th>13</th>\n",
       "      <td>0.961280</td>\n",
       "      <td>0.866906</td>\n",
       "      <td>0.995566</td>\n",
       "      <td>0.921992</td>\n",
       "    </tr>\n",
       "    <tr>\n",
       "      <th>14</th>\n",
       "      <td>0.970831</td>\n",
       "      <td>0.870504</td>\n",
       "      <td>0.997984</td>\n",
       "      <td>0.918150</td>\n",
       "    </tr>\n",
       "    <tr>\n",
       "      <th>15</th>\n",
       "      <td>0.980382</td>\n",
       "      <td>0.869305</td>\n",
       "      <td>0.997535</td>\n",
       "      <td>0.914320</td>\n",
       "    </tr>\n",
       "    <tr>\n",
       "      <th>16</th>\n",
       "      <td>0.979608</td>\n",
       "      <td>0.865707</td>\n",
       "      <td>0.997883</td>\n",
       "      <td>0.922056</td>\n",
       "    </tr>\n",
       "    <tr>\n",
       "      <th>17</th>\n",
       "      <td>0.985287</td>\n",
       "      <td>0.878897</td>\n",
       "      <td>0.999340</td>\n",
       "      <td>0.940959</td>\n",
       "    </tr>\n",
       "    <tr>\n",
       "      <th>18</th>\n",
       "      <td>0.992772</td>\n",
       "      <td>0.859712</td>\n",
       "      <td>0.999961</td>\n",
       "      <td>0.922270</td>\n",
       "    </tr>\n",
       "    <tr>\n",
       "      <th>19</th>\n",
       "      <td>0.989933</td>\n",
       "      <td>0.863309</td>\n",
       "      <td>0.999739</td>\n",
       "      <td>0.940492</td>\n",
       "    </tr>\n",
       "  </tbody>\n",
       "</table>\n",
       "</div>"
      ],
      "text/plain": [
       "    accuracy_train  accuracy_test  roc_auc_train  roc_auc_test\n",
       "2         0.809757       0.767386       0.833025      0.828065\n",
       "3         0.823696       0.775779       0.887853      0.828552\n",
       "4         0.847961       0.787770       0.894181      0.847676\n",
       "5         0.862932       0.803357       0.908440      0.856012\n",
       "6         0.886164       0.811751       0.943183      0.899670\n",
       "7         0.895457       0.818945       0.946072      0.877928\n",
       "8         0.911977       0.836930       0.960948      0.902734\n",
       "9         0.925142       0.836930       0.970665      0.905880\n",
       "10        0.931079       0.851319       0.979999      0.896066\n",
       "11        0.942953       0.854916       0.986165      0.916531\n",
       "12        0.952762       0.860911       0.989916      0.910245\n",
       "13        0.961280       0.866906       0.995566      0.921992\n",
       "14        0.970831       0.870504       0.997984      0.918150\n",
       "15        0.980382       0.869305       0.997535      0.914320\n",
       "16        0.979608       0.865707       0.997883      0.922056\n",
       "17        0.985287       0.878897       0.999340      0.940959\n",
       "18        0.992772       0.859712       0.999961      0.922270\n",
       "19        0.989933       0.863309       0.999739      0.940492"
      ]
     },
     "execution_count": 33,
     "metadata": {},
     "output_type": "execute_result"
    }
   ],
   "source": [
    "results_rf = pd.DataFrame(results_rf, index = ind)\n",
    "results_rf"
   ]
  },
  {
   "cell_type": "code",
   "execution_count": 34,
   "metadata": {},
   "outputs": [
    {
     "data": {
      "text/plain": [
       "<matplotlib.axes._subplots.AxesSubplot at 0x1a1d8fa940>"
      ]
     },
     "execution_count": 34,
     "metadata": {},
     "output_type": "execute_result"
    },
    {
     "data": {
      "image/png": "[encoded data removed]",
      "text/plain": [
       "<Figure size 432x288 with 1 Axes>"
      ]
     },
     "metadata": {
      "needs_background": "light"
     },
     "output_type": "display_data"
    }
   ],
   "source": [
    "results_rf.plot()"
   ]
  },
  {
   "cell_type": "code",
   "execution_count": 59,
   "metadata": {},
   "outputs": [],
   "source": [
    "rf_final0 = RandomForestClassifier(max_depth=13, random_state=42).fit(X_train, y_train)"
   ]
  },
  {
   "cell_type": "markdown",
   "metadata": {},
   "source": [
    "### Strategia 2 – usuwanie braków danych"
   ]
  },
  {
   "cell_type": "code",
   "execution_count": 36,
   "metadata": {},
   "outputs": [],
   "source": [
    "hmeq_nonan = hmeq.dropna()"
   ]
  },
  {
   "cell_type": "code",
   "execution_count": 37,
   "metadata": {},
   "outputs": [],
   "source": [
    "X = hmeq_nonan.iloc[:, 1:]\n",
    "y = hmeq_nonan.loc[:, \"BAD\"]"
   ]
  },
  {
   "cell_type": "code",
   "execution_count": 38,
   "metadata": {},
   "outputs": [],
   "source": [
    "from sklearn.model_selection import train_test_split\n",
    "X_train1, X_test1, y_train1, y_test1 = train_test_split(X, y, test_size=0.35, random_state=42)\n",
    "X_val1, X_test1, y_val1, y_test1 = train_test_split(X_test1, y_test1, test_size=0.6, random_state=42)"
   ]
  },
  {
   "cell_type": "code",
   "execution_count": 39,
   "metadata": {},
   "outputs": [],
   "source": [
    "X_train, X_val = X_train1, X_val1\n",
    "y_train, y_val = y_train1, y_val1"
   ]
  },
  {
   "cell_type": "code",
   "execution_count": 40,
   "metadata": {},
   "outputs": [],
   "source": [
    "metrics = [\"accuracy_train\", \"accuracy_test\", \"roc_auc_train\", \"roc_auc_test\"]"
   ]
  },
  {
   "cell_type": "markdown",
   "metadata": {},
   "source": [
    "## Pierwszy model - regresja logistyczna"
   ]
  },
  {
   "cell_type": "code",
   "execution_count": 41,
   "metadata": {},
   "outputs": [],
   "source": [
    "from sklearn.linear_model import LogisticRegression"
   ]
  },
  {
   "cell_type": "code",
   "execution_count": 42,
   "metadata": {},
   "outputs": [],
   "source": [
    "results_logreg = {metric : [] for metric in metrics}\n",
    "ind = list(range(15))\n",
    "for i in ind:\n",
    "    logreg = LogisticRegression(solver=\"liblinear\", random_state=42, intercept_scaling= 1+0.1*i).fit(X_train, y_train)\n",
    "    results_logreg[\"accuracy_train\"].append(accuracy_score(y_train, logreg.predict(X_train)))\n",
    "    results_logreg[\"accuracy_test\"].append(accuracy_score(y_val, logreg.predict(X_val)))\n",
    "    results_logreg[\"roc_auc_train\"].append(roc_auc_score(y_train, logreg.predict_proba(X_train)[:,1]))\n",
    "    results_logreg[\"roc_auc_test\"].append(roc_auc_score(y_val, logreg.predict_proba(X_val)[:,1]))"
   ]
  },
  {
   "cell_type": "code",
   "execution_count": 43,
   "metadata": {},
   "outputs": [
    {
     "data": {
      "text/html": [
       "<div>\n",
       "<style scoped>\n",
       "    .dataframe tbody tr th:only-of-type {\n",
       "        vertical-align: middle;\n",
       "    }\n",
       "\n",
       "    .dataframe tbody tr th {\n",
       "        vertical-align: top;\n",
       "    }\n",
       "\n",
       "    .dataframe thead th {\n",
       "        text-align: right;\n",
       "    }\n",
       "</style>\n",
       "<table border=\"1\" class=\"dataframe\">\n",
       "  <thead>\n",
       "    <tr style=\"text-align: right;\">\n",
       "      <th></th>\n",
       "      <th>accuracy_train</th>\n",
       "      <th>accuracy_test</th>\n",
       "      <th>roc_auc_train</th>\n",
       "      <th>roc_auc_test</th>\n",
       "    </tr>\n",
       "  </thead>\n",
       "  <tbody>\n",
       "    <tr>\n",
       "      <th>0</th>\n",
       "      <td>0.914623</td>\n",
       "      <td>0.890244</td>\n",
       "      <td>0.679908</td>\n",
       "      <td>0.598174</td>\n",
       "    </tr>\n",
       "    <tr>\n",
       "      <th>1</th>\n",
       "      <td>0.916813</td>\n",
       "      <td>0.890244</td>\n",
       "      <td>0.656409</td>\n",
       "      <td>0.563462</td>\n",
       "    </tr>\n",
       "    <tr>\n",
       "      <th>2</th>\n",
       "      <td>0.916813</td>\n",
       "      <td>0.890244</td>\n",
       "      <td>0.656379</td>\n",
       "      <td>0.563377</td>\n",
       "    </tr>\n",
       "    <tr>\n",
       "      <th>3</th>\n",
       "      <td>0.916813</td>\n",
       "      <td>0.890244</td>\n",
       "      <td>0.656384</td>\n",
       "      <td>0.563377</td>\n",
       "    </tr>\n",
       "    <tr>\n",
       "      <th>4</th>\n",
       "      <td>0.916813</td>\n",
       "      <td>0.890244</td>\n",
       "      <td>0.668509</td>\n",
       "      <td>0.589633</td>\n",
       "    </tr>\n",
       "    <tr>\n",
       "      <th>5</th>\n",
       "      <td>0.915061</td>\n",
       "      <td>0.890244</td>\n",
       "      <td>0.706274</td>\n",
       "      <td>0.637367</td>\n",
       "    </tr>\n",
       "    <tr>\n",
       "      <th>6</th>\n",
       "      <td>0.916813</td>\n",
       "      <td>0.890244</td>\n",
       "      <td>0.656429</td>\n",
       "      <td>0.563420</td>\n",
       "    </tr>\n",
       "    <tr>\n",
       "      <th>7</th>\n",
       "      <td>0.916813</td>\n",
       "      <td>0.890244</td>\n",
       "      <td>0.656427</td>\n",
       "      <td>0.563420</td>\n",
       "    </tr>\n",
       "    <tr>\n",
       "      <th>8</th>\n",
       "      <td>0.916375</td>\n",
       "      <td>0.888211</td>\n",
       "      <td>0.698170</td>\n",
       "      <td>0.637494</td>\n",
       "    </tr>\n",
       "    <tr>\n",
       "      <th>9</th>\n",
       "      <td>0.916813</td>\n",
       "      <td>0.890244</td>\n",
       "      <td>0.656429</td>\n",
       "      <td>0.563420</td>\n",
       "    </tr>\n",
       "    <tr>\n",
       "      <th>10</th>\n",
       "      <td>0.915061</td>\n",
       "      <td>0.890244</td>\n",
       "      <td>0.681069</td>\n",
       "      <td>0.602106</td>\n",
       "    </tr>\n",
       "    <tr>\n",
       "      <th>11</th>\n",
       "      <td>0.916813</td>\n",
       "      <td>0.890244</td>\n",
       "      <td>0.656419</td>\n",
       "      <td>0.563420</td>\n",
       "    </tr>\n",
       "    <tr>\n",
       "      <th>12</th>\n",
       "      <td>0.916813</td>\n",
       "      <td>0.890244</td>\n",
       "      <td>0.668672</td>\n",
       "      <td>0.590014</td>\n",
       "    </tr>\n",
       "    <tr>\n",
       "      <th>13</th>\n",
       "      <td>0.915061</td>\n",
       "      <td>0.890244</td>\n",
       "      <td>0.680046</td>\n",
       "      <td>0.602148</td>\n",
       "    </tr>\n",
       "    <tr>\n",
       "      <th>14</th>\n",
       "      <td>0.916813</td>\n",
       "      <td>0.890244</td>\n",
       "      <td>0.656377</td>\n",
       "      <td>0.563293</td>\n",
       "    </tr>\n",
       "  </tbody>\n",
       "</table>\n",
       "</div>"
      ],
      "text/plain": [
       "    accuracy_train  accuracy_test  roc_auc_train  roc_auc_test\n",
       "0         0.914623       0.890244       0.679908      0.598174\n",
       "1         0.916813       0.890244       0.656409      0.563462\n",
       "2         0.916813       0.890244       0.656379      0.563377\n",
       "3         0.916813       0.890244       0.656384      0.563377\n",
       "4         0.916813       0.890244       0.668509      0.589633\n",
       "5         0.915061       0.890244       0.706274      0.637367\n",
       "6         0.916813       0.890244       0.656429      0.563420\n",
       "7         0.916813       0.890244       0.656427      0.563420\n",
       "8         0.916375       0.888211       0.698170      0.637494\n",
       "9         0.916813       0.890244       0.656429      0.563420\n",
       "10        0.915061       0.890244       0.681069      0.602106\n",
       "11        0.916813       0.890244       0.656419      0.563420\n",
       "12        0.916813       0.890244       0.668672      0.590014\n",
       "13        0.915061       0.890244       0.680046      0.602148\n",
       "14        0.916813       0.890244       0.656377      0.563293"
      ]
     },
     "execution_count": 43,
     "metadata": {},
     "output_type": "execute_result"
    }
   ],
   "source": [
    "results_logreg = pd.DataFrame(results_logreg, index = ind)\n",
    "results_logreg"
   ]
  },
  {
   "cell_type": "code",
   "execution_count": 44,
   "metadata": {},
   "outputs": [
    {
     "data": {
      "text/plain": [
       "<matplotlib.axes._subplots.AxesSubplot at 0x1a1d7c12b0>"
      ]
     },
     "execution_count": 44,
     "metadata": {},
     "output_type": "execute_result"
    },
    {
     "data": {
      "image/png": "[encoded data removed]",
      "text/plain": [
       "<Figure size 432x288 with 1 Axes>"
      ]
     },
     "metadata": {
      "needs_background": "light"
     },
     "output_type": "display_data"
    }
   ],
   "source": [
    "results_logreg.plot()"
   ]
  },
  {
   "cell_type": "code",
   "execution_count": 45,
   "metadata": {},
   "outputs": [],
   "source": [
    "logreg_final1 = LogisticRegression(solver=\"liblinear\", random_state=42, intercept_scaling= 1.3).fit(X_train, y_train)"
   ]
  },
  {
   "cell_type": "markdown",
   "metadata": {},
   "source": [
    "## Drugi model – klasyfikator oparty na algorytmie najbliższych sąsiadów "
   ]
  },
  {
   "cell_type": "code",
   "execution_count": 46,
   "metadata": {},
   "outputs": [],
   "source": [
    "from sklearn.neighbors import KNeighborsClassifier"
   ]
  },
  {
   "cell_type": "code",
   "execution_count": 47,
   "metadata": {},
   "outputs": [],
   "source": [
    "results_knn = {metric : [] for metric in metrics}\n",
    "ind = list(range(2,20))\n",
    "for i in ind:\n",
    "    knn = KNeighborsClassifier(n_neighbors = i, weights = 'distance').fit(X_train, y_train)\n",
    "    results_knn[\"accuracy_train\"].append(accuracy_score(y_train, knn.predict(X_train)))\n",
    "    results_knn[\"accuracy_test\"].append(accuracy_score(y_val, knn.predict(X_val)))\n",
    "    results_knn[\"roc_auc_train\"].append(roc_auc_score(y_train, knn.predict_proba(X_train)[:,1]))\n",
    "    results_knn[\"roc_auc_test\"].append(roc_auc_score(y_val, knn.predict_proba(X_val)[:,1]))"
   ]
  },
  {
   "cell_type": "code",
   "execution_count": 48,
   "metadata": {},
   "outputs": [
    {
     "data": {
      "text/html": [
       "<div>\n",
       "<style scoped>\n",
       "    .dataframe tbody tr th:only-of-type {\n",
       "        vertical-align: middle;\n",
       "    }\n",
       "\n",
       "    .dataframe tbody tr th {\n",
       "        vertical-align: top;\n",
       "    }\n",
       "\n",
       "    .dataframe thead th {\n",
       "        text-align: right;\n",
       "    }\n",
       "</style>\n",
       "<table border=\"1\" class=\"dataframe\">\n",
       "  <thead>\n",
       "    <tr style=\"text-align: right;\">\n",
       "      <th></th>\n",
       "      <th>accuracy_train</th>\n",
       "      <th>accuracy_test</th>\n",
       "      <th>roc_auc_train</th>\n",
       "      <th>roc_auc_test</th>\n",
       "    </tr>\n",
       "  </thead>\n",
       "  <tbody>\n",
       "    <tr>\n",
       "      <th>2</th>\n",
       "      <td>1.0</td>\n",
       "      <td>0.867886</td>\n",
       "      <td>1.0</td>\n",
       "      <td>0.592677</td>\n",
       "    </tr>\n",
       "    <tr>\n",
       "      <th>3</th>\n",
       "      <td>1.0</td>\n",
       "      <td>0.888211</td>\n",
       "      <td>1.0</td>\n",
       "      <td>0.597265</td>\n",
       "    </tr>\n",
       "    <tr>\n",
       "      <th>4</th>\n",
       "      <td>1.0</td>\n",
       "      <td>0.898374</td>\n",
       "      <td>1.0</td>\n",
       "      <td>0.594812</td>\n",
       "    </tr>\n",
       "    <tr>\n",
       "      <th>5</th>\n",
       "      <td>1.0</td>\n",
       "      <td>0.898374</td>\n",
       "      <td>1.0</td>\n",
       "      <td>0.614303</td>\n",
       "    </tr>\n",
       "    <tr>\n",
       "      <th>6</th>\n",
       "      <td>1.0</td>\n",
       "      <td>0.900407</td>\n",
       "      <td>1.0</td>\n",
       "      <td>0.619694</td>\n",
       "    </tr>\n",
       "    <tr>\n",
       "      <th>7</th>\n",
       "      <td>1.0</td>\n",
       "      <td>0.898374</td>\n",
       "      <td>1.0</td>\n",
       "      <td>0.627642</td>\n",
       "    </tr>\n",
       "    <tr>\n",
       "      <th>8</th>\n",
       "      <td>1.0</td>\n",
       "      <td>0.898374</td>\n",
       "      <td>1.0</td>\n",
       "      <td>0.642462</td>\n",
       "    </tr>\n",
       "    <tr>\n",
       "      <th>9</th>\n",
       "      <td>1.0</td>\n",
       "      <td>0.894309</td>\n",
       "      <td>1.0</td>\n",
       "      <td>0.640939</td>\n",
       "    </tr>\n",
       "    <tr>\n",
       "      <th>10</th>\n",
       "      <td>1.0</td>\n",
       "      <td>0.894309</td>\n",
       "      <td>1.0</td>\n",
       "      <td>0.642863</td>\n",
       "    </tr>\n",
       "    <tr>\n",
       "      <th>11</th>\n",
       "      <td>1.0</td>\n",
       "      <td>0.892276</td>\n",
       "      <td>1.0</td>\n",
       "      <td>0.635866</td>\n",
       "    </tr>\n",
       "    <tr>\n",
       "      <th>12</th>\n",
       "      <td>1.0</td>\n",
       "      <td>0.892276</td>\n",
       "      <td>1.0</td>\n",
       "      <td>0.630285</td>\n",
       "    </tr>\n",
       "    <tr>\n",
       "      <th>13</th>\n",
       "      <td>1.0</td>\n",
       "      <td>0.892276</td>\n",
       "      <td>1.0</td>\n",
       "      <td>0.633435</td>\n",
       "    </tr>\n",
       "    <tr>\n",
       "      <th>14</th>\n",
       "      <td>1.0</td>\n",
       "      <td>0.890244</td>\n",
       "      <td>1.0</td>\n",
       "      <td>0.637198</td>\n",
       "    </tr>\n",
       "    <tr>\n",
       "      <th>15</th>\n",
       "      <td>1.0</td>\n",
       "      <td>0.892276</td>\n",
       "      <td>1.0</td>\n",
       "      <td>0.640157</td>\n",
       "    </tr>\n",
       "    <tr>\n",
       "      <th>16</th>\n",
       "      <td>1.0</td>\n",
       "      <td>0.890244</td>\n",
       "      <td>1.0</td>\n",
       "      <td>0.641637</td>\n",
       "    </tr>\n",
       "    <tr>\n",
       "      <th>17</th>\n",
       "      <td>1.0</td>\n",
       "      <td>0.890244</td>\n",
       "      <td>1.0</td>\n",
       "      <td>0.634830</td>\n",
       "    </tr>\n",
       "    <tr>\n",
       "      <th>18</th>\n",
       "      <td>1.0</td>\n",
       "      <td>0.890244</td>\n",
       "      <td>1.0</td>\n",
       "      <td>0.636310</td>\n",
       "    </tr>\n",
       "    <tr>\n",
       "      <th>19</th>\n",
       "      <td>1.0</td>\n",
       "      <td>0.890244</td>\n",
       "      <td>1.0</td>\n",
       "      <td>0.630771</td>\n",
       "    </tr>\n",
       "  </tbody>\n",
       "</table>\n",
       "</div>"
      ],
      "text/plain": [
       "    accuracy_train  accuracy_test  roc_auc_train  roc_auc_test\n",
       "2              1.0       0.867886            1.0      0.592677\n",
       "3              1.0       0.888211            1.0      0.597265\n",
       "4              1.0       0.898374            1.0      0.594812\n",
       "5              1.0       0.898374            1.0      0.614303\n",
       "6              1.0       0.900407            1.0      0.619694\n",
       "7              1.0       0.898374            1.0      0.627642\n",
       "8              1.0       0.898374            1.0      0.642462\n",
       "9              1.0       0.894309            1.0      0.640939\n",
       "10             1.0       0.894309            1.0      0.642863\n",
       "11             1.0       0.892276            1.0      0.635866\n",
       "12             1.0       0.892276            1.0      0.630285\n",
       "13             1.0       0.892276            1.0      0.633435\n",
       "14             1.0       0.890244            1.0      0.637198\n",
       "15             1.0       0.892276            1.0      0.640157\n",
       "16             1.0       0.890244            1.0      0.641637\n",
       "17             1.0       0.890244            1.0      0.634830\n",
       "18             1.0       0.890244            1.0      0.636310\n",
       "19             1.0       0.890244            1.0      0.630771"
      ]
     },
     "execution_count": 48,
     "metadata": {},
     "output_type": "execute_result"
    }
   ],
   "source": [
    "results_knn = pd.DataFrame(results_knn, index = ind)\n",
    "results_knn"
   ]
  },
  {
   "cell_type": "code",
   "execution_count": 49,
   "metadata": {},
   "outputs": [
    {
     "data": {
      "text/plain": [
       "<matplotlib.axes._subplots.AxesSubplot at 0x1a1db0c6d8>"
      ]
     },
     "execution_count": 49,
     "metadata": {},
     "output_type": "execute_result"
    },
    {
     "data": {
      "image/png": "[encoded data removed]",
      "text/plain": [
       "<Figure size 432x288 with 1 Axes>"
      ]
     },
     "metadata": {
      "needs_background": "light"
     },
     "output_type": "display_data"
    }
   ],
   "source": [
    "results_knn.plot()"
   ]
  },
  {
   "cell_type": "code",
   "execution_count": 50,
   "metadata": {},
   "outputs": [],
   "source": [
    "knn_final1 = KNeighborsClassifier(n_neighbors = 8, weights = 'distance').fit(X_train, y_train)"
   ]
  },
  {
   "cell_type": "markdown",
   "metadata": {},
   "source": [
    "## Trzeci model – las losowy"
   ]
  },
  {
   "cell_type": "code",
   "execution_count": 51,
   "metadata": {},
   "outputs": [],
   "source": [
    "from sklearn.ensemble import RandomForestClassifier"
   ]
  },
  {
   "cell_type": "code",
   "execution_count": 52,
   "metadata": {},
   "outputs": [],
   "source": [
    "results_rf = {metric : [] for metric in metrics}\n",
    "ind = list(range(2,20))\n",
    "for i in ind:\n",
    "    rf = RandomForestClassifier(max_depth=i, random_state=42).fit(X_train, y_train)\n",
    "    results_rf[\"accuracy_train\"].append(accuracy_score(y_train, rf.predict(X_train)))\n",
    "    results_rf[\"accuracy_test\"].append(accuracy_score(y_val, rf.predict(X_val)))\n",
    "    results_rf[\"roc_auc_train\"].append(roc_auc_score(y_train, rf.predict_proba(X_train)[:,1]))\n",
    "    results_rf[\"roc_auc_test\"].append(roc_auc_score(y_val, rf.predict_proba(X_val)[:,1]))"
   ]
  },
  {
   "cell_type": "code",
   "execution_count": 53,
   "metadata": {},
   "outputs": [
    {
     "data": {
      "text/html": [
       "<div>\n",
       "<style scoped>\n",
       "    .dataframe tbody tr th:only-of-type {\n",
       "        vertical-align: middle;\n",
       "    }\n",
       "\n",
       "    .dataframe tbody tr th {\n",
       "        vertical-align: top;\n",
       "    }\n",
       "\n",
       "    .dataframe thead th {\n",
       "        text-align: right;\n",
       "    }\n",
       "</style>\n",
       "<table border=\"1\" class=\"dataframe\">\n",
       "  <thead>\n",
       "    <tr style=\"text-align: right;\">\n",
       "      <th></th>\n",
       "      <th>accuracy_train</th>\n",
       "      <th>accuracy_test</th>\n",
       "      <th>roc_auc_train</th>\n",
       "      <th>roc_auc_test</th>\n",
       "    </tr>\n",
       "  </thead>\n",
       "  <tbody>\n",
       "    <tr>\n",
       "      <th>2</th>\n",
       "      <td>0.918126</td>\n",
       "      <td>0.892276</td>\n",
       "      <td>0.807495</td>\n",
       "      <td>0.781033</td>\n",
       "    </tr>\n",
       "    <tr>\n",
       "      <th>3</th>\n",
       "      <td>0.937391</td>\n",
       "      <td>0.910569</td>\n",
       "      <td>0.833299</td>\n",
       "      <td>0.791117</td>\n",
       "    </tr>\n",
       "    <tr>\n",
       "      <th>4</th>\n",
       "      <td>0.943958</td>\n",
       "      <td>0.912602</td>\n",
       "      <td>0.867325</td>\n",
       "      <td>0.793020</td>\n",
       "    </tr>\n",
       "    <tr>\n",
       "      <th>5</th>\n",
       "      <td>0.945709</td>\n",
       "      <td>0.914634</td>\n",
       "      <td>0.865331</td>\n",
       "      <td>0.807606</td>\n",
       "    </tr>\n",
       "    <tr>\n",
       "      <th>6</th>\n",
       "      <td>0.947898</td>\n",
       "      <td>0.910569</td>\n",
       "      <td>0.906912</td>\n",
       "      <td>0.814434</td>\n",
       "    </tr>\n",
       "    <tr>\n",
       "      <th>7</th>\n",
       "      <td>0.952715</td>\n",
       "      <td>0.914634</td>\n",
       "      <td>0.918356</td>\n",
       "      <td>0.824772</td>\n",
       "    </tr>\n",
       "    <tr>\n",
       "      <th>8</th>\n",
       "      <td>0.957093</td>\n",
       "      <td>0.918699</td>\n",
       "      <td>0.936910</td>\n",
       "      <td>0.804266</td>\n",
       "    </tr>\n",
       "    <tr>\n",
       "      <th>9</th>\n",
       "      <td>0.957968</td>\n",
       "      <td>0.920732</td>\n",
       "      <td>0.949336</td>\n",
       "      <td>0.863669</td>\n",
       "    </tr>\n",
       "    <tr>\n",
       "      <th>10</th>\n",
       "      <td>0.960158</td>\n",
       "      <td>0.920732</td>\n",
       "      <td>0.962473</td>\n",
       "      <td>0.867834</td>\n",
       "    </tr>\n",
       "    <tr>\n",
       "      <th>11</th>\n",
       "      <td>0.965412</td>\n",
       "      <td>0.920732</td>\n",
       "      <td>0.978324</td>\n",
       "      <td>0.891341</td>\n",
       "    </tr>\n",
       "    <tr>\n",
       "      <th>12</th>\n",
       "      <td>0.968039</td>\n",
       "      <td>0.918699</td>\n",
       "      <td>0.986803</td>\n",
       "      <td>0.895421</td>\n",
       "    </tr>\n",
       "    <tr>\n",
       "      <th>13</th>\n",
       "      <td>0.971103</td>\n",
       "      <td>0.918699</td>\n",
       "      <td>0.989533</td>\n",
       "      <td>0.884872</td>\n",
       "    </tr>\n",
       "    <tr>\n",
       "      <th>14</th>\n",
       "      <td>0.974606</td>\n",
       "      <td>0.924797</td>\n",
       "      <td>0.990159</td>\n",
       "      <td>0.876247</td>\n",
       "    </tr>\n",
       "    <tr>\n",
       "      <th>15</th>\n",
       "      <td>0.977233</td>\n",
       "      <td>0.920732</td>\n",
       "      <td>0.997659</td>\n",
       "      <td>0.880306</td>\n",
       "    </tr>\n",
       "    <tr>\n",
       "      <th>16</th>\n",
       "      <td>0.981173</td>\n",
       "      <td>0.928862</td>\n",
       "      <td>0.999015</td>\n",
       "      <td>0.906435</td>\n",
       "    </tr>\n",
       "    <tr>\n",
       "      <th>17</th>\n",
       "      <td>0.985989</td>\n",
       "      <td>0.920732</td>\n",
       "      <td>0.999367</td>\n",
       "      <td>0.865466</td>\n",
       "    </tr>\n",
       "    <tr>\n",
       "      <th>18</th>\n",
       "      <td>0.987741</td>\n",
       "      <td>0.924797</td>\n",
       "      <td>0.999960</td>\n",
       "      <td>0.872188</td>\n",
       "    </tr>\n",
       "    <tr>\n",
       "      <th>19</th>\n",
       "      <td>0.989054</td>\n",
       "      <td>0.924797</td>\n",
       "      <td>0.999967</td>\n",
       "      <td>0.916075</td>\n",
       "    </tr>\n",
       "  </tbody>\n",
       "</table>\n",
       "</div>"
      ],
      "text/plain": [
       "    accuracy_train  accuracy_test  roc_auc_train  roc_auc_test\n",
       "2         0.918126       0.892276       0.807495      0.781033\n",
       "3         0.937391       0.910569       0.833299      0.791117\n",
       "4         0.943958       0.912602       0.867325      0.793020\n",
       "5         0.945709       0.914634       0.865331      0.807606\n",
       "6         0.947898       0.910569       0.906912      0.814434\n",
       "7         0.952715       0.914634       0.918356      0.824772\n",
       "8         0.957093       0.918699       0.936910      0.804266\n",
       "9         0.957968       0.920732       0.949336      0.863669\n",
       "10        0.960158       0.920732       0.962473      0.867834\n",
       "11        0.965412       0.920732       0.978324      0.891341\n",
       "12        0.968039       0.918699       0.986803      0.895421\n",
       "13        0.971103       0.918699       0.989533      0.884872\n",
       "14        0.974606       0.924797       0.990159      0.876247\n",
       "15        0.977233       0.920732       0.997659      0.880306\n",
       "16        0.981173       0.928862       0.999015      0.906435\n",
       "17        0.985989       0.920732       0.999367      0.865466\n",
       "18        0.987741       0.924797       0.999960      0.872188\n",
       "19        0.989054       0.924797       0.999967      0.916075"
      ]
     },
     "execution_count": 53,
     "metadata": {},
     "output_type": "execute_result"
    }
   ],
   "source": [
    "results_rf = pd.DataFrame(results_rf, index = ind)\n",
    "results_rf"
   ]
  },
  {
   "cell_type": "code",
   "execution_count": 54,
   "metadata": {},
   "outputs": [
    {
     "data": {
      "text/plain": [
       "<matplotlib.axes._subplots.AxesSubplot at 0x1a1dca8898>"
      ]
     },
     "execution_count": 54,
     "metadata": {},
     "output_type": "execute_result"
    },
    {
     "data": {
      "image/png": "[encoded data removed]",
      "text/plain": [
       "<Figure size 432x288 with 1 Axes>"
      ]
     },
     "metadata": {
      "needs_background": "light"
     },
     "output_type": "display_data"
    }
   ],
   "source": [
    "results_rf.plot()"
   ]
  },
  {
   "cell_type": "code",
   "execution_count": 55,
   "metadata": {},
   "outputs": [],
   "source": [
    "rf_final1 = RandomForestClassifier(max_depth=11, random_state=42).fit(X_train, y_train)"
   ]
  },
  {
   "cell_type": "markdown",
   "metadata": {},
   "source": [
    "## Sprawdzenie na zbiorze testowym"
   ]
  },
  {
   "cell_type": "code",
   "execution_count": 60,
   "metadata": {},
   "outputs": [],
   "source": [
    "results = {metric : {} for metric in [\"accuracy_test\", \"roc_auc_test\"]}\n",
    "clf0 = {\"LogReg+imputed_nan\" : logreg_final0, \"KNN+imputed_nan\" : knn_final0, \"RF+imputed_nan\" : rf_final0}\n",
    "clf1 = {\"LogReg+dropped_nan\" : logreg_final1, \"KNN+dropped_nan\" : knn_final1, \"RF+dropped_nan\" : rf_final1}\n",
    "for b, c in clf0.items():\n",
    "    results[\"accuracy_test\"][b] = (accuracy_score(y_test0, c.predict(X_test0)))\n",
    "    results[\"roc_auc_test\"][b] = (roc_auc_score(y_test0, c.predict_proba(X_test0)[:,1]))\n",
    "for b, c in clf1.items():\n",
    "    results[\"accuracy_test\"][b] = (accuracy_score(y_test1, c.predict(X_test1)))\n",
    "    results[\"roc_auc_test\"][b] = (roc_auc_score(y_test1, c.predict_proba(X_test1)[:,1]))"
   ]
  },
  {
   "cell_type": "code",
   "execution_count": 61,
   "metadata": {},
   "outputs": [],
   "source": [
    "results = pd.DataFrame(results)"
   ]
  },
  {
   "cell_type": "code",
   "execution_count": 62,
   "metadata": {},
   "outputs": [
    {
     "data": {
      "text/html": [
       "<div>\n",
       "<style scoped>\n",
       "    .dataframe tbody tr th:only-of-type {\n",
       "        vertical-align: middle;\n",
       "    }\n",
       "\n",
       "    .dataframe tbody tr th {\n",
       "        vertical-align: top;\n",
       "    }\n",
       "\n",
       "    .dataframe thead th {\n",
       "        text-align: right;\n",
       "    }\n",
       "</style>\n",
       "<table border=\"1\" class=\"dataframe\">\n",
       "  <thead>\n",
       "    <tr style=\"text-align: right;\">\n",
       "      <th></th>\n",
       "      <th>accuracy_test</th>\n",
       "      <th>roc_auc_test</th>\n",
       "    </tr>\n",
       "  </thead>\n",
       "  <tbody>\n",
       "    <tr>\n",
       "      <th>LogReg+imputed_nan</th>\n",
       "      <td>0.793930</td>\n",
       "      <td>0.653630</td>\n",
       "    </tr>\n",
       "    <tr>\n",
       "      <th>KNN+imputed_nan</th>\n",
       "      <td>0.816294</td>\n",
       "      <td>0.697491</td>\n",
       "    </tr>\n",
       "    <tr>\n",
       "      <th>RF+imputed_nan</th>\n",
       "      <td>0.848243</td>\n",
       "      <td>0.837741</td>\n",
       "    </tr>\n",
       "    <tr>\n",
       "      <th>LogReg+dropped_nan</th>\n",
       "      <td>0.910690</td>\n",
       "      <td>0.709884</td>\n",
       "    </tr>\n",
       "    <tr>\n",
       "      <th>KNN+dropped_nan</th>\n",
       "      <td>0.912043</td>\n",
       "      <td>0.618683</td>\n",
       "    </tr>\n",
       "    <tr>\n",
       "      <th>RF+dropped_nan</th>\n",
       "      <td>0.941813</td>\n",
       "      <td>0.895652</td>\n",
       "    </tr>\n",
       "  </tbody>\n",
       "</table>\n",
       "</div>"
      ],
      "text/plain": [
       "                    accuracy_test  roc_auc_test\n",
       "LogReg+imputed_nan       0.793930      0.653630\n",
       "KNN+imputed_nan          0.816294      0.697491\n",
       "RF+imputed_nan           0.848243      0.837741\n",
       "LogReg+dropped_nan       0.910690      0.709884\n",
       "KNN+dropped_nan          0.912043      0.618683\n",
       "RF+dropped_nan           0.941813      0.895652"
      ]
     },
     "execution_count": 62,
     "metadata": {},
     "output_type": "execute_result"
    }
   ],
   "source": [
    "results"
   ]
  },
  {
   "cell_type": "markdown",
   "metadata": {},
   "source": [
    "## Podsumowanie"
   ]
  },
  {
   "cell_type": "markdown",
   "metadata": {},
   "source": [
    "Porównując dwie strategie radzenia sobie z brakami danych, \n",
    "zwyczajne ich usuwanie wydaje się mieć przewagę nad próbą uzupełnienia ich średnią – tak przynajmniej\n",
    "wynika z modeli regresji logistycznej oraz lasów losowych, które lepiej sobie radzą w tym przypadku. \n",
    "Wynik klasyfikatora opartego na algorytmie najbliższych sąsiadów nie jest jednoznaczny.\n",
    "\n",
    "\n",
    "Najlepszym modelem okazały się być lasy losowe."
   ]
  }
 ],
 "metadata": {
  "kernelspec": {
   "display_name": "Python 3",
   "language": "python",
   "name": "python3"
  },
  "language_info": {
   "codemirror_mode": {
    "name": "ipython",
    "version": 3
   },
   "file_extension": ".py",
   "mimetype": "text/x-python",
   "name": "python",
   "nbconvert_exporter": "python",
   "pygments_lexer": "ipython3",
   "version": "3.6.8"
  }
 },
 "nbformat": 4,
 "nbformat_minor": 4
}
