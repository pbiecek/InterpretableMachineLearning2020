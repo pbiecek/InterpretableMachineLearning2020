{
 "cells": [
  {
   "cell_type": "markdown",
   "metadata": {},
   "source": [
    "# IML - Homework 4"
   ]
  },
  {
   "cell_type": "markdown",
   "metadata": {},
   "source": [
    "## Aleksandra Łuczak"
   ]
  },
  {
   "cell_type": "markdown",
   "metadata": {},
   "source": [
    "### Dataset: FICO"
   ]
  },
  {
   "cell_type": "markdown",
   "metadata": {},
   "source": [
    "Są to dane kredytowe, są w niej zmienne mówiące o zachowaniu klientów na rachunkach oraz o ich wześniejszych opóźnieniach w spłacaniu kredytu, oraz dane zagregowane  o tym ile kont i jak długo posiadają."
   ]
  },
  {
   "cell_type": "markdown",
   "metadata": {},
   "source": [
    "#### CaterisParibus"
   ]
  },
  {
   "cell_type": "code",
   "execution_count": 1,
   "metadata": {},
   "outputs": [],
   "source": [
    "import Appendix_AL as al"
   ]
  },
  {
   "cell_type": "markdown",
   "metadata": {},
   "source": [
    "### Jeden model - kilka obserwacji"
   ]
  },
  {
   "cell_type": "markdown",
   "metadata": {},
   "source": [
    "Poniżej widać wykres dla zmiennej `MSinceMostRecentTradeOpen`, która mówi o ilości miesięcy od ostatniego uruchomionego konta, które dana osoba posiada.\n",
    "\n",
    "Widzimy dwie obserwację z klasy True i dwie obserwację z klasy False.\n",
    "Obie obserwacje z klasy True wartość zmiennej `MSinceMostRecentTradeOpen` mają równą 0, oraz zmienna 'FalseNegative' ( na wykresie czerwona linia ) ma tę wartość dośc małą, bo 6. \n",
    "\n",
    "Widać na wykresie, że dla obserwacji z klasy True zmiana wartości zmiennej `MSinceMostRecentTradeOpen` nie wpływa na predykcję, jednakże dla klasy False (obserwacja czerwona i pomarańczowa) zmiana wartości zmiennej `MSinceMostRecentTradeOpen` wpływa negatywnie na predykcję, to znaczy, obniżając końcowe prawdopodobieństwo, co można zinterpretować jako zbliżanie się do przeciwnej klasy. \n",
    "\n",
    "\n",
    "Więc można stweirdzić, że ta zmienna nie wpływa na predykcję klasy False, tylko na predykcję klasy True - im wyższa wartość zmiennej, tym osoby posiadające podobne zestawy cech do obserwacji czerwonych i pomarańczowych, tym będą one łagodniej oceniane."
   ]
  },
  {
   "cell_type": "code",
   "execution_count": 2,
   "metadata": {},
   "outputs": [
    {
     "data": {
      "text/html": [
       "\n",
       "        <iframe\n",
       "            width=\"660\"\n",
       "            height=\"550\"\n",
       "            src=\"_plot_files/plots0.html\"\n",
       "            frameborder=\"0\"\n",
       "            allowfullscreen\n",
       "        ></iframe>\n",
       "        "
      ],
      "text/plain": [
       "<IPython.lib.display.IFrame at 0x7f90ba278490>"
      ]
     },
     "metadata": {},
     "output_type": "display_data"
    }
   ],
   "source": [
    "al.create_cp_different_profiles()"
   ]
  },
  {
   "cell_type": "markdown",
   "metadata": {},
   "source": [
    "### Jedna obserwacja - kilka modeli"
   ]
  },
  {
   "cell_type": "markdown",
   "metadata": {},
   "source": [
    "Do poniższych rozważań wizięłam obserwację 'False Negative' - tę samą co powyżej. Wytrenowałam dwa modele, model liniowy oraz sieć neuronową. Wyniki modelu liniowego zaznaczone są na niebiesko, a sieci są pokazane na pomarańczowo.\n",
    "\n",
    "Weźmy pod obserwację pierwszy wykres, przedstawia on najciekawszą sytuację, mianowicie dla zmiennej `MSinceOldestTradeOpen` widzimy różne zachowanie modeli, to znaczy, dla modelu liniowego omawiana zmienna ma tendencję rosnącą, tzn wraz ze wzorstem wartości zmiennej prawdopodobieństwo należenia do klasy 0, czyli gorzej spłacających kredyt, wzrasta. Jednak sieć neuronowa ma odmienne zdanie na ten temat, dla wartości niższych niż w naszej obserwacji tendencje się zmieniają dość dynamicznie, jednak powyżej wartości z obserwacji, jeżeli zwiększymy wartości zmiennej `MSinceOldestTradeOpen` prawdopodobieństwo należenia do klasy źle spłacających maleje. \n",
    "\n",
    "Jest to różne zachowanie modeli dla tej samej obserwacji i tej samej zmiennej.\n",
    "\n",
    "Poniższe dwa wykresy, czyli dla zmiennej `AverageMInFile` oraz `MSinceMostRecentTradeOpen` pokazują że tendencje zmian na tych zmienych i ich wpływ na wynik modeli jest porównywalny, oba wykresy są malejące, jednakże, pokazuje to różnicę w działaniu ych modeli."
   ]
  },
  {
   "cell_type": "code",
   "execution_count": 3,
   "metadata": {},
   "outputs": [
    {
     "data": {
      "text/html": [
       "\n",
       "        <iframe\n",
       "            width=\"660\"\n",
       "            height=\"550\"\n",
       "            src=\"_plot_files/plots1.html\"\n",
       "            frameborder=\"0\"\n",
       "            allowfullscreen\n",
       "        ></iframe>\n",
       "        "
      ],
      "text/plain": [
       "<IPython.lib.display.IFrame at 0x7f90f4b9af10>"
      ]
     },
     "metadata": {},
     "output_type": "display_data"
    },
    {
     "data": {
      "text/html": [
       "\n",
       "        <iframe\n",
       "            width=\"660\"\n",
       "            height=\"550\"\n",
       "            src=\"_plot_files/plots2.html\"\n",
       "            frameborder=\"0\"\n",
       "            allowfullscreen\n",
       "        ></iframe>\n",
       "        "
      ],
      "text/plain": [
       "<IPython.lib.display.IFrame at 0x7f90be193190>"
      ]
     },
     "metadata": {},
     "output_type": "display_data"
    },
    {
     "data": {
      "text/html": [
       "\n",
       "        <iframe\n",
       "            width=\"660\"\n",
       "            height=\"550\"\n",
       "            src=\"_plot_files/plots3.html\"\n",
       "            frameborder=\"0\"\n",
       "            allowfullscreen\n",
       "        ></iframe>\n",
       "        "
      ],
      "text/plain": [
       "<IPython.lib.display.IFrame at 0x7f90f4b9af10>"
      ]
     },
     "metadata": {},
     "output_type": "display_data"
    }
   ],
   "source": [
    "al.create_cp_different_models()"
   ]
  },
  {
   "cell_type": "code",
   "execution_count": null,
   "metadata": {},
   "outputs": [],
   "source": []
  }
 ],
 "metadata": {
  "kernelspec": {
   "display_name": "Pyton(iml)",
   "language": "python",
   "name": "iml_env"
  },
  "language_info": {
   "codemirror_mode": {
    "name": "ipython",
    "version": 3
   },
   "file_extension": ".py",
   "mimetype": "text/x-python",
   "name": "python",
   "nbconvert_exporter": "python",
   "pygments_lexer": "ipython3",
   "version": "3.7.6"
  }
 },
 "nbformat": 4,
 "nbformat_minor": 4
}
