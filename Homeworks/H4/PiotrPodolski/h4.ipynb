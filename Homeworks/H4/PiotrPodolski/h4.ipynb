{
 "cells": [
  {
   "cell_type": "code",
   "execution_count": 2,
   "metadata": {},
   "outputs": [],
   "source": [
    "%matplotlib inline\n",
    "\n",
    "import numpy as np\n",
    "import matplotlib.pyplot as plt\n",
    "import pandas as pd\n",
    "import tensorflow as tf\n",
    "import seaborn as sns\n",
    "\n",
    "from sklearn.model_selection import train_test_split\n",
    "from sklearn.metrics import r2_score\n",
    "from sklearn.linear_model import LinearRegression\n",
    "from sklearn.ensemble import GradientBoostingRegressor\n",
    "from sklearn.model_selection import train_test_split\n",
    "from aix360.datasets import MEPSDataset\n",
    "\n",
    "\n",
    "from dalex import explainer\n",
    "\n",
    "\n",
    "pd.options.display.max_columns = 45"
   ]
  },
  {
   "cell_type": "code",
   "execution_count": 3,
   "metadata": {},
   "outputs": [],
   "source": [
    "data = MEPSDataset().data()"
   ]
  },
  {
   "cell_type": "code",
   "execution_count": 4,
   "metadata": {},
   "outputs": [],
   "source": [
    "data.reset_index(drop=True, inplace=True)"
   ]
  },
  {
   "cell_type": "code",
   "execution_count": 5,
   "metadata": {},
   "outputs": [],
   "source": [
    "data.drop(columns= ['PANEL', 'PERSONWT'], inplace=True)"
   ]
  },
  {
   "cell_type": "code",
   "execution_count": 6,
   "metadata": {},
   "outputs": [],
   "source": [
    "data = data[data['HEALTHEXP'] < 150000]"
   ]
  },
  {
   "cell_type": "code",
   "execution_count": 7,
   "metadata": {},
   "outputs": [
    {
     "data": {
      "text/plain": [
       "[<matplotlib.lines.Line2D at 0x149be3050>]"
      ]
     },
     "execution_count": 7,
     "metadata": {},
     "output_type": "execute_result"
    },
    {
     "data": {
      "image/png": "[encoded data removed]",
      "text/plain": [
       "<Figure size 432x288 with 1 Axes>"
      ]
     },
     "metadata": {
      "needs_background": "light"
     },
     "output_type": "display_data"
    }
   ],
   "source": [
    "plt.plot(data.HEALTHEXP)\n"
   ]
  },
  {
   "cell_type": "code",
   "execution_count": 8,
   "metadata": {},
   "outputs": [
    {
     "data": {
      "text/html": [
       "<div>\n",
       "<style scoped>\n",
       "    .dataframe tbody tr th:only-of-type {\n",
       "        vertical-align: middle;\n",
       "    }\n",
       "\n",
       "    .dataframe tbody tr th {\n",
       "        vertical-align: top;\n",
       "    }\n",
       "\n",
       "    .dataframe thead th {\n",
       "        text-align: right;\n",
       "    }\n",
       "</style>\n",
       "<table border=\"1\" class=\"dataframe\">\n",
       "  <thead>\n",
       "    <tr style=\"text-align: right;\">\n",
       "      <th></th>\n",
       "      <th>REGION</th>\n",
       "      <th>AGE31X</th>\n",
       "      <th>GENDER</th>\n",
       "      <th>RACE3</th>\n",
       "      <th>MARRY31X</th>\n",
       "      <th>EDRECODE</th>\n",
       "      <th>FTSTU31X</th>\n",
       "      <th>ACTDTY31</th>\n",
       "      <th>HONRDC31</th>\n",
       "      <th>RTHLTH31</th>\n",
       "      <th>MNHLTH31</th>\n",
       "      <th>HIBPDX</th>\n",
       "      <th>CHDDX</th>\n",
       "      <th>ANGIDX</th>\n",
       "      <th>MIDX</th>\n",
       "      <th>OHRTDX</th>\n",
       "      <th>STRKDX</th>\n",
       "      <th>EMPHDX</th>\n",
       "      <th>CHBRON31</th>\n",
       "      <th>CHOLDX</th>\n",
       "      <th>CANCERDX</th>\n",
       "      <th>DIABDX</th>\n",
       "      <th>JTPAIN31</th>\n",
       "      <th>ARTHDX</th>\n",
       "      <th>ARTHTYPE</th>\n",
       "      <th>ASTHDX</th>\n",
       "      <th>ADHDADDX</th>\n",
       "      <th>PREGNT31</th>\n",
       "      <th>WLKLIM31</th>\n",
       "      <th>ACTLIM31</th>\n",
       "      <th>SOCLIM31</th>\n",
       "      <th>COGLIM31</th>\n",
       "      <th>DFHEAR42</th>\n",
       "      <th>DFSEE42</th>\n",
       "      <th>ADSMOK42</th>\n",
       "      <th>PCS42</th>\n",
       "      <th>MCS42</th>\n",
       "      <th>K6SUM42</th>\n",
       "      <th>PHQ242</th>\n",
       "      <th>EMPST31</th>\n",
       "      <th>POVCAT15</th>\n",
       "      <th>INSCOV15</th>\n",
       "      <th>INCOME_M</th>\n",
       "      <th>HEALTHEXP</th>\n",
       "    </tr>\n",
       "  </thead>\n",
       "  <tbody>\n",
       "    <tr>\n",
       "      <th>0</th>\n",
       "      <td>2</td>\n",
       "      <td>52</td>\n",
       "      <td>0.0</td>\n",
       "      <td>0.0</td>\n",
       "      <td>5</td>\n",
       "      <td>13</td>\n",
       "      <td>-1</td>\n",
       "      <td>2</td>\n",
       "      <td>2</td>\n",
       "      <td>4</td>\n",
       "      <td>1</td>\n",
       "      <td>1</td>\n",
       "      <td>1</td>\n",
       "      <td>1</td>\n",
       "      <td>1</td>\n",
       "      <td>1</td>\n",
       "      <td>2</td>\n",
       "      <td>1</td>\n",
       "      <td>2</td>\n",
       "      <td>1</td>\n",
       "      <td>2</td>\n",
       "      <td>1</td>\n",
       "      <td>1</td>\n",
       "      <td>1</td>\n",
       "      <td>3</td>\n",
       "      <td>2</td>\n",
       "      <td>-1</td>\n",
       "      <td>-1</td>\n",
       "      <td>1</td>\n",
       "      <td>1</td>\n",
       "      <td>2</td>\n",
       "      <td>2</td>\n",
       "      <td>2</td>\n",
       "      <td>2</td>\n",
       "      <td>2</td>\n",
       "      <td>25.93</td>\n",
       "      <td>58.47</td>\n",
       "      <td>3</td>\n",
       "      <td>0</td>\n",
       "      <td>4</td>\n",
       "      <td>1</td>\n",
       "      <td>2</td>\n",
       "      <td>11390.0</td>\n",
       "      <td>46612</td>\n",
       "    </tr>\n",
       "    <tr>\n",
       "      <th>1</th>\n",
       "      <td>2</td>\n",
       "      <td>55</td>\n",
       "      <td>1.0</td>\n",
       "      <td>0.0</td>\n",
       "      <td>3</td>\n",
       "      <td>14</td>\n",
       "      <td>-1</td>\n",
       "      <td>2</td>\n",
       "      <td>2</td>\n",
       "      <td>4</td>\n",
       "      <td>1</td>\n",
       "      <td>1</td>\n",
       "      <td>2</td>\n",
       "      <td>2</td>\n",
       "      <td>2</td>\n",
       "      <td>2</td>\n",
       "      <td>2</td>\n",
       "      <td>2</td>\n",
       "      <td>2</td>\n",
       "      <td>1</td>\n",
       "      <td>2</td>\n",
       "      <td>1</td>\n",
       "      <td>2</td>\n",
       "      <td>1</td>\n",
       "      <td>3</td>\n",
       "      <td>1</td>\n",
       "      <td>-1</td>\n",
       "      <td>-1</td>\n",
       "      <td>1</td>\n",
       "      <td>1</td>\n",
       "      <td>2</td>\n",
       "      <td>2</td>\n",
       "      <td>2</td>\n",
       "      <td>2</td>\n",
       "      <td>2</td>\n",
       "      <td>20.42</td>\n",
       "      <td>26.57</td>\n",
       "      <td>17</td>\n",
       "      <td>6</td>\n",
       "      <td>4</td>\n",
       "      <td>3</td>\n",
       "      <td>2</td>\n",
       "      <td>11390.0</td>\n",
       "      <td>9207</td>\n",
       "    </tr>\n",
       "    <tr>\n",
       "      <th>2</th>\n",
       "      <td>2</td>\n",
       "      <td>22</td>\n",
       "      <td>1.0</td>\n",
       "      <td>0.0</td>\n",
       "      <td>5</td>\n",
       "      <td>13</td>\n",
       "      <td>3</td>\n",
       "      <td>2</td>\n",
       "      <td>2</td>\n",
       "      <td>1</td>\n",
       "      <td>1</td>\n",
       "      <td>2</td>\n",
       "      <td>2</td>\n",
       "      <td>2</td>\n",
       "      <td>2</td>\n",
       "      <td>2</td>\n",
       "      <td>2</td>\n",
       "      <td>2</td>\n",
       "      <td>2</td>\n",
       "      <td>2</td>\n",
       "      <td>2</td>\n",
       "      <td>2</td>\n",
       "      <td>2</td>\n",
       "      <td>2</td>\n",
       "      <td>-1</td>\n",
       "      <td>2</td>\n",
       "      <td>-1</td>\n",
       "      <td>2</td>\n",
       "      <td>2</td>\n",
       "      <td>2</td>\n",
       "      <td>2</td>\n",
       "      <td>2</td>\n",
       "      <td>2</td>\n",
       "      <td>2</td>\n",
       "      <td>2</td>\n",
       "      <td>53.12</td>\n",
       "      <td>50.33</td>\n",
       "      <td>7</td>\n",
       "      <td>0</td>\n",
       "      <td>1</td>\n",
       "      <td>2</td>\n",
       "      <td>2</td>\n",
       "      <td>18000.0</td>\n",
       "      <td>808</td>\n",
       "    </tr>\n",
       "    <tr>\n",
       "      <th>3</th>\n",
       "      <td>2</td>\n",
       "      <td>2</td>\n",
       "      <td>0.0</td>\n",
       "      <td>0.0</td>\n",
       "      <td>6</td>\n",
       "      <td>-1</td>\n",
       "      <td>-1</td>\n",
       "      <td>3</td>\n",
       "      <td>3</td>\n",
       "      <td>1</td>\n",
       "      <td>1</td>\n",
       "      <td>-1</td>\n",
       "      <td>-1</td>\n",
       "      <td>-1</td>\n",
       "      <td>-1</td>\n",
       "      <td>-1</td>\n",
       "      <td>-1</td>\n",
       "      <td>-1</td>\n",
       "      <td>-1</td>\n",
       "      <td>-1</td>\n",
       "      <td>-1</td>\n",
       "      <td>-1</td>\n",
       "      <td>-1</td>\n",
       "      <td>-1</td>\n",
       "      <td>-1</td>\n",
       "      <td>2</td>\n",
       "      <td>-1</td>\n",
       "      <td>-1</td>\n",
       "      <td>2</td>\n",
       "      <td>-1</td>\n",
       "      <td>2</td>\n",
       "      <td>-1</td>\n",
       "      <td>2</td>\n",
       "      <td>2</td>\n",
       "      <td>-1</td>\n",
       "      <td>-1.00</td>\n",
       "      <td>-1.00</td>\n",
       "      <td>-1</td>\n",
       "      <td>-1</td>\n",
       "      <td>-1</td>\n",
       "      <td>2</td>\n",
       "      <td>2</td>\n",
       "      <td>385.0</td>\n",
       "      <td>2721</td>\n",
       "    </tr>\n",
       "    <tr>\n",
       "      <th>4</th>\n",
       "      <td>3</td>\n",
       "      <td>25</td>\n",
       "      <td>1.0</td>\n",
       "      <td>0.0</td>\n",
       "      <td>1</td>\n",
       "      <td>14</td>\n",
       "      <td>-1</td>\n",
       "      <td>2</td>\n",
       "      <td>2</td>\n",
       "      <td>1</td>\n",
       "      <td>3</td>\n",
       "      <td>2</td>\n",
       "      <td>2</td>\n",
       "      <td>2</td>\n",
       "      <td>2</td>\n",
       "      <td>2</td>\n",
       "      <td>2</td>\n",
       "      <td>2</td>\n",
       "      <td>2</td>\n",
       "      <td>2</td>\n",
       "      <td>2</td>\n",
       "      <td>2</td>\n",
       "      <td>1</td>\n",
       "      <td>2</td>\n",
       "      <td>-1</td>\n",
       "      <td>2</td>\n",
       "      <td>-1</td>\n",
       "      <td>1</td>\n",
       "      <td>2</td>\n",
       "      <td>2</td>\n",
       "      <td>2</td>\n",
       "      <td>2</td>\n",
       "      <td>2</td>\n",
       "      <td>2</td>\n",
       "      <td>2</td>\n",
       "      <td>59.89</td>\n",
       "      <td>45.91</td>\n",
       "      <td>9</td>\n",
       "      <td>2</td>\n",
       "      <td>1</td>\n",
       "      <td>3</td>\n",
       "      <td>1</td>\n",
       "      <td>3700.0</td>\n",
       "      <td>1573</td>\n",
       "    </tr>\n",
       "  </tbody>\n",
       "</table>\n",
       "</div>"
      ],
      "text/plain": [
       "   REGION  AGE31X  GENDER  RACE3  MARRY31X  EDRECODE  FTSTU31X  ACTDTY31  \\\n",
       "0       2      52     0.0    0.0         5        13        -1         2   \n",
       "1       2      55     1.0    0.0         3        14        -1         2   \n",
       "2       2      22     1.0    0.0         5        13         3         2   \n",
       "3       2       2     0.0    0.0         6        -1        -1         3   \n",
       "4       3      25     1.0    0.0         1        14        -1         2   \n",
       "\n",
       "   HONRDC31  RTHLTH31  MNHLTH31  HIBPDX  CHDDX  ANGIDX  MIDX  OHRTDX  STRKDX  \\\n",
       "0         2         4         1       1      1       1     1       1       2   \n",
       "1         2         4         1       1      2       2     2       2       2   \n",
       "2         2         1         1       2      2       2     2       2       2   \n",
       "3         3         1         1      -1     -1      -1    -1      -1      -1   \n",
       "4         2         1         3       2      2       2     2       2       2   \n",
       "\n",
       "   EMPHDX  CHBRON31  CHOLDX  CANCERDX  DIABDX  JTPAIN31  ARTHDX  ARTHTYPE  \\\n",
       "0       1         2       1         2       1         1       1         3   \n",
       "1       2         2       1         2       1         2       1         3   \n",
       "2       2         2       2         2       2         2       2        -1   \n",
       "3      -1        -1      -1        -1      -1        -1      -1        -1   \n",
       "4       2         2       2         2       2         1       2        -1   \n",
       "\n",
       "   ASTHDX  ADHDADDX  PREGNT31  WLKLIM31  ACTLIM31  SOCLIM31  COGLIM31  \\\n",
       "0       2        -1        -1         1         1         2         2   \n",
       "1       1        -1        -1         1         1         2         2   \n",
       "2       2        -1         2         2         2         2         2   \n",
       "3       2        -1        -1         2        -1         2        -1   \n",
       "4       2        -1         1         2         2         2         2   \n",
       "\n",
       "   DFHEAR42  DFSEE42  ADSMOK42  PCS42  MCS42  K6SUM42  PHQ242  EMPST31  \\\n",
       "0         2        2         2  25.93  58.47        3       0        4   \n",
       "1         2        2         2  20.42  26.57       17       6        4   \n",
       "2         2        2         2  53.12  50.33        7       0        1   \n",
       "3         2        2        -1  -1.00  -1.00       -1      -1       -1   \n",
       "4         2        2         2  59.89  45.91        9       2        1   \n",
       "\n",
       "   POVCAT15  INSCOV15  INCOME_M  HEALTHEXP  \n",
       "0         1         2   11390.0      46612  \n",
       "1         3         2   11390.0       9207  \n",
       "2         2         2   18000.0        808  \n",
       "3         2         2     385.0       2721  \n",
       "4         3         1    3700.0       1573  "
      ]
     },
     "execution_count": 8,
     "metadata": {},
     "output_type": "execute_result"
    }
   ],
   "source": [
    "data.head()"
   ]
  },
  {
   "cell_type": "code",
   "execution_count": 9,
   "metadata": {},
   "outputs": [],
   "source": [
    "def score_r2_print(clf, X_train, X_test, y_train, y_test):\n",
    "    print('Training R^2:', r2_score(y_train, clf.predict(X_train)))\n",
    "    print('Test R^2:', r2_score(y_test, clf.predict(X_test)))"
   ]
  },
  {
   "cell_type": "markdown",
   "metadata": {},
   "source": [
    "# Data preprocessing"
   ]
  },
  {
   "cell_type": "code",
   "execution_count": 10,
   "metadata": {},
   "outputs": [],
   "source": [
    "cols = data.columns"
   ]
  },
  {
   "cell_type": "code",
   "execution_count": 11,
   "metadata": {},
   "outputs": [],
   "source": [
    "categoricalCols = [\n",
    "    'REGION','GENDER', 'RACE3', 'MARRY31X','EDRECODE','FTSTU31X','ACTDTY31','HONRDC31',\n",
    "    'RTHLTH31','MNHLTH31','HIBPDX','CHDDX','ANGIDX','MIDX','OHRTDX','STRKDX','EMPHDX',\n",
    "    'CHBRON31','CHOLDX','CANCERDX','DIABDX','JTPAIN31','ARTHDX', 'ARTHTYPE','ASTHDX',\n",
    "    'ADHDADDX','PREGNT31','WLKLIM31','ACTLIM31','SOCLIM31','COGLIM31','DFHEAR42',\n",
    "    'DFSEE42','ADSMOK42','PHQ242','EMPST31','POVCAT15','INSCOV15'\n",
    "]"
   ]
  },
  {
   "cell_type": "code",
   "execution_count": 12,
   "metadata": {},
   "outputs": [],
   "source": [
    "X, y = data.drop({'HEALTHEXP'}, 1), data['HEALTHEXP']"
   ]
  },
  {
   "cell_type": "code",
   "execution_count": 13,
   "metadata": {},
   "outputs": [],
   "source": [
    "X_cat = X.copy()\n",
    "for cat in categoricalCols:\n",
    "    X_cat[cat] = X_cat[cat].astype('category')"
   ]
  },
  {
   "cell_type": "code",
   "execution_count": 14,
   "metadata": {},
   "outputs": [],
   "source": [
    "X_copied = X.copy()\n",
    "X_copied['REGION'] = X_copied['REGION'].map({i: 'REGION_' + str(i) for i in range(1, 5)})\n",
    "X_copied['MARRY31X'] = X_copied['MARRY31X'].map({i: 'MARRY31X_' + str(i) for i in range(1, 11)})\n",
    "X_copied['GENDER'] = X_copied['GENDER'].map({0: 'MALE', 1: 'FEMALE'})\n",
    "X_copied['RACE3'] = X_copied['RACE3'].map({0: 'RACE_0', 1: 'RACE_1'})\n",
    "X_copied['EDRECODE'] = X_copied['EDRECODE'].map({-1: \"EDRECODE_INAPPLICABLE\", 1: 'EDRECODE_LSEQ_8TH_GRADE', 2: 'EDRECODE_9-12TH_GRAD', 13: 'EDRECODE_GED_OR_GRAD', 14:'EDRECODE_BEYOND_HS_OR_COLLEGE', 15: 'EDRECODE_BACHELOR', 16: 'EDRECODE_HIGHER_DEGREE'})\n",
    "X_copied['FTSTU31X'] = X_copied['FTSTU31X'].map({-1: 'FTSTU31X_INAPPLICABLE', 1: 'FTSTU31X_FULLTIME', 2: 'FTSTU31X_PARTTIME', 3: 'FTSTU31X_NOT_A_STUDENT'})\n",
    "X_copied['ACTDTY31'] = X_copied['ACTDTY31'].map({-1: 'ACTDTY31_INAPPLICABLE', 1: 'ACTDTY31_YES', 2 : \"ACTDTY31_NO\", 3: 'ACTDTY31_INAPPLICABLE_UNDER_16', 4: 'ACTDTY31_INAPPLICABLE_OVER_59'})\n",
    "X_copied['HONRDC31'] = X_copied['HONRDC31'].map({-1: 'HONRDC31_INAPPLICABLE', 1: 'HONRDC31_YES', 2 : \"HONRDC31_NO\", 3: 'HONRDC31_INAPPLICABLE_UNDER_16', 4: 'HONRDC31_ACTIVE_DUTY'})\n",
    "X_copied['ARTHTYPE'] = X_copied['ARTHTYPE'].map({-1: 'ARTHTYPE_INAPPLICABLE', 1: 'ARTHTYPE_RHEUMATOID_ARTHRITIS', 2 : \"ARTHTYPE_OSTEOARTHRITIS\", 3: 'ARTHTYPE_NOT_SPECIFIED'})\n",
    "X_copied['POVCAT15'] = X_copied['POVCAT15'].map({ 1: 'POVCAT15_POOR_OR_NEGATIVE', 2 : \"POVCAT15_NEAR_POOR\", 3: 'POVCAT15_LOW_INCOME', 4: 'POVCAT15_MIDDLE_INCOME', 5: 'POVCAT15_HIGH_INCOME'})\n",
    "X_copied['INSCOV15'] = X_copied['INSCOV15'].map({1: 'INSCOV15_ANY_PRIVATE', 2: 'INSCOV15_PUBLIC_ONLY', 3: 'INSCOV15_UNINSURED'})\n",
    "\n",
    "\n",
    "for cat in ['RTHLTH31', 'MNHLTH31', 'PHQ242', 'EMPST31']:\n",
    "    X_copied[cat] = X_copied[cat].map({i: cat + '_' + str(i) for i in range(1, 7)})\n",
    "    \n",
    "\n",
    "for cat in ['HIBPDX', 'CHDDX', 'ANGIDX', 'MIDX', 'OHRTDX', 'STRKDX', 'EMPHDX',\n",
    "            'CHBRON31', 'CHOLDX', 'CANCERDX', 'DIABDX', 'JTPAIN31', 'ARTHDX',\n",
    "            'ASTHDX', 'ADHDADDX', 'PREGNT31', 'WLKLIM31', 'ACTLIM31',\n",
    "            'SOCLIM31', 'COGLIM31', 'DFHEAR42', 'DFSEE42', 'ADSMOK42']:\n",
    "    X_copied[cat] = X_copied[cat].map({-1: cat + \"_INAPPLICABLE\", 1: cat + \"_YES\", 2 : cat + \"_NO\"})\n",
    "\n",
    "X_copied = pd.get_dummies(X_copied, prefix='', prefix_sep='')"
   ]
  },
  {
   "cell_type": "code",
   "execution_count": 15,
   "metadata": {},
   "outputs": [
    {
     "data": {
      "text/html": [
       "<div>\n",
       "<style scoped>\n",
       "    .dataframe tbody tr th:only-of-type {\n",
       "        vertical-align: middle;\n",
       "    }\n",
       "\n",
       "    .dataframe tbody tr th {\n",
       "        vertical-align: top;\n",
       "    }\n",
       "\n",
       "    .dataframe thead th {\n",
       "        text-align: right;\n",
       "    }\n",
       "</style>\n",
       "<table border=\"1\" class=\"dataframe\">\n",
       "  <thead>\n",
       "    <tr style=\"text-align: right;\">\n",
       "      <th></th>\n",
       "      <th>AGE31X</th>\n",
       "      <th>PCS42</th>\n",
       "      <th>MCS42</th>\n",
       "      <th>K6SUM42</th>\n",
       "      <th>INCOME_M</th>\n",
       "      <th>REGION_1</th>\n",
       "      <th>REGION_2</th>\n",
       "      <th>REGION_3</th>\n",
       "      <th>REGION_4</th>\n",
       "      <th>FEMALE</th>\n",
       "      <th>MALE</th>\n",
       "      <th>RACE_0</th>\n",
       "      <th>RACE_1</th>\n",
       "      <th>MARRY31X_1</th>\n",
       "      <th>MARRY31X_10</th>\n",
       "      <th>MARRY31X_2</th>\n",
       "      <th>MARRY31X_3</th>\n",
       "      <th>MARRY31X_4</th>\n",
       "      <th>MARRY31X_5</th>\n",
       "      <th>MARRY31X_6</th>\n",
       "      <th>MARRY31X_7</th>\n",
       "      <th>MARRY31X_8</th>\n",
       "      <th>...</th>\n",
       "      <th>DFSEE42_YES</th>\n",
       "      <th>ADSMOK42_INAPPLICABLE</th>\n",
       "      <th>ADSMOK42_NO</th>\n",
       "      <th>ADSMOK42_YES</th>\n",
       "      <th>PHQ242_1</th>\n",
       "      <th>PHQ242_2</th>\n",
       "      <th>PHQ242_3</th>\n",
       "      <th>PHQ242_4</th>\n",
       "      <th>PHQ242_5</th>\n",
       "      <th>PHQ242_6</th>\n",
       "      <th>EMPST31_1</th>\n",
       "      <th>EMPST31_2</th>\n",
       "      <th>EMPST31_3</th>\n",
       "      <th>EMPST31_4</th>\n",
       "      <th>POVCAT15_HIGH_INCOME</th>\n",
       "      <th>POVCAT15_LOW_INCOME</th>\n",
       "      <th>POVCAT15_MIDDLE_INCOME</th>\n",
       "      <th>POVCAT15_NEAR_POOR</th>\n",
       "      <th>POVCAT15_POOR_OR_NEGATIVE</th>\n",
       "      <th>INSCOV15_ANY_PRIVATE</th>\n",
       "      <th>INSCOV15_PUBLIC_ONLY</th>\n",
       "      <th>INSCOV15_UNINSURED</th>\n",
       "    </tr>\n",
       "  </thead>\n",
       "  <tbody>\n",
       "    <tr>\n",
       "      <th>0</th>\n",
       "      <td>52</td>\n",
       "      <td>25.93</td>\n",
       "      <td>58.47</td>\n",
       "      <td>3</td>\n",
       "      <td>11390.0</td>\n",
       "      <td>0</td>\n",
       "      <td>1</td>\n",
       "      <td>0</td>\n",
       "      <td>0</td>\n",
       "      <td>0</td>\n",
       "      <td>1</td>\n",
       "      <td>1</td>\n",
       "      <td>0</td>\n",
       "      <td>0</td>\n",
       "      <td>0</td>\n",
       "      <td>0</td>\n",
       "      <td>0</td>\n",
       "      <td>0</td>\n",
       "      <td>1</td>\n",
       "      <td>0</td>\n",
       "      <td>0</td>\n",
       "      <td>0</td>\n",
       "      <td>...</td>\n",
       "      <td>0</td>\n",
       "      <td>0</td>\n",
       "      <td>1</td>\n",
       "      <td>0</td>\n",
       "      <td>0</td>\n",
       "      <td>0</td>\n",
       "      <td>0</td>\n",
       "      <td>0</td>\n",
       "      <td>0</td>\n",
       "      <td>0</td>\n",
       "      <td>0</td>\n",
       "      <td>0</td>\n",
       "      <td>0</td>\n",
       "      <td>1</td>\n",
       "      <td>0</td>\n",
       "      <td>0</td>\n",
       "      <td>0</td>\n",
       "      <td>0</td>\n",
       "      <td>1</td>\n",
       "      <td>0</td>\n",
       "      <td>1</td>\n",
       "      <td>0</td>\n",
       "    </tr>\n",
       "    <tr>\n",
       "      <th>1</th>\n",
       "      <td>55</td>\n",
       "      <td>20.42</td>\n",
       "      <td>26.57</td>\n",
       "      <td>17</td>\n",
       "      <td>11390.0</td>\n",
       "      <td>0</td>\n",
       "      <td>1</td>\n",
       "      <td>0</td>\n",
       "      <td>0</td>\n",
       "      <td>1</td>\n",
       "      <td>0</td>\n",
       "      <td>1</td>\n",
       "      <td>0</td>\n",
       "      <td>0</td>\n",
       "      <td>0</td>\n",
       "      <td>0</td>\n",
       "      <td>1</td>\n",
       "      <td>0</td>\n",
       "      <td>0</td>\n",
       "      <td>0</td>\n",
       "      <td>0</td>\n",
       "      <td>0</td>\n",
       "      <td>...</td>\n",
       "      <td>0</td>\n",
       "      <td>0</td>\n",
       "      <td>1</td>\n",
       "      <td>0</td>\n",
       "      <td>0</td>\n",
       "      <td>0</td>\n",
       "      <td>0</td>\n",
       "      <td>0</td>\n",
       "      <td>0</td>\n",
       "      <td>1</td>\n",
       "      <td>0</td>\n",
       "      <td>0</td>\n",
       "      <td>0</td>\n",
       "      <td>1</td>\n",
       "      <td>0</td>\n",
       "      <td>1</td>\n",
       "      <td>0</td>\n",
       "      <td>0</td>\n",
       "      <td>0</td>\n",
       "      <td>0</td>\n",
       "      <td>1</td>\n",
       "      <td>0</td>\n",
       "    </tr>\n",
       "    <tr>\n",
       "      <th>2</th>\n",
       "      <td>22</td>\n",
       "      <td>53.12</td>\n",
       "      <td>50.33</td>\n",
       "      <td>7</td>\n",
       "      <td>18000.0</td>\n",
       "      <td>0</td>\n",
       "      <td>1</td>\n",
       "      <td>0</td>\n",
       "      <td>0</td>\n",
       "      <td>1</td>\n",
       "      <td>0</td>\n",
       "      <td>1</td>\n",
       "      <td>0</td>\n",
       "      <td>0</td>\n",
       "      <td>0</td>\n",
       "      <td>0</td>\n",
       "      <td>0</td>\n",
       "      <td>0</td>\n",
       "      <td>1</td>\n",
       "      <td>0</td>\n",
       "      <td>0</td>\n",
       "      <td>0</td>\n",
       "      <td>...</td>\n",
       "      <td>0</td>\n",
       "      <td>0</td>\n",
       "      <td>1</td>\n",
       "      <td>0</td>\n",
       "      <td>0</td>\n",
       "      <td>0</td>\n",
       "      <td>0</td>\n",
       "      <td>0</td>\n",
       "      <td>0</td>\n",
       "      <td>0</td>\n",
       "      <td>1</td>\n",
       "      <td>0</td>\n",
       "      <td>0</td>\n",
       "      <td>0</td>\n",
       "      <td>0</td>\n",
       "      <td>0</td>\n",
       "      <td>0</td>\n",
       "      <td>1</td>\n",
       "      <td>0</td>\n",
       "      <td>0</td>\n",
       "      <td>1</td>\n",
       "      <td>0</td>\n",
       "    </tr>\n",
       "    <tr>\n",
       "      <th>3</th>\n",
       "      <td>2</td>\n",
       "      <td>-1.00</td>\n",
       "      <td>-1.00</td>\n",
       "      <td>-1</td>\n",
       "      <td>385.0</td>\n",
       "      <td>0</td>\n",
       "      <td>1</td>\n",
       "      <td>0</td>\n",
       "      <td>0</td>\n",
       "      <td>0</td>\n",
       "      <td>1</td>\n",
       "      <td>1</td>\n",
       "      <td>0</td>\n",
       "      <td>0</td>\n",
       "      <td>0</td>\n",
       "      <td>0</td>\n",
       "      <td>0</td>\n",
       "      <td>0</td>\n",
       "      <td>0</td>\n",
       "      <td>1</td>\n",
       "      <td>0</td>\n",
       "      <td>0</td>\n",
       "      <td>...</td>\n",
       "      <td>0</td>\n",
       "      <td>1</td>\n",
       "      <td>0</td>\n",
       "      <td>0</td>\n",
       "      <td>0</td>\n",
       "      <td>0</td>\n",
       "      <td>0</td>\n",
       "      <td>0</td>\n",
       "      <td>0</td>\n",
       "      <td>0</td>\n",
       "      <td>0</td>\n",
       "      <td>0</td>\n",
       "      <td>0</td>\n",
       "      <td>0</td>\n",
       "      <td>0</td>\n",
       "      <td>0</td>\n",
       "      <td>0</td>\n",
       "      <td>1</td>\n",
       "      <td>0</td>\n",
       "      <td>0</td>\n",
       "      <td>1</td>\n",
       "      <td>0</td>\n",
       "    </tr>\n",
       "    <tr>\n",
       "      <th>4</th>\n",
       "      <td>25</td>\n",
       "      <td>59.89</td>\n",
       "      <td>45.91</td>\n",
       "      <td>9</td>\n",
       "      <td>3700.0</td>\n",
       "      <td>0</td>\n",
       "      <td>0</td>\n",
       "      <td>1</td>\n",
       "      <td>0</td>\n",
       "      <td>1</td>\n",
       "      <td>0</td>\n",
       "      <td>1</td>\n",
       "      <td>0</td>\n",
       "      <td>1</td>\n",
       "      <td>0</td>\n",
       "      <td>0</td>\n",
       "      <td>0</td>\n",
       "      <td>0</td>\n",
       "      <td>0</td>\n",
       "      <td>0</td>\n",
       "      <td>0</td>\n",
       "      <td>0</td>\n",
       "      <td>...</td>\n",
       "      <td>0</td>\n",
       "      <td>0</td>\n",
       "      <td>1</td>\n",
       "      <td>0</td>\n",
       "      <td>0</td>\n",
       "      <td>1</td>\n",
       "      <td>0</td>\n",
       "      <td>0</td>\n",
       "      <td>0</td>\n",
       "      <td>0</td>\n",
       "      <td>1</td>\n",
       "      <td>0</td>\n",
       "      <td>0</td>\n",
       "      <td>0</td>\n",
       "      <td>0</td>\n",
       "      <td>1</td>\n",
       "      <td>0</td>\n",
       "      <td>0</td>\n",
       "      <td>0</td>\n",
       "      <td>1</td>\n",
       "      <td>0</td>\n",
       "      <td>0</td>\n",
       "    </tr>\n",
       "  </tbody>\n",
       "</table>\n",
       "<p>5 rows × 143 columns</p>\n",
       "</div>"
      ],
      "text/plain": [
       "   AGE31X  PCS42  MCS42  K6SUM42  INCOME_M  REGION_1  REGION_2  REGION_3  \\\n",
       "0      52  25.93  58.47        3   11390.0         0         1         0   \n",
       "1      55  20.42  26.57       17   11390.0         0         1         0   \n",
       "2      22  53.12  50.33        7   18000.0         0         1         0   \n",
       "3       2  -1.00  -1.00       -1     385.0         0         1         0   \n",
       "4      25  59.89  45.91        9    3700.0         0         0         1   \n",
       "\n",
       "   REGION_4  FEMALE  MALE  RACE_0  RACE_1  MARRY31X_1  MARRY31X_10  \\\n",
       "0         0       0     1       1       0           0            0   \n",
       "1         0       1     0       1       0           0            0   \n",
       "2         0       1     0       1       0           0            0   \n",
       "3         0       0     1       1       0           0            0   \n",
       "4         0       1     0       1       0           1            0   \n",
       "\n",
       "   MARRY31X_2  MARRY31X_3  MARRY31X_4  MARRY31X_5  MARRY31X_6  MARRY31X_7  \\\n",
       "0           0           0           0           1           0           0   \n",
       "1           0           1           0           0           0           0   \n",
       "2           0           0           0           1           0           0   \n",
       "3           0           0           0           0           1           0   \n",
       "4           0           0           0           0           0           0   \n",
       "\n",
       "   MARRY31X_8  ...  DFSEE42_YES  ADSMOK42_INAPPLICABLE  ADSMOK42_NO  \\\n",
       "0           0  ...            0                      0            1   \n",
       "1           0  ...            0                      0            1   \n",
       "2           0  ...            0                      0            1   \n",
       "3           0  ...            0                      1            0   \n",
       "4           0  ...            0                      0            1   \n",
       "\n",
       "   ADSMOK42_YES  PHQ242_1  PHQ242_2  PHQ242_3  PHQ242_4  PHQ242_5  PHQ242_6  \\\n",
       "0             0         0         0         0         0         0         0   \n",
       "1             0         0         0         0         0         0         1   \n",
       "2             0         0         0         0         0         0         0   \n",
       "3             0         0         0         0         0         0         0   \n",
       "4             0         0         1         0         0         0         0   \n",
       "\n",
       "   EMPST31_1  EMPST31_2  EMPST31_3  EMPST31_4  POVCAT15_HIGH_INCOME  \\\n",
       "0          0          0          0          1                     0   \n",
       "1          0          0          0          1                     0   \n",
       "2          1          0          0          0                     0   \n",
       "3          0          0          0          0                     0   \n",
       "4          1          0          0          0                     0   \n",
       "\n",
       "   POVCAT15_LOW_INCOME  POVCAT15_MIDDLE_INCOME  POVCAT15_NEAR_POOR  \\\n",
       "0                    0                       0                   0   \n",
       "1                    1                       0                   0   \n",
       "2                    0                       0                   1   \n",
       "3                    0                       0                   1   \n",
       "4                    1                       0                   0   \n",
       "\n",
       "   POVCAT15_POOR_OR_NEGATIVE  INSCOV15_ANY_PRIVATE  INSCOV15_PUBLIC_ONLY  \\\n",
       "0                          1                     0                     1   \n",
       "1                          0                     0                     1   \n",
       "2                          0                     0                     1   \n",
       "3                          0                     0                     1   \n",
       "4                          0                     1                     0   \n",
       "\n",
       "   INSCOV15_UNINSURED  \n",
       "0                   0  \n",
       "1                   0  \n",
       "2                   0  \n",
       "3                   0  \n",
       "4                   0  \n",
       "\n",
       "[5 rows x 143 columns]"
      ]
     },
     "execution_count": 15,
     "metadata": {},
     "output_type": "execute_result"
    }
   ],
   "source": [
    "X_copied.head()"
   ]
  },
  {
   "cell_type": "code",
   "execution_count": 16,
   "metadata": {},
   "outputs": [],
   "source": [
    "X_train, X_test, y_train, y_test = train_test_split(X_copied, y, test_size=0.2, random_state=37)"
   ]
  },
  {
   "cell_type": "markdown",
   "metadata": {},
   "source": [
    "# 1 Training models\n"
   ]
  },
  {
   "cell_type": "markdown",
   "metadata": {},
   "source": [
    "## 1.1. Linear Regression"
   ]
  },
  {
   "cell_type": "code",
   "execution_count": 17,
   "metadata": {},
   "outputs": [],
   "source": [
    "slr = LinearRegression()"
   ]
  },
  {
   "cell_type": "code",
   "execution_count": 18,
   "metadata": {},
   "outputs": [
    {
     "data": {
      "text/plain": [
       "LinearRegression(copy_X=True, fit_intercept=True, n_jobs=None, normalize=False)"
      ]
     },
     "execution_count": 18,
     "metadata": {},
     "output_type": "execute_result"
    }
   ],
   "source": [
    "slr.fit(X_train, y_train)"
   ]
  },
  {
   "cell_type": "code",
   "execution_count": 19,
   "metadata": {},
   "outputs": [
    {
     "name": "stdout",
     "output_type": "stream",
     "text": [
      "Training R^2: 0.24469433693454268\n",
      "Test R^2: 0.19099338340802963\n"
     ]
    }
   ],
   "source": [
    "score_r2_print(slr, X_train, X_test, y_train, y_test)"
   ]
  },
  {
   "cell_type": "code",
   "execution_count": 20,
   "metadata": {},
   "outputs": [],
   "source": [
    "y_test_pred = slr.predict(X_test)\n",
    "y_train_pred = slr.predict(X_train)"
   ]
  },
  {
   "cell_type": "code",
   "execution_count": 21,
   "metadata": {},
   "outputs": [
    {
     "data": {
      "image/png": "[encoded data removed]",
      "text/plain": [
       "<Figure size 432x288 with 1 Axes>"
      ]
     },
     "metadata": {
      "needs_background": "light"
     },
     "output_type": "display_data"
    }
   ],
   "source": [
    "a = plt.axes(aspect='equal')\n",
    "plt.scatter(y_test, y_test_pred)\n",
    "plt.xlabel('True Values')\n",
    "plt.ylabel('Predictions')\n",
    "lims = [0, 50000]\n",
    "plt.xlim(lims)\n",
    "plt.ylim(lims)\n",
    "_ = plt.plot(lims, lims)"
   ]
  },
  {
   "cell_type": "markdown",
   "metadata": {},
   "source": [
    "## 1.2. Ridge Regression"
   ]
  },
  {
   "cell_type": "code",
   "execution_count": 22,
   "metadata": {},
   "outputs": [],
   "source": [
    "from sklearn.linear_model import Ridge"
   ]
  },
  {
   "cell_type": "code",
   "execution_count": 23,
   "metadata": {},
   "outputs": [
    {
     "name": "stdout",
     "output_type": "stream",
     "text": [
      "Training R^2: 0.24466621634861008\n",
      "Test R^2: 0.19144151129170606\n"
     ]
    }
   ],
   "source": [
    "ridge = Ridge(alpha=1.0)\n",
    "ridge.fit(X_train, y_train)\n",
    "score_r2_print(ridge, X_train, X_test, y_train, y_test)"
   ]
  },
  {
   "cell_type": "code",
   "execution_count": 24,
   "metadata": {},
   "outputs": [
    {
     "data": {
      "image/png": "[encoded data removed]",
      "text/plain": [
       "<Figure size 432x288 with 1 Axes>"
      ]
     },
     "metadata": {
      "needs_background": "light"
     },
     "output_type": "display_data"
    }
   ],
   "source": [
    "a = plt.axes(aspect='equal')\n",
    "plt.scatter(y_test, ridge.predict(X_test))\n",
    "plt.xlabel('True Values')\n",
    "plt.ylabel('Predictions')\n",
    "lims = [0, 50000]\n",
    "plt.xlim(lims)\n",
    "plt.ylim(lims)\n",
    "_ = plt.plot(lims, lims)"
   ]
  },
  {
   "cell_type": "markdown",
   "metadata": {},
   "source": [
    "## 1.3. RandomForestRegressor"
   ]
  },
  {
   "cell_type": "code",
   "execution_count": 25,
   "metadata": {},
   "outputs": [
    {
     "name": "stdout",
     "output_type": "stream",
     "text": [
      "Training R^2: 0.8927740400077464\n",
      "Test R^2: 0.18285282491194998\n"
     ]
    }
   ],
   "source": [
    "from sklearn.ensemble import RandomForestRegressor\n",
    "\n",
    "tree = RandomForestRegressor(\n",
    "    n_estimators=900, \n",
    "    criterion='mse', \n",
    "    random_state=1,\n",
    "    max_features=\"sqrt\",\n",
    "    n_jobs=-1)\n",
    "tree.fit(X_train, y_train)\n",
    "score_r2_print(tree, X_train, X_test, y_train, y_test)\n"
   ]
  },
  {
   "cell_type": "markdown",
   "metadata": {},
   "source": [
    "## 1.4. GradientBoostingRegressor"
   ]
  },
  {
   "cell_type": "code",
   "execution_count": 26,
   "metadata": {
    "scrolled": true
   },
   "outputs": [
    {
     "name": "stdout",
     "output_type": "stream",
     "text": [
      "Training R^2: 0.32441228606427686\n",
      "Test R^2: 0.20092095634569807\n"
     ]
    }
   ],
   "source": [
    "gbr = GradientBoostingRegressor(n_estimators=200, random_state=7, max_features=\"log2\")\n",
    "gbr.fit(X_train, y_train)\n",
    "\n",
    "score_r2_print(gbr, X_train, X_test, y_train, y_test)"
   ]
  },
  {
   "cell_type": "code",
   "execution_count": 27,
   "metadata": {},
   "outputs": [],
   "source": [
    "y_pred_gbr = gbr.predict(X_test)"
   ]
  },
  {
   "cell_type": "code",
   "execution_count": 28,
   "metadata": {},
   "outputs": [],
   "source": [
    "test_predictions = gbr.predict(X_test)"
   ]
  },
  {
   "cell_type": "code",
   "execution_count": 29,
   "metadata": {},
   "outputs": [
    {
     "data": {
      "image/png": "[encoded data removed]",
      "text/plain": [
       "<Figure size 432x288 with 1 Axes>"
      ]
     },
     "metadata": {
      "needs_background": "light"
     },
     "output_type": "display_data"
    }
   ],
   "source": [
    "a = plt.axes(aspect='equal')\n",
    "plt.scatter(y_test, test_predictions)\n",
    "plt.xlabel('True Values')\n",
    "plt.ylabel('Predictions')\n",
    "lims = [0, 50000]\n",
    "plt.xlim(lims)\n",
    "plt.ylim(lims)\n",
    "_ = plt.plot(lims, lims)"
   ]
  },
  {
   "cell_type": "markdown",
   "metadata": {},
   "source": [
    "## 1.5 NeuralNetwork"
   ]
  },
  {
   "cell_type": "code",
   "execution_count": 30,
   "metadata": {},
   "outputs": [],
   "source": [
    "import tensorflow as tf\n",
    "\n",
    "from tensorflow import keras\n",
    "from tensorflow.keras import layers"
   ]
  },
  {
   "cell_type": "code",
   "execution_count": 31,
   "metadata": {},
   "outputs": [],
   "source": [
    "train_stats = X_train.describe()\n",
    "train_stats = train_stats.transpose()"
   ]
  },
  {
   "cell_type": "code",
   "execution_count": 32,
   "metadata": {},
   "outputs": [],
   "source": [
    "def norm(x):\n",
    "    return (x - train_stats['mean']) / train_stats['std']\n",
    "normed_train_data = norm(X_train)\n",
    "normed_test_data = norm(X_test)"
   ]
  },
  {
   "cell_type": "code",
   "execution_count": 33,
   "metadata": {},
   "outputs": [
    {
     "data": {
      "text/html": [
       "<div>\n",
       "<style scoped>\n",
       "    .dataframe tbody tr th:only-of-type {\n",
       "        vertical-align: middle;\n",
       "    }\n",
       "\n",
       "    .dataframe tbody tr th {\n",
       "        vertical-align: top;\n",
       "    }\n",
       "\n",
       "    .dataframe thead th {\n",
       "        text-align: right;\n",
       "    }\n",
       "</style>\n",
       "<table border=\"1\" class=\"dataframe\">\n",
       "  <thead>\n",
       "    <tr style=\"text-align: right;\">\n",
       "      <th></th>\n",
       "      <th>AGE31X</th>\n",
       "      <th>PCS42</th>\n",
       "      <th>MCS42</th>\n",
       "      <th>K6SUM42</th>\n",
       "      <th>INCOME_M</th>\n",
       "      <th>REGION_1</th>\n",
       "      <th>REGION_2</th>\n",
       "      <th>REGION_3</th>\n",
       "      <th>REGION_4</th>\n",
       "      <th>FEMALE</th>\n",
       "      <th>MALE</th>\n",
       "      <th>RACE_0</th>\n",
       "      <th>RACE_1</th>\n",
       "      <th>MARRY31X_1</th>\n",
       "      <th>MARRY31X_10</th>\n",
       "      <th>MARRY31X_2</th>\n",
       "      <th>MARRY31X_3</th>\n",
       "      <th>MARRY31X_4</th>\n",
       "      <th>MARRY31X_5</th>\n",
       "      <th>MARRY31X_6</th>\n",
       "      <th>MARRY31X_7</th>\n",
       "      <th>MARRY31X_8</th>\n",
       "      <th>...</th>\n",
       "      <th>DFSEE42_YES</th>\n",
       "      <th>ADSMOK42_INAPPLICABLE</th>\n",
       "      <th>ADSMOK42_NO</th>\n",
       "      <th>ADSMOK42_YES</th>\n",
       "      <th>PHQ242_1</th>\n",
       "      <th>PHQ242_2</th>\n",
       "      <th>PHQ242_3</th>\n",
       "      <th>PHQ242_4</th>\n",
       "      <th>PHQ242_5</th>\n",
       "      <th>PHQ242_6</th>\n",
       "      <th>EMPST31_1</th>\n",
       "      <th>EMPST31_2</th>\n",
       "      <th>EMPST31_3</th>\n",
       "      <th>EMPST31_4</th>\n",
       "      <th>POVCAT15_HIGH_INCOME</th>\n",
       "      <th>POVCAT15_LOW_INCOME</th>\n",
       "      <th>POVCAT15_MIDDLE_INCOME</th>\n",
       "      <th>POVCAT15_NEAR_POOR</th>\n",
       "      <th>POVCAT15_POOR_OR_NEGATIVE</th>\n",
       "      <th>INSCOV15_ANY_PRIVATE</th>\n",
       "      <th>INSCOV15_PUBLIC_ONLY</th>\n",
       "      <th>INSCOV15_UNINSURED</th>\n",
       "    </tr>\n",
       "  </thead>\n",
       "  <tbody>\n",
       "    <tr>\n",
       "      <th>2956</th>\n",
       "      <td>1.097418</td>\n",
       "      <td>0.813209</td>\n",
       "      <td>0.911814</td>\n",
       "      <td>0.327482</td>\n",
       "      <td>1.154849</td>\n",
       "      <td>-0.424779</td>\n",
       "      <td>-0.578276</td>\n",
       "      <td>-0.866013</td>\n",
       "      <td>2.225797</td>\n",
       "      <td>-1.045188</td>\n",
       "      <td>1.045188</td>\n",
       "      <td>0.717236</td>\n",
       "      <td>-0.717236</td>\n",
       "      <td>-0.737739</td>\n",
       "      <td>-0.075911</td>\n",
       "      <td>-0.227258</td>\n",
       "      <td>3.289657</td>\n",
       "      <td>-0.114279</td>\n",
       "      <td>-0.587938</td>\n",
       "      <td>-0.515287</td>\n",
       "      <td>-0.099596</td>\n",
       "      <td>-0.068765</td>\n",
       "      <td>...</td>\n",
       "      <td>-0.182388</td>\n",
       "      <td>-0.688854</td>\n",
       "      <td>0.900646</td>\n",
       "      <td>-0.379776</td>\n",
       "      <td>-0.264852</td>\n",
       "      <td>-0.286623</td>\n",
       "      <td>-0.136974</td>\n",
       "      <td>-0.147699</td>\n",
       "      <td>-0.079899</td>\n",
       "      <td>-0.109912</td>\n",
       "      <td>1.068325</td>\n",
       "      <td>-0.052956</td>\n",
       "      <td>-0.097479</td>\n",
       "      <td>-0.671797</td>\n",
       "      <td>1.445484</td>\n",
       "      <td>-0.409452</td>\n",
       "      <td>-0.637661</td>\n",
       "      <td>-0.234632</td>\n",
       "      <td>-0.486623</td>\n",
       "      <td>0.780499</td>\n",
       "      <td>-0.663681</td>\n",
       "      <td>-0.280162</td>\n",
       "    </tr>\n",
       "    <tr>\n",
       "      <th>15045</th>\n",
       "      <td>0.706073</td>\n",
       "      <td>1.103754</td>\n",
       "      <td>0.661609</td>\n",
       "      <td>0.083187</td>\n",
       "      <td>1.027110</td>\n",
       "      <td>2.354006</td>\n",
       "      <td>-0.578276</td>\n",
       "      <td>-0.866013</td>\n",
       "      <td>-0.449247</td>\n",
       "      <td>0.956701</td>\n",
       "      <td>-0.956701</td>\n",
       "      <td>0.717236</td>\n",
       "      <td>-0.717236</td>\n",
       "      <td>-0.737739</td>\n",
       "      <td>-0.075911</td>\n",
       "      <td>-0.227258</td>\n",
       "      <td>-0.303962</td>\n",
       "      <td>-0.114279</td>\n",
       "      <td>1.700743</td>\n",
       "      <td>-0.515287</td>\n",
       "      <td>-0.099596</td>\n",
       "      <td>-0.068765</td>\n",
       "      <td>...</td>\n",
       "      <td>-0.182388</td>\n",
       "      <td>-0.688854</td>\n",
       "      <td>0.900646</td>\n",
       "      <td>-0.379776</td>\n",
       "      <td>-0.264852</td>\n",
       "      <td>-0.286623</td>\n",
       "      <td>-0.136974</td>\n",
       "      <td>-0.147699</td>\n",
       "      <td>-0.079899</td>\n",
       "      <td>-0.109912</td>\n",
       "      <td>1.068325</td>\n",
       "      <td>-0.052956</td>\n",
       "      <td>-0.097479</td>\n",
       "      <td>-0.671797</td>\n",
       "      <td>1.445484</td>\n",
       "      <td>-0.409452</td>\n",
       "      <td>-0.637661</td>\n",
       "      <td>-0.234632</td>\n",
       "      <td>-0.486623</td>\n",
       "      <td>0.780499</td>\n",
       "      <td>-0.663681</td>\n",
       "      <td>-0.280162</td>\n",
       "    </tr>\n",
       "    <tr>\n",
       "      <th>405</th>\n",
       "      <td>-0.902790</td>\n",
       "      <td>0.953486</td>\n",
       "      <td>0.984018</td>\n",
       "      <td>-0.405403</td>\n",
       "      <td>-0.548341</td>\n",
       "      <td>-0.424779</td>\n",
       "      <td>-0.578276</td>\n",
       "      <td>1.154638</td>\n",
       "      <td>-0.449247</td>\n",
       "      <td>0.956701</td>\n",
       "      <td>-0.956701</td>\n",
       "      <td>0.717236</td>\n",
       "      <td>-0.717236</td>\n",
       "      <td>-0.737739</td>\n",
       "      <td>-0.075911</td>\n",
       "      <td>-0.227258</td>\n",
       "      <td>-0.303962</td>\n",
       "      <td>-0.114279</td>\n",
       "      <td>1.700743</td>\n",
       "      <td>-0.515287</td>\n",
       "      <td>-0.099596</td>\n",
       "      <td>-0.068765</td>\n",
       "      <td>...</td>\n",
       "      <td>-0.182388</td>\n",
       "      <td>-0.688854</td>\n",
       "      <td>0.900646</td>\n",
       "      <td>-0.379776</td>\n",
       "      <td>-0.264852</td>\n",
       "      <td>-0.286623</td>\n",
       "      <td>-0.136974</td>\n",
       "      <td>-0.147699</td>\n",
       "      <td>-0.079899</td>\n",
       "      <td>-0.109912</td>\n",
       "      <td>1.068325</td>\n",
       "      <td>-0.052956</td>\n",
       "      <td>-0.097479</td>\n",
       "      <td>-0.671797</td>\n",
       "      <td>1.445484</td>\n",
       "      <td>-0.409452</td>\n",
       "      <td>-0.637661</td>\n",
       "      <td>-0.234632</td>\n",
       "      <td>-0.486623</td>\n",
       "      <td>0.780499</td>\n",
       "      <td>-0.663681</td>\n",
       "      <td>-0.280162</td>\n",
       "    </tr>\n",
       "    <tr>\n",
       "      <th>13726</th>\n",
       "      <td>0.532142</td>\n",
       "      <td>-0.536006</td>\n",
       "      <td>-0.297894</td>\n",
       "      <td>3.014729</td>\n",
       "      <td>-0.299499</td>\n",
       "      <td>-0.424779</td>\n",
       "      <td>-0.578276</td>\n",
       "      <td>1.154638</td>\n",
       "      <td>-0.449247</td>\n",
       "      <td>-1.045188</td>\n",
       "      <td>1.045188</td>\n",
       "      <td>-1.394146</td>\n",
       "      <td>1.394146</td>\n",
       "      <td>-0.737739</td>\n",
       "      <td>-0.075911</td>\n",
       "      <td>-0.227258</td>\n",
       "      <td>3.289657</td>\n",
       "      <td>-0.114279</td>\n",
       "      <td>-0.587938</td>\n",
       "      <td>-0.515287</td>\n",
       "      <td>-0.099596</td>\n",
       "      <td>-0.068765</td>\n",
       "      <td>...</td>\n",
       "      <td>-0.182388</td>\n",
       "      <td>-0.688854</td>\n",
       "      <td>0.900646</td>\n",
       "      <td>-0.379776</td>\n",
       "      <td>-0.264852</td>\n",
       "      <td>-0.286623</td>\n",
       "      <td>-0.136974</td>\n",
       "      <td>-0.147699</td>\n",
       "      <td>-0.079899</td>\n",
       "      <td>9.097570</td>\n",
       "      <td>-0.935981</td>\n",
       "      <td>-0.052956</td>\n",
       "      <td>-0.097479</td>\n",
       "      <td>1.488444</td>\n",
       "      <td>-0.691762</td>\n",
       "      <td>2.442123</td>\n",
       "      <td>-0.637661</td>\n",
       "      <td>-0.234632</td>\n",
       "      <td>-0.486623</td>\n",
       "      <td>-1.281144</td>\n",
       "      <td>1.506644</td>\n",
       "      <td>-0.280162</td>\n",
       "    </tr>\n",
       "    <tr>\n",
       "      <th>1896</th>\n",
       "      <td>0.662590</td>\n",
       "      <td>0.801619</td>\n",
       "      <td>0.820690</td>\n",
       "      <td>-0.405403</td>\n",
       "      <td>0.010283</td>\n",
       "      <td>2.354006</td>\n",
       "      <td>-0.578276</td>\n",
       "      <td>-0.866013</td>\n",
       "      <td>-0.449247</td>\n",
       "      <td>-1.045188</td>\n",
       "      <td>1.045188</td>\n",
       "      <td>0.717236</td>\n",
       "      <td>-0.717236</td>\n",
       "      <td>1.355401</td>\n",
       "      <td>-0.075911</td>\n",
       "      <td>-0.227258</td>\n",
       "      <td>-0.303962</td>\n",
       "      <td>-0.114279</td>\n",
       "      <td>-0.587938</td>\n",
       "      <td>-0.515287</td>\n",
       "      <td>-0.099596</td>\n",
       "      <td>-0.068765</td>\n",
       "      <td>...</td>\n",
       "      <td>-0.182388</td>\n",
       "      <td>-0.688854</td>\n",
       "      <td>0.900646</td>\n",
       "      <td>-0.379776</td>\n",
       "      <td>-0.264852</td>\n",
       "      <td>-0.286623</td>\n",
       "      <td>-0.136974</td>\n",
       "      <td>-0.147699</td>\n",
       "      <td>-0.079899</td>\n",
       "      <td>-0.109912</td>\n",
       "      <td>1.068325</td>\n",
       "      <td>-0.052956</td>\n",
       "      <td>-0.097479</td>\n",
       "      <td>-0.671797</td>\n",
       "      <td>1.445484</td>\n",
       "      <td>-0.409452</td>\n",
       "      <td>-0.637661</td>\n",
       "      <td>-0.234632</td>\n",
       "      <td>-0.486623</td>\n",
       "      <td>0.780499</td>\n",
       "      <td>-0.663681</td>\n",
       "      <td>-0.280162</td>\n",
       "    </tr>\n",
       "  </tbody>\n",
       "</table>\n",
       "<p>5 rows × 143 columns</p>\n",
       "</div>"
      ],
      "text/plain": [
       "         AGE31X     PCS42     MCS42   K6SUM42  INCOME_M  REGION_1  REGION_2  \\\n",
       "2956   1.097418  0.813209  0.911814  0.327482  1.154849 -0.424779 -0.578276   \n",
       "15045  0.706073  1.103754  0.661609  0.083187  1.027110  2.354006 -0.578276   \n",
       "405   -0.902790  0.953486  0.984018 -0.405403 -0.548341 -0.424779 -0.578276   \n",
       "13726  0.532142 -0.536006 -0.297894  3.014729 -0.299499 -0.424779 -0.578276   \n",
       "1896   0.662590  0.801619  0.820690 -0.405403  0.010283  2.354006 -0.578276   \n",
       "\n",
       "       REGION_3  REGION_4    FEMALE      MALE    RACE_0    RACE_1  MARRY31X_1  \\\n",
       "2956  -0.866013  2.225797 -1.045188  1.045188  0.717236 -0.717236   -0.737739   \n",
       "15045 -0.866013 -0.449247  0.956701 -0.956701  0.717236 -0.717236   -0.737739   \n",
       "405    1.154638 -0.449247  0.956701 -0.956701  0.717236 -0.717236   -0.737739   \n",
       "13726  1.154638 -0.449247 -1.045188  1.045188 -1.394146  1.394146   -0.737739   \n",
       "1896  -0.866013 -0.449247 -1.045188  1.045188  0.717236 -0.717236    1.355401   \n",
       "\n",
       "       MARRY31X_10  MARRY31X_2  MARRY31X_3  MARRY31X_4  MARRY31X_5  \\\n",
       "2956     -0.075911   -0.227258    3.289657   -0.114279   -0.587938   \n",
       "15045    -0.075911   -0.227258   -0.303962   -0.114279    1.700743   \n",
       "405      -0.075911   -0.227258   -0.303962   -0.114279    1.700743   \n",
       "13726    -0.075911   -0.227258    3.289657   -0.114279   -0.587938   \n",
       "1896     -0.075911   -0.227258   -0.303962   -0.114279   -0.587938   \n",
       "\n",
       "       MARRY31X_6  MARRY31X_7  MARRY31X_8  ...  DFSEE42_YES  \\\n",
       "2956    -0.515287   -0.099596   -0.068765  ...    -0.182388   \n",
       "15045   -0.515287   -0.099596   -0.068765  ...    -0.182388   \n",
       "405     -0.515287   -0.099596   -0.068765  ...    -0.182388   \n",
       "13726   -0.515287   -0.099596   -0.068765  ...    -0.182388   \n",
       "1896    -0.515287   -0.099596   -0.068765  ...    -0.182388   \n",
       "\n",
       "       ADSMOK42_INAPPLICABLE  ADSMOK42_NO  ADSMOK42_YES  PHQ242_1  PHQ242_2  \\\n",
       "2956               -0.688854     0.900646     -0.379776 -0.264852 -0.286623   \n",
       "15045              -0.688854     0.900646     -0.379776 -0.264852 -0.286623   \n",
       "405                -0.688854     0.900646     -0.379776 -0.264852 -0.286623   \n",
       "13726              -0.688854     0.900646     -0.379776 -0.264852 -0.286623   \n",
       "1896               -0.688854     0.900646     -0.379776 -0.264852 -0.286623   \n",
       "\n",
       "       PHQ242_3  PHQ242_4  PHQ242_5  PHQ242_6  EMPST31_1  EMPST31_2  \\\n",
       "2956  -0.136974 -0.147699 -0.079899 -0.109912   1.068325  -0.052956   \n",
       "15045 -0.136974 -0.147699 -0.079899 -0.109912   1.068325  -0.052956   \n",
       "405   -0.136974 -0.147699 -0.079899 -0.109912   1.068325  -0.052956   \n",
       "13726 -0.136974 -0.147699 -0.079899  9.097570  -0.935981  -0.052956   \n",
       "1896  -0.136974 -0.147699 -0.079899 -0.109912   1.068325  -0.052956   \n",
       "\n",
       "       EMPST31_3  EMPST31_4  POVCAT15_HIGH_INCOME  POVCAT15_LOW_INCOME  \\\n",
       "2956   -0.097479  -0.671797              1.445484            -0.409452   \n",
       "15045  -0.097479  -0.671797              1.445484            -0.409452   \n",
       "405    -0.097479  -0.671797              1.445484            -0.409452   \n",
       "13726  -0.097479   1.488444             -0.691762             2.442123   \n",
       "1896   -0.097479  -0.671797              1.445484            -0.409452   \n",
       "\n",
       "       POVCAT15_MIDDLE_INCOME  POVCAT15_NEAR_POOR  POVCAT15_POOR_OR_NEGATIVE  \\\n",
       "2956                -0.637661           -0.234632                  -0.486623   \n",
       "15045               -0.637661           -0.234632                  -0.486623   \n",
       "405                 -0.637661           -0.234632                  -0.486623   \n",
       "13726               -0.637661           -0.234632                  -0.486623   \n",
       "1896                -0.637661           -0.234632                  -0.486623   \n",
       "\n",
       "       INSCOV15_ANY_PRIVATE  INSCOV15_PUBLIC_ONLY  INSCOV15_UNINSURED  \n",
       "2956               0.780499             -0.663681           -0.280162  \n",
       "15045              0.780499             -0.663681           -0.280162  \n",
       "405                0.780499             -0.663681           -0.280162  \n",
       "13726             -1.281144              1.506644           -0.280162  \n",
       "1896               0.780499             -0.663681           -0.280162  \n",
       "\n",
       "[5 rows x 143 columns]"
      ]
     },
     "execution_count": 33,
     "metadata": {},
     "output_type": "execute_result"
    }
   ],
   "source": [
    "normed_train_data.head()"
   ]
  },
  {
   "cell_type": "code",
   "execution_count": 34,
   "metadata": {},
   "outputs": [
    {
     "name": "stdout",
     "output_type": "stream",
     "text": [
      "WARNING:tensorflow:From /Users/piotrpodolski/Desktop/projects/IML/lib/python3.7/site-packages/tensorflow/python/ops/init_ops.py:1251: calling VarianceScaling.__init__ (from tensorflow.python.ops.init_ops) with dtype is deprecated and will be removed in a future version.\n",
      "Instructions for updating:\n",
      "Call initializer instance with the dtype argument instead of passing it to the constructor\n"
     ]
    }
   ],
   "source": [
    "model = keras.Sequential([\n",
    "    layers.Dense(128, activation='relu', input_shape=[len(X_train.keys())]),\n",
    "    layers.Dense(64, activation='relu'),\n",
    "    layers.Dense(32, activation='relu'),\n",
    "    layers.Dense(1)\n",
    "])\n",
    "\n",
    "optimizer = tf.keras.optimizers.RMSprop(0.0001)\n",
    "\n",
    "model.compile(\n",
    "    loss='mse',\n",
    "    optimizer=optimizer,\n",
    "    metrics=['mae', 'mse', 'msle']\n",
    ")"
   ]
  },
  {
   "cell_type": "code",
   "execution_count": 35,
   "metadata": {},
   "outputs": [
    {
     "name": "stdout",
     "output_type": "stream",
     "text": [
      "Model: \"sequential\"\n",
      "_________________________________________________________________\n",
      "Layer (type)                 Output Shape              Param #   \n",
      "=================================================================\n",
      "dense (Dense)                (None, 128)               18432     \n",
      "_________________________________________________________________\n",
      "dense_1 (Dense)              (None, 64)                8256      \n",
      "_________________________________________________________________\n",
      "dense_2 (Dense)              (None, 32)                2080      \n",
      "_________________________________________________________________\n",
      "dense_3 (Dense)              (None, 1)                 33        \n",
      "=================================================================\n",
      "Total params: 28,801\n",
      "Trainable params: 28,801\n",
      "Non-trainable params: 0\n",
      "_________________________________________________________________\n"
     ]
    }
   ],
   "source": [
    "model.summary()"
   ]
  },
  {
   "cell_type": "code",
   "execution_count": 36,
   "metadata": {},
   "outputs": [],
   "source": [
    "EPOCHS = 1000\n",
    "\n",
    "early_stop = keras.callbacks.EarlyStopping(monitor='val_loss', patience=10)"
   ]
  },
  {
   "cell_type": "code",
   "execution_count": 37,
   "metadata": {},
   "outputs": [],
   "source": [
    "history = model.fit(\n",
    "    normed_train_data, y_train,\n",
    "    epochs=EPOCHS, \n",
    "    validation_split=0.2, \n",
    "    verbose=0,\n",
    "    callbacks=[early_stop]\n",
    ")"
   ]
  },
  {
   "cell_type": "code",
   "execution_count": 38,
   "metadata": {},
   "outputs": [
    {
     "data": {
      "text/html": [
       "<div>\n",
       "<style scoped>\n",
       "    .dataframe tbody tr th:only-of-type {\n",
       "        vertical-align: middle;\n",
       "    }\n",
       "\n",
       "    .dataframe tbody tr th {\n",
       "        vertical-align: top;\n",
       "    }\n",
       "\n",
       "    .dataframe thead th {\n",
       "        text-align: right;\n",
       "    }\n",
       "</style>\n",
       "<table border=\"1\" class=\"dataframe\">\n",
       "  <thead>\n",
       "    <tr style=\"text-align: right;\">\n",
       "      <th></th>\n",
       "      <th>loss</th>\n",
       "      <th>mean_absolute_error</th>\n",
       "      <th>mean_squared_error</th>\n",
       "      <th>mean_squared_logarithmic_error</th>\n",
       "      <th>val_loss</th>\n",
       "      <th>val_mean_absolute_error</th>\n",
       "      <th>val_mean_squared_error</th>\n",
       "      <th>val_mean_squared_logarithmic_error</th>\n",
       "      <th>epoch</th>\n",
       "    </tr>\n",
       "  </thead>\n",
       "  <tbody>\n",
       "    <tr>\n",
       "      <th>93</th>\n",
       "      <td>1.000578e+08</td>\n",
       "      <td>4537.855469</td>\n",
       "      <td>100057816.0</td>\n",
       "      <td>9.136275</td>\n",
       "      <td>9.431989e+07</td>\n",
       "      <td>4391.781250</td>\n",
       "      <td>94319872.0</td>\n",
       "      <td>9.249764</td>\n",
       "      <td>93</td>\n",
       "    </tr>\n",
       "    <tr>\n",
       "      <th>94</th>\n",
       "      <td>9.998775e+07</td>\n",
       "      <td>4558.002930</td>\n",
       "      <td>99987744.0</td>\n",
       "      <td>9.171295</td>\n",
       "      <td>9.437195e+07</td>\n",
       "      <td>4364.193848</td>\n",
       "      <td>94371952.0</td>\n",
       "      <td>9.225927</td>\n",
       "      <td>94</td>\n",
       "    </tr>\n",
       "    <tr>\n",
       "      <th>95</th>\n",
       "      <td>1.000218e+08</td>\n",
       "      <td>4525.574219</td>\n",
       "      <td>100021840.0</td>\n",
       "      <td>9.134981</td>\n",
       "      <td>9.435587e+07</td>\n",
       "      <td>4359.711914</td>\n",
       "      <td>94355872.0</td>\n",
       "      <td>9.207378</td>\n",
       "      <td>95</td>\n",
       "    </tr>\n",
       "    <tr>\n",
       "      <th>96</th>\n",
       "      <td>9.996971e+07</td>\n",
       "      <td>4524.518555</td>\n",
       "      <td>99969672.0</td>\n",
       "      <td>9.123655</td>\n",
       "      <td>9.434179e+07</td>\n",
       "      <td>4366.408691</td>\n",
       "      <td>94341784.0</td>\n",
       "      <td>9.203906</td>\n",
       "      <td>96</td>\n",
       "    </tr>\n",
       "    <tr>\n",
       "      <th>97</th>\n",
       "      <td>9.996196e+07</td>\n",
       "      <td>4525.464355</td>\n",
       "      <td>99961904.0</td>\n",
       "      <td>9.108926</td>\n",
       "      <td>9.432164e+07</td>\n",
       "      <td>4375.137695</td>\n",
       "      <td>94321648.0</td>\n",
       "      <td>9.223455</td>\n",
       "      <td>97</td>\n",
       "    </tr>\n",
       "  </tbody>\n",
       "</table>\n",
       "</div>"
      ],
      "text/plain": [
       "            loss  mean_absolute_error  mean_squared_error  \\\n",
       "93  1.000578e+08          4537.855469         100057816.0   \n",
       "94  9.998775e+07          4558.002930          99987744.0   \n",
       "95  1.000218e+08          4525.574219         100021840.0   \n",
       "96  9.996971e+07          4524.518555          99969672.0   \n",
       "97  9.996196e+07          4525.464355          99961904.0   \n",
       "\n",
       "    mean_squared_logarithmic_error      val_loss  val_mean_absolute_error  \\\n",
       "93                        9.136275  9.431989e+07              4391.781250   \n",
       "94                        9.171295  9.437195e+07              4364.193848   \n",
       "95                        9.134981  9.435587e+07              4359.711914   \n",
       "96                        9.123655  9.434179e+07              4366.408691   \n",
       "97                        9.108926  9.432164e+07              4375.137695   \n",
       "\n",
       "    val_mean_squared_error  val_mean_squared_logarithmic_error  epoch  \n",
       "93              94319872.0                            9.249764     93  \n",
       "94              94371952.0                            9.225927     94  \n",
       "95              94355872.0                            9.207378     95  \n",
       "96              94341784.0                            9.203906     96  \n",
       "97              94321648.0                            9.223455     97  "
      ]
     },
     "execution_count": 38,
     "metadata": {},
     "output_type": "execute_result"
    }
   ],
   "source": [
    "hist = pd.DataFrame(history.history)\n",
    "hist['epoch'] = history.epoch\n",
    "hist.tail()"
   ]
  },
  {
   "cell_type": "code",
   "execution_count": 39,
   "metadata": {},
   "outputs": [
    {
     "name": "stdout",
     "output_type": "stream",
     "text": [
      "3666/3666 - 0s - loss: 104981979.3170 - mean_absolute_error: 4665.5034 - mean_squared_error: 104981968.0000 - mean_squared_logarithmic_error: 9.0996\n"
     ]
    }
   ],
   "source": [
    "loss, mae, mse, msle = model.evaluate(normed_test_data, y_test, verbose=2)"
   ]
  },
  {
   "cell_type": "code",
   "execution_count": 40,
   "metadata": {},
   "outputs": [],
   "source": [
    "test_predictions = model.predict(normed_test_data).flatten()"
   ]
  },
  {
   "cell_type": "code",
   "execution_count": 41,
   "metadata": {},
   "outputs": [
    {
     "data": {
      "image/png": "[encoded data removed]",
      "text/plain": [
       "<Figure size 432x288 with 1 Axes>"
      ]
     },
     "metadata": {
      "needs_background": "light"
     },
     "output_type": "display_data"
    }
   ],
   "source": [
    "a = plt.axes(aspect='equal')\n",
    "plt.scatter(y_test, test_predictions)\n",
    "plt.xlabel('True Values')\n",
    "plt.ylabel('Predictions')\n",
    "lims = [0, 50000]\n",
    "plt.xlim(lims)\n",
    "plt.ylim(lims)\n",
    "_ = plt.plot(lims, lims)"
   ]
  },
  {
   "cell_type": "code",
   "execution_count": 42,
   "metadata": {},
   "outputs": [
    {
     "name": "stdout",
     "output_type": "stream",
     "text": [
      "Training R^2: 0.24029920986497\n",
      "Test R^2: 0.18621304787490822\n"
     ]
    }
   ],
   "source": [
    "print('Training R^2:', r2_score(y_train, model.predict(normed_train_data)))\n",
    "print('Test R^2:', r2_score(y_test, model.predict(normed_test_data)))"
   ]
  },
  {
   "cell_type": "markdown",
   "metadata": {},
   "source": [
    "# 2. Calcucate predictions for some selected observations"
   ]
  },
  {
   "cell_type": "code",
   "execution_count": 43,
   "metadata": {},
   "outputs": [],
   "source": [
    "predictions = (\n",
    "    pd.DataFrame([y_pred_gbr, y_test])\n",
    "    .T\n",
    "    .rename(\n",
    "        {\n",
    "            0:\"y\", \n",
    "            1:\"y_pred\"\n",
    "        }, \n",
    "        axis=1\n",
    "    )\n",
    ")\n",
    "predictions['diff'] = predictions['y'] - predictions['y_pred']\n",
    "predictions['abs_diff'] = np.abs(predictions['diff'])\n",
    "obs1_id = predictions.abs_diff.idxmin()\n",
    "obs1 = predictions.iloc[obs1_id]\n",
    "obs2_id = predictions['diff'].idxmin()\n",
    "obs2 = predictions.iloc[obs2_id]\n",
    "obs3_id = predictions['diff'].idxmax()\n",
    "obs3 = predictions.iloc[obs3_id]"
   ]
  },
  {
   "cell_type": "markdown",
   "metadata": {},
   "source": [
    "Minimum difference between prediction and predicted value"
   ]
  },
  {
   "cell_type": "code",
   "execution_count": 44,
   "metadata": {},
   "outputs": [
    {
     "data": {
      "text/plain": [
       "y           0.055936\n",
       "y_pred      0.000000\n",
       "diff        0.055936\n",
       "abs_diff    0.055936\n",
       "Name: 823, dtype: float64"
      ]
     },
     "execution_count": 44,
     "metadata": {},
     "output_type": "execute_result"
    }
   ],
   "source": [
    "obs1"
   ]
  },
  {
   "cell_type": "code",
   "execution_count": 45,
   "metadata": {},
   "outputs": [
    {
     "data": {
      "text/plain": [
       "AGE31X                          42.00\n",
       "PCS42                           53.17\n",
       "MCS42                           54.96\n",
       "K6SUM42                          4.00\n",
       "INCOME_M                     49920.00\n",
       "                               ...   \n",
       "POVCAT15_NEAR_POOR               0.00\n",
       "POVCAT15_POOR_OR_NEGATIVE        0.00\n",
       "INSCOV15_ANY_PRIVATE             0.00\n",
       "INSCOV15_PUBLIC_ONLY             0.00\n",
       "INSCOV15_UNINSURED               1.00\n",
       "Name: 1516, Length: 143, dtype: float64"
      ]
     },
     "execution_count": 45,
     "metadata": {},
     "output_type": "execute_result"
    }
   ],
   "source": [
    "X_test.iloc[obs1_id]"
   ]
  },
  {
   "cell_type": "markdown",
   "metadata": {},
   "source": [
    "Instance with most overestimated value  between prediction and predicted value"
   ]
  },
  {
   "cell_type": "code",
   "execution_count": 46,
   "metadata": {},
   "outputs": [
    {
     "data": {
      "text/plain": [
       "y            11431.247909\n",
       "y_pred      136357.000000\n",
       "diff       -124925.752091\n",
       "abs_diff    124925.752091\n",
       "Name: 1019, dtype: float64"
      ]
     },
     "execution_count": 46,
     "metadata": {},
     "output_type": "execute_result"
    }
   ],
   "source": [
    "obs2"
   ]
  },
  {
   "cell_type": "code",
   "execution_count": 47,
   "metadata": {},
   "outputs": [
    {
     "data": {
      "text/plain": [
       "AGE31X                          70.0\n",
       "PCS42                           -1.0\n",
       "MCS42                           -1.0\n",
       "K6SUM42                         -1.0\n",
       "INCOME_M                     16104.0\n",
       "                              ...   \n",
       "POVCAT15_NEAR_POOR               0.0\n",
       "POVCAT15_POOR_OR_NEGATIVE        0.0\n",
       "INSCOV15_ANY_PRIVATE             1.0\n",
       "INSCOV15_PUBLIC_ONLY             0.0\n",
       "INSCOV15_UNINSURED               0.0\n",
       "Name: 8883, Length: 143, dtype: float64"
      ]
     },
     "execution_count": 47,
     "metadata": {},
     "output_type": "execute_result"
    }
   ],
   "source": [
    "X_test.iloc[obs2_id]"
   ]
  },
  {
   "cell_type": "markdown",
   "metadata": {},
   "source": [
    "Instance with most underestimated value  between prediction and predicted value"
   ]
  },
  {
   "cell_type": "code",
   "execution_count": 50,
   "metadata": {},
   "outputs": [
    {
     "data": {
      "text/plain": [
       "y           33495.228721\n",
       "y_pred        632.000000\n",
       "diff        32863.228721\n",
       "abs_diff    32863.228721\n",
       "Name: 2893, dtype: float64"
      ]
     },
     "execution_count": 50,
     "metadata": {},
     "output_type": "execute_result"
    }
   ],
   "source": [
    "obs3"
   ]
  },
  {
   "cell_type": "code",
   "execution_count": 51,
   "metadata": {},
   "outputs": [
    {
     "data": {
      "text/plain": [
       "AGE31X                          75.00\n",
       "PCS42                           14.08\n",
       "MCS42                           51.49\n",
       "K6SUM42                          3.00\n",
       "INCOME_M                     47684.00\n",
       "                               ...   \n",
       "POVCAT15_NEAR_POOR               0.00\n",
       "POVCAT15_POOR_OR_NEGATIVE        0.00\n",
       "INSCOV15_ANY_PRIVATE             0.00\n",
       "INSCOV15_PUBLIC_ONLY             1.00\n",
       "INSCOV15_UNINSURED               0.00\n",
       "Name: 12577, Length: 143, dtype: float64"
      ]
     },
     "execution_count": 51,
     "metadata": {},
     "output_type": "execute_result"
    }
   ],
   "source": [
    "X_test.iloc[obs3_id]"
   ]
  },
  {
   "cell_type": "markdown",
   "metadata": {},
   "source": [
    "## 3.  Calculate the decomposition of model prediction using Ceteris paribus / ICE profile"
   ]
  },
  {
   "cell_type": "code",
   "execution_count": 79,
   "metadata": {},
   "outputs": [
    {
     "name": "stderr",
     "output_type": "stream",
     "text": [
      "WARNING:root:Model is unlabeled... \n",
      " You can add label using method set_label\n"
     ]
    }
   ],
   "source": [
    "from ceteris_paribus.explainer import explain\n",
    "\n",
    "explainer_gbr = explain(gbr, list(X_test.columns), X_test, y_test)"
   ]
  },
  {
   "cell_type": "code",
   "execution_count": 133,
   "metadata": {},
   "outputs": [],
   "source": [
    "from ceteris_paribus.profiles import individual_variable_profile\n",
    "\n",
    "cp_profile = individual_variable_profile(explainer_gbr, X_test.iloc[obs2_id], y=obs2['y'])"
   ]
  },
  {
   "cell_type": "code",
   "execution_count": 134,
   "metadata": {},
   "outputs": [],
   "source": [
    "from ceteris_paribus.plots.plots import plot\n",
    "\n",
    "plot(cp_profile, selected_variables=[\"INCOME_M\"], inline=True)"
   ]
  },
  {
   "cell_type": "markdown",
   "metadata": {},
   "source": [
    "<img src=\"img/img3_1.png\">"
   ]
  },
  {
   "cell_type": "markdown",
   "metadata": {},
   "source": [
    "Selected feature is the __INCOME_M__ feature, which is a yearly income of some selected person. It starts to influence the outcome of the model, when > 200k yearly. Below that value the cost stays almost the same."
   ]
  },
  {
   "cell_type": "markdown",
   "metadata": {},
   "source": [
    "## 4. Find two observations in the data set, such that they have different CP profiles"
   ]
  },
  {
   "cell_type": "code",
   "execution_count": 108,
   "metadata": {},
   "outputs": [
    {
     "name": "stderr",
     "output_type": "stream",
     "text": [
      "WARNING:root:Model is unlabeled... \n",
      " You can add label using method set_label\n"
     ]
    }
   ],
   "source": [
    "explainer_gbr = explain(gbr, list(X_test.columns), X_test, y_test)"
   ]
  },
  {
   "cell_type": "code",
   "execution_count": 142,
   "metadata": {},
   "outputs": [],
   "source": [
    "sample = select_sample(X_test, n=11)\n",
    "cp2 = individual_variable_profile(explainer_gbr, sample, variables=[\"INCOME_M\", \"AGE31X\"])\n",
    "plot(cp2)"
   ]
  },
  {
   "cell_type": "code",
   "execution_count": 146,
   "metadata": {},
   "outputs": [
    {
     "data": {
      "text/plain": [
       "AGE31X                          50.0\n",
       "PCS42                           -1.0\n",
       "MCS42                           -1.0\n",
       "K6SUM42                         -1.0\n",
       "INCOME_M                     28766.0\n",
       "                              ...   \n",
       "POVCAT15_NEAR_POOR               0.0\n",
       "POVCAT15_POOR_OR_NEGATIVE        0.0\n",
       "INSCOV15_ANY_PRIVATE             1.0\n",
       "INSCOV15_PUBLIC_ONLY             0.0\n",
       "INSCOV15_UNINSURED               0.0\n",
       "Name: 9, Length: 143, dtype: float64"
      ]
     },
     "execution_count": 146,
     "metadata": {},
     "output_type": "execute_result"
    }
   ],
   "source": [
    "x1 = sample.iloc[9]\n",
    "x1"
   ]
  },
  {
   "cell_type": "code",
   "execution_count": 148,
   "metadata": {},
   "outputs": [],
   "source": [
    "cp_1 = individual_variable_profile(explainer_gbr, x1, variables=[\"AGE31X\"])\n",
    "plot(cp_1)"
   ]
  },
  {
   "cell_type": "markdown",
   "metadata": {},
   "source": [
    "<img src=\"img/img4_1.png\">"
   ]
  },
  {
   "cell_type": "code",
   "execution_count": 151,
   "metadata": {},
   "outputs": [
    {
     "data": {
      "text/plain": [
       "AGE31X                       13.0\n",
       "PCS42                        -1.0\n",
       "MCS42                        -1.0\n",
       "K6SUM42                      -1.0\n",
       "INCOME_M                      0.0\n",
       "                             ... \n",
       "POVCAT15_NEAR_POOR            0.0\n",
       "POVCAT15_POOR_OR_NEGATIVE     0.0\n",
       "INSCOV15_ANY_PRIVATE          0.0\n",
       "INSCOV15_PUBLIC_ONLY          1.0\n",
       "INSCOV15_UNINSURED            0.0\n",
       "Name: 1, Length: 143, dtype: float64"
      ]
     },
     "execution_count": 151,
     "metadata": {},
     "output_type": "execute_result"
    }
   ],
   "source": [
    "sample.iloc[1]"
   ]
  },
  {
   "cell_type": "code",
   "execution_count": 150,
   "metadata": {},
   "outputs": [],
   "source": [
    "cp_2 = individual_variable_profile(explainer_gbr, sample.iloc[1], variables=[\"AGE31X\"])\n",
    "plot(cp_2)"
   ]
  },
  {
   "cell_type": "markdown",
   "metadata": {},
   "source": [
    "<img src=\"img/img4_2.png\">"
   ]
  },
  {
   "cell_type": "markdown",
   "metadata": {},
   "source": [
    "For those two selected instances and feature __AGE31X__ there is a difference in the influence on the model. For the first instance, when age is > 30 the costs drop, where for the second instance costs start to increase after age of 50."
   ]
  },
  {
   "cell_type": "markdown",
   "metadata": {},
   "source": [
    "## 5. Train a second model (of any class, neural nets, linear, other boosting) and find an observation for which CP profiles are different between the models"
   ]
  },
  {
   "cell_type": "code",
   "execution_count": 107,
   "metadata": {},
   "outputs": [
    {
     "name": "stderr",
     "output_type": "stream",
     "text": [
      "WARNING:root:Model is unlabeled... \n",
      " You can add label using method set_label\n"
     ]
    }
   ],
   "source": [
    "explainer_slr = explain(slr, list(X_test.columns), X_test, y_test)"
   ]
  },
  {
   "cell_type": "code",
   "execution_count": 111,
   "metadata": {},
   "outputs": [],
   "source": [
    "cp_profile_slr = individual_variable_profile(explainer_slr, X_train.iloc[57], y=y_train.iloc[57])\n",
    "plot(cp_profile_slr, selected_variables=[\"INCOME_M\", \"AGE31X\"], inline=True)"
   ]
  },
  {
   "cell_type": "code",
   "execution_count": 115,
   "metadata": {},
   "outputs": [
    {
     "data": {
      "text/plain": [
       "AGE31X                       13.0\n",
       "PCS42                        -1.0\n",
       "MCS42                        -1.0\n",
       "K6SUM42                      -1.0\n",
       "INCOME_M                      0.0\n",
       "                             ... \n",
       "POVCAT15_NEAR_POOR            0.0\n",
       "POVCAT15_POOR_OR_NEGATIVE     0.0\n",
       "INSCOV15_ANY_PRIVATE          1.0\n",
       "INSCOV15_PUBLIC_ONLY          0.0\n",
       "INSCOV15_UNINSURED            0.0\n",
       "Name: 15780, Length: 143, dtype: float64"
      ]
     },
     "execution_count": 115,
     "metadata": {},
     "output_type": "execute_result"
    }
   ],
   "source": [
    "X_train.iloc[57]"
   ]
  },
  {
   "cell_type": "markdown",
   "metadata": {},
   "source": [
    "Linear Regression"
   ]
  },
  {
   "cell_type": "markdown",
   "metadata": {},
   "source": [
    "<img src=\"img/img5_slr.png\">"
   ]
  },
  {
   "cell_type": "markdown",
   "metadata": {},
   "source": [
    "Gradient Boosting Regression"
   ]
  },
  {
   "cell_type": "markdown",
   "metadata": {},
   "source": [
    "<img src=\"img/img5_gbr.png\">"
   ]
  },
  {
   "cell_type": "markdown",
   "metadata": {},
   "source": [
    "For this instance the influence of features __INCOME_M__ and __AGE31X__ is different between models. For Linear Regression there is no influence on the result, but for Gradient Boosting Regressor there is influence of those features on the predicted outcome."
   ]
  }
 ],
 "metadata": {
  "kernelspec": {
   "display_name": "IML",
   "language": "python",
   "name": "iml"
  },
  "language_info": {
   "codemirror_mode": {
    "name": "ipython",
    "version": 3
   },
   "file_extension": ".py",
   "mimetype": "text/x-python",
   "name": "python",
   "nbconvert_exporter": "python",
   "pygments_lexer": "ipython3",
   "version": "3.7.4"
  }
 },
 "nbformat": 4,
 "nbformat_minor": 2
}
