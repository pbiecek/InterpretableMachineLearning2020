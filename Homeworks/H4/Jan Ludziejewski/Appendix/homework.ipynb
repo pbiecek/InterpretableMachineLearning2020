{
 "cells": [
  {
   "cell_type": "markdown",
   "metadata": {},
   "source": [
    "## Dataset characteristics:\n"
   ]
  },
  {
   "cell_type": "markdown",
   "metadata": {},
   "source": [
    "##### Import data for visualisations"
   ]
  },
  {
   "cell_type": "code",
   "execution_count": 1,
   "metadata": {},
   "outputs": [
    {
     "name": "stdout",
     "output_type": "stream",
     "text": [
      "Models: \n",
      "XGBoost train score: 0.9959\n",
      "XGBoost valid score: 0.8396\n",
      "\n",
      "\n",
      "Logistic regression train score: 0.8122\n",
      "Logistic regression valid score: 0.8216\n",
      "\n",
      "\n",
      "Dataset bias: 19.96% of positive answers \n",
      "\n",
      "\n",
      "\n",
      "<class 'pandas.core.frame.DataFrame'>\n",
      "RangeIndex: 10000 entries, 0 to 9999\n",
      "Data columns (total 69 columns):\n",
      "AGE                                10000 non-null float64\n",
      "AGRGT_BAL_ALL_XCLD_MRTG            10000 non-null float64\n",
      "AUTO_2_OPEN_DATE_YRS               10000 non-null float64\n",
      "AUTO_HI_CRDT_2_ACTUAL              10000 non-null float64\n",
      "AVG_BAL_ALL_FNC_REV_ACTS           10000 non-null float64\n",
      "AVG_BAL_ALL_PRM_BC_ACTS            10000 non-null float64\n",
      "D_DEPTCARD                         10000 non-null float64\n",
      "D_NA_AVG_BAL_ALL_FNC_REV_ACTS      10000 non-null float64\n",
      "D_NA_M_SNCOLDST_BNKINSTL_ACTOPN    10000 non-null float64\n",
      "D_NA_M_SNC_MST_RCNT_ACT_OPN        10000 non-null float64\n",
      "D_NA_M_SNC_MST_RCNT_MRTG_DEAL      10000 non-null float64\n",
      "D_NA_M_SNC_OLDST_MRTG_ACT_OPN      10000 non-null float64\n",
      "D_NA_RATIO_PRSNL_FNC_BAL2HICRDT    10000 non-null float64\n",
      "D_REGION_A                         10000 non-null float64\n",
      "D_REGION_B                         10000 non-null float64\n",
      "D_REGION_C                         10000 non-null float64\n",
      "FNC_CARD_OPEN_DATE_YRS             10000 non-null float64\n",
      "HI_RETAIL_CRDT_LMT                 10000 non-null float64\n",
      "MAX_MRTG_CLOSE_DATE                10000 non-null float64\n",
      "MRTG_1_MONTHLY_PAYMENT             10000 non-null float64\n",
      "MRTG_2_CURRENT_BAL                 10000 non-null float64\n",
      "M_SNCOLDST_BNKINSTL_ACTOPN         10000 non-null float64\n",
      "M_SNCOLDST_OIL_NTN_TRD_OPN         10000 non-null float64\n",
      "M_SNC_MSTRCNT_MRTG_ACT_UPD         10000 non-null float64\n",
      "M_SNC_MSTREC_INSTL_TRD_OPN         10000 non-null float64\n",
      "M_SNC_MST_RCNT_60_DAY_RTNG         10000 non-null float64\n",
      "M_SNC_MST_RCNT_ACT_OPN             10000 non-null float64\n",
      "M_SNC_MST_RCNT_MRTG_DEAL           10000 non-null float64\n",
      "M_SNC_OLDST_MRTG_ACT_OPN           10000 non-null float64\n",
      "M_SNC_OLDST_RETAIL_ACT_OPN         10000 non-null float64\n",
      "N30D_ORWRS_RTNG_MRTG_ACTS          10000 non-null float64\n",
      "N_120D_RATINGS                     10000 non-null float64\n",
      "N_30D_AND_60D_RATINGS              10000 non-null float64\n",
      "N_30D_RATINGS                      10000 non-null float64\n",
      "N_ACTS_90D_PLS_LTE_IN_6M           10000 non-null float64\n",
      "N_ACTS_WITH_MXD_3_IN_24M           10000 non-null float64\n",
      "N_ACTS_WITH_MXD_4_IN_24M           10000 non-null float64\n",
      "N_BANK_INSTLACTS                   10000 non-null float64\n",
      "N_BC_ACTS_OPN_IN_12M               10000 non-null float64\n",
      "N_BC_ACTS_OPN_IN_24M               10000 non-null float64\n",
      "N_DEROG_PUB_RECS                   10000 non-null float64\n",
      "N_DISPUTED_ACTS                    10000 non-null float64\n",
      "N_FNC_ACTS_OPN_IN_12M              10000 non-null float64\n",
      "N_FNC_ACTS_VRFY_IN_12M             10000 non-null float64\n",
      "N_FNC_INSTLACTS                    10000 non-null float64\n",
      "N_INQUIRIES                        10000 non-null float64\n",
      "N_OF_MRTG_ACTS_DLINQ_24M           10000 non-null float64\n",
      "N_OF_SATISFY_FNC_REV_ACTS          10000 non-null float64\n",
      "N_OPEN_REV_ACTS                    10000 non-null float64\n",
      "N_PUB_REC_ACT_LINE_DEROGS          10000 non-null float64\n",
      "N_RETAIL_ACTS_OPN_IN_24M           10000 non-null float64\n",
      "N_SATISFY_INSTL_ACTS               10000 non-null float64\n",
      "N_SATISFY_OIL_NATIONL_ACTS         10000 non-null float64\n",
      "N_SATISFY_PRSNL_FNC_ACTS           10000 non-null float64\n",
      "PRCNT_OF_ACTS_NEVER_DLQNT          10000 non-null float64\n",
      "PREM_BANKCARD_CRED_LMT             10000 non-null float64\n",
      "PURCHASE                           10000 non-null float64\n",
      "RATIO_BAL_TO_HI_CRDT               10000 non-null float64\n",
      "RATIO_PRSNL_FNC_BAL2HICRDT         10000 non-null float64\n",
      "RATIO_RETAIL_BAL2HI_CRDT           10000 non-null float64\n",
      "STUDENT_HI_CRED_RANGE              10000 non-null float64\n",
      "STUDENT_OPEN_DATE_YRS              10000 non-null float64\n",
      "TOT_BAL_ALL_DPT_STORE_ACTS         10000 non-null float64\n",
      "TOT_HI_CRDT_CRDT_LMT               10000 non-null float64\n",
      "TOT_INSTL_HI_CRDT_CRDT_LMT         10000 non-null float64\n",
      "TOT_NOW_LTE                        10000 non-null float64\n",
      "TOT_OTHRFIN_HICRDT_CRDTLMT         10000 non-null float64\n",
      "TREATMENT                          10000 non-null float64\n",
      "UPSCALE_OPEN_DATE_YRS              10000 non-null float64\n",
      "dtypes: float64(69)\n",
      "memory usage: 5.3 MB\n",
      "DOING 11\n",
      "DOING 11\n",
      "DOING 11\n",
      "DOING 2\n",
      "DOING 2\n",
      "DOING 2\n",
      "DOING 9\n",
      "DOING 9\n",
      "DOING 9\n"
     ]
    }
   ],
   "source": [
    "import profiles"
   ]
  },
  {
   "cell_type": "markdown",
   "metadata": {},
   "source": [
    "This is an uplift modelling dataset (package __Information__ from R), with indicatior variable \"TREATMENT\" as a column (prepared for single-model approach)\n",
    "Data is highly biased, so above scores dont seem to be good (logistic regression have score close to answearing always __no__). Other thing is, column names lack explanation itself, so i will try to focus on columns which names are clear to understand."
   ]
  },
  {
   "cell_type": "markdown",
   "metadata": {},
   "source": [
    "Basing on previous explanations using lime, from 69 parameters I've chosen to focus on following 11 explainatory variables, which occured as most important.\n",
    "1. \"TREATMENT\" - control grop indicator, 1 if client was engaged in marketing campaign \n",
    "1. \"AGE\" - age\n",
    "1. \"N_OPEN_REV_ACTS\" - number of open revolving accounts\n",
    "1. \"D_REGION_A\" - indicator variable, if clinet is from region A\n",
    "1. \"MRTG_1_MONTHLY_PAYMENT\" - mortage monthy payment\n",
    "1. \"N_DISPUTED_ACTS\" - number of disputed accounts\n",
    "1. \"TOT_HI_CRDT_CRDT_LMT\" - sum of credit limits\n",
    "1. \"HI_RETAIL_CRDT_LMT\" - retail credit limit\n",
    "1. \"PREM_BANKCARD_CRED_LMT\", - premium credit card limit\n",
    "1. \"AVG_BAL_ALL_FNC_REV_ACTS\" - average balance of all financial revolving accounts\n",
    "1. \"M_SNCOLDST_OIL_NTN_TRD_OPN\" - unfortunately, theres no explanation for this parameter"
   ]
  },
  {
   "cell_type": "markdown",
   "metadata": {},
   "source": [
    "## Observation 11 explanation"
   ]
  },
  {
   "cell_type": "markdown",
   "metadata": {},
   "source": [
    "![1](plot11_1.png)\n",
    "![2](plot11_2.png)\n",
    "![3](plot11_3.png)"
   ]
  },
  {
   "cell_type": "markdown",
   "metadata": {},
   "source": [
    "### XGBoost model"
   ]
  },
  {
   "cell_type": "markdown",
   "metadata": {},
   "source": [
    "This is the rare case of model predicting right answear of PURCHASE, taking into consideration structure of the dataset. Previous analysis concluted, that this client was correctly predicted to purchase, because of his wealth, and despite his mortage payment, beeing its second most important variable. However, most important variable N_OPEN_REV_ACTS=27 as we see on the plot, has completly flat neighborhood, so its only important that its bigger then 10. Also, slight non-monotonicity in its plot before 10 seems to be an effect of an overfit. Other plots do not suggest great influence on the model, considering TREATMENT as well. Summarising, model suggests, that this client is wealthy and will buy anyway, even decreasing its probability after TREATMENT. "
   ]
  },
  {
   "cell_type": "markdown",
   "metadata": {},
   "source": [
    "### Linear model"
   ]
  },
  {
   "cell_type": "markdown",
   "metadata": {},
   "source": [
    "As we see, in most cases linear model is approximating XGBoost behaviour in a linear manner (N_OPEN_REV_ACTS), however PREM_BANKCARD_CRED_LMT and MRTG_1_MONTHLY_PAYMENT seem to be a great trouble, suggesting that most train obsarvations were centered around small values with decreasing trend, and model extrapolated it onto bigger values, what led to wrong answears."
   ]
  },
  {
   "cell_type": "markdown",
   "metadata": {},
   "source": [
    "## Observation 2 explanation"
   ]
  },
  {
   "cell_type": "markdown",
   "metadata": {},
   "source": [
    "![1](plot2_1.png)\n",
    "![2](plot2_2.png)\n",
    "![3](plot2_3.png)"
   ]
  },
  {
   "cell_type": "markdown",
   "metadata": {},
   "source": [
    "### XGBoost model"
   ]
  },
  {
   "cell_type": "markdown",
   "metadata": {},
   "source": [
    "In this case, gradient boosting model is sure that this is a clear \"not buying\" case. All plots look completly flat, and nothing can change this answear."
   ]
  },
  {
   "cell_type": "markdown",
   "metadata": {},
   "source": [
    "### Linear model"
   ]
  },
  {
   "cell_type": "markdown",
   "metadata": {},
   "source": [
    "Due to linear model only parameters that could change this situation are higher N_OPEN_REV_ACTS and TOT_HI_CRDT_CRDT_LMT, but considering how boosting model works, it is probably an overfit to the most important parameters. "
   ]
  },
  {
   "cell_type": "markdown",
   "metadata": {},
   "source": [
    "## False negative example explanation"
   ]
  },
  {
   "cell_type": "markdown",
   "metadata": {},
   "source": [
    "![1](plotfn_1.png)\n",
    "![2](plotfn_2.png)\n",
    "![3](plotfn_3.png)"
   ]
  },
  {
   "cell_type": "markdown",
   "metadata": {},
   "source": [
    "### XGBoost model"
   ]
  },
  {
   "cell_type": "markdown",
   "metadata": {},
   "source": [
    "This is a very rare case of false-negative prediction by gradient boosting model (considering that positive answears make up 80% of the dataset). All explanations seem to flat around the predictions (omitting PREM_BANKCARD_CRED_LMT=0), suggesting that model prediction is stable. Here hovewer, TREATMENT can positively influence the prediction, increasing it by about 10 percentage points, condratictory to the first case of \"sleeping dog\" observation 11."
   ]
  },
  {
   "cell_type": "markdown",
   "metadata": {},
   "source": [
    "### Linear model"
   ]
  },
  {
   "cell_type": "markdown",
   "metadata": {},
   "source": [
    "Linear model of course do not have this false negative, because of answearing mostly always no. Explanations do not  seem to be much different."
   ]
  }
 ],
 "metadata": {
  "kernelspec": {
   "display_name": "Python 3",
   "language": "python",
   "name": "python3"
  },
  "language_info": {
   "codemirror_mode": {
    "name": "ipython",
    "version": 3
   },
   "file_extension": ".py",
   "mimetype": "text/x-python",
   "name": "python",
   "nbconvert_exporter": "python",
   "pygments_lexer": "ipython3",
   "version": "3.6.9"
  }
 },
 "nbformat": 4,
 "nbformat_minor": 1
}
