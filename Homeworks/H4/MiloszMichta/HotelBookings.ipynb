{
 "cells": [
  {
   "cell_type": "code",
   "execution_count": null,
   "metadata": {},
   "outputs": [],
   "source": [
    "from typing import Union, List\n",
    "\n",
    "import numpy as np\n",
    "import pandas as pd\n",
    "import matplotlib.pyplot as plt\n",
    "import seaborn as sns\n",
    "\n",
    "from tqdm import tqdm\n",
    "from xai.data.reader import read_data\n",
    "from xai.models import LightGBMModel, LogisticRegressionModel\n",
    "from xai.validation import HoldOutValidation\n",
    "\n",
    "\n",
    "pd.set_option('display.max_columns', 500)"
   ]
  },
  {
   "cell_type": "markdown",
   "metadata": {},
   "source": [
    "# 1)"
   ]
  },
  {
   "cell_type": "code",
   "execution_count": null,
   "metadata": {},
   "outputs": [],
   "source": [
    "features, target = read_data('data/hotel_bookings.csv')"
   ]
  },
  {
   "cell_type": "code",
   "execution_count": null,
   "metadata": {},
   "outputs": [],
   "source": [
    "features.head()"
   ]
  },
  {
   "cell_type": "code",
   "execution_count": null,
   "metadata": {},
   "outputs": [],
   "source": [
    "validation = HoldOutValidation(test_size=0.1, random_state=42)\n",
    "\n",
    "(X_train, y_train), (X_test, y_test) = next(validation.split(features, target))"
   ]
  },
  {
   "cell_type": "code",
   "execution_count": null,
   "metadata": {},
   "outputs": [],
   "source": [
    "model = LightGBMModel(\n",
    "    n_estimators=1000,\n",
    "    learning_rate=0.007,\n",
    "    max_depth=-1,\n",
    "    num_leaves=64,\n",
    "    random_state=42)"
   ]
  },
  {
   "cell_type": "code",
   "execution_count": null,
   "metadata": {},
   "outputs": [],
   "source": [
    "model = model.fit(X_train, y_train)"
   ]
  },
  {
   "cell_type": "code",
   "execution_count": null,
   "metadata": {},
   "outputs": [],
   "source": [
    "y_pred_train = model.predict(X_train)\n",
    "accuracy = np.mean(y_pred_train == y_train)\n",
    "print(f'Train accuracy = {accuracy}')"
   ]
  },
  {
   "cell_type": "code",
   "execution_count": null,
   "metadata": {},
   "outputs": [],
   "source": [
    "y_pred_test = model.predict(X_test)\n",
    "accuracy = np.mean(y_pred_test == y_test)\n",
    "print(f'Test accuracy = {accuracy}')"
   ]
  },
  {
   "cell_type": "markdown",
   "metadata": {},
   "source": [
    "# 2)"
   ]
  },
  {
   "cell_type": "code",
   "execution_count": null,
   "metadata": {},
   "outputs": [],
   "source": [
    "X_transformed = model._feature_engineering(features, target, train=False)\n",
    "\n",
    "feature_names = X_transformed.columns\n",
    "categorical_features = [feature_id for feature_id, feature in enumerate(feature_names) \n",
    "                         if X_transformed[feature].dtype.name == 'category']\n",
    "\n",
    "categorical_mapping = {feature_names[feature]: dict(zip(features.iloc[:,feature].cat.codes, \n",
    "                                                        features.iloc[:,feature].values)) \n",
    "                       for feature in categorical_features}\n",
    "\n",
    "for categoric_feature in categorical_features:\n",
    "    X_transformed.iloc[:, categoric_feature] = X_transformed.iloc[:, categoric_feature].cat.codes\n",
    "\n",
    "feature_names = list(X_transformed.columns)\n",
    "\n",
    "model.model.fit(X_transformed, target)\n",
    "\n",
    "X_transformed.head()\n",
    "\n",
    "def predict_fn(x):\n",
    "    return model.model.predict_proba(x)[::, 1]\n",
    "\n",
    "def cp_profile(data: pd.DataFrame, \n",
    "               observations: Union[int, List[int]],\n",
    "               variable_name: str,\n",
    "              ) -> None:\n",
    "    predictions = []\n",
    "    observations = observations if isinstance(observations, list) else [observations]\n",
    "    \n",
    "    obs = data.loc[0, variable_name]\n",
    "    obs_pred = predict_fn(X_transformed.iloc[0:1, :])[0]\n",
    "    \n",
    "    for observation in tqdm(observations):\n",
    "        _range = (np.nanmin(data[variable_name]), np.nanmax(data[variable_name]))\n",
    "        if data[variable_name].nunique() < 1000:\n",
    "            linspace = np.sort(np.unique(data[variable_name].dropna()))\n",
    "        else:\n",
    "            linspace = np.linspace(start=_range[0], stop=_range[1], num=1000)\n",
    "        clones = pd.concat(\n",
    "            [data.iloc[observation:(observation+1),:]] * len(linspace), ignore_index=True)\n",
    "        clones[variable_name] = linspace\n",
    "        pred = predict_fn(clones)\n",
    "        predictions.append(pred)\n",
    "    \n",
    "    plt.style.use('seaborn-whitegrid')\n",
    "    plt.figure(figsize=(24, 8), facecolor='w')\n",
    "    for pred_id, pred in enumerate(predictions):\n",
    "        if not pred_id:\n",
    "            plt.scatter(obs, obs_pred, color='#FF8C00', s=200)\n",
    "            plt.plot(linspace, pred, color='#FF8C00', lw=5, zorder=10)\n",
    "        else:\n",
    "            plt.plot(linspace, pred, color='#00B1EB', alpha=0.3, zorder=-1)\n",
    "        if variable_name in categorical_mapping:\n",
    "            plt.xticks(\n",
    "                linspace, \n",
    "                list(map(lambda x: categorical_mapping[variable_name][x], linspace)), \n",
    "                fontsize=18)\n",
    "        else:\n",
    "            plt.xticks(fontsize=18)\n",
    "    plt.xlabel(variable_name, fontsize=24)\n",
    "    plt.ylabel('Predykcja modelu', fontsize=24)\n",
    "    plt.yticks(fontsize=18)\n",
    "    plt.show()"
   ]
  },
  {
   "cell_type": "code",
   "execution_count": null,
   "metadata": {},
   "outputs": [],
   "source": [
    "prediction = predict_fn(X_transformed.iloc[0:1, :])[0]\n",
    "print(f'Predykcja modelu:\\t{int(prediction>0.5)} ({prediction})')"
   ]
  },
  {
   "cell_type": "markdown",
   "metadata": {},
   "source": [
    "# 3)"
   ]
  },
  {
   "cell_type": "code",
   "execution_count": null,
   "metadata": {
    "scrolled": false
   },
   "outputs": [],
   "source": [
    "INTERESTING_FEATURES = [\n",
    "    'lead_time',\n",
    "    'booking_changes',\n",
    "    'previous_cancellations_percent',\n",
    "    'previous_bookings_not_canceled_percent',\n",
    "    'required_car_parking_spaces'\n",
    "]\n",
    "\n",
    "\n",
    "for feature in INTERESTING_FEATURES:\n",
    "    cp_profile(X_transformed, list(range(50)), feature)"
   ]
  },
  {
   "cell_type": "markdown",
   "metadata": {},
   "source": [
    "# 4)"
   ]
  },
  {
   "cell_type": "code",
   "execution_count": null,
   "metadata": {},
   "outputs": [],
   "source": [
    "variable_name = 'is_repeated_guest'\n",
    "\n",
    "found_asc = False\n",
    "found_desc = False\n",
    "\n",
    "for obs_id in range(len(X_transformed)):\n",
    "    obs = X_transformed.iloc[obs_id:(obs_id+1), :]\n",
    "    a = obs.copy()\n",
    "    b = obs.copy()\n",
    "    a[variable_name] = 0\n",
    "    b[variable_name] = 1\n",
    "    preds = [predict_fn(a)[0], predict_fn(b)[0]]\n",
    "    if not found_asc and preds[0] - preds[1] > 0.2:\n",
    "        found_asc = True\n",
    "        display(obs)\n",
    "        print(preds)\n",
    "    if not found_desc and preds[1] - preds[0] > 0.4:\n",
    "        found_desc = True\n",
    "        display(obs)\n",
    "        print(preds)\n",
    "    if found_asc and found_desc:\n",
    "        break"
   ]
  },
  {
   "cell_type": "code",
   "execution_count": null,
   "metadata": {},
   "outputs": [],
   "source": [
    "print(f\"Procent powracających gości: {np.mean(X_transformed[variable_name])}\")"
   ]
  },
  {
   "cell_type": "markdown",
   "metadata": {},
   "source": [
    "# 5)"
   ]
  },
  {
   "cell_type": "code",
   "execution_count": null,
   "metadata": {},
   "outputs": [],
   "source": [
    "model = LogisticRegressionModel()"
   ]
  },
  {
   "cell_type": "code",
   "execution_count": null,
   "metadata": {},
   "outputs": [],
   "source": [
    "model = model.fit(X_train, y_train)"
   ]
  },
  {
   "cell_type": "code",
   "execution_count": null,
   "metadata": {},
   "outputs": [],
   "source": [
    "y_pred_train = model.predict(X_train)\n",
    "accuracy = np.mean(y_pred_train == y_train)\n",
    "print(f'Train accuracy = {accuracy}')"
   ]
  },
  {
   "cell_type": "code",
   "execution_count": null,
   "metadata": {},
   "outputs": [],
   "source": [
    "y_pred_test = model.predict(X_test)\n",
    "accuracy = np.mean(y_pred_test == y_test)\n",
    "print(f'Test accuracy = {accuracy}')"
   ]
  },
  {
   "cell_type": "code",
   "execution_count": null,
   "metadata": {},
   "outputs": [],
   "source": [
    "X_transformed = model._feature_engineering(features, target, train=False)\n",
    "\n",
    "feature_names = X_transformed.columns\n",
    "categorical_features = [feature_id for feature_id, feature in enumerate(feature_names) \n",
    "                         if X_transformed[feature].dtype.name == 'category']\n",
    "\n",
    "categorical_mapping = {feature_names[feature]: dict(zip(features.iloc[:,feature].cat.codes, \n",
    "                                                        features.iloc[:,feature].values)) \n",
    "                       for feature in categorical_features}\n",
    "\n",
    "for categoric_feature in categorical_features:\n",
    "    X_transformed.iloc[:, categoric_feature] = X_transformed.iloc[:, categoric_feature].cat.codes\n",
    "\n",
    "feature_names = list(X_transformed.columns)\n",
    "\n",
    "model.model.fit(X_transformed, target)\n",
    "\n",
    "X_transformed.head()\n",
    "\n",
    "def predict_fn(x):\n",
    "    return model.model.predict_proba(x)[::, 1]\n",
    "\n",
    "def cp_profile(data: pd.DataFrame, \n",
    "               observations: Union[int, List[int]],\n",
    "               variable_name: str,\n",
    "              ) -> None:\n",
    "    predictions = []\n",
    "    observations = observations if isinstance(observations, list) else [observations]\n",
    "    \n",
    "    obs = data.loc[0, variable_name]\n",
    "    obs_pred = predict_fn(X_transformed.iloc[0:1, :])[0]\n",
    "    \n",
    "    _range = (np.nanmin(data[variable_name]), np.nanmax(data[variable_name]))\n",
    "    if data[variable_name].nunique() < 1000:\n",
    "        linspace = np.sort(np.unique(data[variable_name].dropna()))\n",
    "    else:\n",
    "        linspace = np.linspace(start=_range[0], stop=_range[1], num=1000)\n",
    "    \n",
    "    for observation in tqdm(observations):\n",
    "        clones = pd.concat(\n",
    "            [data.iloc[observation:(observation+1),:]] * len(linspace), ignore_index=True)\n",
    "        clones[variable_name] = linspace\n",
    "        pred = predict_fn(clones)\n",
    "        predictions.append(pred)\n",
    "    \n",
    "    plt.style.use('seaborn-whitegrid')\n",
    "    plt.figure(figsize=(24, 8), facecolor='w')\n",
    "    for pred_id, pred in enumerate(predictions):\n",
    "        if not pred_id:\n",
    "            plt.scatter(obs, obs_pred, color='#FF8C00', s=200)\n",
    "            plt.plot(linspace, pred, color='#FF8C00', lw=5, zorder=10)\n",
    "        else:\n",
    "            plt.plot(linspace, pred, color='#00B1EB', alpha=0.3, zorder=-1)\n",
    "    plt.xticks(fontsize=18)\n",
    "    plt.xlabel(variable_name, fontsize=24)\n",
    "    plt.ylabel('Predykcja modelu', fontsize=24)\n",
    "    plt.yticks(fontsize=18)\n",
    "    plt.show()"
   ]
  },
  {
   "cell_type": "code",
   "execution_count": null,
   "metadata": {},
   "outputs": [],
   "source": [
    "prediction = predict_fn(X_transformed.iloc[0:1, :])[0]\n",
    "print(f'Predykcja modelu:\\t{int(prediction>0.5)} ({prediction})')"
   ]
  },
  {
   "cell_type": "code",
   "execution_count": null,
   "metadata": {
    "scrolled": false
   },
   "outputs": [],
   "source": [
    "INTERESTING_FEATURES = [\n",
    "    'lead_time',\n",
    "    'booking_changes',\n",
    "    'previous_cancellations_percent',\n",
    "    'previous_bookings_not_canceled_percent',\n",
    "    'required_car_parking_spaces'\n",
    "]\n",
    "\n",
    "\n",
    "for feature in INTERESTING_FEATURES:\n",
    "    cp_profile(X_transformed, list(range(50)), feature)"
   ]
  }
 ],
 "metadata": {
  "kernelspec": {
   "display_name": "Python 3",
   "language": "python",
   "name": "python3"
  },
  "language_info": {
   "codemirror_mode": {
    "name": "ipython",
    "version": 3
   },
   "file_extension": ".py",
   "mimetype": "text/x-python",
   "name": "python",
   "nbconvert_exporter": "python",
   "pygments_lexer": "ipython3",
   "version": "3.6.7"
  }
 },
 "nbformat": 4,
 "nbformat_minor": 2
}
